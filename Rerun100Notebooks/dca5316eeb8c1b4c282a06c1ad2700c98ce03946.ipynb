{
 "cells": [
  {
   "cell_type": "markdown",
   "metadata": {},
   "source": [
    "# Assignment 6 Solutions"
   ]
  },
  {
   "cell_type": "markdown",
   "metadata": {},
   "source": [
    "#### 1.What are Escape characters ? and how do you use them ?\n",
    "**Ans:** Escape characters represent characters in string values that would otherwise be difficult or impossible to type into code. we can use the backslash `character` to escape a single character or symbol  \n",
    "**example:** `\\t, \\n`\n"
   ]
  },
  {
   "cell_type": "markdown",
   "metadata": {},
   "source": [
    "#### 2.What do the escape characters n and t stand for ?\n",
    "**Ans:** `\\n` is a newline, `\\t` is a tab"
   ]
  },
  {
   "cell_type": "markdown",
   "metadata": {},
   "source": [
    "#### 3.What is the way to include backslash character in a string?\n",
    "**Ans:** The `\\\\` escape character will represent the backslash character in a string"
   ]
  },
  {
   "cell_type": "markdown",
   "metadata": {},
   "source": [
    "#### 4.The string \"Howl's Moving Castle\" is a correct value. Why isn't the single quote character in the word Howl's not escaped a problem ?\n",
    "**Ans:** The string `\"Howl's Moving Castle\"` escaped the problem because it is wrapped inside double quotes. if its wrapped inside single quotes then we have to use escape character `\\'` to show single quote in the final output  \n",
    "`'Howl\\'s Moving Castle'` **`->`** `'Howl's Moving Castle'`"
   ]
  },
  {
   "cell_type": "markdown",
   "metadata": {},
   "source": [
    "#### 5.How do you write a string of newlines if you don't want to use the n character?\n",
    "**Ans:**  Multiline string allow you to use newlines in string without the `\\n` escape character  "
   ]
  },
  {
   "cell_type": "code",
   "execution_count": 2,
   "metadata": {
    "error": [
     {
      "ename": "KeyError",
      "evalue": "2",
      "output_type": "error",
      "traceback": [
       "\u001b[0;31m---------------------------------------------------------------------------\u001b[0m",
       "\u001b[0;31mKeyError\u001b[0m                                  Traceback (most recent call last)",
       "Cell \u001b[0;32mIn[3], line 1\u001b[0m\n\u001b[0;32m----> 1\u001b[0m json\u001b[38;5;241m.\u001b[39mdumps([typehandlerforuniqueobjects(\u001b[43mOut\u001b[49m\u001b[43m[\u001b[49m\u001b[38;5;241;43m2\u001b[39;49m\u001b[43m]\u001b[49m)])\n",
       "\u001b[0;31mKeyError\u001b[0m: 2"
      ]
     }
    ],
    "execution": {
     "iopub.execute_input": "2023-10-05T17:41:25.266049Z",
     "iopub.status.busy": "2023-10-05T17:41:25.265766Z",
     "iopub.status.idle": "2023-10-05T17:41:25.271467Z",
     "shell.execute_reply": "2023-10-05T17:41:25.270350Z"
    }
   },
   "outputs": [
    {
     "name": "stdout",
     "output_type": "stream",
     "text": [
      "iNeuron full stack\n",
      "Data Science Course\n"
     ]
    }
   ],
   "source": [
    "# Example:\n",
    "a = '''iNeuron full stack\n",
    "Data Science Course'''\n",
    "print(a)"
   ]
  },
  {
   "cell_type": "markdown",
   "metadata": {},
   "source": [
    "#### 6.What are the values of the given expressions ?\n",
    "'Hello, world!'[1]  \n",
    "'Hello, world!'[0:5]  \n",
    "'Hello, world!'[:5]  \n",
    "'Hello, world!'[3:]  "
   ]
  },
  {
   "cell_type": "markdown",
   "metadata": {},
   "source": [
    "**Ans:** The values for the given expressions are:  \n",
    "'Hello, world!'[1] **`->`**  `'e'`  \n",
    "'Hello, world!'[0:5] **`->`**  `'Hello'`  \n",
    "'Hello, world!'[:5] **`->`**  `'Hello'`  \n",
    "'Hello, world!'[3:] **`->`**  `'lo, world!'`"
   ]
  },
  {
   "cell_type": "markdown",
   "metadata": {},
   "source": [
    "#### 7.What are the values of the following expressions ?\n",
    "'Hello'.upper()  \n",
    "'Hello'.upper().isupper()  \n",
    "'Hello'.upper().lower()    \n",
    "\n",
    "**Ans:** The values for the given expressions are:  \n",
    "'Hello'.upper() **`->`** `'HELLO'`  \n",
    "'Hello'.upper().isupper() **`->`**  `True`    \n",
    "'Hello'.upper().lower() **`->`** `'hello'`  "
   ]
  },
  {
   "cell_type": "markdown",
   "metadata": {},
   "source": [
    "#### 8.What are the values of the following expressions ?\n",
    "'Remember, remember, the fifith of July.'.split()  \n",
    "-'.join('There can only one'.split())\n",
    "\n",
    "**Ans:** The values for the given expressions are:  \n",
    "'Remember, remember, the fifith of July.'.split()  **`->`** `['Remember,', 'remember,', 'the', 'fifith', 'of', 'July.']`  \n",
    "'-'.join('There can only one'.split()) **`->`** `'There-can-only-one'` "
   ]
  },
  {
   "cell_type": "markdown",
   "metadata": {},
   "source": [
    "#### 9.What are the methods for right-justifying, left-justifying and centering a string ?\n",
    "**Ans:** The `rjust()`,`ljust()`,`center()` string methods, respectively"
   ]
  },
  {
   "cell_type": "markdown",
   "metadata": {},
   "source": [
    "#### 10.What is the best way to remove whitespace characters from the start or end ?\n",
    "**Ans:** The `lstrip()` and `rstrip()` methods remove whitesapce characters from the left and right ends of a string respectively"
   ]
  }
 ],
 "metadata": {
  "kernelspec": {
   "display_name": "Python 3",
   "language": "python",
   "name": "python3"
  },
  "language_info": {
   "codemirror_mode": {
    "name": "ipython",
    "version": 3
   },
   "file_extension": ".py",
   "mimetype": "text/x-python",
   "name": "python",
   "nbconvert_exporter": "python",
   "pygments_lexer": "ipython3",
   "version": "3.8.17"
  }
 },
 "nbformat": 4,
 "nbformat_minor": 4
}
