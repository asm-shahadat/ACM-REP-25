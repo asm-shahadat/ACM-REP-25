{
 "cells": [
  {
   "cell_type": "markdown",
   "id": "817ab5c5",
   "metadata": {},
   "source": [
    "### Create a function that takes three arguments a, b, c and returns the sum of the numbers that are evenly divided by c from the range a, b inclusive."
   ]
  },
  {
   "cell_type": "code",
   "execution_count": 2,
   "id": "3a72295a",
   "metadata": {
    "execution": {
     "iopub.execute_input": "2023-10-05T00:16:16.485112Z",
     "iopub.status.busy": "2023-10-05T00:16:16.484823Z",
     "iopub.status.idle": "2023-10-05T00:16:16.496556Z",
     "shell.execute_reply": "2023-10-05T00:16:16.495458Z"
    },
    "type_information": "[{\"type\": \"<class 'str'>\", \"name\": \"str\", \"module\": \"builtins\", \"size\": 100}]"
   },
   "outputs": [
    {
     "data": {
      "text/plain": [
       "'No number between 1 & 10 can be divided evenly by 2'"
      ]
     },
     "execution_count": 2,
     "metadata": {},
     "output_type": "execute_result"
    }
   ],
   "source": [
    "#Not correct\n",
    "def evenly_divisible(a, b, c):\n",
    "    temp  = [i for i in range(a,b+1, c)]\n",
    "    if temp[-1]==b:\n",
    "        return sum(temp)\n",
    "    return f\"No number between {a} & {b} can be divided evenly by {c}\"\n",
    "\n",
    "evenly_divisible(1, 10, 2)"
   ]
  },
  {
   "cell_type": "markdown",
   "id": "5863ed33",
   "metadata": {},
   "source": [
    "###  Create a function that returns True if a given inequality expression is correct and False otherwise."
   ]
  },
  {
   "cell_type": "code",
   "execution_count": 4,
   "id": "05da6a67",
   "metadata": {
    "execution": {
     "iopub.execute_input": "2023-10-05T00:16:16.509784Z",
     "iopub.status.busy": "2023-10-05T00:16:16.509508Z",
     "iopub.status.idle": "2023-10-05T00:16:16.515503Z",
     "shell.execute_reply": "2023-10-05T00:16:16.514618Z"
    },
    "type_information": "[{\"type\": \"<class 'bool'>\", \"name\": \"bool\", \"module\": \"builtins\", \"size\": 24}]"
   },
   "outputs": [
    {
     "data": {
      "text/plain": [
       "False"
      ]
     },
     "execution_count": 4,
     "metadata": {},
     "output_type": "execute_result"
    }
   ],
   "source": [
    "def correct_signs(string):\n",
    "    return eval(string)\n",
    "\n",
    "correct_signs(\"13 > 44 > 33 > 1\")"
   ]
  },
  {
   "cell_type": "markdown",
   "id": "d6224196",
   "metadata": {},
   "source": [
    "### Create a function that replaces all the vowels in a string with a specified character."
   ]
  },
  {
   "cell_type": "code",
   "execution_count": 6,
   "id": "04c88bfa",
   "metadata": {
    "execution": {
     "iopub.execute_input": "2023-10-05T00:16:16.528326Z",
     "iopub.status.busy": "2023-10-05T00:16:16.527979Z",
     "iopub.status.idle": "2023-10-05T00:16:16.535408Z",
     "shell.execute_reply": "2023-10-05T00:16:16.534516Z"
    },
    "type_information": "[{\"type\": \"<class 'str'>\", \"name\": \"str\", \"module\": \"builtins\", \"size\": 61}]"
   },
   "outputs": [
    {
     "data": {
      "text/plain": [
       "'th# ##rdv#rk'"
      ]
     },
     "execution_count": 6,
     "metadata": {},
     "output_type": "execute_result"
    }
   ],
   "source": [
    "def replace_vowels(string, character):\n",
    "    s=''\n",
    "    for ch in string:\n",
    "        if ch in \"aeiou\":\n",
    "            ch = character\n",
    "        s+=ch\n",
    "    return s\n",
    "\n",
    "\n",
    "replace_vowels(\"the aardvark\", \"#\") "
   ]
  },
  {
   "cell_type": "markdown",
   "id": "b7d83155",
   "metadata": {},
   "source": [
    "### Write a function that calculates the factorial of a number recursively."
   ]
  },
  {
   "cell_type": "code",
   "execution_count": 8,
   "id": "c773808d",
   "metadata": {
    "execution": {
     "iopub.execute_input": "2023-10-05T00:16:16.547830Z",
     "iopub.status.busy": "2023-10-05T00:16:16.547553Z",
     "iopub.status.idle": "2023-10-05T00:16:16.553845Z",
     "shell.execute_reply": "2023-10-05T00:16:16.553000Z"
    },
    "type_information": "[{\"type\": \"<class 'int'>\", \"name\": \"int\", \"module\": \"builtins\", \"size\": 28}]"
   },
   "outputs": [
    {
     "data": {
      "text/plain": [
       "5040"
      ]
     },
     "execution_count": 8,
     "metadata": {},
     "output_type": "execute_result"
    }
   ],
   "source": [
    "def factorial(n):\n",
    "    if n==1:\n",
    "        return 1\n",
    "    return n*factorial(n-1)\n",
    "\n",
    "factorial(7)"
   ]
  },
  {
   "cell_type": "code",
   "execution_count": null,
   "id": "a197dcca",
   "metadata": {},
   "outputs": [],
   "source": []
  }
 ],
 "metadata": {
  "kernelspec": {
   "display_name": "Python 3 (ipykernel)",
   "language": "python",
   "name": "python3"
  },
  "language_info": {
   "codemirror_mode": {
    "name": "ipython",
    "version": 3
   },
   "file_extension": ".py",
   "mimetype": "text/x-python",
   "name": "python",
   "nbconvert_exporter": "python",
   "pygments_lexer": "ipython3",
   "version": "3.9.18"
  }
 },
 "nbformat": 4,
 "nbformat_minor": 5
}
