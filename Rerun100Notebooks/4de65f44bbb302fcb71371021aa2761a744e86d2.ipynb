{
 "cells": [
  {
   "cell_type": "markdown",
   "id": "2c4a11db",
   "metadata": {},
   "source": [
    "# Introduction"
   ]
  },
  {
   "cell_type": "markdown",
   "id": "3a3eefdc",
   "metadata": {},
   "source": [
    "Museums are important spaces for artists, as they can bring many opportunities through the celebration, exposure, and preservation of their work to the public. People from all around the world travel to the U.S. to visit major art museums and see art pieces that are exclusively shown in America. The U.S. is considered to be a large influence in shaping the art world and changing the way people perceive art, as the nation’s individualist values open the floor to new ideas and the deconstruction and reevaluation of old systems and traditional thought processes. \n",
    "   \n",
    "However, it is important to note that historically, the art world has been criticized for its lack of diversity in artist representation in museums—with the representation of artists in U.S. museums being predominately Caucasian and male. This can be traced back to the world’s tumultuous history of systemic issues put in place by colonialism and imperialism. Although centuries ago, these issues heavily contributed to the social, political, and economic disparities visible in the global hierarchy today. Colonization and imperialism are responsible for the euro-centric standards that artists are often subjected to, as people of color and other marginalized communities face extra barriers to displaying and preserving their work in museums. While there has been an active push for museums in the U.S. to become more inclusive and representative of the various cultures and backgrounds that make up the United States as well as the world, there is still much work to be done to empower artists and celebrate diversity in the art world.\n",
    "\n",
    "This project uses data from the paper \"Diversity of Artists in Major U.S. Museums\" by Topaz, Klingenberg, Turek, Heggeseth, Harris, Blackwood, Chavoya, Nelson, and Murphy to explore the representation of artists in U.S. museums and analyze how history directly impacts diversity in the art world today."
   ]
  },
  {
   "cell_type": "markdown",
   "id": "3d972d01",
   "metadata": {},
   "source": [
    "# Exploratory Data Analysis"
   ]
  },
  {
   "cell_type": "markdown",
   "id": "09673863",
   "metadata": {},
   "source": [
    "Using data from the paper \"Diversity of Artists in Major U.S. Museums\" by Topaz, Klingenberg, Turek, Heggeseth, Harris, Blackwood, Chavoya, Nelson, and Murphy, I scraped data from 18 major U.S. museums found on publicly accessible websites and found about 10,000 artist records. Before scraping, the research article's Terms of Service stated that their data could be used for research purposed and duplicated. Pandas was used to clean the data and replaced null values with placeholders for unknown data. NaNs were present in all data columns (artist, museum, gender, ethnicity, GEO3major, and year) and replaced with “unknown.” \n",
    "\n",
    "Visualizations were created with Pandas, Maplotlib, and Seaborn. "
   ]
  },
  {
   "cell_type": "code",
   "execution_count": 2,
   "id": "6399ee31",
   "metadata": {
    "execution": {
     "iopub.execute_input": "2023-10-05T05:25:02.458629Z",
     "iopub.status.busy": "2023-10-05T05:25:02.458335Z",
     "iopub.status.idle": "2023-10-05T05:25:04.115543Z",
     "shell.execute_reply": "2023-10-05T05:25:04.114569Z"
    },
    "type_information": "[{\"type\": \"<class 'pandas.core.frame.DataFrame'>\", \"name\": \"DataFrame\", \"module\": \"pandas.core.frame\", \"size\": 3437764, \"shape\": \"(10108, 6)\", \"dtype\": \"artist        object\\nmuseum        object\\ngender        object\\nethnicity     object\\nGEO3major     object\\nyear         float64\\ndtype: object\"}]"
   },
   "outputs": [
    {
     "data": {
      "text/html": [
       "<div>\n",
       "<style scoped>\n",
       "    .dataframe tbody tr th:only-of-type {\n",
       "        vertical-align: middle;\n",
       "    }\n",
       "\n",
       "    .dataframe tbody tr th {\n",
       "        vertical-align: top;\n",
       "    }\n",
       "\n",
       "    .dataframe thead th {\n",
       "        text-align: right;\n",
       "    }\n",
       "</style>\n",
       "<table border=\"1\" class=\"dataframe\">\n",
       "  <thead>\n",
       "    <tr style=\"text-align: right;\">\n",
       "      <th></th>\n",
       "      <th>artist</th>\n",
       "      <th>museum</th>\n",
       "      <th>gender</th>\n",
       "      <th>ethnicity</th>\n",
       "      <th>GEO3major</th>\n",
       "      <th>year</th>\n",
       "    </tr>\n",
       "  </thead>\n",
       "  <tbody>\n",
       "    <tr>\n",
       "      <th>0</th>\n",
       "      <td>Kikugawa Eishin (Hideyoshi)</td>\n",
       "      <td>Art Institute of Chicago</td>\n",
       "      <td>NaN</td>\n",
       "      <td>asian</td>\n",
       "      <td>Asia and the Pacific</td>\n",
       "      <td>NaN</td>\n",
       "    </tr>\n",
       "    <tr>\n",
       "      <th>1</th>\n",
       "      <td>Gordon C. Abbott</td>\n",
       "      <td>Art Institute of Chicago</td>\n",
       "      <td>man</td>\n",
       "      <td>white</td>\n",
       "      <td>North America</td>\n",
       "      <td>1880.0</td>\n",
       "    </tr>\n",
       "    <tr>\n",
       "      <th>2</th>\n",
       "      <td>Sigmund Abeles</td>\n",
       "      <td>Art Institute of Chicago</td>\n",
       "      <td>man</td>\n",
       "      <td>white</td>\n",
       "      <td>North America</td>\n",
       "      <td>1930.0</td>\n",
       "    </tr>\n",
       "    <tr>\n",
       "      <th>3</th>\n",
       "      <td>Albrecht Adam</td>\n",
       "      <td>Art Institute of Chicago</td>\n",
       "      <td>man</td>\n",
       "      <td>white</td>\n",
       "      <td>Europe</td>\n",
       "      <td>1790.0</td>\n",
       "    </tr>\n",
       "    <tr>\n",
       "      <th>4</th>\n",
       "      <td>Architects David Adler</td>\n",
       "      <td>Art Institute of Chicago</td>\n",
       "      <td>man</td>\n",
       "      <td>white</td>\n",
       "      <td>NaN</td>\n",
       "      <td>1880.0</td>\n",
       "    </tr>\n",
       "    <tr>\n",
       "      <th>...</th>\n",
       "      <td>...</td>\n",
       "      <td>...</td>\n",
       "      <td>...</td>\n",
       "      <td>...</td>\n",
       "      <td>...</td>\n",
       "      <td>...</td>\n",
       "    </tr>\n",
       "    <tr>\n",
       "      <th>10103</th>\n",
       "      <td>Magnus Zeller</td>\n",
       "      <td>Yale University Art Gallery</td>\n",
       "      <td>man</td>\n",
       "      <td>white</td>\n",
       "      <td>Europe</td>\n",
       "      <td>1890.0</td>\n",
       "    </tr>\n",
       "    <tr>\n",
       "      <th>10104</th>\n",
       "      <td>Sun Zhi</td>\n",
       "      <td>Yale University Art Gallery</td>\n",
       "      <td>man</td>\n",
       "      <td>asian</td>\n",
       "      <td>Asia and the Pacific</td>\n",
       "      <td>NaN</td>\n",
       "    </tr>\n",
       "    <tr>\n",
       "      <th>10105</th>\n",
       "      <td>Rufus Fairchild Zogbaum</td>\n",
       "      <td>Yale University Art Gallery</td>\n",
       "      <td>man</td>\n",
       "      <td>white</td>\n",
       "      <td>North America</td>\n",
       "      <td>1850.0</td>\n",
       "    </tr>\n",
       "    <tr>\n",
       "      <th>10106</th>\n",
       "      <td>Anders Leonard Zorn</td>\n",
       "      <td>Yale University Art Gallery</td>\n",
       "      <td>man</td>\n",
       "      <td>white</td>\n",
       "      <td>Europe</td>\n",
       "      <td>1860.0</td>\n",
       "    </tr>\n",
       "    <tr>\n",
       "      <th>10107</th>\n",
       "      <td>Francisco Zuniga</td>\n",
       "      <td>Yale University Art Gallery</td>\n",
       "      <td>man</td>\n",
       "      <td>NaN</td>\n",
       "      <td>Latin America and the Caribbean</td>\n",
       "      <td>1910.0</td>\n",
       "    </tr>\n",
       "  </tbody>\n",
       "</table>\n",
       "<p>10108 rows × 6 columns</p>\n",
       "</div>"
      ],
      "text/plain": [
       "                            artist                       museum gender  \\\n",
       "0      Kikugawa Eishin (Hideyoshi)     Art Institute of Chicago    NaN   \n",
       "1                 Gordon C. Abbott     Art Institute of Chicago    man   \n",
       "2                   Sigmund Abeles     Art Institute of Chicago    man   \n",
       "3                    Albrecht Adam     Art Institute of Chicago    man   \n",
       "4           Architects David Adler     Art Institute of Chicago    man   \n",
       "...                            ...                          ...    ...   \n",
       "10103                Magnus Zeller  Yale University Art Gallery    man   \n",
       "10104                      Sun Zhi  Yale University Art Gallery    man   \n",
       "10105      Rufus Fairchild Zogbaum  Yale University Art Gallery    man   \n",
       "10106          Anders Leonard Zorn  Yale University Art Gallery    man   \n",
       "10107             Francisco Zuniga  Yale University Art Gallery    man   \n",
       "\n",
       "      ethnicity                        GEO3major    year  \n",
       "0         asian             Asia and the Pacific     NaN  \n",
       "1         white                    North America  1880.0  \n",
       "2         white                    North America  1930.0  \n",
       "3         white                           Europe  1790.0  \n",
       "4         white                              NaN  1880.0  \n",
       "...         ...                              ...     ...  \n",
       "10103     white                           Europe  1890.0  \n",
       "10104     asian             Asia and the Pacific     NaN  \n",
       "10105     white                    North America  1850.0  \n",
       "10106     white                           Europe  1860.0  \n",
       "10107       NaN  Latin America and the Caribbean  1910.0  \n",
       "\n",
       "[10108 rows x 6 columns]"
      ]
     },
     "execution_count": 2,
     "metadata": {},
     "output_type": "execute_result"
    }
   ],
   "source": [
    "# importing data\n",
    "import pandas as pd\n",
    "import matplotlib.pyplot as plt\n",
    "df = pd.read_csv('https://raw.githubusercontent.com/artofstat/ArtistDiversity/master/artistdata.csv')\n",
    "df"
   ]
  },
  {
   "cell_type": "code",
   "execution_count": 4,
   "id": "b1638999",
   "metadata": {
    "execution": {
     "iopub.execute_input": "2023-10-05T05:25:04.146288Z",
     "iopub.status.busy": "2023-10-05T05:25:04.145990Z",
     "iopub.status.idle": "2023-10-05T05:25:04.651518Z",
     "shell.execute_reply": "2023-10-05T05:25:04.650479Z"
    }
   },
   "outputs": [],
   "source": [
    "#importing seaborn to notebook\n",
    "import seaborn as sns"
   ]
  },
  {
   "cell_type": "code",
   "execution_count": 5,
   "id": "5402e670",
   "metadata": {
    "execution": {
     "iopub.execute_input": "2023-10-05T05:25:04.655761Z",
     "iopub.status.busy": "2023-10-05T05:25:04.655377Z",
     "iopub.status.idle": "2023-10-05T05:25:04.669508Z",
     "shell.execute_reply": "2023-10-05T05:25:04.668576Z"
    },
    "type_information": "[{\"type\": \"<class 'pandas.core.frame.DataFrame'>\", \"name\": \"DataFrame\", \"module\": \"pandas.core.frame\", \"size\": 563, \"shape\": \"(8, 1)\", \"dtype\": \"year    float64\\ndtype: object\"}]"
   },
   "outputs": [
    {
     "data": {
      "text/html": [
       "<div>\n",
       "<style scoped>\n",
       "    .dataframe tbody tr th:only-of-type {\n",
       "        vertical-align: middle;\n",
       "    }\n",
       "\n",
       "    .dataframe tbody tr th {\n",
       "        vertical-align: top;\n",
       "    }\n",
       "\n",
       "    .dataframe thead th {\n",
       "        text-align: right;\n",
       "    }\n",
       "</style>\n",
       "<table border=\"1\" class=\"dataframe\">\n",
       "  <thead>\n",
       "    <tr style=\"text-align: right;\">\n",
       "      <th></th>\n",
       "      <th>year</th>\n",
       "    </tr>\n",
       "  </thead>\n",
       "  <tbody>\n",
       "    <tr>\n",
       "      <th>count</th>\n",
       "      <td>8026.000000</td>\n",
       "    </tr>\n",
       "    <tr>\n",
       "      <th>mean</th>\n",
       "      <td>1865.613008</td>\n",
       "    </tr>\n",
       "    <tr>\n",
       "      <th>std</th>\n",
       "      <td>123.300324</td>\n",
       "    </tr>\n",
       "    <tr>\n",
       "      <th>min</th>\n",
       "      <td>-400.000000</td>\n",
       "    </tr>\n",
       "    <tr>\n",
       "      <th>25%</th>\n",
       "      <td>1830.000000</td>\n",
       "    </tr>\n",
       "    <tr>\n",
       "      <th>50%</th>\n",
       "      <td>1900.000000</td>\n",
       "    </tr>\n",
       "    <tr>\n",
       "      <th>75%</th>\n",
       "      <td>1940.000000</td>\n",
       "    </tr>\n",
       "    <tr>\n",
       "      <th>max</th>\n",
       "      <td>1990.000000</td>\n",
       "    </tr>\n",
       "  </tbody>\n",
       "</table>\n",
       "</div>"
      ],
      "text/plain": [
       "              year\n",
       "count  8026.000000\n",
       "mean   1865.613008\n",
       "std     123.300324\n",
       "min    -400.000000\n",
       "25%    1830.000000\n",
       "50%    1900.000000\n",
       "75%    1940.000000\n",
       "max    1990.000000"
      ]
     },
     "execution_count": 5,
     "metadata": {},
     "output_type": "execute_result"
    }
   ],
   "source": [
    "df.describe()"
   ]
  },
  {
   "cell_type": "code",
   "execution_count": 7,
   "id": "c111331a",
   "metadata": {
    "error": [
     {
      "ename": "KeyError",
      "evalue": "7",
      "output_type": "error",
      "traceback": [
       "\u001b[0;31m---------------------------------------------------------------------------\u001b[0m",
       "\u001b[0;31mKeyError\u001b[0m                                  Traceback (most recent call last)",
       "Cell \u001b[0;32mIn[8], line 1\u001b[0m\n\u001b[0;32m----> 1\u001b[0m json\u001b[38;5;241m.\u001b[39mdumps([typehandlerforuniqueobjects(\u001b[43mOut\u001b[49m\u001b[43m[\u001b[49m\u001b[38;5;241;43m7\u001b[39;49m\u001b[43m]\u001b[49m)])\n",
       "\u001b[0;31mKeyError\u001b[0m: 7"
      ]
     }
    ],
    "execution": {
     "iopub.execute_input": "2023-10-05T05:25:04.684954Z",
     "iopub.status.busy": "2023-10-05T05:25:04.684669Z",
     "iopub.status.idle": "2023-10-05T05:25:04.697615Z",
     "shell.execute_reply": "2023-10-05T05:25:04.696806Z"
    }
   },
   "outputs": [
    {
     "name": "stdout",
     "output_type": "stream",
     "text": [
      "<class 'pandas.core.frame.DataFrame'>\n",
      "RangeIndex: 10108 entries, 0 to 10107\n",
      "Data columns (total 6 columns):\n",
      " #   Column     Non-Null Count  Dtype  \n",
      "---  ------     --------------  -----  \n",
      " 0   artist     10108 non-null  object \n",
      " 1   museum     10108 non-null  object \n",
      " 2   gender     9016 non-null   object \n",
      " 3   ethnicity  8296 non-null   object \n",
      " 4   GEO3major  8432 non-null   object \n",
      " 5   year       8026 non-null   float64\n",
      "dtypes: float64(1), object(5)\n",
      "memory usage: 473.9+ KB\n"
     ]
    }
   ],
   "source": [
    "df.info()"
   ]
  },
  {
   "cell_type": "code",
   "execution_count": 9,
   "id": "ae8ae109",
   "metadata": {
    "execution": {
     "iopub.execute_input": "2023-10-05T05:25:05.194963Z",
     "iopub.status.busy": "2023-10-05T05:25:05.194677Z",
     "iopub.status.idle": "2023-10-05T05:25:05.201679Z",
     "shell.execute_reply": "2023-10-05T05:25:05.200701Z"
    },
    "type_information": "[{\"type\": \"<class 'numpy.ndarray'>\", \"name\": \"ndarray\", \"module\": \"numpy\", \"size\": 136, \"shape\": \"(3,)\", \"dtype\": \"object\"}]"
   },
   "outputs": [
    {
     "data": {
      "text/plain": [
       "array([nan, 'man', 'woman'], dtype=object)"
      ]
     },
     "execution_count": 9,
     "metadata": {},
     "output_type": "execute_result"
    }
   ],
   "source": [
    "# unique values comment\n",
    "df['gender'].unique()"
   ]
  },
  {
   "cell_type": "code",
   "execution_count": 11,
   "id": "f7126e3d",
   "metadata": {
    "execution": {
     "iopub.execute_input": "2023-10-05T05:25:05.215307Z",
     "iopub.status.busy": "2023-10-05T05:25:05.215029Z",
     "iopub.status.idle": "2023-10-05T05:25:05.221907Z",
     "shell.execute_reply": "2023-10-05T05:25:05.221097Z"
    },
    "type_information": "[{\"type\": \"<class 'numpy.ndarray'>\", \"name\": \"ndarray\", \"module\": \"numpy\", \"size\": 160, \"shape\": \"(6,)\", \"dtype\": \"object\"}]"
   },
   "outputs": [
    {
     "data": {
      "text/plain": [
       "array(['asian', 'white', nan, 'hispanic', 'other', 'black'], dtype=object)"
      ]
     },
     "execution_count": 11,
     "metadata": {},
     "output_type": "execute_result"
    }
   ],
   "source": [
    "df['ethnicity'].unique()"
   ]
  },
  {
   "cell_type": "markdown",
   "id": "411a47ae",
   "metadata": {},
   "source": [
    "Data cleaning: replacing NaNs with 'unknown' :"
   ]
  },
  {
   "cell_type": "code",
   "execution_count": 13,
   "id": "86f2bd41",
   "metadata": {
    "execution": {
     "iopub.execute_input": "2023-10-05T05:25:05.235273Z",
     "iopub.status.busy": "2023-10-05T05:25:05.234936Z",
     "iopub.status.idle": "2023-10-05T05:25:05.246064Z",
     "shell.execute_reply": "2023-10-05T05:25:05.245245Z"
    },
    "type_information": "[{\"type\": \"<class 'pandas.core.series.Series'>\", \"name\": \"Series\", \"module\": \"pandas.core.series\", \"size\": 576}]"
   },
   "outputs": [
    {
     "data": {
      "text/plain": [
       "artist       False\n",
       "museum       False\n",
       "gender        True\n",
       "ethnicity     True\n",
       "GEO3major     True\n",
       "year          True\n",
       "dtype: bool"
      ]
     },
     "execution_count": 13,
     "metadata": {},
     "output_type": "execute_result"
    }
   ],
   "source": [
    "# are there null values?\n",
    "df.isna().any()"
   ]
  },
  {
   "cell_type": "code",
   "execution_count": 15,
   "id": "72b7ec10",
   "metadata": {
    "execution": {
     "iopub.execute_input": "2023-10-05T05:25:05.258864Z",
     "iopub.status.busy": "2023-10-05T05:25:05.258581Z",
     "iopub.status.idle": "2023-10-05T05:25:05.267885Z",
     "shell.execute_reply": "2023-10-05T05:25:05.267113Z"
    },
    "type_information": "[{\"type\": \"<class 'pandas.core.series.Series'>\", \"name\": \"Series\", \"module\": \"pandas.core.series\", \"size\": 618}]"
   },
   "outputs": [
    {
     "data": {
      "text/plain": [
       "artist          0\n",
       "museum          0\n",
       "gender       1092\n",
       "ethnicity    1812\n",
       "GEO3major    1676\n",
       "year         2082\n",
       "dtype: int64"
      ]
     },
     "execution_count": 15,
     "metadata": {},
     "output_type": "execute_result"
    }
   ],
   "source": [
    "# null values\n",
    "df.isna(). sum()"
   ]
  },
  {
   "cell_type": "code",
   "execution_count": 17,
   "id": "773bdbd3",
   "metadata": {
    "execution": {
     "iopub.execute_input": "2023-10-05T05:25:05.280244Z",
     "iopub.status.busy": "2023-10-05T05:25:05.279944Z",
     "iopub.status.idle": "2023-10-05T05:25:05.288619Z",
     "shell.execute_reply": "2023-10-05T05:25:05.287830Z"
    },
    "type_information": "[{\"type\": \"<class 'numpy.int64'>\", \"name\": \"int64\", \"module\": \"numpy\", \"size\": 32}]"
   },
   "outputs": [
    {
     "data": {
      "text/plain": [
       "4"
      ]
     },
     "execution_count": 17,
     "metadata": {},
     "output_type": "execute_result"
    }
   ],
   "source": [
    "# columns with null values\n",
    "df.isna().any().sum()"
   ]
  },
  {
   "cell_type": "code",
   "execution_count": 19,
   "id": "a175b991",
   "metadata": {
    "execution": {
     "iopub.execute_input": "2023-10-05T05:25:05.301120Z",
     "iopub.status.busy": "2023-10-05T05:25:05.300841Z",
     "iopub.status.idle": "2023-10-05T05:25:05.308549Z",
     "shell.execute_reply": "2023-10-05T05:25:05.307720Z"
    }
   },
   "outputs": [],
   "source": [
    "df.dropna(subset=['gender'], inplace = True)"
   ]
  },
  {
   "cell_type": "code",
   "execution_count": 20,
   "id": "4b4fd328",
   "metadata": {
    "execution": {
     "iopub.execute_input": "2023-10-05T05:25:05.312060Z",
     "iopub.status.busy": "2023-10-05T05:25:05.311754Z",
     "iopub.status.idle": "2023-10-05T05:25:05.321464Z",
     "shell.execute_reply": "2023-10-05T05:25:05.320684Z"
    },
    "type_information": "[{\"type\": \"<class 'pandas.core.frame.DataFrame'>\", \"name\": \"DataFrame\", \"module\": \"pandas.core.frame\", \"size\": 16, \"shape\": \"(0, 6)\", \"dtype\": \"artist        object\\nmuseum        object\\ngender        object\\nethnicity     object\\nGEO3major     object\\nyear         float64\\ndtype: object\"}]"
   },
   "outputs": [
    {
     "data": {
      "text/html": [
       "<div>\n",
       "<style scoped>\n",
       "    .dataframe tbody tr th:only-of-type {\n",
       "        vertical-align: middle;\n",
       "    }\n",
       "\n",
       "    .dataframe tbody tr th {\n",
       "        vertical-align: top;\n",
       "    }\n",
       "\n",
       "    .dataframe thead th {\n",
       "        text-align: right;\n",
       "    }\n",
       "</style>\n",
       "<table border=\"1\" class=\"dataframe\">\n",
       "  <thead>\n",
       "    <tr style=\"text-align: right;\">\n",
       "      <th></th>\n",
       "      <th>artist</th>\n",
       "      <th>museum</th>\n",
       "      <th>gender</th>\n",
       "      <th>ethnicity</th>\n",
       "      <th>GEO3major</th>\n",
       "      <th>year</th>\n",
       "    </tr>\n",
       "  </thead>\n",
       "  <tbody>\n",
       "  </tbody>\n",
       "</table>\n",
       "</div>"
      ],
      "text/plain": [
       "Empty DataFrame\n",
       "Columns: [artist, museum, gender, ethnicity, GEO3major, year]\n",
       "Index: []"
      ]
     },
     "execution_count": 20,
     "metadata": {},
     "output_type": "execute_result"
    }
   ],
   "source": [
    "# Prints out all rows that have NaN in gender column\n",
    "df[df['gender'].isna()]"
   ]
  },
  {
   "cell_type": "code",
   "execution_count": 22,
   "id": "f2938464",
   "metadata": {
    "execution": {
     "iopub.execute_input": "2023-10-05T05:25:05.335431Z",
     "iopub.status.busy": "2023-10-05T05:25:05.335148Z",
     "iopub.status.idle": "2023-10-05T05:25:05.340336Z",
     "shell.execute_reply": "2023-10-05T05:25:05.339528Z"
    }
   },
   "outputs": [],
   "source": [
    "df['gender'].fillna(value='unknown', inplace=True)"
   ]
  },
  {
   "cell_type": "code",
   "execution_count": 23,
   "id": "fe856174",
   "metadata": {
    "execution": {
     "iopub.execute_input": "2023-10-05T05:25:05.343937Z",
     "iopub.status.busy": "2023-10-05T05:25:05.343654Z",
     "iopub.status.idle": "2023-10-05T05:25:05.353124Z",
     "shell.execute_reply": "2023-10-05T05:25:05.352347Z"
    },
    "type_information": "[{\"type\": \"<class 'pandas.core.frame.DataFrame'>\", \"name\": \"DataFrame\", \"module\": \"pandas.core.frame\", \"size\": 16, \"shape\": \"(0, 6)\", \"dtype\": \"artist        object\\nmuseum        object\\ngender        object\\nethnicity     object\\nGEO3major     object\\nyear         float64\\ndtype: object\"}]"
   },
   "outputs": [
    {
     "data": {
      "text/html": [
       "<div>\n",
       "<style scoped>\n",
       "    .dataframe tbody tr th:only-of-type {\n",
       "        vertical-align: middle;\n",
       "    }\n",
       "\n",
       "    .dataframe tbody tr th {\n",
       "        vertical-align: top;\n",
       "    }\n",
       "\n",
       "    .dataframe thead th {\n",
       "        text-align: right;\n",
       "    }\n",
       "</style>\n",
       "<table border=\"1\" class=\"dataframe\">\n",
       "  <thead>\n",
       "    <tr style=\"text-align: right;\">\n",
       "      <th></th>\n",
       "      <th>artist</th>\n",
       "      <th>museum</th>\n",
       "      <th>gender</th>\n",
       "      <th>ethnicity</th>\n",
       "      <th>GEO3major</th>\n",
       "      <th>year</th>\n",
       "    </tr>\n",
       "  </thead>\n",
       "  <tbody>\n",
       "  </tbody>\n",
       "</table>\n",
       "</div>"
      ],
      "text/plain": [
       "Empty DataFrame\n",
       "Columns: [artist, museum, gender, ethnicity, GEO3major, year]\n",
       "Index: []"
      ]
     },
     "execution_count": 23,
     "metadata": {},
     "output_type": "execute_result"
    }
   ],
   "source": [
    "# Now no gender value is null\n",
    "df[df['gender'].isna()]"
   ]
  },
  {
   "cell_type": "code",
   "execution_count": 25,
   "id": "c2bb4314",
   "metadata": {
    "execution": {
     "iopub.execute_input": "2023-10-05T05:25:05.367193Z",
     "iopub.status.busy": "2023-10-05T05:25:05.366908Z",
     "iopub.status.idle": "2023-10-05T05:25:05.378266Z",
     "shell.execute_reply": "2023-10-05T05:25:05.377371Z"
    },
    "type_information": "[{\"type\": \"<class 'pandas.core.frame.DataFrame'>\", \"name\": \"DataFrame\", \"module\": \"pandas.core.frame\", \"size\": 376, \"shape\": \"(1, 6)\", \"dtype\": \"artist        object\\nmuseum        object\\ngender        object\\nethnicity     object\\nGEO3major     object\\nyear         float64\\ndtype: object\"}]"
   },
   "outputs": [
    {
     "data": {
      "text/html": [
       "<div>\n",
       "<style scoped>\n",
       "    .dataframe tbody tr th:only-of-type {\n",
       "        vertical-align: middle;\n",
       "    }\n",
       "\n",
       "    .dataframe tbody tr th {\n",
       "        vertical-align: top;\n",
       "    }\n",
       "\n",
       "    .dataframe thead th {\n",
       "        text-align: right;\n",
       "    }\n",
       "</style>\n",
       "<table border=\"1\" class=\"dataframe\">\n",
       "  <thead>\n",
       "    <tr style=\"text-align: right;\">\n",
       "      <th></th>\n",
       "      <th>artist</th>\n",
       "      <th>museum</th>\n",
       "      <th>gender</th>\n",
       "      <th>ethnicity</th>\n",
       "      <th>GEO3major</th>\n",
       "      <th>year</th>\n",
       "    </tr>\n",
       "  </thead>\n",
       "  <tbody>\n",
       "    <tr>\n",
       "      <th>2053</th>\n",
       "      <td>Rockwell Kent</td>\n",
       "      <td>Detroit Institute of Arts</td>\n",
       "      <td>man</td>\n",
       "      <td>white</td>\n",
       "      <td>North America</td>\n",
       "      <td>1880.0</td>\n",
       "    </tr>\n",
       "  </tbody>\n",
       "</table>\n",
       "</div>"
      ],
      "text/plain": [
       "             artist                     museum gender ethnicity  \\\n",
       "2053  Rockwell Kent  Detroit Institute of Arts    man     white   \n",
       "\n",
       "          GEO3major    year  \n",
       "2053  North America  1880.0  "
      ]
     },
     "execution_count": 25,
     "metadata": {},
     "output_type": "execute_result"
    }
   ],
   "source": [
    "df.loc[[2053]]"
   ]
  },
  {
   "cell_type": "code",
   "execution_count": 27,
   "id": "eaccd188",
   "metadata": {
    "execution": {
     "iopub.execute_input": "2023-10-05T05:25:05.393009Z",
     "iopub.status.busy": "2023-10-05T05:25:05.392718Z",
     "iopub.status.idle": "2023-10-05T05:25:05.400922Z",
     "shell.execute_reply": "2023-10-05T05:25:05.400141Z"
    },
    "type_information": "[{\"type\": \"<class 'numpy.int64'>\", \"name\": \"int64\", \"module\": \"numpy\", \"size\": 32}]"
   },
   "outputs": [
    {
     "data": {
      "text/plain": [
       "7865"
      ]
     },
     "execution_count": 27,
     "metadata": {},
     "output_type": "execute_result"
    }
   ],
   "source": [
    "# count of male artists\n",
    "df.loc[df['gender']=='man', 'artist'].count()"
   ]
  },
  {
   "cell_type": "code",
   "execution_count": 29,
   "id": "96e31a3d",
   "metadata": {
    "execution": {
     "iopub.execute_input": "2023-10-05T05:25:05.413019Z",
     "iopub.status.busy": "2023-10-05T05:25:05.412737Z",
     "iopub.status.idle": "2023-10-05T05:25:05.420453Z",
     "shell.execute_reply": "2023-10-05T05:25:05.419654Z"
    },
    "type_information": "[{\"type\": \"<class 'numpy.int64'>\", \"name\": \"int64\", \"module\": \"numpy\", \"size\": 32}]"
   },
   "outputs": [
    {
     "data": {
      "text/plain": [
       "1151"
      ]
     },
     "execution_count": 29,
     "metadata": {},
     "output_type": "execute_result"
    }
   ],
   "source": [
    "# count of female artists\n",
    "df.loc[df['gender']=='woman', 'artist'].count()"
   ]
  },
  {
   "cell_type": "code",
   "execution_count": 31,
   "id": "35720568",
   "metadata": {
    "execution": {
     "iopub.execute_input": "2023-10-05T05:25:05.432873Z",
     "iopub.status.busy": "2023-10-05T05:25:05.432588Z",
     "iopub.status.idle": "2023-10-05T05:25:05.449578Z",
     "shell.execute_reply": "2023-10-05T05:25:05.448785Z"
    },
    "type_information": "[{\"type\": \"<class 'pandas.core.series.Series'>\", \"name\": \"Series\", \"module\": \"pandas.core.series\", \"size\": 772}]"
   },
   "outputs": [
    {
     "data": {
      "text/plain": [
       "gender  ethnicity\n",
       "man     asian         538\n",
       "        black          87\n",
       "        hispanic      193\n",
       "        other          67\n",
       "        white        5805\n",
       "woman   asian          38\n",
       "        black          33\n",
       "        hispanic       20\n",
       "        other          35\n",
       "        white         841\n",
       "Name: gender, dtype: int64"
      ]
     },
     "execution_count": 31,
     "metadata": {},
     "output_type": "execute_result"
    }
   ],
   "source": [
    "#Dataframe from groupby/counting\n",
    "x = df.groupby(['gender','ethnicity'])['artist'].count()\n",
    "x = x.to_frame().reset_index().rename(columns={'artist':'artistcount'})\n",
    "gecounts = df.groupby(['gender','ethnicity'])['gender'].count()\n",
    "gecounts"
   ]
  },
  {
   "cell_type": "code",
   "execution_count": 33,
   "id": "69447abb",
   "metadata": {
    "execution": {
     "iopub.execute_input": "2023-10-05T05:25:05.462717Z",
     "iopub.status.busy": "2023-10-05T05:25:05.462430Z",
     "iopub.status.idle": "2023-10-05T05:25:05.471740Z",
     "shell.execute_reply": "2023-10-05T05:25:05.470962Z"
    },
    "type_information": "[{\"type\": \"<class 'pandas.core.frame.DataFrame'>\", \"name\": \"DataFrame\", \"module\": \"pandas.core.frame\", \"size\": 1460, \"shape\": \"(10, 3)\", \"dtype\": \"gender         object\\nethnicity      object\\nartistcount     int64\\ndtype: object\"}]"
   },
   "outputs": [
    {
     "data": {
      "text/html": [
       "<div>\n",
       "<style scoped>\n",
       "    .dataframe tbody tr th:only-of-type {\n",
       "        vertical-align: middle;\n",
       "    }\n",
       "\n",
       "    .dataframe tbody tr th {\n",
       "        vertical-align: top;\n",
       "    }\n",
       "\n",
       "    .dataframe thead th {\n",
       "        text-align: right;\n",
       "    }\n",
       "</style>\n",
       "<table border=\"1\" class=\"dataframe\">\n",
       "  <thead>\n",
       "    <tr style=\"text-align: right;\">\n",
       "      <th></th>\n",
       "      <th>gender</th>\n",
       "      <th>ethnicity</th>\n",
       "      <th>artistcount</th>\n",
       "    </tr>\n",
       "  </thead>\n",
       "  <tbody>\n",
       "    <tr>\n",
       "      <th>0</th>\n",
       "      <td>man</td>\n",
       "      <td>asian</td>\n",
       "      <td>538</td>\n",
       "    </tr>\n",
       "    <tr>\n",
       "      <th>1</th>\n",
       "      <td>man</td>\n",
       "      <td>black</td>\n",
       "      <td>87</td>\n",
       "    </tr>\n",
       "    <tr>\n",
       "      <th>2</th>\n",
       "      <td>man</td>\n",
       "      <td>hispanic</td>\n",
       "      <td>193</td>\n",
       "    </tr>\n",
       "    <tr>\n",
       "      <th>3</th>\n",
       "      <td>man</td>\n",
       "      <td>other</td>\n",
       "      <td>67</td>\n",
       "    </tr>\n",
       "    <tr>\n",
       "      <th>4</th>\n",
       "      <td>man</td>\n",
       "      <td>white</td>\n",
       "      <td>5805</td>\n",
       "    </tr>\n",
       "    <tr>\n",
       "      <th>5</th>\n",
       "      <td>woman</td>\n",
       "      <td>asian</td>\n",
       "      <td>38</td>\n",
       "    </tr>\n",
       "    <tr>\n",
       "      <th>6</th>\n",
       "      <td>woman</td>\n",
       "      <td>black</td>\n",
       "      <td>33</td>\n",
       "    </tr>\n",
       "    <tr>\n",
       "      <th>7</th>\n",
       "      <td>woman</td>\n",
       "      <td>hispanic</td>\n",
       "      <td>20</td>\n",
       "    </tr>\n",
       "    <tr>\n",
       "      <th>8</th>\n",
       "      <td>woman</td>\n",
       "      <td>other</td>\n",
       "      <td>35</td>\n",
       "    </tr>\n",
       "    <tr>\n",
       "      <th>9</th>\n",
       "      <td>woman</td>\n",
       "      <td>white</td>\n",
       "      <td>841</td>\n",
       "    </tr>\n",
       "  </tbody>\n",
       "</table>\n",
       "</div>"
      ],
      "text/plain": [
       "  gender ethnicity  artistcount\n",
       "0    man     asian          538\n",
       "1    man     black           87\n",
       "2    man  hispanic          193\n",
       "3    man     other           67\n",
       "4    man     white         5805\n",
       "5  woman     asian           38\n",
       "6  woman     black           33\n",
       "7  woman  hispanic           20\n",
       "8  woman     other           35\n",
       "9  woman     white          841"
      ]
     },
     "execution_count": 33,
     "metadata": {},
     "output_type": "execute_result"
    }
   ],
   "source": [
    "x"
   ]
  },
  {
   "cell_type": "code",
   "execution_count": 35,
   "id": "839c34c4",
   "metadata": {
    "debugging_output": [
     {
      "name": "stdout",
      "output_type": "stream",
      "text": "Out[35][0]\nTraceback (most recent call last):\n  File \"/tmp/ipykernel_20/872660482.py\", line 5, in <module>\n    outputs.append(typehandlerforuniqueobjects(Out[35][i]))\nTypeError: 'Text' object is not subscriptable\n\nOut[35][1]\nTraceback (most recent call last):\n  File \"/tmp/ipykernel_20/872660482.py\", line 5, in <module>\n    outputs.append(typehandlerforuniqueobjects(Out[35][i]))\nTypeError: 'Text' object is not subscriptable\n\n"
     }
    ],
    "execution": {
     "iopub.execute_input": "2023-10-05T05:25:05.485459Z",
     "iopub.status.busy": "2023-10-05T05:25:05.485174Z",
     "iopub.status.idle": "2023-10-05T05:25:05.756629Z",
     "shell.execute_reply": "2023-10-05T05:25:05.755617Z"
    }
   },
   "outputs": [
    {
     "data": {
      "text/plain": [
       "Text(0.5, 1.0, 'Distribution values for ethnicity column')"
      ]
     },
     "execution_count": 35,
     "metadata": {},
     "output_type": "execute_result"
    },
    {
     "data": {
      "image/png": "[encoded data removed]",
      "text/plain": [
       "<Figure size 640x480 with 1 Axes>"
      ]
     },
     "metadata": {},
     "output_type": "display_data"
    }
   ],
   "source": [
    "# plot of distribution values for ethnicity column\n",
    "sns.countplot(data=df, \n",
    "            x='ethnicity')\n",
    "plt.title('Distribution values for ethnicity column')"
   ]
  },
  {
   "cell_type": "markdown",
   "id": "2be51519",
   "metadata": {},
   "source": [
    "It can be observed that white artists significantly outnumber the artists from other ethnicities."
   ]
  },
  {
   "cell_type": "code",
   "execution_count": 37,
   "id": "444bc45d",
   "metadata": {
    "debugging_output": [
     {
      "name": "stdout",
      "output_type": "stream",
      "text": "Out[37][0]\nTraceback (most recent call last):\n  File \"/tmp/ipykernel_20/435699171.py\", line 5, in <module>\n    outputs.append(typehandlerforuniqueobjects(Out[37][i]))\nTypeError: 'Text' object is not subscriptable\n\nOut[37][1]\nTraceback (most recent call last):\n  File \"/tmp/ipykernel_20/435699171.py\", line 5, in <module>\n    outputs.append(typehandlerforuniqueobjects(Out[37][i]))\nTypeError: 'Text' object is not subscriptable\n\n"
     }
    ],
    "execution": {
     "iopub.execute_input": "2023-10-05T05:25:05.769984Z",
     "iopub.status.busy": "2023-10-05T05:25:05.769720Z",
     "iopub.status.idle": "2023-10-05T05:25:05.997651Z",
     "shell.execute_reply": "2023-10-05T05:25:05.996747Z"
    }
   },
   "outputs": [
    {
     "name": "stderr",
     "output_type": "stream",
     "text": [
      "/tmp/ipykernel_20/1714272471.py:2: FutureWarning: \n",
      "\n",
      "Passing `palette` without assigning `hue` is deprecated and will be removed in v0.14.0. Assign the `x` variable to `hue` and set `legend=False` for the same effect.\n",
      "\n",
      "  sns.countplot(data=df,\n"
     ]
    },
    {
     "data": {
      "text/plain": [
       "Text(0.5, 1.0, 'Distribution values for gender column')"
      ]
     },
     "execution_count": 37,
     "metadata": {},
     "output_type": "execute_result"
    },
    {
     "data": {
      "image/png": "[encoded data removed]",
      "text/plain": [
       "<Figure size 640x480 with 1 Axes>"
      ]
     },
     "metadata": {},
     "output_type": "display_data"
    }
   ],
   "source": [
    "# plot of distribution values for gender column\n",
    "sns.countplot(data=df, \n",
    "            x='gender',\n",
    "             palette = ['blue', 'red'])\n",
    "plt.title('Distribution values for gender column')"
   ]
  },
  {
   "cell_type": "markdown",
   "id": "95bca670",
   "metadata": {},
   "source": [
    "There is a disproportinate ratio of male artists compared to female artists in U.S. museums."
   ]
  },
  {
   "cell_type": "code",
   "execution_count": 39,
   "id": "e9a03025",
   "metadata": {
    "debugging_output": [
     {
      "name": "stdout",
      "output_type": "stream",
      "text": "Out[39][0]\nTraceback (most recent call last):\n  File \"/tmp/ipykernel_20/242837553.py\", line 5, in <module>\n    outputs.append(typehandlerforuniqueobjects(Out[39][i]))\nTypeError: 'Text' object is not subscriptable\n\nOut[39][1]\nTraceback (most recent call last):\n  File \"/tmp/ipykernel_20/242837553.py\", line 5, in <module>\n    outputs.append(typehandlerforuniqueobjects(Out[39][i]))\nTypeError: 'Text' object is not subscriptable\n\n"
     }
    ],
    "execution": {
     "iopub.execute_input": "2023-10-05T05:25:06.011253Z",
     "iopub.status.busy": "2023-10-05T05:25:06.011015Z",
     "iopub.status.idle": "2023-10-05T05:25:06.224408Z",
     "shell.execute_reply": "2023-10-05T05:25:06.223489Z"
    }
   },
   "outputs": [
    {
     "data": {
      "text/plain": [
       "Text(0.5, 1.0, 'Distribution values for GEO3 major column')"
      ]
     },
     "execution_count": 39,
     "metadata": {},
     "output_type": "execute_result"
    },
    {
     "data": {
      "image/png": "[encoded data removed]",
      "text/plain": [
       "<Figure size 640x480 with 1 Axes>"
      ]
     },
     "metadata": {},
     "output_type": "display_data"
    }
   ],
   "source": [
    "# plot of distribution values for GEO3 column\n",
    "sns.countplot(data=df, \n",
    "            y='GEO3major')\n",
    "plt.title('Distribution values for GEO3 major column')"
   ]
  },
  {
   "cell_type": "markdown",
   "id": "df8f4597",
   "metadata": {},
   "source": [
    "Most artists in U.S. museums originate from North America and Europe. Asia and the Pacific is the third-most abundant region of artists, but there is a large gap from North America and Europe to Asia and the Pacific."
   ]
  },
  {
   "cell_type": "markdown",
   "id": "4b9a07ab",
   "metadata": {},
   "source": [
    "# Analysis"
   ]
  },
  {
   "cell_type": "markdown",
   "id": "be8d03fb",
   "metadata": {},
   "source": [
    "The dataset revealed several factors that influenced the representation of artists in U.S. museums. Gender, ethnicity, and year all play a large role in which artists receive exposure in museums. The patterns and data trends demonstrated the different levels of artist diversity at each U.S. museum. "
   ]
  },
  {
   "cell_type": "code",
   "execution_count": 41,
   "id": "16910a4a",
   "metadata": {
    "debugging_output": [
     {
      "name": "stdout",
      "output_type": "stream",
      "text": "Out[41][0]\nTraceback (most recent call last):\n  File \"/tmp/ipykernel_20/3681603105.py\", line 5, in <module>\n    outputs.append(typehandlerforuniqueobjects(Out[41][i]))\nTypeError: 'Text' object is not subscriptable\n\nOut[41][1]\nTraceback (most recent call last):\n  File \"/tmp/ipykernel_20/3681603105.py\", line 5, in <module>\n    outputs.append(typehandlerforuniqueobjects(Out[41][i]))\nTypeError: 'Text' object is not subscriptable\n\n"
     }
    ],
    "execution": {
     "iopub.execute_input": "2023-10-05T05:25:06.236649Z",
     "iopub.status.busy": "2023-10-05T05:25:06.236444Z",
     "iopub.status.idle": "2023-10-05T05:25:06.457005Z",
     "shell.execute_reply": "2023-10-05T05:25:06.456242Z"
    }
   },
   "outputs": [
    {
     "data": {
      "text/plain": [
       "Text(0.5, 1.0, 'Histogram of Artists in U.S. Museums from 1500-2000')"
      ]
     },
     "execution_count": 41,
     "metadata": {},
     "output_type": "execute_result"
    },
    {
     "data": {
      "image/png": "[encoded data removed]",
      "text/plain": [
       "<Figure size 640x480 with 1 Axes>"
      ]
     },
     "metadata": {},
     "output_type": "display_data"
    }
   ],
   "source": [
    "sns.histplot(data=df, \n",
    "            x='ethnicity',\n",
    "            hue='gender', \n",
    "             bins=10,\n",
    "             multiple='dodge')\n",
    "plt.title('Histogram of Artists in U.S. Museums from 1500-2000')"
   ]
  },
  {
   "cell_type": "markdown",
   "id": "7ab94d32",
   "metadata": {},
   "source": [
    "This histogram clearly shows the domination of white artists in U.S. museums from 1500-2000. Out of all data collected, male artists make up apporximately 87.4% of all artists in U.S. museums. White male artists make up about 75.8% of all artists and white female artists make up about 11% of the same population for a total of almost 87% white artists. It is also notable to observe how people of color are significantly underrepresented compared to white artists, as Asian, Hispanic, and Black artist data combined  made up a total of 13% of all artists from 1500-2000. Female artists also recieved far less opportunities from museums than male artists, only making up about 12.6% of all artists over the span of over 400 years. "
   ]
  },
  {
   "cell_type": "code",
   "execution_count": 43,
   "id": "0960f906",
   "metadata": {
    "execution": {
     "iopub.execute_input": "2023-10-05T05:25:06.468421Z",
     "iopub.status.busy": "2023-10-05T05:25:06.468196Z",
     "iopub.status.idle": "2023-10-05T05:25:06.474655Z",
     "shell.execute_reply": "2023-10-05T05:25:06.473938Z"
    },
    "type_information": "[{\"type\": \"<class 'numpy.float64'>\", \"name\": \"float64\", \"module\": \"numpy\", \"size\": 32}]"
   },
   "outputs": [
    {
     "data": {
      "text/plain": [
       "0.8737103304166123"
      ]
     },
     "execution_count": 43,
     "metadata": {},
     "output_type": "execute_result"
    }
   ],
   "source": [
    "# percentage of male artists\n",
    "x.loc[x['gender']=='man', 'artistcount'].sum() / x['artistcount'].sum()"
   ]
  },
  {
   "cell_type": "code",
   "execution_count": 45,
   "id": "f3b6ee88",
   "metadata": {
    "execution": {
     "iopub.execute_input": "2023-10-05T05:25:06.485597Z",
     "iopub.status.busy": "2023-10-05T05:25:06.485381Z",
     "iopub.status.idle": "2023-10-05T05:25:06.491241Z",
     "shell.execute_reply": "2023-10-05T05:25:06.490540Z"
    },
    "type_information": "[{\"type\": \"<class 'numpy.float64'>\", \"name\": \"float64\", \"module\": \"numpy\", \"size\": 32}]"
   },
   "outputs": [
    {
     "data": {
      "text/plain": [
       "0.12628966958338775"
      ]
     },
     "execution_count": 45,
     "metadata": {},
     "output_type": "execute_result"
    }
   ],
   "source": [
    "# percentage of female artists\n",
    "x.loc[x['gender']=='woman', 'artistcount'].sum() / x['artistcount'].sum()"
   ]
  },
  {
   "cell_type": "code",
   "execution_count": 47,
   "id": "99bd3600",
   "metadata": {
    "execution": {
     "iopub.execute_input": "2023-10-05T05:25:06.501878Z",
     "iopub.status.busy": "2023-10-05T05:25:06.501664Z",
     "iopub.status.idle": "2023-10-05T05:25:06.508099Z",
     "shell.execute_reply": "2023-10-05T05:25:06.507347Z"
    },
    "type_information": "[{\"type\": \"<class 'numpy.float64'>\", \"name\": \"float64\", \"module\": \"numpy\", \"size\": 32}]"
   },
   "outputs": [
    {
     "data": {
      "text/plain": [
       "0.7581298158547735"
      ]
     },
     "execution_count": 47,
     "metadata": {},
     "output_type": "execute_result"
    }
   ],
   "source": [
    "# percentage of male white artists\n",
    "x.loc[(x['gender']=='man') & (x['ethnicity']=='white'),'artistcount'].sum() / x['artistcount'].sum()"
   ]
  },
  {
   "cell_type": "code",
   "execution_count": 49,
   "id": "df86a802",
   "metadata": {
    "execution": {
     "iopub.execute_input": "2023-10-05T05:25:06.518324Z",
     "iopub.status.busy": "2023-10-05T05:25:06.518153Z",
     "iopub.status.idle": "2023-10-05T05:25:06.523657Z",
     "shell.execute_reply": "2023-10-05T05:25:06.523043Z"
    },
    "type_information": "[{\"type\": \"<class 'numpy.float64'>\", \"name\": \"float64\", \"module\": \"numpy\", \"size\": 32}]"
   },
   "outputs": [
    {
     "data": {
      "text/plain": [
       "0.10983413869661747"
      ]
     },
     "execution_count": 49,
     "metadata": {},
     "output_type": "execute_result"
    }
   ],
   "source": [
    "# percentage of female white artists\n",
    "x.loc[(x['gender']=='woman') & (x['ethnicity']=='white'),'artistcount'].sum() / x['artistcount'].sum()"
   ]
  },
  {
   "cell_type": "code",
   "execution_count": 51,
   "id": "edbe5c98",
   "metadata": {
    "execution": {
     "iopub.execute_input": "2023-10-05T05:25:06.533720Z",
     "iopub.status.busy": "2023-10-05T05:25:06.533548Z",
     "iopub.status.idle": "2023-10-05T05:25:06.538721Z",
     "shell.execute_reply": "2023-10-05T05:25:06.538081Z"
    },
    "type_information": "[{\"type\": \"<class 'numpy.float64'>\", \"name\": \"float64\", \"module\": \"numpy\", \"size\": 32}]"
   },
   "outputs": [
    {
     "data": {
      "text/plain": [
       "0.8679639545513909"
      ]
     },
     "execution_count": 51,
     "metadata": {},
     "output_type": "execute_result"
    }
   ],
   "source": [
    "# percentage of white artists\n",
    "x.loc[x['ethnicity']=='white', 'artistcount'].sum() / x['artistcount'].sum()"
   ]
  },
  {
   "cell_type": "code",
   "execution_count": 53,
   "id": "bef8c73c",
   "metadata": {
    "debugging_output": [
     {
      "name": "stdout",
      "output_type": "stream",
      "text": "Out[53][0]\nTraceback (most recent call last):\n  File \"/tmp/ipykernel_20/2756284677.py\", line 5, in <module>\n    outputs.append(typehandlerforuniqueobjects(Out[53][i]))\nTypeError: 'Text' object is not subscriptable\n\nOut[53][1]\nTraceback (most recent call last):\n  File \"/tmp/ipykernel_20/2756284677.py\", line 5, in <module>\n    outputs.append(typehandlerforuniqueobjects(Out[53][i]))\nTypeError: 'Text' object is not subscriptable\n\n"
     }
    ],
    "execution": {
     "iopub.execute_input": "2023-10-05T05:25:06.548335Z",
     "iopub.status.busy": "2023-10-05T05:25:06.548164Z",
     "iopub.status.idle": "2023-10-05T05:25:06.769346Z",
     "shell.execute_reply": "2023-10-05T05:25:06.768542Z"
    }
   },
   "outputs": [
    {
     "data": {
      "text/plain": [
       "Text(0.5, 1.0, 'Histogram of Asian Male & Female Artists in U.S. Museums from 1930-1990')"
      ]
     },
     "execution_count": 53,
     "metadata": {},
     "output_type": "execute_result"
    },
    {
     "data": {
      "image/png": "[encoded data removed]",
      "text/plain": [
       "<Figure size 640x480 with 1 Axes>"
      ]
     },
     "metadata": {},
     "output_type": "display_data"
    }
   ],
   "source": [
    "#Comparison of Asian women to Asian men (percentage); 2nd most dominant ethnicity\n",
    "sns.histplot(data=df[(df['ethnicity']=='asian') &\n",
    "                    (df['year']>1925)], \n",
    "            x='year',\n",
    "            hue='gender',\n",
    "             bins=15,multiple='stack')\n",
    "plt.title('Histogram of Asian Male & Female Artists in U.S. Museums from 1930-1990')"
   ]
  },
  {
   "cell_type": "markdown",
   "id": "a390c0c6",
   "metadata": {},
   "source": [
    "This histogram demonstrates the amount of female Asian artists in comparison to male Asian artists from 1930-1990. In total, Asian male artists made up 0.05% of the entire collection of data and Asian women made up less than 0.01%. The histograpm shows how the proportion of Asian female to Asian male artists is never greater than 1/3, with a significant decrease in women artists in the 1950s and after 1980. "
   ]
  },
  {
   "cell_type": "code",
   "execution_count": 55,
   "id": "deb4bd24",
   "metadata": {
    "execution": {
     "iopub.execute_input": "2023-10-05T05:25:06.780851Z",
     "iopub.status.busy": "2023-10-05T05:25:06.780689Z",
     "iopub.status.idle": "2023-10-05T05:25:06.788982Z",
     "shell.execute_reply": "2023-10-05T05:25:06.788364Z"
    },
    "type_information": "[{\"type\": \"<class 'numpy.float64'>\", \"name\": \"float64\", \"module\": \"numpy\", \"size\": 32}]"
   },
   "outputs": [
    {
     "data": {
      "text/plain": [
       "0.008716970852628712"
      ]
     },
     "execution_count": 55,
     "metadata": {},
     "output_type": "execute_result"
    }
   ],
   "source": [
    "# % of Asian female artists from 1930-1990\n",
    "df.loc[(df['gender']=='woman') & (df['ethnicity']=='asian') &\n",
    "       (df['year']>1900) & \n",
    "       (df['year']<2000), 'artist'].count() / df.loc[(df['year']>1900) & \n",
    "       (df['year']<2000), 'artist'].count()"
   ]
  },
  {
   "cell_type": "code",
   "execution_count": 57,
   "id": "8cd20c61",
   "metadata": {
    "execution": {
     "iopub.execute_input": "2023-10-05T05:25:06.800042Z",
     "iopub.status.busy": "2023-10-05T05:25:06.799869Z",
     "iopub.status.idle": "2023-10-05T05:25:06.807987Z",
     "shell.execute_reply": "2023-10-05T05:25:06.807352Z"
    },
    "type_information": "[{\"type\": \"<class 'numpy.float64'>\", \"name\": \"float64\", \"module\": \"numpy\", \"size\": 32}]"
   },
   "outputs": [
    {
     "data": {
      "text/plain": [
       "0.009489380930863081"
      ]
     },
     "execution_count": 57,
     "metadata": {},
     "output_type": "execute_result"
    }
   ],
   "source": [
    "# % of Asian female artists from 1930-1990\n",
    "df.loc[(df['gender']=='woman') & (df['ethnicity']=='asian') &\n",
    "       (df['year']>1930) & \n",
    "       (df['year']<1980), 'artist'].count() / df.loc[(df['year']>1930) & \n",
    "       (df['year']<1980), 'artist'].count()"
   ]
  },
  {
   "cell_type": "code",
   "execution_count": 59,
   "id": "29037280",
   "metadata": {
    "execution": {
     "iopub.execute_input": "2023-10-05T05:25:06.818598Z",
     "iopub.status.busy": "2023-10-05T05:25:06.818305Z",
     "iopub.status.idle": "2023-10-05T05:25:06.826266Z",
     "shell.execute_reply": "2023-10-05T05:25:06.825630Z"
    },
    "type_information": "[{\"type\": \"<class 'numpy.float64'>\", \"name\": \"float64\", \"module\": \"numpy\", \"size\": 32}]"
   },
   "outputs": [
    {
     "data": {
      "text/plain": [
       "0.053936257150640154"
      ]
     },
     "execution_count": 59,
     "metadata": {},
     "output_type": "execute_result"
    }
   ],
   "source": [
    "# % of Asian male artists from 1930-1990\n",
    "df.loc[(df['gender']=='man') & (df['ethnicity']=='asian') &\n",
    "       (df['year']>1900) & \n",
    "       (df['year']<2000), 'artist'].count() / df.loc[(df['year']>1900) & \n",
    "       (df['year']<2000), 'artist'].count()"
   ]
  },
  {
   "cell_type": "code",
   "execution_count": 61,
   "id": "4e9ada2c",
   "metadata": {
    "execution": {
     "iopub.execute_input": "2023-10-05T05:25:06.836086Z",
     "iopub.status.busy": "2023-10-05T05:25:06.835916Z",
     "iopub.status.idle": "2023-10-05T05:25:06.843442Z",
     "shell.execute_reply": "2023-10-05T05:25:06.842885Z"
    },
    "type_information": "[{\"type\": \"<class 'numpy.float64'>\", \"name\": \"float64\", \"module\": \"numpy\", \"size\": 32}]"
   },
   "outputs": [
    {
     "data": {
      "text/plain": [
       "0.0063882063882063885"
      ]
     },
     "execution_count": 61,
     "metadata": {},
     "output_type": "execute_result"
    }
   ],
   "source": [
    "# % of Asian female artists from 1930-1950\n",
    "df.loc[(df['gender']=='woman') & (df['ethnicity']=='asian') &\n",
    "       (df['year']>1900) & \n",
    "       (df['year']<1950), 'artist'].count() / df.loc[(df['year']>1900) & \n",
    "       (df['year']<1950), 'artist'].count()"
   ]
  },
  {
   "cell_type": "code",
   "execution_count": 63,
   "id": "16cef3fd",
   "metadata": {
    "debugging_output": [
     {
      "name": "stdout",
      "output_type": "stream",
      "text": "Out[63][0]\nTraceback (most recent call last):\n  File \"/tmp/ipykernel_20/2670924434.py\", line 5, in <module>\n    outputs.append(typehandlerforuniqueobjects(Out[63][i]))\nTypeError: 'Text' object is not subscriptable\n\nOut[63][1]\nTraceback (most recent call last):\n  File \"/tmp/ipykernel_20/2670924434.py\", line 5, in <module>\n    outputs.append(typehandlerforuniqueobjects(Out[63][i]))\nTypeError: 'Text' object is not subscriptable\n\n"
     }
    ],
    "execution": {
     "iopub.execute_input": "2023-10-05T05:25:06.853052Z",
     "iopub.status.busy": "2023-10-05T05:25:06.852894Z",
     "iopub.status.idle": "2023-10-05T05:25:07.017132Z",
     "shell.execute_reply": "2023-10-05T05:25:07.016471Z"
    }
   },
   "outputs": [
    {
     "data": {
      "text/plain": [
       "Text(0.5, 1.0, 'Histogram of Asian Women Artists in U.S. Museums from 1930-1990')"
      ]
     },
     "execution_count": 63,
     "metadata": {},
     "output_type": "execute_result"
    },
    {
     "data": {
      "image/png": "[encoded data removed]",
      "text/plain": [
       "<Figure size 640x480 with 1 Axes>"
      ]
     },
     "metadata": {},
     "output_type": "display_data"
    }
   ],
   "source": [
    "sup = df.loc[(df['gender']=='woman') & (df['ethnicity']=='asian'), \n",
    "       'year'].hist()\n",
    "sup.set(xlabel='year', ylabel='count')\n",
    "plt.title('Histogram of Asian Women Artists in U.S. Museums from 1930-1990')"
   ]
  },
  {
   "cell_type": "markdown",
   "id": "99e0ff1b",
   "metadata": {},
   "source": [
    "As seen above, while representation of female Asian artists was relatively stable (with the exception of the year 1950), the demographic only made up 0.009% of all artists from 1930-1980."
   ]
  },
  {
   "cell_type": "code",
   "execution_count": 65,
   "id": "1e4de31a",
   "metadata": {
    "execution": {
     "iopub.execute_input": "2023-10-05T05:25:07.027576Z",
     "iopub.status.busy": "2023-10-05T05:25:07.027415Z",
     "iopub.status.idle": "2023-10-05T05:25:07.035811Z",
     "shell.execute_reply": "2023-10-05T05:25:07.035246Z"
    },
    "type_information": "[{\"type\": \"<class 'numpy.float64'>\", \"name\": \"float64\", \"module\": \"numpy\", \"size\": 32}]"
   },
   "outputs": [
    {
     "data": {
      "text/plain": [
       "0.008716970852628712"
      ]
     },
     "execution_count": 65,
     "metadata": {},
     "output_type": "execute_result"
    }
   ],
   "source": [
    "# % of Asian female artists from 1930-1990\n",
    "df.loc[(df['gender']=='woman') & (df['ethnicity']=='asian') &\n",
    "       (df['year']>1900) & \n",
    "       (df['year']<2000), 'artist'].count() / df.loc[(df['year']>1900) & \n",
    "       (df['year']<2000), 'artist'].count()"
   ]
  },
  {
   "cell_type": "code",
   "execution_count": 67,
   "id": "df7cde0b",
   "metadata": {
    "debugging_output": [
     {
      "name": "stdout",
      "output_type": "stream",
      "text": "Out[67][0]\nTraceback (most recent call last):\n  File \"/tmp/ipykernel_20/3342828923.py\", line 5, in <module>\n    outputs.append(typehandlerforuniqueobjects(Out[67][i]))\nTypeError: 'Text' object is not subscriptable\n\nOut[67][1]\nTraceback (most recent call last):\n  File \"/tmp/ipykernel_20/3342828923.py\", line 5, in <module>\n    outputs.append(typehandlerforuniqueobjects(Out[67][i]))\nTypeError: 'Text' object is not subscriptable\n\n"
     }
    ],
    "execution": {
     "iopub.execute_input": "2023-10-05T05:25:07.045960Z",
     "iopub.status.busy": "2023-10-05T05:25:07.045800Z",
     "iopub.status.idle": "2023-10-05T05:25:07.208993Z",
     "shell.execute_reply": "2023-10-05T05:25:07.208246Z"
    }
   },
   "outputs": [
    {
     "data": {
      "text/plain": [
       "Text(0.5, 1.0, 'Histogram of Black Artists in U.S. Museums from 1840-1990')"
      ]
     },
     "execution_count": 67,
     "metadata": {},
     "output_type": "execute_result"
    },
    {
     "data": {
      "image/png": "[encoded data removed]",
      "text/plain": [
       "<Figure size 640x480 with 1 Axes>"
      ]
     },
     "metadata": {},
     "output_type": "display_data"
    }
   ],
   "source": [
    "# black artists: most underrepresented ehtnicity\n",
    "sup=df.loc[ (df['ethnicity']=='black'), \n",
    "       'year'].hist()\n",
    "sup.set(xlabel='year', ylabel='count')\n",
    "plt.title('Histogram of Black Artists in U.S. Museums from 1840-1990')"
   ]
  },
  {
   "cell_type": "markdown",
   "id": "d4528a9c",
   "metadata": {},
   "source": [
    "This histogram focuses on the most underrpresented ethnic group in U.S. museums, the black population. Out of the 166 black artists featured in U.S. museums from 1840-1990, only 32 women; or about 28% were female black artists."
   ]
  },
  {
   "cell_type": "code",
   "execution_count": 69,
   "id": "54737eb9",
   "metadata": {
    "execution": {
     "iopub.execute_input": "2023-10-05T05:25:07.220119Z",
     "iopub.status.busy": "2023-10-05T05:25:07.219944Z",
     "iopub.status.idle": "2023-10-05T05:25:07.227140Z",
     "shell.execute_reply": "2023-10-05T05:25:07.226567Z"
    },
    "type_information": "[{\"type\": \"<class 'numpy.int64'>\", \"name\": \"int64\", \"module\": \"numpy\", \"size\": 32}]"
   },
   "outputs": [
    {
     "data": {
      "text/plain": [
       "32"
      ]
     },
     "execution_count": 69,
     "metadata": {},
     "output_type": "execute_result"
    }
   ],
   "source": [
    "# total count of female black artists\n",
    "df.loc[(df['gender']=='woman') & (df['ethnicity']=='black') & \n",
    "       (df['year']>1830) & \n",
    "       (df['year']<1990), 'artist'].count()"
   ]
  },
  {
   "cell_type": "code",
   "execution_count": 71,
   "id": "0d6684dd",
   "metadata": {
    "execution": {
     "iopub.execute_input": "2023-10-05T05:25:07.237034Z",
     "iopub.status.busy": "2023-10-05T05:25:07.236876Z",
     "iopub.status.idle": "2023-10-05T05:25:07.242736Z",
     "shell.execute_reply": "2023-10-05T05:25:07.242152Z"
    },
    "type_information": "[{\"type\": \"<class 'numpy.int64'>\", \"name\": \"int64\", \"module\": \"numpy\", \"size\": 32}]"
   },
   "outputs": [
    {
     "data": {
      "text/plain": [
       "116"
      ]
     },
     "execution_count": 71,
     "metadata": {},
     "output_type": "execute_result"
    }
   ],
   "source": [
    "#total black population 1840-1990\n",
    "df.loc[(df['ethnicity']=='black') & \n",
    "       (df['year']>1830) & \n",
    "       (df['year']<1990), 'artist'].count()"
   ]
  },
  {
   "cell_type": "code",
   "execution_count": 73,
   "id": "560b1acb",
   "metadata": {
    "execution": {
     "iopub.execute_input": "2023-10-05T05:25:07.252076Z",
     "iopub.status.busy": "2023-10-05T05:25:07.251906Z",
     "iopub.status.idle": "2023-10-05T05:25:07.260116Z",
     "shell.execute_reply": "2023-10-05T05:25:07.259536Z"
    },
    "type_information": "[{\"type\": \"<class 'numpy.float64'>\", \"name\": \"float64\", \"module\": \"numpy\", \"size\": 32}]"
   },
   "outputs": [
    {
     "data": {
      "text/plain": [
       "0.27586206896551724"
      ]
     },
     "execution_count": 73,
     "metadata": {},
     "output_type": "execute_result"
    }
   ],
   "source": [
    "#percentage of black women out of black population\n",
    "df.loc[(df['gender']=='woman') & (df['ethnicity']=='black') & \n",
    "       (df['year']>1830) & \n",
    "       (df['year']<1990), 'artist'].count()/ df.loc[(df['ethnicity']=='black') & (df['year']>1830) & \n",
    "       (df['year']<1990), 'artist'].count()"
   ]
  },
  {
   "cell_type": "code",
   "execution_count": 75,
   "id": "fe13642e",
   "metadata": {
    "debugging_output": [
     {
      "name": "stdout",
      "output_type": "stream",
      "text": "Out[75][0]\nTraceback (most recent call last):\n  File \"/tmp/ipykernel_20/2807166921.py\", line 5, in <module>\n    outputs.append(typehandlerforuniqueobjects(Out[75][i]))\nTypeError: 'Text' object is not subscriptable\n\nOut[75][1]\nTraceback (most recent call last):\n  File \"/tmp/ipykernel_20/2807166921.py\", line 5, in <module>\n    outputs.append(typehandlerforuniqueobjects(Out[75][i]))\nTypeError: 'Text' object is not subscriptable\n\n"
     }
    ],
    "execution": {
     "iopub.execute_input": "2023-10-05T05:25:07.270374Z",
     "iopub.status.busy": "2023-10-05T05:25:07.270212Z",
     "iopub.status.idle": "2023-10-05T05:25:07.603894Z",
     "shell.execute_reply": "2023-10-05T05:25:07.603155Z"
    }
   },
   "outputs": [
    {
     "data": {
      "text/plain": [
       "Text(0.5, 0.98, \"Artists' Geographical Origin\")"
      ]
     },
     "execution_count": 75,
     "metadata": {},
     "output_type": "execute_result"
    },
    {
     "data": {
      "image/png": "[encoded data removed]",
      "text/plain": [
       "<Figure size 1000x500 with 2 Axes>"
      ]
     },
     "metadata": {},
     "output_type": "display_data"
    }
   ],
   "source": [
    "# Artists' geographic origin \n",
    "sup = sns.catplot(data=df, \n",
    "            y='GEO3major',\n",
    "            col='gender', \n",
    "            kind='count')\n",
    "sup.set(xlabel='count', ylabel='GEO3 region')\n",
    "sup.fig.subplots_adjust(top=.8)\n",
    "sup.fig.suptitle(\"Artists' Geographical Origin\")"
   ]
  },
  {
   "cell_type": "markdown",
   "id": "dbe54038",
   "metadata": {},
   "source": [
    "This categorical plot shows the geographic location of national and international artists in U.S. museums from years 1500-2000 specific to artist gender. North American artists make up approximately 43.2% of the population and the second greatest demographic of artists are European artists, who make up about 39% of the population. Artists from Asia and the Pacific, Latin America and the Caribbean, West Asia, and Africa were noticibly less represented in major U.S. museums. Similar to other visualizations created from this dataset, male artists have a significantly greater quantity than female artists in U.S. museums."
   ]
  },
  {
   "cell_type": "code",
   "execution_count": 77,
   "id": "c901e54a",
   "metadata": {
    "execution": {
     "iopub.execute_input": "2023-10-05T05:25:07.614996Z",
     "iopub.status.busy": "2023-10-05T05:25:07.614833Z",
     "iopub.status.idle": "2023-10-05T05:25:07.621586Z",
     "shell.execute_reply": "2023-10-05T05:25:07.620964Z"
    },
    "type_information": "[{\"type\": \"<class 'numpy.int64'>\", \"name\": \"int64\", \"module\": \"numpy\", \"size\": 32}]"
   },
   "outputs": [
    {
     "data": {
      "text/plain": [
       "3145"
      ]
     },
     "execution_count": 77,
     "metadata": {},
     "output_type": "execute_result"
    }
   ],
   "source": [
    "# count of North American Artists\n",
    "df.loc[(df['GEO3major']=='North America') & \n",
    "       (df['year']>1500) & \n",
    "       (df['year']<2000), 'artist'].count()"
   ]
  },
  {
   "cell_type": "code",
   "execution_count": 79,
   "id": "92e29ea6",
   "metadata": {
    "execution": {
     "iopub.execute_input": "2023-10-05T05:25:07.631301Z",
     "iopub.status.busy": "2023-10-05T05:25:07.631136Z",
     "iopub.status.idle": "2023-10-05T05:25:07.638432Z",
     "shell.execute_reply": "2023-10-05T05:25:07.637797Z"
    },
    "type_information": "[{\"type\": \"<class 'numpy.float64'>\", \"name\": \"float64\", \"module\": \"numpy\", \"size\": 32}]"
   },
   "outputs": [
    {
     "data": {
      "text/plain": [
       "0.43188684427355123"
      ]
     },
     "execution_count": 79,
     "metadata": {},
     "output_type": "execute_result"
    }
   ],
   "source": [
    "# % of North American Artists from 1500-2000\n",
    "df.loc[(df['GEO3major']=='North America') & \n",
    "       (df['year']>1500) & \n",
    "       (df['year']<2000), 'artist'].count() / df.loc[(df['year']>1500) & \n",
    "       (df['year']<2000), 'artist'].count()"
   ]
  },
  {
   "cell_type": "code",
   "execution_count": 81,
   "id": "f18f61fa",
   "metadata": {
    "execution": {
     "iopub.execute_input": "2023-10-05T05:25:07.647793Z",
     "iopub.status.busy": "2023-10-05T05:25:07.647632Z",
     "iopub.status.idle": "2023-10-05T05:25:07.653560Z",
     "shell.execute_reply": "2023-10-05T05:25:07.652987Z"
    },
    "type_information": "[{\"type\": \"<class 'numpy.int64'>\", \"name\": \"int64\", \"module\": \"numpy\", \"size\": 32}]"
   },
   "outputs": [
    {
     "data": {
      "text/plain": [
       "2843"
      ]
     },
     "execution_count": 81,
     "metadata": {},
     "output_type": "execute_result"
    }
   ],
   "source": [
    "# count of European Artists\n",
    "df.loc[(df['GEO3major']=='Europe') & \n",
    "       (df['year']>1500) & \n",
    "       (df['year']<2000), 'artist'].count()"
   ]
  },
  {
   "cell_type": "code",
   "execution_count": 83,
   "id": "41a2180b",
   "metadata": {
    "execution": {
     "iopub.execute_input": "2023-10-05T05:25:07.662985Z",
     "iopub.status.busy": "2023-10-05T05:25:07.662828Z",
     "iopub.status.idle": "2023-10-05T05:25:07.669723Z",
     "shell.execute_reply": "2023-10-05T05:25:07.669167Z"
    },
    "type_information": "[{\"type\": \"<class 'numpy.float64'>\", \"name\": \"float64\", \"module\": \"numpy\", \"size\": 32}]"
   },
   "outputs": [
    {
     "data": {
      "text/plain": [
       "0.3904147212304312"
      ]
     },
     "execution_count": 83,
     "metadata": {},
     "output_type": "execute_result"
    }
   ],
   "source": [
    "# % of European Artists from 1500-2000\n",
    "df.loc[(df['GEO3major']=='Europe') & \n",
    "       (df['year']>1500) & \n",
    "       (df['year']<2000), 'artist'].count() / df.loc[(df['year']>1500) & \n",
    "       (df['year']<2000), 'artist'].count()"
   ]
  },
  {
   "cell_type": "code",
   "execution_count": 85,
   "id": "11353482",
   "metadata": {
    "debugging_output": [
     {
      "name": "stdout",
      "output_type": "stream",
      "text": "Out[85][0]\nTraceback (most recent call last):\n  File \"/tmp/ipykernel_20/3885555644.py\", line 5, in <module>\n    outputs.append(typehandlerforuniqueobjects(Out[85][i]))\nTypeError: 'Text' object is not subscriptable\n\nOut[85][1]\nTraceback (most recent call last):\n  File \"/tmp/ipykernel_20/3885555644.py\", line 5, in <module>\n    outputs.append(typehandlerforuniqueobjects(Out[85][i]))\nTypeError: 'Text' object is not subscriptable\n\n"
     }
    ],
    "execution": {
     "iopub.execute_input": "2023-10-05T05:25:07.679094Z",
     "iopub.status.busy": "2023-10-05T05:25:07.678936Z",
     "iopub.status.idle": "2023-10-05T05:25:07.833492Z",
     "shell.execute_reply": "2023-10-05T05:25:07.832869Z"
    }
   },
   "outputs": [
    {
     "data": {
      "text/plain": [
       "Text(0.5, 1.0, 'Histogram of North American Artists in U.S. Museums from 1650-2000')"
      ]
     },
     "execution_count": 85,
     "metadata": {},
     "output_type": "execute_result"
    },
    {
     "data": {
      "image/png": "[encoded data removed]",
      "text/plain": [
       "<Figure size 640x480 with 1 Axes>"
      ]
     },
     "metadata": {},
     "output_type": "display_data"
    }
   ],
   "source": [
    "# North American Artists in U.S. Museums 1650-2000\n",
    "sup=df.loc[(df['GEO3major']=='North America'),'year'].hist()\n",
    "sup.set(xlabel='year', ylabel='count')\n",
    "plt.title('Histogram of North American Artists in U.S. Museums from 1650-2000')"
   ]
  },
  {
   "cell_type": "markdown",
   "id": "383ebd62",
   "metadata": {},
   "source": [
    "From 1750 to 1950, there was a steady increase in artists from North America being showcased at U.S. museums. The peak was around 1925 to 1950, then the quantity of artists rapidly dropped in the next 50 years."
   ]
  },
  {
   "cell_type": "code",
   "execution_count": 87,
   "id": "fe39d240",
   "metadata": {
    "debugging_output": [
     {
      "name": "stdout",
      "output_type": "stream",
      "text": "Out[87][0]\nTraceback (most recent call last):\n  File \"/tmp/ipykernel_20/3518346331.py\", line 5, in <module>\n    outputs.append(typehandlerforuniqueobjects(Out[87][i]))\nTypeError: 'Text' object is not subscriptable\n\nOut[87][1]\nTraceback (most recent call last):\n  File \"/tmp/ipykernel_20/3518346331.py\", line 5, in <module>\n    outputs.append(typehandlerforuniqueobjects(Out[87][i]))\nTypeError: 'Text' object is not subscriptable\n\n"
     }
    ],
    "execution": {
     "iopub.execute_input": "2023-10-05T05:25:07.843662Z",
     "iopub.status.busy": "2023-10-05T05:25:07.843502Z",
     "iopub.status.idle": "2023-10-05T05:25:08.110875Z",
     "shell.execute_reply": "2023-10-05T05:25:08.110130Z"
    }
   },
   "outputs": [
    {
     "data": {
      "text/plain": [
       "Text(0.5, 1.0, \"Artists' Geographic Origin (1500-1900)\")"
      ]
     },
     "execution_count": 87,
     "metadata": {},
     "output_type": "execute_result"
    },
    {
     "data": {
      "image/png": "[encoded data removed]",
      "text/plain": [
       "<Figure size 640x480 with 1 Axes>"
      ]
     },
     "metadata": {},
     "output_type": "display_data"
    }
   ],
   "source": [
    "#'Artists' Geographic Origin (1500-1900)\n",
    "sns.histplot(data=df[(df['year']>1500)&(df['year']<1900)], \n",
    "            x='year',\n",
    "            hue='GEO3major',\n",
    "             bins=5,multiple='dodge')\n",
    "plt.title(\"Artists' Geographic Origin (1500-1900)\")"
   ]
  },
  {
   "cell_type": "markdown",
   "id": "ade57bf3",
   "metadata": {},
   "source": [
    "This graph demonstrates the strong presence of European artists in U.S. museums, as European artists dominate the other populations and maintain a steady increase in quantity each year."
   ]
  },
  {
   "cell_type": "code",
   "execution_count": 89,
   "id": "f56a44c0",
   "metadata": {
    "debugging_output": [
     {
      "name": "stdout",
      "output_type": "stream",
      "text": "Out[89][0]\nTraceback (most recent call last):\n  File \"/tmp/ipykernel_20/1941227088.py\", line 5, in <module>\n    outputs.append(typehandlerforuniqueobjects(Out[89][i]))\nTypeError: 'Text' object is not subscriptable\n\nOut[89][1]\nTraceback (most recent call last):\n  File \"/tmp/ipykernel_20/1941227088.py\", line 5, in <module>\n    outputs.append(typehandlerforuniqueobjects(Out[89][i]))\nTypeError: 'Text' object is not subscriptable\n\n"
     }
    ],
    "execution": {
     "iopub.execute_input": "2023-10-05T05:25:08.122007Z",
     "iopub.status.busy": "2023-10-05T05:25:08.121845Z",
     "iopub.status.idle": "2023-10-05T05:25:08.509210Z",
     "shell.execute_reply": "2023-10-05T05:25:08.508403Z"
    }
   },
   "outputs": [
    {
     "data": {
      "text/plain": [
       "Text(0.5, 1.0, \"Artists' Geographic Origin (1910-1990)\")"
      ]
     },
     "execution_count": 89,
     "metadata": {},
     "output_type": "execute_result"
    },
    {
     "data": {
      "image/png": "[encoded data removed]",
      "text/plain": [
       "<Figure size 640x480 with 1 Axes>"
      ]
     },
     "metadata": {},
     "output_type": "display_data"
    }
   ],
   "source": [
    "#'Artists' Geographic Origin (1910-1900)\n",
    "sns.histplot(data=df[(df['year']>1900)], \n",
    "            x='year',\n",
    "            hue='GEO3major',\n",
    "             bins=5,multiple='dodge')\n",
    "plt.title(\"Artists' Geographic Origin (1910-1990)\")"
   ]
  },
  {
   "cell_type": "markdown",
   "id": "e0a6ed3f",
   "metadata": {},
   "source": [
    "This graph focuses on artists' geogrpahic origins, specifically from 1910 to 1990. Unlike the other graph \"Artists' Geographic Origin (1500-1900),\" North American artists have a higher quantity than European artists or any other geographic region."
   ]
  },
  {
   "cell_type": "markdown",
   "id": "6823e1b9",
   "metadata": {},
   "source": [
    "# Discussion"
   ]
  },
  {
   "cell_type": "markdown",
   "id": "f09b6f7b",
   "metadata": {},
   "source": [
    "After using over 10,000 records of data to study artist diversity in U.S. museums based on gender, ethnicity, geographic origin, and birth decade, it can be determined that white men were by far the most prominent demographic of artists in the dataset. White male artists make up 75.8% of artists in the data pool, this can be attributed to euro-centric values such as the patriarchy and racial standards that influenced the Western hemisphere to become dominated by white men in almost every social and political sector. During the time period the data from this dataset was collected (1500-2000), it is evident that people of color and women did not have many opportunities to showcase their art or even break out of traditional societal roles enforced by the patriarchy. The \"Histogram of Artists in U.S. Museums from 1500-2000\" demonstrates the lack of social equity for non-white ethnicities and women, as the graph shows how Asian, Hispanic, and Black artist data combined only made up 13% of all artists in U.S. museums during a timespan of 400 years.\n",
    "\n",
    "However, this project has some limitations, as some data was missing values, and time periods were approximated. In addition, the gender category only considers two genders—male and female, so some data in the 1900s may not be completely accurate or exclude demographics of other gender identities. In regards to ethnicity catergories, there is no representation for Native Americans or mixed people. The dataset did not contain data from the 2000s, so the progressive efforts in racial and gender equality within the last few decades are less evident in this project.\n",
    "\n",
    "It is also interesting to note how trends in artist diversity in this dataset are a stark contrast from recent art movements in the last decade. In the 'Geographical Artist Origin' graph, the second greatest demographic of artists in U.S. museums being European artists (39%) could be correlated to the influence of European power in the United States, as much of the modern-day country is shaped by a history of European colonization. Additionally, this data is collected from only major U.S. museums, so more “radical” museums are not included. It can also be noted that social media and other independent news outlets have contributed to the resurgence of museums and the types of artists that occupy them.\n",
    "\n",
    "Political and social movements such as the Black Lives Matter movement after the unjust police killing of George Floyd have changed the art world and made museums acknowledge racial injustice within their institutions. These movements put pressure on institutions that have practiced systemic racism for years to make changes that would increase diversity and inclusion in their content and workplace. Some initiatives that museums have taken to work towards artist inclusivity are hiring diversity and inclusion directors (seen in New York, Washington, DC, Boston, Seattle, San Francisco, St Louis, and Toledo museums), as well as hiring consultants to lead anti-racism staff training and form workplace discrimination policies to empower employees (Kenney). While these initiatives are contributing to massive improvements in artist representation and the uplifting of historically marginalized communities, the work is difficult and taxing. According to Finkel, positions such as consultants are intended to help museums become more diverse, but it can feel overwhelming and be too much for just one individual to be in charge of.\n",
    "Today, people seem to value transparency and the truth, which are both essential to increasing diversity and cultivating a more inclusive world for others. Museums are more than just collections of historical ephemera or an artist’s past work—these spaces serve as educational institutions that provide insight into various ideals and values that have the potential to empower individuals. Unlearning social and political biases through the power of art can incredibly change the way society operates, but it cannot be done if artists are not given the platform to do so."
   ]
  },
  {
   "cell_type": "markdown",
   "id": "f3ad79f8",
   "metadata": {},
   "source": [
    "# References"
   ]
  },
  {
   "cell_type": "markdown",
   "id": "06114273",
   "metadata": {},
   "source": [
    "1. Artofstat. (2019). Artofstat/artistdiversity: Supplementary files for \"artist diversity in major US art museums\" by topaz et al.. GitHub. Retrieved March 31, 2023, from https://github.com/artofstat/ArtistDiversity \n",
    "2. Finkel, J. (2021, September 28). Meet the experts who root out racism and exclusion in the Arts. The Art Newspaper - International art news and events. Retrieved March 31, 2023, from https://www.theartnewspaper.com/2021/01/11/meet-the-experts-who-root-out-racism-and-exclusion-in-the-arts \n",
    "3. Kenney, N. (2021, September 28). Exclusive survey: What progress have us museums made on diversity, after a year of racial reckoning? The Art Newspaper - International art news and events. Retrieved March 31, 2023, from https://www.theartnewspaper.com/2021/05/25/exclusive-survey-what-progress-have-us-museums-made-on-diversity-after-a-year-of-racial-reckoning \n",
    "4. Topaz, Chad M., Bernhard Klingenberg, Daniel Turek, Brianna Heggeseth, Pamela E. Harris, Julie C. Blackwood, C. Ondine Chavoya, Steven Nelson, and Kevin M. Murphy. 2019. “‘Diversity of Artists in Major U.S. Museums’. Edited by Christopher M. Danforth.” PLOS ONE 14 (3): e0212852. doi:10.1371/journal.pone.0212852. [Crossref], [PubMed], [Web of Science ®], [Google Scholar]"
   ]
  }
 ],
 "metadata": {
  "kernelspec": {
   "display_name": "Python 3 (ipykernel)",
   "language": "python",
   "name": "python3"
  },
  "language_info": {
   "codemirror_mode": {
    "name": "ipython",
    "version": 3
   },
   "file_extension": ".py",
   "mimetype": "text/x-python",
   "name": "python",
   "nbconvert_exporter": "python",
   "pygments_lexer": "ipython3",
   "version": "3.10.12"
  }
 },
 "nbformat": 4,
 "nbformat_minor": 5
}
