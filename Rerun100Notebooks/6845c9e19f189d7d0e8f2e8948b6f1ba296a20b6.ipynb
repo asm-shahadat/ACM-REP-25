{
 "cells": [
  {
   "cell_type": "markdown",
   "id": "309a0e36-49bc-40d1-b768-4904dec169e3",
   "metadata": {},
   "source": [
    "Example of dict application: biology\n",
    "\n",
    "A, C, G, T 1-mer\n",
    "\n",
    "AA, AC, AG, AT ... 2-mer\n",
    "\n",
    "AAA AAC ... 3-mer\n",
    "\n"
   ]
  },
  {
   "cell_type": "code",
   "execution_count": 2,
   "id": "eb4c6898-7485-4e21-96d8-acdc726d1555",
   "metadata": {
    "execution": {
     "iopub.execute_input": "2023-10-05T07:40:58.282886Z",
     "iopub.status.busy": "2023-10-05T07:40:58.282600Z",
     "iopub.status.idle": "2023-10-05T07:40:58.288817Z",
     "shell.execute_reply": "2023-10-05T07:40:58.287757Z"
    }
   },
   "outputs": [],
   "source": [
    "def generate_dna_kmers(k):\n",
    "    '''\n",
    "    return a list of all possible substrings of length k using only chars A, C, T, and G\n",
    "    '''\n",
    "    bases = ['A','C','T','G']\n",
    "    \n",
    "    last = bases # last = ['']\n",
    "    for _ in range(k-1): # for _ in range(k):\n",
    "        current = []\n",
    "        for b in bases:\n",
    "                for l in last:\n",
    "                    current.append(l+b)\n",
    "        last = current\n",
    "    return last"
   ]
  },
  {
   "cell_type": "code",
   "execution_count": 3,
   "id": "220e1c9d-65ca-4549-9e0a-5bd34b061b7d",
   "metadata": {
    "execution": {
     "iopub.execute_input": "2023-10-05T07:40:58.292593Z",
     "iopub.status.busy": "2023-10-05T07:40:58.292310Z",
     "iopub.status.idle": "2023-10-05T07:40:58.297988Z",
     "shell.execute_reply": "2023-10-05T07:40:58.296954Z"
    }
   },
   "outputs": [],
   "source": [
    "def counter_mer(mer, seq):\n",
    "    ''' \n",
    "    Counts the number of times a substring mer\n",
    "    occurs in the sequence seq (including overlapping \n",
    "    occurrences)\n",
    "    \n",
    "    sample use: counter_mer(\"GGG\", \"AGGGCGGG\") => 2\n",
    "    '''\n",
    "    \n",
    "    k = len(mer)\n",
    "    count = 0\n",
    "    for i in range(0, len(seq)-k+1):\n",
    "        if mer == seq[i:i+k]:\n",
    "            count += 1\n",
    "    return count"
   ]
  },
  {
   "cell_type": "code",
   "execution_count": 4,
   "id": "1cda5758-c3f1-451a-8fe8-2315fff2e83f",
   "metadata": {
    "execution": {
     "iopub.execute_input": "2023-10-05T07:40:58.301549Z",
     "iopub.status.busy": "2023-10-05T07:40:58.301268Z",
     "iopub.status.idle": "2023-10-05T07:40:58.310215Z",
     "shell.execute_reply": "2023-10-05T07:40:58.309309Z"
    },
    "type_information": "[{\"type\": \"<class 'int'>\", \"name\": \"int\", \"module\": \"builtins\", \"size\": 28}]"
   },
   "outputs": [
    {
     "data": {
      "text/plain": [
       "2"
      ]
     },
     "execution_count": 4,
     "metadata": {},
     "output_type": "execute_result"
    }
   ],
   "source": [
    "counter_mer(\"GGG\", \"AGGGCGGG\")"
   ]
  },
  {
   "cell_type": "code",
   "execution_count": 6,
   "id": "d021763f-520e-4f9b-943a-f15124f511fc",
   "metadata": {
    "execution": {
     "iopub.execute_input": "2023-10-05T07:40:58.322710Z",
     "iopub.status.busy": "2023-10-05T07:40:58.322432Z",
     "iopub.status.idle": "2023-10-05T07:40:58.328137Z",
     "shell.execute_reply": "2023-10-05T07:40:58.326935Z"
    }
   },
   "outputs": [],
   "source": [
    "def kmer_count(k, seq):\n",
    "    rv = {}\n",
    "    for i in range(0, len(seq)-k+1):\n",
    "        subseq = seq[i:i+k]\n",
    "        if subseq in rv:\n",
    "            v = rv[subseq]\n",
    "        else:\n",
    "            v=1\n",
    "        rv[subseq] = v + 1"
   ]
  },
  {
   "cell_type": "code",
   "execution_count": 7,
   "id": "654fda43-066a-4831-9bed-5b093b37b97c",
   "metadata": {
    "execution": {
     "iopub.execute_input": "2023-10-05T07:40:58.331877Z",
     "iopub.status.busy": "2023-10-05T07:40:58.331598Z",
     "iopub.status.idle": "2023-10-05T07:40:58.336765Z",
     "shell.execute_reply": "2023-10-05T07:40:58.335848Z"
    }
   },
   "outputs": [],
   "source": [
    "def kmer_count_leet(k, seq):\n",
    "    rv = {}\n",
    "    for i in range(0, len(seq)-k+1):\n",
    "        subseq = seq[i:i+k]\n",
    "        rv[subseq] = 1 + rv.get(subseq,0)\n",
    "    return rv"
   ]
  },
  {
   "cell_type": "code",
   "execution_count": 8,
   "id": "d9b73215-dc10-467c-9e07-6df2057fa162",
   "metadata": {
    "execution": {
     "iopub.execute_input": "2023-10-05T07:40:58.340289Z",
     "iopub.status.busy": "2023-10-05T07:40:58.339984Z",
     "iopub.status.idle": "2023-10-05T07:40:58.426299Z",
     "shell.execute_reply": "2023-10-05T07:40:58.425392Z"
    },
    "type_information": "[{\"type\": \"<class 'int'>\", \"name\": \"int\", \"module\": \"builtins\", \"size\": 28}]"
   },
   "outputs": [
    {
     "data": {
      "text/plain": [
       "1000"
      ]
     },
     "execution_count": 8,
     "metadata": {},
     "output_type": "execute_result"
    }
   ],
   "source": [
    "import numpy as np\n",
    "nums = list(np.random.randint(0,10,1000))\n",
    "len(nums)"
   ]
  },
  {
   "cell_type": "code",
   "execution_count": 10,
   "id": "8db16d62-87d5-4ff8-aee2-712fc4f2e617",
   "metadata": {
    "execution": {
     "iopub.execute_input": "2023-10-05T07:40:58.438904Z",
     "iopub.status.busy": "2023-10-05T07:40:58.438210Z",
     "iopub.status.idle": "2023-10-05T07:40:58.442888Z",
     "shell.execute_reply": "2023-10-05T07:40:58.442057Z"
    }
   },
   "outputs": [],
   "source": [
    "def count_k(k,nums):\n",
    "    hold = {}\n",
    "    for n in nums:\n",
    "        hold[n] = 1 + hold.get(n,0)\n",
    "    return hold"
   ]
  },
  {
   "cell_type": "code",
   "execution_count": 11,
   "id": "35cfb651-5d92-4f1c-aeb3-2ec0b9b4d021",
   "metadata": {
    "execution": {
     "iopub.execute_input": "2023-10-05T07:40:58.446228Z",
     "iopub.status.busy": "2023-10-05T07:40:58.445937Z",
     "iopub.status.idle": "2023-10-05T07:40:58.450134Z",
     "shell.execute_reply": "2023-10-05T07:40:58.449259Z"
    }
   },
   "outputs": [],
   "source": [
    "d = count_k(10,nums)"
   ]
  },
  {
   "cell_type": "code",
   "execution_count": 12,
   "id": "bddc023b-0741-4e3e-90d6-9dade1af4870",
   "metadata": {
    "error": [
     {
      "ename": "TypeError",
      "evalue": "keys must be str, int, float, bool or None, not numpy.int64",
      "output_type": "error",
      "traceback": [
       "\u001b[0;31m---------------------------------------------------------------------------\u001b[0m",
       "\u001b[0;31mTypeError\u001b[0m                                 Traceback (most recent call last)",
       "Cell \u001b[0;32mIn[13], line 1\u001b[0m\n\u001b[0;32m----> 1\u001b[0m \u001b[43mjson\u001b[49m\u001b[38;5;241;43m.\u001b[39;49m\u001b[43mdumps\u001b[49m\u001b[43m(\u001b[49m\u001b[43m[\u001b[49m\u001b[43mtypehandlerforuniqueobjects\u001b[49m\u001b[43m(\u001b[49m\u001b[43mOut\u001b[49m\u001b[43m[\u001b[49m\u001b[38;5;241;43m12\u001b[39;49m\u001b[43m]\u001b[49m\u001b[43m)\u001b[49m\u001b[43m]\u001b[49m\u001b[43m)\u001b[49m\n",
       "File \u001b[0;32m/opt/conda/envs/testenv/lib/python3.9/json/__init__.py:231\u001b[0m, in \u001b[0;36mdumps\u001b[0;34m(obj, skipkeys, ensure_ascii, check_circular, allow_nan, cls, indent, separators, default, sort_keys, **kw)\u001b[0m\n\u001b[1;32m    226\u001b[0m \u001b[38;5;66;03m# cached encoder\u001b[39;00m\n\u001b[1;32m    227\u001b[0m \u001b[38;5;28;01mif\u001b[39;00m (\u001b[38;5;129;01mnot\u001b[39;00m skipkeys \u001b[38;5;129;01mand\u001b[39;00m ensure_ascii \u001b[38;5;129;01mand\u001b[39;00m\n\u001b[1;32m    228\u001b[0m     check_circular \u001b[38;5;129;01mand\u001b[39;00m allow_nan \u001b[38;5;129;01mand\u001b[39;00m\n\u001b[1;32m    229\u001b[0m     \u001b[38;5;28mcls\u001b[39m \u001b[38;5;129;01mis\u001b[39;00m \u001b[38;5;28;01mNone\u001b[39;00m \u001b[38;5;129;01mand\u001b[39;00m indent \u001b[38;5;129;01mis\u001b[39;00m \u001b[38;5;28;01mNone\u001b[39;00m \u001b[38;5;129;01mand\u001b[39;00m separators \u001b[38;5;129;01mis\u001b[39;00m \u001b[38;5;28;01mNone\u001b[39;00m \u001b[38;5;129;01mand\u001b[39;00m\n\u001b[1;32m    230\u001b[0m     default \u001b[38;5;129;01mis\u001b[39;00m \u001b[38;5;28;01mNone\u001b[39;00m \u001b[38;5;129;01mand\u001b[39;00m \u001b[38;5;129;01mnot\u001b[39;00m sort_keys \u001b[38;5;129;01mand\u001b[39;00m \u001b[38;5;129;01mnot\u001b[39;00m kw):\n\u001b[0;32m--> 231\u001b[0m     \u001b[38;5;28;01mreturn\u001b[39;00m \u001b[43m_default_encoder\u001b[49m\u001b[38;5;241;43m.\u001b[39;49m\u001b[43mencode\u001b[49m\u001b[43m(\u001b[49m\u001b[43mobj\u001b[49m\u001b[43m)\u001b[49m\n\u001b[1;32m    232\u001b[0m \u001b[38;5;28;01mif\u001b[39;00m \u001b[38;5;28mcls\u001b[39m \u001b[38;5;129;01mis\u001b[39;00m \u001b[38;5;28;01mNone\u001b[39;00m:\n\u001b[1;32m    233\u001b[0m     \u001b[38;5;28mcls\u001b[39m \u001b[38;5;241m=\u001b[39m JSONEncoder\n",
       "File \u001b[0;32m/opt/conda/envs/testenv/lib/python3.9/json/encoder.py:199\u001b[0m, in \u001b[0;36mJSONEncoder.encode\u001b[0;34m(self, o)\u001b[0m\n\u001b[1;32m    195\u001b[0m         \u001b[38;5;28;01mreturn\u001b[39;00m encode_basestring(o)\n\u001b[1;32m    196\u001b[0m \u001b[38;5;66;03m# This doesn't pass the iterator directly to ''.join() because the\u001b[39;00m\n\u001b[1;32m    197\u001b[0m \u001b[38;5;66;03m# exceptions aren't as detailed.  The list call should be roughly\u001b[39;00m\n\u001b[1;32m    198\u001b[0m \u001b[38;5;66;03m# equivalent to the PySequence_Fast that ''.join() would do.\u001b[39;00m\n\u001b[0;32m--> 199\u001b[0m chunks \u001b[38;5;241m=\u001b[39m \u001b[38;5;28;43mself\u001b[39;49m\u001b[38;5;241;43m.\u001b[39;49m\u001b[43miterencode\u001b[49m\u001b[43m(\u001b[49m\u001b[43mo\u001b[49m\u001b[43m,\u001b[49m\u001b[43m \u001b[49m\u001b[43m_one_shot\u001b[49m\u001b[38;5;241;43m=\u001b[39;49m\u001b[38;5;28;43;01mTrue\u001b[39;49;00m\u001b[43m)\u001b[49m\n\u001b[1;32m    200\u001b[0m \u001b[38;5;28;01mif\u001b[39;00m \u001b[38;5;129;01mnot\u001b[39;00m \u001b[38;5;28misinstance\u001b[39m(chunks, (\u001b[38;5;28mlist\u001b[39m, \u001b[38;5;28mtuple\u001b[39m)):\n\u001b[1;32m    201\u001b[0m     chunks \u001b[38;5;241m=\u001b[39m \u001b[38;5;28mlist\u001b[39m(chunks)\n",
       "File \u001b[0;32m/opt/conda/envs/testenv/lib/python3.9/json/encoder.py:257\u001b[0m, in \u001b[0;36mJSONEncoder.iterencode\u001b[0;34m(self, o, _one_shot)\u001b[0m\n\u001b[1;32m    252\u001b[0m \u001b[38;5;28;01melse\u001b[39;00m:\n\u001b[1;32m    253\u001b[0m     _iterencode \u001b[38;5;241m=\u001b[39m _make_iterencode(\n\u001b[1;32m    254\u001b[0m         markers, \u001b[38;5;28mself\u001b[39m\u001b[38;5;241m.\u001b[39mdefault, _encoder, \u001b[38;5;28mself\u001b[39m\u001b[38;5;241m.\u001b[39mindent, floatstr,\n\u001b[1;32m    255\u001b[0m         \u001b[38;5;28mself\u001b[39m\u001b[38;5;241m.\u001b[39mkey_separator, \u001b[38;5;28mself\u001b[39m\u001b[38;5;241m.\u001b[39mitem_separator, \u001b[38;5;28mself\u001b[39m\u001b[38;5;241m.\u001b[39msort_keys,\n\u001b[1;32m    256\u001b[0m         \u001b[38;5;28mself\u001b[39m\u001b[38;5;241m.\u001b[39mskipkeys, _one_shot)\n\u001b[0;32m--> 257\u001b[0m \u001b[38;5;28;01mreturn\u001b[39;00m \u001b[43m_iterencode\u001b[49m\u001b[43m(\u001b[49m\u001b[43mo\u001b[49m\u001b[43m,\u001b[49m\u001b[43m \u001b[49m\u001b[38;5;241;43m0\u001b[39;49m\u001b[43m)\u001b[49m\n",
       "\u001b[0;31mTypeError\u001b[0m: keys must be str, int, float, bool or None, not numpy.int64"
      ]
     }
    ],
    "execution": {
     "iopub.execute_input": "2023-10-05T07:40:58.453209Z",
     "iopub.status.busy": "2023-10-05T07:40:58.452922Z",
     "iopub.status.idle": "2023-10-05T07:40:58.459588Z",
     "shell.execute_reply": "2023-10-05T07:40:58.458686Z"
    }
   },
   "outputs": [
    {
     "data": {
      "text/plain": [
       "{7: 114, 6: 103, 5: 102, 8: 101, 2: 99}"
      ]
     },
     "execution_count": 12,
     "metadata": {},
     "output_type": "execute_result"
    }
   ],
   "source": [
    "{k:v for k,v in sorted(d.items(), key=lambda item: item[1],reverse=True)[:5]}"
   ]
  },
  {
   "cell_type": "code",
   "execution_count": null,
   "id": "5f35a42b-84e8-4165-9c4c-5c2944a85852",
   "metadata": {},
   "outputs": [],
   "source": []
  }
 ],
 "metadata": {
  "kernelspec": {
   "display_name": "Python 3 (ipykernel)",
   "language": "python",
   "name": "python3"
  },
  "language_info": {
   "codemirror_mode": {
    "name": "ipython",
    "version": 3
   },
   "file_extension": ".py",
   "mimetype": "text/x-python",
   "name": "python",
   "nbconvert_exporter": "python",
   "pygments_lexer": "ipython3",
   "version": "3.9.18"
  }
 },
 "nbformat": 4,
 "nbformat_minor": 5
}
