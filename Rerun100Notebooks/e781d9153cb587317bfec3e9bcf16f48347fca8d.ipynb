{
 "cells": [
  {
   "cell_type": "code",
   "execution_count": 2,
   "id": "6a5ea5e1",
   "metadata": {
    "execution": {
     "iopub.execute_input": "2023-10-05T18:41:32.313046Z",
     "iopub.status.busy": "2023-10-05T18:41:32.312753Z",
     "iopub.status.idle": "2023-10-05T18:41:34.141198Z",
     "shell.execute_reply": "2023-10-05T18:41:34.139989Z"
    }
   },
   "outputs": [],
   "source": [
    "import numpy as np\n",
    "import random\n",
    "import matplotlib\n",
    "import matplotlib.pyplot as plt\n",
    "import sklearn.datasets as dt\n",
    "from sklearn.model_selection import train_test_split\n",
    "import pandas as pd\n",
    "from sklearn.metrics import mean_squared_error"
   ]
  },
  {
   "cell_type": "markdown",
   "id": "a984daf7",
   "metadata": {},
   "source": [
    "## FedSGD attempt"
   ]
  },
  {
   "cell_type": "code",
   "execution_count": 3,
   "id": "70aec8b4",
   "metadata": {
    "execution": {
     "iopub.execute_input": "2023-10-05T18:41:34.145776Z",
     "iopub.status.busy": "2023-10-05T18:41:34.145441Z",
     "iopub.status.idle": "2023-10-05T18:41:34.156241Z",
     "shell.execute_reply": "2023-10-05T18:41:34.155239Z"
    }
   },
   "outputs": [],
   "source": [
    "from sklearn.datasets import load_diabetes\n",
    "from sklearn.preprocessing import StandardScaler\n",
    "\n",
    "\n",
    "diabetes = load_diabetes()\n",
    "X = diabetes.data\n",
    "y = diabetes.target\n",
    "\n",
    "sc=StandardScaler()\n",
    "X_transform=sc.fit_transform(X)\n",
    "\n",
    "df = pd.DataFrame(X_transform)\n",
    "df[\"y\"] = diabetes.target"
   ]
  },
  {
   "cell_type": "code",
   "execution_count": 4,
   "id": "e77de667",
   "metadata": {
    "execution": {
     "iopub.execute_input": "2023-10-05T18:41:34.159736Z",
     "iopub.status.busy": "2023-10-05T18:41:34.159519Z",
     "iopub.status.idle": "2023-10-05T18:41:34.176588Z",
     "shell.execute_reply": "2023-10-05T18:41:34.175584Z"
    },
    "type_information": "[{\"type\": \"<class 'pandas.core.frame.DataFrame'>\", \"name\": \"DataFrame\", \"module\": \"pandas.core.frame\", \"size\": 584, \"shape\": \"(5, 11)\", \"dtype\": \"0    float64\\n1    float64\\n2    float64\\n3    float64\\n4    float64\\n5    float64\\n6    float64\\n7    float64\\n8    float64\\n9    float64\\ny    float64\\ndtype: object\"}]"
   },
   "outputs": [
    {
     "data": {
      "text/html": [
       "<div>\n",
       "<style scoped>\n",
       "    .dataframe tbody tr th:only-of-type {\n",
       "        vertical-align: middle;\n",
       "    }\n",
       "\n",
       "    .dataframe tbody tr th {\n",
       "        vertical-align: top;\n",
       "    }\n",
       "\n",
       "    .dataframe thead th {\n",
       "        text-align: right;\n",
       "    }\n",
       "</style>\n",
       "<table border=\"1\" class=\"dataframe\">\n",
       "  <thead>\n",
       "    <tr style=\"text-align: right;\">\n",
       "      <th></th>\n",
       "      <th>0</th>\n",
       "      <th>1</th>\n",
       "      <th>2</th>\n",
       "      <th>3</th>\n",
       "      <th>4</th>\n",
       "      <th>5</th>\n",
       "      <th>6</th>\n",
       "      <th>7</th>\n",
       "      <th>8</th>\n",
       "      <th>9</th>\n",
       "      <th>y</th>\n",
       "    </tr>\n",
       "  </thead>\n",
       "  <tbody>\n",
       "    <tr>\n",
       "      <th>0</th>\n",
       "      <td>0.800500</td>\n",
       "      <td>1.065488</td>\n",
       "      <td>1.297088</td>\n",
       "      <td>0.459841</td>\n",
       "      <td>-0.929746</td>\n",
       "      <td>-0.732065</td>\n",
       "      <td>-0.912451</td>\n",
       "      <td>-0.054499</td>\n",
       "      <td>0.418531</td>\n",
       "      <td>-0.370989</td>\n",
       "      <td>151.0</td>\n",
       "    </tr>\n",
       "    <tr>\n",
       "      <th>1</th>\n",
       "      <td>-0.039567</td>\n",
       "      <td>-0.938537</td>\n",
       "      <td>-1.082180</td>\n",
       "      <td>-0.553505</td>\n",
       "      <td>-0.177624</td>\n",
       "      <td>-0.402886</td>\n",
       "      <td>1.564414</td>\n",
       "      <td>-0.830301</td>\n",
       "      <td>-1.436589</td>\n",
       "      <td>-1.938479</td>\n",
       "      <td>75.0</td>\n",
       "    </tr>\n",
       "    <tr>\n",
       "      <th>2</th>\n",
       "      <td>1.793307</td>\n",
       "      <td>1.065488</td>\n",
       "      <td>0.934533</td>\n",
       "      <td>-0.119214</td>\n",
       "      <td>-0.958674</td>\n",
       "      <td>-0.718897</td>\n",
       "      <td>-0.680245</td>\n",
       "      <td>-0.054499</td>\n",
       "      <td>0.060156</td>\n",
       "      <td>-0.545154</td>\n",
       "      <td>141.0</td>\n",
       "    </tr>\n",
       "    <tr>\n",
       "      <th>3</th>\n",
       "      <td>-1.872441</td>\n",
       "      <td>-0.938537</td>\n",
       "      <td>-0.243771</td>\n",
       "      <td>-0.770650</td>\n",
       "      <td>0.256292</td>\n",
       "      <td>0.525397</td>\n",
       "      <td>-0.757647</td>\n",
       "      <td>0.721302</td>\n",
       "      <td>0.476983</td>\n",
       "      <td>-0.196823</td>\n",
       "      <td>206.0</td>\n",
       "    </tr>\n",
       "    <tr>\n",
       "      <th>4</th>\n",
       "      <td>0.113172</td>\n",
       "      <td>-0.938537</td>\n",
       "      <td>-0.764944</td>\n",
       "      <td>0.459841</td>\n",
       "      <td>0.082726</td>\n",
       "      <td>0.327890</td>\n",
       "      <td>0.171178</td>\n",
       "      <td>-0.054499</td>\n",
       "      <td>-0.672502</td>\n",
       "      <td>-0.980568</td>\n",
       "      <td>135.0</td>\n",
       "    </tr>\n",
       "  </tbody>\n",
       "</table>\n",
       "</div>"
      ],
      "text/plain": [
       "          0         1         2         3         4         5         6  \\\n",
       "0  0.800500  1.065488  1.297088  0.459841 -0.929746 -0.732065 -0.912451   \n",
       "1 -0.039567 -0.938537 -1.082180 -0.553505 -0.177624 -0.402886  1.564414   \n",
       "2  1.793307  1.065488  0.934533 -0.119214 -0.958674 -0.718897 -0.680245   \n",
       "3 -1.872441 -0.938537 -0.243771 -0.770650  0.256292  0.525397 -0.757647   \n",
       "4  0.113172 -0.938537 -0.764944  0.459841  0.082726  0.327890  0.171178   \n",
       "\n",
       "          7         8         9      y  \n",
       "0 -0.054499  0.418531 -0.370989  151.0  \n",
       "1 -0.830301 -1.436589 -1.938479   75.0  \n",
       "2 -0.054499  0.060156 -0.545154  141.0  \n",
       "3  0.721302  0.476983 -0.196823  206.0  \n",
       "4 -0.054499 -0.672502 -0.980568  135.0  "
      ]
     },
     "execution_count": 4,
     "metadata": {},
     "output_type": "execute_result"
    }
   ],
   "source": [
    "df.head()"
   ]
  },
  {
   "cell_type": "code",
   "execution_count": 6,
   "id": "20789c4c",
   "metadata": {
    "execution": {
     "iopub.execute_input": "2023-10-05T18:41:34.191155Z",
     "iopub.status.busy": "2023-10-05T18:41:34.190939Z",
     "iopub.status.idle": "2023-10-05T18:41:34.195879Z",
     "shell.execute_reply": "2023-10-05T18:41:34.194902Z"
    }
   },
   "outputs": [],
   "source": [
    "def theta_init(X):\n",
    "    \"\"\" Generate an initial value of vector θ from the original independent variables matrix\n",
    "         Parameters:\n",
    "          X:  independent variables matrix\n",
    "        Return value: a vector of theta filled with initial guess\n",
    "    \"\"\"\n",
    "    theta = np.random.randn(len(X[0])+1, 1)\n",
    "    return theta"
   ]
  },
  {
   "cell_type": "code",
   "execution_count": 7,
   "id": "7f6fc64a",
   "metadata": {
    "execution": {
     "iopub.execute_input": "2023-10-05T18:41:34.199291Z",
     "iopub.status.busy": "2023-10-05T18:41:34.199080Z",
     "iopub.status.idle": "2023-10-05T18:41:34.203794Z",
     "shell.execute_reply": "2023-10-05T18:41:34.202838Z"
    }
   },
   "outputs": [],
   "source": [
    "def generateXvector(X):\n",
    "    \"\"\" Taking the original independent variables matrix and add a row of 1 which corresponds to x_0\n",
    "        Parameters:\n",
    "          X:  independent variables matrix\n",
    "        Return value: the matrix that contains all the values in the dataset, not include the outcomes variables. \n",
    "    \"\"\"\n",
    "    vectorX = np.c_[np.ones((len(X), 1)), X]\n",
    "    return vectorX"
   ]
  },
  {
   "cell_type": "code",
   "execution_count": 8,
   "id": "70746002",
   "metadata": {
    "debugging_output": [
     {
      "name": "stdout",
      "output_type": "stream",
      "text": "Out[8][0]\nTraceback (most recent call last):\n  File \"/tmp/ipykernel_20/3041448874.py\", line 5, in <module>\n    outputs.append(typehandlerforuniqueobjects(Out[8][i]))\nTypeError: 'Text' object is not subscriptable\n\nOut[8][1]\nTraceback (most recent call last):\n  File \"/tmp/ipykernel_20/3041448874.py\", line 5, in <module>\n    outputs.append(typehandlerforuniqueobjects(Out[8][i]))\nTypeError: 'Text' object is not subscriptable\n\nOut[8][2]\nTraceback (most recent call last):\n  File \"/tmp/ipykernel_20/3041448874.py\", line 5, in <module>\n    outputs.append(typehandlerforuniqueobjects(Out[8][i]))\nTypeError: 'Text' object is not subscriptable\n\n"
     }
    ],
    "execution": {
     "iopub.execute_input": "2023-10-05T18:41:34.207070Z",
     "iopub.status.busy": "2023-10-05T18:41:34.206858Z",
     "iopub.status.idle": "2023-10-05T18:41:35.362033Z",
     "shell.execute_reply": "2023-10-05T18:41:35.361238Z"
    }
   },
   "outputs": [
    {
     "name": "stdout",
     "output_type": "stream",
     "text": [
      "     0         1         2         3         4         5         6         7  \\\n",
      "0  1.0  0.800500  1.065488  1.297088  0.459841 -0.929746 -0.732065 -0.912451   \n",
      "1  1.0 -0.039567 -0.938537 -1.082180 -0.553505 -0.177624 -0.402886  1.564414   \n",
      "2  1.0  1.793307  1.065488  0.934533 -0.119214 -0.958674 -0.718897 -0.680245   \n",
      "3  1.0 -1.872441 -0.938537 -0.243771 -0.770650  0.256292  0.525397 -0.757647   \n",
      "4  1.0  0.113172 -0.938537 -0.764944  0.459841  0.082726  0.327890  0.171178   \n",
      "\n",
      "          8         9        10      y  \n",
      "0 -0.054499  0.418531 -0.370989  151.0  \n",
      "1 -0.830301 -1.436589 -1.938479   75.0  \n",
      "2 -0.054499  0.060156 -0.545154  141.0  \n",
      "3  0.721302  0.476983 -0.196823  206.0  \n",
      "4 -0.054499 -0.672502 -0.980568  135.0  \n"
     ]
    },
    {
     "name": "stderr",
     "output_type": "stream",
     "text": [
      "/opt/conda/envs/testenv/lib/python3.9/site-packages/numpy/core/fromnumeric.py:59: FutureWarning: 'DataFrame.swapaxes' is deprecated and will be removed in a future version. Please use 'DataFrame.transpose' instead.\n",
      "  return bound(*args, **kwds)\n"
     ]
    },
    {
     "data": {
      "text/plain": [
       "Text(0, 0.5, 'Cost')"
      ]
     },
     "execution_count": 8,
     "metadata": {},
     "output_type": "execute_result"
    },
    {
     "data": {
      "image/png": "[encoded data removed]",
      "text/plain": [
       "<Figure size 640x480 with 1 Axes>"
      ]
     },
     "metadata": {},
     "output_type": "display_data"
    }
   ],
   "source": [
    "N = 8\n",
    "S = 6\n",
    "iterations = 2000\n",
    "n_feat = 11\n",
    "learning_rate = 0.03\n",
    "\n",
    "diabetes = load_diabetes()\n",
    "X = diabetes.data\n",
    "y = diabetes.target\n",
    "\n",
    "sc=StandardScaler()\n",
    "X_transform=sc.fit_transform(X)\n",
    "\n",
    "y_new = np.reshape(y, (len(y), 1))   \n",
    "cost_lst = []\n",
    "\n",
    "vectorX = generateXvector(X_transform)\n",
    "w_init = theta_init(X_transform)\n",
    "\n",
    "df = pd.DataFrame(vectorX)\n",
    "df[\"y\"] = y\n",
    "\n",
    "print(df.head())\n",
    "\n",
    "shuffled = df.sample(frac=1)\n",
    "data = np.array_split(shuffled, N) \n",
    "\n",
    "for i in range(len(data)):\n",
    "    data[i] = (data[i][range(0,11)].to_numpy(),data[i][\"y\"].to_numpy())\n",
    "\n",
    "\n",
    "m = len(X_transform)\n",
    "\n",
    "w_model = w_init\n",
    "\n",
    "#Iterations\n",
    "for i in range(0,iterations):\n",
    "\n",
    "    #Random selection of clients\n",
    "    x = list(range(1,N))\n",
    "    sel = random.sample(x,S)\n",
    "\n",
    "    grad = [None]*S\n",
    "    loc = 0\n",
    "    \n",
    "    #Clients iteration\n",
    "    for j in sel:\n",
    "\n",
    "        w_cli = w_model\n",
    "    \n",
    "        gradients = 2/m * vectorX.T.dot(vectorX.dot(w_model) - y_new)\n",
    "        grad[loc] = 2/m * data[j][0].T.dot(data[j][0].dot(w_model) - data[j][1].reshape(len(data[j][1]),1))\n",
    "        loc +=1\n",
    "    \n",
    "    g = np.stack(grad, axis=0)\n",
    "    grad_mean = g.mean(axis = 0)\n",
    "\n",
    "    \n",
    "    w_model = w_model  - learning_rate*grad_mean\n",
    "    \n",
    "    y_pred = vectorX.dot(w_model)\n",
    "    cost_value = 1/(2*len(y))*((y_pred - y)**2) \n",
    "            #Calculate the loss for each training instance\n",
    "    total = 0\n",
    "    for i in range(len(y)):\n",
    "        total += cost_value[i][0] \n",
    "        #Calculate the cost function for each iteration\n",
    "    cost_lst.append(total)\n",
    "    \n",
    "    #grads = np.stack(grads)\n",
    "    #mean_grads = np.average(grads, axis=0)\n",
    "    #print(w_model)\n",
    "\n",
    "    \n",
    "    \n",
    "plt.plot(np.arange(1,iterations),cost_lst[1:], color = 'red')\n",
    "plt.title('Cost function Graph')\n",
    "plt.xlabel('Number of iterations')\n",
    "plt.ylabel('Cost')\n"
   ]
  },
  {
   "cell_type": "code",
   "execution_count": 10,
   "id": "8c0393c2",
   "metadata": {
    "execution": {
     "iopub.execute_input": "2023-10-05T18:41:35.372715Z",
     "iopub.status.busy": "2023-10-05T18:41:35.372534Z",
     "iopub.status.idle": "2023-10-05T18:41:35.377449Z",
     "shell.execute_reply": "2023-10-05T18:41:35.376739Z"
    },
    "type_information": "[{\"type\": \"<class 'numpy.ndarray'>\", \"name\": \"ndarray\", \"module\": \"numpy\", \"size\": 216, \"shape\": \"(11, 1)\", \"dtype\": \"float64\"}]"
   },
   "outputs": [
    {
     "data": {
      "text/plain": [
       "array([[-0.72200703],\n",
       "       [ 1.07460882],\n",
       "       [-1.46889365],\n",
       "       [-0.77657517],\n",
       "       [ 1.66721518],\n",
       "       [ 0.08250605],\n",
       "       [-0.39581476],\n",
       "       [ 0.47145008],\n",
       "       [-0.41105883],\n",
       "       [ 0.36929584],\n",
       "       [-0.19874927]])"
      ]
     },
     "execution_count": 10,
     "metadata": {},
     "output_type": "execute_result"
    }
   ],
   "source": [
    "w_init"
   ]
  },
  {
   "cell_type": "markdown",
   "id": "4de97d17",
   "metadata": {},
   "source": [
    "## Toy data test"
   ]
  },
  {
   "cell_type": "code",
   "execution_count": 12,
   "id": "4488aa91",
   "metadata": {
    "debugging_output": [
     {
      "name": "stdout",
      "output_type": "stream",
      "text": "Out[12][0]\nTraceback (most recent call last):\n  File \"/tmp/ipykernel_20/3415882751.py\", line 5, in <module>\n    outputs.append(typehandlerforuniqueobjects(Out[12][i]))\nTypeError: 'Text' object is not subscriptable\n\nOut[12][1]\nTraceback (most recent call last):\n  File \"/tmp/ipykernel_20/3415882751.py\", line 5, in <module>\n    outputs.append(typehandlerforuniqueobjects(Out[12][i]))\nTypeError: 'Text' object is not subscriptable\n\n"
     }
    ],
    "execution": {
     "iopub.execute_input": "2023-10-05T18:41:35.387427Z",
     "iopub.status.busy": "2023-10-05T18:41:35.387253Z",
     "iopub.status.idle": "2023-10-05T18:41:35.982780Z",
     "shell.execute_reply": "2023-10-05T18:41:35.981767Z"
    }
   },
   "outputs": [
    {
     "name": "stderr",
     "output_type": "stream",
     "text": [
      "/opt/conda/envs/testenv/lib/python3.9/site-packages/numpy/core/fromnumeric.py:59: FutureWarning: 'DataFrame.swapaxes' is deprecated and will be removed in a future version. Please use 'DataFrame.transpose' instead.\n",
      "  return bound(*args, **kwds)\n"
     ]
    },
    {
     "data": {
      "text/plain": [
       "Text(0, 0.5, 'Cost')"
      ]
     },
     "execution_count": 12,
     "metadata": {},
     "output_type": "execute_result"
    },
    {
     "data": {
      "image/png": "[encoded data removed]",
      "text/plain": [
       "<Figure size 640x480 with 1 Axes>"
      ]
     },
     "metadata": {},
     "output_type": "display_data"
    }
   ],
   "source": [
    "x = [np.random.randint(1,10) for i in range(0,300)]\n",
    "y = [n*2 for n in x]\n",
    "x = np.array(x).reshape(300,1)\n",
    "y = np.array(y).reshape(300,1)\n",
    "\n",
    "\n",
    "\n",
    "N = 8\n",
    "S = 6\n",
    "iterations = 2000\n",
    "\n",
    "n_feat = 2\n",
    "learning_rate = 0.01\n",
    "\n",
    "y_new = np.reshape(y, (len(y), 1))   \n",
    "cost_lst = []\n",
    "\n",
    "vectorX = generateXvector(x)\n",
    "w_init = theta_init(x)\n",
    "\n",
    "df = pd.DataFrame(vectorX)\n",
    "df[\"y\"] = y\n",
    "\n",
    "shuffled = df.sample(frac=1)\n",
    "data = np.array_split(shuffled, N) \n",
    "\n",
    "for i in range(len(data)):\n",
    "    data[i] = (data[i][range(0,n_feat)].to_numpy(),data[i][\"y\"].to_numpy())\n",
    "\n",
    "\n",
    "m = len(vectorX)\n",
    "\n",
    "w_model = w_init\n",
    "\n",
    "#Iterations\n",
    "for i in range(0,iterations):\n",
    "\n",
    "    #Random selection of clients\n",
    "    a = list(range(1,N))\n",
    "    sel = random.sample(a,S)\n",
    "\n",
    "    grad = [None]*S\n",
    "    loc = 0\n",
    "    \n",
    "    #Clients iteration\n",
    "    for j in sel:\n",
    "        \n",
    "        w_cli = w_model\n",
    "\n",
    "        \n",
    "        gradients = 2/m * vectorX.T.dot(vectorX.dot(w_model) - y_new)\n",
    "        \n",
    "\n",
    "        grad[loc] = 2/len(data[j][0]) * data[j][0].T.dot(data[j][0].dot(w_model) - data[j][1].reshape(len(data[j][1]),1))\n",
    "        \n",
    "        loc +=1\n",
    "\n",
    "    g = np.stack(grad, axis=0)\n",
    "    grad_mean = g.mean(axis = 0)\n",
    "\n",
    "    \n",
    "    w_model = w_model  - learning_rate*grad_mean\n",
    "    \n",
    "    \n",
    "    y_pred = vectorX.dot(w_model)\n",
    "    cost_value = 1/(len(y))*((y_pred - y)**2) \n",
    "            #Calculate the loss for each training instance\n",
    "    total = 0\n",
    "    for i in range(len(y)):\n",
    "        total += cost_value[i][0] \n",
    "        #Calculate the cost function for each iteration\n",
    "    cost_lst.append(total)\n",
    "    \n",
    "    #grads = np.stack(grads)\n",
    "    #mean_grads = np.average(grads, axis=0)\n",
    "    #print(w_model)\n",
    "\n",
    "    \n",
    "    \n",
    "plt.plot(np.arange(1,iterations),cost_lst[1:], color = 'red')\n",
    "plt.title('Cost function Graph')\n",
    "plt.xlabel('Number of iterations')\n",
    "plt.ylabel('Cost')\n"
   ]
  },
  {
   "cell_type": "code",
   "execution_count": 14,
   "id": "1fe16564",
   "metadata": {
    "execution": {
     "iopub.execute_input": "2023-10-05T18:41:35.994782Z",
     "iopub.status.busy": "2023-10-05T18:41:35.994604Z",
     "iopub.status.idle": "2023-10-05T18:41:35.999746Z",
     "shell.execute_reply": "2023-10-05T18:41:35.998971Z"
    },
    "type_information": "[{\"type\": \"<class 'numpy.ndarray'>\", \"name\": \"ndarray\", \"module\": \"numpy\", \"size\": 144, \"shape\": \"(2, 1)\", \"dtype\": \"float64\"}]"
   },
   "outputs": [
    {
     "data": {
      "text/plain": [
       "array([[1.43364545e-04],\n",
       "       [1.99997784e+00]])"
      ]
     },
     "execution_count": 14,
     "metadata": {},
     "output_type": "execute_result"
    }
   ],
   "source": [
    "w_model"
   ]
  },
  {
   "cell_type": "markdown",
   "id": "f673732d",
   "metadata": {},
   "source": [
    "## FedAvg implementation "
   ]
  },
  {
   "cell_type": "code",
   "execution_count": 16,
   "id": "9cd8c54f",
   "metadata": {
    "execution": {
     "iopub.execute_input": "2023-10-05T18:41:36.010299Z",
     "iopub.status.busy": "2023-10-05T18:41:36.010125Z",
     "iopub.status.idle": "2023-10-05T18:41:36.014768Z",
     "shell.execute_reply": "2023-10-05T18:41:36.013989Z"
    }
   },
   "outputs": [],
   "source": [
    "def theta_init(X):\n",
    "    \"\"\" Generate an initial value of vector θ from the original independent variables matrix\n",
    "         Parameters:\n",
    "          X:  independent variables matrix\n",
    "        Return value: a vector of theta filled with initial guess\n",
    "    \"\"\"\n",
    "    theta = np.random.randn(len(X[0])+1, 1)\n",
    "    return theta\n",
    "\n",
    "def generateXvector(X):\n",
    "    \"\"\" Taking the original independent variables matrix and add a row of 1 which corresponds to x_0\n",
    "        Parameters:\n",
    "          X:  independent variables matrix\n",
    "        Return value: the matrix that contains all the values in the dataset, not include the outcomes variables. \n",
    "    \"\"\"\n",
    "    vectorX = np.c_[np.ones((len(X), 1)), X]\n",
    "    return vectorX"
   ]
  },
  {
   "cell_type": "code",
   "execution_count": 17,
   "id": "f593b631",
   "metadata": {
    "execution": {
     "iopub.execute_input": "2023-10-05T18:41:36.017594Z",
     "iopub.status.busy": "2023-10-05T18:41:36.017423Z",
     "iopub.status.idle": "2023-10-05T18:41:36.023845Z",
     "shell.execute_reply": "2023-10-05T18:41:36.023066Z"
    }
   },
   "outputs": [],
   "source": [
    "def federated_sgd(data, iterations, N, S, n_feature, learning_rate,w_model):\n",
    "    cost_lst = []\n",
    "    for i in range(0,iterations):\n",
    "        #Random selection of clients\n",
    "        a = list(range(1,N))\n",
    "        sel = random.sample(a,S)\n",
    "\n",
    "        grad = [None]*S\n",
    "        loc = 0\n",
    "\n",
    "        #Clients iteration\n",
    "        for j in sel:\n",
    "\n",
    "            w_cli = w_model\n",
    "\n",
    "            \n",
    "            #Gone repla\n",
    "            grad[loc] = 2/len(data[j][0]) * data[j][0].T.dot(data[j][0].dot(w_cli) - data[j][1].reshape(len(data[j][1]),1))\n",
    "\n",
    "            loc +=1\n",
    "\n",
    "        g = np.stack(grad, axis=0)\n",
    "        #Plot over iterations\n",
    "        grad_mean = g.mean(axis = 0)\n",
    "        \n",
    "        \n",
    "        #Pytorch function \n",
    "        w_model = w_model  - learning_rate*grad_mean\n",
    "        \n",
    "        y_pred = vectorX.dot(w_model)\n",
    "        cost_value = 1/(len(y))*((y_pred - y)**2) \n",
    "                #Calculate the loss for each training instance\n",
    "        total = 0\n",
    "        for i in range(len(y)):\n",
    "            total += cost_value[i][0] \n",
    "            #Calculate the cost function for each iteration\n",
    "        cost_lst.append(total)\n",
    "    return w_model, cost_lst\n"
   ]
  },
  {
   "cell_type": "markdown",
   "id": "9e048258",
   "metadata": {},
   "source": [
    "####  All clients same alpha"
   ]
  },
  {
   "cell_type": "code",
   "execution_count": 18,
   "id": "25737448",
   "metadata": {
    "debugging_output": [
     {
      "name": "stdout",
      "output_type": "stream",
      "text": "Out[18][0]\nTraceback (most recent call last):\n  File \"/tmp/ipykernel_20/1065846435.py\", line 5, in <module>\n    outputs.append(typehandlerforuniqueobjects(Out[18][i]))\nTypeError: 'Text' object is not subscriptable\n\nOut[18][1]\nTraceback (most recent call last):\n  File \"/tmp/ipykernel_20/1065846435.py\", line 5, in <module>\n    outputs.append(typehandlerforuniqueobjects(Out[18][i]))\nTypeError: 'Text' object is not subscriptable\n\n"
     }
    ],
    "execution": {
     "iopub.execute_input": "2023-10-05T18:41:36.027164Z",
     "iopub.status.busy": "2023-10-05T18:41:36.026990Z",
     "iopub.status.idle": "2023-10-05T18:41:36.490927Z",
     "shell.execute_reply": "2023-10-05T18:41:36.489919Z"
    }
   },
   "outputs": [
    {
     "name": "stderr",
     "output_type": "stream",
     "text": [
      "/opt/conda/envs/testenv/lib/python3.9/site-packages/numpy/core/fromnumeric.py:59: FutureWarning: 'DataFrame.swapaxes' is deprecated and will be removed in a future version. Please use 'DataFrame.transpose' instead.\n",
      "  return bound(*args, **kwds)\n"
     ]
    },
    {
     "data": {
      "text/plain": [
       "Text(0, 0.5, 'Cost')"
      ]
     },
     "execution_count": 18,
     "metadata": {},
     "output_type": "execute_result"
    },
    {
     "data": {
      "image/png": "[encoded data removed]",
      "text/plain": [
       "<Figure size 640x480 with 1 Axes>"
      ]
     },
     "metadata": {},
     "output_type": "display_data"
    }
   ],
   "source": [
    "x = [np.random.randint(1,10) for i in range(0,300)]\n",
    "y = [n*4 for n in x]\n",
    "x = np.array(x).reshape(300,1)\n",
    "y = np.array(y).reshape(300,1)\n",
    "\n",
    "\n",
    "#Parameters of the model\n",
    "N = 8\n",
    "S = 6\n",
    "iterations = 2000\n",
    "n_feat = 2 #number of feature plus one for intercept\n",
    "learning_rate = 0.01\n",
    "\n",
    "######Data preprocessing\n",
    "\n",
    "#Add intercept in training data \n",
    "vectorX = generateXvector(x)\n",
    "\n",
    "df = pd.DataFrame(vectorX)\n",
    "df[\"y\"] = y\n",
    "\n",
    "shuffled = df.sample(frac=1)\n",
    "data = np.array_split(shuffled, N) \n",
    "\n",
    "#Create the clients\n",
    "for i in range(len(data)):\n",
    "    #Normalize all instead intercept\n",
    "    #data[i][1] = (data[i][1]-data[i][1].mean())/data[i][1].std()\n",
    "    #data[i][\"y\"] = (data[i][\"y\"]-data[i][\"y\"].mean())/data[i][\"y\"].std()\n",
    "    \n",
    "    data[i] = (data[i][range(0,n_feat)].to_numpy(),data[i][\"y\"].to_numpy())\n",
    "\n",
    "\n",
    "w_model = theta_init(x)\n",
    "    \n",
    "output, costs = federated_sgd(data, iterations, N, S, n_feat, learning_rate,w_model)\n",
    "\n",
    "\n",
    "plt.plot(np.arange(1,iterations),costs[1:], color = 'red')\n",
    "plt.title('Cost function Graph')\n",
    "plt.xlabel('Number of iterations')\n",
    "plt.ylabel('Cost')\n"
   ]
  },
  {
   "cell_type": "code",
   "execution_count": 20,
   "id": "129400a1",
   "metadata": {
    "execution": {
     "iopub.execute_input": "2023-10-05T18:41:36.503572Z",
     "iopub.status.busy": "2023-10-05T18:41:36.503393Z",
     "iopub.status.idle": "2023-10-05T18:41:36.508534Z",
     "shell.execute_reply": "2023-10-05T18:41:36.507738Z"
    },
    "type_information": "[{\"type\": \"<class 'numpy.ndarray'>\", \"name\": \"ndarray\", \"module\": \"numpy\", \"size\": 144, \"shape\": \"(2, 1)\", \"dtype\": \"float64\"}]"
   },
   "outputs": [
    {
     "data": {
      "text/plain": [
       "array([[-2.65893184e-05],\n",
       "       [ 4.00000442e+00]])"
      ]
     },
     "execution_count": 20,
     "metadata": {},
     "output_type": "execute_result"
    }
   ],
   "source": [
    "output"
   ]
  },
  {
   "cell_type": "markdown",
   "id": "1ef284aa",
   "metadata": {},
   "source": [
    "#### Two different alphas "
   ]
  },
  {
   "cell_type": "code",
   "execution_count": 22,
   "id": "aeaee0c7",
   "metadata": {
    "debugging_output": [
     {
      "name": "stdout",
      "output_type": "stream",
      "text": "Out[22][0]\nTraceback (most recent call last):\n  File \"/tmp/ipykernel_20/697409555.py\", line 5, in <module>\n    outputs.append(typehandlerforuniqueobjects(Out[22][i]))\nKeyError: 22\n\nOut[22][1]\nTraceback (most recent call last):\n  File \"/tmp/ipykernel_20/697409555.py\", line 5, in <module>\n    outputs.append(typehandlerforuniqueobjects(Out[22][i]))\nKeyError: 22\n\n"
     }
    ],
    "execution": {
     "iopub.execute_input": "2023-10-05T18:41:36.518865Z",
     "iopub.status.busy": "2023-10-05T18:41:36.518685Z",
     "iopub.status.idle": "2023-10-05T18:41:36.845633Z",
     "shell.execute_reply": "2023-10-05T18:41:36.844616Z"
    }
   },
   "outputs": [
    {
     "name": "stderr",
     "output_type": "stream",
     "text": [
      "/opt/conda/envs/testenv/lib/python3.9/site-packages/numpy/core/fromnumeric.py:59: FutureWarning: 'DataFrame.swapaxes' is deprecated and will be removed in a future version. Please use 'DataFrame.transpose' instead.\n",
      "  return bound(*args, **kwds)\n"
     ]
    },
    {
     "name": "stdout",
     "output_type": "stream",
     "text": [
      "[[1.20508339]\n",
      " [3.59818914]]\n"
     ]
    },
    {
     "data": {
      "image/png": "[encoded data removed]",
      "text/plain": [
       "<Figure size 640x480 with 1 Axes>"
      ]
     },
     "metadata": {},
     "output_type": "display_data"
    }
   ],
   "source": [
    "x_1 = [np.random.randint(1,10) for i in range(0,300)]\n",
    "y_1 = [n*6 for n in x_1]\n",
    "x_1 = np.array(x_1).reshape(300,1)\n",
    "y_1 = np.array(y_1).reshape(300,1)\n",
    "\n",
    "x_2= [np.random.randint(1,10) for i in range(0,300)]\n",
    "y_2 = [n*2 for n in x_2]\n",
    "x_2 = np.array(x_2).reshape(300,1)\n",
    "y_2 = np.array(y_2).reshape(300,1)\n",
    "\n",
    "#Parameters of the model\n",
    "N = 8\n",
    "S = 6\n",
    "iterations = 1000\n",
    "n_feat = 2 #number of feature plus one for intercept\n",
    "learning_rate = 0.01\n",
    "\n",
    "######Data preprocessing\n",
    "\n",
    "#Add intercept in training data \n",
    "vectorX = generateXvector(x_1)\n",
    "vectorX2 = generateXvector(x_2)\n",
    "\n",
    "df = pd.DataFrame(vectorX)\n",
    "df[\"y\"] = y_1\n",
    "\n",
    "df2 = pd.DataFrame(vectorX2)\n",
    "df2[\"y\"] = y_2\n",
    "\n",
    "shuffled = df.sample(frac=1)\n",
    "data = np.array_split(shuffled, N/2) \n",
    "\n",
    "\n",
    "shuffled2 = df2.sample(frac=1)\n",
    "data2 = np.array_split(shuffled2, N/2) \n",
    "\n",
    "#Create the clients\n",
    "for i in range(len(data)):\n",
    "    #Normalize all instead intercept\n",
    "    #data[i][1] = (data[i][1]-data[i][1].mean())/data[i][1].std()\n",
    "    #data[i][\"y\"] = (data[i][\"y\"]-data[i][\"y\"].mean())/data[i][\"y\"].std()\n",
    "    \n",
    "    #Convert to numpy\n",
    "    data[i] = (data[i][range(0,n_feat)].to_numpy(),data[i][\"y\"].to_numpy())\n",
    "\n",
    "#Create the clients\n",
    "for i in range(len(data2)):\n",
    "    #Normalize all instead intercept\n",
    "    #data2[i][1] = (data2[i][1]-data2[i][1].mean())/data2[i][1].std()\n",
    "    #data2[i][\"y\"] = (data2[i][\"y\"]-data2[i][\"y\"].mean())/data2[i][\"y\"].std()\n",
    "    \n",
    "    #Convert to numpy\n",
    "    data2[i] = (data2[i][range(0,n_feat)].to_numpy(),data2[i][\"y\"].to_numpy())\n",
    "\n",
    "data = data + data2\n",
    "\n",
    "w_model = theta_init(x)\n",
    "    \n",
    "output, costs = federated_sgd(data, iterations, N, S, n_feat, learning_rate,w_model)\n",
    "\n",
    "\n",
    "plt.plot(np.arange(1,iterations),costs[1:], color = 'red')\n",
    "plt.title('Cost function Graph')\n",
    "plt.xlabel('Number of iterations')\n",
    "plt.ylabel('Cost')\n",
    "\n",
    "print(output)"
   ]
  },
  {
   "cell_type": "code",
   "execution_count": 24,
   "id": "700e3a89",
   "metadata": {
    "execution": {
     "iopub.execute_input": "2023-10-05T18:41:36.857221Z",
     "iopub.status.busy": "2023-10-05T18:41:36.857048Z",
     "iopub.status.idle": "2023-10-05T18:41:36.861963Z",
     "shell.execute_reply": "2023-10-05T18:41:36.861144Z"
    },
    "type_information": "[{\"type\": \"<class 'type'>\", \"name\": \"type\", \"module\": \"builtins\", \"size\": 408}]"
   },
   "outputs": [
    {
     "data": {
      "text/plain": [
       "tuple"
      ]
     },
     "execution_count": 24,
     "metadata": {},
     "output_type": "execute_result"
    }
   ],
   "source": [
    "type(data[1])"
   ]
  },
  {
   "cell_type": "code",
   "execution_count": null,
   "id": "6cf11e1b",
   "metadata": {},
   "outputs": [],
   "source": []
  }
 ],
 "metadata": {
  "kernelspec": {
   "display_name": "Python 3 (ipykernel)",
   "language": "python",
   "name": "python3"
  },
  "language_info": {
   "codemirror_mode": {
    "name": "ipython",
    "version": 3
   },
   "file_extension": ".py",
   "mimetype": "text/x-python",
   "name": "python",
   "nbconvert_exporter": "python",
   "pygments_lexer": "ipython3",
   "version": "3.9.18"
  }
 },
 "nbformat": 4,
 "nbformat_minor": 5
}
