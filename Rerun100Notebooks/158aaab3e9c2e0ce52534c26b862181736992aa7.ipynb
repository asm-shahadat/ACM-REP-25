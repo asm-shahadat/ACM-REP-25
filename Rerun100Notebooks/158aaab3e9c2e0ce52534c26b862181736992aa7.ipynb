{
 "cells": [
  {
   "cell_type": "markdown",
   "metadata": {},
   "source": [
    "# 1.9 Iteration\n",
    "*Estimated time to complete this notebook: 10 minutes*"
   ]
  },
  {
   "cell_type": "markdown",
   "metadata": {},
   "source": [
    "Our other aspect of control is looping back on ourselves.\n",
    "\n",
    "We use `for` ... `in` to \"iterate\" over lists:"
   ]
  },
  {
   "cell_type": "code",
   "execution_count": 2,
   "metadata": {
    "execution": {
     "iopub.execute_input": "2023-10-05T00:38:24.705272Z",
     "iopub.status.busy": "2023-10-05T00:38:24.704991Z",
     "iopub.status.idle": "2023-10-05T00:38:24.709555Z",
     "shell.execute_reply": "2023-10-05T00:38:24.708470Z"
    }
   },
   "outputs": [],
   "source": [
    "mylist = [3, 7, 15, 2]"
   ]
  },
  {
   "cell_type": "code",
   "execution_count": 3,
   "metadata": {
    "error": [
     {
      "ename": "KeyError",
      "evalue": "3",
      "output_type": "error",
      "traceback": [
       "\u001b[0;31m---------------------------------------------------------------------------\u001b[0m",
       "\u001b[0;31mKeyError\u001b[0m                                  Traceback (most recent call last)",
       "Cell \u001b[0;32mIn[4], line 1\u001b[0m\n\u001b[0;32m----> 1\u001b[0m json\u001b[38;5;241m.\u001b[39mdumps([typehandlerforuniqueobjects(\u001b[43mOut\u001b[49m\u001b[43m[\u001b[49m\u001b[38;5;241;43m3\u001b[39;49m\u001b[43m]\u001b[49m)])\n",
       "\u001b[0;31mKeyError\u001b[0m: 3"
      ]
     }
    ],
    "execution": {
     "iopub.execute_input": "2023-10-05T00:38:24.712972Z",
     "iopub.status.busy": "2023-10-05T00:38:24.712654Z",
     "iopub.status.idle": "2023-10-05T00:38:24.718199Z",
     "shell.execute_reply": "2023-10-05T00:38:24.717145Z"
    }
   },
   "outputs": [
    {
     "name": "stdout",
     "output_type": "stream",
     "text": [
      "9\n",
      "49\n",
      "225\n",
      "4\n"
     ]
    }
   ],
   "source": [
    "for whatever in mylist:\n",
    "    print(whatever ** 2)"
   ]
  },
  {
   "cell_type": "markdown",
   "metadata": {},
   "source": [
    "Each time through the loop, the variable in the `value` slot is updated to the **next** element of the sequence."
   ]
  },
  {
   "cell_type": "markdown",
   "metadata": {},
   "source": [
    "## 1.9.1 Iterables"
   ]
  },
  {
   "cell_type": "markdown",
   "metadata": {},
   "source": [
    "\n",
    "Any sequence type is iterable:\n",
    "\n",
    "\n"
   ]
  },
  {
   "cell_type": "code",
   "execution_count": 5,
   "metadata": {
    "execution": {
     "iopub.execute_input": "2023-10-05T00:38:25.084201Z",
     "iopub.status.busy": "2023-10-05T00:38:25.083890Z",
     "iopub.status.idle": "2023-10-05T00:38:25.095157Z",
     "shell.execute_reply": "2023-10-05T00:38:25.094050Z"
    },
    "type_information": "[{\"type\": \"<class 'str'>\", \"name\": \"str\", \"module\": \"builtins\", \"size\": 57}]"
   },
   "outputs": [
    {
     "data": {
      "text/plain": [
       "'OOOkaaay'"
      ]
     },
     "execution_count": 5,
     "metadata": {},
     "output_type": "execute_result"
    }
   ],
   "source": [
    "vowels = \"aeiou\"\n",
    "sarcasm = []\n",
    "\n",
    "for letter in \"Okay\":\n",
    "    if letter.lower() in vowels:\n",
    "        repetition = 3\n",
    "    else:\n",
    "        repetition = 1\n",
    "\n",
    "    sarcasm.append(letter * repetition)\n",
    "\n",
    "\"\".join(sarcasm)"
   ]
  },
  {
   "cell_type": "markdown",
   "metadata": {},
   "source": [
    "The above is a little puzzle, work through it to understand why it does what it does."
   ]
  },
  {
   "cell_type": "markdown",
   "metadata": {},
   "source": [
    "###  Dictionaries are Iterables"
   ]
  },
  {
   "cell_type": "markdown",
   "metadata": {},
   "source": [
    "All sequences are iterables. Some iterables (things you can `for` loop over) are not sequences (things with you can do `x[5]` to), for example sets and dictionaries."
   ]
  },
  {
   "cell_type": "code",
   "execution_count": 7,
   "metadata": {
    "error": [
     {
      "ename": "KeyError",
      "evalue": "7",
      "output_type": "error",
      "traceback": [
       "\u001b[0;31m---------------------------------------------------------------------------\u001b[0m",
       "\u001b[0;31mKeyError\u001b[0m                                  Traceback (most recent call last)",
       "Cell \u001b[0;32mIn[8], line 1\u001b[0m\n\u001b[0;32m----> 1\u001b[0m json\u001b[38;5;241m.\u001b[39mdumps([typehandlerforuniqueobjects(\u001b[43mOut\u001b[49m\u001b[43m[\u001b[49m\u001b[38;5;241;43m7\u001b[39;49m\u001b[43m]\u001b[49m)])\n",
       "\u001b[0;31mKeyError\u001b[0m: 7"
      ]
     }
    ],
    "execution": {
     "iopub.execute_input": "2023-10-05T00:38:25.108661Z",
     "iopub.status.busy": "2023-10-05T00:38:25.108375Z",
     "iopub.status.idle": "2023-10-05T00:38:25.114535Z",
     "shell.execute_reply": "2023-10-05T00:38:25.113510Z"
    }
   },
   "outputs": [
    {
     "name": "stdout",
     "output_type": "stream",
     "text": [
      "James is 47 years old.\n",
      "UCL is 197 years old.\n",
      "Cambridge is 814 years old.\n"
     ]
    }
   ],
   "source": [
    "import datetime\n",
    "\n",
    "now = datetime.datetime.now()\n",
    "\n",
    "founded = {\"James\": 1976, \"UCL\": 1826, \"Cambridge\": 1209}\n",
    "\n",
    "current_year = now.year\n",
    "\n",
    "for thing in founded:\n",
    "    print(thing, \"is\", current_year - founded[thing], \"years old.\")"
   ]
  },
  {
   "cell_type": "markdown",
   "metadata": {},
   "source": [
    "## 1.9.2 Unpacking and Iteration"
   ]
  },
  {
   "cell_type": "markdown",
   "metadata": {},
   "source": [
    "\n",
    "Unpacking can be useful with iteration:\n",
    "\n",
    "\n"
   ]
  },
  {
   "cell_type": "code",
   "execution_count": 9,
   "metadata": {
    "execution": {
     "iopub.execute_input": "2023-10-05T00:38:25.145770Z",
     "iopub.status.busy": "2023-10-05T00:38:25.145481Z",
     "iopub.status.idle": "2023-10-05T00:38:25.149871Z",
     "shell.execute_reply": "2023-10-05T00:38:25.148904Z"
    }
   },
   "outputs": [],
   "source": [
    "triples = [[4, 11, 15], [39, 4, 18]]"
   ]
  },
  {
   "cell_type": "code",
   "execution_count": 10,
   "metadata": {
    "error": [
     {
      "ename": "KeyError",
      "evalue": "10",
      "output_type": "error",
      "traceback": [
       "\u001b[0;31m---------------------------------------------------------------------------\u001b[0m",
       "\u001b[0;31mKeyError\u001b[0m                                  Traceback (most recent call last)",
       "Cell \u001b[0;32mIn[11], line 1\u001b[0m\n\u001b[0;32m----> 1\u001b[0m json\u001b[38;5;241m.\u001b[39mdumps([typehandlerforuniqueobjects(\u001b[43mOut\u001b[49m\u001b[43m[\u001b[49m\u001b[38;5;241;43m10\u001b[39;49m\u001b[43m]\u001b[49m)])\n",
       "\u001b[0;31mKeyError\u001b[0m: 10"
      ]
     }
    ],
    "execution": {
     "iopub.execute_input": "2023-10-05T00:38:25.153442Z",
     "iopub.status.busy": "2023-10-05T00:38:25.153161Z",
     "iopub.status.idle": "2023-10-05T00:38:25.157948Z",
     "shell.execute_reply": "2023-10-05T00:38:25.156958Z"
    }
   },
   "outputs": [
    {
     "name": "stdout",
     "output_type": "stream",
     "text": [
      "[4, 11, 15]\n",
      "[39, 4, 18]\n"
     ]
    }
   ],
   "source": [
    "for whatever in triples:\n",
    "    print(whatever)"
   ]
  },
  {
   "cell_type": "code",
   "execution_count": 12,
   "metadata": {
    "error": [
     {
      "ename": "KeyError",
      "evalue": "12",
      "output_type": "error",
      "traceback": [
       "\u001b[0;31m---------------------------------------------------------------------------\u001b[0m",
       "\u001b[0;31mKeyError\u001b[0m                                  Traceback (most recent call last)",
       "Cell \u001b[0;32mIn[13], line 1\u001b[0m\n\u001b[0;32m----> 1\u001b[0m json\u001b[38;5;241m.\u001b[39mdumps([typehandlerforuniqueobjects(\u001b[43mOut\u001b[49m\u001b[43m[\u001b[49m\u001b[38;5;241;43m12\u001b[39;49m\u001b[43m]\u001b[49m)])\n",
       "\u001b[0;31mKeyError\u001b[0m: 12"
      ]
     }
    ],
    "execution": {
     "iopub.execute_input": "2023-10-05T00:38:25.190749Z",
     "iopub.status.busy": "2023-10-05T00:38:25.190457Z",
     "iopub.status.idle": "2023-10-05T00:38:25.195378Z",
     "shell.execute_reply": "2023-10-05T00:38:25.194352Z"
    }
   },
   "outputs": [
    {
     "name": "stdout",
     "output_type": "stream",
     "text": [
      "11\n",
      "4\n"
     ]
    }
   ],
   "source": [
    "for first, middle, last in triples:\n",
    "    print(middle)"
   ]
  },
  {
   "cell_type": "code",
   "execution_count": 14,
   "metadata": {
    "error": [
     {
      "ename": "KeyError",
      "evalue": "14",
      "output_type": "error",
      "traceback": [
       "\u001b[0;31m---------------------------------------------------------------------------\u001b[0m",
       "\u001b[0;31mKeyError\u001b[0m                                  Traceback (most recent call last)",
       "Cell \u001b[0;32mIn[15], line 1\u001b[0m\n\u001b[0;32m----> 1\u001b[0m json\u001b[38;5;241m.\u001b[39mdumps([typehandlerforuniqueobjects(\u001b[43mOut\u001b[49m\u001b[43m[\u001b[49m\u001b[38;5;241;43m14\u001b[39;49m\u001b[43m]\u001b[49m)])\n",
       "\u001b[0;31mKeyError\u001b[0m: 14"
      ]
     }
    ],
    "execution": {
     "iopub.execute_input": "2023-10-05T00:38:25.226982Z",
     "iopub.status.busy": "2023-10-05T00:38:25.226694Z",
     "iopub.status.idle": "2023-10-05T00:38:25.231623Z",
     "shell.execute_reply": "2023-10-05T00:38:25.230624Z"
    }
   },
   "outputs": [
    {
     "name": "stdout",
     "output_type": "stream",
     "text": [
      "11\n",
      "4\n"
     ]
    }
   ],
   "source": [
    "# A reminder that the words you use for variable names are arbitrary:\n",
    "for hedgehog, badger, fox in triples:\n",
    "    print(badger)"
   ]
  },
  {
   "cell_type": "markdown",
   "metadata": {},
   "source": [
    "\n",
    "\n",
    "\n",
    "for example, to iterate over the items in a dictionary as pairs:\n",
    "\n",
    "\n"
   ]
  },
  {
   "cell_type": "code",
   "execution_count": 16,
   "metadata": {
    "error": [
     {
      "ename": "KeyError",
      "evalue": "16",
      "output_type": "error",
      "traceback": [
       "\u001b[0;31m---------------------------------------------------------------------------\u001b[0m",
       "\u001b[0;31mKeyError\u001b[0m                                  Traceback (most recent call last)",
       "Cell \u001b[0;32mIn[17], line 1\u001b[0m\n\u001b[0;32m----> 1\u001b[0m json\u001b[38;5;241m.\u001b[39mdumps([typehandlerforuniqueobjects(\u001b[43mOut\u001b[49m\u001b[43m[\u001b[49m\u001b[38;5;241;43m16\u001b[39;49m\u001b[43m]\u001b[49m)])\n",
       "\u001b[0;31mKeyError\u001b[0m: 16"
      ]
     }
    ],
    "execution": {
     "iopub.execute_input": "2023-10-05T00:38:25.263174Z",
     "iopub.status.busy": "2023-10-05T00:38:25.262888Z",
     "iopub.status.idle": "2023-10-05T00:38:25.268330Z",
     "shell.execute_reply": "2023-10-05T00:38:25.267281Z"
    }
   },
   "outputs": [
    {
     "name": "stdout",
     "output_type": "stream",
     "text": [
      "dict_items([('James', [1976, 'Kendal']), ('UCL', [1826, 'Bloomsbury']), ('Cambridge', [1209, 'Cambridge'])])\n"
     ]
    }
   ],
   "source": [
    "things = {\n",
    "    \"James\": [1976, \"Kendal\"],\n",
    "    \"UCL\": [1826, \"Bloomsbury\"],\n",
    "    \"Cambridge\": [1209, \"Cambridge\"],\n",
    "}\n",
    "\n",
    "print(things.items())"
   ]
  },
  {
   "cell_type": "code",
   "execution_count": 18,
   "metadata": {
    "error": [
     {
      "ename": "KeyError",
      "evalue": "18",
      "output_type": "error",
      "traceback": [
       "\u001b[0;31m---------------------------------------------------------------------------\u001b[0m",
       "\u001b[0;31mKeyError\u001b[0m                                  Traceback (most recent call last)",
       "Cell \u001b[0;32mIn[19], line 1\u001b[0m\n\u001b[0;32m----> 1\u001b[0m json\u001b[38;5;241m.\u001b[39mdumps([typehandlerforuniqueobjects(\u001b[43mOut\u001b[49m\u001b[43m[\u001b[49m\u001b[38;5;241;43m18\u001b[39;49m\u001b[43m]\u001b[49m)])\n",
       "\u001b[0;31mKeyError\u001b[0m: 18"
      ]
     }
    ],
    "execution": {
     "iopub.execute_input": "2023-10-05T00:38:25.299416Z",
     "iopub.status.busy": "2023-10-05T00:38:25.299132Z",
     "iopub.status.idle": "2023-10-05T00:38:25.304362Z",
     "shell.execute_reply": "2023-10-05T00:38:25.303345Z"
    }
   },
   "outputs": [
    {
     "name": "stdout",
     "output_type": "stream",
     "text": [
      "James is 47 years old.\n",
      "UCL is 197 years old.\n",
      "Cambridge is 814 years old.\n"
     ]
    }
   ],
   "source": [
    "for name, year in founded.items():\n",
    "    print(name, \"is\", current_year - year, \"years old.\")"
   ]
  },
  {
   "cell_type": "markdown",
   "metadata": {},
   "source": [
    "## 1.9.3 Break, Continue"
   ]
  },
  {
   "cell_type": "markdown",
   "metadata": {},
   "source": [
    "\n",
    "* Continue skips to the next turn of a loop\n",
    "* Break stops the loop early\n",
    "\n",
    "\n"
   ]
  },
  {
   "cell_type": "code",
   "execution_count": 20,
   "metadata": {
    "error": [
     {
      "ename": "KeyError",
      "evalue": "20",
      "output_type": "error",
      "traceback": [
       "\u001b[0;31m---------------------------------------------------------------------------\u001b[0m",
       "\u001b[0;31mKeyError\u001b[0m                                  Traceback (most recent call last)",
       "Cell \u001b[0;32mIn[21], line 1\u001b[0m\n\u001b[0;32m----> 1\u001b[0m json\u001b[38;5;241m.\u001b[39mdumps([typehandlerforuniqueobjects(\u001b[43mOut\u001b[49m\u001b[43m[\u001b[49m\u001b[38;5;241;43m20\u001b[39;49m\u001b[43m]\u001b[49m)])\n",
       "\u001b[0;31mKeyError\u001b[0m: 20"
      ]
     }
    ],
    "execution": {
     "iopub.execute_input": "2023-10-05T00:38:25.335809Z",
     "iopub.status.busy": "2023-10-05T00:38:25.335529Z",
     "iopub.status.idle": "2023-10-05T00:38:25.340874Z",
     "shell.execute_reply": "2023-10-05T00:38:25.339872Z"
    }
   },
   "outputs": [
    {
     "name": "stdout",
     "output_type": "stream",
     "text": [
      "1\n",
      "3\n",
      "5\n",
      "7\n",
      "9\n",
      "11\n",
      "13\n",
      "15\n",
      "17\n",
      "19\n"
     ]
    }
   ],
   "source": [
    "for n in range(50):\n",
    "    if n == 20:\n",
    "        break\n",
    "    if n % 2 == 0:\n",
    "        continue\n",
    "    print(n)"
   ]
  },
  {
   "cell_type": "markdown",
   "metadata": {},
   "source": [
    "These aren't useful that often, but are worth knowing about. There's also an optional `else` clause on loops, executed only if you don't `break`, but I've never found that useful."
   ]
  },
  {
   "cell_type": "code",
   "execution_count": null,
   "metadata": {},
   "outputs": [],
   "source": []
  }
 ],
 "metadata": {
  "jekyll": {
   "display_name": "Looping"
  },
  "kernelspec": {
   "display_name": "Python 3 (ipykernel)",
   "language": "python",
   "name": "python3"
  },
  "language_info": {
   "codemirror_mode": {
    "name": "ipython",
    "version": 3
   },
   "file_extension": ".py",
   "mimetype": "text/x-python",
   "name": "python",
   "nbconvert_exporter": "python",
   "pygments_lexer": "ipython3",
   "version": "3.8.17"
  }
 },
 "nbformat": 4,
 "nbformat_minor": 1
}
