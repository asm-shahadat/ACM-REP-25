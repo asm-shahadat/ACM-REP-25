{
 "cells": [
  {
   "cell_type": "markdown",
   "id": "b693252d",
   "metadata": {},
   "source": [
    "## Variables as Functions"
   ]
  },
  {
   "cell_type": "code",
   "execution_count": 2,
   "id": "4f487c83",
   "metadata": {
    "execution": {
     "iopub.execute_input": "2023-10-04T23:41:56.678163Z",
     "iopub.status.busy": "2023-10-04T23:41:56.677873Z",
     "iopub.status.idle": "2023-10-04T23:41:56.682295Z",
     "shell.execute_reply": "2023-10-04T23:41:56.681248Z"
    }
   },
   "outputs": [],
   "source": [
    "x = 5"
   ]
  },
  {
   "cell_type": "code",
   "execution_count": 3,
   "id": "cb49359a",
   "metadata": {
    "execution": {
     "iopub.execute_input": "2023-10-04T23:41:56.685880Z",
     "iopub.status.busy": "2023-10-04T23:41:56.685599Z",
     "iopub.status.idle": "2023-10-04T23:41:56.689939Z",
     "shell.execute_reply": "2023-10-04T23:41:56.689024Z"
    }
   },
   "outputs": [],
   "source": [
    "def x():\n",
    "    return 5"
   ]
  },
  {
   "cell_type": "markdown",
   "id": "4065cfed",
   "metadata": {},
   "source": [
    "### Viewing function data with  \\_\\_code\\_\\_"
   ]
  },
  {
   "cell_type": "code",
   "execution_count": 4,
   "id": "64b94543",
   "metadata": {
    "error": [
     {
      "ename": "KeyError",
      "evalue": "4",
      "output_type": "error",
      "traceback": [
       "\u001b[0;31m---------------------------------------------------------------------------\u001b[0m",
       "\u001b[0;31mKeyError\u001b[0m                                  Traceback (most recent call last)",
       "Cell \u001b[0;32mIn[5], line 1\u001b[0m\n\u001b[0;32m----> 1\u001b[0m json\u001b[38;5;241m.\u001b[39mdumps([typehandlerforuniqueobjects(\u001b[43mOut\u001b[49m\u001b[43m[\u001b[49m\u001b[38;5;241;43m4\u001b[39;49m\u001b[43m]\u001b[49m)])\n",
       "\u001b[0;31mKeyError\u001b[0m: 4"
      ]
     }
    ],
    "execution": {
     "iopub.execute_input": "2023-10-04T23:41:56.693811Z",
     "iopub.status.busy": "2023-10-04T23:41:56.693458Z",
     "iopub.status.idle": "2023-10-04T23:41:56.699413Z",
     "shell.execute_reply": "2023-10-04T23:41:56.698363Z"
    }
   },
   "outputs": [
    {
     "name": "stdout",
     "output_type": "stream",
     "text": [
      "()\n",
      "b'd\\x01S\\x00'\n"
     ]
    }
   ],
   "source": [
    "print(x.__code__.co_varnames)\n",
    "print(x.__code__.co_code)"
   ]
  },
  {
   "cell_type": "markdown",
   "id": "5eb0b9e0",
   "metadata": {},
   "source": [
    "### Text processing in Python"
   ]
  },
  {
   "cell_type": "code",
   "execution_count": 6,
   "id": "97284f20",
   "metadata": {
    "execution": {
     "iopub.execute_input": "2023-10-04T23:41:56.997045Z",
     "iopub.status.busy": "2023-10-04T23:41:56.996746Z",
     "iopub.status.idle": "2023-10-04T23:41:57.002360Z",
     "shell.execute_reply": "2023-10-04T23:41:57.001296Z"
    }
   },
   "outputs": [],
   "source": [
    "text = '''\n",
    "Beautiful is better than ugly.\n",
    "Explicit is better than implicit.\n",
    "Simple is better than complex.\n",
    "Complex is better than complicated.\n",
    "Flat is better than nested.\n",
    "Sparse is better than dense.\n",
    "Readability counts.\n",
    "Special cases aren't special enough to break the rules.\n",
    "Although practicality beats purity.\n",
    "Errors should never pass silently.\n",
    "Unless explicitly silenced.\n",
    "In the face of ambiguity, refuse the temptation to guess.\n",
    "There should be one-- and preferably only one --obvious way to do it.\n",
    "Although that way may not be obvious at first unless you're Dutch.\n",
    "Now is better than never.\n",
    "Although never is often better than *right* now.\n",
    "If the implementation is hard to explain, it's a bad idea.\n",
    "If the implementation is easy to explain, it may be a good idea.\n",
    "Namespaces are one honking great idea -- let's do more of those!\n",
    "'''\n"
   ]
  },
  {
   "cell_type": "code",
   "execution_count": 7,
   "id": "bd899058",
   "metadata": {
    "execution": {
     "iopub.execute_input": "2023-10-04T23:41:57.006116Z",
     "iopub.status.busy": "2023-10-04T23:41:57.005826Z",
     "iopub.status.idle": "2023-10-04T23:41:57.013300Z",
     "shell.execute_reply": "2023-10-04T23:41:57.012237Z"
    }
   },
   "outputs": [],
   "source": [
    "def lowercase(text):\n",
    "    return text.lower()\n",
    "\n",
    "def removePunctuation(text):\n",
    "    punctuations = ['.', '-', ',', '*']\n",
    "    for punctuation in punctuations:\n",
    "        text = text.replace(punctuation, '')\n",
    "    return text\n",
    "\n",
    "def removeNewlines(text):\n",
    "    text = text.replace('\\n', ' ')\n",
    "    return text\n",
    "\n",
    "def removeShortWords(text):\n",
    "    return ' '.join([word for word in text.split() if len(word) > 3])\n",
    "\n",
    "def removeLongWords(text):\n",
    "    return ' '.join([word for word in text.split() if len(word) < 6])"
   ]
  },
  {
   "cell_type": "code",
   "execution_count": 8,
   "id": "4e6e3111",
   "metadata": {
    "error": [
     {
      "ename": "KeyError",
      "evalue": "8",
      "output_type": "error",
      "traceback": [
       "\u001b[0;31m---------------------------------------------------------------------------\u001b[0m",
       "\u001b[0;31mKeyError\u001b[0m                                  Traceback (most recent call last)",
       "Cell \u001b[0;32mIn[9], line 1\u001b[0m\n\u001b[0;32m----> 1\u001b[0m json\u001b[38;5;241m.\u001b[39mdumps([typehandlerforuniqueobjects(\u001b[43mOut\u001b[49m\u001b[43m[\u001b[49m\u001b[38;5;241;43m8\u001b[39;49m\u001b[43m]\u001b[49m)])\n",
       "\u001b[0;31mKeyError\u001b[0m: 8"
      ]
     }
    ],
    "execution": {
     "iopub.execute_input": "2023-10-04T23:41:57.017228Z",
     "iopub.status.busy": "2023-10-04T23:41:57.016926Z",
     "iopub.status.idle": "2023-10-04T23:41:57.022682Z",
     "shell.execute_reply": "2023-10-04T23:41:57.021716Z"
    }
   },
   "outputs": [
    {
     "name": "stdout",
     "output_type": "stream",
     "text": [
      "is than ugly is than is than is than flat is than is than dense cases to break the rules beats never pass in the face of the to guess there be one and only one way to do it that way may not be at first dutch now is than never never is often than right now if the is hard to it's a bad idea if the is easy to it may be a good idea are one great idea let's do more of\n"
     ]
    }
   ],
   "source": [
    "processingFunctions = [lowercase, removePunctuation, removeNewlines, removeLongWords]\n",
    "\n",
    "for func in processingFunctions:\n",
    "    text = func(text)\n",
    "\n",
    "print(text)"
   ]
  },
  {
   "cell_type": "markdown",
   "id": "2639b4fa",
   "metadata": {},
   "source": [
    "### Lambda functions"
   ]
  },
  {
   "cell_type": "code",
   "execution_count": 10,
   "id": "9d3bbf30",
   "metadata": {
    "execution": {
     "iopub.execute_input": "2023-10-04T23:41:57.052519Z",
     "iopub.status.busy": "2023-10-04T23:41:57.052232Z",
     "iopub.status.idle": "2023-10-04T23:41:57.061472Z",
     "shell.execute_reply": "2023-10-04T23:41:57.060559Z"
    },
    "type_information": "[{\"type\": \"<class 'int'>\", \"name\": \"int\", \"module\": \"builtins\", \"size\": 28}]"
   },
   "outputs": [
    {
     "data": {
      "text/plain": [
       "5"
      ]
     },
     "execution_count": 10,
     "metadata": {},
     "output_type": "execute_result"
    }
   ],
   "source": [
    "2 + 3"
   ]
  },
  {
   "cell_type": "code",
   "execution_count": 12,
   "id": "3867835f",
   "metadata": {
    "execution": {
     "iopub.execute_input": "2023-10-04T23:41:57.075243Z",
     "iopub.status.busy": "2023-10-04T23:41:57.074903Z",
     "iopub.status.idle": "2023-10-04T23:41:57.081680Z",
     "shell.execute_reply": "2023-10-04T23:41:57.080671Z"
    },
    "type_information": "[{\"type\": \"<class 'int'>\", \"name\": \"int\", \"module\": \"builtins\", \"size\": 28}]"
   },
   "outputs": [
    {
     "data": {
      "text/plain": [
       "8"
      ]
     },
     "execution_count": 12,
     "metadata": {},
     "output_type": "execute_result"
    }
   ],
   "source": [
    "(lambda x: x + 3)(5)"
   ]
  },
  {
   "cell_type": "code",
   "execution_count": 14,
   "id": "0cb05720",
   "metadata": {
    "execution": {
     "iopub.execute_input": "2023-10-04T23:41:57.095156Z",
     "iopub.status.busy": "2023-10-04T23:41:57.094816Z",
     "iopub.status.idle": "2023-10-04T23:41:57.101637Z",
     "shell.execute_reply": "2023-10-04T23:41:57.100721Z"
    },
    "type_information": "[{\"type\": \"<class 'list'>\", \"name\": \"list\", \"module\": \"builtins\", \"size\": 88, \"data\": [{\"type\": \"<class 'int'>\", \"name\": \"int\", \"module\": \"builtins\", \"size\": 28}, {\"type\": \"<class 'int'>\", \"name\": \"int\", \"module\": \"builtins\", \"size\": 28}, {\"type\": \"<class 'int'>\", \"name\": \"int\", \"module\": \"builtins\", \"size\": 28}, {\"type\": \"<class 'int'>\", \"name\": \"int\", \"module\": \"builtins\", \"size\": 28}]}]"
   },
   "outputs": [
    {
     "data": {
      "text/plain": [
       "[2, 3, 4, 5]"
      ]
     },
     "execution_count": 14,
     "metadata": {},
     "output_type": "execute_result"
    }
   ],
   "source": [
    "myList = [5,4,3,2]\n",
    "sorted(myList)"
   ]
  },
  {
   "cell_type": "code",
   "execution_count": 16,
   "id": "6fcf5c06",
   "metadata": {
    "execution": {
     "iopub.execute_input": "2023-10-04T23:41:57.115103Z",
     "iopub.status.busy": "2023-10-04T23:41:57.114762Z",
     "iopub.status.idle": "2023-10-04T23:41:57.122481Z",
     "shell.execute_reply": "2023-10-04T23:41:57.121397Z"
    },
    "type_information": "[{\"type\": \"<class 'list'>\", \"name\": \"list\", \"module\": \"builtins\", \"size\": 88, \"data\": [{\"type\": \"<class 'dict'>\", \"name\": \"dict\", \"module\": \"builtins\", \"size\": 232, \"data\": {\"num\": {\"type\": \"<class 'int'>\", \"name\": \"int\", \"module\": \"builtins\", \"size\": 28}}}, {\"type\": \"<class 'dict'>\", \"name\": \"dict\", \"module\": \"builtins\", \"size\": 232, \"data\": {\"num\": {\"type\": \"<class 'int'>\", \"name\": \"int\", \"module\": \"builtins\", \"size\": 28}}}, {\"type\": \"<class 'dict'>\", \"name\": \"dict\", \"module\": \"builtins\", \"size\": 232, \"data\": {\"num\": {\"type\": \"<class 'int'>\", \"name\": \"int\", \"module\": \"builtins\", \"size\": 28}}}]}]"
   },
   "outputs": [
    {
     "data": {
      "text/plain": [
       "[{'num': 1}, {'num': 2}, {'num': 3}]"
      ]
     },
     "execution_count": 16,
     "metadata": {},
     "output_type": "execute_result"
    }
   ],
   "source": [
    "myList = [{'num': 3}, {'num': 2}, {'num': 1}]\n",
    "sorted(myList, key=lambda x: x['num'])"
   ]
  },
  {
   "cell_type": "code",
   "execution_count": null,
   "id": "2a87f878",
   "metadata": {},
   "outputs": [],
   "source": []
  }
 ],
 "metadata": {
  "kernelspec": {
   "display_name": "Python 3 (ipykernel)",
   "language": "python",
   "name": "python3"
  },
  "language_info": {
   "codemirror_mode": {
    "name": "ipython",
    "version": 3
   },
   "file_extension": ".py",
   "mimetype": "text/x-python",
   "name": "python",
   "nbconvert_exporter": "python",
   "pygments_lexer": "ipython3",
   "version": "3.10.12"
  }
 },
 "nbformat": 4,
 "nbformat_minor": 5
}
