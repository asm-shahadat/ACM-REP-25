{
 "cells": [
  {
   "cell_type": "markdown",
   "id": "30b4d8b2",
   "metadata": {},
   "source": [
    "# Basic Operations in Arrays"
   ]
  },
  {
   "cell_type": "code",
   "execution_count": 2,
   "id": "850c4d35",
   "metadata": {
    "execution": {
     "iopub.execute_input": "2023-10-05T11:13:21.926426Z",
     "iopub.status.busy": "2023-10-05T11:13:21.926136Z",
     "iopub.status.idle": "2023-10-05T11:13:22.011946Z",
     "shell.execute_reply": "2023-10-05T11:13:22.010920Z"
    }
   },
   "outputs": [],
   "source": [
    "import numpy as np"
   ]
  },
  {
   "cell_type": "code",
   "execution_count": 3,
   "id": "04781df8",
   "metadata": {
    "execution": {
     "iopub.execute_input": "2023-10-05T11:13:22.016116Z",
     "iopub.status.busy": "2023-10-05T11:13:22.015145Z",
     "iopub.status.idle": "2023-10-05T11:13:22.020169Z",
     "shell.execute_reply": "2023-10-05T11:13:22.019254Z"
    }
   },
   "outputs": [],
   "source": [
    "a = np.array([10,20,30,40])\n",
    "b = np.arange(1,5)"
   ]
  },
  {
   "cell_type": "code",
   "execution_count": 4,
   "id": "94b7b2b8",
   "metadata": {
    "execution": {
     "iopub.execute_input": "2023-10-05T11:13:22.023929Z",
     "iopub.status.busy": "2023-10-05T11:13:22.023169Z",
     "iopub.status.idle": "2023-10-05T11:13:22.032440Z",
     "shell.execute_reply": "2023-10-05T11:13:22.031502Z"
    },
    "type_information": "[{\"type\": \"<class 'numpy.ndarray'>\", \"name\": \"ndarray\", \"module\": \"numpy\", \"size\": 144, \"shape\": \"(4,)\", \"dtype\": \"int64\"}]"
   },
   "outputs": [
    {
     "data": {
      "text/plain": [
       "array([10, 20, 30, 40])"
      ]
     },
     "execution_count": 4,
     "metadata": {},
     "output_type": "execute_result"
    }
   ],
   "source": [
    "a"
   ]
  },
  {
   "cell_type": "code",
   "execution_count": 6,
   "id": "de164ebc",
   "metadata": {
    "execution": {
     "iopub.execute_input": "2023-10-05T11:13:22.045306Z",
     "iopub.status.busy": "2023-10-05T11:13:22.044490Z",
     "iopub.status.idle": "2023-10-05T11:13:22.050517Z",
     "shell.execute_reply": "2023-10-05T11:13:22.049564Z"
    },
    "type_information": "[{\"type\": \"<class 'numpy.ndarray'>\", \"name\": \"ndarray\", \"module\": \"numpy\", \"size\": 144, \"shape\": \"(4,)\", \"dtype\": \"int64\"}]"
   },
   "outputs": [
    {
     "data": {
      "text/plain": [
       "array([1, 2, 3, 4])"
      ]
     },
     "execution_count": 6,
     "metadata": {},
     "output_type": "execute_result"
    }
   ],
   "source": [
    "b"
   ]
  },
  {
   "cell_type": "code",
   "execution_count": 8,
   "id": "158fb10a",
   "metadata": {
    "execution": {
     "iopub.execute_input": "2023-10-05T11:13:22.063413Z",
     "iopub.status.busy": "2023-10-05T11:13:22.062642Z",
     "iopub.status.idle": "2023-10-05T11:13:22.068921Z",
     "shell.execute_reply": "2023-10-05T11:13:22.067899Z"
    },
    "type_information": "[{\"type\": \"<class 'numpy.ndarray'>\", \"name\": \"ndarray\", \"module\": \"numpy\", \"size\": 144, \"shape\": \"(4,)\", \"dtype\": \"int64\"}]"
   },
   "outputs": [
    {
     "data": {
      "text/plain": [
       "array([11, 22, 33, 44])"
      ]
     },
     "execution_count": 8,
     "metadata": {},
     "output_type": "execute_result"
    }
   ],
   "source": [
    "a+b"
   ]
  },
  {
   "cell_type": "code",
   "execution_count": 10,
   "id": "055bffc3",
   "metadata": {
    "execution": {
     "iopub.execute_input": "2023-10-05T11:13:22.081772Z",
     "iopub.status.busy": "2023-10-05T11:13:22.080994Z",
     "iopub.status.idle": "2023-10-05T11:13:22.087021Z",
     "shell.execute_reply": "2023-10-05T11:13:22.086070Z"
    },
    "type_information": "[{\"type\": \"<class 'numpy.ndarray'>\", \"name\": \"ndarray\", \"module\": \"numpy\", \"size\": 144, \"shape\": \"(4,)\", \"dtype\": \"int64\"}]"
   },
   "outputs": [
    {
     "data": {
      "text/plain": [
       "array([ 9, 18, 27, 36])"
      ]
     },
     "execution_count": 10,
     "metadata": {},
     "output_type": "execute_result"
    }
   ],
   "source": [
    "a - b"
   ]
  },
  {
   "cell_type": "code",
   "execution_count": 12,
   "id": "ffb14886",
   "metadata": {
    "execution": {
     "iopub.execute_input": "2023-10-05T11:13:22.099870Z",
     "iopub.status.busy": "2023-10-05T11:13:22.099091Z",
     "iopub.status.idle": "2023-10-05T11:13:22.105175Z",
     "shell.execute_reply": "2023-10-05T11:13:22.104231Z"
    },
    "type_information": "[{\"type\": \"<class 'numpy.ndarray'>\", \"name\": \"ndarray\", \"module\": \"numpy\", \"size\": 144, \"shape\": \"(4,)\", \"dtype\": \"int64\"}]"
   },
   "outputs": [
    {
     "data": {
      "text/plain": [
       "array([ 10,  40,  90, 160])"
      ]
     },
     "execution_count": 12,
     "metadata": {},
     "output_type": "execute_result"
    }
   ],
   "source": [
    "a * b"
   ]
  },
  {
   "cell_type": "code",
   "execution_count": 14,
   "id": "2c5a2176",
   "metadata": {
    "execution": {
     "iopub.execute_input": "2023-10-05T11:13:22.118364Z",
     "iopub.status.busy": "2023-10-05T11:13:22.117579Z",
     "iopub.status.idle": "2023-10-05T11:13:22.123650Z",
     "shell.execute_reply": "2023-10-05T11:13:22.122700Z"
    },
    "type_information": "[{\"type\": \"<class 'numpy.ndarray'>\", \"name\": \"ndarray\", \"module\": \"numpy\", \"size\": 144, \"shape\": \"(4,)\", \"dtype\": \"int64\"}]"
   },
   "outputs": [
    {
     "data": {
      "text/plain": [
       "array([     10,     400,   27000, 2560000])"
      ]
     },
     "execution_count": 14,
     "metadata": {},
     "output_type": "execute_result"
    }
   ],
   "source": [
    "a ** b"
   ]
  },
  {
   "cell_type": "code",
   "execution_count": 16,
   "id": "d3f46f66",
   "metadata": {
    "execution": {
     "iopub.execute_input": "2023-10-05T11:13:22.136901Z",
     "iopub.status.busy": "2023-10-05T11:13:22.136097Z",
     "iopub.status.idle": "2023-10-05T11:13:22.142126Z",
     "shell.execute_reply": "2023-10-05T11:13:22.141194Z"
    },
    "type_information": "[{\"type\": \"<class 'numpy.ndarray'>\", \"name\": \"ndarray\", \"module\": \"numpy\", \"size\": 116, \"shape\": \"(4,)\", \"dtype\": \"bool\"}]"
   },
   "outputs": [
    {
     "data": {
      "text/plain": [
       "array([False,  True,  True,  True])"
      ]
     },
     "execution_count": 16,
     "metadata": {},
     "output_type": "execute_result"
    }
   ],
   "source": [
    "#masking\n",
    "a>15"
   ]
  },
  {
   "cell_type": "code",
   "execution_count": 18,
   "id": "45c79500",
   "metadata": {
    "execution": {
     "iopub.execute_input": "2023-10-05T11:13:22.155099Z",
     "iopub.status.busy": "2023-10-05T11:13:22.154486Z",
     "iopub.status.idle": "2023-10-05T11:13:22.160702Z",
     "shell.execute_reply": "2023-10-05T11:13:22.159734Z"
    },
    "type_information": "[{\"type\": \"<class 'numpy.ndarray'>\", \"name\": \"ndarray\", \"module\": \"numpy\", \"size\": 144, \"shape\": \"(4,)\", \"dtype\": \"float64\"}]"
   },
   "outputs": [
    {
     "data": {
      "text/plain": [
       "array([0.        , 0.69314718, 1.09861229, 1.38629436])"
      ]
     },
     "execution_count": 18,
     "metadata": {},
     "output_type": "execute_result"
    }
   ],
   "source": [
    "np.log(b)"
   ]
  },
  {
   "cell_type": "code",
   "execution_count": 20,
   "id": "97dfb8dd",
   "metadata": {
    "execution": {
     "iopub.execute_input": "2023-10-05T11:13:22.173332Z",
     "iopub.status.busy": "2023-10-05T11:13:22.172550Z",
     "iopub.status.idle": "2023-10-05T11:13:22.178808Z",
     "shell.execute_reply": "2023-10-05T11:13:22.177869Z"
    },
    "type_information": "[{\"type\": \"<class 'numpy.ndarray'>\", \"name\": \"ndarray\", \"module\": \"numpy\", \"size\": 144, \"shape\": \"(4,)\", \"dtype\": \"float64\"}]"
   },
   "outputs": [
    {
     "data": {
      "text/plain": [
       "array([0.        , 0.30103   , 0.47712125, 0.60205999])"
      ]
     },
     "execution_count": 20,
     "metadata": {},
     "output_type": "execute_result"
    }
   ],
   "source": [
    "np.log10(b)"
   ]
  },
  {
   "cell_type": "code",
   "execution_count": 22,
   "id": "7d775f7b",
   "metadata": {
    "execution": {
     "iopub.execute_input": "2023-10-05T11:13:22.191470Z",
     "iopub.status.busy": "2023-10-05T11:13:22.190693Z",
     "iopub.status.idle": "2023-10-05T11:13:22.197138Z",
     "shell.execute_reply": "2023-10-05T11:13:22.196197Z"
    },
    "type_information": "[{\"type\": \"<class 'numpy.ndarray'>\", \"name\": \"ndarray\", \"module\": \"numpy\", \"size\": 144, \"shape\": \"(4,)\", \"dtype\": \"float64\"}]"
   },
   "outputs": [
    {
     "data": {
      "text/plain": [
       "array([-0.54402111,  0.91294525, -0.98803162,  0.74511316])"
      ]
     },
     "execution_count": 22,
     "metadata": {},
     "output_type": "execute_result"
    }
   ],
   "source": [
    "np.sin(a)"
   ]
  },
  {
   "cell_type": "code",
   "execution_count": null,
   "id": "5fbbc929",
   "metadata": {},
   "outputs": [],
   "source": []
  },
  {
   "cell_type": "markdown",
   "id": "71e68e2f",
   "metadata": {},
   "source": [
    "#### Matrix Product"
   ]
  },
  {
   "cell_type": "code",
   "execution_count": 24,
   "id": "a9208da1",
   "metadata": {
    "execution": {
     "iopub.execute_input": "2023-10-05T11:13:22.210643Z",
     "iopub.status.busy": "2023-10-05T11:13:22.209860Z",
     "iopub.status.idle": "2023-10-05T11:13:22.214886Z",
     "shell.execute_reply": "2023-10-05T11:13:22.213949Z"
    }
   },
   "outputs": [],
   "source": [
    "A = np.random.randint(0,5, (3,4))\n",
    "B = np.random.randint(0,5, (4,2))"
   ]
  },
  {
   "cell_type": "code",
   "execution_count": 25,
   "id": "36cd81ef",
   "metadata": {
    "error": [
     {
      "ename": "KeyError",
      "evalue": "26",
      "output_type": "error",
      "traceback": [
       "\u001b[0;31m---------------------------------------------------------------------------\u001b[0m",
       "\u001b[0;31mKeyError\u001b[0m                                  Traceback (most recent call last)",
       "Cell \u001b[0;32mIn[26], line 1\u001b[0m\n\u001b[0;32m----> 1\u001b[0m json\u001b[38;5;241m.\u001b[39mdumps([typehandlerforuniqueobjects(\u001b[43mOut\u001b[49m\u001b[43m[\u001b[49m\u001b[38;5;241;43m26\u001b[39;49m\u001b[43m]\u001b[49m)])\n",
       "\u001b[0;31mKeyError\u001b[0m: 26"
      ]
     }
    ],
    "execution": {
     "iopub.execute_input": "2023-10-05T11:13:22.218671Z",
     "iopub.status.busy": "2023-10-05T11:13:22.217892Z",
     "iopub.status.idle": "2023-10-05T11:13:22.223905Z",
     "shell.execute_reply": "2023-10-05T11:13:22.222975Z"
    }
   },
   "outputs": [
    {
     "data": {
      "text/plain": [
       "array([[1, 3, 4, 0],\n",
       "       [0, 4, 0, 2],\n",
       "       [1, 1, 0, 3]])"
      ]
     },
     "execution_count": 25,
     "metadata": {},
     "output_type": "execute_result"
    }
   ],
   "source": [
    "A"
   ]
  },
  {
   "cell_type": "code",
   "execution_count": 27,
   "id": "501f8f47",
   "metadata": {
    "error": [
     {
      "ename": "KeyError",
      "evalue": "28",
      "output_type": "error",
      "traceback": [
       "\u001b[0;31m---------------------------------------------------------------------------\u001b[0m",
       "\u001b[0;31mKeyError\u001b[0m                                  Traceback (most recent call last)",
       "Cell \u001b[0;32mIn[28], line 1\u001b[0m\n\u001b[0;32m----> 1\u001b[0m json\u001b[38;5;241m.\u001b[39mdumps([typehandlerforuniqueobjects(\u001b[43mOut\u001b[49m\u001b[43m[\u001b[49m\u001b[38;5;241;43m28\u001b[39;49m\u001b[43m]\u001b[49m)])\n",
       "\u001b[0;31mKeyError\u001b[0m: 28"
      ]
     }
    ],
    "execution": {
     "iopub.execute_input": "2023-10-05T11:13:22.589773Z",
     "iopub.status.busy": "2023-10-05T11:13:22.589472Z",
     "iopub.status.idle": "2023-10-05T11:13:22.596417Z",
     "shell.execute_reply": "2023-10-05T11:13:22.595290Z"
    }
   },
   "outputs": [
    {
     "data": {
      "text/plain": [
       "array([[2, 1],\n",
       "       [1, 0],\n",
       "       [0, 1],\n",
       "       [2, 0]])"
      ]
     },
     "execution_count": 27,
     "metadata": {},
     "output_type": "execute_result"
    }
   ],
   "source": [
    "B"
   ]
  },
  {
   "cell_type": "code",
   "execution_count": 29,
   "id": "dad604c9",
   "metadata": {
    "error": [
     {
      "ename": "KeyError",
      "evalue": "30",
      "output_type": "error",
      "traceback": [
       "\u001b[0;31m---------------------------------------------------------------------------\u001b[0m",
       "\u001b[0;31mKeyError\u001b[0m                                  Traceback (most recent call last)",
       "Cell \u001b[0;32mIn[30], line 1\u001b[0m\n\u001b[0;32m----> 1\u001b[0m json\u001b[38;5;241m.\u001b[39mdumps([typehandlerforuniqueobjects(\u001b[43mOut\u001b[49m\u001b[43m[\u001b[49m\u001b[38;5;241;43m30\u001b[39;49m\u001b[43m]\u001b[49m)])\n",
       "\u001b[0;31mKeyError\u001b[0m: 30"
      ]
     }
    ],
    "execution": {
     "iopub.execute_input": "2023-10-05T11:13:22.626932Z",
     "iopub.status.busy": "2023-10-05T11:13:22.626624Z",
     "iopub.status.idle": "2023-10-05T11:13:22.633143Z",
     "shell.execute_reply": "2023-10-05T11:13:22.632199Z"
    }
   },
   "outputs": [
    {
     "data": {
      "text/plain": [
       "array([[5, 5],\n",
       "       [8, 0],\n",
       "       [9, 1]])"
      ]
     },
     "execution_count": 29,
     "metadata": {},
     "output_type": "execute_result"
    }
   ],
   "source": [
    "np.dot(A,B)"
   ]
  },
  {
   "cell_type": "code",
   "execution_count": null,
   "id": "c8cf308a",
   "metadata": {},
   "outputs": [],
   "source": []
  },
  {
   "cell_type": "code",
   "execution_count": null,
   "id": "c6a5c766",
   "metadata": {},
   "outputs": [],
   "source": []
  },
  {
   "cell_type": "markdown",
   "id": "9a024c41",
   "metadata": {},
   "source": [
    "# More Operations on Arrays"
   ]
  },
  {
   "cell_type": "code",
   "execution_count": 31,
   "id": "9345a94b",
   "metadata": {
    "execution": {
     "iopub.execute_input": "2023-10-05T11:13:22.662694Z",
     "iopub.status.busy": "2023-10-05T11:13:22.662397Z",
     "iopub.status.idle": "2023-10-05T11:13:22.667006Z",
     "shell.execute_reply": "2023-10-05T11:13:22.666048Z"
    }
   },
   "outputs": [],
   "source": [
    "A = np.arange(0,24)"
   ]
  },
  {
   "cell_type": "code",
   "execution_count": 32,
   "id": "67130911",
   "metadata": {
    "error": [
     {
      "ename": "KeyError",
      "evalue": "35",
      "output_type": "error",
      "traceback": [
       "\u001b[0;31m---------------------------------------------------------------------------\u001b[0m",
       "\u001b[0;31mKeyError\u001b[0m                                  Traceback (most recent call last)",
       "Cell \u001b[0;32mIn[33], line 1\u001b[0m\n\u001b[0;32m----> 1\u001b[0m json\u001b[38;5;241m.\u001b[39mdumps([typehandlerforuniqueobjects(\u001b[43mOut\u001b[49m\u001b[43m[\u001b[49m\u001b[38;5;241;43m35\u001b[39;49m\u001b[43m]\u001b[49m)])\n",
       "\u001b[0;31mKeyError\u001b[0m: 35"
      ]
     }
    ],
    "execution": {
     "iopub.execute_input": "2023-10-05T11:13:22.670608Z",
     "iopub.status.busy": "2023-10-05T11:13:22.670313Z",
     "iopub.status.idle": "2023-10-05T11:13:22.676468Z",
     "shell.execute_reply": "2023-10-05T11:13:22.675485Z"
    }
   },
   "outputs": [
    {
     "data": {
      "text/plain": [
       "array([ 0,  1,  2,  3,  4,  5,  6,  7,  8,  9, 10, 11, 12, 13, 14, 15, 16,\n",
       "       17, 18, 19, 20, 21, 22, 23])"
      ]
     },
     "execution_count": 32,
     "metadata": {},
     "output_type": "execute_result"
    }
   ],
   "source": [
    "A"
   ]
  },
  {
   "cell_type": "code",
   "execution_count": 34,
   "id": "b4703005",
   "metadata": {
    "execution": {
     "iopub.execute_input": "2023-10-05T11:13:22.705784Z",
     "iopub.status.busy": "2023-10-05T11:13:22.705491Z",
     "iopub.status.idle": "2023-10-05T11:13:22.710067Z",
     "shell.execute_reply": "2023-10-05T11:13:22.709119Z"
    }
   },
   "outputs": [],
   "source": [
    "A = A.reshape(6,4)"
   ]
  },
  {
   "cell_type": "code",
   "execution_count": 35,
   "id": "c2f78a58",
   "metadata": {
    "error": [
     {
      "ename": "KeyError",
      "evalue": "38",
      "output_type": "error",
      "traceback": [
       "\u001b[0;31m---------------------------------------------------------------------------\u001b[0m",
       "\u001b[0;31mKeyError\u001b[0m                                  Traceback (most recent call last)",
       "Cell \u001b[0;32mIn[36], line 1\u001b[0m\n\u001b[0;32m----> 1\u001b[0m json\u001b[38;5;241m.\u001b[39mdumps([typehandlerforuniqueobjects(\u001b[43mOut\u001b[49m\u001b[43m[\u001b[49m\u001b[38;5;241;43m38\u001b[39;49m\u001b[43m]\u001b[49m)])\n",
       "\u001b[0;31mKeyError\u001b[0m: 38"
      ]
     }
    ],
    "execution": {
     "iopub.execute_input": "2023-10-05T11:13:22.713781Z",
     "iopub.status.busy": "2023-10-05T11:13:22.713483Z",
     "iopub.status.idle": "2023-10-05T11:13:22.719715Z",
     "shell.execute_reply": "2023-10-05T11:13:22.718778Z"
    }
   },
   "outputs": [
    {
     "data": {
      "text/plain": [
       "array([[ 0,  1,  2,  3],\n",
       "       [ 4,  5,  6,  7],\n",
       "       [ 8,  9, 10, 11],\n",
       "       [12, 13, 14, 15],\n",
       "       [16, 17, 18, 19],\n",
       "       [20, 21, 22, 23]])"
      ]
     },
     "execution_count": 35,
     "metadata": {},
     "output_type": "execute_result"
    }
   ],
   "source": [
    "A"
   ]
  },
  {
   "cell_type": "code",
   "execution_count": 37,
   "id": "9e56cd04",
   "metadata": {
    "error": [
     {
      "ename": "KeyError",
      "evalue": "40",
      "output_type": "error",
      "traceback": [
       "\u001b[0;31m---------------------------------------------------------------------------\u001b[0m",
       "\u001b[0;31mKeyError\u001b[0m                                  Traceback (most recent call last)",
       "Cell \u001b[0;32mIn[38], line 1\u001b[0m\n\u001b[0;32m----> 1\u001b[0m json\u001b[38;5;241m.\u001b[39mdumps([typehandlerforuniqueobjects(\u001b[43mOut\u001b[49m\u001b[43m[\u001b[49m\u001b[38;5;241;43m40\u001b[39;49m\u001b[43m]\u001b[49m)])\n",
       "\u001b[0;31mKeyError\u001b[0m: 40"
      ]
     }
    ],
    "execution": {
     "iopub.execute_input": "2023-10-05T11:13:22.748932Z",
     "iopub.status.busy": "2023-10-05T11:13:22.748635Z",
     "iopub.status.idle": "2023-10-05T11:13:22.755322Z",
     "shell.execute_reply": "2023-10-05T11:13:22.754365Z"
    }
   },
   "outputs": [
    {
     "data": {
      "text/plain": [
       "array([[0.        , 1.        , 1.41421356, 1.73205081],\n",
       "       [2.        , 2.23606798, 2.44948974, 2.64575131],\n",
       "       [2.82842712, 3.        , 3.16227766, 3.31662479],\n",
       "       [3.46410162, 3.60555128, 3.74165739, 3.87298335],\n",
       "       [4.        , 4.12310563, 4.24264069, 4.35889894],\n",
       "       [4.47213595, 4.58257569, 4.69041576, 4.79583152]])"
      ]
     },
     "execution_count": 37,
     "metadata": {},
     "output_type": "execute_result"
    }
   ],
   "source": [
    "np.sqrt(A)"
   ]
  },
  {
   "cell_type": "code",
   "execution_count": 39,
   "id": "d8891e3c",
   "metadata": {
    "error": [
     {
      "ename": "KeyError",
      "evalue": "42",
      "output_type": "error",
      "traceback": [
       "\u001b[0;31m---------------------------------------------------------------------------\u001b[0m",
       "\u001b[0;31mKeyError\u001b[0m                                  Traceback (most recent call last)",
       "Cell \u001b[0;32mIn[40], line 1\u001b[0m\n\u001b[0;32m----> 1\u001b[0m json\u001b[38;5;241m.\u001b[39mdumps([typehandlerforuniqueobjects(\u001b[43mOut\u001b[49m\u001b[43m[\u001b[49m\u001b[38;5;241;43m42\u001b[39;49m\u001b[43m]\u001b[49m)])\n",
       "\u001b[0;31mKeyError\u001b[0m: 42"
      ]
     }
    ],
    "execution": {
     "iopub.execute_input": "2023-10-05T11:13:22.785501Z",
     "iopub.status.busy": "2023-10-05T11:13:22.785207Z",
     "iopub.status.idle": "2023-10-05T11:13:22.791501Z",
     "shell.execute_reply": "2023-10-05T11:13:22.790548Z"
    }
   },
   "outputs": [
    {
     "data": {
      "text/plain": [
       "276"
      ]
     },
     "execution_count": 39,
     "metadata": {},
     "output_type": "execute_result"
    }
   ],
   "source": [
    "np.sum(A)"
   ]
  },
  {
   "cell_type": "code",
   "execution_count": 41,
   "id": "fac261bd",
   "metadata": {
    "error": [
     {
      "ename": "KeyError",
      "evalue": "44",
      "output_type": "error",
      "traceback": [
       "\u001b[0;31m---------------------------------------------------------------------------\u001b[0m",
       "\u001b[0;31mKeyError\u001b[0m                                  Traceback (most recent call last)",
       "Cell \u001b[0;32mIn[42], line 1\u001b[0m\n\u001b[0;32m----> 1\u001b[0m json\u001b[38;5;241m.\u001b[39mdumps([typehandlerforuniqueobjects(\u001b[43mOut\u001b[49m\u001b[43m[\u001b[49m\u001b[38;5;241;43m44\u001b[39;49m\u001b[43m]\u001b[49m)])\n",
       "\u001b[0;31mKeyError\u001b[0m: 44"
      ]
     }
    ],
    "execution": {
     "iopub.execute_input": "2023-10-05T11:13:22.820511Z",
     "iopub.status.busy": "2023-10-05T11:13:22.820215Z",
     "iopub.status.idle": "2023-10-05T11:13:22.826463Z",
     "shell.execute_reply": "2023-10-05T11:13:22.825496Z"
    }
   },
   "outputs": [
    {
     "data": {
      "text/plain": [
       "23"
      ]
     },
     "execution_count": 41,
     "metadata": {},
     "output_type": "execute_result"
    }
   ],
   "source": [
    "np.max(A)"
   ]
  },
  {
   "cell_type": "code",
   "execution_count": 43,
   "id": "559b6320",
   "metadata": {
    "error": [
     {
      "ename": "KeyError",
      "evalue": "46",
      "output_type": "error",
      "traceback": [
       "\u001b[0;31m---------------------------------------------------------------------------\u001b[0m",
       "\u001b[0;31mKeyError\u001b[0m                                  Traceback (most recent call last)",
       "Cell \u001b[0;32mIn[44], line 1\u001b[0m\n\u001b[0;32m----> 1\u001b[0m json\u001b[38;5;241m.\u001b[39mdumps([typehandlerforuniqueobjects(\u001b[43mOut\u001b[49m\u001b[43m[\u001b[49m\u001b[38;5;241;43m46\u001b[39;49m\u001b[43m]\u001b[49m)])\n",
       "\u001b[0;31mKeyError\u001b[0m: 46"
      ]
     }
    ],
    "execution": {
     "iopub.execute_input": "2023-10-05T11:13:22.855847Z",
     "iopub.status.busy": "2023-10-05T11:13:22.855549Z",
     "iopub.status.idle": "2023-10-05T11:13:22.861940Z",
     "shell.execute_reply": "2023-10-05T11:13:22.860989Z"
    }
   },
   "outputs": [
    {
     "data": {
      "text/plain": [
       "0"
      ]
     },
     "execution_count": 43,
     "metadata": {},
     "output_type": "execute_result"
    }
   ],
   "source": [
    "np.min(A)"
   ]
  },
  {
   "cell_type": "code",
   "execution_count": 45,
   "id": "b42ba8d2",
   "metadata": {
    "error": [
     {
      "ename": "KeyError",
      "evalue": "48",
      "output_type": "error",
      "traceback": [
       "\u001b[0;31m---------------------------------------------------------------------------\u001b[0m",
       "\u001b[0;31mKeyError\u001b[0m                                  Traceback (most recent call last)",
       "Cell \u001b[0;32mIn[46], line 1\u001b[0m\n\u001b[0;32m----> 1\u001b[0m json\u001b[38;5;241m.\u001b[39mdumps([typehandlerforuniqueobjects(\u001b[43mOut\u001b[49m\u001b[43m[\u001b[49m\u001b[38;5;241;43m48\u001b[39;49m\u001b[43m]\u001b[49m)])\n",
       "\u001b[0;31mKeyError\u001b[0m: 48"
      ]
     }
    ],
    "execution": {
     "iopub.execute_input": "2023-10-05T11:13:22.891507Z",
     "iopub.status.busy": "2023-10-05T11:13:22.891210Z",
     "iopub.status.idle": "2023-10-05T11:13:22.897641Z",
     "shell.execute_reply": "2023-10-05T11:13:22.896694Z"
    }
   },
   "outputs": [
    {
     "data": {
      "text/plain": [
       "11.5"
      ]
     },
     "execution_count": 45,
     "metadata": {},
     "output_type": "execute_result"
    }
   ],
   "source": [
    "np.mean(A)"
   ]
  },
  {
   "cell_type": "code",
   "execution_count": 47,
   "id": "83a79725",
   "metadata": {
    "error": [
     {
      "ename": "KeyError",
      "evalue": "50",
      "output_type": "error",
      "traceback": [
       "\u001b[0;31m---------------------------------------------------------------------------\u001b[0m",
       "\u001b[0;31mKeyError\u001b[0m                                  Traceback (most recent call last)",
       "Cell \u001b[0;32mIn[48], line 1\u001b[0m\n\u001b[0;32m----> 1\u001b[0m json\u001b[38;5;241m.\u001b[39mdumps([typehandlerforuniqueobjects(\u001b[43mOut\u001b[49m\u001b[43m[\u001b[49m\u001b[38;5;241;43m50\u001b[39;49m\u001b[43m]\u001b[49m)])\n",
       "\u001b[0;31mKeyError\u001b[0m: 50"
      ]
     }
    ],
    "execution": {
     "iopub.execute_input": "2023-10-05T11:13:22.926856Z",
     "iopub.status.busy": "2023-10-05T11:13:22.926549Z",
     "iopub.status.idle": "2023-10-05T11:13:22.933055Z",
     "shell.execute_reply": "2023-10-05T11:13:22.932117Z"
    }
   },
   "outputs": [
    {
     "data": {
      "text/plain": [
       "6.922186552431729"
      ]
     },
     "execution_count": 47,
     "metadata": {},
     "output_type": "execute_result"
    }
   ],
   "source": [
    "np.std(A)"
   ]
  },
  {
   "cell_type": "code",
   "execution_count": 49,
   "id": "3dea2b96",
   "metadata": {
    "error": [
     {
      "ename": "KeyError",
      "evalue": "52",
      "output_type": "error",
      "traceback": [
       "\u001b[0;31m---------------------------------------------------------------------------\u001b[0m",
       "\u001b[0;31mKeyError\u001b[0m                                  Traceback (most recent call last)",
       "Cell \u001b[0;32mIn[50], line 1\u001b[0m\n\u001b[0;32m----> 1\u001b[0m json\u001b[38;5;241m.\u001b[39mdumps([typehandlerforuniqueobjects(\u001b[43mOut\u001b[49m\u001b[43m[\u001b[49m\u001b[38;5;241;43m52\u001b[39;49m\u001b[43m]\u001b[49m)])\n",
       "\u001b[0;31mKeyError\u001b[0m: 52"
      ]
     }
    ],
    "execution": {
     "iopub.execute_input": "2023-10-05T11:13:22.961833Z",
     "iopub.status.busy": "2023-10-05T11:13:22.961539Z",
     "iopub.status.idle": "2023-10-05T11:13:22.967811Z",
     "shell.execute_reply": "2023-10-05T11:13:22.966865Z"
    }
   },
   "outputs": [
    {
     "data": {
      "text/plain": [
       "array([[ 0,  1,  2,  3],\n",
       "       [ 4,  5,  6,  7],\n",
       "       [ 8,  9, 10, 11],\n",
       "       [12, 13, 14, 15],\n",
       "       [16, 17, 18, 19],\n",
       "       [20, 21, 22, 23]])"
      ]
     },
     "execution_count": 49,
     "metadata": {},
     "output_type": "execute_result"
    }
   ],
   "source": [
    "A"
   ]
  },
  {
   "cell_type": "code",
   "execution_count": 51,
   "id": "84cb97c8",
   "metadata": {
    "error": [
     {
      "ename": "KeyError",
      "evalue": "54",
      "output_type": "error",
      "traceback": [
       "\u001b[0;31m---------------------------------------------------------------------------\u001b[0m",
       "\u001b[0;31mKeyError\u001b[0m                                  Traceback (most recent call last)",
       "Cell \u001b[0;32mIn[52], line 1\u001b[0m\n\u001b[0;32m----> 1\u001b[0m json\u001b[38;5;241m.\u001b[39mdumps([typehandlerforuniqueobjects(\u001b[43mOut\u001b[49m\u001b[43m[\u001b[49m\u001b[38;5;241;43m54\u001b[39;49m\u001b[43m]\u001b[49m)])\n",
       "\u001b[0;31mKeyError\u001b[0m: 54"
      ]
     }
    ],
    "execution": {
     "iopub.execute_input": "2023-10-05T11:13:22.996535Z",
     "iopub.status.busy": "2023-10-05T11:13:22.996236Z",
     "iopub.status.idle": "2023-10-05T11:13:23.002819Z",
     "shell.execute_reply": "2023-10-05T11:13:23.001876Z"
    }
   },
   "outputs": [
    {
     "data": {
      "text/plain": [
       "array([60, 66, 72, 78])"
      ]
     },
     "execution_count": 51,
     "metadata": {},
     "output_type": "execute_result"
    }
   ],
   "source": [
    "np.sum(A, axis=0)"
   ]
  },
  {
   "cell_type": "code",
   "execution_count": 53,
   "id": "817320ee",
   "metadata": {
    "error": [
     {
      "ename": "KeyError",
      "evalue": "56",
      "output_type": "error",
      "traceback": [
       "\u001b[0;31m---------------------------------------------------------------------------\u001b[0m",
       "\u001b[0;31mKeyError\u001b[0m                                  Traceback (most recent call last)",
       "Cell \u001b[0;32mIn[54], line 1\u001b[0m\n\u001b[0;32m----> 1\u001b[0m json\u001b[38;5;241m.\u001b[39mdumps([typehandlerforuniqueobjects(\u001b[43mOut\u001b[49m\u001b[43m[\u001b[49m\u001b[38;5;241;43m56\u001b[39;49m\u001b[43m]\u001b[49m)])\n",
       "\u001b[0;31mKeyError\u001b[0m: 56"
      ]
     }
    ],
    "execution": {
     "iopub.execute_input": "2023-10-05T11:13:23.033406Z",
     "iopub.status.busy": "2023-10-05T11:13:23.033111Z",
     "iopub.status.idle": "2023-10-05T11:13:23.039533Z",
     "shell.execute_reply": "2023-10-05T11:13:23.038544Z"
    }
   },
   "outputs": [
    {
     "data": {
      "text/plain": [
       "array([ 6, 22, 38, 54, 70, 86])"
      ]
     },
     "execution_count": 53,
     "metadata": {},
     "output_type": "execute_result"
    }
   ],
   "source": [
    "np.sum(A, axis=1)"
   ]
  },
  {
   "cell_type": "code",
   "execution_count": null,
   "id": "e3700d7a",
   "metadata": {},
   "outputs": [],
   "source": []
  },
  {
   "cell_type": "code",
   "execution_count": null,
   "id": "0883603a",
   "metadata": {},
   "outputs": [],
   "source": []
  },
  {
   "cell_type": "markdown",
   "id": "d1253f30",
   "metadata": {},
   "source": [
    "# Shape manipulation"
   ]
  },
  {
   "cell_type": "code",
   "execution_count": 55,
   "id": "3db152b9",
   "metadata": {
    "error": [
     {
      "ename": "KeyError",
      "evalue": "60",
      "output_type": "error",
      "traceback": [
       "\u001b[0;31m---------------------------------------------------------------------------\u001b[0m",
       "\u001b[0;31mKeyError\u001b[0m                                  Traceback (most recent call last)",
       "Cell \u001b[0;32mIn[56], line 1\u001b[0m\n\u001b[0;32m----> 1\u001b[0m json\u001b[38;5;241m.\u001b[39mdumps([typehandlerforuniqueobjects(\u001b[43mOut\u001b[49m\u001b[43m[\u001b[49m\u001b[38;5;241;43m60\u001b[39;49m\u001b[43m]\u001b[49m)])\n",
       "\u001b[0;31mKeyError\u001b[0m: 60"
      ]
     }
    ],
    "execution": {
     "iopub.execute_input": "2023-10-05T11:13:23.068823Z",
     "iopub.status.busy": "2023-10-05T11:13:23.068526Z",
     "iopub.status.idle": "2023-10-05T11:13:23.074728Z",
     "shell.execute_reply": "2023-10-05T11:13:23.073786Z"
    }
   },
   "outputs": [
    {
     "data": {
      "text/plain": [
       "array([[ 0,  1,  2,  3],\n",
       "       [ 4,  5,  6,  7],\n",
       "       [ 8,  9, 10, 11],\n",
       "       [12, 13, 14, 15],\n",
       "       [16, 17, 18, 19],\n",
       "       [20, 21, 22, 23]])"
      ]
     },
     "execution_count": 55,
     "metadata": {},
     "output_type": "execute_result"
    }
   ],
   "source": [
    "A"
   ]
  },
  {
   "cell_type": "code",
   "execution_count": 57,
   "id": "fc39fddd",
   "metadata": {
    "error": [
     {
      "ename": "KeyError",
      "evalue": "62",
      "output_type": "error",
      "traceback": [
       "\u001b[0;31m---------------------------------------------------------------------------\u001b[0m",
       "\u001b[0;31mKeyError\u001b[0m                                  Traceback (most recent call last)",
       "Cell \u001b[0;32mIn[58], line 1\u001b[0m\n\u001b[0;32m----> 1\u001b[0m json\u001b[38;5;241m.\u001b[39mdumps([typehandlerforuniqueobjects(\u001b[43mOut\u001b[49m\u001b[43m[\u001b[49m\u001b[38;5;241;43m62\u001b[39;49m\u001b[43m]\u001b[49m)])\n",
       "\u001b[0;31mKeyError\u001b[0m: 62"
      ]
     }
    ],
    "execution": {
     "iopub.execute_input": "2023-10-05T11:13:23.103375Z",
     "iopub.status.busy": "2023-10-05T11:13:23.103079Z",
     "iopub.status.idle": "2023-10-05T11:13:23.109436Z",
     "shell.execute_reply": "2023-10-05T11:13:23.108469Z"
    }
   },
   "outputs": [
    {
     "data": {
      "text/plain": [
       "array([ 0,  1,  2,  3,  4,  5,  6,  7,  8,  9, 10, 11, 12, 13, 14, 15, 16,\n",
       "       17, 18, 19, 20, 21, 22, 23])"
      ]
     },
     "execution_count": 57,
     "metadata": {},
     "output_type": "execute_result"
    }
   ],
   "source": [
    "A.flatten()"
   ]
  },
  {
   "cell_type": "code",
   "execution_count": 59,
   "id": "fa8f13a7",
   "metadata": {
    "error": [
     {
      "ename": "KeyError",
      "evalue": "64",
      "output_type": "error",
      "traceback": [
       "\u001b[0;31m---------------------------------------------------------------------------\u001b[0m",
       "\u001b[0;31mKeyError\u001b[0m                                  Traceback (most recent call last)",
       "Cell \u001b[0;32mIn[60], line 1\u001b[0m\n\u001b[0;32m----> 1\u001b[0m json\u001b[38;5;241m.\u001b[39mdumps([typehandlerforuniqueobjects(\u001b[43mOut\u001b[49m\u001b[43m[\u001b[49m\u001b[38;5;241;43m64\u001b[39;49m\u001b[43m]\u001b[49m)])\n",
       "\u001b[0;31mKeyError\u001b[0m: 64"
      ]
     }
    ],
    "execution": {
     "iopub.execute_input": "2023-10-05T11:13:23.138093Z",
     "iopub.status.busy": "2023-10-05T11:13:23.137798Z",
     "iopub.status.idle": "2023-10-05T11:13:23.144291Z",
     "shell.execute_reply": "2023-10-05T11:13:23.143330Z"
    }
   },
   "outputs": [
    {
     "data": {
      "text/plain": [
       "array([[ 0,  1,  2],\n",
       "       [ 3,  4,  5],\n",
       "       [ 6,  7,  8],\n",
       "       [ 9, 10, 11],\n",
       "       [12, 13, 14],\n",
       "       [15, 16, 17],\n",
       "       [18, 19, 20],\n",
       "       [21, 22, 23]])"
      ]
     },
     "execution_count": 59,
     "metadata": {},
     "output_type": "execute_result"
    }
   ],
   "source": [
    "A.reshape(8,3)"
   ]
  },
  {
   "cell_type": "code",
   "execution_count": 61,
   "id": "62444ae0",
   "metadata": {
    "error": [
     {
      "ename": "KeyError",
      "evalue": "66",
      "output_type": "error",
      "traceback": [
       "\u001b[0;31m---------------------------------------------------------------------------\u001b[0m",
       "\u001b[0;31mKeyError\u001b[0m                                  Traceback (most recent call last)",
       "Cell \u001b[0;32mIn[62], line 1\u001b[0m\n\u001b[0;32m----> 1\u001b[0m json\u001b[38;5;241m.\u001b[39mdumps([typehandlerforuniqueobjects(\u001b[43mOut\u001b[49m\u001b[43m[\u001b[49m\u001b[38;5;241;43m66\u001b[39;49m\u001b[43m]\u001b[49m)])\n",
       "\u001b[0;31mKeyError\u001b[0m: 66"
      ]
     }
    ],
    "execution": {
     "iopub.execute_input": "2023-10-05T11:13:23.173232Z",
     "iopub.status.busy": "2023-10-05T11:13:23.172933Z",
     "iopub.status.idle": "2023-10-05T11:13:23.179170Z",
     "shell.execute_reply": "2023-10-05T11:13:23.178224Z"
    }
   },
   "outputs": [
    {
     "data": {
      "text/plain": [
       "array([[ 0,  4,  8, 12, 16, 20],\n",
       "       [ 1,  5,  9, 13, 17, 21],\n",
       "       [ 2,  6, 10, 14, 18, 22],\n",
       "       [ 3,  7, 11, 15, 19, 23]])"
      ]
     },
     "execution_count": 61,
     "metadata": {},
     "output_type": "execute_result"
    }
   ],
   "source": [
    "A.T"
   ]
  },
  {
   "cell_type": "code",
   "execution_count": 63,
   "id": "df3dcc2a",
   "metadata": {
    "error": [
     {
      "ename": "KeyError",
      "evalue": "68",
      "output_type": "error",
      "traceback": [
       "\u001b[0;31m---------------------------------------------------------------------------\u001b[0m",
       "\u001b[0;31mKeyError\u001b[0m                                  Traceback (most recent call last)",
       "Cell \u001b[0;32mIn[64], line 1\u001b[0m\n\u001b[0;32m----> 1\u001b[0m json\u001b[38;5;241m.\u001b[39mdumps([typehandlerforuniqueobjects(\u001b[43mOut\u001b[49m\u001b[43m[\u001b[49m\u001b[38;5;241;43m68\u001b[39;49m\u001b[43m]\u001b[49m)])\n",
       "\u001b[0;31mKeyError\u001b[0m: 68"
      ]
     }
    ],
    "execution": {
     "iopub.execute_input": "2023-10-05T11:13:23.207784Z",
     "iopub.status.busy": "2023-10-05T11:13:23.207490Z",
     "iopub.status.idle": "2023-10-05T11:13:23.213900Z",
     "shell.execute_reply": "2023-10-05T11:13:23.212957Z"
    }
   },
   "outputs": [
    {
     "data": {
      "text/plain": [
       "array([[ 0,  4,  8, 12, 16, 20],\n",
       "       [ 1,  5,  9, 13, 17, 21],\n",
       "       [ 2,  6, 10, 14, 18, 22],\n",
       "       [ 3,  7, 11, 15, 19, 23]])"
      ]
     },
     "execution_count": 63,
     "metadata": {},
     "output_type": "execute_result"
    }
   ],
   "source": [
    "np.transpose(A)"
   ]
  },
  {
   "cell_type": "code",
   "execution_count": null,
   "id": "f46c3475",
   "metadata": {},
   "outputs": [],
   "source": []
  },
  {
   "cell_type": "markdown",
   "id": "55282fb2",
   "metadata": {},
   "source": [
    "##### Stacking of Arrays - vstack - hstack"
   ]
  },
  {
   "cell_type": "code",
   "execution_count": 65,
   "id": "1e0c36b3",
   "metadata": {
    "execution": {
     "iopub.execute_input": "2023-10-05T11:13:23.243018Z",
     "iopub.status.busy": "2023-10-05T11:13:23.242720Z",
     "iopub.status.idle": "2023-10-05T11:13:23.247879Z",
     "shell.execute_reply": "2023-10-05T11:13:23.246934Z"
    }
   },
   "outputs": [],
   "source": [
    "a=np.random.randint(0,10,(2,2))\n",
    "b=np.random.randint(0,10,(2,2))"
   ]
  },
  {
   "cell_type": "code",
   "execution_count": 66,
   "id": "f5ce45ba",
   "metadata": {
    "error": [
     {
      "ename": "KeyError",
      "evalue": "72",
      "output_type": "error",
      "traceback": [
       "\u001b[0;31m---------------------------------------------------------------------------\u001b[0m",
       "\u001b[0;31mKeyError\u001b[0m                                  Traceback (most recent call last)",
       "Cell \u001b[0;32mIn[67], line 1\u001b[0m\n\u001b[0;32m----> 1\u001b[0m json\u001b[38;5;241m.\u001b[39mdumps([typehandlerforuniqueobjects(\u001b[43mOut\u001b[49m\u001b[43m[\u001b[49m\u001b[38;5;241;43m72\u001b[39;49m\u001b[43m]\u001b[49m)])\n",
       "\u001b[0;31mKeyError\u001b[0m: 72"
      ]
     }
    ],
    "execution": {
     "iopub.execute_input": "2023-10-05T11:13:23.251511Z",
     "iopub.status.busy": "2023-10-05T11:13:23.251219Z",
     "iopub.status.idle": "2023-10-05T11:13:23.257376Z",
     "shell.execute_reply": "2023-10-05T11:13:23.256416Z"
    }
   },
   "outputs": [
    {
     "data": {
      "text/plain": [
       "array([[5, 1],\n",
       "       [9, 8]])"
      ]
     },
     "execution_count": 66,
     "metadata": {},
     "output_type": "execute_result"
    }
   ],
   "source": [
    "a"
   ]
  },
  {
   "cell_type": "code",
   "execution_count": 68,
   "id": "c882eeb0",
   "metadata": {
    "error": [
     {
      "ename": "KeyError",
      "evalue": "74",
      "output_type": "error",
      "traceback": [
       "\u001b[0;31m---------------------------------------------------------------------------\u001b[0m",
       "\u001b[0;31mKeyError\u001b[0m                                  Traceback (most recent call last)",
       "Cell \u001b[0;32mIn[69], line 1\u001b[0m\n\u001b[0;32m----> 1\u001b[0m json\u001b[38;5;241m.\u001b[39mdumps([typehandlerforuniqueobjects(\u001b[43mOut\u001b[49m\u001b[43m[\u001b[49m\u001b[38;5;241;43m74\u001b[39;49m\u001b[43m]\u001b[49m)])\n",
       "\u001b[0;31mKeyError\u001b[0m: 74"
      ]
     }
    ],
    "execution": {
     "iopub.execute_input": "2023-10-05T11:13:23.286215Z",
     "iopub.status.busy": "2023-10-05T11:13:23.285917Z",
     "iopub.status.idle": "2023-10-05T11:13:23.292083Z",
     "shell.execute_reply": "2023-10-05T11:13:23.291119Z"
    }
   },
   "outputs": [
    {
     "data": {
      "text/plain": [
       "array([[5, 9],\n",
       "       [0, 5]])"
      ]
     },
     "execution_count": 68,
     "metadata": {},
     "output_type": "execute_result"
    }
   ],
   "source": [
    "b"
   ]
  },
  {
   "cell_type": "code",
   "execution_count": 70,
   "id": "b5e1e52a",
   "metadata": {
    "error": [
     {
      "ename": "KeyError",
      "evalue": "76",
      "output_type": "error",
      "traceback": [
       "\u001b[0;31m---------------------------------------------------------------------------\u001b[0m",
       "\u001b[0;31mKeyError\u001b[0m                                  Traceback (most recent call last)",
       "Cell \u001b[0;32mIn[71], line 1\u001b[0m\n\u001b[0;32m----> 1\u001b[0m json\u001b[38;5;241m.\u001b[39mdumps([typehandlerforuniqueobjects(\u001b[43mOut\u001b[49m\u001b[43m[\u001b[49m\u001b[38;5;241;43m76\u001b[39;49m\u001b[43m]\u001b[49m)])\n",
       "\u001b[0;31mKeyError\u001b[0m: 76"
      ]
     }
    ],
    "execution": {
     "iopub.execute_input": "2023-10-05T11:13:23.323058Z",
     "iopub.status.busy": "2023-10-05T11:13:23.322764Z",
     "iopub.status.idle": "2023-10-05T11:13:23.329372Z",
     "shell.execute_reply": "2023-10-05T11:13:23.328410Z"
    }
   },
   "outputs": [
    {
     "data": {
      "text/plain": [
       "array([[5, 1, 5, 9],\n",
       "       [9, 8, 0, 5]])"
      ]
     },
     "execution_count": 70,
     "metadata": {},
     "output_type": "execute_result"
    }
   ],
   "source": [
    "np.hstack((a,b))"
   ]
  },
  {
   "cell_type": "code",
   "execution_count": 72,
   "id": "a11041d5",
   "metadata": {
    "error": [
     {
      "ename": "KeyError",
      "evalue": "78",
      "output_type": "error",
      "traceback": [
       "\u001b[0;31m---------------------------------------------------------------------------\u001b[0m",
       "\u001b[0;31mKeyError\u001b[0m                                  Traceback (most recent call last)",
       "Cell \u001b[0;32mIn[73], line 1\u001b[0m\n\u001b[0;32m----> 1\u001b[0m json\u001b[38;5;241m.\u001b[39mdumps([typehandlerforuniqueobjects(\u001b[43mOut\u001b[49m\u001b[43m[\u001b[49m\u001b[38;5;241;43m78\u001b[39;49m\u001b[43m]\u001b[49m)])\n",
       "\u001b[0;31mKeyError\u001b[0m: 78"
      ]
     }
    ],
    "execution": {
     "iopub.execute_input": "2023-10-05T11:13:23.358207Z",
     "iopub.status.busy": "2023-10-05T11:13:23.357908Z",
     "iopub.status.idle": "2023-10-05T11:13:23.364568Z",
     "shell.execute_reply": "2023-10-05T11:13:23.363589Z"
    }
   },
   "outputs": [
    {
     "data": {
      "text/plain": [
       "array([[5, 1],\n",
       "       [9, 8],\n",
       "       [5, 9],\n",
       "       [0, 5]])"
      ]
     },
     "execution_count": 72,
     "metadata": {},
     "output_type": "execute_result"
    }
   ],
   "source": [
    "np.vstack((a,b))"
   ]
  }
 ],
 "metadata": {
  "kernelspec": {
   "display_name": "Python 3 (ipykernel)",
   "language": "python",
   "name": "python3"
  },
  "language_info": {
   "codemirror_mode": {
    "name": "ipython",
    "version": 3
   },
   "file_extension": ".py",
   "mimetype": "text/x-python",
   "name": "python",
   "nbconvert_exporter": "python",
   "pygments_lexer": "ipython3",
   "version": "3.9.18"
  }
 },
 "nbformat": 4,
 "nbformat_minor": 5
}
