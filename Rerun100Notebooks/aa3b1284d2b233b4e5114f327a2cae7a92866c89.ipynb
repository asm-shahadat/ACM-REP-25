{
 "cells": [
  {
   "cell_type": "markdown",
   "id": "31657495",
   "metadata": {},
   "source": [
    "# Design Tolerances, Sensitivity Analysis\n",
    "### Chapter 2.11 - *DC Analysis*\n",
    "\n",
    "A MIMO circuit of Fig. 2.7.3 is uniquely characterized by its $L$ constants (primary\n",
    "parameters) $P_1,\\dots,P_L$.  Any transfer function $K_{ij}$ (secondary parameter) is a function of these\n",
    "constants,$K_{ij}=K_{ij}(P_1,\\dots,P_L)$, and any output signal $Y_j$ is a function of these constants and input\n",
    "signals, $Y_j=Y_j(X_1,\\dots,X_M,P_1,\\dots,P_L)$ .  Both transfer functions and output signals can be\n",
    "considered as circuit variables designated by circuit constants and/or circuit inputs:"
   ]
  },
  {
   "cell_type": "markdown",
   "id": "477b4a29",
   "metadata": {},
   "source": [
    "\\begin{equation}\\tag{1}\n",
    "    F_k=F_k(X_1,\\dots,X_P);\\quad X_{M+l}=P_l \\quad \\text{where}\\;l=1,\\dots,L\\quad\\text{and}\\quad P=M+L\n",
    "\\end{equation}    "
   ]
  },
  {
   "cell_type": "markdown",
   "id": "7c54c0a7",
   "metadata": {},
   "source": [
    "### Example 2.11.1\n",
    "A voltage divider presented in Fig. 2.11.1 is characterized by two parameters, resistances\n",
    "$R_1$ and $R_2$. Then, two circuit variables, transfer functions are selected:  \n",
    "\n",
    "* input resistance:  \n",
    "\n",
    "\\begin{equation}\\tag{2a}\n",
    "    F_1=R_{in} = \\frac{U_{in}}{I} = R_1+R_2\n",
    "\\end{equation}    "
   ]
  },
  {
   "cell_type": "markdown",
   "id": "856abbac",
   "metadata": {},
   "source": [
    "**The proof:**  \n",
    "\n",
    "Via KVL an Ohm's Law,  \n",
    "\n",
    "\\begin{equation}\\tag{Ex1.1}\n",
    "    U_{in} = R_1I + R_2I_1\n",
    "\\end{equation}    "
   ]
  },
  {
   "cell_type": "markdown",
   "id": "557dd8f8",
   "metadata": {},
   "source": [
    "and,\n",
    "\\begin{equation}\\tag{Ex1.2}\n",
    "    U_{in} = R_1I + U_{out}\n",
    "\\end{equation}    "
   ]
  },
  {
   "cell_type": "markdown",
   "id": "645ab3e2",
   "metadata": {},
   "source": [
    "Via KCL,  \n",
    "\n",
    "\\begin{equation}\\tag{Ex1.3}\n",
    "    I = I_1 + I_2\n",
    "\\end{equation}    "
   ]
  },
  {
   "cell_type": "markdown",
   "id": "ed758ef4",
   "metadata": {},
   "source": [
    "Assuming open-circuit conditions across the two right hand terminals of the voltage divider (i.e. $I_2=0$), via equations (Ex1.3) and (Ex1.1) and substitution,  \n",
    "\n",
    "$$ U_{in} = I(R_1+R_2)$$"
   ]
  },
  {
   "cell_type": "markdown",
   "id": "3282c36a",
   "metadata": {},
   "source": [
    "Thus, equation (2a).  Q.E.D."
   ]
  },
  {
   "cell_type": "markdown",
   "id": "64f85603",
   "metadata": {},
   "source": [
    "![Fig-2.11.1](Figures/Fig-2.11.1.png)"
   ]
  },
  {
   "cell_type": "markdown",
   "id": "7ee2a463",
   "metadata": {},
   "source": [
    "* gain:  \n",
    "\n",
    "\\begin{equation}\\tag{2b}\n",
    "    F_2 = K = \\frac{U_{out}}{U_{in}} = \\frac{R_2}{R_1+R_2}\n",
    "\\end{equation}    "
   ]
  },
  {
   "cell_type": "markdown",
   "id": "1a223bc1",
   "metadata": {},
   "source": [
    "**The proof:**  \n",
    "\n",
    "Assuming $I_2=0$, via equations (Ex1.1), (Ex1.2), and (Ex1.3) in conjunction with equivalance principle,  \n",
    "\n",
    "\\begin{equation}\\tag{Ex1.4}\n",
    "    U_{out} = R_2I\n",
    "\\end{equation}    "
   ]
  },
  {
   "cell_type": "markdown",
   "id": "b8330945",
   "metadata": {},
   "source": [
    "And via equations (Ex1.4) and (2a), equation (2b).  Q.E.D."
   ]
  },
  {
   "cell_type": "markdown",
   "id": "e3096b82",
   "metadata": {},
   "source": [
    "Then, ideal and practical circuits are distinguished."
   ]
  },
  {
   "cell_type": "code",
   "execution_count": 2,
   "id": "c9966d57",
   "metadata": {
    "execution": {
     "iopub.execute_input": "2023-10-05T13:18:23.893162Z",
     "iopub.status.busy": "2023-10-05T13:18:23.892873Z",
     "iopub.status.idle": "2023-10-05T13:18:24.764684Z",
     "shell.execute_reply": "2023-10-05T13:18:24.763372Z"
    }
   },
   "outputs": [],
   "source": [
    "import numpy as np\n",
    "import matplotlib.pyplot as plt"
   ]
  },
  {
   "cell_type": "markdown",
   "id": "40b9bb90",
   "metadata": {},
   "source": [
    "### Ideal Circuit\n",
    "\n",
    "All circuit parameters have **nominal values**.  \n",
    "\n",
    "\\begin{equation}\\tag{3}\n",
    "    X_i = X_i^n;\\quad i=1,\\dots,P\n",
    "\\end{equation}    "
   ]
  },
  {
   "cell_type": "markdown",
   "id": "8189d735",
   "metadata": {},
   "source": [
    "### Practical Circuit\n",
    "All circuit parameters are characterized by nominal values and design\n",
    "tolerances, i.e. their values lay within **tolerance margins**.\n",
    "\n",
    "\\begin{equation}\\tag{4}\n",
    "    X_i^- < X_i < X_i^+;\\quad i=1,\\dots,P\n",
    "\\end{equation}    "
   ]
  },
  {
   "cell_type": "markdown",
   "id": "90dbb4b5",
   "metadata": {},
   "source": [
    "Based on tests, made during the manufacturing process, the probability distribution for each\n",
    "parameter can be found. Presented in Fig. 2.11.2 **normal** or Gauss **distribution** is the most\n",
    "commonly used. This distribution is described by the following equation (index $i$ has been\n",
    "omitted for simplicity of description):\n",
    "where $\\sigma$ is the so called **standard deviation**.  \n",
    "\n",
    "\\begin{equation}\\tag{5}\n",
    "    p(X) = \\frac{1}{\\sigma \\sqrt{2\\pi}}\\,e^h\\quad\\text{where}\\quad h = -\\frac{(X-X^n)^2}{2\\sigma^2}\n",
    "\\end{equation}    "
   ]
  },
  {
   "cell_type": "code",
   "execution_count": 3,
   "id": "6cdf2773",
   "metadata": {
    "code_folding": [
     0
    ],
    "debugging_output": [
     {
      "name": "stdout",
      "output_type": "stream",
      "text": "Out[3][0]\nOut[3][1]\nTraceback (most recent call last):\n  File \"/tmp/ipykernel_21/1657681272.py\", line 5, in <module>\n    outputs.append(typehandlerforuniqueobjects(Out[3][i]))\nIndexError: list index out of range\n\n"
     }
    ],
    "execution": {
     "iopub.execute_input": "2023-10-05T13:18:24.769630Z",
     "iopub.status.busy": "2023-10-05T13:18:24.769104Z",
     "iopub.status.idle": "2023-10-05T13:18:25.129782Z",
     "shell.execute_reply": "2023-10-05T13:18:25.128738Z"
    }
   },
   "outputs": [
    {
     "data": {
      "text/plain": [
       "[<matplotlib.lines.Line2D at 0x7f2db86d59d0>]"
      ]
     },
     "execution_count": 3,
     "metadata": {},
     "output_type": "execute_result"
    },
    {
     "data": {
      "image/png": "[encoded data removed]",
      "text/plain": [
       "<Figure size 640x480 with 1 Axes>"
      ]
     },
     "metadata": {},
     "output_type": "display_data"
    }
   ],
   "source": [
    "# Define the parameter deviation and nominal value, denoted as 'DX' and 'Xn' respectively.\n",
    "DX = 0.25\n",
    "Xn = 1\n",
    "\n",
    "\"\"\"Via equation (7) and the definition of 'DX', an acceptable standard deviation, denoted as 'sigma', is\"\"\"\n",
    "s=sigma = DX*3/2\n",
    "\n",
    "# Create the domain of p(X), which gives the distribution.\n",
    "X = np.linspace(-0.5, 2.5, num=200)\n",
    "\n",
    "# Define the function that gives the distribution (p(X)).\n",
    "h = -((X-Xn)**2)/(2*s**2)\n",
    "p = (np.e**h)/(s*np.sqrt(2*np.pi))\n",
    "\n",
    "# Create the figure ('fig') and axes ('ax') objects\n",
    "fig, ax = plt.subplots()\n",
    "ax.set_title('Normal Distribution', size=14)\n",
    "ax.set_xlabel(r'$X$')\n",
    "ax.set_ylabel(r'p(X)')\n",
    "ax.grid()\n",
    "\n",
    "# Plot the distribution\n",
    "ax.plot(X, p)"
   ]
  },
  {
   "cell_type": "markdown",
   "id": "ba60c647",
   "metadata": {},
   "source": [
    "For the given standard deviation, tolerance margins are related to the probability\n",
    "distribution by the following equation:  \n",
    "\n",
    "\\begin{equation}\\tag{6}\n",
    "    q = \\int_{X^- + \\Delta X}^{X^+ - \\Delta X}p(X)\\,\\mathrm{d}X = \\int_{X^n-\\Delta X}^{X^n+\\Delta X}p(X)\\,\\mathrm{d}X\n",
    "\\end{equation}    "
   ]
  },
  {
   "cell_type": "markdown",
   "id": "906559e4",
   "metadata": {},
   "source": [
    "where $q$ is the production yield, e.g. if $q=0.95$ then $95\\mathrm{\\%}$ of the production is classified as\n",
    "“healthy”."
   ]
  },
  {
   "cell_type": "markdown",
   "id": "31a6fba5",
   "metadata": {},
   "source": [
    "For the assumed parameter deviation $\\Delta X$, $X^+-X^n = X^n-X^- = \\Delta X > 0$  , the production yield $q$\n",
    "can be calculated from (2.11.6). If $q$ is assumed, then the acceptable deviation can be\n",
    "calculated, practically deviation of  \n",
    "\n",
    "\\begin{equation}\\tag{7}\n",
    "    \\Delta X = (2\\div 3)\\sigma\n",
    "\\end{equation}\n",
    "\n",
    "is accepted."
   ]
  },
  {
   "cell_type": "markdown",
   "id": "c889eaf9",
   "metadata": {},
   "source": [
    "An element is normally characterized by its parameter deviation to nominal value ratio, so\n",
    "called **parameter tolerance**:  \n",
    "\n",
    "\\begin{equation}\\tag{8}\n",
    "    \\mathrm{tol}_x = \\frac{\\Delta X}{X^n}\n",
    "\\end{equation}    "
   ]
  },
  {
   "cell_type": "markdown",
   "id": "cbf5d281",
   "metadata": {},
   "source": [
    "For $P$ parameters characterizing a circuit, its tolerance region can be defined."
   ]
  },
  {
   "cell_type": "markdown",
   "id": "63a0fa97",
   "metadata": {},
   "source": [
    "### Tolerance Region\n",
    "\n",
    "A tolerance region (tolerance box) is a parallelepiped in the parameter space $\\mathfrak{R}^{\\small P}$ with planes\n",
    "parallel with coordinate axes, and designated by tolerance margins of circuit parameters $X_1,\\dots,X_P$."
   ]
  },
  {
   "cell_type": "markdown",
   "id": "40d4cd41",
   "metadata": {},
   "source": [
    "### Example 2.11.1 – cont.\n",
    "The nominal values of resistances and their tolerances are: $R_1^n, R_2^n = 1\\Omega$ ,$\\mathrm{tol}_1 = 0.1$, and $\\mathrm{tol}_2 = 0.05$. Graph the tolerance region."
   ]
  },
  {
   "cell_type": "markdown",
   "id": "00f72f33",
   "metadata": {},
   "source": [
    "Via equation (8) and the presuppositions of this example,  \n",
    "\n",
    "\\begin{equation}\\tag{Ex1.5a}\n",
    "    \\Delta R_1 = 0.1\\cdot 1\\Omega = 0.1\\Omega\n",
    "\\end{equation}    "
   ]
  },
  {
   "cell_type": "markdown",
   "id": "b1b78198",
   "metadata": {},
   "source": [
    "and,\n",
    "\\begin{equation}\\tag{Ex1.5b}\n",
    "    \\Delta R_2 = 0.05\\cdot 1\\Omega = 0.05\\Omega\n",
    "\\end{equation}    "
   ]
  },
  {
   "cell_type": "markdown",
   "id": "8d91c31e",
   "metadata": {},
   "source": [
    "The tolerance margins of $R_1$ and $R_2$ are thus,  \n",
    "\n",
    "$$ 0.9\\Omega < R_1 < 1.1\\Omega$$\n",
    "\n",
    "and,\n",
    "$$ 0.95\\Omega < R_2 < 1.05\\Omega$$"
   ]
  },
  {
   "cell_type": "markdown",
   "id": "9aa6a06c",
   "metadata": {},
   "source": [
    "And, the tolerance region is given by the Cartesian product of the aforementioned tolerance margins."
   ]
  },
  {
   "cell_type": "markdown",
   "id": "bff49af1",
   "metadata": {},
   "source": [
    "Presence of design tolerances has to be taken into account at a circuit design stage. Two\n",
    "approaches are possible:\n",
    "1. Parameter design tolerances are given by the design-engineer. Finding of maximum\n",
    "    deviations of circuit variables, caused by these tolerances, is the task.\n",
    "2. Design specifications, acceptable deviations of circuit variables, are given by the\n",
    "    design-engineer. Finding of parameter design tolerances is the task."
   ]
  },
  {
   "cell_type": "markdown",
   "id": "5386c629",
   "metadata": {},
   "source": [
    "## Maximum Design Deviation of Circuit Variable\n",
    "\n",
    "**Designation of the maximum design deviation of circuit variable:**  \n",
    "\n",
    "For each circuit variable $F$ (index has been omitted for simplicity of description), its\n",
    "maximum deviations, due to design tolerances of circuit parameters, can be found. Two\n",
    "different techniques are possible:\n",
    "\n",
    "* *worse case* analysis\n",
    "* sensitivity analysis"
   ]
  },
  {
   "cell_type": "markdown",
   "id": "9551ae54",
   "metadata": {},
   "source": [
    "### *Worst case* analysis\n",
    "It is assumed that within the tolerance region, first derivatives of a circuit variable function\n",
    "(2.11.1) do not change sign:"
   ]
  },
  {
   "cell_type": "markdown",
   "id": "716a8a9a",
   "metadata": {},
   "source": [
    "\\begin{equation}\\tag{9}\n",
    "    \\mathrm{sgn}\\left(\\frac{\\partial F}{\\partial X_i}\\right) = \\mathrm{const}\\quad\\text{for}\\;X_i\\in<X_i^-,X_i^+>;\\;i=1,\\dots,P\n",
    "\\end{equation}"
   ]
  },
  {
   "cell_type": "markdown",
   "id": "feced46e",
   "metadata": {},
   "source": [
    "Note that the above version of equation (9) is from the textbook.  However, to stay true to the annotation of said equation, a different version is, *i think*, needed.  \n",
    "\n",
    "\\begin{equation}\\tag{9}\n",
    "    \\forall i \\in \\mathbb{N}:i\\le P\\quad \\mathrm{sgn}\\left(\\frac{\\partial F}{\\partial X_i}\\right) = \\mathrm{const} \\quad \\text{where}\\; X_j^- < X_j < X_j^+\\quad \\forall j\\in\\mathbb{N}:j\\le P\n",
    "\\end{equation}    "
   ]
  },
  {
   "cell_type": "markdown",
   "id": "68d0caca",
   "metadata": {},
   "source": [
    "Then, the boundary values of a circuit variable, due to a presence of parameter design\n",
    "tolerances, are calculated by setting in function (2.11.1) the boundary values of parameters:  \n",
    "\n",
    "\\begin{equation}\\tag{10a}\n",
    "    F^+ = F(X_1^*,\\dots,X_P^*)\n",
    "\\end{equation}    "
   ]
  },
  {
   "cell_type": "markdown",
   "id": "381a3c02",
   "metadata": {},
   "source": [
    "where,  \n",
    "\n",
    "$$X_i^* = \\begin{cases}\\tag{10a}\n",
    "X_i^+ \\quad \\text{if }(\\partial F/\\partial X_i)^n>0 \\\\\n",
    "X_i^- \\quad \\text{otherwise}\n",
    "\\end{cases} $$"
   ]
  },
  {
   "cell_type": "markdown",
   "id": "7130aa38",
   "metadata": {},
   "source": [
    "\\begin{equation}\\tag{10b}\n",
    "    F^- = F(X_1^*,\\dots,X_P^*)\n",
    "\\end{equation}    "
   ]
  },
  {
   "cell_type": "markdown",
   "id": "1cb2a540",
   "metadata": {},
   "source": [
    "where,\n",
    "$$ X_i^* = \\begin{cases}\\tag{10b}\n",
    "X_i^+ \\quad \\text{if }(\\partial F/\\partial X_i)^n < 0\\\\\n",
    "X_i^- \\quad \\text{otherwise} \\end{cases}$$"
   ]
  },
  {
   "cell_type": "markdown",
   "id": "7e2d821f",
   "metadata": {},
   "source": [
    "and,\n",
    "\\begin{equation}\\tag{11}\n",
    "    (\\partial F/\\partial X_i)^n = S_{X_i}^F\n",
    "\\end{equation}    "
   ]
  },
  {
   "cell_type": "markdown",
   "id": "5092eecb",
   "metadata": {},
   "source": [
    "Here, $S_{X_i}^F$ is the 1st derivative calculated at the nominal point $\\mathbf{X}^n$ , the so called **sensitivity** of a circuit variable $F$ with respect to small changes of parameter $X_i$ in a close neighborhood of the nominal point, the 1st order sensitivity. For $M$ circuit variables and $P$ circuit parameters, the $M\\times P$ sensitivity matrix can be created.  \n",
    "\n",
    "$$\\mathbf{S} = \\begin{bmatrix}\\tag{11a}\n",
    "S_{X_1}^{F_1} &\\dots &S_{X_P}^{F_1} \\\\\n",
    "\\vdots &\\ddots &\\vdots \\\\\n",
    "S_{X_1}^{F_M} &\\dots &S_{X_P}^{F_M}\n",
    "\\end{bmatrix}$$"
   ]
  },
  {
   "cell_type": "markdown",
   "id": "8464a145",
   "metadata": {},
   "source": [
    "Finally, the maximum deviation caused by parameter tolerances, denoted as '$\\Delta F_\\max$', is given by:  \n",
    "\n",
    "\\begin{equation}\\tag{12}\n",
    "    \\Delta F_\\max = |F^+ - F^n| \\approxeq |F^- - F^n|\n",
    "\\end{equation}    "
   ]
  },
  {
   "cell_type": "markdown",
   "id": "9d3e2aa9",
   "metadata": {},
   "source": [
    "### *Example 2.11.1* – cont.\n",
    "The boundary values of circuit variables are calculated from the following equations:  "
   ]
  },
  {
   "cell_type": "markdown",
   "id": "9d089e48",
   "metadata": {},
   "source": [
    "For the input resistance ($R_{in}$):  \n",
    "\n",
    "\\begin{equation}\\tag{Ex1.6a}\n",
    "    R_{in}^+ = R_{in}(R_1^+, R_2^+) = R_1^n + \\Delta R_1 + R_2^n + \\Delta R_2 = 2.15\\Omega\n",
    "\\end{equation}    "
   ]
  },
  {
   "cell_type": "markdown",
   "id": "c8766d3b",
   "metadata": {},
   "source": [
    "\\begin{equation}\\tag{Ex1.6b}\n",
    "    R_{in}^- = R_{in}(R_1^-, R_2^-) = 2\\Omega - \\Delta R_1 - \\Delta R_2 = 1.85\\Omega\n",
    "\\end{equation}    "
   ]
  },
  {
   "cell_type": "markdown",
   "id": "ed120b7c",
   "metadata": {},
   "source": [
    "For the top boundary of the gain ($K^+$):  \n",
    "\n",
    "$$\\frac{\\partial K}{\\partial R_2} =\\frac{1}{R_1+R_2} -\\frac{R_2}{(R_1 + R_2)^2} $$"
   ]
  },
  {
   "cell_type": "markdown",
   "id": "a93d7099",
   "metadata": {},
   "source": [
    "$$ \\frac{\\partial K}{\\partial R_2}(R_1^n,R_2^n) = \\frac{\\partial K}{\\partial R_2}(1\\Omega,1\\Omega) = \\left(\\frac{1}{2}-\\frac{1}{4}\\right)\\,\\mathrm{S} > 0$$"
   ]
  },
  {
   "cell_type": "markdown",
   "id": "28c0a3f1",
   "metadata": {},
   "source": [
    "Thus,  \n",
    "\n",
    "\\begin{equation}\\tag{Ex1.7a}\n",
    "    R_2^* = R_2^+\n",
    "\\end{equation}    "
   ]
  },
  {
   "cell_type": "markdown",
   "id": "a3d4fcda",
   "metadata": {},
   "source": [
    "And,\n",
    "$$ \\frac{\\partial K}{\\partial R_1} = -\\frac{R_2}{(R_1+R_2)^2}$$"
   ]
  },
  {
   "cell_type": "markdown",
   "id": "9881fd44",
   "metadata": {},
   "source": [
    "$$ \\frac{\\partial K}{\\partial R_1}(R_1^n,R_1^n) = -0.25\\mathrm{S} < 0$$  \n",
    "\n",
    "Thus,\n",
    "\\begin{equation}\\tag{Ex1.7b}\n",
    "    R_1^* = R_1^-\n",
    "\\end{equation}    "
   ]
  },
  {
   "cell_type": "markdown",
   "id": "0c4c99fd",
   "metadata": {},
   "source": [
    "Finally,\n",
    "\\begin{equation}\\tag{Ex1.7}\n",
    "    K^+ = K(R_1^-, R_2^+) = K(0.9\\Omega, 1.05\\Omega) = \\frac{1.05\\Omega}{0.9\\Omega + 1.05\\Omega} \\approxeq 0.538 \\frac{\\mathrm{V}}{\\mathrm{V}} \n",
    "\\end{equation}    "
   ]
  },
  {
   "cell_type": "code",
   "execution_count": 5,
   "id": "b9af2c2d",
   "metadata": {
    "execution": {
     "iopub.execute_input": "2023-10-05T13:18:25.146526Z",
     "iopub.status.busy": "2023-10-05T13:18:25.146229Z",
     "iopub.status.idle": "2023-10-05T13:18:25.152331Z",
     "shell.execute_reply": "2023-10-05T13:18:25.151410Z"
    },
    "type_information": "[{\"type\": \"<class 'float'>\", \"name\": \"float\", \"module\": \"builtins\", \"size\": 24}]"
   },
   "outputs": [
    {
     "data": {
      "text/plain": [
       "0.5384615384615384"
      ]
     },
     "execution_count": 5,
     "metadata": {},
     "output_type": "execute_result"
    }
   ],
   "source": [
    "1.05/(0.9+1.05)"
   ]
  },
  {
   "cell_type": "markdown",
   "id": "d2d23773",
   "metadata": {},
   "source": [
    "For the bottom boundary of the gain ($K^-$):  \n",
    "\n",
    "\\begin{equation}\\tag{Ex1.8}\n",
    "    K^- = K(R_1^+, R_2^-) = \\frac{0.9\\Omega}{1.95\\Omega} \\approxeq 0.462 \\frac{\\mathrm{V}}{\\mathrm{V}}\n",
    "\\end{equation}    "
   ]
  },
  {
   "cell_type": "code",
   "execution_count": 7,
   "id": "2316c4d1",
   "metadata": {
    "execution": {
     "iopub.execute_input": "2023-10-05T13:18:25.164948Z",
     "iopub.status.busy": "2023-10-05T13:18:25.164662Z",
     "iopub.status.idle": "2023-10-05T13:18:25.170468Z",
     "shell.execute_reply": "2023-10-05T13:18:25.169536Z"
    },
    "type_information": "[{\"type\": \"<class 'float'>\", \"name\": \"float\", \"module\": \"builtins\", \"size\": 24}]"
   },
   "outputs": [
    {
     "data": {
      "text/plain": [
       "0.46153846153846156"
      ]
     },
     "execution_count": 7,
     "metadata": {},
     "output_type": "execute_result"
    }
   ],
   "source": [
    "0.9/1.95"
   ]
  },
  {
   "cell_type": "markdown",
   "id": "a13d9f5f",
   "metadata": {},
   "source": [
    "The nominal values are, of course:  \n",
    "\n",
    "$$ R_{in}^n = 2\\Omega$$\n",
    "\n",
    "and,\n",
    "$$ K^n = 0.5\\frac{\\mathrm{V}}{\\mathrm{V}}$$"
   ]
  },
  {
   "cell_type": "markdown",
   "id": "56c787b3",
   "metadata": {},
   "source": [
    "and the maximum deviations, caused by the design deviations of parameters are:  \n",
    "\n",
    "$$ \\max \\Delta R_{in} = 0.15\\Omega \\quad \\text{and} \\quad \\Delta K_\\max \\approxeq |0.5 - 0.538|\\frac{\\mathrm{V}}{\\mathrm{V}} = 0.038\\frac{\\mathrm{V}}{\\mathrm{V}}$$\n",
    "\n"
   ]
  },
  {
   "cell_type": "markdown",
   "id": "d18dc4a4",
   "metadata": {},
   "source": [
    "### Sensitivity Analysis\n",
    "Consider the 1st order approximation of the circuit variable function (2.11.1), its Taylor’s\n",
    "series expansion around the nominal point:  \n",
    "\n",
    "\\begin{equation}\\tag{13}\n",
    "    F(\\mathbf{X}^n + \\mathbf{\\Delta X}) \\approxeq F(\\mathbf{X}^n) + \\sum_{i=1}^P (\\partial F/\\partial X_i)^n\\Delta X_i\n",
    "\\end{equation}    "
   ]
  },
  {
   "cell_type": "markdown",
   "id": "90ad634e",
   "metadata": {},
   "source": [
    "Then, the deviation of a circuit variable can be expressed by the 1st order sensitivities and\n",
    "parameter deviations:  \n",
    "\n",
    "\\begin{equation}\\tag{14}\n",
    "    \\Delta F = F(\\mathbf{X}^n + \\mathbf{\\Delta X}) - F(\\mathbf{X}^n) \\approxeq \\sum_{i=1}^P S_{X_i}^F \\Delta X_i\n",
    "\\end{equation}    "
   ]
  },
  {
   "cell_type": "markdown",
   "id": "9ea50cf2",
   "metadata": {},
   "source": [
    "The **relative sensitivity** can be introduced:"
   ]
  }
 ],
 "metadata": {
  "kernelspec": {
   "display_name": "Python 3",
   "language": "python",
   "name": "python3"
  },
  "language_info": {
   "codemirror_mode": {
    "name": "ipython",
    "version": 3
   },
   "file_extension": ".py",
   "mimetype": "text/x-python",
   "name": "python",
   "nbconvert_exporter": "python",
   "pygments_lexer": "ipython3",
   "version": "3.8.17"
  }
 },
 "nbformat": 4,
 "nbformat_minor": 5
}
