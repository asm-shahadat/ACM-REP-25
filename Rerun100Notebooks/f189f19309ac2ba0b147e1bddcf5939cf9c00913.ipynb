{
 "cells": [
  {
   "cell_type": "markdown",
   "metadata": {
    "colab_type": "text",
    "id": "view-in-github"
   },
   "source": [
    "<a href=\"https://colab.research.google.com/github/AlexMa123/BIU-Computational-Physics-2022/blob/main/Lecture1%20-%20Power%20law.ipynb\" target=\"_parent\"><img src=\"https://colab.research.google.com/assets/colab-badge.svg\" alt=\"Open In Colab\"/></a>"
   ]
  },
  {
   "cell_type": "markdown",
   "metadata": {
    "id": "hTlwCLuex6VA"
   },
   "source": [
    "# Power law"
   ]
  },
  {
   "cell_type": "markdown",
   "metadata": {
    "id": "RAeDliCkx6VC"
   },
   "source": [
    "## Review:\n"
   ]
  },
  {
   "cell_type": "markdown",
   "metadata": {
    "id": "HxmiquV2JeB1"
   },
   "source": [
    "### Power law distribution\n",
    "* Special kind of probability distribution\n",
    "$$P(x) = C x^{-\\alpha}\\quad \\text{for} \\quad x \\geqslant x_{min} > 0$$\n",
    "\n",
    "where C is a normalization constant makes $\\int_{x_{min}}^{\\infty} P(x) dx = 1$.\n",
    "\n",
    "With the help of `sympy` (symbolic python, similiar with symbolic toolbox in matlab), we can find out the value of C"
   ]
  },
  {
   "cell_type": "code",
   "execution_count": 2,
   "metadata": {
    "colab": {
     "base_uri": "https://localhost:8080/",
     "height": 38
    },
    "execution": {
     "iopub.execute_input": "2023-10-05T19:29:39.207663Z",
     "iopub.status.busy": "2023-10-05T19:29:39.207381Z",
     "iopub.status.idle": "2023-10-05T19:29:39.861627Z",
     "shell.execute_reply": "2023-10-05T19:29:39.860854Z"
    },
    "id": "iosYfKRbx6VD",
    "outputId": "24c070c6-8eda-413b-84e4-18b2052c9133",
    "type_information": "[{\"type\": \"<class 'sympy.core.mul.Mul'>\", \"name\": \"Mul\", \"module\": \"sympy.core.mul\", \"size\": 64}]"
   },
   "outputs": [
    {
     "data": {
      "text/latex": [
       "$\\displaystyle C x^{- \\alpha}$"
      ],
      "text/plain": [
       "C/x**alpha"
      ]
     },
     "execution_count": 2,
     "metadata": {},
     "output_type": "execute_result"
    }
   ],
   "source": [
    "import sympy\n",
    "x, C, alpha, xmin = sympy.symbols('x C alpha x_{min}', positive=True)\n",
    "P = C * x ** (-alpha)\n",
    "P"
   ]
  },
  {
   "cell_type": "code",
   "execution_count": 4,
   "metadata": {
    "colab": {
     "base_uri": "https://localhost:8080/",
     "height": 88
    },
    "execution": {
     "iopub.execute_input": "2023-10-05T19:29:39.924242Z",
     "iopub.status.busy": "2023-10-05T19:29:39.923323Z",
     "iopub.status.idle": "2023-10-05T19:29:40.225448Z",
     "shell.execute_reply": "2023-10-05T19:29:40.224718Z"
    },
    "id": "WF2-89mYx6VF",
    "outputId": "8882fefd-afe6-42b8-d943-d9fc653d71e1",
    "type_information": "[{\"type\": \"Piecewise\", \"name\": \"Piecewise\", \"module\": \"sympy.functions.elementary.piecewise\", \"size\": 72}]"
   },
   "outputs": [
    {
     "data": {
      "text/latex": [
       "$\\displaystyle \\begin{cases} \\frac{C x_{min} x_{min}^{- \\alpha}}{\\alpha - 1} & \\text{for}\\: \\alpha > 1 \\\\\\int\\limits_{x_{min}}^{\\infty} C x^{- \\alpha}\\, dx & \\text{otherwise} \\end{cases}$"
      ],
      "text/plain": [
       "Piecewise((C*x_{min}/(x_{min}**alpha*(alpha - 1)), alpha > 1), (Integral(C/x**alpha, (x, x_{min}, oo)), True))"
      ]
     },
     "execution_count": 4,
     "metadata": {},
     "output_type": "execute_result"
    }
   ],
   "source": [
    "integral_result = sympy.integrate(P, (x, xmin, sympy.oo)) # oo refers to infinity\n",
    "integral_result"
   ]
  },
  {
   "cell_type": "markdown",
   "metadata": {
    "id": "Gk_TznJDx6VF"
   },
   "source": [
    "the result shows when $\\alpha > 1$, the integral is $\\frac{C x_{min}^{1-\\alpha}}{\\alpha - 1}$, otherwise, this integral is diverge."
   ]
  },
  {
   "cell_type": "code",
   "execution_count": 6,
   "metadata": {
    "colab": {
     "base_uri": "https://localhost:8080/",
     "height": 56
    },
    "execution": {
     "iopub.execute_input": "2023-10-05T19:29:40.238184Z",
     "iopub.status.busy": "2023-10-05T19:29:40.237273Z",
     "iopub.status.idle": "2023-10-05T19:29:40.287173Z",
     "shell.execute_reply": "2023-10-05T19:29:40.286456Z"
    },
    "id": "1hCXGuSYx6VG",
    "outputId": "4a0eff39-f6ee-4711-8339-4f16027e7095",
    "type_information": "[{\"type\": \"<class 'sympy.core.mul.Mul'>\", \"name\": \"Mul\", \"module\": \"sympy.core.mul\", \"size\": 64}]"
   },
   "outputs": [
    {
     "data": {
      "text/latex": [
       "$\\displaystyle \\frac{C x_{min}^{1 - \\alpha}}{\\alpha - 1}$"
      ],
      "text/plain": [
       "C*x_{min}**(1 - alpha)/(alpha - 1)"
      ]
     },
     "execution_count": 6,
     "metadata": {},
     "output_type": "execute_result"
    }
   ],
   "source": [
    "integral_result = integral_result.args[0][0] # get the integral for alpha > 1\n",
    "sympy.simplify(integral_result)"
   ]
  },
  {
   "cell_type": "code",
   "execution_count": 8,
   "metadata": {
    "colab": {
     "base_uri": "https://localhost:8080/",
     "height": 38
    },
    "execution": {
     "iopub.execute_input": "2023-10-05T19:29:40.299431Z",
     "iopub.status.busy": "2023-10-05T19:29:40.298527Z",
     "iopub.status.idle": "2023-10-05T19:29:40.343669Z",
     "shell.execute_reply": "2023-10-05T19:29:40.342982Z"
    },
    "id": "mjAM-pm5x6VG",
    "outputId": "bf248e1b-17b1-46c9-9bff-6f24b65e48e1",
    "type_information": "[{\"type\": \"<class 'sympy.core.mul.Mul'>\", \"name\": \"Mul\", \"module\": \"sympy.core.mul\", \"size\": 64}]"
   },
   "outputs": [
    {
     "data": {
      "text/latex": [
       "$\\displaystyle x_{min}^{\\alpha - 1} \\left(\\alpha - 1\\right)$"
      ],
      "text/plain": [
       "x_{min}**(alpha - 1)*(alpha - 1)"
      ]
     },
     "execution_count": 8,
     "metadata": {},
     "output_type": "execute_result"
    }
   ],
   "source": [
    "solution = sympy.solve(integral_result - 1, C)[0] # solve the equation, integral_result - 1 = 0\n",
    "solution"
   ]
  },
  {
   "cell_type": "code",
   "execution_count": 10,
   "metadata": {
    "colab": {
     "base_uri": "https://localhost:8080/",
     "height": 38
    },
    "execution": {
     "iopub.execute_input": "2023-10-05T19:29:40.355869Z",
     "iopub.status.busy": "2023-10-05T19:29:40.354969Z",
     "iopub.status.idle": "2023-10-05T19:29:40.399655Z",
     "shell.execute_reply": "2023-10-05T19:29:40.398949Z"
    },
    "id": "sQp87xEnx6VH",
    "outputId": "dfec11eb-0333-4e79-c06e-d7ff1bf74bb0",
    "type_information": "[{\"type\": \"<class 'sympy.core.mul.Mul'>\", \"name\": \"Mul\", \"module\": \"sympy.core.mul\", \"size\": 64}]"
   },
   "outputs": [
    {
     "data": {
      "text/latex": [
       "$\\displaystyle x^{- \\alpha} x_{min}^{\\alpha - 1} \\left(\\alpha - 1\\right)$"
      ],
      "text/plain": [
       "x_{min}**(alpha - 1)*(alpha - 1)/x**alpha"
      ]
     },
     "execution_count": 10,
     "metadata": {},
     "output_type": "execute_result"
    }
   ],
   "source": [
    "P = P.subs(C, solution)\n",
    "P = sympy.simplify(P)\n",
    "P"
   ]
  },
  {
   "cell_type": "markdown",
   "metadata": {
    "id": "XKWR-TAbx6VH"
   },
   "source": [
    "Finally, we find out $C = (\\alpha-1)/x_{min}^{1-\\alpha}$"
   ]
  },
  {
   "cell_type": "markdown",
   "metadata": {
    "id": "ygdWjcY_x6VI"
   },
   "source": [
    "#### Moments\n",
    "\n",
    "The n-th moment of a distribution is : $\\left< x^k \\right> = \\int_{x_{min}}^{\\infty} x^k P(x) dx$"
   ]
  },
  {
   "cell_type": "code",
   "execution_count": 12,
   "metadata": {
    "colab": {
     "base_uri": "https://localhost:8080/",
     "height": 88
    },
    "execution": {
     "iopub.execute_input": "2023-10-05T19:29:40.412103Z",
     "iopub.status.busy": "2023-10-05T19:29:40.411173Z",
     "iopub.status.idle": "2023-10-05T19:29:40.729031Z",
     "shell.execute_reply": "2023-10-05T19:29:40.728291Z"
    },
    "id": "uVrdwX7Px6VI",
    "outputId": "79498587-2e54-4750-c9b3-da04bd9edeb8",
    "type_information": "[{\"type\": \"Piecewise\", \"name\": \"Piecewise\", \"module\": \"sympy.functions.elementary.piecewise\", \"size\": 72}]"
   },
   "outputs": [
    {
     "data": {
      "text/latex": [
       "$\\displaystyle \\begin{cases} \\frac{x_{min}^{k} \\left(1 - \\alpha\\right)}{- \\alpha + k + 1} & \\text{for}\\: \\alpha - k > 1 \\\\x_{min}^{\\alpha - 1} \\left(\\alpha - 1\\right) \\int\\limits_{x_{min}}^{\\infty} x^{- \\alpha + k}\\, dx & \\text{otherwise} \\end{cases}$"
      ],
      "text/plain": [
       "Piecewise((x_{min}**k*(1 - alpha)/(-alpha + k + 1), alpha - k > 1), (x_{min}**(alpha - 1)*(alpha - 1)*Integral(x**(-alpha + k), (x, x_{min}, oo)), True))"
      ]
     },
     "execution_count": 12,
     "metadata": {},
     "output_type": "execute_result"
    }
   ],
   "source": [
    "k = sympy.Symbol('k', positive=True)\n",
    "moments_k = sympy.integrate(P * x ** k, (x, xmin, sympy.oo))\n",
    "sympy.simplify(moments_k)"
   ]
  },
  {
   "cell_type": "markdown",
   "metadata": {
    "id": "Q4fk7URIx6VI"
   },
   "source": [
    "$$\\left< x^k \\right> = x^k_{min}\\frac{\\alpha-1}{\\alpha-k-1} \\quad \\text{for} \\quad \\alpha > 1 + k$$\n",
    "otherwise\n",
    "$$\\left< x^k \\right> \\quad \\text{diverge}$$"
   ]
  },
  {
   "cell_type": "markdown",
   "metadata": {
    "id": "WvTEAap5N7mN"
   },
   "source": [
    "diverge of $\\left< x \\right>$ break the law of large numbers.\n",
    "\n",
    "diverge of $\\left< x \\right>$ or $\\left< x^2 \\right>$ break the classical central limit theorem"
   ]
  },
  {
   "cell_type": "markdown",
   "metadata": {
    "id": "L8pdXpGfx6VJ"
   },
   "source": [
    "#### Visualize the powerlaw distribution\n",
    "It's convenient to visualize the powerlaw in log-log scale, as\n",
    "\n",
    "$$\\log{P(x)} = -\\alpha \\log{x} + \\log{C}$$\n",
    "Using log-log plot, powerlaw will become a straight  line with sloop equal to $-\\alpha$"
   ]
  },
  {
   "cell_type": "markdown",
   "metadata": {
    "id": "YZCZm2wix6VJ"
   },
   "source": [
    "#### From the formula"
   ]
  },
  {
   "cell_type": "code",
   "execution_count": 14,
   "metadata": {
    "execution": {
     "iopub.execute_input": "2023-10-05T19:29:40.742297Z",
     "iopub.status.busy": "2023-10-05T19:29:40.741372Z",
     "iopub.status.idle": "2023-10-05T19:29:41.631255Z",
     "shell.execute_reply": "2023-10-05T19:29:41.630288Z"
    },
    "id": "tBvGL6tRx6VJ"
   },
   "outputs": [],
   "source": [
    "import numpy as np\n",
    "import matplotlib.pyplot as plt\n",
    "\n",
    "def powerlaw(x, alpha, xmin=1):\n",
    "    assert x.min() >= xmin, f'the minimum x should larger than {xmin}'\n",
    "    C = xmin ** (alpha-1) * (alpha - 1)\n",
    "    return C * x** (- alpha)"
   ]
  },
  {
   "cell_type": "code",
   "execution_count": 15,
   "metadata": {
    "colab": {
     "base_uri": "https://localhost:8080/",
     "height": 286
    },
    "debugging_output": [
     {
      "name": "stdout",
      "output_type": "stream",
      "text": "Out[15][0]\nTraceback (most recent call last):\n  File \"/tmp/ipykernel_22/611034793.py\", line 5, in <module>\n    outputs.append(typehandlerforuniqueobjects(Out[15][i]))\nTypeError: 'Legend' object is not subscriptable\n\nOut[15][1]\nTraceback (most recent call last):\n  File \"/tmp/ipykernel_22/611034793.py\", line 5, in <module>\n    outputs.append(typehandlerforuniqueobjects(Out[15][i]))\nTypeError: 'Legend' object is not subscriptable\n\n"
     }
    ],
    "execution": {
     "iopub.execute_input": "2023-10-05T19:29:41.636593Z",
     "iopub.status.busy": "2023-10-05T19:29:41.635371Z",
     "iopub.status.idle": "2023-10-05T19:29:42.429164Z",
     "shell.execute_reply": "2023-10-05T19:29:42.428403Z"
    },
    "id": "3sy7iRDqx6VK",
    "outputId": "0afe052a-bdc0-4a0a-b070-5780619b8b50"
   },
   "outputs": [
    {
     "data": {
      "text/plain": [
       "<matplotlib.legend.Legend at 0x7fdc4441efa0>"
      ]
     },
     "execution_count": 15,
     "metadata": {},
     "output_type": "execute_result"
    },
    {
     "data": {
      "image/png": "[encoded data removed]",
      "text/plain": [
       "<Figure size 640x480 with 1 Axes>"
      ]
     },
     "metadata": {},
     "output_type": "display_data"
    }
   ],
   "source": [
    "xx = np.linspace(1, 10**4, 100)\n",
    "plt.plot(xx, powerlaw(xx, 1.5), label=r\"$\\alpha$=1.5\")\n",
    "plt.plot(xx, powerlaw(xx, 2.5), label=r\"$\\alpha$=2.5\")\n",
    "plt.xscale('log')\n",
    "plt.yscale('log')\n",
    "plt.legend()"
   ]
  },
  {
   "cell_type": "markdown",
   "metadata": {
    "id": "55ifjvDyx6VK"
   },
   "source": [
    "#### From random numbers\n",
    "\n",
    "In scipy.stats module, there is a class: [pareto](https://docs.scipy.org/doc/scipy/reference/generated/scipy.stats.pareto.html#scipy.stats.pareto) to generate Pareto continuous random variable.\n",
    "\n",
    "> Pareto Distribution: $$P(x, b) = \\frac{b}{x^{b+1}}$$ where $x \\geqslant 1$ and $b>0$"
   ]
  },
  {
   "cell_type": "code",
   "execution_count": 17,
   "metadata": {
    "execution": {
     "iopub.execute_input": "2023-10-05T19:29:42.444599Z",
     "iopub.status.busy": "2023-10-05T19:29:42.443657Z",
     "iopub.status.idle": "2023-10-05T19:29:42.784173Z",
     "shell.execute_reply": "2023-10-05T19:29:42.783344Z"
    },
    "id": "L8GhCCbNx6VL"
   },
   "outputs": [],
   "source": [
    "from scipy.stats import pareto\n",
    "b = 0.5 # equivalent to alpha = 1.5\n",
    "r = pareto.rvs(b, size=10000) # generate 10000 random numbers from pareto distribution"
   ]
  },
  {
   "cell_type": "markdown",
   "metadata": {
    "id": "ovpyBea3x6VL"
   },
   "source": [
    "Once we have the random numbers, we can compute the histogram of them by using [numpy.histogram](https://numpy.org/doc/stable/reference/generated/numpy.histogram.html)"
   ]
  },
  {
   "cell_type": "code",
   "execution_count": 18,
   "metadata": {
    "colab": {
     "base_uri": "https://localhost:8080/",
     "height": 285
    },
    "error": [
     {
      "ename": "KeyError",
      "evalue": "18",
      "output_type": "error",
      "traceback": [
       "\u001b[0;31m---------------------------------------------------------------------------\u001b[0m",
       "\u001b[0;31mKeyError\u001b[0m                                  Traceback (most recent call last)",
       "Cell \u001b[0;32mIn[19], line 1\u001b[0m\n\u001b[0;32m----> 1\u001b[0m json\u001b[38;5;241m.\u001b[39mdumps([typehandlerforuniqueobjects(\u001b[43mOut\u001b[49m\u001b[43m[\u001b[49m\u001b[38;5;241;43m18\u001b[39;49m\u001b[43m]\u001b[49m)])\n",
       "\u001b[0;31mKeyError\u001b[0m: 18"
      ]
     }
    ],
    "execution": {
     "iopub.execute_input": "2023-10-05T19:29:42.788511Z",
     "iopub.status.busy": "2023-10-05T19:29:42.787685Z",
     "iopub.status.idle": "2023-10-05T19:29:43.568363Z",
     "shell.execute_reply": "2023-10-05T19:29:43.567901Z"
    },
    "id": "YpzNo9iYx6VM",
    "outputId": "63a60e9d-9523-42e4-e78b-16fc53530959"
   },
   "outputs": [
    {
     "data": {
      "image/png": "[encoded data removed]",
      "text/plain": [
       "<Figure size 640x480 with 1 Axes>"
      ]
     },
     "metadata": {},
     "output_type": "display_data"
    }
   ],
   "source": [
    "hist, bin_edges = np.histogram(r, bins=100, range=(1, 10000), density=True) \n",
    "# with density=True the result is the value of the probability density function at the bin\n",
    "bin_center = (bin_edges[1:] + bin_edges[:-1]) / 2\n",
    "plt.plot(bin_center, hist, label='histogram')\n",
    "plt.plot(bin_center, powerlaw(bin_center, 1.5), label=\"power law function\")\n",
    "plt.title(\"histogram with linear bins\")\n",
    "plt.legend()\n",
    "plt.xscale('log')\n",
    "plt.yscale('log')"
   ]
  },
  {
   "cell_type": "markdown",
   "metadata": {
    "id": "x3LN4fsPx6VM"
   },
   "source": [
    "The distribution is noisy in the right-hand end of the distribution because of sampling errors. \n",
    "The power-law distribution dwindles in this region, meaning that each bin only has a few samples in it. So the fractional fluctuations in the bin counts are large and this appears as a noisy curve on the plot.\n",
    "One way to deal with this is to vary the width of the bins in the histogram. The most common choice is to create bins such that each is a fixed multiple wider the one before it. This is known as `logarithmic binning`."
   ]
  },
  {
   "cell_type": "code",
   "execution_count": 20,
   "metadata": {
    "colab": {
     "base_uri": "https://localhost:8080/"
    },
    "execution": {
     "iopub.execute_input": "2023-10-05T19:29:43.811546Z",
     "iopub.status.busy": "2023-10-05T19:29:43.811016Z",
     "iopub.status.idle": "2023-10-05T19:29:43.815349Z",
     "shell.execute_reply": "2023-10-05T19:29:43.814971Z"
    },
    "id": "Af3H0it5JREt",
    "outputId": "368fd254-b08f-4c3f-ea93-a4748b2bb044",
    "type_information": "[{\"type\": \"<class 'numpy.ndarray'>\", \"name\": \"ndarray\", \"module\": \"numpy\", \"size\": 192, \"shape\": \"(10,)\", \"dtype\": \"float64\"}]"
   },
   "outputs": [
    {
     "data": {
      "text/plain": [
       "array([0.        , 0.76752836, 1.53505673, 2.30258509, 3.07011346,\n",
       "       3.83764182, 4.60517019, 5.37269855, 6.14022691, 6.90775528])"
      ]
     },
     "execution_count": 20,
     "metadata": {},
     "output_type": "execute_result"
    }
   ],
   "source": [
    "b = np.logspace(0, 3, 10)\n",
    "np.log(b)"
   ]
  },
  {
   "cell_type": "code",
   "execution_count": 22,
   "metadata": {
    "colab": {
     "base_uri": "https://localhost:8080/",
     "height": 285
    },
    "error": [
     {
      "ename": "KeyError",
      "evalue": "22",
      "output_type": "error",
      "traceback": [
       "\u001b[0;31m---------------------------------------------------------------------------\u001b[0m",
       "\u001b[0;31mKeyError\u001b[0m                                  Traceback (most recent call last)",
       "Cell \u001b[0;32mIn[23], line 1\u001b[0m\n\u001b[0;32m----> 1\u001b[0m json\u001b[38;5;241m.\u001b[39mdumps([typehandlerforuniqueobjects(\u001b[43mOut\u001b[49m\u001b[43m[\u001b[49m\u001b[38;5;241;43m22\u001b[39;49m\u001b[43m]\u001b[49m)])\n",
       "\u001b[0;31mKeyError\u001b[0m: 22"
      ]
     }
    ],
    "execution": {
     "iopub.execute_input": "2023-10-05T19:29:43.824530Z",
     "iopub.status.busy": "2023-10-05T19:29:43.823944Z",
     "iopub.status.idle": "2023-10-05T19:29:44.469087Z",
     "shell.execute_reply": "2023-10-05T19:29:44.468637Z"
    },
    "id": "7Moec200x6VN",
    "outputId": "7ef021c7-2592-4efc-c2a2-8ee9526e66b1"
   },
   "outputs": [
    {
     "data": {
      "image/png": "[encoded data removed]",
      "text/plain": [
       "<Figure size 640x480 with 1 Axes>"
      ]
     },
     "metadata": {},
     "output_type": "display_data"
    }
   ],
   "source": [
    "hist, bin_edges = np.histogram(r, bins=np.logspace(0, 4, 100), density=True) \n",
    "# with density=True the result is the value of the probability density function at the bin\n",
    "bin_center = (bin_edges[1:] + bin_edges[:-1]) / 2\n",
    "plt.plot(bin_center, hist, label='histogram')\n",
    "plt.plot(bin_center, powerlaw(bin_center, 1.5), label=\"power law function\")\n",
    "plt.title(\"histogram with 'logarithmic binning'\")\n",
    "plt.legend()\n",
    "plt.xscale('log')\n",
    "plt.yscale('log')"
   ]
  },
  {
   "cell_type": "markdown",
   "metadata": {
    "id": "mE5a3NfJx6VN"
   },
   "source": [
    "### Fit a power law distribution"
   ]
  },
  {
   "cell_type": "markdown",
   "metadata": {
    "id": "f7BAt1RqJwi3"
   },
   "source": [
    "##### polynomial fit\n",
    "The simplest way to fit a histogram of power-law distribution is by using a straight line, in other words, fit the relation between log y and log x by a 1 order polynomial."
   ]
  },
  {
   "cell_type": "code",
   "execution_count": 24,
   "metadata": {
    "colab": {
     "base_uri": "https://localhost:8080/"
    },
    "execution": {
     "iopub.execute_input": "2023-10-05T19:29:44.490129Z",
     "iopub.status.busy": "2023-10-05T19:29:44.489467Z",
     "iopub.status.idle": "2023-10-05T19:29:44.493681Z",
     "shell.execute_reply": "2023-10-05T19:29:44.493301Z"
    },
    "id": "caLNbuASJREu",
    "outputId": "67d16076-a194-4fd4-baa4-3136dff5c1a2",
    "type_information": "[{\"type\": \"<class 'numpy.ndarray'>\", \"name\": \"ndarray\", \"module\": \"numpy\", \"size\": 112, \"shape\": \"(2,)\", \"dtype\": \"float64\"}]"
   },
   "outputs": [
    {
     "data": {
      "text/plain": [
       "array([-1.5323554 , -0.59059549])"
      ]
     },
     "execution_count": 24,
     "metadata": {},
     "output_type": "execute_result"
    }
   ],
   "source": [
    "p = np.polyfit(np.log(bin_center), np.log(hist), deg=1)\n",
    "p"
   ]
  },
  {
   "cell_type": "code",
   "execution_count": 26,
   "metadata": {
    "colab": {
     "base_uri": "https://localhost:8080/",
     "height": 282
    },
    "debugging_output": [
     {
      "name": "stdout",
      "output_type": "stream",
      "text": "Out[26][0]\nTraceback (most recent call last):\n  File \"/tmp/ipykernel_22/3355932103.py\", line 5, in <module>\n    outputs.append(typehandlerforuniqueobjects(Out[26][i]))\nTypeError: 'Legend' object is not subscriptable\n\nOut[26][1]\nTraceback (most recent call last):\n  File \"/tmp/ipykernel_22/3355932103.py\", line 5, in <module>\n    outputs.append(typehandlerforuniqueobjects(Out[26][i]))\nTypeError: 'Legend' object is not subscriptable\n\n"
     }
    ],
    "execution": {
     "iopub.execute_input": "2023-10-05T19:29:44.502773Z",
     "iopub.status.busy": "2023-10-05T19:29:44.502121Z",
     "iopub.status.idle": "2023-10-05T19:29:44.635883Z",
     "shell.execute_reply": "2023-10-05T19:29:44.635441Z"
    },
    "id": "1oRE8waXJREv",
    "outputId": "d2645392-aef3-4d76-df79-815679120c30"
   },
   "outputs": [
    {
     "data": {
      "text/plain": [
       "<matplotlib.legend.Legend at 0x7fdbea136af0>"
      ]
     },
     "execution_count": 26,
     "metadata": {},
     "output_type": "execute_result"
    },
    {
     "data": {
      "image/png": "[encoded data removed]",
      "text/plain": [
       "<Figure size 640x480 with 1 Axes>"
      ]
     },
     "metadata": {},
     "output_type": "display_data"
    }
   ],
   "source": [
    "plt.plot(np.log(bin_center), np.log(hist), label='histogram')\n",
    "plt.plot(np.log(bin_center), np.log(bin_center) * p[0] + p[1], label=\"fitting curve\")\n",
    "plt.legend()"
   ]
  },
  {
   "cell_type": "markdown",
   "metadata": {
    "id": "behmswDHJREv"
   },
   "source": [
    "##### Maximum likelihood Estimation (MLE)"
   ]
  },
  {
   "cell_type": "markdown",
   "metadata": {
    "id": "vvtzXovtJREv"
   },
   "source": [
    "The simplest way to fit a Pareto distribution by MLE is using pareto.fit() directly"
   ]
  },
  {
   "cell_type": "code",
   "execution_count": 28,
   "metadata": {
    "colab": {
     "base_uri": "https://localhost:8080/"
    },
    "debugging_output": [
     {
      "name": "stdout",
      "output_type": "stream",
      "text": "Out[28][0]\nTraceback (most recent call last):\n  File \"/tmp/ipykernel_22/4268619032.py\", line 5, in <module>\n    outputs.append(typehandlerforuniqueobjects(Out[28][i]))\nIndexError: invalid index to scalar variable.\n\nOut[28][1]\nTraceback (most recent call last):\n  File \"/tmp/ipykernel_22/4268619032.py\", line 5, in <module>\n    outputs.append(typehandlerforuniqueobjects(Out[28][i]))\nIndexError: invalid index to scalar variable.\n\n"
     }
    ],
    "execution": {
     "iopub.execute_input": "2023-10-05T19:29:44.645890Z",
     "iopub.status.busy": "2023-10-05T19:29:44.645255Z",
     "iopub.status.idle": "2023-10-05T19:29:44.649989Z",
     "shell.execute_reply": "2023-10-05T19:29:44.649028Z"
    },
    "id": "s-c_ng-bx6VO",
    "outputId": "4c4058b5-0dfc-4226-d99b-9a342f795cdc"
   },
   "outputs": [
    {
     "data": {
      "text/plain": [
       "0.4988473543836021"
      ]
     },
     "execution_count": 28,
     "metadata": {},
     "output_type": "execute_result"
    }
   ],
   "source": [
    "b, loc, scale = pareto.fit(r, floc=0, fscale=1)\n",
    "b"
   ]
  },
  {
   "cell_type": "markdown",
   "metadata": {
    "id": "yU-Eu6z3x6VO"
   },
   "source": [
    "In the module scipy.stats, this `fit` function uses Maximum Likelihood Estimation (MLE) as its default estimation method.\n",
    "\n",
    "[Maximum likelihood Estimation](https://en.wikipedia.org/wiki/Maximum_likelihood_estimation) is achieved by maximizing the conditional probability: $L(\\theta | y)$, where $\\theta$ is the parameter we want to estimate, and y is our observation values. This probability is called likelihood function. In other words, this method is going to find out the most likely $\\theta$ under the condition that we have the measurements ${y_1, y_2, y_3, ... y_n}$\n",
    "\n",
    "$$L(\\theta|y) = \\prod_n P(y_n; \\theta)$$\n",
    "\n",
    "To find out the maximum value, it's often convenient to work with the natural logarithm of the likelihood function, called log-likelihood:\n",
    "$$l(\\theta|y) = \\sum_n \\log{ P(y_n; \\theta)}$$\n",
    "Then solve the equation:\n",
    "$$\\frac{\\partial l}{\\partial \\theta}=0$$\n",
    "\n",
    "So for Power law distribution:\n",
    "$$P(x; b) = C x^{-\\alpha}$$\n",
    "where $C=(\\alpha-1)/x_{min}^{1-\\alpha}$"
   ]
  },
  {
   "cell_type": "code",
   "execution_count": 30,
   "metadata": {
    "colab": {
     "base_uri": "https://localhost:8080/",
     "height": 67
    },
    "execution": {
     "iopub.execute_input": "2023-10-05T19:29:44.663479Z",
     "iopub.status.busy": "2023-10-05T19:29:44.663155Z",
     "iopub.status.idle": "2023-10-05T19:29:44.683767Z",
     "shell.execute_reply": "2023-10-05T19:29:44.682766Z"
    },
    "id": "YjGSw6C0x6VO",
    "outputId": "87a68eb6-5883-4cb5-8505-764829786545",
    "type_information": "[{\"type\": \"<class 'sympy.concrete.summations.Sum'>\", \"name\": \"Sum\", \"module\": \"sympy.concrete.summations\", \"size\": 64}]"
   },
   "outputs": [
    {
     "data": {
      "text/latex": [
       "$\\displaystyle \\sum_{i=1}^{n} \\log{\\left(x_{min}^{\\alpha - 1} \\left(\\alpha - 1\\right) {y}_{i}^{- \\alpha} \\right)}$"
      ],
      "text/plain": [
       "Sum(log(x_{min}**(alpha - 1)*(alpha - 1)/y[i]**alpha), (i, 1, n))"
      ]
     },
     "execution_count": 30,
     "metadata": {},
     "output_type": "execute_result"
    }
   ],
   "source": [
    "y = sympy.IndexedBase('y', positive=True)\n",
    "i, n, b = sympy.symbols('i n b', positive=True)\n",
    "P = P.subs(x, y[i])\n",
    "log_L = sympy.Sum(sympy.log(P), (i, 1, n)) # l = sum of log(P(x))\n",
    "log_L"
   ]
  },
  {
   "cell_type": "code",
   "execution_count": 32,
   "metadata": {
    "colab": {
     "base_uri": "https://localhost:8080/",
     "height": 67
    },
    "execution": {
     "iopub.execute_input": "2023-10-05T19:29:44.696865Z",
     "iopub.status.busy": "2023-10-05T19:29:44.696571Z",
     "iopub.status.idle": "2023-10-05T19:29:44.739312Z",
     "shell.execute_reply": "2023-10-05T19:29:44.738552Z"
    },
    "id": "iXUnMhCCx6VP",
    "outputId": "a9fde7a0-501e-493b-9525-a420da397db6",
    "type_information": "[{\"type\": \"<class 'sympy.concrete.summations.Sum'>\", \"name\": \"Sum\", \"module\": \"sympy.concrete.summations\", \"size\": 64}]"
   },
   "outputs": [
    {
     "data": {
      "text/latex": [
       "$\\displaystyle \\sum_{i=1}^{n} \\frac{x_{min}^{1 - \\alpha} \\left(x_{min}^{\\alpha - 1} \\left(\\alpha - 1\\right) \\log{\\left(x_{min} \\right)} {y}_{i}^{- \\alpha} - x_{min}^{\\alpha - 1} \\left(\\alpha - 1\\right) \\log{\\left({y}_{i} \\right)} {y}_{i}^{- \\alpha} + x_{min}^{\\alpha - 1} {y}_{i}^{- \\alpha}\\right) {y}_{i}^{\\alpha}}{\\alpha - 1}$"
      ],
      "text/plain": [
       "Sum(x_{min}**(1 - alpha)*(x_{min}**(alpha - 1)*(alpha - 1)*log(x_{min})/y[i]**alpha - x_{min}**(alpha - 1)*(alpha - 1)*log(y[i])/y[i]**alpha + x_{min}**(alpha - 1)/y[i]**alpha)*y[i]**alpha/(alpha - 1), (i, 1, n))"
      ]
     },
     "execution_count": 32,
     "metadata": {},
     "output_type": "execute_result"
    }
   ],
   "source": [
    "dldb = log_L.diff(alpha)\n",
    "dldb"
   ]
  },
  {
   "cell_type": "code",
   "execution_count": 34,
   "metadata": {
    "colab": {
     "base_uri": "https://localhost:8080/",
     "height": 67
    },
    "execution": {
     "iopub.execute_input": "2023-10-05T19:29:44.756253Z",
     "iopub.status.busy": "2023-10-05T19:29:44.755513Z",
     "iopub.status.idle": "2023-10-05T19:29:45.142105Z",
     "shell.execute_reply": "2023-10-05T19:29:45.140916Z"
    },
    "id": "ZwoUKwBJx6VP",
    "outputId": "46b56bf5-60c8-4eaf-e297-4b9ec4ffe701",
    "type_information": "[{\"type\": \"<class 'sympy.core.add.Add'>\", \"name\": \"Add\", \"module\": \"sympy.core.add\", \"size\": 64}]"
   },
   "outputs": [
    {
     "data": {
      "text/latex": [
       "$\\displaystyle n \\left(\\alpha - 1\\right) \\log{\\left(x_{min} \\right)} + n + \\left(1 - \\alpha\\right) \\sum_{i=1}^{n} \\log{\\left({y}_{i} \\right)}$"
      ],
      "text/plain": [
       "n*(alpha - 1)*log(x_{min}) + n + (1 - alpha)*Sum(log(y[i]), (i, 1, n))"
      ]
     },
     "execution_count": 34,
     "metadata": {},
     "output_type": "execute_result"
    }
   ],
   "source": [
    "dldb = log_L.diff(alpha)\n",
    "dldb = sympy.simplify(dldb * (alpha-1))\n",
    "dldb"
   ]
  },
  {
   "cell_type": "markdown",
   "metadata": {
    "id": "JTbrnp-dx6VP"
   },
   "source": [
    "So:\n",
    "$$\\frac{\\partial l}{\\partial b}=0$$\n",
    "$$n(\\alpha-1)\\log{x_{min}}+n+(1-\\alpha)\\sum_i \\log{y_i} = 0$$"
   ]
  },
  {
   "cell_type": "code",
   "execution_count": 36,
   "metadata": {
    "colab": {
     "base_uri": "https://localhost:8080/",
     "height": 59
    },
    "execution": {
     "iopub.execute_input": "2023-10-05T19:29:45.156485Z",
     "iopub.status.busy": "2023-10-05T19:29:45.156195Z",
     "iopub.status.idle": "2023-10-05T19:29:45.295884Z",
     "shell.execute_reply": "2023-10-05T19:29:45.294719Z"
    },
    "id": "iF7XXWwMx6VQ",
    "outputId": "99963e44-6e4c-4899-e7b1-0c717c2a99d0",
    "type_information": "[{\"type\": \"<class 'sympy.core.mul.Mul'>\", \"name\": \"Mul\", \"module\": \"sympy.core.mul\", \"size\": 64}]"
   },
   "outputs": [
    {
     "data": {
      "text/latex": [
       "$\\displaystyle \\frac{n \\log{\\left(x_{min} \\right)} - n - \\sum_{i=1}^{n} \\log{\\left({y}_{i} \\right)}}{n \\log{\\left(x_{min} \\right)} - \\sum_{i=1}^{n} \\log{\\left({y}_{i} \\right)}}$"
      ],
      "text/plain": [
       "(n*log(x_{min}) - n - Sum(log(y[i]), (i, 1, n)))/(n*log(x_{min}) - Sum(log(y[i]), (i, 1, n)))"
      ]
     },
     "execution_count": 36,
     "metadata": {},
     "output_type": "execute_result"
    }
   ],
   "source": [
    "sympy.solve(dldb, alpha)[0]"
   ]
  },
  {
   "cell_type": "markdown",
   "metadata": {
    "id": "LXlDNVOqx6VQ"
   },
   "source": [
    "Finally we get:\n",
    "$$\\alpha = \\frac{n\\log{x_{min}-n-\\sum_i\\log{y_i}}}{n\\log{x_{min}-\\sum_i \\log{y_i}}} = 1 + \\frac{n}{\\sum_i\\log{y_i}-n\\log{x_{min}}}$$"
   ]
  },
  {
   "cell_type": "markdown",
   "metadata": {
    "id": "HIiZMVHgJREx"
   },
   "source": [
    "With maximum likelihood, we can get Akaike information criterion (AIC), which is an estimator of prediction error and thereby relative quality of statistical models for a given set of data."
   ]
  },
  {
   "cell_type": "markdown",
   "metadata": {
    "id": "Haqql8wvx6VQ"
   },
   "source": [
    "## Exercise 01\n",
    " ***1.\tSummarize what you have learned about power laws in 1-2 paragraphs in your coursebook “Power-Laws”.***"
   ]
  },
  {
   "cell_type": "code",
   "execution_count": null,
   "metadata": {
    "id": "MViR7EHdx6VY"
   },
   "outputs": [],
   "source": []
  },
  {
   "cell_type": "markdown",
   "metadata": {
    "id": "FE6ge8wpx6VY"
   },
   "source": [
    "***2.Reproduce all three figures on slide 8 using $\\alpha$=1.6,2.2 and 3.1.***\n",
    "> generate random numbers by using scipy.stats.pareto.rvs(b, size)\n",
    "\n",
    "> make a log-log plot\n",
    "\n",
    "> If first and/or second moments exist, draw the theoretical value as dashed line."
   ]
  },
  {
   "cell_type": "code",
   "execution_count": null,
   "metadata": {
    "error": [
     {
      "ename": "KeyError",
      "evalue": "39",
      "output_type": "error",
      "traceback": [
       "\u001b[0;31m---------------------------------------------------------------------------\u001b[0m",
       "\u001b[0;31mKeyError\u001b[0m                                  Traceback (most recent call last)",
       "Cell \u001b[0;32mIn[38], line 1\u001b[0m\n\u001b[0;32m----> 1\u001b[0m json\u001b[38;5;241m.\u001b[39mdumps([typehandlerforuniqueobjects(\u001b[43mOut\u001b[49m\u001b[43m[\u001b[49m\u001b[38;5;241;43m39\u001b[39;49m\u001b[43m]\u001b[49m)])\n",
       "\u001b[0;31mKeyError\u001b[0m: 39"
      ]
     }
    ],
    "id": "rB_m0apox6VY",
    "outputId": "2d7c69bd-286f-437d-884b-0d42e8cc0311"
   },
   "outputs": [],
   "source": []
  },
  {
   "cell_type": "markdown",
   "metadata": {
    "id": "VE8GkflYx6VZ"
   },
   "source": [
    "***3.Reproduce Zipf’s law by sample-space-reducing (SSR) processes; fit the historgram to determine the power-law exponent***\n",
    "\n",
    "**SSR processes**:\n",
    "\n",
    "The simple sample space reducing (SSR) process could be illustrated by a set of N fair dice with different number of faces. The first has one face, the second has two faces and so on to the N-th that has N faces. To start the process we take the dice with N faces and throw it, getting a result K. Then we throw the dice with K-1 faces getting a new result. Once we reach the dice with one face we restart the process by throwing the N-faced dice again.\n",
    "In an equivalent way, we can interpret the process considering a staircase with N steps: imagine a ball that randomly falls downstairs but never can climb to higher levels. The ball first hits any of the N steps with uniform probability, $P_N(i) = 1/N$, $i = 1...N$. Then it can only fall down to a lower level with uniform probability and so on until it reaches the bottom step. Once landed on the first step, it restart jumping randomly to any of the steps.\n",
    "\n",
    "![ssr](https://www.pnas.org/cms/10.1073/pnas.1420946112/asset/553f878a-2930-44c3-9a9c-3f482f79e636/assets/graphic/pnas.1420946112fig01.jpeg)\n",
    "\n",
    "and the occupation probability, i.e. how often a given site i is occupied on average should be:\n",
    "$$P(i) = \\frac{c}{i}$$\n",
    "\n",
    "**Fit the histogram**\n",
    "\n",
    "For checking whether your result obeys $P(i) = \\frac{c}{i}$ or not, please find the exponent by polynomial fit. (also think about why we can't use the MLE result for power law distribution in this case.)"
   ]
  },
  {
   "cell_type": "code",
   "execution_count": 39,
   "metadata": {
    "execution": {
     "iopub.execute_input": "2023-10-05T19:29:45.338536Z",
     "iopub.status.busy": "2023-10-05T19:29:45.338247Z",
     "iopub.status.idle": "2023-10-05T19:29:45.342531Z",
     "shell.execute_reply": "2023-10-05T19:29:45.341635Z"
    },
    "id": "_7ivA4mUx6VZ"
   },
   "outputs": [],
   "source": [
    "import numpy as np\n",
    "from random import randint\n",
    "# generate a random integer in range [1, N]: randint(1, N)"
   ]
  },
  {
   "cell_type": "code",
   "execution_count": 40,
   "metadata": {
    "execution": {
     "iopub.execute_input": "2023-10-05T19:29:45.345981Z",
     "iopub.status.busy": "2023-10-05T19:29:45.345696Z",
     "iopub.status.idle": "2023-10-05T19:29:45.352050Z",
     "shell.execute_reply": "2023-10-05T19:29:45.351072Z"
    },
    "id": "0pDzpNXynKyX"
   },
   "outputs": [],
   "source": [
    "?randint"
   ]
  },
  {
   "cell_type": "code",
   "execution_count": null,
   "metadata": {
    "id": "iqmpr_bfnTHK"
   },
   "outputs": [],
   "source": []
  }
 ],
 "metadata": {
  "colab": {
   "include_colab_link": true,
   "name": "Lecture1 - Power law.ipynb",
   "provenance": []
  },
  "kernelspec": {
   "display_name": "Python 3",
   "language": "python",
   "name": "python3"
  },
  "language_info": {
   "codemirror_mode": {
    "name": "ipython",
    "version": 3
   },
   "file_extension": ".py",
   "mimetype": "text/x-python",
   "name": "python",
   "nbconvert_exporter": "python",
   "pygments_lexer": "ipython3",
   "version": "3.8.17"
  }
 },
 "nbformat": 4,
 "nbformat_minor": 0
}
