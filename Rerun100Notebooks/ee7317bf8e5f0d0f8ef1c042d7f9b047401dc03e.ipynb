{
 "cells": [
  {
   "cell_type": "markdown",
   "metadata": {
    "collapsed": true
   },
   "source": [
    "# My Jupyter Notebook on IBM Watson Studio\n",
    "### Giancarlo Malugani desde Uruguay!!\n",
    "100% humano y real\n",
    "> --- I´m interested in Data Science because IT is my passion --- \n"
   ]
  },
  {
   "cell_type": "markdown",
   "metadata": {},
   "source": [
    "## The following code tests Gauss Formula - Probando la formula de Gauss"
   ]
  },
  {
   "cell_type": "code",
   "execution_count": 2,
   "metadata": {
    "execution": {
     "iopub.execute_input": "2023-10-05T19:15:37.285709Z",
     "iopub.status.busy": "2023-10-05T19:15:37.285415Z",
     "iopub.status.idle": "2023-10-05T19:15:37.295986Z",
     "shell.execute_reply": "2023-10-05T19:15:37.294909Z"
    },
    "type_information": "[{\"type\": \"<class 'bool'>\", \"name\": \"bool\", \"module\": \"builtins\", \"size\": 28}]"
   },
   "outputs": [
    {
     "data": {
      "text/plain": [
       "True"
      ]
     },
     "execution_count": 2,
     "metadata": {},
     "output_type": "execute_result"
    }
   ],
   "source": [
    "def gauss(n):\n",
    "    return (n*(n+1))/2\n",
    "\n",
    "gauss(100) == sum(range(101))"
   ]
  },
  {
   "cell_type": "markdown",
   "metadata": {},
   "source": [
    "- one\n",
    "- two\n",
    "- three\n",
    "- one\n",
    "- two\n",
    "- three"
   ]
  },
  {
   "cell_type": "markdown",
   "metadata": {},
   "source": [
    "| Markdown | Less | Pretty |\n",
    "| --- | --- | --- |\n",
    "| *Still* | renders | **nicely** |\n",
    "| 1 | 2 | 3 |"
   ]
  },
  {
   "cell_type": "markdown",
   "metadata": {},
   "source": [
    "__[www.ibm.com](https://www.ibm.com)__"
   ]
  },
  {
   "cell_type": "code",
   "execution_count": null,
   "metadata": {},
   "outputs": [],
   "source": []
  }
 ],
 "metadata": {
  "kernelspec": {
   "display_name": "Python 3.8",
   "language": "python",
   "name": "python3"
  },
  "language_info": {
   "codemirror_mode": {
    "name": "ipython",
    "version": 3
   },
   "file_extension": ".py",
   "mimetype": "text/x-python",
   "name": "python",
   "nbconvert_exporter": "python",
   "pygments_lexer": "ipython3",
   "version": "3.8.17"
  }
 },
 "nbformat": 4,
 "nbformat_minor": 1
}
