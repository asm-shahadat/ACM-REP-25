{
 "cells": [
  {
   "cell_type": "markdown",
   "metadata": {},
   "source": [
    "Loading Bibs"
   ]
  },
  {
   "cell_type": "code",
   "execution_count": 2,
   "metadata": {
    "execution": {
     "iopub.execute_input": "2023-10-05T10:25:49.196077Z",
     "iopub.status.busy": "2023-10-05T10:25:49.195770Z",
     "iopub.status.idle": "2023-10-05T10:25:50.489297Z",
     "shell.execute_reply": "2023-10-05T10:25:50.488120Z"
    }
   },
   "outputs": [],
   "source": [
    "import numpy as np\n",
    "from sklearn import datasets\n",
    "import pandas as pd\n",
    "from sklearn.ensemble import RandomForestRegressor\n",
    "from sklearn.model_selection import train_test_split\n",
    "from sklearn.linear_model import LinearRegression\n",
    "from sklearn import metrics\n",
    "import statsmodels.api as sm\n",
    "from sklearn.feature_selection import RFE\n",
    "from sklearn.model_selection import RandomizedSearchCV\n"
   ]
  },
  {
   "cell_type": "markdown",
   "metadata": {},
   "source": [
    "Loading Dataset"
   ]
  },
  {
   "cell_type": "code",
   "execution_count": 3,
   "metadata": {
    "execution": {
     "iopub.execute_input": "2023-10-05T10:25:50.493558Z",
     "iopub.status.busy": "2023-10-05T10:25:50.493209Z",
     "iopub.status.idle": "2023-10-05T10:25:50.507217Z",
     "shell.execute_reply": "2023-10-05T10:25:50.506278Z"
    }
   },
   "outputs": [],
   "source": [
    "X, Y = datasets.load_diabetes(return_X_y=True)\n",
    "full_database = pd.DataFrame(X,columns=['age','sex','bmi','bp','s1_tc','s2_ldl','s3_hdl','s4_tch','s5_ltg','s6_glu'])\n",
    "full_database['disease_progression'] = Y\n",
    "\n",
    "x = full_database.drop('disease_progression',axis=1)\n",
    "y = full_database['disease_progression']\n",
    "\n",
    "X_train,X_test,Y_train,Y_test = train_test_split(x,y,test_size=0.05,random_state=100)\n"
   ]
  },
  {
   "cell_type": "code",
   "execution_count": 4,
   "metadata": {
    "execution": {
     "iopub.execute_input": "2023-10-05T10:25:50.511089Z",
     "iopub.status.busy": "2023-10-05T10:25:50.510781Z",
     "iopub.status.idle": "2023-10-05T10:25:50.516559Z",
     "shell.execute_reply": "2023-10-05T10:25:50.515624Z"
    }
   },
   "outputs": [],
   "source": [
    "def score_model(model,X_test,Y_test):\n",
    "    Y_predict = model.predict(X_test)\n",
    "    R2_score = metrics.r2_score(Y_test,Y_predict)\n",
    "    print(\"R2_score:\",R2_score)\n",
    "    MSE = metrics.mean_squared_error(Y_test,Y_predict)\n",
    "    MSE_sqrt = np.sqrt(MSE)\n",
    "    print(\"MSE:\",MSE_sqrt)\n",
    "    return R2_score, MSE_sqrt\n",
    "\n",
    "def train_model(model,X_train,Y_train):\n",
    "    model.fit(X_train,Y_train)\n",
    "    return model"
   ]
  },
  {
   "cell_type": "markdown",
   "metadata": {},
   "source": [
    "LINEAR REGRESSION"
   ]
  },
  {
   "cell_type": "code",
   "execution_count": 5,
   "metadata": {
    "error": [
     {
      "ename": "KeyError",
      "evalue": "5",
      "output_type": "error",
      "traceback": [
       "\u001b[0;31m---------------------------------------------------------------------------\u001b[0m",
       "\u001b[0;31mKeyError\u001b[0m                                  Traceback (most recent call last)",
       "Cell \u001b[0;32mIn[6], line 1\u001b[0m\n\u001b[0;32m----> 1\u001b[0m json\u001b[38;5;241m.\u001b[39mdumps([typehandlerforuniqueobjects(\u001b[43mOut\u001b[49m\u001b[43m[\u001b[49m\u001b[38;5;241;43m5\u001b[39;49m\u001b[43m]\u001b[49m)])\n",
       "\u001b[0;31mKeyError\u001b[0m: 5"
      ]
     }
    ],
    "execution": {
     "iopub.execute_input": "2023-10-05T10:25:50.520085Z",
     "iopub.status.busy": "2023-10-05T10:25:50.519829Z",
     "iopub.status.idle": "2023-10-05T10:25:50.531721Z",
     "shell.execute_reply": "2023-10-05T10:25:50.530827Z"
    }
   },
   "outputs": [
    {
     "name": "stdout",
     "output_type": "stream",
     "text": [
      "R2_score: 0.6492086119720775\n",
      "MSE: 50.051544786457605\n"
     ]
    }
   ],
   "source": [
    "model_LR = LinearRegression()\n",
    "model_LR = train_model(model_LR,X_train,Y_train)\n",
    "R2_LR,MSE_LR = score_model(model_LR,X_test,Y_test)"
   ]
  },
  {
   "cell_type": "code",
   "execution_count": 7,
   "metadata": {
    "error": [
     {
      "ename": "KeyError",
      "evalue": "7",
      "output_type": "error",
      "traceback": [
       "\u001b[0;31m---------------------------------------------------------------------------\u001b[0m",
       "\u001b[0;31mKeyError\u001b[0m                                  Traceback (most recent call last)",
       "Cell \u001b[0;32mIn[8], line 1\u001b[0m\n\u001b[0;32m----> 1\u001b[0m json\u001b[38;5;241m.\u001b[39mdumps([typehandlerforuniqueobjects(\u001b[43mOut\u001b[49m\u001b[43m[\u001b[49m\u001b[38;5;241;43m7\u001b[39;49m\u001b[43m]\u001b[49m)])\n",
       "\u001b[0;31mKeyError\u001b[0m: 7"
      ]
     }
    ],
    "execution": {
     "iopub.execute_input": "2023-10-05T10:25:51.011313Z",
     "iopub.status.busy": "2023-10-05T10:25:51.011105Z",
     "iopub.status.idle": "2023-10-05T10:25:51.024523Z",
     "shell.execute_reply": "2023-10-05T10:25:51.023488Z"
    }
   },
   "outputs": [
    {
     "name": "stdout",
     "output_type": "stream",
     "text": [
      "[False  True  True  True  True  True False  True  True False]\n"
     ]
    }
   ],
   "source": [
    "select = RFE(estimator = LinearRegression(), n_features_to_select=7,step=1)\n",
    "select.fit(X_train,Y_train)\n",
    "X_train_transform = select.transform(X_train)\n",
    "X_test_transform = select.transform(X_test)\n",
    "\n",
    "print(select.support_)"
   ]
  },
  {
   "cell_type": "code",
   "execution_count": 9,
   "metadata": {
    "error": [
     {
      "ename": "KeyError",
      "evalue": "9",
      "output_type": "error",
      "traceback": [
       "\u001b[0;31m---------------------------------------------------------------------------\u001b[0m",
       "\u001b[0;31mKeyError\u001b[0m                                  Traceback (most recent call last)",
       "Cell \u001b[0;32mIn[10], line 1\u001b[0m\n\u001b[0;32m----> 1\u001b[0m json\u001b[38;5;241m.\u001b[39mdumps([typehandlerforuniqueobjects(\u001b[43mOut\u001b[49m\u001b[43m[\u001b[49m\u001b[38;5;241;43m9\u001b[39;49m\u001b[43m]\u001b[49m)])\n",
       "\u001b[0;31mKeyError\u001b[0m: 9"
      ]
     }
    ],
    "execution": {
     "iopub.execute_input": "2023-10-05T10:25:51.048321Z",
     "iopub.status.busy": "2023-10-05T10:25:51.048119Z",
     "iopub.status.idle": "2023-10-05T10:25:51.055590Z",
     "shell.execute_reply": "2023-10-05T10:25:51.054718Z"
    }
   },
   "outputs": [
    {
     "name": "stdout",
     "output_type": "stream",
     "text": [
      "R2_score: 0.6459888861108414\n",
      "MSE: 50.28071825460392\n"
     ]
    }
   ],
   "source": [
    "model_LR_2 = LinearRegression()\n",
    "model_LR_2 = train_model(model_LR_2,X_train_transform,Y_train)\n",
    "R2_LR_2,MSE_LR_2 = score_model(model_LR_2,X_test_transform,Y_test)"
   ]
  },
  {
   "cell_type": "markdown",
   "metadata": {},
   "source": [
    "Ordinary Least Squares (OLS)"
   ]
  },
  {
   "cell_type": "code",
   "execution_count": 11,
   "metadata": {
    "error": [
     {
      "ename": "KeyError",
      "evalue": "11",
      "output_type": "error",
      "traceback": [
       "\u001b[0;31m---------------------------------------------------------------------------\u001b[0m",
       "\u001b[0;31mKeyError\u001b[0m                                  Traceback (most recent call last)",
       "Cell \u001b[0;32mIn[12], line 1\u001b[0m\n\u001b[0;32m----> 1\u001b[0m json\u001b[38;5;241m.\u001b[39mdumps([typehandlerforuniqueobjects(\u001b[43mOut\u001b[49m\u001b[43m[\u001b[49m\u001b[38;5;241;43m11\u001b[39;49m\u001b[43m]\u001b[49m)])\n",
       "\u001b[0;31mKeyError\u001b[0m: 11"
      ]
     }
    ],
    "execution": {
     "iopub.execute_input": "2023-10-05T10:25:51.078752Z",
     "iopub.status.busy": "2023-10-05T10:25:51.078558Z",
     "iopub.status.idle": "2023-10-05T10:25:51.091568Z",
     "shell.execute_reply": "2023-10-05T10:25:51.090681Z"
    }
   },
   "outputs": [
    {
     "name": "stdout",
     "output_type": "stream",
     "text": [
      "R2_score: 0.6492086119720772\n",
      "MSE: 50.05154478645762\n"
     ]
    }
   ],
   "source": [
    "X_train_plus_constant = sm.add_constant(X_train)\n",
    "X_test_plus_constant = sm.add_constant(X_test)\n",
    "model_OLS = sm.OLS(Y_train,X_train_plus_constant,hasconst=True).fit()\n",
    "\n",
    "R2_OLS, MSE_OLS = score_model(model_OLS,X_test_plus_constant,Y_test)\n",
    "# Y_pred = model_OLS.predict(X_train_plus_constant)"
   ]
  },
  {
   "cell_type": "code",
   "execution_count": 13,
   "metadata": {
    "error": [
     {
      "ename": "KeyError",
      "evalue": "13",
      "output_type": "error",
      "traceback": [
       "\u001b[0;31m---------------------------------------------------------------------------\u001b[0m",
       "\u001b[0;31mKeyError\u001b[0m                                  Traceback (most recent call last)",
       "Cell \u001b[0;32mIn[14], line 1\u001b[0m\n\u001b[0;32m----> 1\u001b[0m json\u001b[38;5;241m.\u001b[39mdumps([typehandlerforuniqueobjects(\u001b[43mOut\u001b[49m\u001b[43m[\u001b[49m\u001b[38;5;241;43m13\u001b[39;49m\u001b[43m]\u001b[49m)])\n",
       "\u001b[0;31mKeyError\u001b[0m: 13"
      ]
     }
    ],
    "execution": {
     "iopub.execute_input": "2023-10-05T10:25:51.114383Z",
     "iopub.status.busy": "2023-10-05T10:25:51.114189Z",
     "iopub.status.idle": "2023-10-05T10:25:51.121316Z",
     "shell.execute_reply": "2023-10-05T10:25:51.120450Z"
    }
   },
   "outputs": [
    {
     "name": "stdout",
     "output_type": "stream",
     "text": [
      "R2_score: 0.6459888861108662\n",
      "MSE: 50.28071825460214\n"
     ]
    }
   ],
   "source": [
    "X_train_plus_constant = sm.add_constant(X_train_transform)\n",
    "X_test_plus_constant = sm.add_constant(X_test_transform)\n",
    "model_OLS_2 = sm.OLS(Y_train,X_train_plus_constant,hasconst=True).fit()\n",
    "\n",
    "R2_OLS_2, MSE_OLS_2 = score_model(model_OLS_2,X_test_plus_constant,Y_test)\n",
    "# Y_pred = model_OLS.predict(X_train_plus_constant)"
   ]
  },
  {
   "cell_type": "markdown",
   "metadata": {},
   "source": [
    "Random Forest Regressor"
   ]
  },
  {
   "cell_type": "code",
   "execution_count": 15,
   "metadata": {
    "error": [
     {
      "ename": "KeyError",
      "evalue": "15",
      "output_type": "error",
      "traceback": [
       "\u001b[0;31m---------------------------------------------------------------------------\u001b[0m",
       "\u001b[0;31mKeyError\u001b[0m                                  Traceback (most recent call last)",
       "Cell \u001b[0;32mIn[16], line 1\u001b[0m\n\u001b[0;32m----> 1\u001b[0m json\u001b[38;5;241m.\u001b[39mdumps([typehandlerforuniqueobjects(\u001b[43mOut\u001b[49m\u001b[43m[\u001b[49m\u001b[38;5;241;43m15\u001b[39;49m\u001b[43m]\u001b[49m)])\n",
       "\u001b[0;31mKeyError\u001b[0m: 15"
      ]
     }
    ],
    "execution": {
     "iopub.execute_input": "2023-10-05T10:25:51.143953Z",
     "iopub.status.busy": "2023-10-05T10:25:51.143745Z",
     "iopub.status.idle": "2023-10-05T10:25:51.430743Z",
     "shell.execute_reply": "2023-10-05T10:25:51.429696Z"
    }
   },
   "outputs": [
    {
     "name": "stdout",
     "output_type": "stream",
     "text": [
      "R2_score: 0.5363200063316871\n",
      "MSE: 57.54428570580492\n"
     ]
    }
   ],
   "source": [
    "model_forest = RandomForestRegressor(random_state=100)\n",
    "model_forest = train_model(model_forest,X_train,Y_train)\n",
    "R2_forest,MSE_forest = score_model(model_forest,X_test,Y_test)"
   ]
  },
  {
   "cell_type": "code",
   "execution_count": 17,
   "metadata": {
    "execution": {
     "iopub.execute_input": "2023-10-05T10:25:51.454170Z",
     "iopub.status.busy": "2023-10-05T10:25:51.453997Z",
     "iopub.status.idle": "2023-10-05T10:26:11.338078Z",
     "shell.execute_reply": "2023-10-05T10:26:11.336873Z"
    }
   },
   "outputs": [
    {
     "name": "stderr",
     "output_type": "stream",
     "text": [
      "/opt/conda/envs/testenv/lib/python3.8/site-packages/sklearn/model_selection/_validation.py:425: FitFailedWarning: \n",
      "145 fits failed out of a total of 500.\n",
      "The score on these train-test partitions for these parameters will be set to nan.\n",
      "If these failures are not expected, you can try to debug them by setting error_score='raise'.\n",
      "\n",
      "Below are more details about the failures:\n",
      "--------------------------------------------------------------------------------\n",
      "137 fits failed with the following error:\n",
      "Traceback (most recent call last):\n",
      "  File \"/opt/conda/envs/testenv/lib/python3.8/site-packages/sklearn/model_selection/_validation.py\", line 729, in _fit_and_score\n",
      "    estimator.fit(X_train, y_train, **fit_params)\n",
      "  File \"/opt/conda/envs/testenv/lib/python3.8/site-packages/sklearn/base.py\", line 1145, in wrapper\n",
      "    estimator._validate_params()\n",
      "  File \"/opt/conda/envs/testenv/lib/python3.8/site-packages/sklearn/base.py\", line 638, in _validate_params\n",
      "    validate_parameter_constraints(\n",
      "  File \"/opt/conda/envs/testenv/lib/python3.8/site-packages/sklearn/utils/_param_validation.py\", line 95, in validate_parameter_constraints\n",
      "    raise InvalidParameterError(\n",
      "sklearn.utils._param_validation.InvalidParameterError: The 'max_features' parameter of RandomForestRegressor must be an int in the range [1, inf), a float in the range (0.0, 1.0], a str among {'log2', 'sqrt'} or None. Got 'auto' instead.\n",
      "\n",
      "--------------------------------------------------------------------------------\n",
      "8 fits failed with the following error:\n",
      "Traceback (most recent call last):\n",
      "  File \"/opt/conda/envs/testenv/lib/python3.8/site-packages/sklearn/model_selection/_validation.py\", line 729, in _fit_and_score\n",
      "    estimator.fit(X_train, y_train, **fit_params)\n",
      "  File \"/opt/conda/envs/testenv/lib/python3.8/site-packages/sklearn/base.py\", line 1145, in wrapper\n",
      "    estimator._validate_params()\n",
      "  File \"/opt/conda/envs/testenv/lib/python3.8/site-packages/sklearn/base.py\", line 638, in _validate_params\n",
      "    validate_parameter_constraints(\n",
      "  File \"/opt/conda/envs/testenv/lib/python3.8/site-packages/sklearn/utils/_param_validation.py\", line 95, in validate_parameter_constraints\n",
      "    raise InvalidParameterError(\n",
      "sklearn.utils._param_validation.InvalidParameterError: The 'max_features' parameter of RandomForestRegressor must be an int in the range [1, inf), a float in the range (0.0, 1.0], a str among {'sqrt', 'log2'} or None. Got 'auto' instead.\n",
      "\n",
      "  warnings.warn(some_fits_failed_message, FitFailedWarning)\n",
      "/opt/conda/envs/testenv/lib/python3.8/site-packages/sklearn/model_selection/_search.py:979: UserWarning: One or more of the test scores are non-finite: [         nan -59.0328378           nan -57.48001996 -57.73085563\n",
      " -59.99956442 -58.00156484 -57.93567443          nan -57.75454011\n",
      " -57.22440053          nan          nan -57.27437089 -57.82289883\n",
      "          nan          nan -57.00951987 -59.52829458          nan\n",
      " -58.26847909 -56.89759775          nan -57.6634498  -56.91509342\n",
      " -56.84844212 -56.75235931 -56.89320099 -58.36047223          nan\n",
      " -57.44815808 -58.20223506          nan          nan -59.45089299\n",
      " -58.0350246  -58.00797195 -56.7242654           nan          nan\n",
      " -57.62954844 -57.13111283 -58.48557088 -57.04454129 -57.80947958\n",
      " -56.98818299 -57.06795503 -59.2426393           nan -58.6965351\n",
      " -57.3091094           nan          nan -57.47740363 -57.28854876\n",
      " -58.55200684          nan -56.97217758          nan -57.90164861\n",
      " -57.37463325 -57.30409303 -60.38178992 -57.70579173          nan\n",
      " -56.96299912 -59.17303676 -56.97915372 -58.23122297 -57.39305366\n",
      "          nan          nan -57.02771784          nan -57.50082711\n",
      " -57.72163293          nan -58.16531804 -56.89759775          nan\n",
      " -56.97431008 -57.91221422 -58.75292201 -58.56716566 -57.80664612\n",
      "          nan -59.60079855 -58.45335596 -56.93853259 -57.64567011\n",
      " -59.42290312 -57.13883866          nan -57.66704106 -57.03183152\n",
      " -57.98537401 -57.20884552          nan          nan -57.02472549]\n",
      "  warnings.warn(\n"
     ]
    }
   ],
   "source": [
    "n_estimators = np.arange(20, 500, step=10)\n",
    "criterion = [\"squared_error\", \"absolute_error\", \"poisson\"]\n",
    "max_features = [\"auto\", \"sqrt\", \"log2\"]\n",
    "max_depth = list(np.arange(2, 10, step=1))\n",
    "min_samples_split = np.arange(2, 10, step=2)\n",
    "min_samples_leaf = [1, 2, 4]\n",
    "bootstrap = [True,False]\n",
    "\n",
    "param_grid = {\n",
    "    \"n_estimators\": n_estimators,\n",
    "    \"criterion\": criterion,\n",
    "    \"max_features\": max_features,\n",
    "    \"max_depth\": max_depth,\n",
    "    \"min_samples_split\": min_samples_split,\n",
    "    \"min_samples_leaf\": min_samples_leaf,\n",
    "    \"bootstrap\": bootstrap,\n",
    "}\n",
    "\n",
    "model_forest = RandomForestRegressor(random_state=100)\n",
    "random_cv = RandomizedSearchCV(model_forest, param_grid, n_iter=100, cv=5,scoring=\"neg_root_mean_squared_error\", n_jobs=-1, random_state = 100)\n",
    "rcv = random_cv.fit(X_train, Y_train)"
   ]
  },
  {
   "cell_type": "code",
   "execution_count": 18,
   "metadata": {
    "execution": {
     "iopub.execute_input": "2023-10-05T10:26:11.341158Z",
     "iopub.status.busy": "2023-10-05T10:26:11.340955Z",
     "iopub.status.idle": "2023-10-05T10:26:11.348971Z",
     "shell.execute_reply": "2023-10-05T10:26:11.348163Z"
    },
    "type_information": "[{\"type\": \"<class 'dict'>\", \"name\": \"dict\", \"module\": \"builtins\", \"size\": 360, \"data\": {\"n_estimators\": {\"type\": \"<class 'numpy.int64'>\", \"name\": \"int64\", \"module\": \"numpy\", \"size\": 32}, \"min_samples_split\": {\"type\": \"<class 'numpy.int64'>\", \"name\": \"int64\", \"module\": \"numpy\", \"size\": 32}, \"min_samples_leaf\": {\"type\": \"<class 'int'>\", \"name\": \"int\", \"module\": \"builtins\", \"size\": 28}, \"max_features\": {\"type\": \"<class 'str'>\", \"name\": \"str\", \"module\": \"builtins\", \"size\": 53}, \"max_depth\": {\"type\": \"<class 'numpy.int64'>\", \"name\": \"int64\", \"module\": \"numpy\", \"size\": 32}, \"criterion\": {\"type\": \"<class 'str'>\", \"name\": \"str\", \"module\": \"builtins\", \"size\": 56}, \"bootstrap\": {\"type\": \"<class 'bool'>\", \"name\": \"bool\", \"module\": \"builtins\", \"size\": 28}}}]"
   },
   "outputs": [
    {
     "data": {
      "text/plain": [
       "{'n_estimators': 160,\n",
       " 'min_samples_split': 8,\n",
       " 'min_samples_leaf': 1,\n",
       " 'max_features': 'sqrt',\n",
       " 'max_depth': 6,\n",
       " 'criterion': 'poisson',\n",
       " 'bootstrap': True}"
      ]
     },
     "execution_count": 18,
     "metadata": {},
     "output_type": "execute_result"
    }
   ],
   "source": [
    "rcv.best_params_"
   ]
  },
  {
   "cell_type": "code",
   "execution_count": 20,
   "metadata": {
    "error": [
     {
      "ename": "KeyError",
      "evalue": "20",
      "output_type": "error",
      "traceback": [
       "\u001b[0;31m---------------------------------------------------------------------------\u001b[0m",
       "\u001b[0;31mKeyError\u001b[0m                                  Traceback (most recent call last)",
       "Cell \u001b[0;32mIn[21], line 1\u001b[0m\n\u001b[0;32m----> 1\u001b[0m json\u001b[38;5;241m.\u001b[39mdumps([typehandlerforuniqueobjects(\u001b[43mOut\u001b[49m\u001b[43m[\u001b[49m\u001b[38;5;241;43m20\u001b[39;49m\u001b[43m]\u001b[49m)])\n",
       "\u001b[0;31mKeyError\u001b[0m: 20"
      ]
     }
    ],
    "execution": {
     "iopub.execute_input": "2023-10-05T10:26:11.358354Z",
     "iopub.status.busy": "2023-10-05T10:26:11.358182Z",
     "iopub.status.idle": "2023-10-05T10:26:11.551964Z",
     "shell.execute_reply": "2023-10-05T10:26:11.550794Z"
    }
   },
   "outputs": [
    {
     "name": "stdout",
     "output_type": "stream",
     "text": [
      "R2_score: 0.5471973193948223\n",
      "MSE: 56.86532416799156\n"
     ]
    }
   ],
   "source": [
    "rfn = RandomForestRegressor(**rcv.best_params_, random_state = 100)\n",
    "model_forest = train_model(rfn,X_train,Y_train)\n",
    "R2_forest,MSE_forest = score_model(model_forest,X_test,Y_test)"
   ]
  },
  {
   "cell_type": "code",
   "execution_count": 22,
   "metadata": {
    "error": [
     {
      "ename": "KeyError",
      "evalue": "22",
      "output_type": "error",
      "traceback": [
       "\u001b[0;31m---------------------------------------------------------------------------\u001b[0m",
       "\u001b[0;31mKeyError\u001b[0m                                  Traceback (most recent call last)",
       "Cell \u001b[0;32mIn[23], line 1\u001b[0m\n\u001b[0;32m----> 1\u001b[0m json\u001b[38;5;241m.\u001b[39mdumps([typehandlerforuniqueobjects(\u001b[43mOut\u001b[49m\u001b[43m[\u001b[49m\u001b[38;5;241;43m22\u001b[39;49m\u001b[43m]\u001b[49m)])\n",
       "\u001b[0;31mKeyError\u001b[0m: 22"
      ]
     }
    ],
    "execution": {
     "iopub.execute_input": "2023-10-05T10:26:11.574928Z",
     "iopub.status.busy": "2023-10-05T10:26:11.574750Z",
     "iopub.status.idle": "2023-10-05T10:26:11.582980Z",
     "shell.execute_reply": "2023-10-05T10:26:11.582030Z"
    }
   },
   "outputs": [
    {
     "name": "stdout",
     "output_type": "stream",
     "text": [
      "                     Model        R2        MSE\n",
      "0        Linear Regression  0.649209  50.051545\n",
      "1      Linear Regression 2  0.645989  50.280718\n",
      "2                      OLS  0.649209  50.051545\n",
      "3                    OLS_2  0.645989  50.280718\n",
      "4  Random Forest Regressor  0.547197  56.865324\n"
     ]
    }
   ],
   "source": [
    "data = [['Linear Regression',R2_LR,MSE_LR],['Linear Regression 2',R2_LR_2,MSE_LR_2],['OLS',R2_OLS, MSE_OLS],['OLS_2',R2_OLS_2, MSE_OLS_2],['Random Forest Regressor',R2_forest,MSE_forest]]\n",
    "\n",
    "print(pd.DataFrame(data,columns=['Model','R2','MSE']))"
   ]
  }
 ],
 "metadata": {
  "interpreter": {
   "hash": "051f523ea69bc1770ecd2306c10409abac68aa2062faba780e671356775dd235"
  },
  "kernelspec": {
   "display_name": "Python 3.8.8 ('base')",
   "language": "python",
   "name": "python3"
  },
  "language_info": {
   "codemirror_mode": {
    "name": "ipython",
    "version": 3
   },
   "file_extension": ".py",
   "mimetype": "text/x-python",
   "name": "python",
   "nbconvert_exporter": "python",
   "pygments_lexer": "ipython3",
   "version": "3.8.17"
  }
 },
 "nbformat": 4,
 "nbformat_minor": 2
}
