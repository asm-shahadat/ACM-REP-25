{
 "cells": [
  {
   "cell_type": "markdown",
   "metadata": {},
   "source": [
    "The result should be a new, longer sequence of the type provided by the parameters. Thus, the result of mysum('abc', 'def') will be the string abcdef, and the result of mysum([1,2,3], [4,5,6]) will be the six-element list [1,2,3,4,5,6]. Of course, it should also still return the integer 6 if we invoke mysum(1,2,3)"
   ]
  },
  {
   "cell_type": "code",
   "execution_count": 2,
   "metadata": {
    "execution": {
     "iopub.execute_input": "2023-10-05T10:00:07.353611Z",
     "iopub.status.busy": "2023-10-05T10:00:07.353308Z",
     "iopub.status.idle": "2023-10-05T10:00:07.359128Z",
     "shell.execute_reply": "2023-10-05T10:00:07.357960Z"
    }
   },
   "outputs": [],
   "source": [
    "def mysum(*args):\n",
    "    if not args:\n",
    "        return 0\n",
    "    else:\n",
    "        output = args[0]\n",
    "        for arg in args[1:]:\n",
    "            output = output + arg\n",
    "    return output\n",
    "    "
   ]
  },
  {
   "cell_type": "code",
   "execution_count": 3,
   "metadata": {
    "execution": {
     "iopub.execute_input": "2023-10-05T10:00:07.362574Z",
     "iopub.status.busy": "2023-10-05T10:00:07.362290Z",
     "iopub.status.idle": "2023-10-05T10:00:07.371740Z",
     "shell.execute_reply": "2023-10-05T10:00:07.370867Z"
    },
    "type_information": "[{\"type\": \"<class 'list'>\", \"name\": \"list\", \"module\": \"builtins\", \"size\": 88, \"data\": [{\"type\": \"<class 'int'>\", \"name\": \"int\", \"module\": \"builtins\", \"size\": 28}, {\"type\": \"<class 'int'>\", \"name\": \"int\", \"module\": \"builtins\", \"size\": 28}, {\"type\": \"<class 'int'>\", \"name\": \"int\", \"module\": \"builtins\", \"size\": 28}, {\"type\": \"<class 'int'>\", \"name\": \"int\", \"module\": \"builtins\", \"size\": 28}]}]"
   },
   "outputs": [
    {
     "data": {
      "text/plain": [
       "[1, 2, 3, 3]"
      ]
     },
     "execution_count": 3,
     "metadata": {},
     "output_type": "execute_result"
    }
   ],
   "source": [
    "mysum([1,2,3], [3])"
   ]
  },
  {
   "cell_type": "markdown",
   "metadata": {},
   "source": [
    "Write a function, mysum_bigger_than, that works the same as mysum, except that it takes a first argument that precedes *args. That argument indicates the threshold for including an argument in the sum. Thus, calling mysum_bigger _than(10, 5, 20, 30, 6) would return 50—because 5 and 6 aren’t greater than 10. This function should similarly work with any type and assumes that all of the\n",
    "arguments are of the same type. Note that > and < work on many different types in Python, not just on numbers; with strings, lists, and tuples, it refers to their sort order."
   ]
  },
  {
   "cell_type": "code",
   "execution_count": 5,
   "metadata": {
    "execution": {
     "iopub.execute_input": "2023-10-05T10:00:07.433673Z",
     "iopub.status.busy": "2023-10-05T10:00:07.433377Z",
     "iopub.status.idle": "2023-10-05T10:00:07.438288Z",
     "shell.execute_reply": "2023-10-05T10:00:07.437403Z"
    }
   },
   "outputs": [],
   "source": [
    "def mysum_bigger_than(limit, *args):\n",
    "    output = limit\n",
    "    for arg in args:\n",
    "        if arg >= limit:\n",
    "            output = output + arg\n",
    "    return output"
   ]
  },
  {
   "cell_type": "code",
   "execution_count": 6,
   "metadata": {
    "execution": {
     "iopub.execute_input": "2023-10-05T10:00:07.441414Z",
     "iopub.status.busy": "2023-10-05T10:00:07.441132Z",
     "iopub.status.idle": "2023-10-05T10:00:07.446983Z",
     "shell.execute_reply": "2023-10-05T10:00:07.446107Z"
    },
    "type_information": "[{\"type\": \"<class 'str'>\", \"name\": \"str\", \"module\": \"builtins\", \"size\": 52}]"
   },
   "outputs": [
    {
     "data": {
      "text/plain": [
       "'cde'"
      ]
     },
     "execution_count": 6,
     "metadata": {},
     "output_type": "execute_result"
    }
   ],
   "source": [
    "mysum_bigger_than(\"c\", \"a\", \"d\", \"e\") "
   ]
  }
 ],
 "metadata": {
  "kernelspec": {
   "display_name": "Python 3",
   "language": "python",
   "name": "python3"
  },
  "language_info": {
   "codemirror_mode": {
    "name": "ipython",
    "version": 3
   },
   "file_extension": ".py",
   "mimetype": "text/x-python",
   "name": "python",
   "nbconvert_exporter": "python",
   "pygments_lexer": "ipython3",
   "version": "3.8.17"
  }
 },
 "nbformat": 4,
 "nbformat_minor": 4
}
