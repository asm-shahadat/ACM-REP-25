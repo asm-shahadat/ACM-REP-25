{
 "cells": [
  {
   "cell_type": "markdown",
   "metadata": {},
   "source": [
    "# Housing Market"
   ]
  },
  {
   "cell_type": "markdown",
   "metadata": {},
   "source": [
    "### Introduction:\n",
    "\n",
    "This time we will create our own dataset with fictional numbers to describe a house market. As we are going to create random data don't try to reason of the numbers.\n",
    "\n",
    "### Step 1. Import the necessary libraries"
   ]
  },
  {
   "cell_type": "code",
   "execution_count": 2,
   "metadata": {
    "ExecuteTime": {
     "end_time": "2022-08-05T14:49:18.641712Z",
     "start_time": "2022-08-05T14:49:17.841749Z"
    },
    "execution": {
     "iopub.execute_input": "2023-10-05T16:35:51.299154Z",
     "iopub.status.busy": "2023-10-05T16:35:51.298846Z",
     "iopub.status.idle": "2023-10-05T16:35:51.847777Z",
     "shell.execute_reply": "2023-10-05T16:35:51.846513Z"
    }
   },
   "outputs": [],
   "source": [
    "import pandas as pd\n",
    "import numpy as np\n",
    "import random"
   ]
  },
  {
   "cell_type": "markdown",
   "metadata": {},
   "source": [
    "### Step 2. Create 3 differents Series, each of length 100, as follows: \n",
    "1. The first a random number from 1 to 4 \n",
    "2. The second a random number from 1 to 3\n",
    "3. The third a random number from 10,000 to 30,000"
   ]
  },
  {
   "cell_type": "code",
   "execution_count": 3,
   "metadata": {
    "ExecuteTime": {
     "end_time": "2022-08-05T14:49:19.598309Z",
     "start_time": "2022-08-05T14:49:19.574309Z"
    },
    "execution": {
     "iopub.execute_input": "2023-10-05T16:35:51.852323Z",
     "iopub.status.busy": "2023-10-05T16:35:51.851909Z",
     "iopub.status.idle": "2023-10-05T16:35:51.858235Z",
     "shell.execute_reply": "2023-10-05T16:35:51.857093Z"
    }
   },
   "outputs": [],
   "source": [
    "a = pd.Series(np.random.randint(1,5,100))\n",
    "b = pd.Series(np.random.randint(1,4,100))\n",
    "c = pd.Series(np.random.randint(10000,30000,100))"
   ]
  },
  {
   "cell_type": "markdown",
   "metadata": {},
   "source": [
    "### Step 3. Let's create a DataFrame by joinning the Series by column"
   ]
  },
  {
   "cell_type": "code",
   "execution_count": 4,
   "metadata": {
    "ExecuteTime": {
     "end_time": "2022-08-05T14:49:19.678308Z",
     "start_time": "2022-08-05T14:49:19.638312Z"
    },
    "execution": {
     "iopub.execute_input": "2023-10-05T16:35:51.862135Z",
     "iopub.status.busy": "2023-10-05T16:35:51.861846Z",
     "iopub.status.idle": "2023-10-05T16:35:51.877498Z",
     "shell.execute_reply": "2023-10-05T16:35:51.876376Z"
    },
    "type_information": "[{\"type\": \"<class 'pandas.core.frame.DataFrame'>\", \"name\": \"DataFrame\", \"module\": \"pandas.core.frame\", \"size\": 264, \"shape\": \"(5, 3)\", \"dtype\": \"0    int64\\n1    int64\\n2    int64\\ndtype: object\"}]"
   },
   "outputs": [
    {
     "data": {
      "text/html": [
       "<div>\n",
       "<style scoped>\n",
       "    .dataframe tbody tr th:only-of-type {\n",
       "        vertical-align: middle;\n",
       "    }\n",
       "\n",
       "    .dataframe tbody tr th {\n",
       "        vertical-align: top;\n",
       "    }\n",
       "\n",
       "    .dataframe thead th {\n",
       "        text-align: right;\n",
       "    }\n",
       "</style>\n",
       "<table border=\"1\" class=\"dataframe\">\n",
       "  <thead>\n",
       "    <tr style=\"text-align: right;\">\n",
       "      <th></th>\n",
       "      <th>0</th>\n",
       "      <th>1</th>\n",
       "      <th>2</th>\n",
       "    </tr>\n",
       "  </thead>\n",
       "  <tbody>\n",
       "    <tr>\n",
       "      <th>0</th>\n",
       "      <td>3</td>\n",
       "      <td>1</td>\n",
       "      <td>15268</td>\n",
       "    </tr>\n",
       "    <tr>\n",
       "      <th>1</th>\n",
       "      <td>1</td>\n",
       "      <td>1</td>\n",
       "      <td>18137</td>\n",
       "    </tr>\n",
       "    <tr>\n",
       "      <th>2</th>\n",
       "      <td>2</td>\n",
       "      <td>1</td>\n",
       "      <td>20744</td>\n",
       "    </tr>\n",
       "    <tr>\n",
       "      <th>3</th>\n",
       "      <td>4</td>\n",
       "      <td>2</td>\n",
       "      <td>25203</td>\n",
       "    </tr>\n",
       "    <tr>\n",
       "      <th>4</th>\n",
       "      <td>2</td>\n",
       "      <td>2</td>\n",
       "      <td>21124</td>\n",
       "    </tr>\n",
       "  </tbody>\n",
       "</table>\n",
       "</div>"
      ],
      "text/plain": [
       "   0  1      2\n",
       "0  3  1  15268\n",
       "1  1  1  18137\n",
       "2  2  1  20744\n",
       "3  4  2  25203\n",
       "4  2  2  21124"
      ]
     },
     "execution_count": 4,
     "metadata": {},
     "output_type": "execute_result"
    }
   ],
   "source": [
    "con = pd.concat([a,b,c], axis=1)\n",
    "con.head()"
   ]
  },
  {
   "cell_type": "markdown",
   "metadata": {},
   "source": [
    "### Step 4. Change the name of the columns to bedrs, bathrs, price_sqr_meter"
   ]
  },
  {
   "cell_type": "code",
   "execution_count": 6,
   "metadata": {
    "ExecuteTime": {
     "end_time": "2022-08-05T14:49:19.726309Z",
     "start_time": "2022-08-05T14:49:19.710314Z"
    },
    "execution": {
     "iopub.execute_input": "2023-10-05T16:35:51.943414Z",
     "iopub.status.busy": "2023-10-05T16:35:51.943126Z",
     "iopub.status.idle": "2023-10-05T16:35:51.952693Z",
     "shell.execute_reply": "2023-10-05T16:35:51.951728Z"
    },
    "type_information": "[{\"type\": \"<class 'pandas.core.frame.DataFrame'>\", \"name\": \"DataFrame\", \"module\": \"pandas.core.frame\", \"size\": 264, \"shape\": \"(5, 3)\", \"dtype\": \"bedrs              int64\\nbathrs             int64\\nprice_sqr_meter    int64\\ndtype: object\"}]"
   },
   "outputs": [
    {
     "data": {
      "text/html": [
       "<div>\n",
       "<style scoped>\n",
       "    .dataframe tbody tr th:only-of-type {\n",
       "        vertical-align: middle;\n",
       "    }\n",
       "\n",
       "    .dataframe tbody tr th {\n",
       "        vertical-align: top;\n",
       "    }\n",
       "\n",
       "    .dataframe thead th {\n",
       "        text-align: right;\n",
       "    }\n",
       "</style>\n",
       "<table border=\"1\" class=\"dataframe\">\n",
       "  <thead>\n",
       "    <tr style=\"text-align: right;\">\n",
       "      <th></th>\n",
       "      <th>bedrs</th>\n",
       "      <th>bathrs</th>\n",
       "      <th>price_sqr_meter</th>\n",
       "    </tr>\n",
       "  </thead>\n",
       "  <tbody>\n",
       "    <tr>\n",
       "      <th>0</th>\n",
       "      <td>3</td>\n",
       "      <td>1</td>\n",
       "      <td>15268</td>\n",
       "    </tr>\n",
       "    <tr>\n",
       "      <th>1</th>\n",
       "      <td>1</td>\n",
       "      <td>1</td>\n",
       "      <td>18137</td>\n",
       "    </tr>\n",
       "    <tr>\n",
       "      <th>2</th>\n",
       "      <td>2</td>\n",
       "      <td>1</td>\n",
       "      <td>20744</td>\n",
       "    </tr>\n",
       "    <tr>\n",
       "      <th>3</th>\n",
       "      <td>4</td>\n",
       "      <td>2</td>\n",
       "      <td>25203</td>\n",
       "    </tr>\n",
       "    <tr>\n",
       "      <th>4</th>\n",
       "      <td>2</td>\n",
       "      <td>2</td>\n",
       "      <td>21124</td>\n",
       "    </tr>\n",
       "  </tbody>\n",
       "</table>\n",
       "</div>"
      ],
      "text/plain": [
       "   bedrs  bathrs  price_sqr_meter\n",
       "0      3       1            15268\n",
       "1      1       1            18137\n",
       "2      2       1            20744\n",
       "3      4       2            25203\n",
       "4      2       2            21124"
      ]
     },
     "execution_count": 6,
     "metadata": {},
     "output_type": "execute_result"
    }
   ],
   "source": [
    "con.columns=['bedrs','bathrs','price_sqr_meter']\n",
    "con.head()"
   ]
  },
  {
   "cell_type": "markdown",
   "metadata": {},
   "source": [
    "### Step 5. Create a one column DataFrame with the values of the 3 Series and assign it to 'bigcolumn'"
   ]
  },
  {
   "cell_type": "code",
   "execution_count": 8,
   "metadata": {
    "ExecuteTime": {
     "end_time": "2022-08-05T14:49:19.806312Z",
     "start_time": "2022-08-05T14:49:19.774309Z"
    },
    "execution": {
     "iopub.execute_input": "2023-10-05T16:35:51.967001Z",
     "iopub.status.busy": "2023-10-05T16:35:51.966705Z",
     "iopub.status.idle": "2023-10-05T16:35:51.974742Z",
     "shell.execute_reply": "2023-10-05T16:35:51.973784Z"
    },
    "type_information": "[{\"type\": \"<class 'pandas.core.series.Series'>\", \"name\": \"Series\", \"module\": \"pandas.core.series\", \"size\": 4816}]"
   },
   "outputs": [
    {
     "data": {
      "text/plain": [
       "0         3\n",
       "1         1\n",
       "2         2\n",
       "3         4\n",
       "4         2\n",
       "      ...  \n",
       "95    14658\n",
       "96    21689\n",
       "97    11434\n",
       "98    12452\n",
       "99    13129\n",
       "Length: 300, dtype: int64"
      ]
     },
     "execution_count": 8,
     "metadata": {},
     "output_type": "execute_result"
    }
   ],
   "source": [
    "bigcolumn = pd.concat([a,b,c], axis=0)\n",
    "bigcolumn\n"
   ]
  },
  {
   "cell_type": "markdown",
   "metadata": {},
   "source": [
    "### Step 6. Oops, it seems it is going only until index 99. Is it true?"
   ]
  },
  {
   "cell_type": "code",
   "execution_count": 10,
   "metadata": {
    "ExecuteTime": {
     "end_time": "2022-08-05T14:49:19.854346Z",
     "start_time": "2022-08-05T14:49:19.838310Z"
    },
    "execution": {
     "iopub.execute_input": "2023-10-05T16:35:51.988043Z",
     "iopub.status.busy": "2023-10-05T16:35:51.987741Z",
     "iopub.status.idle": "2023-10-05T16:35:51.993627Z",
     "shell.execute_reply": "2023-10-05T16:35:51.992660Z"
    },
    "type_information": "[{\"type\": \"<class 'int'>\", \"name\": \"int\", \"module\": \"builtins\", \"size\": 28}]"
   },
   "outputs": [
    {
     "data": {
      "text/plain": [
       "300"
      ]
     },
     "execution_count": 10,
     "metadata": {},
     "output_type": "execute_result"
    }
   ],
   "source": [
    "len(bigcolumn)"
   ]
  },
  {
   "cell_type": "markdown",
   "metadata": {},
   "source": [
    "### Step 7. Reindex the DataFrame so it goes from 0 to 299"
   ]
  },
  {
   "cell_type": "code",
   "execution_count": 12,
   "metadata": {
    "ExecuteTime": {
     "end_time": "2022-08-05T14:49:21.208591Z",
     "start_time": "2022-08-05T14:49:21.192592Z"
    },
    "execution": {
     "iopub.execute_input": "2023-10-05T16:35:52.006629Z",
     "iopub.status.busy": "2023-10-05T16:35:52.006340Z",
     "iopub.status.idle": "2023-10-05T16:35:52.013647Z",
     "shell.execute_reply": "2023-10-05T16:35:52.012698Z"
    },
    "type_information": "[{\"type\": \"<class 'pandas.core.series.Series'>\", \"name\": \"Series\", \"module\": \"pandas.core.series\", \"size\": 2544}]"
   },
   "outputs": [
    {
     "data": {
      "text/plain": [
       "0          3\n",
       "1          1\n",
       "2          2\n",
       "3          4\n",
       "4          2\n",
       "       ...  \n",
       "295    14658\n",
       "296    21689\n",
       "297    11434\n",
       "298    12452\n",
       "299    13129\n",
       "Length: 300, dtype: int64"
      ]
     },
     "execution_count": 12,
     "metadata": {},
     "output_type": "execute_result"
    }
   ],
   "source": [
    "bigcolumn.reset_index(drop=True,inplace=True)\n",
    "bigcolumn"
   ]
  },
  {
   "cell_type": "code",
   "execution_count": null,
   "metadata": {},
   "outputs": [],
   "source": []
  }
 ],
 "metadata": {
  "kernelspec": {
   "display_name": "Python 3 (ipykernel)",
   "language": "python",
   "name": "python3"
  },
  "language_info": {
   "codemirror_mode": {
    "name": "ipython",
    "version": 3
   },
   "file_extension": ".py",
   "mimetype": "text/x-python",
   "name": "python",
   "nbconvert_exporter": "python",
   "pygments_lexer": "ipython3",
   "version": "3.9.18"
  }
 },
 "nbformat": 4,
 "nbformat_minor": 1
}
