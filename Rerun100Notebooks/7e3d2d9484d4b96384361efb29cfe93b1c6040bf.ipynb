{
 "cells": [
  {
   "cell_type": "markdown",
   "metadata": {},
   "source": [
    "# **Data Type**"
   ]
  },
  {
   "cell_type": "markdown",
   "metadata": {},
   "source": [
    "- In programming, data type is an important concept.\n",
    "- Variables can store data of different types, and different types can do different things."
   ]
  },
  {
   "cell_type": "code",
   "execution_count": 2,
   "metadata": {
    "error": [
     {
      "ename": "KeyError",
      "evalue": "2",
      "output_type": "error",
      "traceback": [
       "\u001b[0;31m---------------------------------------------------------------------------\u001b[0m",
       "\u001b[0;31mKeyError\u001b[0m                                  Traceback (most recent call last)",
       "Cell \u001b[0;32mIn[3], line 1\u001b[0m\n\u001b[0;32m----> 1\u001b[0m json\u001b[38;5;241m.\u001b[39mdumps([typehandlerforuniqueobjects(\u001b[43mOut\u001b[49m\u001b[43m[\u001b[49m\u001b[38;5;241;43m2\u001b[39;49m\u001b[43m]\u001b[49m)])\n",
       "\u001b[0;31mKeyError\u001b[0m: 2"
      ]
     }
    ],
    "execution": {
     "iopub.execute_input": "2023-10-05T09:37:02.364964Z",
     "iopub.status.busy": "2023-10-05T09:37:02.364672Z",
     "iopub.status.idle": "2023-10-05T09:37:02.373656Z",
     "shell.execute_reply": "2023-10-05T09:37:02.372557Z"
    }
   },
   "outputs": [
    {
     "name": "stdout",
     "output_type": "stream",
     "text": [
      "10 <class 'int'>\n",
      "10.0 <class 'float'>\n",
      "(10+10j) <class 'complex'>\n",
      "True <class 'bool'>\n",
      "Hello <class 'str'>\n",
      "[1, 2, 3, 4, 5] <class 'list'>\n",
      "(1, 2, 3, 4, 5) <class 'tuple'>\n",
      "{1, 2, 3, 4, 5} <class 'set'>\n",
      "{'a': 1, 'b': 2, 'c': 3, 'd': 4, 'e': 5} <class 'dict'>\n",
      "None <class 'NoneType'>\n"
     ]
    }
   ],
   "source": [
    "# int\n",
    "a=10\n",
    "print(a,type(a))\n",
    "# float\n",
    "b=10.0\n",
    "print(b,type(b))\n",
    "# complex\n",
    "c=10+10j\n",
    "print(c,type(c))\n",
    "# bool\n",
    "d=True\n",
    "print(d,type(d))\n",
    "# str\n",
    "e='Hello'\n",
    "print(e,type(e))\n",
    "# list\n",
    "f=[1,2,3,4,5]\n",
    "print(f,type(f))\n",
    "# tuple\n",
    "g=(1,2,3,4,5)\n",
    "print(g,type(g))\n",
    "# set\n",
    "h={1,2,3,4,5}\n",
    "print(h,type(h))\n",
    "# dict\n",
    "i={'a':1,'b':2,'c':3,'d':4,'e':5}\n",
    "print(i,type(i))\n",
    "# None\n",
    "j=None\n",
    "print(j,type(j))\n"
   ]
  },
  {
   "cell_type": "code",
   "execution_count": null,
   "metadata": {},
   "outputs": [],
   "source": []
  }
 ],
 "metadata": {
  "kernelspec": {
   "display_name": "Python 3.10.4 64-bit",
   "language": "python",
   "name": "python3"
  },
  "language_info": {
   "codemirror_mode": {
    "name": "ipython",
    "version": 3
   },
   "file_extension": ".py",
   "mimetype": "text/x-python",
   "name": "python",
   "nbconvert_exporter": "python",
   "pygments_lexer": "ipython3",
   "version": "3.10.12"
  },
  "vscode": {
   "interpreter": {
    "hash": "369f2c481f4da34e4445cda3fffd2e751bd1c4d706f27375911949ba6bb62e1c"
   }
  }
 },
 "nbformat": 4,
 "nbformat_minor": 2
}
