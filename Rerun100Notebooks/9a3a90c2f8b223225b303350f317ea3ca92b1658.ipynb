{
 "cells": [
  {
   "cell_type": "markdown",
   "id": "03006aac",
   "metadata": {},
   "source": [
    "# Using isalpha() + len()\n",
    "\n"
   ]
  },
  {
   "cell_type": "code",
   "execution_count": 2,
   "id": "6e50747d",
   "metadata": {
    "error": [
     {
      "ename": "KeyError",
      "evalue": "2",
      "output_type": "error",
      "traceback": [
       "\u001b[0;31m---------------------------------------------------------------------------\u001b[0m",
       "\u001b[0;31mKeyError\u001b[0m                                  Traceback (most recent call last)",
       "Cell \u001b[0;32mIn[3], line 1\u001b[0m\n\u001b[0;32m----> 1\u001b[0m json\u001b[38;5;241m.\u001b[39mdumps([typehandlerforuniqueobjects(\u001b[43mOut\u001b[49m\u001b[43m[\u001b[49m\u001b[38;5;241;43m2\u001b[39;49m\u001b[43m]\u001b[49m)])\n",
       "\u001b[0;31mKeyError\u001b[0m: 2"
      ]
     }
    ],
    "execution": {
     "iopub.execute_input": "2023-10-05T11:57:07.354743Z",
     "iopub.status.busy": "2023-10-05T11:57:07.354455Z",
     "iopub.status.idle": "2023-10-05T11:57:07.361161Z",
     "shell.execute_reply": "2023-10-05T11:57:07.360061Z"
    }
   },
   "outputs": [
    {
     "name": "stdout",
     "output_type": "stream",
     "text": [
      "The original string is :  My name is Tanish Gupta\n",
      "Count of Alphabets :  19\n"
     ]
    }
   ],
   "source": [
    "test_str=\"My name is Tanish Gupta\"\n",
    "\n",
    "print(\"The original string is : \",  str(test_str))\n",
    "res = len([ele for ele in test_str if ele.isalpha()])\n",
    "\n",
    "# printing result\n",
    "print(\"Count of Alphabets : \",  str(res))"
   ]
  },
  {
   "cell_type": "markdown",
   "id": "dcdc130b",
   "metadata": {},
   "source": [
    "# ascii_uppercase() + ascii_lowercase() + len()"
   ]
  },
  {
   "cell_type": "code",
   "execution_count": 4,
   "id": "7054d6da",
   "metadata": {
    "error": [
     {
      "ename": "KeyError",
      "evalue": "4",
      "output_type": "error",
      "traceback": [
       "\u001b[0;31m---------------------------------------------------------------------------\u001b[0m",
       "\u001b[0;31mKeyError\u001b[0m                                  Traceback (most recent call last)",
       "Cell \u001b[0;32mIn[5], line 1\u001b[0m\n\u001b[0;32m----> 1\u001b[0m json\u001b[38;5;241m.\u001b[39mdumps([typehandlerforuniqueobjects(\u001b[43mOut\u001b[49m\u001b[43m[\u001b[49m\u001b[38;5;241;43m4\u001b[39;49m\u001b[43m]\u001b[49m)])\n",
       "\u001b[0;31mKeyError\u001b[0m: 4"
      ]
     }
    ],
    "execution": {
     "iopub.execute_input": "2023-10-05T11:57:07.673065Z",
     "iopub.status.busy": "2023-10-05T11:57:07.672765Z",
     "iopub.status.idle": "2023-10-05T11:57:07.679361Z",
     "shell.execute_reply": "2023-10-05T11:57:07.678273Z"
    }
   },
   "outputs": [
    {
     "name": "stdout",
     "output_type": "stream",
     "text": [
      "The original string is :  My name is Tanish Gupta\n",
      "Count of Alphabets :  19\n"
     ]
    }
   ],
   "source": [
    "import string\n",
    "\n",
    "test_str=\"My name is Tanish Gupta\"\n",
    "print(\"The original string is : \",  str(test_str))\n",
    "\n",
    "res=len([ele for ele in test_str if ele in string.ascii_uppercase or ele in string.ascii_lowercase])\n",
    "# printing result\n",
    "print(\"Count of Alphabets : \" , str(res))"
   ]
  },
  {
   "cell_type": "markdown",
   "id": "324b37ae",
   "metadata": {},
   "source": [
    "# Using join() + list"
   ]
  },
  {
   "cell_type": "code",
   "execution_count": 6,
   "id": "9ff74747",
   "metadata": {
    "error": [
     {
      "ename": "KeyError",
      "evalue": "6",
      "output_type": "error",
      "traceback": [
       "\u001b[0;31m---------------------------------------------------------------------------\u001b[0m",
       "\u001b[0;31mKeyError\u001b[0m                                  Traceback (most recent call last)",
       "Cell \u001b[0;32mIn[7], line 1\u001b[0m\n\u001b[0;32m----> 1\u001b[0m json\u001b[38;5;241m.\u001b[39mdumps([typehandlerforuniqueobjects(\u001b[43mOut\u001b[49m\u001b[43m[\u001b[49m\u001b[38;5;241;43m6\u001b[39;49m\u001b[43m]\u001b[49m)])\n",
       "\u001b[0;31mKeyError\u001b[0m: 6"
      ]
     }
    ],
    "execution": {
     "iopub.execute_input": "2023-10-05T11:57:07.709211Z",
     "iopub.status.busy": "2023-10-05T11:57:07.708920Z",
     "iopub.status.idle": "2023-10-05T11:57:07.715404Z",
     "shell.execute_reply": "2023-10-05T11:57:07.714404Z"
    }
   },
   "outputs": [
    {
     "name": "stdout",
     "output_type": "stream",
     "text": [
      "The original list is : ['My', 'Name', 'is', 'Tanish', 'Gupta']\n",
      "Range characters :  Gupta\n"
     ]
    }
   ],
   "source": [
    "test_list = [\"My\",\"Name\",\"is\",\"Tanish\",\"Gupta\"]\n",
    "\n",
    "print(\"The original list is :\", str(test_list))\n",
    "\n",
    "strt, end = 14, 30\n",
    "\n",
    "res = \"\".join([sub for sub in test_list])[strt : end]\n",
    "\n",
    "print(\"Range characters : \", str(res))"
   ]
  },
  {
   "cell_type": "markdown",
   "id": "304cfc30",
   "metadata": {},
   "source": [
    "# isalnum()"
   ]
  },
  {
   "cell_type": "code",
   "execution_count": 8,
   "id": "92ef2118",
   "metadata": {
    "error": [
     {
      "ename": "KeyError",
      "evalue": "8",
      "output_type": "error",
      "traceback": [
       "\u001b[0;31m---------------------------------------------------------------------------\u001b[0m",
       "\u001b[0;31mKeyError\u001b[0m                                  Traceback (most recent call last)",
       "Cell \u001b[0;32mIn[9], line 1\u001b[0m\n\u001b[0;32m----> 1\u001b[0m json\u001b[38;5;241m.\u001b[39mdumps([typehandlerforuniqueobjects(\u001b[43mOut\u001b[49m\u001b[43m[\u001b[49m\u001b[38;5;241;43m8\u001b[39;49m\u001b[43m]\u001b[49m)])\n",
       "\u001b[0;31mKeyError\u001b[0m: 8"
      ]
     }
    ],
    "execution": {
     "iopub.execute_input": "2023-10-05T11:57:07.744049Z",
     "iopub.status.busy": "2023-10-05T11:57:07.743741Z",
     "iopub.status.idle": "2023-10-05T11:57:07.750319Z",
     "shell.execute_reply": "2023-10-05T11:57:07.749378Z"
    }
   },
   "outputs": [
    {
     "name": "stdout",
     "output_type": "stream",
     "text": [
      "abc 123 is alphanumeric False\n",
      "abc_123 is alphanumeric False\n",
      "000 is alphanumeric True\n",
      "aaa is alphanumeric True\n"
     ]
    }
   ],
   "source": [
    "string = \"abc 123\"\n",
    "print(string, \"is alphanumeric\" , string.isalnum())\n",
    "string = \"abc_123\"\n",
    "print(string, \"is alphanumeric\" , string.isalnum())\n",
    "\n",
    "string = \"000\"\n",
    "print(string, \"is alphanumeric\" , string.isalnum())\n",
    "\n",
    "string = \"aaa\"\n",
    "print(string, \"is alphanumeric\" , string.isalnum())"
   ]
  },
  {
   "cell_type": "markdown",
   "id": "60729db5",
   "metadata": {},
   "source": [
    "# isalnum() in if else statement"
   ]
  },
  {
   "cell_type": "code",
   "execution_count": 10,
   "id": "11aa70bb",
   "metadata": {
    "error": [
     {
      "ename": "KeyError",
      "evalue": "10",
      "output_type": "error",
      "traceback": [
       "\u001b[0;31m---------------------------------------------------------------------------\u001b[0m",
       "\u001b[0;31mKeyError\u001b[0m                                  Traceback (most recent call last)",
       "Cell \u001b[0;32mIn[11], line 1\u001b[0m\n\u001b[0;32m----> 1\u001b[0m json\u001b[38;5;241m.\u001b[39mdumps([typehandlerforuniqueobjects(\u001b[43mOut\u001b[49m\u001b[43m[\u001b[49m\u001b[38;5;241;43m10\u001b[39;49m\u001b[43m]\u001b[49m)])\n",
       "\u001b[0;31mKeyError\u001b[0m: 10"
      ]
     }
    ],
    "execution": {
     "iopub.execute_input": "2023-10-05T11:57:07.778773Z",
     "iopub.status.busy": "2023-10-05T11:57:07.778488Z",
     "iopub.status.idle": "2023-10-05T11:57:07.783952Z",
     "shell.execute_reply": "2023-10-05T11:57:07.783016Z"
    }
   },
   "outputs": [
    {
     "name": "stdout",
     "output_type": "stream",
     "text": [
      "Password is alphanumeric.\n"
     ]
    }
   ],
   "source": [
    "password = \"user123456\"\n",
    "\n",
    "if password.isalnum():\n",
    "    print(\"Password is alphanumeric.\")\n",
    "else:\n",
    "    print(\"Password is not alphanumeric.\")"
   ]
  },
  {
   "cell_type": "code",
   "execution_count": null,
   "id": "36ec2d73",
   "metadata": {},
   "outputs": [],
   "source": []
  }
 ],
 "metadata": {
  "kernelspec": {
   "display_name": "Python 3 (ipykernel)",
   "language": "python",
   "name": "python3"
  },
  "language_info": {
   "codemirror_mode": {
    "name": "ipython",
    "version": 3
   },
   "file_extension": ".py",
   "mimetype": "text/x-python",
   "name": "python",
   "nbconvert_exporter": "python",
   "pygments_lexer": "ipython3",
   "version": "3.9.18"
  }
 },
 "nbformat": 4,
 "nbformat_minor": 5
}
