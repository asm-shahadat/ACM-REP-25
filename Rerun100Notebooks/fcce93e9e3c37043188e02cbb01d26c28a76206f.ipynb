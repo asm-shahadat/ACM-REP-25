{
 "cells": [
  {
   "cell_type": "markdown",
   "id": "bfcb1742",
   "metadata": {},
   "source": [
    "# sort()"
   ]
  },
  {
   "cell_type": "code",
   "execution_count": 2,
   "id": "f212959a",
   "metadata": {
    "execution": {
     "iopub.execute_input": "2023-10-05T20:27:08.269149Z",
     "iopub.status.busy": "2023-10-05T20:27:08.268862Z",
     "iopub.status.idle": "2023-10-05T20:27:08.353938Z",
     "shell.execute_reply": "2023-10-05T20:27:08.352930Z"
    }
   },
   "outputs": [],
   "source": [
    "import numpy as np\n",
    "import warnings\n",
    "warnings.filterwarnings('ignore')"
   ]
  },
  {
   "cell_type": "code",
   "execution_count": 3,
   "id": "06382cc8",
   "metadata": {
    "execution": {
     "iopub.execute_input": "2023-10-05T20:27:08.357938Z",
     "iopub.status.busy": "2023-10-05T20:27:08.357034Z",
     "iopub.status.idle": "2023-10-05T20:27:08.366803Z",
     "shell.execute_reply": "2023-10-05T20:27:08.365945Z"
    },
    "type_information": "[{\"type\": \"<class 'numpy.ndarray'>\", \"name\": \"ndarray\", \"module\": \"numpy\", \"size\": 312, \"shape\": \"(25,)\", \"dtype\": \"int64\"}]"
   },
   "outputs": [
    {
     "data": {
      "text/plain": [
       "array([ 7, 18, 53,  1, 15, 85, 58, 96, 99, 72, 47, 56, 80, 54, 35,  7, 10,\n",
       "       33, 57, 91, 70, 29, 97, 36, 79])"
      ]
     },
     "execution_count": 3,
     "metadata": {},
     "output_type": "execute_result"
    }
   ],
   "source": [
    "ran_nums = np.random.randint(1,100,25)\n",
    "ran_nums"
   ]
  },
  {
   "cell_type": "markdown",
   "id": "38df6510",
   "metadata": {},
   "source": [
    "## Ascending"
   ]
  },
  {
   "cell_type": "code",
   "execution_count": 5,
   "id": "cd632721",
   "metadata": {
    "execution": {
     "iopub.execute_input": "2023-10-05T20:27:08.378983Z",
     "iopub.status.busy": "2023-10-05T20:27:08.378693Z",
     "iopub.status.idle": "2023-10-05T20:27:08.384549Z",
     "shell.execute_reply": "2023-10-05T20:27:08.383682Z"
    },
    "type_information": "[{\"type\": \"<class 'numpy.ndarray'>\", \"name\": \"ndarray\", \"module\": \"numpy\", \"size\": 312, \"shape\": \"(25,)\", \"dtype\": \"int64\"}]"
   },
   "outputs": [
    {
     "data": {
      "text/plain": [
       "array([ 1,  7,  7, 10, 15, 18, 29, 33, 35, 36, 47, 53, 54, 56, 57, 58, 70,\n",
       "       72, 79, 80, 85, 91, 96, 97, 99])"
      ]
     },
     "execution_count": 5,
     "metadata": {},
     "output_type": "execute_result"
    }
   ],
   "source": [
    "np.sort(ran_nums)"
   ]
  },
  {
   "cell_type": "code",
   "execution_count": 7,
   "id": "c2976d73",
   "metadata": {
    "execution": {
     "iopub.execute_input": "2023-10-05T20:27:08.396385Z",
     "iopub.status.busy": "2023-10-05T20:27:08.396099Z",
     "iopub.status.idle": "2023-10-05T20:27:08.402379Z",
     "shell.execute_reply": "2023-10-05T20:27:08.401523Z"
    },
    "type_information": "[{\"type\": \"<class 'list'>\", \"name\": \"list\", \"module\": \"builtins\", \"size\": 280, \"data\": [{\"type\": \"<class 'numpy.int64'>\", \"name\": \"int64\", \"module\": \"numpy\", \"size\": 32}, {\"type\": \"<class 'numpy.int64'>\", \"name\": \"int64\", \"module\": \"numpy\", \"size\": 32}, {\"type\": \"<class 'numpy.int64'>\", \"name\": \"int64\", \"module\": \"numpy\", \"size\": 32}, {\"type\": \"<class 'numpy.int64'>\", \"name\": \"int64\", \"module\": \"numpy\", \"size\": 32}, {\"type\": \"<class 'numpy.int64'>\", \"name\": \"int64\", \"module\": \"numpy\", \"size\": 32}, {\"type\": \"<class 'numpy.int64'>\", \"name\": \"int64\", \"module\": \"numpy\", \"size\": 32}, {\"type\": \"<class 'numpy.int64'>\", \"name\": \"int64\", \"module\": \"numpy\", \"size\": 32}, {\"type\": \"<class 'numpy.int64'>\", \"name\": \"int64\", \"module\": \"numpy\", \"size\": 32}, {\"type\": \"<class 'numpy.int64'>\", \"name\": \"int64\", \"module\": \"numpy\", \"size\": 32}, {\"type\": \"<class 'numpy.int64'>\", \"name\": \"int64\", \"module\": \"numpy\", \"size\": 32}, {\"type\": \"<class 'numpy.int64'>\", \"name\": \"int64\", \"module\": \"numpy\", \"size\": 32}, {\"type\": \"<class 'numpy.int64'>\", \"name\": \"int64\", \"module\": \"numpy\", \"size\": 32}, {\"type\": \"<class 'numpy.int64'>\", \"name\": \"int64\", \"module\": \"numpy\", \"size\": 32}, {\"type\": \"<class 'numpy.int64'>\", \"name\": \"int64\", \"module\": \"numpy\", \"size\": 32}, {\"type\": \"<class 'numpy.int64'>\", \"name\": \"int64\", \"module\": \"numpy\", \"size\": 32}, {\"type\": \"<class 'numpy.int64'>\", \"name\": \"int64\", \"module\": \"numpy\", \"size\": 32}, {\"type\": \"<class 'numpy.int64'>\", \"name\": \"int64\", \"module\": \"numpy\", \"size\": 32}, {\"type\": \"<class 'numpy.int64'>\", \"name\": \"int64\", \"module\": \"numpy\", \"size\": 32}, {\"type\": \"<class 'numpy.int64'>\", \"name\": \"int64\", \"module\": \"numpy\", \"size\": 32}, {\"type\": \"<class 'numpy.int64'>\", \"name\": \"int64\", \"module\": \"numpy\", \"size\": 32}, {\"type\": \"<class 'numpy.int64'>\", \"name\": \"int64\", \"module\": \"numpy\", \"size\": 32}, {\"type\": \"<class 'numpy.int64'>\", \"name\": \"int64\", \"module\": \"numpy\", \"size\": 32}, {\"type\": \"<class 'numpy.int64'>\", \"name\": \"int64\", \"module\": \"numpy\", \"size\": 32}, {\"type\": \"<class 'numpy.int64'>\", \"name\": \"int64\", \"module\": \"numpy\", \"size\": 32}, {\"type\": \"<class 'numpy.int64'>\", \"name\": \"int64\", \"module\": \"numpy\", \"size\": 32}]}]"
   },
   "outputs": [
    {
     "data": {
      "text/plain": [
       "[99,\n",
       " 97,\n",
       " 96,\n",
       " 91,\n",
       " 85,\n",
       " 80,\n",
       " 79,\n",
       " 72,\n",
       " 70,\n",
       " 58,\n",
       " 57,\n",
       " 56,\n",
       " 54,\n",
       " 53,\n",
       " 47,\n",
       " 36,\n",
       " 35,\n",
       " 33,\n",
       " 29,\n",
       " 18,\n",
       " 15,\n",
       " 10,\n",
       " 7,\n",
       " 7,\n",
       " 1]"
      ]
     },
     "execution_count": 7,
     "metadata": {},
     "output_type": "execute_result"
    }
   ],
   "source": [
    "sorted_ran_nums=sorted(ran_nums,reverse=True)\n",
    "sorted_ran_nums"
   ]
  },
  {
   "cell_type": "markdown",
   "id": "4c5eaf2a",
   "metadata": {},
   "source": [
    "## Descending"
   ]
  },
  {
   "cell_type": "code",
   "execution_count": 9,
   "id": "067b6884",
   "metadata": {
    "execution": {
     "iopub.execute_input": "2023-10-05T20:27:08.414664Z",
     "iopub.status.busy": "2023-10-05T20:27:08.414378Z",
     "iopub.status.idle": "2023-10-05T20:27:08.420576Z",
     "shell.execute_reply": "2023-10-05T20:27:08.419695Z"
    },
    "type_information": "[{\"type\": \"<class 'numpy.ndarray'>\", \"name\": \"ndarray\", \"module\": \"numpy\", \"size\": 112, \"shape\": \"(25,)\", \"dtype\": \"int64\"}]"
   },
   "outputs": [
    {
     "data": {
      "text/plain": [
       "array([99, 97, 96, 91, 85, 80, 79, 72, 70, 58, 57, 56, 54, 53, 47, 36, 35,\n",
       "       33, 29, 18, 15, 10,  7,  7,  1])"
      ]
     },
     "execution_count": 9,
     "metadata": {},
     "output_type": "execute_result"
    }
   ],
   "source": [
    "np.sort(ran_nums)[::-1]"
   ]
  },
  {
   "cell_type": "code",
   "execution_count": 11,
   "id": "1d6575d6",
   "metadata": {
    "execution": {
     "iopub.execute_input": "2023-10-05T20:27:08.432887Z",
     "iopub.status.busy": "2023-10-05T20:27:08.432602Z",
     "iopub.status.idle": "2023-10-05T20:27:08.438697Z",
     "shell.execute_reply": "2023-10-05T20:27:08.437837Z"
    },
    "type_information": "[{\"type\": \"<class 'numpy.ndarray'>\", \"name\": \"ndarray\", \"module\": \"numpy\", \"size\": 312, \"shape\": \"(25,)\", \"dtype\": \"int64\"}]"
   },
   "outputs": [
    {
     "data": {
      "text/plain": [
       "array([99, 97, 96, 91, 85, 80, 79, 72, 70, 58, 57, 56, 54, 53, 47, 36, 35,\n",
       "       33, 29, 18, 15, 10,  7,  7,  1])"
      ]
     },
     "execution_count": 11,
     "metadata": {},
     "output_type": "execute_result"
    }
   ],
   "source": [
    "desc_ran_nums_sorted = np.array(sorted(ran_nums,reverse=True))\n",
    "desc_ran_nums_sorted"
   ]
  },
  {
   "cell_type": "code",
   "execution_count": 13,
   "id": "380def7e",
   "metadata": {
    "execution": {
     "iopub.execute_input": "2023-10-05T20:27:08.451764Z",
     "iopub.status.busy": "2023-10-05T20:27:08.451478Z",
     "iopub.status.idle": "2023-10-05T20:27:08.459116Z",
     "shell.execute_reply": "2023-10-05T20:27:08.458250Z"
    },
    "type_information": "[{\"type\": \"<class 'numpy.ndarray'>\", \"name\": \"ndarray\", \"module\": \"numpy\", \"size\": 312, \"shape\": \"(25,)\", \"dtype\": \"int64\"}]"
   },
   "outputs": [
    {
     "data": {
      "text/plain": [
       "array([99, 97, 96, 91, 85, 80, 79, 72, 70, 58, 57, 56, 54, 53, 47, 36, 35,\n",
       "       33, 29, 18, 15, 10,  7,  7,  1])"
      ]
     },
     "execution_count": 13,
     "metadata": {},
     "output_type": "execute_result"
    }
   ],
   "source": [
    "for i in range(len(ran_nums)):\n",
    "    for j in range(i+1):\n",
    "        if ran_nums[i]>ran_nums[j]:\n",
    "            ran_nums[i],ran_nums[j]=ran_nums[j],ran_nums[i]\n",
    "            \n",
    "            \n",
    "ran_nums"
   ]
  },
  {
   "cell_type": "code",
   "execution_count": 15,
   "id": "ad59078d",
   "metadata": {
    "error": [
     {
      "ename": "KeyError",
      "evalue": "15",
      "output_type": "error",
      "traceback": [
       "\u001b[0;31m---------------------------------------------------------------------------\u001b[0m",
       "\u001b[0;31mKeyError\u001b[0m                                  Traceback (most recent call last)",
       "Cell \u001b[0;32mIn[16], line 1\u001b[0m\n\u001b[0;32m----> 1\u001b[0m json\u001b[38;5;241m.\u001b[39mdumps([typehandlerforuniqueobjects(\u001b[43mOut\u001b[49m\u001b[43m[\u001b[49m\u001b[38;5;241;43m15\u001b[39;49m\u001b[43m]\u001b[49m)])\n",
       "\u001b[0;31mKeyError\u001b[0m: 15"
      ]
     }
    ],
    "execution": {
     "iopub.execute_input": "2023-10-05T20:27:08.471077Z",
     "iopub.status.busy": "2023-10-05T20:27:08.470787Z",
     "iopub.status.idle": "2023-10-05T20:27:08.476630Z",
     "shell.execute_reply": "2023-10-05T20:27:08.475703Z"
    }
   },
   "outputs": [
    {
     "name": "stdout",
     "output_type": "stream",
     "text": [
      "17\n",
      "2\n",
      "5\n",
      "7\n"
     ]
    }
   ],
   "source": [
    "x = [16,17,2,5,7]\n",
    "\n",
    "x= np.array(x)\n",
    "y = x.argmax()\n",
    "\n",
    "for i in range(y,len(x)):\n",
    "    print(x[i])"
   ]
  },
  {
   "cell_type": "markdown",
   "id": "b225b623",
   "metadata": {},
   "source": [
    "## sorting of matrix"
   ]
  },
  {
   "cell_type": "code",
   "execution_count": 17,
   "id": "6e5c543a",
   "metadata": {
    "execution": {
     "iopub.execute_input": "2023-10-05T20:27:08.841058Z",
     "iopub.status.busy": "2023-10-05T20:27:08.840749Z",
     "iopub.status.idle": "2023-10-05T20:27:08.847662Z",
     "shell.execute_reply": "2023-10-05T20:27:08.846702Z"
    },
    "scrolled": true,
    "type_information": "[{\"type\": \"<class 'numpy.ndarray'>\", \"name\": \"ndarray\", \"module\": \"numpy\", \"size\": 136, \"shape\": \"(3,)\", \"dtype\": \"int64\"}]"
   },
   "outputs": [
    {
     "data": {
      "text/plain": [
       "array([0, 2, 3])"
      ]
     },
     "execution_count": 17,
     "metadata": {},
     "output_type": "execute_result"
    }
   ],
   "source": [
    "np.sort([2,3,0],axis=-1)"
   ]
  },
  {
   "cell_type": "markdown",
   "id": "fae33a06",
   "metadata": {},
   "source": [
    "### sorting column wise"
   ]
  },
  {
   "cell_type": "code",
   "execution_count": 19,
   "id": "8b946d6c",
   "metadata": {
    "execution": {
     "iopub.execute_input": "2023-10-05T20:27:08.860872Z",
     "iopub.status.busy": "2023-10-05T20:27:08.860578Z",
     "iopub.status.idle": "2023-10-05T20:27:08.867031Z",
     "shell.execute_reply": "2023-10-05T20:27:08.866155Z"
    },
    "type_information": "[{\"type\": \"<class 'numpy.ndarray'>\", \"name\": \"ndarray\", \"module\": \"numpy\", \"size\": 176, \"shape\": \"(2, 3)\", \"dtype\": \"int64\"}]"
   },
   "outputs": [
    {
     "data": {
      "text/plain": [
       "array([[0, 2, 3],\n",
       "       [5, 7, 8]])"
      ]
     },
     "execution_count": 19,
     "metadata": {},
     "output_type": "execute_result"
    }
   ],
   "source": [
    "np.sort([[2,3,0],\n",
    "         [7,5,8]],axis=1)"
   ]
  },
  {
   "cell_type": "code",
   "execution_count": 21,
   "id": "cfd4da4c",
   "metadata": {
    "execution": {
     "iopub.execute_input": "2023-10-05T20:27:08.879811Z",
     "iopub.status.busy": "2023-10-05T20:27:08.879518Z",
     "iopub.status.idle": "2023-10-05T20:27:08.885952Z",
     "shell.execute_reply": "2023-10-05T20:27:08.885088Z"
    },
    "type_information": "[{\"type\": \"<class 'numpy.ndarray'>\", \"name\": \"ndarray\", \"module\": \"numpy\", \"size\": 176, \"shape\": \"(2, 3)\", \"dtype\": \"int64\"}]"
   },
   "outputs": [
    {
     "data": {
      "text/plain": [
       "array([[0, 2, 3],\n",
       "       [5, 7, 8]])"
      ]
     },
     "execution_count": 21,
     "metadata": {},
     "output_type": "execute_result"
    }
   ],
   "source": [
    "np.sort([[2,3,0],\n",
    "         [7,5,8]],axis=1)"
   ]
  },
  {
   "cell_type": "code",
   "execution_count": 23,
   "id": "7961f509",
   "metadata": {
    "error": [
     {
      "ename": "KeyError",
      "evalue": "23",
      "output_type": "error",
      "traceback": [
       "\u001b[0;31m---------------------------------------------------------------------------\u001b[0m",
       "\u001b[0;31mKeyError\u001b[0m                                  Traceback (most recent call last)",
       "Cell \u001b[0;32mIn[24], line 1\u001b[0m\n\u001b[0;32m----> 1\u001b[0m json\u001b[38;5;241m.\u001b[39mdumps([typehandlerforuniqueobjects(\u001b[43mOut\u001b[49m\u001b[43m[\u001b[49m\u001b[38;5;241;43m23\u001b[39;49m\u001b[43m]\u001b[49m)])\n",
       "\u001b[0;31mKeyError\u001b[0m: 23"
      ]
     }
    ],
    "execution": {
     "iopub.execute_input": "2023-10-05T20:27:08.898026Z",
     "iopub.status.busy": "2023-10-05T20:27:08.897739Z",
     "iopub.status.idle": "2023-10-05T20:27:08.903427Z",
     "shell.execute_reply": "2023-10-05T20:27:08.902470Z"
    }
   },
   "outputs": [
    {
     "name": "stdout",
     "output_type": "stream",
     "text": [
      "[[1 4]\n",
      " [1 3]]\n"
     ]
    }
   ],
   "source": [
    "a = np.array([[1,4], \n",
    "              [3,1]])\n",
    "a.sort(axis=1)\n",
    "print(a)"
   ]
  },
  {
   "cell_type": "markdown",
   "id": "06b21ccf",
   "metadata": {},
   "source": [
    "### sorting row wise"
   ]
  },
  {
   "cell_type": "code",
   "execution_count": 25,
   "id": "73cadc80",
   "metadata": {
    "execution": {
     "iopub.execute_input": "2023-10-05T20:27:08.933060Z",
     "iopub.status.busy": "2023-10-05T20:27:08.932769Z",
     "iopub.status.idle": "2023-10-05T20:27:08.939587Z",
     "shell.execute_reply": "2023-10-05T20:27:08.938665Z"
    },
    "type_information": "[{\"type\": \"<class 'numpy.ndarray'>\", \"name\": \"ndarray\", \"module\": \"numpy\", \"size\": 176, \"shape\": \"(2, 3)\", \"dtype\": \"int64\"}]"
   },
   "outputs": [
    {
     "data": {
      "text/plain": [
       "array([[1, 3, 0],\n",
       "       [8, 5, 9]])"
      ]
     },
     "execution_count": 25,
     "metadata": {},
     "output_type": "execute_result"
    }
   ],
   "source": [
    "matrix = [[8,3,9],\n",
    "          [1,5,0]]\n",
    "np.sort(matrix,axis=0)"
   ]
  },
  {
   "cell_type": "code",
   "execution_count": 27,
   "id": "5e2b714d",
   "metadata": {
    "error": [
     {
      "ename": "KeyError",
      "evalue": "27",
      "output_type": "error",
      "traceback": [
       "\u001b[0;31m---------------------------------------------------------------------------\u001b[0m",
       "\u001b[0;31mKeyError\u001b[0m                                  Traceback (most recent call last)",
       "Cell \u001b[0;32mIn[28], line 1\u001b[0m\n\u001b[0;32m----> 1\u001b[0m json\u001b[38;5;241m.\u001b[39mdumps([typehandlerforuniqueobjects(\u001b[43mOut\u001b[49m\u001b[43m[\u001b[49m\u001b[38;5;241;43m27\u001b[39;49m\u001b[43m]\u001b[49m)])\n",
       "\u001b[0;31mKeyError\u001b[0m: 27"
      ]
     }
    ],
    "execution": {
     "iopub.execute_input": "2023-10-05T20:27:08.952755Z",
     "iopub.status.busy": "2023-10-05T20:27:08.952466Z",
     "iopub.status.idle": "2023-10-05T20:27:08.958211Z",
     "shell.execute_reply": "2023-10-05T20:27:08.957147Z"
    }
   },
   "outputs": [
    {
     "name": "stdout",
     "output_type": "stream",
     "text": [
      "[[1 3]\n",
      " [1 4]]\n"
     ]
    }
   ],
   "source": [
    "a = np.array([[1, 4],[1, 3]])\n",
    "a.sort(axis=0)\n",
    "print(a)"
   ]
  },
  {
   "cell_type": "markdown",
   "id": "07deeecf",
   "metadata": {},
   "source": [
    "# replacing any item in any array using indexing"
   ]
  },
  {
   "cell_type": "code",
   "execution_count": 29,
   "id": "143b8422",
   "metadata": {
    "execution": {
     "iopub.execute_input": "2023-10-05T20:27:08.987261Z",
     "iopub.status.busy": "2023-10-05T20:27:08.986974Z",
     "iopub.status.idle": "2023-10-05T20:27:08.993337Z",
     "shell.execute_reply": "2023-10-05T20:27:08.992498Z"
    },
    "type_information": "[{\"type\": \"<class 'numpy.ndarray'>\", \"name\": \"ndarray\", \"module\": \"numpy\", \"size\": 152, \"shape\": \"(5,)\", \"dtype\": \"int64\"}]"
   },
   "outputs": [
    {
     "data": {
      "text/plain": [
       "array([ 16, 100,   2,   5,   7])"
      ]
     },
     "execution_count": 29,
     "metadata": {},
     "output_type": "execute_result"
    }
   ],
   "source": [
    "array = np.array([16,17,2,5,7])\n",
    "array[1]=100\n",
    "array"
   ]
  },
  {
   "cell_type": "code",
   "execution_count": 31,
   "id": "ed90657a",
   "metadata": {
    "execution": {
     "iopub.execute_input": "2023-10-05T20:27:09.005513Z",
     "iopub.status.busy": "2023-10-05T20:27:09.005198Z",
     "iopub.status.idle": "2023-10-05T20:27:09.012094Z",
     "shell.execute_reply": "2023-10-05T20:27:09.011208Z"
    },
    "type_information": "[{\"type\": \"<class 'numpy.ndarray'>\", \"name\": \"ndarray\", \"module\": \"numpy\", \"size\": 200, \"shape\": \"(3, 3)\", \"dtype\": \"int64\"}]"
   },
   "outputs": [
    {
     "data": {
      "text/plain": [
       "array([[100,  16,  17],\n",
       "       [  2,   5,   3],\n",
       "       [  7,   0,   8]])"
      ]
     },
     "execution_count": 31,
     "metadata": {},
     "output_type": "execute_result"
    }
   ],
   "source": [
    "array = np.array([[21,16,17],\n",
    "                  [2,5,3],\n",
    "                  [7,0,8]])\n",
    "array[0][0]=100\n",
    "array"
   ]
  },
  {
   "cell_type": "code",
   "execution_count": 33,
   "id": "94fb8fc5",
   "metadata": {
    "execution": {
     "iopub.execute_input": "2023-10-05T20:27:09.025001Z",
     "iopub.status.busy": "2023-10-05T20:27:09.024713Z",
     "iopub.status.idle": "2023-10-05T20:27:09.032163Z",
     "shell.execute_reply": "2023-10-05T20:27:09.031240Z"
    },
    "type_information": "[{\"type\": \"<class 'numpy.ndarray'>\", \"name\": \"ndarray\", \"module\": \"numpy\", \"size\": 200, \"shape\": \"(3, 3)\", \"dtype\": \"int64\"}]"
   },
   "outputs": [
    {
     "data": {
      "text/plain": [
       "array([[100, 200,  17],\n",
       "       [300, 400,   3],\n",
       "       [  7,   0,   8]])"
      ]
     },
     "execution_count": 33,
     "metadata": {},
     "output_type": "execute_result"
    }
   ],
   "source": [
    "array = np.array([[21,16,17],\n",
    "                  [2,5,3],\n",
    "                  [7,0,8]])\n",
    "\n",
    "array[0:2,0:2]=[[100,200],[300,400]]\n",
    "array"
   ]
  },
  {
   "cell_type": "markdown",
   "id": "c416e092",
   "metadata": {},
   "source": [
    "# Inserting item into Array"
   ]
  },
  {
   "cell_type": "raw",
   "id": "4cbe0a8f",
   "metadata": {},
   "source": [
    "inserts item at any specific index into the array\n",
    "\n",
    "Syntax:\n",
    "np.insert(array_name,index,value)"
   ]
  },
  {
   "cell_type": "code",
   "execution_count": 35,
   "id": "bf9479a0",
   "metadata": {
    "execution": {
     "iopub.execute_input": "2023-10-05T20:27:09.044995Z",
     "iopub.status.busy": "2023-10-05T20:27:09.044693Z",
     "iopub.status.idle": "2023-10-05T20:27:09.051206Z",
     "shell.execute_reply": "2023-10-05T20:27:09.050343Z"
    },
    "type_information": "[{\"type\": \"<class 'numpy.ndarray'>\", \"name\": \"ndarray\", \"module\": \"numpy\", \"size\": 160, \"shape\": \"(6,)\", \"dtype\": \"int64\"}]"
   },
   "outputs": [
    {
     "data": {
      "text/plain": [
       "array([ 16, 100,  17,   2,   5,   7])"
      ]
     },
     "execution_count": 35,
     "metadata": {},
     "output_type": "execute_result"
    }
   ],
   "source": [
    "array = np.array([16,17,2,5,7])\n",
    "np.insert(array,1,100)"
   ]
  },
  {
   "cell_type": "code",
   "execution_count": 37,
   "id": "c5000461",
   "metadata": {
    "execution": {
     "iopub.execute_input": "2023-10-05T20:27:09.063348Z",
     "iopub.status.busy": "2023-10-05T20:27:09.063063Z",
     "iopub.status.idle": "2023-10-05T20:27:09.069638Z",
     "shell.execute_reply": "2023-10-05T20:27:09.068747Z"
    },
    "type_information": "[{\"type\": \"<class 'numpy.ndarray'>\", \"name\": \"ndarray\", \"module\": \"numpy\", \"size\": 160, \"shape\": \"(6,)\", \"dtype\": \"int64\"}]"
   },
   "outputs": [
    {
     "data": {
      "text/plain": [
       "array([  16,   17,    2,    5, 1000,    7])"
      ]
     },
     "execution_count": 37,
     "metadata": {},
     "output_type": "execute_result"
    }
   ],
   "source": [
    "array = np.array([16,17,2,5,7])\n",
    "np.insert(array,-1,1000)"
   ]
  },
  {
   "cell_type": "code",
   "execution_count": 39,
   "id": "68a57e66",
   "metadata": {
    "execution": {
     "iopub.execute_input": "2023-10-05T20:27:09.082113Z",
     "iopub.status.busy": "2023-10-05T20:27:09.081826Z",
     "iopub.status.idle": "2023-10-05T20:27:09.088401Z",
     "shell.execute_reply": "2023-10-05T20:27:09.087467Z"
    },
    "type_information": "[{\"type\": \"<class 'numpy.ndarray'>\", \"name\": \"ndarray\", \"module\": \"numpy\", \"size\": 160, \"shape\": \"(6,)\", \"dtype\": \"int64\"}]"
   },
   "outputs": [
    {
     "data": {
      "text/plain": [
       "array([  16,   17,    2,    5,    7, 1000])"
      ]
     },
     "execution_count": 39,
     "metadata": {},
     "output_type": "execute_result"
    }
   ],
   "source": [
    "array = np.array([16,17,2,5,7])\n",
    "np.insert(array,len(array),1000)"
   ]
  },
  {
   "cell_type": "code",
   "execution_count": 41,
   "id": "75379601",
   "metadata": {
    "execution": {
     "iopub.execute_input": "2023-10-05T20:27:09.101258Z",
     "iopub.status.busy": "2023-10-05T20:27:09.100973Z",
     "iopub.status.idle": "2023-10-05T20:27:09.108243Z",
     "shell.execute_reply": "2023-10-05T20:27:09.107313Z"
    },
    "type_information": "[{\"type\": \"<class 'numpy.ndarray'>\", \"name\": \"ndarray\", \"module\": \"numpy\", \"size\": 192, \"shape\": \"(10,)\", \"dtype\": \"int64\"}]"
   },
   "outputs": [
    {
     "data": {
      "text/plain": [
       "array([100,  21,  16,  17,   2,   5,   3,   7,   0,   8])"
      ]
     },
     "execution_count": 41,
     "metadata": {},
     "output_type": "execute_result"
    }
   ],
   "source": [
    "array = np.array([[21,16,17],\n",
    "                  [2,5,3],\n",
    "                  [7,0,8]])\n",
    "np.insert(array,[0][0],100)"
   ]
  },
  {
   "cell_type": "markdown",
   "id": "fac4ae34",
   "metadata": {},
   "source": [
    "# Append()"
   ]
  },
  {
   "cell_type": "raw",
   "id": "eef4f071",
   "metadata": {},
   "source": [
    "Appends the values at the end of the array"
   ]
  },
  {
   "cell_type": "code",
   "execution_count": 43,
   "id": "3486c9f8",
   "metadata": {
    "execution": {
     "iopub.execute_input": "2023-10-05T20:27:09.121301Z",
     "iopub.status.busy": "2023-10-05T20:27:09.121016Z",
     "iopub.status.idle": "2023-10-05T20:27:09.127307Z",
     "shell.execute_reply": "2023-10-05T20:27:09.126397Z"
    },
    "type_information": "[{\"type\": \"<class 'numpy.ndarray'>\", \"name\": \"ndarray\", \"module\": \"numpy\", \"size\": 144, \"shape\": \"(4,)\", \"dtype\": \"int64\"}]"
   },
   "outputs": [
    {
     "data": {
      "text/plain": [
       "array([5, 6, 7, 8])"
      ]
     },
     "execution_count": 43,
     "metadata": {},
     "output_type": "execute_result"
    }
   ],
   "source": [
    "array = np.array([5,6,7,8])\n",
    "array"
   ]
  },
  {
   "cell_type": "code",
   "execution_count": 45,
   "id": "3c5bbd55",
   "metadata": {
    "execution": {
     "iopub.execute_input": "2023-10-05T20:27:09.139412Z",
     "iopub.status.busy": "2023-10-05T20:27:09.139127Z",
     "iopub.status.idle": "2023-10-05T20:27:09.145333Z",
     "shell.execute_reply": "2023-10-05T20:27:09.144428Z"
    },
    "type_information": "[{\"type\": \"<class 'numpy.ndarray'>\", \"name\": \"ndarray\", \"module\": \"numpy\", \"size\": 152, \"shape\": \"(5,)\", \"dtype\": \"int64\"}]"
   },
   "outputs": [
    {
     "data": {
      "text/plain": [
       "array([ 5,  6,  7,  8, 10])"
      ]
     },
     "execution_count": 45,
     "metadata": {},
     "output_type": "execute_result"
    }
   ],
   "source": [
    "np.append(array,10)"
   ]
  },
  {
   "cell_type": "code",
   "execution_count": 47,
   "id": "01fdf8b7",
   "metadata": {
    "execution": {
     "iopub.execute_input": "2023-10-05T20:27:09.158068Z",
     "iopub.status.busy": "2023-10-05T20:27:09.157778Z",
     "iopub.status.idle": "2023-10-05T20:27:09.164083Z",
     "shell.execute_reply": "2023-10-05T20:27:09.163178Z"
    },
    "type_information": "[{\"type\": \"<class 'numpy.ndarray'>\", \"name\": \"ndarray\", \"module\": \"numpy\", \"size\": 160, \"shape\": \"(6,)\", \"dtype\": \"int64\"}]"
   },
   "outputs": [
    {
     "data": {
      "text/plain": [
       "array([ 5,  6,  7,  8, 10, 20])"
      ]
     },
     "execution_count": 47,
     "metadata": {},
     "output_type": "execute_result"
    }
   ],
   "source": [
    "np.append(array,(10,20))"
   ]
  },
  {
   "cell_type": "code",
   "execution_count": 49,
   "id": "23b6ec20",
   "metadata": {
    "execution": {
     "iopub.execute_input": "2023-10-05T20:27:09.176341Z",
     "iopub.status.busy": "2023-10-05T20:27:09.176058Z",
     "iopub.status.idle": "2023-10-05T20:27:09.182133Z",
     "shell.execute_reply": "2023-10-05T20:27:09.181264Z"
    },
    "type_information": "[{\"type\": \"<class 'numpy.ndarray'>\", \"name\": \"ndarray\", \"module\": \"numpy\", \"size\": 160, \"shape\": \"(6,)\", \"dtype\": \"int64\"}]"
   },
   "outputs": [
    {
     "data": {
      "text/plain": [
       "array([ 5,  6,  7,  8, 10, 20])"
      ]
     },
     "execution_count": 49,
     "metadata": {},
     "output_type": "execute_result"
    }
   ],
   "source": [
    "np.append(array,[10,20])"
   ]
  },
  {
   "cell_type": "code",
   "execution_count": 51,
   "id": "90ba9545",
   "metadata": {
    "execution": {
     "iopub.execute_input": "2023-10-05T20:27:09.194543Z",
     "iopub.status.busy": "2023-10-05T20:27:09.194259Z",
     "iopub.status.idle": "2023-10-05T20:27:09.201497Z",
     "shell.execute_reply": "2023-10-05T20:27:09.200509Z"
    },
    "type_information": "[{\"type\": \"<class 'numpy.ndarray'>\", \"name\": \"ndarray\", \"module\": \"numpy\", \"size\": 160, \"shape\": \"(6,)\", \"dtype\": \"int64\"}]"
   },
   "outputs": [
    {
     "data": {
      "text/plain": [
       "array([2, 3, 4, 5, 3, 4])"
      ]
     },
     "execution_count": 51,
     "metadata": {},
     "output_type": "execute_result"
    }
   ],
   "source": [
    "array1 = np.array([2,3,4])\n",
    "array2 = np.array([5,3,4])\n",
    "\n",
    "array3 = np.append(array1,array2)\n",
    "array3"
   ]
  },
  {
   "cell_type": "code",
   "execution_count": 53,
   "id": "dca78a86",
   "metadata": {
    "execution": {
     "iopub.execute_input": "2023-10-05T20:27:09.215023Z",
     "iopub.status.busy": "2023-10-05T20:27:09.214288Z",
     "iopub.status.idle": "2023-10-05T20:27:09.221573Z",
     "shell.execute_reply": "2023-10-05T20:27:09.220660Z"
    },
    "type_information": "[{\"type\": \"<class 'numpy.ndarray'>\", \"name\": \"ndarray\", \"module\": \"numpy\", \"size\": 184, \"shape\": \"(9,)\", \"dtype\": \"int64\"}]"
   },
   "outputs": [
    {
     "data": {
      "text/plain": [
       "array([2, 3, 4, 5, 6, 7, 5, 3, 4])"
      ]
     },
     "execution_count": 53,
     "metadata": {},
     "output_type": "execute_result"
    }
   ],
   "source": [
    "array1 = np.array([[2,3,4],\n",
    "                   [5,6,7]])\n",
    "\n",
    "array2 = np.array([5,3,4])\n",
    "\n",
    "np.append(array1,array2)"
   ]
  },
  {
   "cell_type": "markdown",
   "id": "3da6806d",
   "metadata": {},
   "source": [
    "## Appending rowwise in matrix"
   ]
  },
  {
   "cell_type": "raw",
   "id": "b67442d0",
   "metadata": {},
   "source": [
    "# we are are appending rows then the number of columns has to be exactly same.\n",
    "# Axis has to be set to 0 for row appending"
   ]
  },
  {
   "cell_type": "code",
   "execution_count": 55,
   "id": "96288818",
   "metadata": {
    "execution": {
     "iopub.execute_input": "2023-10-05T20:27:09.234262Z",
     "iopub.status.busy": "2023-10-05T20:27:09.233974Z",
     "iopub.status.idle": "2023-10-05T20:27:09.241059Z",
     "shell.execute_reply": "2023-10-05T20:27:09.240135Z"
    },
    "type_information": "[{\"type\": \"<class 'numpy.ndarray'>\", \"name\": \"ndarray\", \"module\": \"numpy\", \"size\": 200, \"shape\": \"(3, 3)\", \"dtype\": \"int64\"}]"
   },
   "outputs": [
    {
     "data": {
      "text/plain": [
       "array([[2, 3, 4],\n",
       "       [5, 6, 7],\n",
       "       [5, 3, 4]])"
      ]
     },
     "execution_count": 55,
     "metadata": {},
     "output_type": "execute_result"
    }
   ],
   "source": [
    "array1 = np.array([[2,3,4],\n",
    "                   [5,6,7]])\n",
    "\n",
    "array2 = np.array([[5,3,4]])\n",
    "\n",
    "np.append(array1,array2,axis=0)"
   ]
  },
  {
   "cell_type": "code",
   "execution_count": 57,
   "id": "26da205c",
   "metadata": {
    "execution": {
     "iopub.execute_input": "2023-10-05T20:27:09.253487Z",
     "iopub.status.busy": "2023-10-05T20:27:09.253205Z",
     "iopub.status.idle": "2023-10-05T20:27:09.260693Z",
     "shell.execute_reply": "2023-10-05T20:27:09.259755Z"
    },
    "type_information": "[{\"type\": \"<class 'numpy.ndarray'>\", \"name\": \"ndarray\", \"module\": \"numpy\", \"size\": 224, \"shape\": \"(4, 3)\", \"dtype\": \"int64\"}]"
   },
   "outputs": [
    {
     "data": {
      "text/plain": [
       "array([[2, 3, 4],\n",
       "       [5, 6, 7],\n",
       "       [5, 3, 4],\n",
       "       [0, 0, 0]])"
      ]
     },
     "execution_count": 57,
     "metadata": {},
     "output_type": "execute_result"
    }
   ],
   "source": [
    "array1 = np.array([[2,3,4],\n",
    "                   [5,6,7]])\n",
    "\n",
    "array2 = np.array([[5,3,4],\n",
    "                   [0,0,0]])\n",
    "\n",
    "np.append(array1,array2,axis=0)"
   ]
  },
  {
   "cell_type": "markdown",
   "id": "57f157a9",
   "metadata": {},
   "source": [
    "## Appending column wise in matrix"
   ]
  },
  {
   "cell_type": "raw",
   "id": "4b0698af",
   "metadata": {},
   "source": [
    "# if we are appending columns in the matrix then no. of rows has to be same\n",
    "# Axis has to be set to 1 for column appending"
   ]
  },
  {
   "cell_type": "code",
   "execution_count": 59,
   "id": "c7689079",
   "metadata": {
    "execution": {
     "iopub.execute_input": "2023-10-05T20:27:09.273423Z",
     "iopub.status.busy": "2023-10-05T20:27:09.272792Z",
     "iopub.status.idle": "2023-10-05T20:27:09.279911Z",
     "shell.execute_reply": "2023-10-05T20:27:09.278952Z"
    },
    "type_information": "[{\"type\": \"<class 'numpy.ndarray'>\", \"name\": \"ndarray\", \"module\": \"numpy\", \"size\": 192, \"shape\": \"(2, 4)\", \"dtype\": \"int64\"}]"
   },
   "outputs": [
    {
     "data": {
      "text/plain": [
       "array([[2, 3, 4, 5],\n",
       "       [5, 6, 7, 0]])"
      ]
     },
     "execution_count": 59,
     "metadata": {},
     "output_type": "execute_result"
    }
   ],
   "source": [
    "array1 = np.array([[2,3,4],\n",
    "                   [5,6,7]])\n",
    "\n",
    "array2 = np.array([[5],\n",
    "                   [0]])\n",
    "\n",
    "np.append(array1,array2,axis=1)"
   ]
  },
  {
   "cell_type": "code",
   "execution_count": 61,
   "id": "f631b2d6",
   "metadata": {
    "execution": {
     "iopub.execute_input": "2023-10-05T20:27:09.292107Z",
     "iopub.status.busy": "2023-10-05T20:27:09.291798Z",
     "iopub.status.idle": "2023-10-05T20:27:09.299352Z",
     "shell.execute_reply": "2023-10-05T20:27:09.298443Z"
    },
    "type_information": "[{\"type\": \"<class 'numpy.ndarray'>\", \"name\": \"ndarray\", \"module\": \"numpy\", \"size\": 224, \"shape\": \"(2, 6)\", \"dtype\": \"int64\"}]"
   },
   "outputs": [
    {
     "data": {
      "text/plain": [
       "array([[2, 3, 4, 5, 3, 4],\n",
       "       [5, 6, 7, 0, 0, 0]])"
      ]
     },
     "execution_count": 61,
     "metadata": {},
     "output_type": "execute_result"
    }
   ],
   "source": [
    "array1 = np.array([[2,3,4],\n",
    "                   [5,6,7]])\n",
    "\n",
    "array2 = np.array([[5,3,4],\n",
    "                   [0,0,0]])\n",
    "\n",
    "np.append(array1,array2,axis=1)"
   ]
  },
  {
   "cell_type": "markdown",
   "id": "6b92870f",
   "metadata": {},
   "source": [
    "# Concatenate()"
   ]
  },
  {
   "cell_type": "raw",
   "id": "5f1010fb",
   "metadata": {},
   "source": [
    "concatenates the arrays alongside the axis"
   ]
  },
  {
   "cell_type": "code",
   "execution_count": 63,
   "id": "f4d9adb6",
   "metadata": {
    "execution": {
     "iopub.execute_input": "2023-10-05T20:27:09.312341Z",
     "iopub.status.busy": "2023-10-05T20:27:09.311698Z",
     "iopub.status.idle": "2023-10-05T20:27:09.318554Z",
     "shell.execute_reply": "2023-10-05T20:27:09.317668Z"
    },
    "type_information": "[{\"type\": \"<class 'numpy.ndarray'>\", \"name\": \"ndarray\", \"module\": \"numpy\", \"size\": 160, \"shape\": \"(6,)\", \"dtype\": \"int64\"}]"
   },
   "outputs": [
    {
     "data": {
      "text/plain": [
       "array([2, 3, 4, 5, 3, 4])"
      ]
     },
     "execution_count": 63,
     "metadata": {},
     "output_type": "execute_result"
    }
   ],
   "source": [
    "array1 = np.array([2,3,4])\n",
    "array2 = np.array([5,3,4])\n",
    "\n",
    "final_array = np.concatenate([array1,array2])\n",
    "final_array"
   ]
  },
  {
   "cell_type": "code",
   "execution_count": 65,
   "id": "709d6fe0",
   "metadata": {
    "execution": {
     "iopub.execute_input": "2023-10-05T20:27:09.330526Z",
     "iopub.status.busy": "2023-10-05T20:27:09.330242Z",
     "iopub.status.idle": "2023-10-05T20:27:09.337553Z",
     "shell.execute_reply": "2023-10-05T20:27:09.336640Z"
    },
    "type_information": "[{\"type\": \"<class 'numpy.ndarray'>\", \"name\": \"ndarray\", \"module\": \"numpy\", \"size\": 184, \"shape\": \"(9,)\", \"dtype\": \"int64\"}]"
   },
   "outputs": [
    {
     "data": {
      "text/plain": [
       "array([2, 3, 4, 5, 3, 4, 5, 3, 9])"
      ]
     },
     "execution_count": 65,
     "metadata": {},
     "output_type": "execute_result"
    }
   ],
   "source": [
    "array1 = np.array([2,3,4])\n",
    "array2 = np.array([5,3,4])\n",
    "array3 = np.array([5,3,9])\n",
    "\n",
    "\n",
    "final_array = np.concatenate([array1,array2,array3])\n",
    "final_array"
   ]
  },
  {
   "cell_type": "code",
   "execution_count": 67,
   "id": "2d09c45d",
   "metadata": {
    "execution": {
     "iopub.execute_input": "2023-10-05T20:27:09.350299Z",
     "iopub.status.busy": "2023-10-05T20:27:09.350011Z",
     "iopub.status.idle": "2023-10-05T20:27:09.357336Z",
     "shell.execute_reply": "2023-10-05T20:27:09.356456Z"
    },
    "type_information": "[{\"type\": \"<class 'numpy.ndarray'>\", \"name\": \"ndarray\", \"module\": \"numpy\", \"size\": 128, \"shape\": \"(3, 3)\", \"dtype\": \"int64\"}]"
   },
   "outputs": [
    {
     "data": {
      "text/plain": [
       "array([[2, 3, 4],\n",
       "       [5, 3, 4],\n",
       "       [5, 3, 9]])"
      ]
     },
     "execution_count": 67,
     "metadata": {},
     "output_type": "execute_result"
    }
   ],
   "source": [
    "array1 = np.array([2,3,4])\n",
    "array2 = np.array([5,3,4])\n",
    "array3 = np.array([5,3,9])\n",
    "\n",
    "\n",
    "final_array = np.concatenate([array1,array2,array3])\n",
    "final_array.reshape(3,3)"
   ]
  },
  {
   "cell_type": "markdown",
   "id": "9ca3a6c3",
   "metadata": {},
   "source": [
    "## Concatenation along rows in matrix"
   ]
  },
  {
   "cell_type": "raw",
   "id": "3a407894",
   "metadata": {},
   "source": [
    "# if we are concatenating rows in the matrix then no. of columns has to be same\n",
    "# Axis has to be set to 0 for column appending"
   ]
  },
  {
   "cell_type": "code",
   "execution_count": 69,
   "id": "8dd18cc5",
   "metadata": {
    "execution": {
     "iopub.execute_input": "2023-10-05T20:27:09.369737Z",
     "iopub.status.busy": "2023-10-05T20:27:09.369452Z",
     "iopub.status.idle": "2023-10-05T20:27:09.376489Z",
     "shell.execute_reply": "2023-10-05T20:27:09.375610Z"
    },
    "type_information": "[{\"type\": \"<class 'numpy.ndarray'>\", \"name\": \"ndarray\", \"module\": \"numpy\", \"size\": 200, \"shape\": \"(3, 3)\", \"dtype\": \"int64\"}]"
   },
   "outputs": [
    {
     "data": {
      "text/plain": [
       "array([[2, 3, 4],\n",
       "       [5, 6, 7],\n",
       "       [5, 8, 9]])"
      ]
     },
     "execution_count": 69,
     "metadata": {},
     "output_type": "execute_result"
    }
   ],
   "source": [
    "array1 = np.array([[2,3,4],\n",
    "                   [5,6,7]])\n",
    "\n",
    "array2 = np.array([[5,8,9]])\n",
    "\n",
    "np.concatenate([array1,array2],axis=0)"
   ]
  },
  {
   "cell_type": "code",
   "execution_count": 71,
   "id": "f9c07267",
   "metadata": {
    "execution": {
     "iopub.execute_input": "2023-10-05T20:27:09.389226Z",
     "iopub.status.busy": "2023-10-05T20:27:09.388616Z",
     "iopub.status.idle": "2023-10-05T20:27:09.396076Z",
     "shell.execute_reply": "2023-10-05T20:27:09.395193Z"
    },
    "type_information": "[{\"type\": \"<class 'numpy.ndarray'>\", \"name\": \"ndarray\", \"module\": \"numpy\", \"size\": 224, \"shape\": \"(4, 3)\", \"dtype\": \"int64\"}]"
   },
   "outputs": [
    {
     "data": {
      "text/plain": [
       "array([[2, 3, 4],\n",
       "       [5, 6, 7],\n",
       "       [5, 8, 9],\n",
       "       [0, 0, 0]])"
      ]
     },
     "execution_count": 71,
     "metadata": {},
     "output_type": "execute_result"
    }
   ],
   "source": [
    "array1 = np.array([[2,3,4],\n",
    "                   [5,6,7]])\n",
    "\n",
    "array2 = np.array([[5,8,9]])\n",
    "array3 = np.array([[0,0,0]])\n",
    "\n",
    "np.concatenate([array1,array2,array3],axis=0)"
   ]
  },
  {
   "cell_type": "markdown",
   "id": "469cd47a",
   "metadata": {},
   "source": [
    "## Concatenation along columns in matrix\n"
   ]
  },
  {
   "cell_type": "raw",
   "id": "35fcd86d",
   "metadata": {},
   "source": [
    "# if we are concatenating columns in the matrix then no. of rows has to be same\n",
    "# Axis has to be set to 1 for column appending"
   ]
  },
  {
   "cell_type": "code",
   "execution_count": 73,
   "id": "51f9e723",
   "metadata": {
    "execution": {
     "iopub.execute_input": "2023-10-05T20:27:09.408244Z",
     "iopub.status.busy": "2023-10-05T20:27:09.407936Z",
     "iopub.status.idle": "2023-10-05T20:27:09.415003Z",
     "shell.execute_reply": "2023-10-05T20:27:09.414135Z"
    },
    "type_information": "[{\"type\": \"<class 'numpy.ndarray'>\", \"name\": \"ndarray\", \"module\": \"numpy\", \"size\": 192, \"shape\": \"(2, 4)\", \"dtype\": \"int64\"}]"
   },
   "outputs": [
    {
     "data": {
      "text/plain": [
       "array([[2, 3, 4, 5],\n",
       "       [5, 6, 7, 0]])"
      ]
     },
     "execution_count": 73,
     "metadata": {},
     "output_type": "execute_result"
    }
   ],
   "source": [
    "array1 = np.array([[2,3,4],\n",
    "                   [5,6,7]])\n",
    "\n",
    "array2 = np.array([[5],\n",
    "                   [0]])\n",
    "\n",
    "np.concatenate([array1,array2],axis=1)"
   ]
  },
  {
   "cell_type": "code",
   "execution_count": 75,
   "id": "d6421f59",
   "metadata": {
    "execution": {
     "iopub.execute_input": "2023-10-05T20:27:09.427133Z",
     "iopub.status.busy": "2023-10-05T20:27:09.426506Z",
     "iopub.status.idle": "2023-10-05T20:27:09.434257Z",
     "shell.execute_reply": "2023-10-05T20:27:09.433390Z"
    },
    "type_information": "[{\"type\": \"<class 'numpy.ndarray'>\", \"name\": \"ndarray\", \"module\": \"numpy\", \"size\": 224, \"shape\": \"(2, 6)\", \"dtype\": \"int64\"}]"
   },
   "outputs": [
    {
     "data": {
      "text/plain": [
       "array([[2, 3, 4, 5, 5, 1],\n",
       "       [5, 6, 7, 0, 6, 1]])"
      ]
     },
     "execution_count": 75,
     "metadata": {},
     "output_type": "execute_result"
    }
   ],
   "source": [
    "array1 = np.array([[2,3,4],\n",
    "                   [5,6,7]])\n",
    "\n",
    "array2 = np.array([[5,5],\n",
    "                   [0,6]])\n",
    "array3 = np.array([[1],\n",
    "                   [1]])\n",
    "\n",
    "con_c_array=np.concatenate([array1,array2,array3],axis=1)\n",
    "con_c_array"
   ]
  },
  {
   "cell_type": "markdown",
   "id": "49f31c1e",
   "metadata": {},
   "source": [
    "# Looping on array"
   ]
  },
  {
   "cell_type": "code",
   "execution_count": 77,
   "id": "5fc0ff02",
   "metadata": {
    "error": [
     {
      "ename": "KeyError",
      "evalue": "77",
      "output_type": "error",
      "traceback": [
       "\u001b[0;31m---------------------------------------------------------------------------\u001b[0m",
       "\u001b[0;31mKeyError\u001b[0m                                  Traceback (most recent call last)",
       "Cell \u001b[0;32mIn[78], line 1\u001b[0m\n\u001b[0;32m----> 1\u001b[0m json\u001b[38;5;241m.\u001b[39mdumps([typehandlerforuniqueobjects(\u001b[43mOut\u001b[49m\u001b[43m[\u001b[49m\u001b[38;5;241;43m77\u001b[39;49m\u001b[43m]\u001b[49m)])\n",
       "\u001b[0;31mKeyError\u001b[0m: 77"
      ]
     }
    ],
    "execution": {
     "iopub.execute_input": "2023-10-05T20:27:09.446338Z",
     "iopub.status.busy": "2023-10-05T20:27:09.446056Z",
     "iopub.status.idle": "2023-10-05T20:27:09.451205Z",
     "shell.execute_reply": "2023-10-05T20:27:09.450318Z"
    }
   },
   "outputs": [
    {
     "name": "stdout",
     "output_type": "stream",
     "text": [
      "2\n",
      "3\n",
      "4\n",
      "6\n",
      "7\n"
     ]
    }
   ],
   "source": [
    "array1 = np.array([2,3,4,6,7])\n",
    "for i in array1:\n",
    "    print(i)"
   ]
  },
  {
   "cell_type": "code",
   "execution_count": 79,
   "id": "1eefc1d4",
   "metadata": {
    "error": [
     {
      "ename": "KeyError",
      "evalue": "79",
      "output_type": "error",
      "traceback": [
       "\u001b[0;31m---------------------------------------------------------------------------\u001b[0m",
       "\u001b[0;31mKeyError\u001b[0m                                  Traceback (most recent call last)",
       "Cell \u001b[0;32mIn[80], line 1\u001b[0m\n\u001b[0;32m----> 1\u001b[0m json\u001b[38;5;241m.\u001b[39mdumps([typehandlerforuniqueobjects(\u001b[43mOut\u001b[49m\u001b[43m[\u001b[49m\u001b[38;5;241;43m79\u001b[39;49m\u001b[43m]\u001b[49m)])\n",
       "\u001b[0;31mKeyError\u001b[0m: 79"
      ]
     }
    ],
    "execution": {
     "iopub.execute_input": "2023-10-05T20:27:09.479936Z",
     "iopub.status.busy": "2023-10-05T20:27:09.479299Z",
     "iopub.status.idle": "2023-10-05T20:27:09.484526Z",
     "shell.execute_reply": "2023-10-05T20:27:09.483596Z"
    }
   },
   "outputs": [
    {
     "name": "stdout",
     "output_type": "stream",
     "text": [
      "[2 3 4 6 7]\n"
     ]
    }
   ],
   "source": [
    "array1 = np.array([[2,3,4,6,7]])\n",
    "for i in array1:\n",
    "    print(i)"
   ]
  },
  {
   "cell_type": "code",
   "execution_count": 81,
   "id": "509988c0",
   "metadata": {
    "error": [
     {
      "ename": "KeyError",
      "evalue": "81",
      "output_type": "error",
      "traceback": [
       "\u001b[0;31m---------------------------------------------------------------------------\u001b[0m",
       "\u001b[0;31mKeyError\u001b[0m                                  Traceback (most recent call last)",
       "Cell \u001b[0;32mIn[82], line 1\u001b[0m\n\u001b[0;32m----> 1\u001b[0m json\u001b[38;5;241m.\u001b[39mdumps([typehandlerforuniqueobjects(\u001b[43mOut\u001b[49m\u001b[43m[\u001b[49m\u001b[38;5;241;43m81\u001b[39;49m\u001b[43m]\u001b[49m)])\n",
       "\u001b[0;31mKeyError\u001b[0m: 81"
      ]
     }
    ],
    "execution": {
     "iopub.execute_input": "2023-10-05T20:27:09.512549Z",
     "iopub.status.busy": "2023-10-05T20:27:09.512267Z",
     "iopub.status.idle": "2023-10-05T20:27:09.517517Z",
     "shell.execute_reply": "2023-10-05T20:27:09.516608Z"
    }
   },
   "outputs": [
    {
     "name": "stdout",
     "output_type": "stream",
     "text": [
      "(0, 2)\n",
      "(1, 3)\n",
      "(2, 4)\n",
      "(3, 6)\n",
      "(4, 7)\n"
     ]
    }
   ],
   "source": [
    "array1 = np.array([2,3,4,6,7])\n",
    "for i in enumerate(array1):\n",
    "    print(i)"
   ]
  },
  {
   "cell_type": "code",
   "execution_count": 83,
   "id": "57fb33ff",
   "metadata": {
    "error": [
     {
      "ename": "KeyError",
      "evalue": "83",
      "output_type": "error",
      "traceback": [
       "\u001b[0;31m---------------------------------------------------------------------------\u001b[0m",
       "\u001b[0;31mKeyError\u001b[0m                                  Traceback (most recent call last)",
       "Cell \u001b[0;32mIn[84], line 1\u001b[0m\n\u001b[0;32m----> 1\u001b[0m json\u001b[38;5;241m.\u001b[39mdumps([typehandlerforuniqueobjects(\u001b[43mOut\u001b[49m\u001b[43m[\u001b[49m\u001b[38;5;241;43m83\u001b[39;49m\u001b[43m]\u001b[49m)])\n",
       "\u001b[0;31mKeyError\u001b[0m: 83"
      ]
     }
    ],
    "execution": {
     "iopub.execute_input": "2023-10-05T20:27:09.546772Z",
     "iopub.status.busy": "2023-10-05T20:27:09.546481Z",
     "iopub.status.idle": "2023-10-05T20:27:09.551840Z",
     "shell.execute_reply": "2023-10-05T20:27:09.550928Z"
    }
   },
   "outputs": [
    {
     "name": "stdout",
     "output_type": "stream",
     "text": [
      "0 2\n",
      "1 3\n",
      "2 4\n",
      "3 6\n",
      "4 7\n"
     ]
    }
   ],
   "source": [
    "array1 = np.array([2,3,4,6,7])\n",
    "for index,value in enumerate(array1):\n",
    "    print(index,value)"
   ]
  },
  {
   "cell_type": "code",
   "execution_count": 85,
   "id": "42e68117",
   "metadata": {
    "error": [
     {
      "ename": "KeyError",
      "evalue": "85",
      "output_type": "error",
      "traceback": [
       "\u001b[0;31m---------------------------------------------------------------------------\u001b[0m",
       "\u001b[0;31mKeyError\u001b[0m                                  Traceback (most recent call last)",
       "Cell \u001b[0;32mIn[86], line 1\u001b[0m\n\u001b[0;32m----> 1\u001b[0m json\u001b[38;5;241m.\u001b[39mdumps([typehandlerforuniqueobjects(\u001b[43mOut\u001b[49m\u001b[43m[\u001b[49m\u001b[38;5;241;43m85\u001b[39;49m\u001b[43m]\u001b[49m)])\n",
       "\u001b[0;31mKeyError\u001b[0m: 85"
      ]
     }
    ],
    "execution": {
     "iopub.execute_input": "2023-10-05T20:27:09.579810Z",
     "iopub.status.busy": "2023-10-05T20:27:09.579521Z",
     "iopub.status.idle": "2023-10-05T20:27:09.586424Z",
     "shell.execute_reply": "2023-10-05T20:27:09.585522Z"
    }
   },
   "outputs": [
    {
     "name": "stdout",
     "output_type": "stream",
     "text": [
      "[2 3 4]\n",
      "[5 6 7]\n",
      "[5 8 9]\n",
      "[0 0 0]\n",
      "\n",
      "0 [2 3 4]\n",
      "1 [5 6 7]\n",
      "2 [5 8 9]\n",
      "3 [0 0 0]\n"
     ]
    }
   ],
   "source": [
    "RRR = np.array([[2, 3, 4],\n",
    "       [5, 6, 7],\n",
    "       [5, 8, 9],\n",
    "       [0, 0, 0]])\n",
    "\n",
    "for i in RRR:\n",
    "    print(i)\n",
    "    \n",
    "print()\n",
    "for i,v in enumerate(RRR):\n",
    "    print(i,v)"
   ]
  },
  {
   "cell_type": "markdown",
   "id": "1ba75994",
   "metadata": {},
   "source": [
    "## np.nditer()"
   ]
  },
  {
   "cell_type": "code",
   "execution_count": 87,
   "id": "2eb98291",
   "metadata": {
    "error": [
     {
      "ename": "KeyError",
      "evalue": "87",
      "output_type": "error",
      "traceback": [
       "\u001b[0;31m---------------------------------------------------------------------------\u001b[0m",
       "\u001b[0;31mKeyError\u001b[0m                                  Traceback (most recent call last)",
       "Cell \u001b[0;32mIn[88], line 1\u001b[0m\n\u001b[0;32m----> 1\u001b[0m json\u001b[38;5;241m.\u001b[39mdumps([typehandlerforuniqueobjects(\u001b[43mOut\u001b[49m\u001b[43m[\u001b[49m\u001b[38;5;241;43m87\u001b[39;49m\u001b[43m]\u001b[49m)])\n",
       "\u001b[0;31mKeyError\u001b[0m: 87"
      ]
     }
    ],
    "execution": {
     "iopub.execute_input": "2023-10-05T20:27:09.614685Z",
     "iopub.status.busy": "2023-10-05T20:27:09.614398Z",
     "iopub.status.idle": "2023-10-05T20:27:09.620363Z",
     "shell.execute_reply": "2023-10-05T20:27:09.619475Z"
    }
   },
   "outputs": [
    {
     "name": "stdout",
     "output_type": "stream",
     "text": [
      "2\n",
      "3\n",
      "4\n",
      "5\n",
      "6\n",
      "7\n",
      "5\n",
      "8\n",
      "9\n",
      "0\n",
      "0\n",
      "0\n"
     ]
    }
   ],
   "source": [
    "RRR = np.array([[2, 3, 4],\n",
    "       [5, 6, 7],\n",
    "       [5, 8, 9],\n",
    "       [0, 0, 0]])\n",
    "\n",
    "for i in np.nditer(RRR):\n",
    "    print(i)"
   ]
  },
  {
   "cell_type": "code",
   "execution_count": 89,
   "id": "6908a3d9",
   "metadata": {
    "error": [
     {
      "ename": "KeyError",
      "evalue": "89",
      "output_type": "error",
      "traceback": [
       "\u001b[0;31m---------------------------------------------------------------------------\u001b[0m",
       "\u001b[0;31mKeyError\u001b[0m                                  Traceback (most recent call last)",
       "Cell \u001b[0;32mIn[90], line 1\u001b[0m\n\u001b[0;32m----> 1\u001b[0m json\u001b[38;5;241m.\u001b[39mdumps([typehandlerforuniqueobjects(\u001b[43mOut\u001b[49m\u001b[43m[\u001b[49m\u001b[38;5;241;43m89\u001b[39;49m\u001b[43m]\u001b[49m)])\n",
       "\u001b[0;31mKeyError\u001b[0m: 89"
      ]
     }
    ],
    "execution": {
     "iopub.execute_input": "2023-10-05T20:27:09.648570Z",
     "iopub.status.busy": "2023-10-05T20:27:09.648286Z",
     "iopub.status.idle": "2023-10-05T20:27:09.653481Z",
     "shell.execute_reply": "2023-10-05T20:27:09.652580Z"
    }
   },
   "outputs": [
    {
     "name": "stdout",
     "output_type": "stream",
     "text": [
      "2\n",
      "3\n",
      "4\n",
      "5\n",
      "6\n",
      "7\n",
      "5\n",
      "8\n",
      "9\n",
      "0\n",
      "0\n",
      "0\n"
     ]
    }
   ],
   "source": [
    "for i in (RRR):\n",
    "    for j in range(len(i)):print(i[j])"
   ]
  },
  {
   "cell_type": "markdown",
   "id": "fb4189bd",
   "metadata": {},
   "source": [
    "## np.ndenumerate()"
   ]
  },
  {
   "cell_type": "code",
   "execution_count": 91,
   "id": "3e8ee5c6",
   "metadata": {
    "debugging_output": [
     {
      "name": "stdout",
      "output_type": "stream",
      "text": "Out[91][0]\nTraceback (most recent call last):\n  File \"/tmp/ipykernel_20/378368979.py\", line 5, in <module>\n    outputs.append(typehandlerforuniqueobjects(Out[91][i]))\nKeyError: 91\n\nOut[91][1]\nTraceback (most recent call last):\n  File \"/tmp/ipykernel_20/378368979.py\", line 5, in <module>\n    outputs.append(typehandlerforuniqueobjects(Out[91][i]))\nKeyError: 91\n\n"
     }
    ],
    "execution": {
     "iopub.execute_input": "2023-10-05T20:27:09.681398Z",
     "iopub.status.busy": "2023-10-05T20:27:09.681113Z",
     "iopub.status.idle": "2023-10-05T20:27:09.688033Z",
     "shell.execute_reply": "2023-10-05T20:27:09.687130Z"
    }
   },
   "outputs": [
    {
     "data": {
      "text/plain": [
       "array([[2, 3, 4],\n",
       "       [5, 6, 7],\n",
       "       [5, 8, 9],\n",
       "       [0, 0, 0]])"
      ]
     },
     "metadata": {},
     "output_type": "display_data"
    },
    {
     "name": "stdout",
     "output_type": "stream",
     "text": [
      "(0, 0) 2\n",
      "(0, 1) 3\n",
      "(0, 2) 4\n",
      "(1, 0) 5\n",
      "(1, 1) 6\n",
      "(1, 2) 7\n",
      "(2, 0) 5\n",
      "(2, 1) 8\n",
      "(2, 2) 9\n",
      "(3, 0) 0\n",
      "(3, 1) 0\n",
      "(3, 2) 0\n"
     ]
    }
   ],
   "source": [
    "display(RRR)\n",
    "for i,v in np.ndenumerate(RRR):\n",
    "    print(i,v)"
   ]
  },
  {
   "cell_type": "code",
   "execution_count": 93,
   "id": "6bdf4d20",
   "metadata": {
    "execution": {
     "iopub.execute_input": "2023-10-05T20:27:09.701247Z",
     "iopub.status.busy": "2023-10-05T20:27:09.700944Z",
     "iopub.status.idle": "2023-10-05T20:27:09.709121Z",
     "shell.execute_reply": "2023-10-05T20:27:09.708246Z"
    },
    "type_information": "[{\"type\": \"<class 'str'>\", \"name\": \"str\", \"module\": \"builtins\", \"size\": 80}]"
   },
   "outputs": [
    {
     "data": {
      "text/plain": [
       "'please give another combination'"
      ]
     },
     "execution_count": 93,
     "metadata": {},
     "output_type": "execute_result"
    }
   ],
   "source": [
    "# big_brick = 5 * small_bricks\n",
    "# small_bricks = 1\n",
    "\n",
    "# area = 12\n",
    "\n",
    "def wall(big_brick,small_bricks,area=12):\n",
    "    \n",
    "    access = big_brick*5 - area\n",
    "    a=1\n",
    "    for i in range(5,50,5):\n",
    "        if access < i:\n",
    "            big_brick-=a\n",
    "            break\n",
    "        a+=1\n",
    "            \n",
    "    if big_brick+small_bricks==area:\n",
    "        return 'wall constructed successfully'\n",
    "    else:\n",
    "        return 'please give another combination'\n",
    "\n",
    "wall(3,2,12)\n",
    "    "
   ]
  }
 ],
 "metadata": {
  "hide_input": false,
  "kernelspec": {
   "display_name": "Python 3 (ipykernel)",
   "language": "python",
   "name": "python3"
  },
  "language_info": {
   "codemirror_mode": {
    "name": "ipython",
    "version": 3
   },
   "file_extension": ".py",
   "mimetype": "text/x-python",
   "name": "python",
   "nbconvert_exporter": "python",
   "pygments_lexer": "ipython3",
   "version": "3.9.13"
  },
  "toc": {
   "base_numbering": 1,
   "nav_menu": {},
   "number_sections": true,
   "sideBar": true,
   "skip_h1_title": false,
   "title_cell": "Table of Contents",
   "title_sidebar": "Contents",
   "toc_cell": false,
   "toc_position": {},
   "toc_section_display": true,
   "toc_window_display": false
  }
 },
 "nbformat": 4,
 "nbformat_minor": 5
}
