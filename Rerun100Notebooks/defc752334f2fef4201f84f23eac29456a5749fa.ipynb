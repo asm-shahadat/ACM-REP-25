{
 "cells": [
  {
   "cell_type": "markdown",
   "id": "7d870f27",
   "metadata": {},
   "source": [
    "# Numpy\n",
    "- Numpy is fumdamental package for scientific computing in python.It is a python library that provides amulti dimensional arrays, including mathematical, logical, shape, and more.\n",
    "\n",
    "- At the core of numpy is ndim array which is encapsulates in n-dimentional array of homogeneous data types.\n",
    "\n",
    "# why numpy array\n",
    "- Numpy array have a fixed at creation, unlike python list. Channging the size of ndarray will create a new array and delete the original.\n",
    "- numpy facilate advance mathematical and other operations on large numbers of data.\n",
    "\n",
    "- numpy has speed of C which is fast data type compare to other python datatype and simple syntax of python"
   ]
  },
  {
   "cell_type": "code",
   "execution_count": 2,
   "id": "a259ea07",
   "metadata": {
    "execution": {
     "iopub.execute_input": "2023-10-05T17:53:53.776934Z",
     "iopub.status.busy": "2023-10-05T17:53:53.776642Z",
     "iopub.status.idle": "2023-10-05T17:53:53.862059Z",
     "shell.execute_reply": "2023-10-05T17:53:53.861028Z"
    }
   },
   "outputs": [],
   "source": [
    "import numpy as np"
   ]
  },
  {
   "cell_type": "code",
   "execution_count": 3,
   "id": "4160d036",
   "metadata": {
    "execution": {
     "iopub.execute_input": "2023-10-05T17:53:53.866157Z",
     "iopub.status.busy": "2023-10-05T17:53:53.865267Z",
     "iopub.status.idle": "2023-10-05T17:53:53.874850Z",
     "shell.execute_reply": "2023-10-05T17:53:53.873884Z"
    },
    "type_information": "[{\"type\": \"<class 'numpy.ndarray'>\", \"name\": \"ndarray\", \"module\": \"numpy\", \"size\": 136, \"shape\": \"(3,)\", \"dtype\": \"int64\"}]"
   },
   "outputs": [
    {
     "data": {
      "text/plain": [
       "array([1, 2, 3])"
      ]
     },
     "execution_count": 3,
     "metadata": {},
     "output_type": "execute_result"
    }
   ],
   "source": [
    "# create numpy\n",
    "np.array([1,2,3])"
   ]
  },
  {
   "cell_type": "code",
   "execution_count": 5,
   "id": "193ba380",
   "metadata": {
    "execution": {
     "iopub.execute_input": "2023-10-05T17:53:53.887577Z",
     "iopub.status.busy": "2023-10-05T17:53:53.886960Z",
     "iopub.status.idle": "2023-10-05T17:53:53.892792Z",
     "shell.execute_reply": "2023-10-05T17:53:53.891885Z"
    },
    "type_information": "[{\"type\": \"<class 'type'>\", \"name\": \"type\", \"module\": \"builtins\", \"size\": 408}]"
   },
   "outputs": [
    {
     "data": {
      "text/plain": [
       "numpy.ndarray"
      ]
     },
     "execution_count": 5,
     "metadata": {},
     "output_type": "execute_result"
    }
   ],
   "source": [
    "a=np.array([1,2,3]) #1D array or vector\n",
    "type(a)"
   ]
  },
  {
   "cell_type": "code",
   "execution_count": 7,
   "id": "e4601aae",
   "metadata": {
    "error": [
     {
      "ename": "KeyError",
      "evalue": "7",
      "output_type": "error",
      "traceback": [
       "\u001b[0;31m---------------------------------------------------------------------------\u001b[0m",
       "\u001b[0;31mKeyError\u001b[0m                                  Traceback (most recent call last)",
       "Cell \u001b[0;32mIn[8], line 1\u001b[0m\n\u001b[0;32m----> 1\u001b[0m json\u001b[38;5;241m.\u001b[39mdumps([typehandlerforuniqueobjects(\u001b[43mOut\u001b[49m\u001b[43m[\u001b[49m\u001b[38;5;241;43m7\u001b[39;49m\u001b[43m]\u001b[49m)])\n",
       "\u001b[0;31mKeyError\u001b[0m: 7"
      ]
     }
    ],
    "execution": {
     "iopub.execute_input": "2023-10-05T17:53:53.905056Z",
     "iopub.status.busy": "2023-10-05T17:53:53.904431Z",
     "iopub.status.idle": "2023-10-05T17:53:53.909878Z",
     "shell.execute_reply": "2023-10-05T17:53:53.908893Z"
    }
   },
   "outputs": [
    {
     "name": "stdout",
     "output_type": "stream",
     "text": [
      "[[1 2 3]\n",
      " [4 5 6]]\n"
     ]
    }
   ],
   "source": [
    "# 2D And 3D\n",
    "\n",
    "b = np.array([[1,2,3],[4,5,6]]) # 2D or matrix\n",
    "print(b)"
   ]
  },
  {
   "cell_type": "code",
   "execution_count": 9,
   "id": "e4e8f3d3",
   "metadata": {
    "execution": {
     "iopub.execute_input": "2023-10-05T17:53:54.264312Z",
     "iopub.status.busy": "2023-10-05T17:53:54.263972Z",
     "iopub.status.idle": "2023-10-05T17:53:54.270834Z",
     "shell.execute_reply": "2023-10-05T17:53:54.269733Z"
    },
    "type_information": "[{\"type\": \"<class 'type'>\", \"name\": \"type\", \"module\": \"builtins\", \"size\": 408}]"
   },
   "outputs": [
    {
     "data": {
      "text/plain": [
       "numpy.ndarray"
      ]
     },
     "execution_count": 9,
     "metadata": {},
     "output_type": "execute_result"
    }
   ],
   "source": [
    "type(b)"
   ]
  },
  {
   "cell_type": "code",
   "execution_count": 11,
   "id": "963cb420",
   "metadata": {
    "error": [
     {
      "ename": "KeyError",
      "evalue": "11",
      "output_type": "error",
      "traceback": [
       "\u001b[0;31m---------------------------------------------------------------------------\u001b[0m",
       "\u001b[0;31mKeyError\u001b[0m                                  Traceback (most recent call last)",
       "Cell \u001b[0;32mIn[12], line 1\u001b[0m\n\u001b[0;32m----> 1\u001b[0m json\u001b[38;5;241m.\u001b[39mdumps([typehandlerforuniqueobjects(\u001b[43mOut\u001b[49m\u001b[43m[\u001b[49m\u001b[38;5;241;43m11\u001b[39;49m\u001b[43m]\u001b[49m)])\n",
       "\u001b[0;31mKeyError\u001b[0m: 11"
      ]
     }
    ],
    "execution": {
     "iopub.execute_input": "2023-10-05T17:53:54.284711Z",
     "iopub.status.busy": "2023-10-05T17:53:54.284412Z",
     "iopub.status.idle": "2023-10-05T17:53:54.290231Z",
     "shell.execute_reply": "2023-10-05T17:53:54.289213Z"
    }
   },
   "outputs": [
    {
     "name": "stdout",
     "output_type": "stream",
     "text": [
      "[[[1 2 3]\n",
      "  [4 5 6]\n",
      "  [7 8 9]]]\n"
     ]
    }
   ],
   "source": [
    "c = np.array([[[1,2,3],[4,5,6,],[7,8,9]]]) # 3D or tensor\n",
    "print(c)"
   ]
  },
  {
   "cell_type": "code",
   "execution_count": 13,
   "id": "7501f459",
   "metadata": {
    "execution": {
     "iopub.execute_input": "2023-10-05T17:53:54.319272Z",
     "iopub.status.busy": "2023-10-05T17:53:54.318972Z",
     "iopub.status.idle": "2023-10-05T17:53:54.325622Z",
     "shell.execute_reply": "2023-10-05T17:53:54.324638Z"
    },
    "type_information": "[{\"type\": \"<class 'numpy.ndarray'>\", \"name\": \"ndarray\", \"module\": \"numpy\", \"size\": 136, \"shape\": \"(3,)\", \"dtype\": \"float64\"}]"
   },
   "outputs": [
    {
     "data": {
      "text/plain": [
       "array([1., 2., 3.])"
      ]
     },
     "execution_count": 13,
     "metadata": {},
     "output_type": "execute_result"
    }
   ],
   "source": [
    "# dtype int to float\n",
    "np.array([1,2,3],dtype=float)"
   ]
  },
  {
   "cell_type": "code",
   "execution_count": 15,
   "id": "6d4942f7",
   "metadata": {
    "execution": {
     "iopub.execute_input": "2023-10-05T17:53:54.339318Z",
     "iopub.status.busy": "2023-10-05T17:53:54.339019Z",
     "iopub.status.idle": "2023-10-05T17:53:54.345475Z",
     "shell.execute_reply": "2023-10-05T17:53:54.344504Z"
    },
    "type_information": "[{\"type\": \"<class 'numpy.ndarray'>\", \"name\": \"ndarray\", \"module\": \"numpy\", \"size\": 160, \"shape\": \"(3,)\", \"dtype\": \"complex128\"}]"
   },
   "outputs": [
    {
     "data": {
      "text/plain": [
       "array([1.+0.j, 2.+0.j, 3.+0.j])"
      ]
     },
     "execution_count": 15,
     "metadata": {},
     "output_type": "execute_result"
    }
   ],
   "source": [
    "# dtype int to float\n",
    "np.array([1,2,3],dtype=complex)"
   ]
  },
  {
   "cell_type": "code",
   "execution_count": 17,
   "id": "1b2e36ac",
   "metadata": {
    "execution": {
     "iopub.execute_input": "2023-10-05T17:53:54.358561Z",
     "iopub.status.busy": "2023-10-05T17:53:54.358266Z",
     "iopub.status.idle": "2023-10-05T17:53:54.364588Z",
     "shell.execute_reply": "2023-10-05T17:53:54.363573Z"
    },
    "type_information": "[{\"type\": \"<class 'numpy.ndarray'>\", \"name\": \"ndarray\", \"module\": \"numpy\", \"size\": 192, \"shape\": \"(10,)\", \"dtype\": \"int64\"}]"
   },
   "outputs": [
    {
     "data": {
      "text/plain": [
       "array([ 1,  2,  3,  4,  5,  6,  7,  8,  9, 10])"
      ]
     },
     "execution_count": 17,
     "metadata": {},
     "output_type": "execute_result"
    }
   ],
   "source": [
    "# np.arange\n",
    "np.arange(1,11)"
   ]
  },
  {
   "cell_type": "code",
   "execution_count": 19,
   "id": "3dae1c62",
   "metadata": {
    "execution": {
     "iopub.execute_input": "2023-10-05T17:53:54.378175Z",
     "iopub.status.busy": "2023-10-05T17:53:54.377865Z",
     "iopub.status.idle": "2023-10-05T17:53:54.384015Z",
     "shell.execute_reply": "2023-10-05T17:53:54.383058Z"
    },
    "type_information": "[{\"type\": \"<class 'numpy.ndarray'>\", \"name\": \"ndarray\", \"module\": \"numpy\", \"size\": 152, \"shape\": \"(5,)\", \"dtype\": \"int64\"}]"
   },
   "outputs": [
    {
     "data": {
      "text/plain": [
       "array([1, 3, 5, 7, 9])"
      ]
     },
     "execution_count": 19,
     "metadata": {},
     "output_type": "execute_result"
    }
   ],
   "source": [
    "# np.arange (alternate)\n",
    "np.arange(1,11,2)"
   ]
  },
  {
   "cell_type": "code",
   "execution_count": 21,
   "id": "7bf6dc8f",
   "metadata": {
    "execution": {
     "iopub.execute_input": "2023-10-05T17:53:54.397354Z",
     "iopub.status.busy": "2023-10-05T17:53:54.397057Z",
     "iopub.status.idle": "2023-10-05T17:53:54.403430Z",
     "shell.execute_reply": "2023-10-05T17:53:54.402470Z"
    },
    "type_information": "[{\"type\": \"<class 'numpy.ndarray'>\", \"name\": \"ndarray\", \"module\": \"numpy\", \"size\": 128, \"shape\": \"(5, 2)\", \"dtype\": \"int64\"}]"
   },
   "outputs": [
    {
     "data": {
      "text/plain": [
       "array([[ 1,  2],\n",
       "       [ 3,  4],\n",
       "       [ 5,  6],\n",
       "       [ 7,  8],\n",
       "       [ 9, 10]])"
      ]
     },
     "execution_count": 21,
     "metadata": {},
     "output_type": "execute_result"
    }
   ],
   "source": [
    "# reshape\n",
    "np.arange(1,11).reshape(5,2)"
   ]
  },
  {
   "cell_type": "code",
   "execution_count": 23,
   "id": "ccd53c39",
   "metadata": {
    "execution": {
     "iopub.execute_input": "2023-10-05T17:53:54.418020Z",
     "iopub.status.busy": "2023-10-05T17:53:54.417717Z",
     "iopub.status.idle": "2023-10-05T17:53:54.423975Z",
     "shell.execute_reply": "2023-10-05T17:53:54.422988Z"
    },
    "type_information": "[{\"type\": \"<class 'numpy.ndarray'>\", \"name\": \"ndarray\", \"module\": \"numpy\", \"size\": 224, \"shape\": \"(3, 4)\", \"dtype\": \"float64\"}]"
   },
   "outputs": [
    {
     "data": {
      "text/plain": [
       "array([[1., 1., 1., 1.],\n",
       "       [1., 1., 1., 1.],\n",
       "       [1., 1., 1., 1.]])"
      ]
     },
     "execution_count": 23,
     "metadata": {},
     "output_type": "execute_result"
    }
   ],
   "source": [
    "# np.ones and np.zeros\n",
    "np.ones((3,4)) # use to initialized wieghts in neural network "
   ]
  },
  {
   "cell_type": "code",
   "execution_count": 25,
   "id": "199840c2",
   "metadata": {
    "execution": {
     "iopub.execute_input": "2023-10-05T17:53:54.437499Z",
     "iopub.status.busy": "2023-10-05T17:53:54.437205Z",
     "iopub.status.idle": "2023-10-05T17:53:54.443563Z",
     "shell.execute_reply": "2023-10-05T17:53:54.442595Z"
    },
    "type_information": "[{\"type\": \"<class 'numpy.ndarray'>\", \"name\": \"ndarray\", \"module\": \"numpy\", \"size\": 224, \"shape\": \"(3, 4)\", \"dtype\": \"float64\"}]"
   },
   "outputs": [
    {
     "data": {
      "text/plain": [
       "array([[0., 0., 0., 0.],\n",
       "       [0., 0., 0., 0.],\n",
       "       [0., 0., 0., 0.]])"
      ]
     },
     "execution_count": 25,
     "metadata": {},
     "output_type": "execute_result"
    }
   ],
   "source": [
    "np.zeros((3,4))"
   ]
  },
  {
   "cell_type": "code",
   "execution_count": 27,
   "id": "b6b5b885",
   "metadata": {
    "execution": {
     "iopub.execute_input": "2023-10-05T17:53:54.456833Z",
     "iopub.status.busy": "2023-10-05T17:53:54.456537Z",
     "iopub.status.idle": "2023-10-05T17:53:54.463313Z",
     "shell.execute_reply": "2023-10-05T17:53:54.462309Z"
    },
    "type_information": "[{\"type\": \"<class 'numpy.ndarray'>\", \"name\": \"ndarray\", \"module\": \"numpy\", \"size\": 224, \"shape\": \"(3, 4)\", \"dtype\": \"float64\"}]"
   },
   "outputs": [
    {
     "data": {
      "text/plain": [
       "array([[0.94544442, 0.27167403, 0.33843556, 0.68197549],\n",
       "       [0.21603765, 0.13765341, 0.31669686, 0.35392508],\n",
       "       [0.82388892, 0.80544107, 0.86462166, 0.20649028]])"
      ]
     },
     "execution_count": 27,
     "metadata": {},
     "output_type": "execute_result"
    }
   ],
   "source": [
    "np.random.random((3,4))"
   ]
  },
  {
   "cell_type": "code",
   "execution_count": 29,
   "id": "2e1c036a",
   "metadata": {
    "execution": {
     "iopub.execute_input": "2023-10-05T17:53:54.476657Z",
     "iopub.status.busy": "2023-10-05T17:53:54.476364Z",
     "iopub.status.idle": "2023-10-05T17:53:54.482945Z",
     "shell.execute_reply": "2023-10-05T17:53:54.481991Z"
    },
    "type_information": "[{\"type\": \"<class 'numpy.ndarray'>\", \"name\": \"ndarray\", \"module\": \"numpy\", \"size\": 112, \"shape\": \"(10,)\", \"dtype\": \"float64\"}]"
   },
   "outputs": [
    {
     "data": {
      "text/plain": [
       "array([-10.        ,  -7.77777778,  -5.55555556,  -3.33333333,\n",
       "        -1.11111111,   1.11111111,   3.33333333,   5.55555556,\n",
       "         7.77777778,  10.        ])"
      ]
     },
     "execution_count": 29,
     "metadata": {},
     "output_type": "execute_result"
    }
   ],
   "source": [
    "# np.linspace (linearly space)\n",
    "np.linspace(-10,10,10) # gives point poin in equal distance"
   ]
  },
  {
   "cell_type": "code",
   "execution_count": 31,
   "id": "b3df6540",
   "metadata": {
    "execution": {
     "iopub.execute_input": "2023-10-05T17:53:54.498306Z",
     "iopub.status.busy": "2023-10-05T17:53:54.497575Z",
     "iopub.status.idle": "2023-10-05T17:53:54.504365Z",
     "shell.execute_reply": "2023-10-05T17:53:54.503282Z"
    },
    "type_information": "[{\"type\": \"<class 'numpy.ndarray'>\", \"name\": \"ndarray\", \"module\": \"numpy\", \"size\": 200, \"shape\": \"(3, 3)\", \"dtype\": \"float64\"}]"
   },
   "outputs": [
    {
     "data": {
      "text/plain": [
       "array([[1., 0., 0.],\n",
       "       [0., 1., 0.],\n",
       "       [0., 0., 1.]])"
      ]
     },
     "execution_count": 31,
     "metadata": {},
     "output_type": "execute_result"
    }
   ],
   "source": [
    "# np.identity\n",
    "np.identity(3)"
   ]
  },
  {
   "cell_type": "markdown",
   "id": "fc8c23aa",
   "metadata": {},
   "source": [
    "# Array Attributes"
   ]
  },
  {
   "cell_type": "code",
   "execution_count": 33,
   "id": "488b503f",
   "metadata": {
    "execution": {
     "iopub.execute_input": "2023-10-05T17:53:54.517506Z",
     "iopub.status.busy": "2023-10-05T17:53:54.517210Z",
     "iopub.status.idle": "2023-10-05T17:53:54.522229Z",
     "shell.execute_reply": "2023-10-05T17:53:54.521203Z"
    }
   },
   "outputs": [],
   "source": [
    "a1 = np.arange(10)\n",
    "a2 = np.arange(12,dtype=float).reshape(3,4)\n",
    "a3 = np.arange(8).reshape(2,2,2)"
   ]
  },
  {
   "cell_type": "code",
   "execution_count": 34,
   "id": "95b8d861",
   "metadata": {
    "error": [
     {
      "ename": "KeyError",
      "evalue": "34",
      "output_type": "error",
      "traceback": [
       "\u001b[0;31m---------------------------------------------------------------------------\u001b[0m",
       "\u001b[0;31mKeyError\u001b[0m                                  Traceback (most recent call last)",
       "Cell \u001b[0;32mIn[35], line 1\u001b[0m\n\u001b[0;32m----> 1\u001b[0m json\u001b[38;5;241m.\u001b[39mdumps([typehandlerforuniqueobjects(\u001b[43mOut\u001b[49m\u001b[43m[\u001b[49m\u001b[38;5;241;43m34\u001b[39;49m\u001b[43m]\u001b[49m)])\n",
       "\u001b[0;31mKeyError\u001b[0m: 34"
      ]
     }
    ],
    "execution": {
     "iopub.execute_input": "2023-10-05T17:53:54.526213Z",
     "iopub.status.busy": "2023-10-05T17:53:54.525602Z",
     "iopub.status.idle": "2023-10-05T17:53:54.531393Z",
     "shell.execute_reply": "2023-10-05T17:53:54.530377Z"
    }
   },
   "outputs": [
    {
     "name": "stdout",
     "output_type": "stream",
     "text": [
      "[0 1 2 3 4 5 6 7 8 9] \n",
      "\n",
      "[[ 0.  1.  2.  3.]\n",
      " [ 4.  5.  6.  7.]\n",
      " [ 8.  9. 10. 11.]] \n",
      "\n",
      "[[[0 1]\n",
      "  [2 3]]\n",
      "\n",
      " [[4 5]\n",
      "  [6 7]]]\n"
     ]
    }
   ],
   "source": [
    "print(a1,\"\\n\")\n",
    "print(a2,\"\\n\")\n",
    "print(a3)"
   ]
  },
  {
   "cell_type": "code",
   "execution_count": 36,
   "id": "ac0a1c00",
   "metadata": {
    "execution": {
     "iopub.execute_input": "2023-10-05T17:53:54.560718Z",
     "iopub.status.busy": "2023-10-05T17:53:54.560420Z",
     "iopub.status.idle": "2023-10-05T17:53:54.566163Z",
     "shell.execute_reply": "2023-10-05T17:53:54.565204Z"
    },
    "type_information": "[{\"type\": \"<class 'int'>\", \"name\": \"int\", \"module\": \"builtins\", \"size\": 28}]"
   },
   "outputs": [
    {
     "data": {
      "text/plain": [
       "2"
      ]
     },
     "execution_count": 36,
     "metadata": {},
     "output_type": "execute_result"
    }
   ],
   "source": [
    "# ndim\n",
    "a2.ndim # no of items present in data"
   ]
  },
  {
   "cell_type": "code",
   "execution_count": 38,
   "id": "62f38602",
   "metadata": {
    "execution": {
     "iopub.execute_input": "2023-10-05T17:53:54.586246Z",
     "iopub.status.busy": "2023-10-05T17:53:54.585609Z",
     "iopub.status.idle": "2023-10-05T17:53:54.591363Z",
     "shell.execute_reply": "2023-10-05T17:53:54.590404Z"
    },
    "type_information": "[{\"type\": \"<class 'tuple'>\", \"name\": \"tuple\", \"module\": \"builtins\", \"size\": 48, \"data\": [{\"type\": \"<class 'int'>\", \"name\": \"int\", \"module\": \"builtins\", \"size\": 28}]}]"
   },
   "outputs": [
    {
     "data": {
      "text/plain": [
       "(10,)"
      ]
     },
     "execution_count": 38,
     "metadata": {},
     "output_type": "execute_result"
    }
   ],
   "source": [
    "# shape\n",
    "a1.shape"
   ]
  },
  {
   "cell_type": "code",
   "execution_count": 40,
   "id": "5c132d54",
   "metadata": {
    "execution": {
     "iopub.execute_input": "2023-10-05T17:53:54.603539Z",
     "iopub.status.busy": "2023-10-05T17:53:54.603250Z",
     "iopub.status.idle": "2023-10-05T17:53:54.609152Z",
     "shell.execute_reply": "2023-10-05T17:53:54.608191Z"
    },
    "type_information": "[{\"type\": \"<class 'tuple'>\", \"name\": \"tuple\", \"module\": \"builtins\", \"size\": 56, \"data\": [{\"type\": \"<class 'int'>\", \"name\": \"int\", \"module\": \"builtins\", \"size\": 28}, {\"type\": \"<class 'int'>\", \"name\": \"int\", \"module\": \"builtins\", \"size\": 28}]}]"
   },
   "outputs": [
    {
     "data": {
      "text/plain": [
       "(3, 4)"
      ]
     },
     "execution_count": 40,
     "metadata": {},
     "output_type": "execute_result"
    }
   ],
   "source": [
    "a2.shape"
   ]
  },
  {
   "cell_type": "code",
   "execution_count": 42,
   "id": "2441e72a",
   "metadata": {
    "execution": {
     "iopub.execute_input": "2023-10-05T17:53:54.621186Z",
     "iopub.status.busy": "2023-10-05T17:53:54.620888Z",
     "iopub.status.idle": "2023-10-05T17:53:54.626673Z",
     "shell.execute_reply": "2023-10-05T17:53:54.625723Z"
    },
    "type_information": "[{\"type\": \"<class 'tuple'>\", \"name\": \"tuple\", \"module\": \"builtins\", \"size\": 64, \"data\": [{\"type\": \"<class 'int'>\", \"name\": \"int\", \"module\": \"builtins\", \"size\": 28}, {\"type\": \"<class 'int'>\", \"name\": \"int\", \"module\": \"builtins\", \"size\": 28}, {\"type\": \"<class 'int'>\", \"name\": \"int\", \"module\": \"builtins\", \"size\": 28}]}]"
   },
   "outputs": [
    {
     "data": {
      "text/plain": [
       "(2, 2, 2)"
      ]
     },
     "execution_count": 42,
     "metadata": {},
     "output_type": "execute_result"
    }
   ],
   "source": [
    "a3.shape"
   ]
  },
  {
   "cell_type": "code",
   "execution_count": 44,
   "id": "0631ab79",
   "metadata": {
    "execution": {
     "iopub.execute_input": "2023-10-05T17:53:54.639565Z",
     "iopub.status.busy": "2023-10-05T17:53:54.638903Z",
     "iopub.status.idle": "2023-10-05T17:53:54.644756Z",
     "shell.execute_reply": "2023-10-05T17:53:54.643812Z"
    },
    "type_information": "[{\"type\": \"<class 'int'>\", \"name\": \"int\", \"module\": \"builtins\", \"size\": 28}]"
   },
   "outputs": [
    {
     "data": {
      "text/plain": [
       "8"
      ]
     },
     "execution_count": 44,
     "metadata": {},
     "output_type": "execute_result"
    }
   ],
   "source": [
    "# size : no of item\n",
    "a3.size"
   ]
  },
  {
   "cell_type": "code",
   "execution_count": 46,
   "id": "4b39ec7b",
   "metadata": {
    "execution": {
     "iopub.execute_input": "2023-10-05T17:53:54.657537Z",
     "iopub.status.busy": "2023-10-05T17:53:54.657245Z",
     "iopub.status.idle": "2023-10-05T17:53:54.662989Z",
     "shell.execute_reply": "2023-10-05T17:53:54.662038Z"
    },
    "type_information": "[{\"type\": \"<class 'int'>\", \"name\": \"int\", \"module\": \"builtins\", \"size\": 28}]"
   },
   "outputs": [
    {
     "data": {
      "text/plain": [
       "12"
      ]
     },
     "execution_count": 46,
     "metadata": {},
     "output_type": "execute_result"
    }
   ],
   "source": [
    "a2.size"
   ]
  },
  {
   "cell_type": "code",
   "execution_count": 48,
   "id": "50b1738d",
   "metadata": {
    "execution": {
     "iopub.execute_input": "2023-10-05T17:53:54.676040Z",
     "iopub.status.busy": "2023-10-05T17:53:54.675156Z",
     "iopub.status.idle": "2023-10-05T17:53:54.680953Z",
     "shell.execute_reply": "2023-10-05T17:53:54.680016Z"
    },
    "type_information": "[{\"type\": \"<class 'int'>\", \"name\": \"int\", \"module\": \"builtins\", \"size\": 28}]"
   },
   "outputs": [
    {
     "data": {
      "text/plain": [
       "8"
      ]
     },
     "execution_count": 48,
     "metadata": {},
     "output_type": "execute_result"
    }
   ],
   "source": [
    "# itemsize : in memmory how much\n",
    "a3.itemsize"
   ]
  },
  {
   "cell_type": "code",
   "execution_count": 50,
   "id": "3746ac10",
   "metadata": {
    "execution": {
     "iopub.execute_input": "2023-10-05T17:53:54.693778Z",
     "iopub.status.busy": "2023-10-05T17:53:54.693114Z",
     "iopub.status.idle": "2023-10-05T17:53:54.698966Z",
     "shell.execute_reply": "2023-10-05T17:53:54.697965Z"
    },
    "type_information": "[{\"type\": \"<class 'int'>\", \"name\": \"int\", \"module\": \"builtins\", \"size\": 28}]"
   },
   "outputs": [
    {
     "data": {
      "text/plain": [
       "8"
      ]
     },
     "execution_count": 50,
     "metadata": {},
     "output_type": "execute_result"
    }
   ],
   "source": [
    "a2.itemsize"
   ]
  },
  {
   "cell_type": "code",
   "execution_count": 52,
   "id": "ed722ab8",
   "metadata": {
    "error": [
     {
      "ename": "KeyError",
      "evalue": "52",
      "output_type": "error",
      "traceback": [
       "\u001b[0;31m---------------------------------------------------------------------------\u001b[0m",
       "\u001b[0;31mKeyError\u001b[0m                                  Traceback (most recent call last)",
       "Cell \u001b[0;32mIn[53], line 1\u001b[0m\n\u001b[0;32m----> 1\u001b[0m json\u001b[38;5;241m.\u001b[39mdumps([typehandlerforuniqueobjects(\u001b[43mOut\u001b[49m\u001b[43m[\u001b[49m\u001b[38;5;241;43m52\u001b[39;49m\u001b[43m]\u001b[49m)])\n",
       "\u001b[0;31mKeyError\u001b[0m: 52"
      ]
     }
    ],
    "execution": {
     "iopub.execute_input": "2023-10-05T17:53:54.711789Z",
     "iopub.status.busy": "2023-10-05T17:53:54.711499Z",
     "iopub.status.idle": "2023-10-05T17:53:54.716943Z",
     "shell.execute_reply": "2023-10-05T17:53:54.715831Z"
    }
   },
   "outputs": [
    {
     "name": "stdout",
     "output_type": "stream",
     "text": [
      "int64\n",
      "float64\n",
      "int64\n"
     ]
    }
   ],
   "source": [
    "# dtype\n",
    "print(a1.dtype)\n",
    "print(a2.dtype)\n",
    "print(a3.dtype)"
   ]
  },
  {
   "cell_type": "markdown",
   "id": "c47d98c9",
   "metadata": {},
   "source": [
    "# Changing Datatype"
   ]
  },
  {
   "cell_type": "code",
   "execution_count": 54,
   "id": "53fa4f9c",
   "metadata": {
    "execution": {
     "iopub.execute_input": "2023-10-05T17:53:54.745668Z",
     "iopub.status.busy": "2023-10-05T17:53:54.745368Z",
     "iopub.status.idle": "2023-10-05T17:53:54.751309Z",
     "shell.execute_reply": "2023-10-05T17:53:54.750348Z"
    },
    "type_information": "[{\"type\": \"<class 'numpy.dtypes.Int64DType'>\", \"name\": \"Int64DType\", \"module\": \"numpy.dtypes\", \"size\": 96}]"
   },
   "outputs": [
    {
     "data": {
      "text/plain": [
       "dtype('int64')"
      ]
     },
     "execution_count": 54,
     "metadata": {},
     "output_type": "execute_result"
    }
   ],
   "source": [
    "# astype\n",
    "a3.dtype"
   ]
  },
  {
   "cell_type": "code",
   "execution_count": 56,
   "id": "cca867ab",
   "metadata": {
    "execution": {
     "iopub.execute_input": "2023-10-05T17:53:54.764383Z",
     "iopub.status.busy": "2023-10-05T17:53:54.764088Z",
     "iopub.status.idle": "2023-10-05T17:53:54.770171Z",
     "shell.execute_reply": "2023-10-05T17:53:54.769199Z"
    },
    "type_information": "[{\"type\": \"<class 'numpy.ndarray'>\", \"name\": \"ndarray\", \"module\": \"numpy\", \"size\": 208, \"shape\": \"(2, 2, 2)\", \"dtype\": \"int64\"}]"
   },
   "outputs": [
    {
     "data": {
      "text/plain": [
       "array([[[0, 1],\n",
       "        [2, 3]],\n",
       "\n",
       "       [[4, 5],\n",
       "        [6, 7]]])"
      ]
     },
     "execution_count": 56,
     "metadata": {},
     "output_type": "execute_result"
    }
   ],
   "source": [
    "a3.astype(np.int64)"
   ]
  },
  {
   "cell_type": "markdown",
   "id": "a831b2d4",
   "metadata": {},
   "source": [
    "# Array Operation"
   ]
  },
  {
   "cell_type": "code",
   "execution_count": 58,
   "id": "2ea94bde",
   "metadata": {
    "execution": {
     "iopub.execute_input": "2023-10-05T17:53:54.783827Z",
     "iopub.status.busy": "2023-10-05T17:53:54.783041Z",
     "iopub.status.idle": "2023-10-05T17:53:54.787874Z",
     "shell.execute_reply": "2023-10-05T17:53:54.786904Z"
    }
   },
   "outputs": [],
   "source": [
    "a1 = np.arange(12).reshape(3,4)\n",
    "a2 = np.arange(12,24).reshape(3,4)"
   ]
  },
  {
   "cell_type": "code",
   "execution_count": 59,
   "id": "e1f9ddb1",
   "metadata": {
    "execution": {
     "iopub.execute_input": "2023-10-05T17:53:54.791982Z",
     "iopub.status.busy": "2023-10-05T17:53:54.791179Z",
     "iopub.status.idle": "2023-10-05T17:53:54.797140Z",
     "shell.execute_reply": "2023-10-05T17:53:54.796190Z"
    },
    "type_information": "[{\"type\": \"<class 'numpy.ndarray'>\", \"name\": \"ndarray\", \"module\": \"numpy\", \"size\": 128, \"shape\": \"(3, 4)\", \"dtype\": \"int64\"}]"
   },
   "outputs": [
    {
     "data": {
      "text/plain": [
       "array([[12, 13, 14, 15],\n",
       "       [16, 17, 18, 19],\n",
       "       [20, 21, 22, 23]])"
      ]
     },
     "execution_count": 59,
     "metadata": {},
     "output_type": "execute_result"
    }
   ],
   "source": [
    "a2"
   ]
  },
  {
   "cell_type": "code",
   "execution_count": 61,
   "id": "65717362",
   "metadata": {
    "execution": {
     "iopub.execute_input": "2023-10-05T17:53:54.810067Z",
     "iopub.status.busy": "2023-10-05T17:53:54.809733Z",
     "iopub.status.idle": "2023-10-05T17:53:54.815767Z",
     "shell.execute_reply": "2023-10-05T17:53:54.814760Z"
    },
    "type_information": "[{\"type\": \"<class 'numpy.ndarray'>\", \"name\": \"ndarray\", \"module\": \"numpy\", \"size\": 128, \"shape\": \"(3, 4)\", \"dtype\": \"int64\"}]"
   },
   "outputs": [
    {
     "data": {
      "text/plain": [
       "array([[ 0,  1,  2,  3],\n",
       "       [ 4,  5,  6,  7],\n",
       "       [ 8,  9, 10, 11]])"
      ]
     },
     "execution_count": 61,
     "metadata": {},
     "output_type": "execute_result"
    }
   ],
   "source": [
    "a1"
   ]
  },
  {
   "cell_type": "code",
   "execution_count": 63,
   "id": "9a02062c",
   "metadata": {
    "execution": {
     "iopub.execute_input": "2023-10-05T17:53:54.828963Z",
     "iopub.status.busy": "2023-10-05T17:53:54.828669Z",
     "iopub.status.idle": "2023-10-05T17:53:54.832657Z",
     "shell.execute_reply": "2023-10-05T17:53:54.831657Z"
    }
   },
   "outputs": [],
   "source": [
    "# Scalar operation\n",
    "# arithmatics operation"
   ]
  },
  {
   "cell_type": "code",
   "execution_count": 64,
   "id": "73cace22",
   "metadata": {
    "execution": {
     "iopub.execute_input": "2023-10-05T17:53:54.835901Z",
     "iopub.status.busy": "2023-10-05T17:53:54.835612Z",
     "iopub.status.idle": "2023-10-05T17:53:54.841677Z",
     "shell.execute_reply": "2023-10-05T17:53:54.840708Z"
    },
    "type_information": "[{\"type\": \"<class 'numpy.ndarray'>\", \"name\": \"ndarray\", \"module\": \"numpy\", \"size\": 224, \"shape\": \"(3, 4)\", \"dtype\": \"int64\"}]"
   },
   "outputs": [
    {
     "data": {
      "text/plain": [
       "array([[  0,   1,   4,   9],\n",
       "       [ 16,  25,  36,  49],\n",
       "       [ 64,  81, 100, 121]])"
      ]
     },
     "execution_count": 64,
     "metadata": {},
     "output_type": "execute_result"
    }
   ],
   "source": [
    "a1**2 # All arithmatic opertors"
   ]
  },
  {
   "cell_type": "code",
   "execution_count": 66,
   "id": "aa9c3dfe",
   "metadata": {
    "execution": {
     "iopub.execute_input": "2023-10-05T17:53:54.854856Z",
     "iopub.status.busy": "2023-10-05T17:53:54.854560Z",
     "iopub.status.idle": "2023-10-05T17:53:54.860428Z",
     "shell.execute_reply": "2023-10-05T17:53:54.859422Z"
    },
    "type_information": "[{\"type\": \"<class 'numpy.ndarray'>\", \"name\": \"ndarray\", \"module\": \"numpy\", \"size\": 140, \"shape\": \"(3, 4)\", \"dtype\": \"bool\"}]"
   },
   "outputs": [
    {
     "data": {
      "text/plain": [
       "array([[ True,  True,  True,  True],\n",
       "       [ True,  True,  True,  True],\n",
       "       [ True,  True,  True,  True]])"
      ]
     },
     "execution_count": 66,
     "metadata": {},
     "output_type": "execute_result"
    }
   ],
   "source": [
    "# relation operators\n",
    "a2 >5"
   ]
  },
  {
   "cell_type": "code",
   "execution_count": 68,
   "id": "790ba60f",
   "metadata": {
    "execution": {
     "iopub.execute_input": "2023-10-05T17:53:54.873370Z",
     "iopub.status.busy": "2023-10-05T17:53:54.872710Z",
     "iopub.status.idle": "2023-10-05T17:53:54.878644Z",
     "shell.execute_reply": "2023-10-05T17:53:54.877679Z"
    },
    "type_information": "[{\"type\": \"<class 'numpy.ndarray'>\", \"name\": \"ndarray\", \"module\": \"numpy\", \"size\": 140, \"shape\": \"(3, 4)\", \"dtype\": \"bool\"}]"
   },
   "outputs": [
    {
     "data": {
      "text/plain": [
       "array([[False, False, False, False],\n",
       "       [ True,  True,  True,  True],\n",
       "       [ True,  True,  True,  True]])"
      ]
     },
     "execution_count": 68,
     "metadata": {},
     "output_type": "execute_result"
    }
   ],
   "source": [
    "a2> 15"
   ]
  },
  {
   "cell_type": "code",
   "execution_count": 70,
   "id": "18429651",
   "metadata": {
    "execution": {
     "iopub.execute_input": "2023-10-05T17:53:54.891734Z",
     "iopub.status.busy": "2023-10-05T17:53:54.891442Z",
     "iopub.status.idle": "2023-10-05T17:53:54.897340Z",
     "shell.execute_reply": "2023-10-05T17:53:54.896388Z"
    },
    "type_information": "[{\"type\": \"<class 'numpy.ndarray'>\", \"name\": \"ndarray\", \"module\": \"numpy\", \"size\": 224, \"shape\": \"(3, 4)\", \"dtype\": \"int64\"}]"
   },
   "outputs": [
    {
     "data": {
      "text/plain": [
       "array([[12, 14, 16, 18],\n",
       "       [20, 22, 24, 26],\n",
       "       [28, 30, 32, 34]])"
      ]
     },
     "execution_count": 70,
     "metadata": {},
     "output_type": "execute_result"
    }
   ],
   "source": [
    "# vector operators\n",
    "# arithmatic operators\n",
    "a1 + a2 # since same shape"
   ]
  },
  {
   "cell_type": "code",
   "execution_count": 72,
   "id": "7fe7d20b",
   "metadata": {
    "execution": {
     "iopub.execute_input": "2023-10-05T17:53:54.910248Z",
     "iopub.status.busy": "2023-10-05T17:53:54.909961Z",
     "iopub.status.idle": "2023-10-05T17:53:54.915703Z",
     "shell.execute_reply": "2023-10-05T17:53:54.914799Z"
    },
    "type_information": "[{\"type\": \"<class 'numpy.int64'>\", \"name\": \"int64\", \"module\": \"numpy\", \"size\": 32}]"
   },
   "outputs": [
    {
     "data": {
      "text/plain": [
       "12"
      ]
     },
     "execution_count": 72,
     "metadata": {},
     "output_type": "execute_result"
    }
   ],
   "source": [
    "np.min(a2)"
   ]
  },
  {
   "cell_type": "code",
   "execution_count": 74,
   "id": "0e867c5a",
   "metadata": {
    "execution": {
     "iopub.execute_input": "2023-10-05T17:53:54.929014Z",
     "iopub.status.busy": "2023-10-05T17:53:54.928723Z",
     "iopub.status.idle": "2023-10-05T17:53:54.934567Z",
     "shell.execute_reply": "2023-10-05T17:53:54.933660Z"
    },
    "type_information": "[{\"type\": \"<class 'tuple'>\", \"name\": \"tuple\", \"module\": \"builtins\", \"size\": 64, \"data\": [{\"type\": \"<class 'numpy.int64'>\", \"name\": \"int64\", \"module\": \"numpy\", \"size\": 32}, {\"type\": \"<class 'numpy.int64'>\", \"name\": \"int64\", \"module\": \"numpy\", \"size\": 32}, {\"type\": \"<class 'numpy.int64'>\", \"name\": \"int64\", \"module\": \"numpy\", \"size\": 32}]}]"
   },
   "outputs": [
    {
     "data": {
      "text/plain": [
       "(12, 210, 0)"
      ]
     },
     "execution_count": 74,
     "metadata": {},
     "output_type": "execute_result"
    }
   ],
   "source": [
    "# max/min/sum/prod\n",
    "a2.min(), a2.sum(), a1.prod()"
   ]
  },
  {
   "cell_type": "code",
   "execution_count": 76,
   "id": "0ddf3592",
   "metadata": {
    "execution": {
     "iopub.execute_input": "2023-10-05T17:53:54.947548Z",
     "iopub.status.busy": "2023-10-05T17:53:54.946931Z",
     "iopub.status.idle": "2023-10-05T17:53:54.953283Z",
     "shell.execute_reply": "2023-10-05T17:53:54.952401Z"
    },
    "type_information": "[{\"type\": \"<class 'numpy.ndarray'>\", \"name\": \"ndarray\", \"module\": \"numpy\", \"size\": 200, \"shape\": \"(3, 3)\", \"dtype\": \"float64\"}]"
   },
   "outputs": [
    {
     "data": {
      "text/plain": [
       "array([[30., 65., 83.],\n",
       "       [87.,  1., 22.],\n",
       "       [59., 84., 92.]])"
      ]
     },
     "execution_count": 76,
     "metadata": {},
     "output_type": "execute_result"
    }
   ],
   "source": [
    "a = np.random.random((3,3))\n",
    "a = np.round(a*100)\n",
    "a"
   ]
  },
  {
   "cell_type": "code",
   "execution_count": 78,
   "id": "a40dd895",
   "metadata": {
    "execution": {
     "iopub.execute_input": "2023-10-05T17:53:54.966244Z",
     "iopub.status.busy": "2023-10-05T17:53:54.965640Z",
     "iopub.status.idle": "2023-10-05T17:53:54.971481Z",
     "shell.execute_reply": "2023-10-05T17:53:54.970570Z"
    },
    "type_information": "[{\"type\": \"<class 'numpy.ndarray'>\", \"name\": \"ndarray\", \"module\": \"numpy\", \"size\": 136, \"shape\": \"(3,)\", \"dtype\": \"float64\"}]"
   },
   "outputs": [
    {
     "data": {
      "text/plain": [
       "array([87., 84., 92.])"
      ]
     },
     "execution_count": 78,
     "metadata": {},
     "output_type": "execute_result"
    }
   ],
   "source": [
    "# accessing min form all rows\n",
    "np.max(a,axis=0)"
   ]
  },
  {
   "cell_type": "code",
   "execution_count": 80,
   "id": "1b036f00",
   "metadata": {
    "execution": {
     "iopub.execute_input": "2023-10-05T17:53:54.984372Z",
     "iopub.status.busy": "2023-10-05T17:53:54.983735Z",
     "iopub.status.idle": "2023-10-05T17:53:54.989587Z",
     "shell.execute_reply": "2023-10-05T17:53:54.988693Z"
    },
    "type_information": "[{\"type\": \"<class 'numpy.ndarray'>\", \"name\": \"ndarray\", \"module\": \"numpy\", \"size\": 136, \"shape\": \"(3,)\", \"dtype\": \"float64\"}]"
   },
   "outputs": [
    {
     "data": {
      "text/plain": [
       "array([83., 87., 92.])"
      ]
     },
     "execution_count": 80,
     "metadata": {},
     "output_type": "execute_result"
    }
   ],
   "source": [
    "# accessing min form all columns\n",
    "np.max(a,axis=1)"
   ]
  },
  {
   "cell_type": "code",
   "execution_count": 82,
   "id": "56b62792",
   "metadata": {
    "execution": {
     "iopub.execute_input": "2023-10-05T17:53:55.002186Z",
     "iopub.status.busy": "2023-10-05T17:53:55.001888Z",
     "iopub.status.idle": "2023-10-05T17:53:55.008346Z",
     "shell.execute_reply": "2023-10-05T17:53:55.007431Z"
    },
    "type_information": "[{\"type\": \"<class 'tuple'>\", \"name\": \"tuple\", \"module\": \"builtins\", \"size\": 72, \"data\": [{\"type\": \"<class 'numpy.float64'>\", \"name\": \"float64\", \"module\": \"numpy\", \"size\": 32}, {\"type\": \"<class 'numpy.float64'>\", \"name\": \"float64\", \"module\": \"numpy\", \"size\": 32}, {\"type\": \"<class 'numpy.float64'>\", \"name\": \"float64\", \"module\": \"numpy\", \"size\": 32}, {\"type\": \"<class 'numpy.float64'>\", \"name\": \"float64\", \"module\": \"numpy\", \"size\": 32}]}]"
   },
   "outputs": [
    {
     "data": {
      "text/plain": [
       "(58.111111111111114, 65.0, 31.049939861972337, 964.0987654320987)"
      ]
     },
     "execution_count": 82,
     "metadata": {},
     "output_type": "execute_result"
    }
   ],
   "source": [
    "# mean\\median\\std\\var\n",
    "a.mean(), np.median(a), a.std(), a.var()"
   ]
  },
  {
   "cell_type": "code",
   "execution_count": 84,
   "id": "6fd23b52",
   "metadata": {
    "execution": {
     "iopub.execute_input": "2023-10-05T17:53:55.020749Z",
     "iopub.status.busy": "2023-10-05T17:53:55.020383Z",
     "iopub.status.idle": "2023-10-05T17:53:55.026808Z",
     "shell.execute_reply": "2023-10-05T17:53:55.025788Z"
    },
    "type_information": "[{\"type\": \"<class 'tuple'>\", \"name\": \"tuple\", \"module\": \"builtins\", \"size\": 56, \"data\": [{\"type\": \"<class 'numpy.ndarray'>\", \"name\": \"ndarray\", \"module\": \"numpy\", \"size\": 200, \"shape\": \"(3, 3)\", \"dtype\": \"float64\"}, {\"type\": \"<class 'numpy.ndarray'>\", \"name\": \"ndarray\", \"module\": \"numpy\", \"size\": 200, \"shape\": \"(3, 3)\", \"dtype\": \"float64\"}]}]"
   },
   "outputs": [
    {
     "data": {
      "text/plain": [
       "(array([[-0.98803162,  0.82682868,  0.96836446],\n",
       "        [-0.82181784,  0.84147098, -0.00885131],\n",
       "        [ 0.63673801,  0.73319032, -0.77946607]]),\n",
       " array([[1.        , 1.        , 1.        ],\n",
       "        [1.        , 0.76159416, 1.        ],\n",
       "        [1.        , 1.        , 1.        ]]))"
      ]
     },
     "execution_count": 84,
     "metadata": {},
     "output_type": "execute_result"
    }
   ],
   "source": [
    "# trigometric function\n",
    "np.sin(a), np.tanh(a)"
   ]
  },
  {
   "cell_type": "code",
   "execution_count": 86,
   "id": "00ea1d3d",
   "metadata": {
    "error": [
     {
      "ename": "KeyError",
      "evalue": "86",
      "output_type": "error",
      "traceback": [
       "\u001b[0;31m---------------------------------------------------------------------------\u001b[0m",
       "\u001b[0;31mKeyError\u001b[0m                                  Traceback (most recent call last)",
       "Cell \u001b[0;32mIn[87], line 1\u001b[0m\n\u001b[0;32m----> 1\u001b[0m json\u001b[38;5;241m.\u001b[39mdumps([typehandlerforuniqueobjects(\u001b[43mOut\u001b[49m\u001b[43m[\u001b[49m\u001b[38;5;241;43m86\u001b[39;49m\u001b[43m]\u001b[49m)])\n",
       "\u001b[0;31mKeyError\u001b[0m: 86"
      ]
     }
    ],
    "execution": {
     "iopub.execute_input": "2023-10-05T17:53:55.039294Z",
     "iopub.status.busy": "2023-10-05T17:53:55.039002Z",
     "iopub.status.idle": "2023-10-05T17:53:55.044839Z",
     "shell.execute_reply": "2023-10-05T17:53:55.043882Z"
    }
   },
   "outputs": [
    {
     "name": "stdout",
     "output_type": "stream",
     "text": [
      "[[ 0  1  2  3]\n",
      " [ 4  5  6  7]\n",
      " [ 8  9 10 11]] \n",
      "\n",
      "[[12 13 14]\n",
      " [15 16 17]\n",
      " [18 19 20]\n",
      " [21 22 23]]\n"
     ]
    }
   ],
   "source": [
    "# dot product\n",
    "\n",
    "a2 = np.arange(12).reshape(3,4)\n",
    "a3 = np.arange(12,24).reshape(4,3)\n",
    "\n",
    "print(a2,\"\\n\")\n",
    "print(a3)"
   ]
  },
  {
   "cell_type": "code",
   "execution_count": 88,
   "id": "2308e51a",
   "metadata": {
    "execution": {
     "iopub.execute_input": "2023-10-05T17:53:55.073272Z",
     "iopub.status.busy": "2023-10-05T17:53:55.072976Z",
     "iopub.status.idle": "2023-10-05T17:53:55.078942Z",
     "shell.execute_reply": "2023-10-05T17:53:55.078037Z"
    },
    "type_information": "[{\"type\": \"<class 'numpy.ndarray'>\", \"name\": \"ndarray\", \"module\": \"numpy\", \"size\": 200, \"shape\": \"(3, 3)\", \"dtype\": \"int64\"}]"
   },
   "outputs": [
    {
     "data": {
      "text/plain": [
       "array([[114, 120, 126],\n",
       "       [378, 400, 422],\n",
       "       [642, 680, 718]])"
      ]
     },
     "execution_count": 88,
     "metadata": {},
     "output_type": "execute_result"
    }
   ],
   "source": [
    "np.dot(a2,a3)"
   ]
  },
  {
   "cell_type": "code",
   "execution_count": 90,
   "id": "10f057fe",
   "metadata": {
    "debugging_output": [
     {
      "name": "stdout",
      "output_type": "stream",
      "text": "Out[90][0]\nOut[90][1]\n"
     }
    ],
    "execution": {
     "iopub.execute_input": "2023-10-05T17:53:55.091530Z",
     "iopub.status.busy": "2023-10-05T17:53:55.091239Z",
     "iopub.status.idle": "2023-10-05T17:53:55.098008Z",
     "shell.execute_reply": "2023-10-05T17:53:55.097097Z"
    }
   },
   "outputs": [
    {
     "name": "stderr",
     "output_type": "stream",
     "text": [
      "/tmp/ipykernel_21/2171035234.py:2: RuntimeWarning: divide by zero encountered in log\n",
      "  np.log(a1)\n"
     ]
    },
    {
     "data": {
      "text/plain": [
       "array([[      -inf, 0.        , 0.69314718, 1.09861229],\n",
       "       [1.38629436, 1.60943791, 1.79175947, 1.94591015],\n",
       "       [2.07944154, 2.19722458, 2.30258509, 2.39789527]])"
      ]
     },
     "execution_count": 90,
     "metadata": {},
     "output_type": "execute_result"
    }
   ],
   "source": [
    "# log and exponent\n",
    "np.log(a1)"
   ]
  },
  {
   "cell_type": "code",
   "execution_count": 92,
   "id": "bcd72e28",
   "metadata": {
    "execution": {
     "iopub.execute_input": "2023-10-05T17:53:55.111142Z",
     "iopub.status.busy": "2023-10-05T17:53:55.110847Z",
     "iopub.status.idle": "2023-10-05T17:53:55.116819Z",
     "shell.execute_reply": "2023-10-05T17:53:55.115908Z"
    },
    "type_information": "[{\"type\": \"<class 'numpy.ndarray'>\", \"name\": \"ndarray\", \"module\": \"numpy\", \"size\": 224, \"shape\": \"(3, 4)\", \"dtype\": \"float64\"}]"
   },
   "outputs": [
    {
     "data": {
      "text/plain": [
       "array([[1.00000000e+00, 2.71828183e+00, 7.38905610e+00, 2.00855369e+01],\n",
       "       [5.45981500e+01, 1.48413159e+02, 4.03428793e+02, 1.09663316e+03],\n",
       "       [2.98095799e+03, 8.10308393e+03, 2.20264658e+04, 5.98741417e+04]])"
      ]
     },
     "execution_count": 92,
     "metadata": {},
     "output_type": "execute_result"
    }
   ],
   "source": [
    "np.exp(a1)"
   ]
  },
  {
   "cell_type": "code",
   "execution_count": 94,
   "id": "02b2ba8b",
   "metadata": {
    "execution": {
     "iopub.execute_input": "2023-10-05T17:53:55.129227Z",
     "iopub.status.busy": "2023-10-05T17:53:55.128931Z",
     "iopub.status.idle": "2023-10-05T17:53:55.135020Z",
     "shell.execute_reply": "2023-10-05T17:53:55.134128Z"
    },
    "type_information": "[{\"type\": \"<class 'numpy.ndarray'>\", \"name\": \"ndarray\", \"module\": \"numpy\", \"size\": 176, \"shape\": \"(2, 3)\", \"dtype\": \"float64\"}]"
   },
   "outputs": [
    {
     "data": {
      "text/plain": [
       "array([[0., 1., 1.],\n",
       "       [1., 0., 0.]])"
      ]
     },
     "execution_count": 94,
     "metadata": {},
     "output_type": "execute_result"
    }
   ],
   "source": [
    "# round/floor/ceil\n",
    "\n",
    "np.round(np.random.random((2,3)))"
   ]
  },
  {
   "cell_type": "code",
   "execution_count": 96,
   "id": "3226ef5b",
   "metadata": {
    "execution": {
     "iopub.execute_input": "2023-10-05T17:53:55.148057Z",
     "iopub.status.busy": "2023-10-05T17:53:55.147748Z",
     "iopub.status.idle": "2023-10-05T17:53:55.153729Z",
     "shell.execute_reply": "2023-10-05T17:53:55.152837Z"
    },
    "type_information": "[{\"type\": \"<class 'numpy.ndarray'>\", \"name\": \"ndarray\", \"module\": \"numpy\", \"size\": 176, \"shape\": \"(2, 3)\", \"dtype\": \"float64\"}]"
   },
   "outputs": [
    {
     "data": {
      "text/plain": [
       "array([[0., 0., 0.],\n",
       "       [0., 0., 0.]])"
      ]
     },
     "execution_count": 96,
     "metadata": {},
     "output_type": "execute_result"
    }
   ],
   "source": [
    "# round/floor/ceil\n",
    "\n",
    "np.floor(np.random.random((2,3)))"
   ]
  },
  {
   "cell_type": "code",
   "execution_count": 98,
   "id": "115ba766",
   "metadata": {
    "execution": {
     "iopub.execute_input": "2023-10-05T17:53:55.166656Z",
     "iopub.status.busy": "2023-10-05T17:53:55.166362Z",
     "iopub.status.idle": "2023-10-05T17:53:55.172556Z",
     "shell.execute_reply": "2023-10-05T17:53:55.171647Z"
    },
    "type_information": "[{\"type\": \"<class 'numpy.ndarray'>\", \"name\": \"ndarray\", \"module\": \"numpy\", \"size\": 176, \"shape\": \"(2, 3)\", \"dtype\": \"float64\"}]"
   },
   "outputs": [
    {
     "data": {
      "text/plain": [
       "array([[1., 1., 1.],\n",
       "       [1., 1., 1.]])"
      ]
     },
     "execution_count": 98,
     "metadata": {},
     "output_type": "execute_result"
    }
   ],
   "source": [
    "# round/floor/ceil\n",
    "\n",
    "np.ceil(np.random.random((2,3)))"
   ]
  },
  {
   "cell_type": "markdown",
   "id": "9e3cb834",
   "metadata": {},
   "source": [
    "# indicing and slicing"
   ]
  },
  {
   "cell_type": "code",
   "execution_count": 100,
   "id": "c1de14e8",
   "metadata": {
    "execution": {
     "iopub.execute_input": "2023-10-05T17:53:55.185451Z",
     "iopub.status.busy": "2023-10-05T17:53:55.185154Z",
     "iopub.status.idle": "2023-10-05T17:53:55.189895Z",
     "shell.execute_reply": "2023-10-05T17:53:55.188977Z"
    }
   },
   "outputs": [],
   "source": [
    "a1 = np.arange(10)\n",
    "a2 = np.arange(12).reshape(3,4)\n",
    "a3 = np.arange(8).reshape(2,2,2)"
   ]
  },
  {
   "cell_type": "code",
   "execution_count": 101,
   "id": "19fb008a",
   "metadata": {
    "execution": {
     "iopub.execute_input": "2023-10-05T17:53:55.193577Z",
     "iopub.status.busy": "2023-10-05T17:53:55.192911Z",
     "iopub.status.idle": "2023-10-05T17:53:55.198616Z",
     "shell.execute_reply": "2023-10-05T17:53:55.197714Z"
    },
    "type_information": "[{\"type\": \"<class 'numpy.ndarray'>\", \"name\": \"ndarray\", \"module\": \"numpy\", \"size\": 144, \"shape\": \"(2, 2, 2)\", \"dtype\": \"int64\"}]"
   },
   "outputs": [
    {
     "data": {
      "text/plain": [
       "array([[[0, 1],\n",
       "        [2, 3]],\n",
       "\n",
       "       [[4, 5],\n",
       "        [6, 7]]])"
      ]
     },
     "execution_count": 101,
     "metadata": {},
     "output_type": "execute_result"
    }
   ],
   "source": [
    "a3"
   ]
  },
  {
   "cell_type": "code",
   "execution_count": 103,
   "id": "12630167",
   "metadata": {
    "execution": {
     "iopub.execute_input": "2023-10-05T17:53:55.211824Z",
     "iopub.status.busy": "2023-10-05T17:53:55.211151Z",
     "iopub.status.idle": "2023-10-05T17:53:55.216870Z",
     "shell.execute_reply": "2023-10-05T17:53:55.215918Z"
    },
    "type_information": "[{\"type\": \"<class 'numpy.ndarray'>\", \"name\": \"ndarray\", \"module\": \"numpy\", \"size\": 192, \"shape\": \"(10,)\", \"dtype\": \"int64\"}]"
   },
   "outputs": [
    {
     "data": {
      "text/plain": [
       "array([0, 1, 2, 3, 4, 5, 6, 7, 8, 9])"
      ]
     },
     "execution_count": 103,
     "metadata": {},
     "output_type": "execute_result"
    }
   ],
   "source": [
    "a1"
   ]
  },
  {
   "cell_type": "code",
   "execution_count": 105,
   "id": "b0d39865",
   "metadata": {
    "execution": {
     "iopub.execute_input": "2023-10-05T17:53:55.229896Z",
     "iopub.status.busy": "2023-10-05T17:53:55.229602Z",
     "iopub.status.idle": "2023-10-05T17:53:55.235239Z",
     "shell.execute_reply": "2023-10-05T17:53:55.234335Z"
    },
    "type_information": "[{\"type\": \"<class 'numpy.int64'>\", \"name\": \"int64\", \"module\": \"numpy\", \"size\": 32}]"
   },
   "outputs": [
    {
     "data": {
      "text/plain": [
       "9"
      ]
     },
     "execution_count": 105,
     "metadata": {},
     "output_type": "execute_result"
    }
   ],
   "source": [
    "a1[-1] #last item"
   ]
  },
  {
   "cell_type": "code",
   "execution_count": 107,
   "id": "b0e04ef0",
   "metadata": {
    "execution": {
     "iopub.execute_input": "2023-10-05T17:53:55.248385Z",
     "iopub.status.busy": "2023-10-05T17:53:55.247687Z",
     "iopub.status.idle": "2023-10-05T17:53:55.253410Z",
     "shell.execute_reply": "2023-10-05T17:53:55.252495Z"
    },
    "type_information": "[{\"type\": \"<class 'numpy.ndarray'>\", \"name\": \"ndarray\", \"module\": \"numpy\", \"size\": 128, \"shape\": \"(3, 4)\", \"dtype\": \"int64\"}]"
   },
   "outputs": [
    {
     "data": {
      "text/plain": [
       "array([[ 0,  1,  2,  3],\n",
       "       [ 4,  5,  6,  7],\n",
       "       [ 8,  9, 10, 11]])"
      ]
     },
     "execution_count": 107,
     "metadata": {},
     "output_type": "execute_result"
    }
   ],
   "source": [
    "a2"
   ]
  },
  {
   "cell_type": "code",
   "execution_count": 109,
   "id": "88793e3c",
   "metadata": {
    "execution": {
     "iopub.execute_input": "2023-10-05T17:53:55.265504Z",
     "iopub.status.busy": "2023-10-05T17:53:55.265220Z",
     "iopub.status.idle": "2023-10-05T17:53:55.270832Z",
     "shell.execute_reply": "2023-10-05T17:53:55.269918Z"
    },
    "type_information": "[{\"type\": \"<class 'numpy.int64'>\", \"name\": \"int64\", \"module\": \"numpy\", \"size\": 32}]"
   },
   "outputs": [
    {
     "data": {
      "text/plain": [
       "6"
      ]
     },
     "execution_count": 109,
     "metadata": {},
     "output_type": "execute_result"
    }
   ],
   "source": [
    "a2[1,2]"
   ]
  },
  {
   "cell_type": "code",
   "execution_count": 111,
   "id": "ca42ba9f",
   "metadata": {
    "execution": {
     "iopub.execute_input": "2023-10-05T17:53:55.283619Z",
     "iopub.status.busy": "2023-10-05T17:53:55.282956Z",
     "iopub.status.idle": "2023-10-05T17:53:55.288748Z",
     "shell.execute_reply": "2023-10-05T17:53:55.287839Z"
    },
    "type_information": "[{\"type\": \"<class 'numpy.ndarray'>\", \"name\": \"ndarray\", \"module\": \"numpy\", \"size\": 144, \"shape\": \"(2, 2, 2)\", \"dtype\": \"int64\"}]"
   },
   "outputs": [
    {
     "data": {
      "text/plain": [
       "array([[[0, 1],\n",
       "        [2, 3]],\n",
       "\n",
       "       [[4, 5],\n",
       "        [6, 7]]])"
      ]
     },
     "execution_count": 111,
     "metadata": {},
     "output_type": "execute_result"
    }
   ],
   "source": [
    "a3 # 3d"
   ]
  },
  {
   "cell_type": "code",
   "execution_count": 113,
   "id": "752cbf41",
   "metadata": {
    "execution": {
     "iopub.execute_input": "2023-10-05T17:53:55.301722Z",
     "iopub.status.busy": "2023-10-05T17:53:55.301059Z",
     "iopub.status.idle": "2023-10-05T17:53:55.307406Z",
     "shell.execute_reply": "2023-10-05T17:53:55.306484Z"
    },
    "type_information": "[{\"type\": \"<class 'tuple'>\", \"name\": \"tuple\", \"module\": \"builtins\", \"size\": 72, \"data\": [{\"type\": \"<class 'numpy.int64'>\", \"name\": \"int64\", \"module\": \"numpy\", \"size\": 32}, {\"type\": \"<class 'numpy.int64'>\", \"name\": \"int64\", \"module\": \"numpy\", \"size\": 32}, {\"type\": \"<class 'numpy.int64'>\", \"name\": \"int64\", \"module\": \"numpy\", \"size\": 32}, {\"type\": \"<class 'numpy.int64'>\", \"name\": \"int64\", \"module\": \"numpy\", \"size\": 32}]}]"
   },
   "outputs": [
    {
     "data": {
      "text/plain": [
       "(5, 2, 0, 6)"
      ]
     },
     "execution_count": 113,
     "metadata": {},
     "output_type": "execute_result"
    }
   ],
   "source": [
    "a3[1,0,1], a3[0,1,0], a3[0,0,0], a3[1,1,0]"
   ]
  },
  {
   "cell_type": "markdown",
   "id": "ea299c35",
   "metadata": {},
   "source": [
    "# slicing"
   ]
  },
  {
   "cell_type": "code",
   "execution_count": 115,
   "id": "b920d0c5",
   "metadata": {
    "execution": {
     "iopub.execute_input": "2023-10-05T17:53:55.319957Z",
     "iopub.status.busy": "2023-10-05T17:53:55.319659Z",
     "iopub.status.idle": "2023-10-05T17:53:55.325396Z",
     "shell.execute_reply": "2023-10-05T17:53:55.324421Z"
    },
    "type_information": "[{\"type\": \"<class 'numpy.ndarray'>\", \"name\": \"ndarray\", \"module\": \"numpy\", \"size\": 112, \"shape\": \"(3,)\", \"dtype\": \"int64\"}]"
   },
   "outputs": [
    {
     "data": {
      "text/plain": [
       "array([2, 3, 4])"
      ]
     },
     "execution_count": 115,
     "metadata": {},
     "output_type": "execute_result"
    }
   ],
   "source": [
    "a1[2:5]"
   ]
  },
  {
   "cell_type": "code",
   "execution_count": 117,
   "id": "d383e4be",
   "metadata": {
    "execution": {
     "iopub.execute_input": "2023-10-05T17:53:55.338255Z",
     "iopub.status.busy": "2023-10-05T17:53:55.337590Z",
     "iopub.status.idle": "2023-10-05T17:53:55.343438Z",
     "shell.execute_reply": "2023-10-05T17:53:55.342478Z"
    },
    "type_information": "[{\"type\": \"<class 'numpy.ndarray'>\", \"name\": \"ndarray\", \"module\": \"numpy\", \"size\": 112, \"shape\": \"(2,)\", \"dtype\": \"int64\"}]"
   },
   "outputs": [
    {
     "data": {
      "text/plain": [
       "array([2, 4])"
      ]
     },
     "execution_count": 117,
     "metadata": {},
     "output_type": "execute_result"
    }
   ],
   "source": [
    "a1[2:5:2]"
   ]
  },
  {
   "cell_type": "code",
   "execution_count": 119,
   "id": "51fe9691",
   "metadata": {
    "execution": {
     "iopub.execute_input": "2023-10-05T17:53:55.357976Z",
     "iopub.status.busy": "2023-10-05T17:53:55.357305Z",
     "iopub.status.idle": "2023-10-05T17:53:55.363019Z",
     "shell.execute_reply": "2023-10-05T17:53:55.362088Z"
    },
    "type_information": "[{\"type\": \"<class 'numpy.ndarray'>\", \"name\": \"ndarray\", \"module\": \"numpy\", \"size\": 128, \"shape\": \"(3, 4)\", \"dtype\": \"int64\"}]"
   },
   "outputs": [
    {
     "data": {
      "text/plain": [
       "array([[ 0,  1,  2,  3],\n",
       "       [ 4,  5,  6,  7],\n",
       "       [ 8,  9, 10, 11]])"
      ]
     },
     "execution_count": 119,
     "metadata": {},
     "output_type": "execute_result"
    }
   ],
   "source": [
    "a2"
   ]
  },
  {
   "cell_type": "code",
   "execution_count": 121,
   "id": "cb79e139",
   "metadata": {
    "error": [
     {
      "ename": "KeyError",
      "evalue": "121",
      "output_type": "error",
      "traceback": [
       "\u001b[0;31m---------------------------------------------------------------------------\u001b[0m",
       "\u001b[0;31mKeyError\u001b[0m                                  Traceback (most recent call last)",
       "Cell \u001b[0;32mIn[122], line 1\u001b[0m\n\u001b[0;32m----> 1\u001b[0m json\u001b[38;5;241m.\u001b[39mdumps([typehandlerforuniqueobjects(\u001b[43mOut\u001b[49m\u001b[43m[\u001b[49m\u001b[38;5;241;43m121\u001b[39;49m\u001b[43m]\u001b[49m)])\n",
       "\u001b[0;31mKeyError\u001b[0m: 121"
      ]
     }
    ],
    "execution": {
     "iopub.execute_input": "2023-10-05T17:53:55.376032Z",
     "iopub.status.busy": "2023-10-05T17:53:55.375343Z",
     "iopub.status.idle": "2023-10-05T17:53:55.380460Z",
     "shell.execute_reply": "2023-10-05T17:53:55.379499Z"
    }
   },
   "outputs": [
    {
     "name": "stdout",
     "output_type": "stream",
     "text": [
      "[0 1 2 3]\n",
      "[4 5 6 7]\n"
     ]
    }
   ],
   "source": [
    "print(a2[0])\n",
    "print(a2[1])"
   ]
  },
  {
   "cell_type": "code",
   "execution_count": 123,
   "id": "7872937d",
   "metadata": {
    "execution": {
     "iopub.execute_input": "2023-10-05T17:53:55.409326Z",
     "iopub.status.busy": "2023-10-05T17:53:55.408728Z",
     "iopub.status.idle": "2023-10-05T17:53:55.414607Z",
     "shell.execute_reply": "2023-10-05T17:53:55.413657Z"
    },
    "type_information": "[{\"type\": \"<class 'numpy.ndarray'>\", \"name\": \"ndarray\", \"module\": \"numpy\", \"size\": 112, \"shape\": \"(4,)\", \"dtype\": \"int64\"}]"
   },
   "outputs": [
    {
     "data": {
      "text/plain": [
       "array([0, 1, 2, 3])"
      ]
     },
     "execution_count": 123,
     "metadata": {},
     "output_type": "execute_result"
    }
   ],
   "source": [
    "a2[0,:] # rows"
   ]
  },
  {
   "cell_type": "code",
   "execution_count": 125,
   "id": "022f0411",
   "metadata": {
    "execution": {
     "iopub.execute_input": "2023-10-05T17:53:55.427713Z",
     "iopub.status.busy": "2023-10-05T17:53:55.427091Z",
     "iopub.status.idle": "2023-10-05T17:53:55.432799Z",
     "shell.execute_reply": "2023-10-05T17:53:55.431894Z"
    },
    "type_information": "[{\"type\": \"<class 'numpy.ndarray'>\", \"name\": \"ndarray\", \"module\": \"numpy\", \"size\": 112, \"shape\": \"(3,)\", \"dtype\": \"int64\"}]"
   },
   "outputs": [
    {
     "data": {
      "text/plain": [
       "array([ 2,  6, 10])"
      ]
     },
     "execution_count": 125,
     "metadata": {},
     "output_type": "execute_result"
    }
   ],
   "source": [
    "a2[:,2] #column"
   ]
  },
  {
   "cell_type": "code",
   "execution_count": 127,
   "id": "f49f6dba",
   "metadata": {
    "execution": {
     "iopub.execute_input": "2023-10-05T17:53:55.445155Z",
     "iopub.status.busy": "2023-10-05T17:53:55.444566Z",
     "iopub.status.idle": "2023-10-05T17:53:55.450307Z",
     "shell.execute_reply": "2023-10-05T17:53:55.449401Z"
    },
    "type_information": "[{\"type\": \"<class 'numpy.ndarray'>\", \"name\": \"ndarray\", \"module\": \"numpy\", \"size\": 128, \"shape\": \"(2, 2)\", \"dtype\": \"int64\"}]"
   },
   "outputs": [
    {
     "data": {
      "text/plain": [
       "array([[ 5,  6],\n",
       "       [ 9, 10]])"
      ]
     },
     "execution_count": 127,
     "metadata": {},
     "output_type": "execute_result"
    }
   ],
   "source": [
    "a2[1:,1:3] # rtectangle"
   ]
  },
  {
   "cell_type": "code",
   "execution_count": 129,
   "id": "f6bb3aa9",
   "metadata": {
    "execution": {
     "iopub.execute_input": "2023-10-05T17:53:55.462916Z",
     "iopub.status.busy": "2023-10-05T17:53:55.462308Z",
     "iopub.status.idle": "2023-10-05T17:53:55.468159Z",
     "shell.execute_reply": "2023-10-05T17:53:55.467244Z"
    },
    "type_information": "[{\"type\": \"<class 'numpy.ndarray'>\", \"name\": \"ndarray\", \"module\": \"numpy\", \"size\": 128, \"shape\": \"(2, 2)\", \"dtype\": \"int64\"}]"
   },
   "outputs": [
    {
     "data": {
      "text/plain": [
       "array([[ 0,  3],\n",
       "       [ 8, 11]])"
      ]
     },
     "execution_count": 129,
     "metadata": {},
     "output_type": "execute_result"
    }
   ],
   "source": [
    "a2[::2,::3] # acessing vertex of rectangle"
   ]
  },
  {
   "cell_type": "code",
   "execution_count": 131,
   "id": "2a094f17",
   "metadata": {
    "execution": {
     "iopub.execute_input": "2023-10-05T17:53:55.480550Z",
     "iopub.status.busy": "2023-10-05T17:53:55.479944Z",
     "iopub.status.idle": "2023-10-05T17:53:55.485772Z",
     "shell.execute_reply": "2023-10-05T17:53:55.484890Z"
    },
    "type_information": "[{\"type\": \"<class 'numpy.ndarray'>\", \"name\": \"ndarray\", \"module\": \"numpy\", \"size\": 128, \"shape\": \"(2, 2)\", \"dtype\": \"int64\"}]"
   },
   "outputs": [
    {
     "data": {
      "text/plain": [
       "array([[ 1,  3],\n",
       "       [ 9, 11]])"
      ]
     },
     "execution_count": 131,
     "metadata": {},
     "output_type": "execute_result"
    }
   ],
   "source": [
    "a2[::2,1::2]"
   ]
  },
  {
   "cell_type": "code",
   "execution_count": 133,
   "id": "dbc91b0e",
   "metadata": {
    "execution": {
     "iopub.execute_input": "2023-10-05T17:53:55.498648Z",
     "iopub.status.busy": "2023-10-05T17:53:55.498067Z",
     "iopub.status.idle": "2023-10-05T17:53:55.503748Z",
     "shell.execute_reply": "2023-10-05T17:53:55.502858Z"
    },
    "type_information": "[{\"type\": \"<class 'numpy.ndarray'>\", \"name\": \"ndarray\", \"module\": \"numpy\", \"size\": 112, \"shape\": \"(2,)\", \"dtype\": \"int64\"}]"
   },
   "outputs": [
    {
     "data": {
      "text/plain": [
       "array([4, 7])"
      ]
     },
     "execution_count": 133,
     "metadata": {},
     "output_type": "execute_result"
    }
   ],
   "source": [
    "a2[1,::3]"
   ]
  },
  {
   "cell_type": "code",
   "execution_count": 135,
   "id": "7a6f330e",
   "metadata": {
    "execution": {
     "iopub.execute_input": "2023-10-05T17:53:55.516178Z",
     "iopub.status.busy": "2023-10-05T17:53:55.515555Z",
     "iopub.status.idle": "2023-10-05T17:53:55.521310Z",
     "shell.execute_reply": "2023-10-05T17:53:55.520400Z"
    },
    "type_information": "[{\"type\": \"<class 'numpy.ndarray'>\", \"name\": \"ndarray\", \"module\": \"numpy\", \"size\": 128, \"shape\": \"(2, 3)\", \"dtype\": \"int64\"}]"
   },
   "outputs": [
    {
     "data": {
      "text/plain": [
       "array([[1, 2, 3],\n",
       "       [5, 6, 7]])"
      ]
     },
     "execution_count": 135,
     "metadata": {},
     "output_type": "execute_result"
    }
   ],
   "source": [
    "a2[0:2,1:]"
   ]
  },
  {
   "cell_type": "markdown",
   "id": "dc0e4aa0",
   "metadata": {},
   "source": [
    "# 3D"
   ]
  },
  {
   "cell_type": "code",
   "execution_count": 137,
   "id": "58ac5c02",
   "metadata": {
    "execution": {
     "iopub.execute_input": "2023-10-05T17:53:55.533950Z",
     "iopub.status.busy": "2023-10-05T17:53:55.533235Z",
     "iopub.status.idle": "2023-10-05T17:53:55.539308Z",
     "shell.execute_reply": "2023-10-05T17:53:55.538419Z"
    },
    "type_information": "[{\"type\": \"<class 'numpy.ndarray'>\", \"name\": \"ndarray\", \"module\": \"numpy\", \"size\": 144, \"shape\": \"(3, 3, 3)\", \"dtype\": \"int64\"}]"
   },
   "outputs": [
    {
     "data": {
      "text/plain": [
       "array([[[ 0,  1,  2],\n",
       "        [ 3,  4,  5],\n",
       "        [ 6,  7,  8]],\n",
       "\n",
       "       [[ 9, 10, 11],\n",
       "        [12, 13, 14],\n",
       "        [15, 16, 17]],\n",
       "\n",
       "       [[18, 19, 20],\n",
       "        [21, 22, 23],\n",
       "        [24, 25, 26]]])"
      ]
     },
     "execution_count": 137,
     "metadata": {},
     "output_type": "execute_result"
    }
   ],
   "source": [
    "a3 = np.arange(27).reshape(3,3,3)\n",
    "a3"
   ]
  },
  {
   "cell_type": "code",
   "execution_count": 139,
   "id": "00f9e382",
   "metadata": {
    "execution": {
     "iopub.execute_input": "2023-10-05T17:53:55.552775Z",
     "iopub.status.busy": "2023-10-05T17:53:55.552192Z",
     "iopub.status.idle": "2023-10-05T17:53:55.557828Z",
     "shell.execute_reply": "2023-10-05T17:53:55.556899Z"
    },
    "type_information": "[{\"type\": \"<class 'numpy.ndarray'>\", \"name\": \"ndarray\", \"module\": \"numpy\", \"size\": 128, \"shape\": \"(3, 3)\", \"dtype\": \"int64\"}]"
   },
   "outputs": [
    {
     "data": {
      "text/plain": [
       "array([[ 9, 10, 11],\n",
       "       [12, 13, 14],\n",
       "       [15, 16, 17]])"
      ]
     },
     "execution_count": 139,
     "metadata": {},
     "output_type": "execute_result"
    }
   ],
   "source": [
    "a3[1]"
   ]
  },
  {
   "cell_type": "code",
   "execution_count": 141,
   "id": "28aaf5d1",
   "metadata": {
    "execution": {
     "iopub.execute_input": "2023-10-05T17:53:55.570940Z",
     "iopub.status.busy": "2023-10-05T17:53:55.570105Z",
     "iopub.status.idle": "2023-10-05T17:53:55.576030Z",
     "shell.execute_reply": "2023-10-05T17:53:55.575105Z"
    },
    "type_information": "[{\"type\": \"<class 'numpy.ndarray'>\", \"name\": \"ndarray\", \"module\": \"numpy\", \"size\": 144, \"shape\": \"(2, 3, 3)\", \"dtype\": \"int64\"}]"
   },
   "outputs": [
    {
     "data": {
      "text/plain": [
       "array([[[ 0,  1,  2],\n",
       "        [ 3,  4,  5],\n",
       "        [ 6,  7,  8]],\n",
       "\n",
       "       [[18, 19, 20],\n",
       "        [21, 22, 23],\n",
       "        [24, 25, 26]]])"
      ]
     },
     "execution_count": 141,
     "metadata": {},
     "output_type": "execute_result"
    }
   ],
   "source": [
    "a3[::2]"
   ]
  },
  {
   "cell_type": "code",
   "execution_count": 143,
   "id": "d099f268",
   "metadata": {
    "execution": {
     "iopub.execute_input": "2023-10-05T17:53:55.589138Z",
     "iopub.status.busy": "2023-10-05T17:53:55.588442Z",
     "iopub.status.idle": "2023-10-05T17:53:55.594126Z",
     "shell.execute_reply": "2023-10-05T17:53:55.593232Z"
    },
    "type_information": "[{\"type\": \"<class 'numpy.ndarray'>\", \"name\": \"ndarray\", \"module\": \"numpy\", \"size\": 112, \"shape\": \"(3,)\", \"dtype\": \"int64\"}]"
   },
   "outputs": [
    {
     "data": {
      "text/plain": [
       "array([3, 4, 5])"
      ]
     },
     "execution_count": 143,
     "metadata": {},
     "output_type": "execute_result"
    }
   ],
   "source": [
    "a3[0,1,:]"
   ]
  },
  {
   "cell_type": "code",
   "execution_count": 145,
   "id": "7ca5c797",
   "metadata": {
    "execution": {
     "iopub.execute_input": "2023-10-05T17:53:55.607254Z",
     "iopub.status.busy": "2023-10-05T17:53:55.606569Z",
     "iopub.status.idle": "2023-10-05T17:53:55.612310Z",
     "shell.execute_reply": "2023-10-05T17:53:55.611400Z"
    },
    "type_information": "[{\"type\": \"<class 'numpy.ndarray'>\", \"name\": \"ndarray\", \"module\": \"numpy\", \"size\": 112, \"shape\": \"(3,)\", \"dtype\": \"int64\"}]"
   },
   "outputs": [
    {
     "data": {
      "text/plain": [
       "array([10, 13, 16])"
      ]
     },
     "execution_count": 145,
     "metadata": {},
     "output_type": "execute_result"
    }
   ],
   "source": [
    "a3[1,:,1]"
   ]
  },
  {
   "cell_type": "code",
   "execution_count": 147,
   "id": "4b8d751d",
   "metadata": {
    "execution": {
     "iopub.execute_input": "2023-10-05T17:53:55.624950Z",
     "iopub.status.busy": "2023-10-05T17:53:55.624196Z",
     "iopub.status.idle": "2023-10-05T17:53:55.630135Z",
     "shell.execute_reply": "2023-10-05T17:53:55.629248Z"
    },
    "type_information": "[{\"type\": \"<class 'numpy.ndarray'>\", \"name\": \"ndarray\", \"module\": \"numpy\", \"size\": 128, \"shape\": \"(2, 2)\", \"dtype\": \"int64\"}]"
   },
   "outputs": [
    {
     "data": {
      "text/plain": [
       "array([[22, 23],\n",
       "       [25, 26]])"
      ]
     },
     "execution_count": 147,
     "metadata": {},
     "output_type": "execute_result"
    }
   ],
   "source": [
    "a3[2,1:,1:]"
   ]
  },
  {
   "cell_type": "code",
   "execution_count": 149,
   "id": "30949cb8",
   "metadata": {
    "execution": {
     "iopub.execute_input": "2023-10-05T17:53:55.642470Z",
     "iopub.status.busy": "2023-10-05T17:53:55.641848Z",
     "iopub.status.idle": "2023-10-05T17:53:55.647687Z",
     "shell.execute_reply": "2023-10-05T17:53:55.646795Z"
    },
    "type_information": "[{\"type\": \"<class 'numpy.ndarray'>\", \"name\": \"ndarray\", \"module\": \"numpy\", \"size\": 128, \"shape\": \"(2, 2)\", \"dtype\": \"int64\"}]"
   },
   "outputs": [
    {
     "data": {
      "text/plain": [
       "array([[ 0,  2],\n",
       "       [18, 20]])"
      ]
     },
     "execution_count": 149,
     "metadata": {},
     "output_type": "execute_result"
    }
   ],
   "source": [
    "a3[::2,0,::2]"
   ]
  },
  {
   "cell_type": "markdown",
   "id": "19d6af16",
   "metadata": {},
   "source": [
    "# iterating"
   ]
  },
  {
   "cell_type": "code",
   "execution_count": 151,
   "id": "7e1ac60d",
   "metadata": {
    "execution": {
     "iopub.execute_input": "2023-10-05T17:53:55.659959Z",
     "iopub.status.busy": "2023-10-05T17:53:55.659443Z",
     "iopub.status.idle": "2023-10-05T17:53:55.665006Z",
     "shell.execute_reply": "2023-10-05T17:53:55.664086Z"
    },
    "type_information": "[{\"type\": \"<class 'numpy.ndarray'>\", \"name\": \"ndarray\", \"module\": \"numpy\", \"size\": 192, \"shape\": \"(10,)\", \"dtype\": \"int64\"}]"
   },
   "outputs": [
    {
     "data": {
      "text/plain": [
       "array([0, 1, 2, 3, 4, 5, 6, 7, 8, 9])"
      ]
     },
     "execution_count": 151,
     "metadata": {},
     "output_type": "execute_result"
    }
   ],
   "source": [
    "a1"
   ]
  },
  {
   "cell_type": "code",
   "execution_count": 153,
   "id": "5af353ad",
   "metadata": {
    "execution": {
     "iopub.execute_input": "2023-10-05T17:53:55.677440Z",
     "iopub.status.busy": "2023-10-05T17:53:55.677148Z",
     "iopub.status.idle": "2023-10-05T17:53:55.682682Z",
     "shell.execute_reply": "2023-10-05T17:53:55.681786Z"
    },
    "type_information": "[{\"type\": \"<class 'numpy.ndarray'>\", \"name\": \"ndarray\", \"module\": \"numpy\", \"size\": 128, \"shape\": \"(3, 4)\", \"dtype\": \"int64\"}]"
   },
   "outputs": [
    {
     "data": {
      "text/plain": [
       "array([[ 0,  1,  2,  3],\n",
       "       [ 4,  5,  6,  7],\n",
       "       [ 8,  9, 10, 11]])"
      ]
     },
     "execution_count": 153,
     "metadata": {},
     "output_type": "execute_result"
    }
   ],
   "source": [
    "a2"
   ]
  },
  {
   "cell_type": "code",
   "execution_count": 155,
   "id": "5faf4eb9",
   "metadata": {
    "execution": {
     "iopub.execute_input": "2023-10-05T17:53:55.695397Z",
     "iopub.status.busy": "2023-10-05T17:53:55.695108Z",
     "iopub.status.idle": "2023-10-05T17:53:55.700909Z",
     "shell.execute_reply": "2023-10-05T17:53:55.699992Z"
    },
    "type_information": "[{\"type\": \"<class 'numpy.ndarray'>\", \"name\": \"ndarray\", \"module\": \"numpy\", \"size\": 144, \"shape\": \"(3, 3, 3)\", \"dtype\": \"int64\"}]"
   },
   "outputs": [
    {
     "data": {
      "text/plain": [
       "array([[[ 0,  1,  2],\n",
       "        [ 3,  4,  5],\n",
       "        [ 6,  7,  8]],\n",
       "\n",
       "       [[ 9, 10, 11],\n",
       "        [12, 13, 14],\n",
       "        [15, 16, 17]],\n",
       "\n",
       "       [[18, 19, 20],\n",
       "        [21, 22, 23],\n",
       "        [24, 25, 26]]])"
      ]
     },
     "execution_count": 155,
     "metadata": {},
     "output_type": "execute_result"
    }
   ],
   "source": [
    "a3"
   ]
  },
  {
   "cell_type": "code",
   "execution_count": 157,
   "id": "e9707d5d",
   "metadata": {
    "error": [
     {
      "ename": "KeyError",
      "evalue": "157",
      "output_type": "error",
      "traceback": [
       "\u001b[0;31m---------------------------------------------------------------------------\u001b[0m",
       "\u001b[0;31mKeyError\u001b[0m                                  Traceback (most recent call last)",
       "Cell \u001b[0;32mIn[158], line 1\u001b[0m\n\u001b[0;32m----> 1\u001b[0m json\u001b[38;5;241m.\u001b[39mdumps([typehandlerforuniqueobjects(\u001b[43mOut\u001b[49m\u001b[43m[\u001b[49m\u001b[38;5;241;43m157\u001b[39;49m\u001b[43m]\u001b[49m)])\n",
       "\u001b[0;31mKeyError\u001b[0m: 157"
      ]
     }
    ],
    "execution": {
     "iopub.execute_input": "2023-10-05T17:53:55.715694Z",
     "iopub.status.busy": "2023-10-05T17:53:55.715401Z",
     "iopub.status.idle": "2023-10-05T17:53:55.720417Z",
     "shell.execute_reply": "2023-10-05T17:53:55.719437Z"
    }
   },
   "outputs": [
    {
     "name": "stdout",
     "output_type": "stream",
     "text": [
      "0\n",
      "1\n",
      "2\n",
      "3\n",
      "4\n",
      "5\n",
      "6\n",
      "7\n",
      "8\n",
      "9\n"
     ]
    }
   ],
   "source": [
    "a1\n",
    "for i in a1:\n",
    "    print(i)"
   ]
  },
  {
   "cell_type": "code",
   "execution_count": 159,
   "id": "a8310e8a",
   "metadata": {
    "error": [
     {
      "ename": "KeyError",
      "evalue": "159",
      "output_type": "error",
      "traceback": [
       "\u001b[0;31m---------------------------------------------------------------------------\u001b[0m",
       "\u001b[0;31mKeyError\u001b[0m                                  Traceback (most recent call last)",
       "Cell \u001b[0;32mIn[160], line 1\u001b[0m\n\u001b[0;32m----> 1\u001b[0m json\u001b[38;5;241m.\u001b[39mdumps([typehandlerforuniqueobjects(\u001b[43mOut\u001b[49m\u001b[43m[\u001b[49m\u001b[38;5;241;43m159\u001b[39;49m\u001b[43m]\u001b[49m)])\n",
       "\u001b[0;31mKeyError\u001b[0m: 159"
      ]
     }
    ],
    "execution": {
     "iopub.execute_input": "2023-10-05T17:53:55.749980Z",
     "iopub.status.busy": "2023-10-05T17:53:55.749680Z",
     "iopub.status.idle": "2023-10-05T17:53:55.754880Z",
     "shell.execute_reply": "2023-10-05T17:53:55.753932Z"
    }
   },
   "outputs": [
    {
     "name": "stdout",
     "output_type": "stream",
     "text": [
      "[[ 0  1  2  3]\n",
      " [ 4  5  6  7]\n",
      " [ 8  9 10 11]]\n",
      "[[ 0  1  2  3]\n",
      " [ 4  5  6  7]\n",
      " [ 8  9 10 11]]\n",
      "[[ 0  1  2  3]\n",
      " [ 4  5  6  7]\n",
      " [ 8  9 10 11]]\n"
     ]
    }
   ],
   "source": [
    "a2\n",
    "for i in a2:\n",
    "    print(a2)"
   ]
  },
  {
   "cell_type": "code",
   "execution_count": 161,
   "id": "50885e40",
   "metadata": {
    "error": [
     {
      "ename": "KeyError",
      "evalue": "161",
      "output_type": "error",
      "traceback": [
       "\u001b[0;31m---------------------------------------------------------------------------\u001b[0m",
       "\u001b[0;31mKeyError\u001b[0m                                  Traceback (most recent call last)",
       "Cell \u001b[0;32mIn[162], line 1\u001b[0m\n\u001b[0;32m----> 1\u001b[0m json\u001b[38;5;241m.\u001b[39mdumps([typehandlerforuniqueobjects(\u001b[43mOut\u001b[49m\u001b[43m[\u001b[49m\u001b[38;5;241;43m161\u001b[39;49m\u001b[43m]\u001b[49m)])\n",
       "\u001b[0;31mKeyError\u001b[0m: 161"
      ]
     }
    ],
    "execution": {
     "iopub.execute_input": "2023-10-05T17:53:55.782783Z",
     "iopub.status.busy": "2023-10-05T17:53:55.782494Z",
     "iopub.status.idle": "2023-10-05T17:53:55.787855Z",
     "shell.execute_reply": "2023-10-05T17:53:55.786895Z"
    }
   },
   "outputs": [
    {
     "name": "stdout",
     "output_type": "stream",
     "text": [
      "[[[ 0  1  2]\n",
      "  [ 3  4  5]\n",
      "  [ 6  7  8]]\n",
      "\n",
      " [[ 9 10 11]\n",
      "  [12 13 14]\n",
      "  [15 16 17]]\n",
      "\n",
      " [[18 19 20]\n",
      "  [21 22 23]\n",
      "  [24 25 26]]]\n",
      "[[[ 0  1  2]\n",
      "  [ 3  4  5]\n",
      "  [ 6  7  8]]\n",
      "\n",
      " [[ 9 10 11]\n",
      "  [12 13 14]\n",
      "  [15 16 17]]\n",
      "\n",
      " [[18 19 20]\n",
      "  [21 22 23]\n",
      "  [24 25 26]]]\n",
      "[[[ 0  1  2]\n",
      "  [ 3  4  5]\n",
      "  [ 6  7  8]]\n",
      "\n",
      " [[ 9 10 11]\n",
      "  [12 13 14]\n",
      "  [15 16 17]]\n",
      "\n",
      " [[18 19 20]\n",
      "  [21 22 23]\n",
      "  [24 25 26]]]\n"
     ]
    }
   ],
   "source": [
    "a3\n",
    "for i in a3:\n",
    "    print(a3)"
   ]
  },
  {
   "cell_type": "code",
   "execution_count": 163,
   "id": "f0697efb",
   "metadata": {
    "error": [
     {
      "ename": "KeyError",
      "evalue": "163",
      "output_type": "error",
      "traceback": [
       "\u001b[0;31m---------------------------------------------------------------------------\u001b[0m",
       "\u001b[0;31mKeyError\u001b[0m                                  Traceback (most recent call last)",
       "Cell \u001b[0;32mIn[164], line 1\u001b[0m\n\u001b[0;32m----> 1\u001b[0m json\u001b[38;5;241m.\u001b[39mdumps([typehandlerforuniqueobjects(\u001b[43mOut\u001b[49m\u001b[43m[\u001b[49m\u001b[38;5;241;43m163\u001b[39;49m\u001b[43m]\u001b[49m)])\n",
       "\u001b[0;31mKeyError\u001b[0m: 163"
      ]
     }
    ],
    "execution": {
     "iopub.execute_input": "2023-10-05T17:53:55.815625Z",
     "iopub.status.busy": "2023-10-05T17:53:55.815330Z",
     "iopub.status.idle": "2023-10-05T17:53:55.820456Z",
     "shell.execute_reply": "2023-10-05T17:53:55.819481Z"
    }
   },
   "outputs": [
    {
     "name": "stdout",
     "output_type": "stream",
     "text": [
      "0\n",
      "1\n",
      "2\n",
      "3\n",
      "4\n",
      "5\n",
      "6\n",
      "7\n",
      "8\n",
      "9\n",
      "10\n",
      "11\n",
      "12\n",
      "13\n",
      "14\n",
      "15\n",
      "16\n",
      "17\n",
      "18\n",
      "19\n",
      "20\n",
      "21\n",
      "22\n",
      "23\n",
      "24\n",
      "25\n",
      "26\n"
     ]
    }
   ],
   "source": [
    "for i in np.nditer(a3):\n",
    "    print(i)"
   ]
  },
  {
   "cell_type": "code",
   "execution_count": 165,
   "id": "ac673487",
   "metadata": {
    "execution": {
     "iopub.execute_input": "2023-10-05T17:53:55.848162Z",
     "iopub.status.busy": "2023-10-05T17:53:55.847809Z",
     "iopub.status.idle": "2023-10-05T17:53:55.851864Z",
     "shell.execute_reply": "2023-10-05T17:53:55.850937Z"
    }
   },
   "outputs": [],
   "source": [
    "# transpose\\ravel"
   ]
  },
  {
   "cell_type": "code",
   "execution_count": 166,
   "id": "d5bf43c1",
   "metadata": {
    "execution": {
     "iopub.execute_input": "2023-10-05T17:53:55.855478Z",
     "iopub.status.busy": "2023-10-05T17:53:55.855189Z",
     "iopub.status.idle": "2023-10-05T17:53:55.861226Z",
     "shell.execute_reply": "2023-10-05T17:53:55.860239Z"
    },
    "type_information": "[{\"type\": \"<class 'numpy.ndarray'>\", \"name\": \"ndarray\", \"module\": \"numpy\", \"size\": 128, \"shape\": \"(4, 3)\", \"dtype\": \"int64\"}]"
   },
   "outputs": [
    {
     "data": {
      "text/plain": [
       "array([[ 0,  4,  8],\n",
       "       [ 1,  5,  9],\n",
       "       [ 2,  6, 10],\n",
       "       [ 3,  7, 11]])"
      ]
     },
     "execution_count": 166,
     "metadata": {},
     "output_type": "execute_result"
    }
   ],
   "source": [
    "np.transpose(a2)"
   ]
  },
  {
   "cell_type": "code",
   "execution_count": 168,
   "id": "5692c657",
   "metadata": {
    "execution": {
     "iopub.execute_input": "2023-10-05T17:53:55.874328Z",
     "iopub.status.busy": "2023-10-05T17:53:55.873950Z",
     "iopub.status.idle": "2023-10-05T17:53:55.879735Z",
     "shell.execute_reply": "2023-10-05T17:53:55.878816Z"
    },
    "type_information": "[{\"type\": \"<class 'numpy.ndarray'>\", \"name\": \"ndarray\", \"module\": \"numpy\", \"size\": 128, \"shape\": \"(4, 3)\", \"dtype\": \"int64\"}]"
   },
   "outputs": [
    {
     "data": {
      "text/plain": [
       "array([[ 0,  4,  8],\n",
       "       [ 1,  5,  9],\n",
       "       [ 2,  6, 10],\n",
       "       [ 3,  7, 11]])"
      ]
     },
     "execution_count": 168,
     "metadata": {},
     "output_type": "execute_result"
    }
   ],
   "source": [
    "a2.T"
   ]
  },
  {
   "cell_type": "code",
   "execution_count": 170,
   "id": "10c31351",
   "metadata": {
    "execution": {
     "iopub.execute_input": "2023-10-05T17:53:55.892883Z",
     "iopub.status.busy": "2023-10-05T17:53:55.892594Z",
     "iopub.status.idle": "2023-10-05T17:53:55.896503Z",
     "shell.execute_reply": "2023-10-05T17:53:55.895602Z"
    }
   },
   "outputs": [],
   "source": [
    "# ravel: to convert 1d array"
   ]
  },
  {
   "cell_type": "code",
   "execution_count": 171,
   "id": "f7f03870",
   "metadata": {
    "execution": {
     "iopub.execute_input": "2023-10-05T17:53:55.900153Z",
     "iopub.status.busy": "2023-10-05T17:53:55.899844Z",
     "iopub.status.idle": "2023-10-05T17:53:55.905526Z",
     "shell.execute_reply": "2023-10-05T17:53:55.904639Z"
    },
    "type_information": "[{\"type\": \"<class 'numpy.ndarray'>\", \"name\": \"ndarray\", \"module\": \"numpy\", \"size\": 112, \"shape\": \"(27,)\", \"dtype\": \"int64\"}]"
   },
   "outputs": [
    {
     "data": {
      "text/plain": [
       "array([ 0,  1,  2,  3,  4,  5,  6,  7,  8,  9, 10, 11, 12, 13, 14, 15, 16,\n",
       "       17, 18, 19, 20, 21, 22, 23, 24, 25, 26])"
      ]
     },
     "execution_count": 171,
     "metadata": {},
     "output_type": "execute_result"
    }
   ],
   "source": [
    "a3.ravel()"
   ]
  },
  {
   "cell_type": "markdown",
   "id": "af6c7942",
   "metadata": {},
   "source": [
    "# stacking"
   ]
  },
  {
   "cell_type": "code",
   "execution_count": 173,
   "id": "414a2bc7",
   "metadata": {
    "execution": {
     "iopub.execute_input": "2023-10-05T17:53:55.918613Z",
     "iopub.status.busy": "2023-10-05T17:53:55.918329Z",
     "iopub.status.idle": "2023-10-05T17:53:55.923077Z",
     "shell.execute_reply": "2023-10-05T17:53:55.922163Z"
    }
   },
   "outputs": [],
   "source": [
    "# horizontal stacking\n",
    "a4 = np.arange(12).reshape(3,4)\n",
    "a5 = np.arange(12,24).reshape(3,4)"
   ]
  },
  {
   "cell_type": "code",
   "execution_count": 174,
   "id": "78780c25",
   "metadata": {
    "execution": {
     "iopub.execute_input": "2023-10-05T17:53:55.926788Z",
     "iopub.status.busy": "2023-10-05T17:53:55.926495Z",
     "iopub.status.idle": "2023-10-05T17:53:55.932167Z",
     "shell.execute_reply": "2023-10-05T17:53:55.931242Z"
    },
    "type_information": "[{\"type\": \"<class 'numpy.ndarray'>\", \"name\": \"ndarray\", \"module\": \"numpy\", \"size\": 128, \"shape\": \"(3, 4)\", \"dtype\": \"int64\"}]"
   },
   "outputs": [
    {
     "data": {
      "text/plain": [
       "array([[ 0,  1,  2,  3],\n",
       "       [ 4,  5,  6,  7],\n",
       "       [ 8,  9, 10, 11]])"
      ]
     },
     "execution_count": 174,
     "metadata": {},
     "output_type": "execute_result"
    }
   ],
   "source": [
    "a4"
   ]
  },
  {
   "cell_type": "code",
   "execution_count": 176,
   "id": "048ab655",
   "metadata": {
    "execution": {
     "iopub.execute_input": "2023-10-05T17:53:55.944575Z",
     "iopub.status.busy": "2023-10-05T17:53:55.944287Z",
     "iopub.status.idle": "2023-10-05T17:53:55.950441Z",
     "shell.execute_reply": "2023-10-05T17:53:55.949533Z"
    },
    "type_information": "[{\"type\": \"<class 'numpy.ndarray'>\", \"name\": \"ndarray\", \"module\": \"numpy\", \"size\": 320, \"shape\": \"(3, 8)\", \"dtype\": \"int64\"}]"
   },
   "outputs": [
    {
     "data": {
      "text/plain": [
       "array([[ 0,  1,  2,  3, 12, 13, 14, 15],\n",
       "       [ 4,  5,  6,  7, 16, 17, 18, 19],\n",
       "       [ 8,  9, 10, 11, 20, 21, 22, 23]])"
      ]
     },
     "execution_count": 176,
     "metadata": {},
     "output_type": "execute_result"
    }
   ],
   "source": [
    "np.hstack((a4,a5))"
   ]
  },
  {
   "cell_type": "code",
   "execution_count": 178,
   "id": "5d64f1e2",
   "metadata": {
    "execution": {
     "iopub.execute_input": "2023-10-05T17:53:55.963138Z",
     "iopub.status.busy": "2023-10-05T17:53:55.962836Z",
     "iopub.status.idle": "2023-10-05T17:53:55.969008Z",
     "shell.execute_reply": "2023-10-05T17:53:55.968096Z"
    },
    "scrolled": true,
    "type_information": "[{\"type\": \"<class 'numpy.ndarray'>\", \"name\": \"ndarray\", \"module\": \"numpy\", \"size\": 320, \"shape\": \"(6, 4)\", \"dtype\": \"int64\"}]"
   },
   "outputs": [
    {
     "data": {
      "text/plain": [
       "array([[ 0,  1,  2,  3],\n",
       "       [ 4,  5,  6,  7],\n",
       "       [ 8,  9, 10, 11],\n",
       "       [12, 13, 14, 15],\n",
       "       [16, 17, 18, 19],\n",
       "       [20, 21, 22, 23]])"
      ]
     },
     "execution_count": 178,
     "metadata": {},
     "output_type": "execute_result"
    }
   ],
   "source": [
    "np.vstack((a4,a5))"
   ]
  },
  {
   "cell_type": "markdown",
   "id": "a319e888",
   "metadata": {},
   "source": [
    "# splitting"
   ]
  },
  {
   "cell_type": "code",
   "execution_count": 180,
   "id": "6e6713ea",
   "metadata": {
    "execution": {
     "iopub.execute_input": "2023-10-05T17:53:55.981991Z",
     "iopub.status.busy": "2023-10-05T17:53:55.981702Z",
     "iopub.status.idle": "2023-10-05T17:53:55.987405Z",
     "shell.execute_reply": "2023-10-05T17:53:55.986489Z"
    },
    "type_information": "[{\"type\": \"<class 'numpy.ndarray'>\", \"name\": \"ndarray\", \"module\": \"numpy\", \"size\": 128, \"shape\": \"(3, 4)\", \"dtype\": \"int64\"}]"
   },
   "outputs": [
    {
     "data": {
      "text/plain": [
       "array([[ 0,  1,  2,  3],\n",
       "       [ 4,  5,  6,  7],\n",
       "       [ 8,  9, 10, 11]])"
      ]
     },
     "execution_count": 180,
     "metadata": {},
     "output_type": "execute_result"
    }
   ],
   "source": [
    "a4"
   ]
  },
  {
   "cell_type": "code",
   "execution_count": 182,
   "id": "84e417af",
   "metadata": {
    "execution": {
     "iopub.execute_input": "2023-10-05T17:53:56.000281Z",
     "iopub.status.busy": "2023-10-05T17:53:55.999968Z",
     "iopub.status.idle": "2023-10-05T17:53:56.006092Z",
     "shell.execute_reply": "2023-10-05T17:53:56.005184Z"
    },
    "type_information": "[{\"type\": \"<class 'list'>\", \"name\": \"list\", \"module\": \"builtins\", \"size\": 88, \"data\": [{\"type\": \"<class 'numpy.ndarray'>\", \"name\": \"ndarray\", \"module\": \"numpy\", \"size\": 128, \"shape\": \"(3, 2)\", \"dtype\": \"int64\"}, {\"type\": \"<class 'numpy.ndarray'>\", \"name\": \"ndarray\", \"module\": \"numpy\", \"size\": 128, \"shape\": \"(3, 2)\", \"dtype\": \"int64\"}]}]"
   },
   "outputs": [
    {
     "data": {
      "text/plain": [
       "[array([[0, 1],\n",
       "        [4, 5],\n",
       "        [8, 9]]),\n",
       " array([[ 2,  3],\n",
       "        [ 6,  7],\n",
       "        [10, 11]])]"
      ]
     },
     "execution_count": 182,
     "metadata": {},
     "output_type": "execute_result"
    }
   ],
   "source": [
    "# horizontal splitting\n",
    "np.hsplit(a4,2)"
   ]
  },
  {
   "cell_type": "code",
   "execution_count": 184,
   "id": "e7e621c0",
   "metadata": {
    "execution": {
     "iopub.execute_input": "2023-10-05T17:53:56.018796Z",
     "iopub.status.busy": "2023-10-05T17:53:56.018514Z",
     "iopub.status.idle": "2023-10-05T17:53:56.024148Z",
     "shell.execute_reply": "2023-10-05T17:53:56.023220Z"
    },
    "type_information": "[{\"type\": \"<class 'numpy.ndarray'>\", \"name\": \"ndarray\", \"module\": \"numpy\", \"size\": 128, \"shape\": \"(3, 4)\", \"dtype\": \"int64\"}]"
   },
   "outputs": [
    {
     "data": {
      "text/plain": [
       "array([[12, 13, 14, 15],\n",
       "       [16, 17, 18, 19],\n",
       "       [20, 21, 22, 23]])"
      ]
     },
     "execution_count": 184,
     "metadata": {},
     "output_type": "execute_result"
    }
   ],
   "source": [
    "a5"
   ]
  },
  {
   "cell_type": "code",
   "execution_count": 186,
   "id": "90395a3a",
   "metadata": {
    "execution": {
     "iopub.execute_input": "2023-10-05T17:53:56.036880Z",
     "iopub.status.busy": "2023-10-05T17:53:56.036595Z",
     "iopub.status.idle": "2023-10-05T17:53:56.042701Z",
     "shell.execute_reply": "2023-10-05T17:53:56.041767Z"
    },
    "type_information": "[{\"type\": \"<class 'list'>\", \"name\": \"list\", \"module\": \"builtins\", \"size\": 88, \"data\": [{\"type\": \"<class 'numpy.ndarray'>\", \"name\": \"ndarray\", \"module\": \"numpy\", \"size\": 128, \"shape\": \"(1, 4)\", \"dtype\": \"int64\"}, {\"type\": \"<class 'numpy.ndarray'>\", \"name\": \"ndarray\", \"module\": \"numpy\", \"size\": 128, \"shape\": \"(1, 4)\", \"dtype\": \"int64\"}, {\"type\": \"<class 'numpy.ndarray'>\", \"name\": \"ndarray\", \"module\": \"numpy\", \"size\": 128, \"shape\": \"(1, 4)\", \"dtype\": \"int64\"}]}]"
   },
   "outputs": [
    {
     "data": {
      "text/plain": [
       "[array([[12, 13, 14, 15]]),\n",
       " array([[16, 17, 18, 19]]),\n",
       " array([[20, 21, 22, 23]])]"
      ]
     },
     "execution_count": 186,
     "metadata": {},
     "output_type": "execute_result"
    }
   ],
   "source": [
    "np.vsplit(a5,3)"
   ]
  },
  {
   "cell_type": "code",
   "execution_count": null,
   "id": "30fb9c2d",
   "metadata": {},
   "outputs": [],
   "source": []
  },
  {
   "cell_type": "code",
   "execution_count": null,
   "id": "923f48ee",
   "metadata": {},
   "outputs": [],
   "source": []
  },
  {
   "cell_type": "code",
   "execution_count": null,
   "id": "0c3c972e",
   "metadata": {},
   "outputs": [],
   "source": []
  },
  {
   "cell_type": "code",
   "execution_count": null,
   "id": "528e3a3e",
   "metadata": {},
   "outputs": [],
   "source": []
  },
  {
   "cell_type": "code",
   "execution_count": null,
   "id": "83ec041a",
   "metadata": {},
   "outputs": [],
   "source": []
  },
  {
   "cell_type": "code",
   "execution_count": null,
   "id": "22d95ade",
   "metadata": {},
   "outputs": [],
   "source": []
  },
  {
   "cell_type": "code",
   "execution_count": null,
   "id": "95a50ae5",
   "metadata": {},
   "outputs": [],
   "source": []
  },
  {
   "cell_type": "code",
   "execution_count": null,
   "id": "f09c5b84",
   "metadata": {},
   "outputs": [],
   "source": []
  },
  {
   "cell_type": "code",
   "execution_count": null,
   "id": "9daf9fec",
   "metadata": {},
   "outputs": [],
   "source": []
  },
  {
   "cell_type": "code",
   "execution_count": null,
   "id": "b3b49dff",
   "metadata": {},
   "outputs": [],
   "source": []
  },
  {
   "cell_type": "code",
   "execution_count": null,
   "id": "d5867b0a",
   "metadata": {},
   "outputs": [],
   "source": []
  },
  {
   "cell_type": "code",
   "execution_count": null,
   "id": "8afdddea",
   "metadata": {},
   "outputs": [],
   "source": []
  },
  {
   "cell_type": "code",
   "execution_count": null,
   "id": "a9ecb76d",
   "metadata": {},
   "outputs": [],
   "source": []
  }
 ],
 "metadata": {
  "kernelspec": {
   "display_name": "Python 3 (ipykernel)",
   "language": "python",
   "name": "python3"
  },
  "language_info": {
   "codemirror_mode": {
    "name": "ipython",
    "version": 3
   },
   "file_extension": ".py",
   "mimetype": "text/x-python",
   "name": "python",
   "nbconvert_exporter": "python",
   "pygments_lexer": "ipython3",
   "version": "3.10.12"
  }
 },
 "nbformat": 4,
 "nbformat_minor": 5
}
