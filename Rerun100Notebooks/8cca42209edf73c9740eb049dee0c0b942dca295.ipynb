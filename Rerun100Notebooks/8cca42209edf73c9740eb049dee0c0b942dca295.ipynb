{
 "cells": [
  {
   "cell_type": "markdown",
   "metadata": {
    "run_control": {
     "frozen": false,
     "read_only": false
    }
   },
   "source": [
    "# Bit Manipulation"
   ]
  },
  {
   "cell_type": "markdown",
   "metadata": {
    "run_control": {
     "frozen": false,
     "read_only": false
    }
   },
   "source": [
    "Bitwise operation operates on one or more bit patterns or binary numerals at the level of their individual bits. It is a fast, simple action directly supported by the processor, and is used to manipulate values for comparisons and calculations.\n",
    "\n",
    "Bitwise operations are substantially faster than division, several times faster than multiplication, and sometimes significantly faster than addition\n",
    "\n",
    "<img src=\"../images/ch24/bitmani.jpg\" width=\"660\"/>"
   ]
  },
  {
   "cell_type": "markdown",
   "metadata": {},
   "source": [
    "** Basic Skill **\n",
    "\n",
    "- XOR\n",
    "    - myBits ^ 0 : No change \n",
    "    - myBits ^ 1 : Flip\n",
    "- left shifting is the equivalent of ** multiplying by a power of two **\n",
    "    - x << n = x * (1 << n)\n",
    "    - 8 << 2 = 8 * (1 << 2) = 32\n",
    "- A bitwise right-shift will be the equivalent of ** integer division by 2 **\n",
    "    - 0001 1001 >> 2 = 0000 0110\n",
    "    - 0001 1001 >> 4 = 0000 0001"
   ]
  },
  {
   "cell_type": "markdown",
   "metadata": {},
   "source": [
    "** Ex.1 Set Bit, Clear Bit, Toggle Bit, Test Bit **\n",
    "\n",
    "where n is the bit number, and 0 is the least significant bit"
   ]
  },
  {
   "cell_type": "code",
   "execution_count": 2,
   "metadata": {
    "collapsed": true,
    "execution": {
     "iopub.execute_input": "2023-10-05T10:49:32.202978Z",
     "iopub.status.busy": "2023-10-05T10:49:32.202235Z",
     "iopub.status.idle": "2023-10-05T10:49:32.204928Z",
     "shell.execute_reply": "2023-10-05T10:49:32.204318Z"
    }
   },
   "outputs": [],
   "source": [
    "def setBit(a, n):\n",
    "    return a | (1<<n)"
   ]
  },
  {
   "cell_type": "code",
   "execution_count": 3,
   "metadata": {
    "error": [
     {
      "ename": "KeyError",
      "evalue": "3",
      "output_type": "error",
      "traceback": [
       "\u001b[0;31m---------------------------------------------------------------------------\u001b[0m",
       "\u001b[0;31mKeyError\u001b[0m                                  Traceback (most recent call last)",
       "\u001b[0;32m<ipython-input-1-e28d84b94a4d>\u001b[0m in \u001b[0;36m<module>\u001b[0;34m\u001b[0m\n\u001b[0;32m----> 1\u001b[0;31m \u001b[0mjson\u001b[0m\u001b[0;34m.\u001b[0m\u001b[0mdumps\u001b[0m\u001b[0;34m(\u001b[0m\u001b[0;34m[\u001b[0m\u001b[0mtypehandlerforuniqueobjects\u001b[0m\u001b[0;34m(\u001b[0m\u001b[0mOut\u001b[0m\u001b[0;34m[\u001b[0m\u001b[0;36m3\u001b[0m\u001b[0;34m]\u001b[0m\u001b[0;34m)\u001b[0m\u001b[0;34m]\u001b[0m\u001b[0;34m)\u001b[0m\u001b[0;34m\u001b[0m\u001b[0;34m\u001b[0m\u001b[0m\n\u001b[0m",
       "\u001b[0;31mKeyError\u001b[0m: 3"
      ]
     }
    ],
    "execution": {
     "iopub.execute_input": "2023-10-05T10:49:32.211619Z",
     "iopub.status.busy": "2023-10-05T10:49:32.210998Z",
     "iopub.status.idle": "2023-10-05T10:49:32.217547Z",
     "shell.execute_reply": "2023-10-05T10:49:32.218184Z"
    }
   },
   "outputs": [
    {
     "name": "stdout",
     "output_type": "stream",
     "text": [
      "0b10000000\n",
      "130\n",
      "0b10000010\n",
      "136\n",
      "0b10001000\n",
      "160\n",
      "0b10100000\n"
     ]
    }
   ],
   "source": [
    "a = 128\n",
    "n = 1\n",
    "print(bin(a))\n",
    "r = setBit(a, n)\n",
    "print(r)\n",
    "print(bin(r))\n",
    "\n",
    "n = 3\n",
    "r = setBit(a, n)\n",
    "print(r)\n",
    "print(bin(r))\n",
    "\n",
    "n = 5\n",
    "r = setBit(a, n)\n",
    "print(r)\n",
    "print(bin(r))\n"
   ]
  },
  {
   "cell_type": "code",
   "execution_count": 5,
   "metadata": {
    "collapsed": true,
    "execution": {
     "iopub.execute_input": "2023-10-05T10:49:32.304576Z",
     "iopub.status.busy": "2023-10-05T10:49:32.303805Z",
     "iopub.status.idle": "2023-10-05T10:49:32.306780Z",
     "shell.execute_reply": "2023-10-05T10:49:32.306099Z"
    }
   },
   "outputs": [],
   "source": [
    "def clearBit(a, n):\n",
    "    return a & (~(1<<n))"
   ]
  },
  {
   "cell_type": "code",
   "execution_count": 6,
   "metadata": {
    "error": [
     {
      "ename": "KeyError",
      "evalue": "6",
      "output_type": "error",
      "traceback": [
       "\u001b[0;31m---------------------------------------------------------------------------\u001b[0m",
       "\u001b[0;31mKeyError\u001b[0m                                  Traceback (most recent call last)",
       "\u001b[0;32m<ipython-input-1-069e131d130f>\u001b[0m in \u001b[0;36m<module>\u001b[0;34m\u001b[0m\n\u001b[0;32m----> 1\u001b[0;31m \u001b[0mjson\u001b[0m\u001b[0;34m.\u001b[0m\u001b[0mdumps\u001b[0m\u001b[0;34m(\u001b[0m\u001b[0;34m[\u001b[0m\u001b[0mtypehandlerforuniqueobjects\u001b[0m\u001b[0;34m(\u001b[0m\u001b[0mOut\u001b[0m\u001b[0;34m[\u001b[0m\u001b[0;36m6\u001b[0m\u001b[0;34m]\u001b[0m\u001b[0;34m)\u001b[0m\u001b[0;34m]\u001b[0m\u001b[0;34m)\u001b[0m\u001b[0;34m\u001b[0m\u001b[0;34m\u001b[0m\u001b[0m\n\u001b[0m",
       "\u001b[0;31mKeyError\u001b[0m: 6"
      ]
     }
    ],
    "execution": {
     "iopub.execute_input": "2023-10-05T10:49:32.313481Z",
     "iopub.status.busy": "2023-10-05T10:49:32.312869Z",
     "iopub.status.idle": "2023-10-05T10:49:32.315967Z",
     "shell.execute_reply": "2023-10-05T10:49:32.315272Z"
    }
   },
   "outputs": [
    {
     "name": "stdout",
     "output_type": "stream",
     "text": [
      "0b1111111\n",
      "0b1111110\n",
      "0b1111101\n",
      "0b1110111\n",
      "0b1011111\n"
     ]
    }
   ],
   "source": [
    "a = 127\n",
    "print(bin(a))\n",
    "n = 0\n",
    "r = clearBit(a, n)\n",
    "print(bin(r))\n",
    "n = 1\n",
    "r = clearBit(a, n)\n",
    "print(bin(r))\n",
    "n = 3\n",
    "r = clearBit(a, n)\n",
    "print(bin(r))\n",
    "n = 5\n",
    "r = clearBit(a, n)\n",
    "print(bin(r))"
   ]
  },
  {
   "cell_type": "code",
   "execution_count": 8,
   "metadata": {
    "collapsed": true,
    "execution": {
     "iopub.execute_input": "2023-10-05T10:49:32.331446Z",
     "iopub.status.busy": "2023-10-05T10:49:32.330715Z",
     "iopub.status.idle": "2023-10-05T10:49:32.333480Z",
     "shell.execute_reply": "2023-10-05T10:49:32.332756Z"
    }
   },
   "outputs": [],
   "source": [
    "def toggleBit(a, n):\n",
    "    return a ^ (1<<n)"
   ]
  },
  {
   "cell_type": "code",
   "execution_count": 9,
   "metadata": {
    "error": [
     {
      "ename": "KeyError",
      "evalue": "9",
      "output_type": "error",
      "traceback": [
       "\u001b[0;31m---------------------------------------------------------------------------\u001b[0m",
       "\u001b[0;31mKeyError\u001b[0m                                  Traceback (most recent call last)",
       "\u001b[0;32m<ipython-input-1-ae769f545366>\u001b[0m in \u001b[0;36m<module>\u001b[0;34m\u001b[0m\n\u001b[0;32m----> 1\u001b[0;31m \u001b[0mjson\u001b[0m\u001b[0;34m.\u001b[0m\u001b[0mdumps\u001b[0m\u001b[0;34m(\u001b[0m\u001b[0;34m[\u001b[0m\u001b[0mtypehandlerforuniqueobjects\u001b[0m\u001b[0;34m(\u001b[0m\u001b[0mOut\u001b[0m\u001b[0;34m[\u001b[0m\u001b[0;36m9\u001b[0m\u001b[0;34m]\u001b[0m\u001b[0;34m)\u001b[0m\u001b[0;34m]\u001b[0m\u001b[0;34m)\u001b[0m\u001b[0;34m\u001b[0m\u001b[0;34m\u001b[0m\u001b[0m\n\u001b[0m",
       "\u001b[0;31mKeyError\u001b[0m: 9"
      ]
     }
    ],
    "execution": {
     "iopub.execute_input": "2023-10-05T10:49:32.339763Z",
     "iopub.status.busy": "2023-10-05T10:49:32.339033Z",
     "iopub.status.idle": "2023-10-05T10:49:32.341937Z",
     "shell.execute_reply": "2023-10-05T10:49:32.342562Z"
    }
   },
   "outputs": [
    {
     "name": "stdout",
     "output_type": "stream",
     "text": [
      "0b10011011\n",
      "0b10011001\n",
      "0b10010011\n",
      "0b10111011\n"
     ]
    }
   ],
   "source": [
    "a = 155\n",
    "print(bin(a))\n",
    "n = 1\n",
    "r = toggleBit(a, n)\n",
    "print(bin(r))\n",
    "n = 3\n",
    "r = toggleBit(a, n)\n",
    "print(bin(r))\n",
    "n = 5\n",
    "r = toggleBit(a, n)\n",
    "print(bin(r))"
   ]
  },
  {
   "cell_type": "code",
   "execution_count": 11,
   "metadata": {
    "collapsed": true,
    "execution": {
     "iopub.execute_input": "2023-10-05T10:49:32.357919Z",
     "iopub.status.busy": "2023-10-05T10:49:32.357260Z",
     "iopub.status.idle": "2023-10-05T10:49:32.359804Z",
     "shell.execute_reply": "2023-10-05T10:49:32.359265Z"
    }
   },
   "outputs": [],
   "source": [
    "def testBit(a, n):\n",
    "    result = a & (1<<n)\n",
    "    return result != 0"
   ]
  },
  {
   "cell_type": "code",
   "execution_count": 12,
   "metadata": {
    "error": [
     {
      "ename": "KeyError",
      "evalue": "12",
      "output_type": "error",
      "traceback": [
       "\u001b[0;31m---------------------------------------------------------------------------\u001b[0m",
       "\u001b[0;31mKeyError\u001b[0m                                  Traceback (most recent call last)",
       "\u001b[0;32m<ipython-input-1-333c2389d85e>\u001b[0m in \u001b[0;36m<module>\u001b[0;34m\u001b[0m\n\u001b[0;32m----> 1\u001b[0;31m \u001b[0mjson\u001b[0m\u001b[0;34m.\u001b[0m\u001b[0mdumps\u001b[0m\u001b[0;34m(\u001b[0m\u001b[0;34m[\u001b[0m\u001b[0mtypehandlerforuniqueobjects\u001b[0m\u001b[0;34m(\u001b[0m\u001b[0mOut\u001b[0m\u001b[0;34m[\u001b[0m\u001b[0;36m12\u001b[0m\u001b[0;34m]\u001b[0m\u001b[0;34m)\u001b[0m\u001b[0;34m]\u001b[0m\u001b[0;34m)\u001b[0m\u001b[0;34m\u001b[0m\u001b[0;34m\u001b[0m\u001b[0m\n\u001b[0m",
       "\u001b[0;31mKeyError\u001b[0m: 12"
      ]
     }
    ],
    "execution": {
     "iopub.execute_input": "2023-10-05T10:49:32.365548Z",
     "iopub.status.busy": "2023-10-05T10:49:32.364920Z",
     "iopub.status.idle": "2023-10-05T10:49:32.368405Z",
     "shell.execute_reply": "2023-10-05T10:49:32.367722Z"
    }
   },
   "outputs": [
    {
     "name": "stdout",
     "output_type": "stream",
     "text": [
      "0b10011011\n",
      "True\n",
      "True\n",
      "False\n"
     ]
    }
   ],
   "source": [
    "a = 155\n",
    "print(bin(a))\n",
    "n = 1\n",
    "r = testBit(a, n)\n",
    "print(r)\n",
    "n = 3\n",
    "r = testBit(a, n)\n",
    "print(r)\n",
    "n = 5\n",
    "r = testBit(a, n)\n",
    "print(r)"
   ]
  },
  {
   "cell_type": "markdown",
   "metadata": {},
   "source": [
    "** Ex.2 Convert Integer to Bits **\n",
    "\n",
    "Write your own function to convert int to bits. Like bin(n)."
   ]
  },
  {
   "cell_type": "code",
   "execution_count": 14,
   "metadata": {
    "collapsed": true,
    "execution": {
     "iopub.execute_input": "2023-10-05T10:49:32.385995Z",
     "iopub.status.busy": "2023-10-05T10:49:32.385239Z",
     "iopub.status.idle": "2023-10-05T10:49:32.387917Z",
     "shell.execute_reply": "2023-10-05T10:49:32.387276Z"
    }
   },
   "outputs": [],
   "source": [
    "def toBinary(n):\n",
    "    sb = []\n",
    "    if n < 256:\n",
    "        upper = 128\n",
    "    else:\n",
    "        upper = 32768\n",
    "    i = upper\n",
    "    while i > 0:\n",
    "        if n & i != 0:\n",
    "            sb.append(str(1))\n",
    "        else:\n",
    "            sb.append(str(0))\n",
    "        i = i >> 1\n",
    "    return ''.join(sb)"
   ]
  },
  {
   "cell_type": "code",
   "execution_count": 15,
   "metadata": {
    "error": [
     {
      "ename": "KeyError",
      "evalue": "15",
      "output_type": "error",
      "traceback": [
       "\u001b[0;31m---------------------------------------------------------------------------\u001b[0m",
       "\u001b[0;31mKeyError\u001b[0m                                  Traceback (most recent call last)",
       "\u001b[0;32m<ipython-input-1-9c10718473fd>\u001b[0m in \u001b[0;36m<module>\u001b[0;34m\u001b[0m\n\u001b[0;32m----> 1\u001b[0;31m \u001b[0mjson\u001b[0m\u001b[0;34m.\u001b[0m\u001b[0mdumps\u001b[0m\u001b[0;34m(\u001b[0m\u001b[0;34m[\u001b[0m\u001b[0mtypehandlerforuniqueobjects\u001b[0m\u001b[0;34m(\u001b[0m\u001b[0mOut\u001b[0m\u001b[0;34m[\u001b[0m\u001b[0;36m15\u001b[0m\u001b[0;34m]\u001b[0m\u001b[0;34m)\u001b[0m\u001b[0;34m]\u001b[0m\u001b[0;34m)\u001b[0m\u001b[0;34m\u001b[0m\u001b[0;34m\u001b[0m\u001b[0m\n\u001b[0m",
       "\u001b[0;31mKeyError\u001b[0m: 15"
      ]
     }
    ],
    "execution": {
     "iopub.execute_input": "2023-10-05T10:49:32.394681Z",
     "iopub.status.busy": "2023-10-05T10:49:32.393949Z",
     "iopub.status.idle": "2023-10-05T10:49:32.396857Z",
     "shell.execute_reply": "2023-10-05T10:49:32.397482Z"
    }
   },
   "outputs": [
    {
     "name": "stdout",
     "output_type": "stream",
     "text": [
      "01111101\n",
      "0b1111101\n",
      "00110111\n",
      "0b110111\n",
      "11111111\n",
      "0b11111111\n",
      "0011011110101111\n",
      "0b11011110101111\n"
     ]
    }
   ],
   "source": [
    "n = 125\n",
    "print(toBinary(n))\n",
    "print(bin(n))\n",
    "\n",
    "n = 55\n",
    "print(toBinary(n))\n",
    "print(bin(n))\n",
    "\n",
    "n = 255\n",
    "print(toBinary(n))\n",
    "print(bin(n))\n",
    "\n",
    "n = 14255\n",
    "print(toBinary(n))\n",
    "print(bin(n))"
   ]
  },
  {
   "cell_type": "markdown",
   "metadata": {},
   "source": [
    "** Ex.3 Convert Bits to Integer **\n",
    "\n",
    "Write your own function to convert bits to integer. "
   ]
  },
  {
   "cell_type": "code",
   "execution_count": 17,
   "metadata": {
    "collapsed": true,
    "execution": {
     "iopub.execute_input": "2023-10-05T10:49:32.415131Z",
     "iopub.status.busy": "2023-10-05T10:49:32.414380Z",
     "iopub.status.idle": "2023-10-05T10:49:32.417149Z",
     "shell.execute_reply": "2023-10-05T10:49:32.416489Z"
    }
   },
   "outputs": [],
   "source": [
    "def convertBits2Int(binary):\n",
    "    length = len(binary)\n",
    "    result = 0\n",
    "    if length > 16:\n",
    "        raise ValueError(\"Only Supports 16 Bits\")\n",
    "    for i in range(length):\n",
    "        c = int(binary[i])\n",
    "        if (c != 0 and c != 1):\n",
    "            raise ValueError(\"binary can only be 0 or 1\")\n",
    "        #result += c << (length - i - 1)\n",
    "        result = (result << 1) + c\n",
    "        \n",
    "    return result"
   ]
  },
  {
   "cell_type": "code",
   "execution_count": 18,
   "metadata": {
    "error": [
     {
      "ename": "KeyError",
      "evalue": "18",
      "output_type": "error",
      "traceback": [
       "\u001b[0;31m---------------------------------------------------------------------------\u001b[0m",
       "\u001b[0;31mKeyError\u001b[0m                                  Traceback (most recent call last)",
       "\u001b[0;32m<ipython-input-1-8383cf153682>\u001b[0m in \u001b[0;36m<module>\u001b[0;34m\u001b[0m\n\u001b[0;32m----> 1\u001b[0;31m \u001b[0mjson\u001b[0m\u001b[0;34m.\u001b[0m\u001b[0mdumps\u001b[0m\u001b[0;34m(\u001b[0m\u001b[0;34m[\u001b[0m\u001b[0mtypehandlerforuniqueobjects\u001b[0m\u001b[0;34m(\u001b[0m\u001b[0mOut\u001b[0m\u001b[0;34m[\u001b[0m\u001b[0;36m18\u001b[0m\u001b[0;34m]\u001b[0m\u001b[0;34m)\u001b[0m\u001b[0;34m]\u001b[0m\u001b[0;34m)\u001b[0m\u001b[0;34m\u001b[0m\u001b[0;34m\u001b[0m\u001b[0m\n\u001b[0m",
       "\u001b[0;31mKeyError\u001b[0m: 18"
      ]
     }
    ],
    "execution": {
     "iopub.execute_input": "2023-10-05T10:49:32.422879Z",
     "iopub.status.busy": "2023-10-05T10:49:32.422133Z",
     "iopub.status.idle": "2023-10-05T10:49:32.425053Z",
     "shell.execute_reply": "2023-10-05T10:49:32.425686Z"
    }
   },
   "outputs": [
    {
     "name": "stdout",
     "output_type": "stream",
     "text": [
      "125\n",
      "255\n",
      "14255\n"
     ]
    }
   ],
   "source": [
    "binary = \"01111101\"\n",
    "result = convertBits2Int(binary)\n",
    "print(result)\n",
    "binary = \"11111111\"\n",
    "result = convertBits2Int(binary)\n",
    "print(result)\n",
    "binary = \"11011110101111\"\n",
    "result = convertBits2Int(binary)\n",
    "print(result)"
   ]
  },
  {
   "cell_type": "markdown",
   "metadata": {},
   "source": [
    "** Ex.4 Displaying Decimal with Bits **\n",
    "\n",
    "Given a (decimal - e.g.3.72) number that is passed in as a string, print the binary representation. If the number cannot be represented accurately in binary, print “ERROR”."
   ]
  },
  {
   "cell_type": "code",
   "execution_count": 20,
   "metadata": {
    "collapsed": true,
    "execution": {
     "iopub.execute_input": "2023-10-05T10:49:32.445958Z",
     "iopub.status.busy": "2023-10-05T10:49:32.445206Z",
     "iopub.status.idle": "2023-10-05T10:49:32.447451Z",
     "shell.execute_reply": "2023-10-05T10:49:32.448058Z"
    }
   },
   "outputs": [],
   "source": [
    "def convertDecimal(f):\n",
    "    str_f = str(f).split(\".\")\n",
    "    int_part, dec_part = divmod(f, 1)\n",
    "    int_part = int(int_part)\n",
    "    print(int_part, dec_part)\n",
    "    \n",
    "    int_s = \"\"\n",
    "    while (int_part > 0):\n",
    "        r = int_part % 2\n",
    "        int_part >>= 1\n",
    "        int_s = str(r) + int_s\n",
    "\n",
    "    dec_s = [] \n",
    "    while (dec_part > 0):\n",
    "        if (len(dec_s) > 32):\n",
    "            print(\"\".join(dec_s))\n",
    "            raise ValueError(\"Not Support\")\n",
    "        if (dec_part == 1):\n",
    "            dec_s.append(str(dec_part))\n",
    "            break\n",
    "        r = dec_part * 2\n",
    "        \n",
    "        if (r >= 1):\n",
    "            dec_s.append(\"1\")\n",
    "            dec_part = r - 1\n",
    "        else:\n",
    "            dec_s.append(\"0\")\n",
    "            dec_part = r\n",
    "        \n",
    "    return int_s + \".\" + \"\".join(dec_s)"
   ]
  },
  {
   "cell_type": "code",
   "execution_count": 21,
   "metadata": {
    "debugging_output": [
     {
      "name": "stdout",
      "output_type": "stream",
      "text": "Out[21][0]\nTraceback (most recent call last):\n  File \"<ipython-input-1-b7b8a64a4609>\", line 5, in <module>\n    outputs.append(typehandlerforuniqueobjects(Out[21][i]))\nKeyError: 21\n\nOut[21][1]\nTraceback (most recent call last):\n  File \"<ipython-input-1-b7b8a64a4609>\", line 5, in <module>\n    outputs.append(typehandlerforuniqueobjects(Out[21][i]))\nKeyError: 21\n\n"
     }
    ],
    "execution": {
     "iopub.execute_input": "2023-10-05T10:49:32.459709Z",
     "iopub.status.busy": "2023-10-05T10:49:32.458977Z",
     "iopub.status.idle": "2023-10-05T10:49:32.466875Z",
     "shell.execute_reply": "2023-10-05T10:49:32.467407Z"
    }
   },
   "outputs": [
    {
     "name": "stdout",
     "output_type": "stream",
     "text": [
      "3 0.875\n"
     ]
    },
    {
     "data": {
      "text/plain": [
       "'11.111'"
      ]
     },
     "execution_count": 1,
     "metadata": {},
     "output_type": "execute_result"
    }
   ],
   "source": [
    "f = 3.875\n",
    "convertDecimal(f)"
   ]
  },
  {
   "cell_type": "code",
   "execution_count": null,
   "metadata": {
    "collapsed": true
   },
   "outputs": [],
   "source": []
  },
  {
   "cell_type": "markdown",
   "metadata": {},
   "source": [
    "** Ex.5 Converting Hex to Integer **"
   ]
  },
  {
   "cell_type": "code",
   "execution_count": 23,
   "metadata": {
    "collapsed": true,
    "execution": {
     "iopub.execute_input": "2023-10-05T10:49:32.481907Z",
     "iopub.status.busy": "2023-10-05T10:49:32.481292Z",
     "iopub.status.idle": "2023-10-05T10:49:32.484065Z",
     "shell.execute_reply": "2023-10-05T10:49:32.483511Z"
    }
   },
   "outputs": [],
   "source": [
    "def hex2int(s):\n",
    "    digits = \"0123456789ABCDEF\"\n",
    "    val = 0\n",
    "    for i in range(len(s)):\n",
    "        c = s[i].upper()\n",
    "        d = digits.index(c)\n",
    "        val = 16 * val + d\n",
    "    return val"
   ]
  },
  {
   "cell_type": "code",
   "execution_count": 24,
   "metadata": {
    "error": [
     {
      "ename": "KeyError",
      "evalue": "25",
      "output_type": "error",
      "traceback": [
       "\u001b[0;31m---------------------------------------------------------------------------\u001b[0m",
       "\u001b[0;31mKeyError\u001b[0m                                  Traceback (most recent call last)",
       "\u001b[0;32m<ipython-input-1-99d531a737a7>\u001b[0m in \u001b[0;36m<module>\u001b[0;34m\u001b[0m\n\u001b[0;32m----> 1\u001b[0;31m \u001b[0mjson\u001b[0m\u001b[0;34m.\u001b[0m\u001b[0mdumps\u001b[0m\u001b[0;34m(\u001b[0m\u001b[0;34m[\u001b[0m\u001b[0mtypehandlerforuniqueobjects\u001b[0m\u001b[0;34m(\u001b[0m\u001b[0mOut\u001b[0m\u001b[0;34m[\u001b[0m\u001b[0;36m25\u001b[0m\u001b[0;34m]\u001b[0m\u001b[0;34m)\u001b[0m\u001b[0;34m]\u001b[0m\u001b[0;34m)\u001b[0m\u001b[0;34m\u001b[0m\u001b[0;34m\u001b[0m\u001b[0m\n\u001b[0m",
       "\u001b[0;31mKeyError\u001b[0m: 25"
      ]
     }
    ],
    "execution": {
     "iopub.execute_input": "2023-10-05T10:49:32.488981Z",
     "iopub.status.busy": "2023-10-05T10:49:32.488337Z",
     "iopub.status.idle": "2023-10-05T10:49:32.491844Z",
     "shell.execute_reply": "2023-10-05T10:49:32.491168Z"
    }
   },
   "outputs": [
    {
     "name": "stdout",
     "output_type": "stream",
     "text": [
      "31\n",
      "255\n",
      "3501\n"
     ]
    }
   ],
   "source": [
    "s = \"1F\"\n",
    "print(hex2int(s))\n",
    "s = \"FF\"\n",
    "print(hex2int(s))\n",
    "s = \"DAD\"\n",
    "print(hex2int(s))"
   ]
  },
  {
   "cell_type": "markdown",
   "metadata": {},
   "source": [
    "** Ex.6 Converting Integer to Hex **"
   ]
  },
  {
   "cell_type": "code",
   "execution_count": 26,
   "metadata": {
    "collapsed": true,
    "execution": {
     "iopub.execute_input": "2023-10-05T10:49:32.507961Z",
     "iopub.status.busy": "2023-10-05T10:49:32.507226Z",
     "iopub.status.idle": "2023-10-05T10:49:32.510176Z",
     "shell.execute_reply": "2023-10-05T10:49:32.509531Z"
    }
   },
   "outputs": [],
   "source": [
    "def int2hex(d):\n",
    "    digits = \"0123456789ABCDEF\"\n",
    "    if d == 0:\n",
    "        return \"0\"\n",
    "    hex = \"\"\n",
    "    while (d > 0):\n",
    "        digit = d % 16\n",
    "        hex = digits[digit] + hex\n",
    "        d = d // 16\n",
    "    return hex"
   ]
  },
  {
   "cell_type": "code",
   "execution_count": 27,
   "metadata": {
    "error": [
     {
      "ename": "KeyError",
      "evalue": "28",
      "output_type": "error",
      "traceback": [
       "\u001b[0;31m---------------------------------------------------------------------------\u001b[0m",
       "\u001b[0;31mKeyError\u001b[0m                                  Traceback (most recent call last)",
       "\u001b[0;32m<ipython-input-1-8e41da6a6bc8>\u001b[0m in \u001b[0;36m<module>\u001b[0;34m\u001b[0m\n\u001b[0;32m----> 1\u001b[0;31m \u001b[0mjson\u001b[0m\u001b[0;34m.\u001b[0m\u001b[0mdumps\u001b[0m\u001b[0;34m(\u001b[0m\u001b[0;34m[\u001b[0m\u001b[0mtypehandlerforuniqueobjects\u001b[0m\u001b[0;34m(\u001b[0m\u001b[0mOut\u001b[0m\u001b[0;34m[\u001b[0m\u001b[0;36m28\u001b[0m\u001b[0;34m]\u001b[0m\u001b[0;34m)\u001b[0m\u001b[0;34m]\u001b[0m\u001b[0;34m)\u001b[0m\u001b[0;34m\u001b[0m\u001b[0;34m\u001b[0m\u001b[0m\n\u001b[0m",
       "\u001b[0;31mKeyError\u001b[0m: 28"
      ]
     }
    ],
    "execution": {
     "iopub.execute_input": "2023-10-05T10:49:32.515407Z",
     "iopub.status.busy": "2023-10-05T10:49:32.514664Z",
     "iopub.status.idle": "2023-10-05T10:49:32.519527Z",
     "shell.execute_reply": "2023-10-05T10:49:32.518872Z"
    }
   },
   "outputs": [
    {
     "name": "stdout",
     "output_type": "stream",
     "text": [
      "1F"
     ]
    },
    {
     "name": "stdout",
     "output_type": "stream",
     "text": [
      "\n",
      "FF\n",
      "DAD\n"
     ]
    }
   ],
   "source": [
    "d = 31\n",
    "print(int2hex(d))\n",
    "d = 255\n",
    "print(int2hex(d))\n",
    "d = 3501\n",
    "print(int2hex(d))"
   ]
  },
  {
   "cell_type": "code",
   "execution_count": null,
   "metadata": {
    "collapsed": true
   },
   "outputs": [],
   "source": []
  },
  {
   "cell_type": "markdown",
   "metadata": {},
   "source": [
    "** Ex.7 The Number of Bits Set in an Integer **\n",
    "\n",
    "Gets the number of bits set to 1 in an integer. In other words, it counts the number of one."
   ]
  },
  {
   "cell_type": "code",
   "execution_count": 29,
   "metadata": {
    "collapsed": true,
    "execution": {
     "iopub.execute_input": "2023-10-05T10:49:32.536127Z",
     "iopub.status.busy": "2023-10-05T10:49:32.535414Z",
     "iopub.status.idle": "2023-10-05T10:49:32.537390Z",
     "shell.execute_reply": "2023-10-05T10:49:32.537873Z"
    }
   },
   "outputs": [],
   "source": [
    "def bitCountA(n):\n",
    "    count = 0\n",
    "    while (n != 0):\n",
    "        if (n & 1 != 0):\n",
    "            count += 1\n",
    "        n = n>>1\n",
    "    return count"
   ]
  },
  {
   "cell_type": "code",
   "execution_count": 30,
   "metadata": {
    "error": [
     {
      "ename": "KeyError",
      "evalue": "32",
      "output_type": "error",
      "traceback": [
       "\u001b[0;31m---------------------------------------------------------------------------\u001b[0m",
       "\u001b[0;31mKeyError\u001b[0m                                  Traceback (most recent call last)",
       "\u001b[0;32m<ipython-input-1-a64901a460ca>\u001b[0m in \u001b[0;36m<module>\u001b[0;34m\u001b[0m\n\u001b[0;32m----> 1\u001b[0;31m \u001b[0mjson\u001b[0m\u001b[0;34m.\u001b[0m\u001b[0mdumps\u001b[0m\u001b[0;34m(\u001b[0m\u001b[0;34m[\u001b[0m\u001b[0mtypehandlerforuniqueobjects\u001b[0m\u001b[0;34m(\u001b[0m\u001b[0mOut\u001b[0m\u001b[0;34m[\u001b[0m\u001b[0;36m32\u001b[0m\u001b[0;34m]\u001b[0m\u001b[0;34m)\u001b[0m\u001b[0;34m]\u001b[0m\u001b[0;34m)\u001b[0m\u001b[0;34m\u001b[0m\u001b[0;34m\u001b[0m\u001b[0m\n\u001b[0m",
       "\u001b[0;31mKeyError\u001b[0m: 32"
      ]
     }
    ],
    "execution": {
     "iopub.execute_input": "2023-10-05T10:49:32.542038Z",
     "iopub.status.busy": "2023-10-05T10:49:32.541431Z",
     "iopub.status.idle": "2023-10-05T10:49:32.543825Z",
     "shell.execute_reply": "2023-10-05T10:49:32.544374Z"
    }
   },
   "outputs": [
    {
     "name": "stdout",
     "output_type": "stream",
     "text": [
      "3\n"
     ]
    }
   ],
   "source": [
    "n = 11\n",
    "print(bitCountA(n))"
   ]
  },
  {
   "cell_type": "code",
   "execution_count": 32,
   "metadata": {
    "collapsed": true,
    "execution": {
     "iopub.execute_input": "2023-10-05T10:49:32.559415Z",
     "iopub.status.busy": "2023-10-05T10:49:32.558806Z",
     "iopub.status.idle": "2023-10-05T10:49:32.561294Z",
     "shell.execute_reply": "2023-10-05T10:49:32.560748Z"
    }
   },
   "outputs": [],
   "source": [
    "def bitCountB(n):\n",
    "    count = 0\n",
    "    while (n != 0):\n",
    "        n = n & (n - 1)\n",
    "        count += 1\n",
    "    return count"
   ]
  },
  {
   "cell_type": "code",
   "execution_count": 33,
   "metadata": {
    "error": [
     {
      "ename": "KeyError",
      "evalue": "35",
      "output_type": "error",
      "traceback": [
       "\u001b[0;31m---------------------------------------------------------------------------\u001b[0m",
       "\u001b[0;31mKeyError\u001b[0m                                  Traceback (most recent call last)",
       "\u001b[0;32m<ipython-input-1-e8bc5b8e8698>\u001b[0m in \u001b[0;36m<module>\u001b[0;34m\u001b[0m\n\u001b[0;32m----> 1\u001b[0;31m \u001b[0mjson\u001b[0m\u001b[0;34m.\u001b[0m\u001b[0mdumps\u001b[0m\u001b[0;34m(\u001b[0m\u001b[0;34m[\u001b[0m\u001b[0mtypehandlerforuniqueobjects\u001b[0m\u001b[0;34m(\u001b[0m\u001b[0mOut\u001b[0m\u001b[0;34m[\u001b[0m\u001b[0;36m35\u001b[0m\u001b[0;34m]\u001b[0m\u001b[0;34m)\u001b[0m\u001b[0;34m]\u001b[0m\u001b[0;34m)\u001b[0m\u001b[0;34m\u001b[0m\u001b[0;34m\u001b[0m\u001b[0m\n\u001b[0m",
       "\u001b[0;31mKeyError\u001b[0m: 35"
      ]
     }
    ],
    "execution": {
     "iopub.execute_input": "2023-10-05T10:49:32.565387Z",
     "iopub.status.busy": "2023-10-05T10:49:32.564767Z",
     "iopub.status.idle": "2023-10-05T10:49:32.568150Z",
     "shell.execute_reply": "2023-10-05T10:49:32.567390Z"
    }
   },
   "outputs": [
    {
     "name": "stdout",
     "output_type": "stream",
     "text": [
      "3\n"
     ]
    }
   ],
   "source": [
    "n = 11\n",
    "print(bitCountB(n))"
   ]
  },
  {
   "cell_type": "markdown",
   "metadata": {},
   "source": [
    "** Think **\n",
    "\n",
    "What (n & (n-1) == 0) is checking?"
   ]
  },
  {
   "cell_type": "code",
   "execution_count": 35,
   "metadata": {
    "error": [
     {
      "ename": "KeyError",
      "evalue": "37",
      "output_type": "error",
      "traceback": [
       "\u001b[0;31m---------------------------------------------------------------------------\u001b[0m",
       "\u001b[0;31mKeyError\u001b[0m                                  Traceback (most recent call last)",
       "\u001b[0;32m<ipython-input-1-5ef25354aa3f>\u001b[0m in \u001b[0;36m<module>\u001b[0;34m\u001b[0m\n\u001b[0;32m----> 1\u001b[0;31m \u001b[0mjson\u001b[0m\u001b[0;34m.\u001b[0m\u001b[0mdumps\u001b[0m\u001b[0;34m(\u001b[0m\u001b[0;34m[\u001b[0m\u001b[0mtypehandlerforuniqueobjects\u001b[0m\u001b[0;34m(\u001b[0m\u001b[0mOut\u001b[0m\u001b[0;34m[\u001b[0m\u001b[0;36m37\u001b[0m\u001b[0;34m]\u001b[0m\u001b[0;34m)\u001b[0m\u001b[0;34m]\u001b[0m\u001b[0;34m)\u001b[0m\u001b[0;34m\u001b[0m\u001b[0;34m\u001b[0m\u001b[0m\n\u001b[0m",
       "\u001b[0;31mKeyError\u001b[0m: 37"
      ]
     }
    ],
    "execution": {
     "iopub.execute_input": "2023-10-05T10:49:32.586326Z",
     "iopub.status.busy": "2023-10-05T10:49:32.585577Z",
     "iopub.status.idle": "2023-10-05T10:49:32.589029Z",
     "shell.execute_reply": "2023-10-05T10:49:32.589685Z"
    }
   },
   "outputs": [
    {
     "data": {
      "text/plain": [
       "[(0, True),\n",
       " (1, True),\n",
       " (2, True),\n",
       " (3, False),\n",
       " (4, True),\n",
       " (5, False),\n",
       " (6, False),\n",
       " (7, False),\n",
       " (8, True),\n",
       " (9, False),\n",
       " (10, False),\n",
       " (11, False),\n",
       " (12, False),\n",
       " (13, False),\n",
       " (14, False),\n",
       " (15, False),\n",
       " (16, True),\n",
       " (17, False),\n",
       " (18, False),\n",
       " (19, False),\n",
       " (20, False),\n",
       " (21, False),\n",
       " (22, False),\n",
       " (23, False),\n",
       " (24, False),\n",
       " (25, False),\n",
       " (26, False),\n",
       " (27, False),\n",
       " (28, False),\n",
       " (29, False)]"
      ]
     },
     "execution_count": 1,
     "metadata": {},
     "output_type": "execute_result"
    }
   ],
   "source": [
    "[(n, n & (n-1) == 0) for n in range(30)]"
   ]
  },
  {
   "cell_type": "markdown",
   "metadata": {},
   "source": [
    "** Ex.8 Next Power of 2 **\n",
    "\n",
    "Given an integer n, find the next power of 2 which is greater than n."
   ]
  },
  {
   "cell_type": "code",
   "execution_count": 37,
   "metadata": {
    "collapsed": true,
    "execution": {
     "iopub.execute_input": "2023-10-05T10:49:32.605849Z",
     "iopub.status.busy": "2023-10-05T10:49:32.604786Z",
     "iopub.status.idle": "2023-10-05T10:49:32.606894Z",
     "shell.execute_reply": "2023-10-05T10:49:32.607418Z"
    }
   },
   "outputs": [],
   "source": [
    "def next2Power(n):\n",
    "    while (n & (n-1) != 0):\n",
    "        n = n & (n-1)\n",
    "    return n << 1"
   ]
  },
  {
   "cell_type": "code",
   "execution_count": 38,
   "metadata": {
    "error": [
     {
      "ename": "KeyError",
      "evalue": "40",
      "output_type": "error",
      "traceback": [
       "\u001b[0;31m---------------------------------------------------------------------------\u001b[0m",
       "\u001b[0;31mKeyError\u001b[0m                                  Traceback (most recent call last)",
       "\u001b[0;32m<ipython-input-1-e1336ee5ce14>\u001b[0m in \u001b[0;36m<module>\u001b[0;34m\u001b[0m\n\u001b[0;32m----> 1\u001b[0;31m \u001b[0mjson\u001b[0m\u001b[0;34m.\u001b[0m\u001b[0mdumps\u001b[0m\u001b[0;34m(\u001b[0m\u001b[0;34m[\u001b[0m\u001b[0mtypehandlerforuniqueobjects\u001b[0m\u001b[0;34m(\u001b[0m\u001b[0mOut\u001b[0m\u001b[0;34m[\u001b[0m\u001b[0;36m40\u001b[0m\u001b[0;34m]\u001b[0m\u001b[0;34m)\u001b[0m\u001b[0;34m]\u001b[0m\u001b[0;34m)\u001b[0m\u001b[0;34m\u001b[0m\u001b[0;34m\u001b[0m\u001b[0m\n\u001b[0m",
       "\u001b[0;31mKeyError\u001b[0m: 40"
      ]
     }
    ],
    "execution": {
     "iopub.execute_input": "2023-10-05T10:49:32.612277Z",
     "iopub.status.busy": "2023-10-05T10:49:32.611637Z",
     "iopub.status.idle": "2023-10-05T10:49:32.614075Z",
     "shell.execute_reply": "2023-10-05T10:49:32.614601Z"
    }
   },
   "outputs": [
    {
     "name": "stdout",
     "output_type": "stream",
     "text": [
      "16\n",
      "128\n",
      "1024\n"
     ]
    }
   ],
   "source": [
    "n = 8\n",
    "print(next2Power(n))\n",
    "n = 127\n",
    "print(next2Power(n))\n",
    "n = 555\n",
    "print(next2Power(n))"
   ]
  },
  {
   "cell_type": "markdown",
   "metadata": {},
   "source": [
    "** Ex.9 Detect Opposite Signs for Two Integers **"
   ]
  },
  {
   "cell_type": "code",
   "execution_count": 40,
   "metadata": {
    "collapsed": true,
    "execution": {
     "iopub.execute_input": "2023-10-05T10:49:32.629569Z",
     "iopub.status.busy": "2023-10-05T10:49:32.628829Z",
     "iopub.status.idle": "2023-10-05T10:49:32.631651Z",
     "shell.execute_reply": "2023-10-05T10:49:32.630924Z"
    }
   },
   "outputs": [],
   "source": [
    "def isOppositeSigns(a, b):\n",
    "    return (a^b) < 0"
   ]
  },
  {
   "cell_type": "code",
   "execution_count": 41,
   "metadata": {
    "error": [
     {
      "ename": "KeyError",
      "evalue": "43",
      "output_type": "error",
      "traceback": [
       "\u001b[0;31m---------------------------------------------------------------------------\u001b[0m",
       "\u001b[0;31mKeyError\u001b[0m                                  Traceback (most recent call last)",
       "\u001b[0;32m<ipython-input-1-e9c0163072fd>\u001b[0m in \u001b[0;36m<module>\u001b[0;34m\u001b[0m\n\u001b[0;32m----> 1\u001b[0;31m \u001b[0mjson\u001b[0m\u001b[0;34m.\u001b[0m\u001b[0mdumps\u001b[0m\u001b[0;34m(\u001b[0m\u001b[0;34m[\u001b[0m\u001b[0mtypehandlerforuniqueobjects\u001b[0m\u001b[0;34m(\u001b[0m\u001b[0mOut\u001b[0m\u001b[0;34m[\u001b[0m\u001b[0;36m43\u001b[0m\u001b[0;34m]\u001b[0m\u001b[0;34m)\u001b[0m\u001b[0;34m]\u001b[0m\u001b[0;34m)\u001b[0m\u001b[0;34m\u001b[0m\u001b[0;34m\u001b[0m\u001b[0m\n\u001b[0m",
       "\u001b[0;31mKeyError\u001b[0m: 43"
      ]
     }
    ],
    "execution": {
     "iopub.execute_input": "2023-10-05T10:49:32.638730Z",
     "iopub.status.busy": "2023-10-05T10:49:32.637990Z",
     "iopub.status.idle": "2023-10-05T10:49:32.641571Z",
     "shell.execute_reply": "2023-10-05T10:49:32.640952Z"
    }
   },
   "outputs": [
    {
     "name": "stdout",
     "output_type": "stream",
     "text": [
      "False\n",
      "True\n",
      "True\n",
      "False\n",
      "False\n"
     ]
    }
   ],
   "source": [
    "a, b = 10, 20\n",
    "print(isOppositeSigns(a, b))\n",
    "a, b = 10, -20\n",
    "print(isOppositeSigns(a, b))\n",
    "a, b = -10, 20\n",
    "print(isOppositeSigns(a, b))\n",
    "a, b = -10, -20\n",
    "print(isOppositeSigns(a, b))\n",
    "a, b = 0, 20\n",
    "print(isOppositeSigns(a, b))"
   ]
  },
  {
   "cell_type": "markdown",
   "metadata": {},
   "source": [
    "** Ex.10 Compute  Sign of Integer **"
   ]
  },
  {
   "cell_type": "code",
   "execution_count": 43,
   "metadata": {
    "collapsed": true,
    "execution": {
     "iopub.execute_input": "2023-10-05T10:49:32.656678Z",
     "iopub.status.busy": "2023-10-05T10:49:32.655948Z",
     "iopub.status.idle": "2023-10-05T10:49:32.658630Z",
     "shell.execute_reply": "2023-10-05T10:49:32.657989Z"
    }
   },
   "outputs": [],
   "source": [
    "def isPositiveInteger(n):\n",
    "    return (n >> 31) == 0"
   ]
  },
  {
   "cell_type": "code",
   "execution_count": 44,
   "metadata": {
    "error": [
     {
      "ename": "KeyError",
      "evalue": "46",
      "output_type": "error",
      "traceback": [
       "\u001b[0;31m---------------------------------------------------------------------------\u001b[0m",
       "\u001b[0;31mKeyError\u001b[0m                                  Traceback (most recent call last)",
       "\u001b[0;32m<ipython-input-1-e497bf2692d7>\u001b[0m in \u001b[0;36m<module>\u001b[0;34m\u001b[0m\n\u001b[0;32m----> 1\u001b[0;31m \u001b[0mjson\u001b[0m\u001b[0;34m.\u001b[0m\u001b[0mdumps\u001b[0m\u001b[0;34m(\u001b[0m\u001b[0;34m[\u001b[0m\u001b[0mtypehandlerforuniqueobjects\u001b[0m\u001b[0;34m(\u001b[0m\u001b[0mOut\u001b[0m\u001b[0;34m[\u001b[0m\u001b[0;36m46\u001b[0m\u001b[0;34m]\u001b[0m\u001b[0;34m)\u001b[0m\u001b[0;34m]\u001b[0m\u001b[0;34m)\u001b[0m\u001b[0;34m\u001b[0m\u001b[0;34m\u001b[0m\u001b[0m\n\u001b[0m",
       "\u001b[0;31mKeyError\u001b[0m: 46"
      ]
     }
    ],
    "execution": {
     "iopub.execute_input": "2023-10-05T10:49:32.663952Z",
     "iopub.status.busy": "2023-10-05T10:49:32.663174Z",
     "iopub.status.idle": "2023-10-05T10:49:32.666161Z",
     "shell.execute_reply": "2023-10-05T10:49:32.666685Z"
    }
   },
   "outputs": [
    {
     "name": "stdout",
     "output_type": "stream",
     "text": [
      "True\n",
      "False\n",
      "True\n"
     ]
    }
   ],
   "source": [
    "n = 10\n",
    "print(isPositiveInteger(n))\n",
    "n = -1\n",
    "print(isPositiveInteger(n))\n",
    "n = 0\n",
    "print(isPositiveInteger(n))"
   ]
  },
  {
   "cell_type": "code",
   "execution_count": 46,
   "metadata": {
    "error": [
     {
      "ename": "KeyError",
      "evalue": "48",
      "output_type": "error",
      "traceback": [
       "\u001b[0;31m---------------------------------------------------------------------------\u001b[0m",
       "\u001b[0;31mKeyError\u001b[0m                                  Traceback (most recent call last)",
       "\u001b[0;32m<ipython-input-1-98664fdae1ba>\u001b[0m in \u001b[0;36m<module>\u001b[0;34m\u001b[0m\n\u001b[0;32m----> 1\u001b[0;31m \u001b[0mjson\u001b[0m\u001b[0;34m.\u001b[0m\u001b[0mdumps\u001b[0m\u001b[0;34m(\u001b[0m\u001b[0;34m[\u001b[0m\u001b[0mtypehandlerforuniqueobjects\u001b[0m\u001b[0;34m(\u001b[0m\u001b[0mOut\u001b[0m\u001b[0;34m[\u001b[0m\u001b[0;36m48\u001b[0m\u001b[0;34m]\u001b[0m\u001b[0;34m)\u001b[0m\u001b[0;34m]\u001b[0m\u001b[0;34m)\u001b[0m\u001b[0;34m\u001b[0m\u001b[0;34m\u001b[0m\u001b[0m\n\u001b[0m",
       "\u001b[0;31mKeyError\u001b[0m: 48"
      ]
     }
    ],
    "execution": {
     "iopub.execute_input": "2023-10-05T10:49:32.682781Z",
     "iopub.status.busy": "2023-10-05T10:49:32.682045Z",
     "iopub.status.idle": "2023-10-05T10:49:32.685673Z",
     "shell.execute_reply": "2023-10-05T10:49:32.684971Z"
    }
   },
   "outputs": [
    {
     "name": "stdout",
     "output_type": "stream",
     "text": [
      "-0b1100100\n",
      "-0b110010\n",
      "-0b1\n",
      "-1\n"
     ]
    }
   ],
   "source": [
    "n = -100\n",
    "print(bin(n))\n",
    "n = n >> 1\n",
    "print(bin(n))\n",
    "n = n >> 31\n",
    "print(bin(n))\n",
    "print(n)"
   ]
  },
  {
   "cell_type": "code",
   "execution_count": null,
   "metadata": {
    "collapsed": true
   },
   "outputs": [],
   "source": []
  },
  {
   "cell_type": "code",
   "execution_count": null,
   "metadata": {
    "collapsed": true
   },
   "outputs": [],
   "source": []
  }
 ],
 "metadata": {
  "kernelspec": {
   "display_name": "Python 3",
   "language": "python",
   "name": "python3"
  },
  "language_info": {
   "codemirror_mode": {
    "name": "ipython",
    "version": 3
   },
   "file_extension": ".py",
   "mimetype": "text/x-python",
   "name": "python",
   "nbconvert_exporter": "python",
   "pygments_lexer": "ipython3",
   "version": "3.6.15"
  }
 },
 "nbformat": 4,
 "nbformat_minor": 2
}
