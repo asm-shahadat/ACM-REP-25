{
 "cells": [
  {
   "cell_type": "markdown",
   "id": "2791da96",
   "metadata": {},
   "source": [
    "Objective: From the titanic dataset, we need to predict survival of the passengers."
   ]
  },
  {
   "cell_type": "code",
   "execution_count": 2,
   "id": "33f70794",
   "metadata": {
    "execution": {
     "iopub.execute_input": "2023-10-05T04:40:48.311165Z",
     "iopub.status.busy": "2023-10-05T04:40:48.310884Z",
     "iopub.status.idle": "2023-10-05T04:40:50.245450Z",
     "shell.execute_reply": "2023-10-05T04:40:50.244143Z"
    }
   },
   "outputs": [],
   "source": [
    "# Importing the libraries\n",
    "import pandas as pd\n",
    "import numpy as np\n",
    "import matplotlib.pyplot as plt\n",
    "%matplotlib inline\n",
    "import seaborn as sns"
   ]
  },
  {
   "cell_type": "code",
   "execution_count": 3,
   "id": "af924fc6",
   "metadata": {
    "execution": {
     "iopub.execute_input": "2023-10-05T04:40:50.250049Z",
     "iopub.status.busy": "2023-10-05T04:40:50.249665Z",
     "iopub.status.idle": "2023-10-05T04:40:50.482868Z",
     "shell.execute_reply": "2023-10-05T04:40:50.481683Z"
    }
   },
   "outputs": [],
   "source": [
    "# reading the dataset \n",
    "df=pd.read_csv(r'https://raw.githubusercontent.com/BigDataGal/Python-for-Data-Science/master/titanic-train.csv')"
   ]
  },
  {
   "cell_type": "code",
   "execution_count": 4,
   "id": "7499eddb",
   "metadata": {
    "execution": {
     "iopub.execute_input": "2023-10-05T04:40:50.487055Z",
     "iopub.status.busy": "2023-10-05T04:40:50.486747Z",
     "iopub.status.idle": "2023-10-05T04:40:50.491352Z",
     "shell.execute_reply": "2023-10-05T04:40:50.490294Z"
    }
   },
   "outputs": [],
   "source": [
    "##  Dataset description\n",
    "#survival\tSurvival\t0 = No, 1 = Yes\n",
    "#pclass\tTicket class\t1 = 1st, 2 = 2nd, 3 = 3rd\n",
    "#sex\tSex\t\n",
    "#Age\tAge in years\t\n",
    "#sibsp\t# of siblings / spouses aboard the Titanic\t\n",
    "#parch\t# of parents / children aboard the Titanic\t\n",
    "#ticket\tTicket number\t\n",
    "#fare\tPassenger fare\t\n",
    "#cabin\tCabin number\t\n",
    "#embarked\tPort of Embarkation\tC = Cherbourg, Q = Queenstown, S = Southampton"
   ]
  },
  {
   "cell_type": "markdown",
   "id": "9b9433b1",
   "metadata": {},
   "source": [
    "### EDA- Exploratory Data Analysis"
   ]
  },
  {
   "cell_type": "code",
   "execution_count": 5,
   "id": "f82550de",
   "metadata": {
    "execution": {
     "iopub.execute_input": "2023-10-05T04:40:50.495343Z",
     "iopub.status.busy": "2023-10-05T04:40:50.495052Z",
     "iopub.status.idle": "2023-10-05T04:40:50.514430Z",
     "shell.execute_reply": "2023-10-05T04:40:50.513367Z"
    },
    "type_information": "[{\"type\": \"<class 'pandas.core.frame.DataFrame'>\", \"name\": \"DataFrame\", \"module\": \"pandas.core.frame\", \"size\": 2021, \"shape\": \"(5, 12)\", \"dtype\": \"PassengerId      int64\\nSurvived         int64\\nPclass           int64\\nName            object\\nSex             object\\nAge            float64\\nSibSp            int64\\nParch            int64\\nTicket          object\\nFare           float64\\nCabin           object\\nEmbarked        object\\ndtype: object\"}]"
   },
   "outputs": [
    {
     "data": {
      "text/html": [
       "<div>\n",
       "<style scoped>\n",
       "    .dataframe tbody tr th:only-of-type {\n",
       "        vertical-align: middle;\n",
       "    }\n",
       "\n",
       "    .dataframe tbody tr th {\n",
       "        vertical-align: top;\n",
       "    }\n",
       "\n",
       "    .dataframe thead th {\n",
       "        text-align: right;\n",
       "    }\n",
       "</style>\n",
       "<table border=\"1\" class=\"dataframe\">\n",
       "  <thead>\n",
       "    <tr style=\"text-align: right;\">\n",
       "      <th></th>\n",
       "      <th>PassengerId</th>\n",
       "      <th>Survived</th>\n",
       "      <th>Pclass</th>\n",
       "      <th>Name</th>\n",
       "      <th>Sex</th>\n",
       "      <th>Age</th>\n",
       "      <th>SibSp</th>\n",
       "      <th>Parch</th>\n",
       "      <th>Ticket</th>\n",
       "      <th>Fare</th>\n",
       "      <th>Cabin</th>\n",
       "      <th>Embarked</th>\n",
       "    </tr>\n",
       "  </thead>\n",
       "  <tbody>\n",
       "    <tr>\n",
       "      <th>0</th>\n",
       "      <td>1</td>\n",
       "      <td>0</td>\n",
       "      <td>3</td>\n",
       "      <td>Braund, Mr. Owen Harris</td>\n",
       "      <td>male</td>\n",
       "      <td>22.0</td>\n",
       "      <td>1</td>\n",
       "      <td>0</td>\n",
       "      <td>A/5 21171</td>\n",
       "      <td>7.2500</td>\n",
       "      <td>NaN</td>\n",
       "      <td>S</td>\n",
       "    </tr>\n",
       "    <tr>\n",
       "      <th>1</th>\n",
       "      <td>2</td>\n",
       "      <td>1</td>\n",
       "      <td>1</td>\n",
       "      <td>Cumings, Mrs. John Bradley (Florence Briggs Th...</td>\n",
       "      <td>female</td>\n",
       "      <td>38.0</td>\n",
       "      <td>1</td>\n",
       "      <td>0</td>\n",
       "      <td>PC 17599</td>\n",
       "      <td>71.2833</td>\n",
       "      <td>C85</td>\n",
       "      <td>C</td>\n",
       "    </tr>\n",
       "    <tr>\n",
       "      <th>2</th>\n",
       "      <td>3</td>\n",
       "      <td>1</td>\n",
       "      <td>3</td>\n",
       "      <td>Heikkinen, Miss. Laina</td>\n",
       "      <td>female</td>\n",
       "      <td>26.0</td>\n",
       "      <td>0</td>\n",
       "      <td>0</td>\n",
       "      <td>STON/O2. 3101282</td>\n",
       "      <td>7.9250</td>\n",
       "      <td>NaN</td>\n",
       "      <td>S</td>\n",
       "    </tr>\n",
       "    <tr>\n",
       "      <th>3</th>\n",
       "      <td>4</td>\n",
       "      <td>1</td>\n",
       "      <td>1</td>\n",
       "      <td>Futrelle, Mrs. Jacques Heath (Lily May Peel)</td>\n",
       "      <td>female</td>\n",
       "      <td>35.0</td>\n",
       "      <td>1</td>\n",
       "      <td>0</td>\n",
       "      <td>113803</td>\n",
       "      <td>53.1000</td>\n",
       "      <td>C123</td>\n",
       "      <td>S</td>\n",
       "    </tr>\n",
       "    <tr>\n",
       "      <th>4</th>\n",
       "      <td>5</td>\n",
       "      <td>0</td>\n",
       "      <td>3</td>\n",
       "      <td>Allen, Mr. William Henry</td>\n",
       "      <td>male</td>\n",
       "      <td>35.0</td>\n",
       "      <td>0</td>\n",
       "      <td>0</td>\n",
       "      <td>373450</td>\n",
       "      <td>8.0500</td>\n",
       "      <td>NaN</td>\n",
       "      <td>S</td>\n",
       "    </tr>\n",
       "  </tbody>\n",
       "</table>\n",
       "</div>"
      ],
      "text/plain": [
       "   PassengerId  Survived  Pclass  \\\n",
       "0            1         0       3   \n",
       "1            2         1       1   \n",
       "2            3         1       3   \n",
       "3            4         1       1   \n",
       "4            5         0       3   \n",
       "\n",
       "                                                Name     Sex   Age  SibSp  \\\n",
       "0                            Braund, Mr. Owen Harris    male  22.0      1   \n",
       "1  Cumings, Mrs. John Bradley (Florence Briggs Th...  female  38.0      1   \n",
       "2                             Heikkinen, Miss. Laina  female  26.0      0   \n",
       "3       Futrelle, Mrs. Jacques Heath (Lily May Peel)  female  35.0      1   \n",
       "4                           Allen, Mr. William Henry    male  35.0      0   \n",
       "\n",
       "   Parch            Ticket     Fare Cabin Embarked  \n",
       "0      0         A/5 21171   7.2500   NaN        S  \n",
       "1      0          PC 17599  71.2833   C85        C  \n",
       "2      0  STON/O2. 3101282   7.9250   NaN        S  \n",
       "3      0            113803  53.1000  C123        S  \n",
       "4      0            373450   8.0500   NaN        S  "
      ]
     },
     "execution_count": 5,
     "metadata": {},
     "output_type": "execute_result"
    }
   ],
   "source": [
    "df.head()"
   ]
  },
  {
   "cell_type": "code",
   "execution_count": 7,
   "id": "511331ee",
   "metadata": {
    "error": [
     {
      "ename": "KeyError",
      "evalue": "7",
      "output_type": "error",
      "traceback": [
       "\u001b[0;31m---------------------------------------------------------------------------\u001b[0m",
       "\u001b[0;31mKeyError\u001b[0m                                  Traceback (most recent call last)",
       "Cell \u001b[0;32mIn[8], line 1\u001b[0m\n\u001b[0;32m----> 1\u001b[0m json\u001b[38;5;241m.\u001b[39mdumps([typehandlerforuniqueobjects(\u001b[43mOut\u001b[49m\u001b[43m[\u001b[49m\u001b[38;5;241;43m7\u001b[39;49m\u001b[43m]\u001b[49m)])\n",
       "\u001b[0;31mKeyError\u001b[0m: 7"
      ]
     }
    ],
    "execution": {
     "iopub.execute_input": "2023-10-05T04:40:50.531226Z",
     "iopub.status.busy": "2023-10-05T04:40:50.530937Z",
     "iopub.status.idle": "2023-10-05T04:40:50.543324Z",
     "shell.execute_reply": "2023-10-05T04:40:50.542353Z"
    }
   },
   "outputs": [
    {
     "name": "stdout",
     "output_type": "stream",
     "text": [
      "<class 'pandas.core.frame.DataFrame'>\n",
      "RangeIndex: 891 entries, 0 to 890\n",
      "Data columns (total 12 columns):\n",
      " #   Column       Non-Null Count  Dtype  \n",
      "---  ------       --------------  -----  \n",
      " 0   PassengerId  891 non-null    int64  \n",
      " 1   Survived     891 non-null    int64  \n",
      " 2   Pclass       891 non-null    int64  \n",
      " 3   Name         891 non-null    object \n",
      " 4   Sex          891 non-null    object \n",
      " 5   Age          714 non-null    float64\n",
      " 6   SibSp        891 non-null    int64  \n",
      " 7   Parch        891 non-null    int64  \n",
      " 8   Ticket       891 non-null    object \n",
      " 9   Fare         891 non-null    float64\n",
      " 10  Cabin        204 non-null    object \n",
      " 11  Embarked     889 non-null    object \n",
      "dtypes: float64(2), int64(5), object(5)\n",
      "memory usage: 83.7+ KB\n"
     ]
    }
   ],
   "source": [
    "df.info()"
   ]
  },
  {
   "cell_type": "code",
   "execution_count": 9,
   "id": "b9aa5492",
   "metadata": {
    "execution": {
     "iopub.execute_input": "2023-10-05T04:40:50.966469Z",
     "iopub.status.busy": "2023-10-05T04:40:50.966173Z",
     "iopub.status.idle": "2023-10-05T04:40:50.975122Z",
     "shell.execute_reply": "2023-10-05T04:40:50.974057Z"
    },
    "type_information": "[{\"type\": \"<class 'pandas.core.series.Series'>\", \"name\": \"Series\", \"module\": \"pandas.core.series\", \"size\": 14236}]"
   },
   "outputs": [
    {
     "data": {
      "text/plain": [
       "Cabin\n",
       "B96 B98        4\n",
       "G6             4\n",
       "C23 C25 C27    4\n",
       "C22 C26        3\n",
       "F33            3\n",
       "              ..\n",
       "E34            1\n",
       "C7             1\n",
       "C54            1\n",
       "E36            1\n",
       "C148           1\n",
       "Name: count, Length: 147, dtype: int64"
      ]
     },
     "execution_count": 9,
     "metadata": {},
     "output_type": "execute_result"
    }
   ],
   "source": [
    "df['Cabin'].value_counts()"
   ]
  },
  {
   "cell_type": "code",
   "execution_count": 11,
   "id": "011eb492",
   "metadata": {
    "execution": {
     "iopub.execute_input": "2023-10-05T04:40:50.988647Z",
     "iopub.status.busy": "2023-10-05T04:40:50.988358Z",
     "iopub.status.idle": "2023-10-05T04:40:50.993889Z",
     "shell.execute_reply": "2023-10-05T04:40:50.992965Z"
    }
   },
   "outputs": [],
   "source": [
    "# Since the columns PassengerId , Cabin, Ticket Number, Name does not contribute anythinh towards the model training,\n",
    "#so we'll drop them\n",
    "df.drop(columns=['PassengerId','Name','Ticket','Cabin'],axis=1,inplace=True)"
   ]
  },
  {
   "cell_type": "code",
   "execution_count": 12,
   "id": "7457afa6",
   "metadata": {
    "execution": {
     "iopub.execute_input": "2023-10-05T04:40:50.997630Z",
     "iopub.status.busy": "2023-10-05T04:40:50.997341Z",
     "iopub.status.idle": "2023-10-05T04:40:51.010042Z",
     "shell.execute_reply": "2023-10-05T04:40:51.009127Z"
    },
    "type_information": "[{\"type\": \"<class 'pandas.core.frame.DataFrame'>\", \"name\": \"DataFrame\", \"module\": \"pandas.core.frame\", \"size\": 985, \"shape\": \"(5, 8)\", \"dtype\": \"Survived      int64\\nPclass        int64\\nSex          object\\nAge         float64\\nSibSp         int64\\nParch         int64\\nFare        float64\\nEmbarked     object\\ndtype: object\"}]"
   },
   "outputs": [
    {
     "data": {
      "text/html": [
       "<div>\n",
       "<style scoped>\n",
       "    .dataframe tbody tr th:only-of-type {\n",
       "        vertical-align: middle;\n",
       "    }\n",
       "\n",
       "    .dataframe tbody tr th {\n",
       "        vertical-align: top;\n",
       "    }\n",
       "\n",
       "    .dataframe thead th {\n",
       "        text-align: right;\n",
       "    }\n",
       "</style>\n",
       "<table border=\"1\" class=\"dataframe\">\n",
       "  <thead>\n",
       "    <tr style=\"text-align: right;\">\n",
       "      <th></th>\n",
       "      <th>Survived</th>\n",
       "      <th>Pclass</th>\n",
       "      <th>Sex</th>\n",
       "      <th>Age</th>\n",
       "      <th>SibSp</th>\n",
       "      <th>Parch</th>\n",
       "      <th>Fare</th>\n",
       "      <th>Embarked</th>\n",
       "    </tr>\n",
       "  </thead>\n",
       "  <tbody>\n",
       "    <tr>\n",
       "      <th>0</th>\n",
       "      <td>0</td>\n",
       "      <td>3</td>\n",
       "      <td>male</td>\n",
       "      <td>22.0</td>\n",
       "      <td>1</td>\n",
       "      <td>0</td>\n",
       "      <td>7.2500</td>\n",
       "      <td>S</td>\n",
       "    </tr>\n",
       "    <tr>\n",
       "      <th>1</th>\n",
       "      <td>1</td>\n",
       "      <td>1</td>\n",
       "      <td>female</td>\n",
       "      <td>38.0</td>\n",
       "      <td>1</td>\n",
       "      <td>0</td>\n",
       "      <td>71.2833</td>\n",
       "      <td>C</td>\n",
       "    </tr>\n",
       "    <tr>\n",
       "      <th>2</th>\n",
       "      <td>1</td>\n",
       "      <td>3</td>\n",
       "      <td>female</td>\n",
       "      <td>26.0</td>\n",
       "      <td>0</td>\n",
       "      <td>0</td>\n",
       "      <td>7.9250</td>\n",
       "      <td>S</td>\n",
       "    </tr>\n",
       "    <tr>\n",
       "      <th>3</th>\n",
       "      <td>1</td>\n",
       "      <td>1</td>\n",
       "      <td>female</td>\n",
       "      <td>35.0</td>\n",
       "      <td>1</td>\n",
       "      <td>0</td>\n",
       "      <td>53.1000</td>\n",
       "      <td>S</td>\n",
       "    </tr>\n",
       "    <tr>\n",
       "      <th>4</th>\n",
       "      <td>0</td>\n",
       "      <td>3</td>\n",
       "      <td>male</td>\n",
       "      <td>35.0</td>\n",
       "      <td>0</td>\n",
       "      <td>0</td>\n",
       "      <td>8.0500</td>\n",
       "      <td>S</td>\n",
       "    </tr>\n",
       "  </tbody>\n",
       "</table>\n",
       "</div>"
      ],
      "text/plain": [
       "   Survived  Pclass     Sex   Age  SibSp  Parch     Fare Embarked\n",
       "0         0       3    male  22.0      1      0   7.2500        S\n",
       "1         1       1  female  38.0      1      0  71.2833        C\n",
       "2         1       3  female  26.0      0      0   7.9250        S\n",
       "3         1       1  female  35.0      1      0  53.1000        S\n",
       "4         0       3    male  35.0      0      0   8.0500        S"
      ]
     },
     "execution_count": 12,
     "metadata": {},
     "output_type": "execute_result"
    }
   ],
   "source": [
    "df.head()"
   ]
  },
  {
   "cell_type": "code",
   "execution_count": 14,
   "id": "d74bd8af",
   "metadata": {
    "debugging_output": [
     {
      "name": "stdout",
      "output_type": "stream",
      "text": "Out[14][0]\nTraceback (most recent call last):\n  File \"/tmp/ipykernel_21/361227287.py\", line 5, in <module>\n    outputs.append(typehandlerforuniqueobjects(Out[14][i]))\nTypeError: 'Axes' object is not subscriptable\n\nOut[14][1]\nTraceback (most recent call last):\n  File \"/tmp/ipykernel_21/361227287.py\", line 5, in <module>\n    outputs.append(typehandlerforuniqueobjects(Out[14][i]))\nTypeError: 'Axes' object is not subscriptable\n\nOut[14][2]\nTraceback (most recent call last):\n  File \"/tmp/ipykernel_21/361227287.py\", line 5, in <module>\n    outputs.append(typehandlerforuniqueobjects(Out[14][i]))\nTypeError: 'Axes' object is not subscriptable\n\n"
     }
    ],
    "execution": {
     "iopub.execute_input": "2023-10-05T04:40:51.025289Z",
     "iopub.status.busy": "2023-10-05T04:40:51.024997Z",
     "iopub.status.idle": "2023-10-05T04:40:51.207484Z",
     "shell.execute_reply": "2023-10-05T04:40:51.206424Z"
    }
   },
   "outputs": [
    {
     "name": "stdout",
     "output_type": "stream",
     "text": [
      "Survived\n",
      "0    549\n",
      "1    342\n",
      "Name: count, dtype: int64\n"
     ]
    },
    {
     "name": "stderr",
     "output_type": "stream",
     "text": [
      "/tmp/ipykernel_21/294010914.py:2: FutureWarning: \n",
      "\n",
      "Passing `palette` without assigning `hue` is deprecated and will be removed in v0.14.0. Assign the `x` variable to `hue` and set `legend=False` for the same effect.\n",
      "\n",
      "  sns.countplot(x='Survived',data=df,palette='flare')\n"
     ]
    },
    {
     "data": {
      "text/plain": [
       "<Axes: xlabel='Survived', ylabel='count'>"
      ]
     },
     "execution_count": 14,
     "metadata": {},
     "output_type": "execute_result"
    },
    {
     "data": {
      "image/png": "[encoded data removed]",
      "text/plain": [
       "<Figure size 640x480 with 1 Axes>"
      ]
     },
     "metadata": {},
     "output_type": "display_data"
    }
   ],
   "source": [
    "print(df['Survived'].value_counts())\n",
    "sns.countplot(x='Survived',data=df,palette='flare')"
   ]
  },
  {
   "cell_type": "code",
   "execution_count": 16,
   "id": "e3cc10f9",
   "metadata": {
    "execution": {
     "iopub.execute_input": "2023-10-05T04:40:51.221011Z",
     "iopub.status.busy": "2023-10-05T04:40:51.220719Z",
     "iopub.status.idle": "2023-10-05T04:40:51.224706Z",
     "shell.execute_reply": "2023-10-05T04:40:51.223752Z"
    }
   },
   "outputs": [],
   "source": [
    "# Obs: out of total passengers, 549 could no survive and 342 survived"
   ]
  },
  {
   "cell_type": "code",
   "execution_count": 17,
   "id": "56f0f08b",
   "metadata": {
    "debugging_output": [
     {
      "name": "stdout",
      "output_type": "stream",
      "text": "Out[17][0]\nTraceback (most recent call last):\n  File \"/tmp/ipykernel_21/2833583664.py\", line 5, in <module>\n    outputs.append(typehandlerforuniqueobjects(Out[17][i]))\nTypeError: 'Axes' object is not subscriptable\n\nOut[17][1]\nTraceback (most recent call last):\n  File \"/tmp/ipykernel_21/2833583664.py\", line 5, in <module>\n    outputs.append(typehandlerforuniqueobjects(Out[17][i]))\nTypeError: 'Axes' object is not subscriptable\n\nOut[17][2]\nTraceback (most recent call last):\n  File \"/tmp/ipykernel_21/2833583664.py\", line 5, in <module>\n    outputs.append(typehandlerforuniqueobjects(Out[17][i]))\nTypeError: 'Axes' object is not subscriptable\n\n"
     }
    ],
    "execution": {
     "iopub.execute_input": "2023-10-05T04:40:51.228581Z",
     "iopub.status.busy": "2023-10-05T04:40:51.228294Z",
     "iopub.status.idle": "2023-10-05T04:40:51.414343Z",
     "shell.execute_reply": "2023-10-05T04:40:51.413336Z"
    }
   },
   "outputs": [
    {
     "name": "stdout",
     "output_type": "stream",
     "text": [
      "Pclass\n",
      "3    491\n",
      "1    216\n",
      "2    184\n",
      "Name: count, dtype: int64\n"
     ]
    },
    {
     "name": "stderr",
     "output_type": "stream",
     "text": [
      "/tmp/ipykernel_21/3914684751.py:2: FutureWarning: \n",
      "\n",
      "Passing `palette` without assigning `hue` is deprecated and will be removed in v0.14.0. Assign the `x` variable to `hue` and set `legend=False` for the same effect.\n",
      "\n",
      "  sns.countplot(x='Pclass',data=df,palette='flare')\n"
     ]
    },
    {
     "data": {
      "text/plain": [
       "<Axes: xlabel='Pclass', ylabel='count'>"
      ]
     },
     "execution_count": 17,
     "metadata": {},
     "output_type": "execute_result"
    },
    {
     "data": {
      "image/png": "[encoded data removed]",
      "text/plain": [
       "<Figure size 640x480 with 1 Axes>"
      ]
     },
     "metadata": {},
     "output_type": "display_data"
    }
   ],
   "source": [
    "print(df['Pclass'].value_counts())\n",
    "sns.countplot(x='Pclass',data=df,palette='flare')"
   ]
  },
  {
   "cell_type": "code",
   "execution_count": 19,
   "id": "79876944",
   "metadata": {
    "execution": {
     "iopub.execute_input": "2023-10-05T04:40:51.428272Z",
     "iopub.status.busy": "2023-10-05T04:40:51.427956Z",
     "iopub.status.idle": "2023-10-05T04:40:51.431911Z",
     "shell.execute_reply": "2023-10-05T04:40:51.430985Z"
    }
   },
   "outputs": [],
   "source": [
    "# Obs: There are 216, 184 and 491 passengers in Passenger class 1,2 3 respectively"
   ]
  },
  {
   "cell_type": "code",
   "execution_count": 20,
   "id": "ebe805e1",
   "metadata": {
    "debugging_output": [
     {
      "name": "stdout",
      "output_type": "stream",
      "text": "Out[20][0]\nTraceback (most recent call last):\n  File \"/tmp/ipykernel_21/3702323766.py\", line 5, in <module>\n    outputs.append(typehandlerforuniqueobjects(Out[20][i]))\nTypeError: 'Axes' object is not subscriptable\n\nOut[20][1]\nTraceback (most recent call last):\n  File \"/tmp/ipykernel_21/3702323766.py\", line 5, in <module>\n    outputs.append(typehandlerforuniqueobjects(Out[20][i]))\nTypeError: 'Axes' object is not subscriptable\n\nOut[20][2]\nTraceback (most recent call last):\n  File \"/tmp/ipykernel_21/3702323766.py\", line 5, in <module>\n    outputs.append(typehandlerforuniqueobjects(Out[20][i]))\nTypeError: 'Axes' object is not subscriptable\n\n"
     }
    ],
    "execution": {
     "iopub.execute_input": "2023-10-05T04:40:51.435704Z",
     "iopub.status.busy": "2023-10-05T04:40:51.435415Z",
     "iopub.status.idle": "2023-10-05T04:40:51.614890Z",
     "shell.execute_reply": "2023-10-05T04:40:51.613753Z"
    }
   },
   "outputs": [
    {
     "name": "stdout",
     "output_type": "stream",
     "text": [
      "Sex\n",
      "male      577\n",
      "female    314\n",
      "Name: count, dtype: int64\n"
     ]
    },
    {
     "name": "stderr",
     "output_type": "stream",
     "text": [
      "/tmp/ipykernel_21/271940047.py:2: FutureWarning: \n",
      "\n",
      "Passing `palette` without assigning `hue` is deprecated and will be removed in v0.14.0. Assign the `x` variable to `hue` and set `legend=False` for the same effect.\n",
      "\n",
      "  sns.countplot(x='Sex',data=df,palette='flare')\n"
     ]
    },
    {
     "data": {
      "text/plain": [
       "<Axes: xlabel='Sex', ylabel='count'>"
      ]
     },
     "execution_count": 20,
     "metadata": {},
     "output_type": "execute_result"
    },
    {
     "data": {
      "image/png": "[encoded data removed]",
      "text/plain": [
       "<Figure size 640x480 with 1 Axes>"
      ]
     },
     "metadata": {},
     "output_type": "display_data"
    }
   ],
   "source": [
    "print(df['Sex'].value_counts())\n",
    "sns.countplot(x='Sex',data=df,palette='flare')"
   ]
  },
  {
   "cell_type": "code",
   "execution_count": 22,
   "id": "45529300",
   "metadata": {
    "execution": {
     "iopub.execute_input": "2023-10-05T04:40:51.629036Z",
     "iopub.status.busy": "2023-10-05T04:40:51.628744Z",
     "iopub.status.idle": "2023-10-05T04:40:51.632677Z",
     "shell.execute_reply": "2023-10-05T04:40:51.631747Z"
    }
   },
   "outputs": [],
   "source": [
    "# Obs: There are 577 males and 314 females"
   ]
  },
  {
   "cell_type": "code",
   "execution_count": 23,
   "id": "c0b3a789",
   "metadata": {
    "debugging_output": [
     {
      "name": "stdout",
      "output_type": "stream",
      "text": "Out[23][0]\nTraceback (most recent call last):\n  File \"/tmp/ipykernel_21/3377605001.py\", line 5, in <module>\n    outputs.append(typehandlerforuniqueobjects(Out[23][i]))\nTypeError: 'Axes' object is not subscriptable\n\nOut[23][1]\nTraceback (most recent call last):\n  File \"/tmp/ipykernel_21/3377605001.py\", line 5, in <module>\n    outputs.append(typehandlerforuniqueobjects(Out[23][i]))\nTypeError: 'Axes' object is not subscriptable\n\n"
     }
    ],
    "execution": {
     "iopub.execute_input": "2023-10-05T04:40:51.636402Z",
     "iopub.status.busy": "2023-10-05T04:40:51.636117Z",
     "iopub.status.idle": "2023-10-05T04:40:51.886184Z",
     "shell.execute_reply": "2023-10-05T04:40:51.885073Z"
    }
   },
   "outputs": [
    {
     "data": {
      "text/plain": [
       "<Axes: xlabel='Survived', ylabel='count'>"
      ]
     },
     "execution_count": 23,
     "metadata": {},
     "output_type": "execute_result"
    },
    {
     "data": {
      "image/png": "[encoded data removed]",
      "text/plain": [
       "<Figure size 640x480 with 1 Axes>"
      ]
     },
     "metadata": {},
     "output_type": "display_data"
    }
   ],
   "source": [
    "# Relationship Between Pclass and survived passengers\n",
    "sns.countplot(x='Survived',hue='Pclass',data=df,palette='flare')"
   ]
  },
  {
   "cell_type": "code",
   "execution_count": 25,
   "id": "6d276b32",
   "metadata": {
    "execution": {
     "iopub.execute_input": "2023-10-05T04:40:51.899991Z",
     "iopub.status.busy": "2023-10-05T04:40:51.899722Z",
     "iopub.status.idle": "2023-10-05T04:40:51.903777Z",
     "shell.execute_reply": "2023-10-05T04:40:51.902719Z"
    }
   },
   "outputs": [],
   "source": [
    "# Obs: The maximum number of people who did not survive are from Passenger class 3 and the most number of peoplr survived from\n",
    "# Passenger class 3"
   ]
  },
  {
   "cell_type": "code",
   "execution_count": 26,
   "id": "1dd0baf1",
   "metadata": {
    "debugging_output": [
     {
      "name": "stdout",
      "output_type": "stream",
      "text": "Out[26][0]\nTraceback (most recent call last):\n  File \"/tmp/ipykernel_21/3355932103.py\", line 5, in <module>\n    outputs.append(typehandlerforuniqueobjects(Out[26][i]))\nTypeError: 'Axes' object is not subscriptable\n\nOut[26][1]\nTraceback (most recent call last):\n  File \"/tmp/ipykernel_21/3355932103.py\", line 5, in <module>\n    outputs.append(typehandlerforuniqueobjects(Out[26][i]))\nTypeError: 'Axes' object is not subscriptable\n\n"
     }
    ],
    "execution": {
     "iopub.execute_input": "2023-10-05T04:40:51.907548Z",
     "iopub.status.busy": "2023-10-05T04:40:51.907284Z",
     "iopub.status.idle": "2023-10-05T04:40:52.095908Z",
     "shell.execute_reply": "2023-10-05T04:40:52.094820Z"
    }
   },
   "outputs": [
    {
     "data": {
      "text/plain": [
       "<Axes: xlabel='Survived', ylabel='count'>"
      ]
     },
     "execution_count": 26,
     "metadata": {},
     "output_type": "execute_result"
    },
    {
     "data": {
      "image/png": "[encoded data removed]",
      "text/plain": [
       "<Figure size 640x480 with 1 Axes>"
      ]
     },
     "metadata": {},
     "output_type": "display_data"
    }
   ],
   "source": [
    "# Relationship between Survived and Sex\n",
    "sns.countplot(x='Survived',hue='Sex',data=df,palette='flare')"
   ]
  },
  {
   "cell_type": "code",
   "execution_count": 28,
   "id": "e8bc9a1f",
   "metadata": {
    "execution": {
     "iopub.execute_input": "2023-10-05T04:40:52.108986Z",
     "iopub.status.busy": "2023-10-05T04:40:52.108742Z",
     "iopub.status.idle": "2023-10-05T04:40:52.112544Z",
     "shell.execute_reply": "2023-10-05T04:40:52.111676Z"
    }
   },
   "outputs": [],
   "source": [
    "# Obs : Maximum males did not survive and maximum females survived"
   ]
  },
  {
   "cell_type": "code",
   "execution_count": 29,
   "id": "4630f4cb",
   "metadata": {
    "debugging_output": [
     {
      "name": "stdout",
      "output_type": "stream",
      "text": "Out[29][0]\nTraceback (most recent call last):\n  File \"/tmp/ipykernel_21/3329127467.py\", line 5, in <module>\n    outputs.append(typehandlerforuniqueobjects(Out[29][i]))\nTypeError: 'Axes' object is not subscriptable\n\nOut[29][1]\nTraceback (most recent call last):\n  File \"/tmp/ipykernel_21/3329127467.py\", line 5, in <module>\n    outputs.append(typehandlerforuniqueobjects(Out[29][i]))\nTypeError: 'Axes' object is not subscriptable\n\nOut[29][2]\nTraceback (most recent call last):\n  File \"/tmp/ipykernel_21/3329127467.py\", line 5, in <module>\n    outputs.append(typehandlerforuniqueobjects(Out[29][i]))\nTypeError: 'Axes' object is not subscriptable\n\n"
     }
    ],
    "execution": {
     "iopub.execute_input": "2023-10-05T04:40:52.116090Z",
     "iopub.status.busy": "2023-10-05T04:40:52.115830Z",
     "iopub.status.idle": "2023-10-05T04:40:52.311468Z",
     "shell.execute_reply": "2023-10-05T04:40:52.310565Z"
    }
   },
   "outputs": [
    {
     "name": "stderr",
     "output_type": "stream",
     "text": [
      "/tmp/ipykernel_21/3160297408.py:2: UserWarning: \n",
      "\n",
      "`distplot` is a deprecated function and will be removed in seaborn v0.14.0.\n",
      "\n",
      "Please adapt your code to use either `displot` (a figure-level function with\n",
      "similar flexibility) or `histplot` (an axes-level function for histograms).\n",
      "\n",
      "For a guide to updating your code to use the new functions, please see\n",
      "https://gist.github.com/mwaskom/de44147ed2974457ad6372750bbe5751\n",
      "\n",
      "  sns.distplot(df['Age'].dropna())\n"
     ]
    },
    {
     "data": {
      "text/plain": [
       "<Axes: xlabel='Age', ylabel='Density'>"
      ]
     },
     "execution_count": 29,
     "metadata": {},
     "output_type": "execute_result"
    },
    {
     "data": {
      "image/png": "[encoded data removed]",
      "text/plain": [
       "<Figure size 640x480 with 1 Axes>"
      ]
     },
     "metadata": {},
     "output_type": "display_data"
    }
   ],
   "source": [
    "#Distribution of the age of the passengers\n",
    "sns.distplot(df['Age'].dropna())"
   ]
  },
  {
   "cell_type": "code",
   "execution_count": 31,
   "id": "cf04efed",
   "metadata": {
    "execution": {
     "iopub.execute_input": "2023-10-05T04:40:52.323713Z",
     "iopub.status.busy": "2023-10-05T04:40:52.323493Z",
     "iopub.status.idle": "2023-10-05T04:40:52.327055Z",
     "shell.execute_reply": "2023-10-05T04:40:52.326228Z"
    }
   },
   "outputs": [],
   "source": [
    "# Age follows a normal distribution"
   ]
  },
  {
   "cell_type": "code",
   "execution_count": 32,
   "id": "ccc4806d",
   "metadata": {
    "debugging_output": [
     {
      "name": "stdout",
      "output_type": "stream",
      "text": "Out[32][0]\nTraceback (most recent call last):\n  File \"/tmp/ipykernel_21/2745926981.py\", line 5, in <module>\n    outputs.append(typehandlerforuniqueobjects(Out[32][i]))\nTypeError: 'Axes' object is not subscriptable\n\nOut[32][1]\nTraceback (most recent call last):\n  File \"/tmp/ipykernel_21/2745926981.py\", line 5, in <module>\n    outputs.append(typehandlerforuniqueobjects(Out[32][i]))\nTypeError: 'Axes' object is not subscriptable\n\n"
     }
    ],
    "execution": {
     "iopub.execute_input": "2023-10-05T04:40:52.329937Z",
     "iopub.status.busy": "2023-10-05T04:40:52.329718Z",
     "iopub.status.idle": "2023-10-05T04:40:52.496225Z",
     "shell.execute_reply": "2023-10-05T04:40:52.495347Z"
    }
   },
   "outputs": [
    {
     "name": "stderr",
     "output_type": "stream",
     "text": [
      "/tmp/ipykernel_21/2028019738.py:1: FutureWarning: \n",
      "\n",
      "Passing `palette` without assigning `hue` is deprecated and will be removed in v0.14.0. Assign the `x` variable to `hue` and set `legend=False` for the same effect.\n",
      "\n",
      "  sns.countplot(x='SibSp',data=df,palette='flare')\n"
     ]
    },
    {
     "data": {
      "text/plain": [
       "<Axes: xlabel='SibSp', ylabel='count'>"
      ]
     },
     "execution_count": 32,
     "metadata": {},
     "output_type": "execute_result"
    },
    {
     "data": {
      "image/png": "[encoded data removed]",
      "text/plain": [
       "<Figure size 640x480 with 1 Axes>"
      ]
     },
     "metadata": {},
     "output_type": "display_data"
    }
   ],
   "source": [
    "sns.countplot(x='SibSp',data=df,palette='flare')"
   ]
  },
  {
   "cell_type": "code",
   "execution_count": 34,
   "id": "b05f9d8e",
   "metadata": {
    "execution": {
     "iopub.execute_input": "2023-10-05T04:40:52.507799Z",
     "iopub.status.busy": "2023-10-05T04:40:52.507598Z",
     "iopub.status.idle": "2023-10-05T04:40:52.511023Z",
     "shell.execute_reply": "2023-10-05T04:40:52.510220Z"
    }
   },
   "outputs": [],
   "source": [
    "# Obs : Maximum passengers did not hve siblings or spouse"
   ]
  },
  {
   "cell_type": "code",
   "execution_count": 35,
   "id": "89215f9d",
   "metadata": {
    "debugging_output": [
     {
      "name": "stdout",
      "output_type": "stream",
      "text": "Out[35][0]\nTraceback (most recent call last):\n  File \"/tmp/ipykernel_21/872660482.py\", line 5, in <module>\n    outputs.append(typehandlerforuniqueobjects(Out[35][i]))\nTypeError: 'Axes' object is not subscriptable\n\nOut[35][1]\nTraceback (most recent call last):\n  File \"/tmp/ipykernel_21/872660482.py\", line 5, in <module>\n    outputs.append(typehandlerforuniqueobjects(Out[35][i]))\nTypeError: 'Axes' object is not subscriptable\n\n"
     }
    ],
    "execution": {
     "iopub.execute_input": "2023-10-05T04:40:52.513850Z",
     "iopub.status.busy": "2023-10-05T04:40:52.513655Z",
     "iopub.status.idle": "2023-10-05T04:40:52.684681Z",
     "shell.execute_reply": "2023-10-05T04:40:52.683684Z"
    }
   },
   "outputs": [
    {
     "data": {
      "text/plain": [
       "<Axes: >"
      ]
     },
     "execution_count": 35,
     "metadata": {},
     "output_type": "execute_result"
    },
    {
     "data": {
      "image/png": "[encoded data removed]",
      "text/plain": [
       "<Figure size 640x480 with 1 Axes>"
      ]
     },
     "metadata": {},
     "output_type": "display_data"
    }
   ],
   "source": [
    "df['Fare'].hist(color='blue',bins=40)"
   ]
  },
  {
   "cell_type": "markdown",
   "id": "c54b3547",
   "metadata": {},
   "source": [
    "#### Handling missing values"
   ]
  },
  {
   "cell_type": "code",
   "execution_count": 37,
   "id": "95d6d649",
   "metadata": {
    "execution": {
     "iopub.execute_input": "2023-10-05T04:40:52.696597Z",
     "iopub.status.busy": "2023-10-05T04:40:52.696419Z",
     "iopub.status.idle": "2023-10-05T04:40:52.702326Z",
     "shell.execute_reply": "2023-10-05T04:40:52.701558Z"
    },
    "type_information": "[{\"type\": \"<class 'pandas.core.series.Series'>\", \"name\": \"Series\", \"module\": \"pandas.core.series\", \"size\": 878}]"
   },
   "outputs": [
    {
     "data": {
      "text/plain": [
       "Survived      0\n",
       "Pclass        0\n",
       "Sex           0\n",
       "Age         177\n",
       "SibSp         0\n",
       "Parch         0\n",
       "Fare          0\n",
       "Embarked      2\n",
       "dtype: int64"
      ]
     },
     "execution_count": 37,
     "metadata": {},
     "output_type": "execute_result"
    }
   ],
   "source": [
    "df.isnull().sum()"
   ]
  },
  {
   "cell_type": "code",
   "execution_count": 39,
   "id": "5a5feba1",
   "metadata": {
    "debugging_output": [
     {
      "name": "stdout",
      "output_type": "stream",
      "text": "Out[39][0]\nTraceback (most recent call last):\n  File \"/tmp/ipykernel_21/242837553.py\", line 5, in <module>\n    outputs.append(typehandlerforuniqueobjects(Out[39][i]))\nTypeError: 'Axes' object is not subscriptable\n\nOut[39][1]\nTraceback (most recent call last):\n  File \"/tmp/ipykernel_21/242837553.py\", line 5, in <module>\n    outputs.append(typehandlerforuniqueobjects(Out[39][i]))\nTypeError: 'Axes' object is not subscriptable\n\n"
     }
    ],
    "execution": {
     "iopub.execute_input": "2023-10-05T04:40:52.713720Z",
     "iopub.status.busy": "2023-10-05T04:40:52.713547Z",
     "iopub.status.idle": "2023-10-05T04:40:52.863772Z",
     "shell.execute_reply": "2023-10-05T04:40:52.862869Z"
    }
   },
   "outputs": [
    {
     "name": "stderr",
     "output_type": "stream",
     "text": [
      "/tmp/ipykernel_21/134525434.py:2: FutureWarning: \n",
      "\n",
      "Passing `palette` without assigning `hue` is deprecated and will be removed in v0.14.0. Assign the `x` variable to `hue` and set `legend=False` for the same effect.\n",
      "\n",
      "  sns.boxplot(x='Pclass',y='Age',data=df,palette='winter')\n"
     ]
    },
    {
     "data": {
      "text/plain": [
       "<Axes: xlabel='Pclass', ylabel='Age'>"
      ]
     },
     "execution_count": 39,
     "metadata": {},
     "output_type": "execute_result"
    },
    {
     "data": {
      "image/png": "[encoded data removed]",
      "text/plain": [
       "<Figure size 1200x700 with 1 Axes>"
      ]
     },
     "metadata": {},
     "output_type": "display_data"
    }
   ],
   "source": [
    "plt.figure(figsize=(12,7))\n",
    "sns.boxplot(x='Pclass',y='Age',data=df,palette='winter')"
   ]
  },
  {
   "cell_type": "code",
   "execution_count": 41,
   "id": "a251c85b",
   "metadata": {
    "execution": {
     "iopub.execute_input": "2023-10-05T04:40:52.875684Z",
     "iopub.status.busy": "2023-10-05T04:40:52.875513Z",
     "iopub.status.idle": "2023-10-05T04:40:52.879511Z",
     "shell.execute_reply": "2023-10-05T04:40:52.878800Z"
    }
   },
   "outputs": [],
   "source": [
    "def impute_age(cols):\n",
    "    Age = cols[0]\n",
    "    Pclass = cols[1]\n",
    "    \n",
    "    if pd.isnull(Age):\n",
    "\n",
    "        if Pclass == 1:\n",
    "            return 37\n",
    "\n",
    "        elif Pclass == 2:\n",
    "            return 29\n",
    "\n",
    "        else:\n",
    "            return 24\n",
    "\n",
    "    else:\n",
    "        return Age"
   ]
  },
  {
   "cell_type": "code",
   "execution_count": 42,
   "id": "33a88386",
   "metadata": {
    "execution": {
     "iopub.execute_input": "2023-10-05T04:40:52.882706Z",
     "iopub.status.busy": "2023-10-05T04:40:52.882534Z",
     "iopub.status.idle": "2023-10-05T04:40:52.905128Z",
     "shell.execute_reply": "2023-10-05T04:40:52.904388Z"
    }
   },
   "outputs": [
    {
     "name": "stderr",
     "output_type": "stream",
     "text": [
      "/tmp/ipykernel_21/822839471.py:2: FutureWarning: Series.__getitem__ treating keys as positions is deprecated. In a future version, integer keys will always be treated as labels (consistent with DataFrame behavior). To access a value by position, use `ser.iloc[pos]`\n",
      "  Age = cols[0]\n",
      "/tmp/ipykernel_21/822839471.py:3: FutureWarning: Series.__getitem__ treating keys as positions is deprecated. In a future version, integer keys will always be treated as labels (consistent with DataFrame behavior). To access a value by position, use `ser.iloc[pos]`\n",
      "  Pclass = cols[1]\n"
     ]
    }
   ],
   "source": [
    "df['Age'] = df[['Age','Pclass']].apply(impute_age,axis=1)"
   ]
  },
  {
   "cell_type": "code",
   "execution_count": 43,
   "id": "2818a422",
   "metadata": {
    "execution": {
     "iopub.execute_input": "2023-10-05T04:40:52.908430Z",
     "iopub.status.busy": "2023-10-05T04:40:52.908259Z",
     "iopub.status.idle": "2023-10-05T04:40:52.913597Z",
     "shell.execute_reply": "2023-10-05T04:40:52.912895Z"
    },
    "type_information": "[{\"type\": \"<class 'pandas.core.series.Series'>\", \"name\": \"Series\", \"module\": \"pandas.core.series\", \"size\": 878}]"
   },
   "outputs": [
    {
     "data": {
      "text/plain": [
       "Survived    0\n",
       "Pclass      0\n",
       "Sex         0\n",
       "Age         0\n",
       "SibSp       0\n",
       "Parch       0\n",
       "Fare        0\n",
       "Embarked    2\n",
       "dtype: int64"
      ]
     },
     "execution_count": 43,
     "metadata": {},
     "output_type": "execute_result"
    }
   ],
   "source": [
    "df.isna().sum()"
   ]
  },
  {
   "cell_type": "code",
   "execution_count": 45,
   "id": "1555e805",
   "metadata": {
    "execution": {
     "iopub.execute_input": "2023-10-05T04:40:52.923981Z",
     "iopub.status.busy": "2023-10-05T04:40:52.923816Z",
     "iopub.status.idle": "2023-10-05T04:40:52.927731Z",
     "shell.execute_reply": "2023-10-05T04:40:52.927030Z"
    }
   },
   "outputs": [],
   "source": [
    "df.dropna(inplace=True)"
   ]
  },
  {
   "cell_type": "code",
   "execution_count": 46,
   "id": "b82979de",
   "metadata": {
    "execution": {
     "iopub.execute_input": "2023-10-05T04:40:52.930528Z",
     "iopub.status.busy": "2023-10-05T04:40:52.930363Z",
     "iopub.status.idle": "2023-10-05T04:40:52.935566Z",
     "shell.execute_reply": "2023-10-05T04:40:52.934860Z"
    },
    "type_information": "[{\"type\": \"<class 'pandas.core.series.Series'>\", \"name\": \"Series\", \"module\": \"pandas.core.series\", \"size\": 878}]"
   },
   "outputs": [
    {
     "data": {
      "text/plain": [
       "Survived    0\n",
       "Pclass      0\n",
       "Sex         0\n",
       "Age         0\n",
       "SibSp       0\n",
       "Parch       0\n",
       "Fare        0\n",
       "Embarked    0\n",
       "dtype: int64"
      ]
     },
     "execution_count": 46,
     "metadata": {},
     "output_type": "execute_result"
    }
   ],
   "source": [
    "df.isna().sum()"
   ]
  },
  {
   "cell_type": "markdown",
   "id": "d8b4478f",
   "metadata": {},
   "source": [
    "#### Converting Categorical columns"
   ]
  },
  {
   "cell_type": "code",
   "execution_count": 48,
   "id": "f9446011",
   "metadata": {
    "execution": {
     "iopub.execute_input": "2023-10-05T04:40:52.945724Z",
     "iopub.status.busy": "2023-10-05T04:40:52.945559Z",
     "iopub.status.idle": "2023-10-05T04:40:52.952402Z",
     "shell.execute_reply": "2023-10-05T04:40:52.951689Z"
    },
    "type_information": "[{\"type\": \"<class 'pandas.core.frame.DataFrame'>\", \"name\": \"DataFrame\", \"module\": \"pandas.core.frame\", \"size\": 66, \"shape\": \"(5, 2)\", \"dtype\": \"Q    bool\\nS    bool\\ndtype: object\"}]"
   },
   "outputs": [
    {
     "data": {
      "text/html": [
       "<div>\n",
       "<style scoped>\n",
       "    .dataframe tbody tr th:only-of-type {\n",
       "        vertical-align: middle;\n",
       "    }\n",
       "\n",
       "    .dataframe tbody tr th {\n",
       "        vertical-align: top;\n",
       "    }\n",
       "\n",
       "    .dataframe thead th {\n",
       "        text-align: right;\n",
       "    }\n",
       "</style>\n",
       "<table border=\"1\" class=\"dataframe\">\n",
       "  <thead>\n",
       "    <tr style=\"text-align: right;\">\n",
       "      <th></th>\n",
       "      <th>Q</th>\n",
       "      <th>S</th>\n",
       "    </tr>\n",
       "  </thead>\n",
       "  <tbody>\n",
       "    <tr>\n",
       "      <th>0</th>\n",
       "      <td>False</td>\n",
       "      <td>True</td>\n",
       "    </tr>\n",
       "    <tr>\n",
       "      <th>1</th>\n",
       "      <td>False</td>\n",
       "      <td>False</td>\n",
       "    </tr>\n",
       "    <tr>\n",
       "      <th>2</th>\n",
       "      <td>False</td>\n",
       "      <td>True</td>\n",
       "    </tr>\n",
       "    <tr>\n",
       "      <th>3</th>\n",
       "      <td>False</td>\n",
       "      <td>True</td>\n",
       "    </tr>\n",
       "    <tr>\n",
       "      <th>4</th>\n",
       "      <td>False</td>\n",
       "      <td>True</td>\n",
       "    </tr>\n",
       "  </tbody>\n",
       "</table>\n",
       "</div>"
      ],
      "text/plain": [
       "       Q      S\n",
       "0  False   True\n",
       "1  False  False\n",
       "2  False   True\n",
       "3  False   True\n",
       "4  False   True"
      ]
     },
     "execution_count": 48,
     "metadata": {},
     "output_type": "execute_result"
    }
   ],
   "source": [
    "pd.get_dummies(df['Embarked'],drop_first=True).head()"
   ]
  },
  {
   "cell_type": "code",
   "execution_count": 50,
   "id": "ec83f84f",
   "metadata": {
    "execution": {
     "iopub.execute_input": "2023-10-05T04:40:52.963278Z",
     "iopub.status.busy": "2023-10-05T04:40:52.963115Z",
     "iopub.status.idle": "2023-10-05T04:40:52.967592Z",
     "shell.execute_reply": "2023-10-05T04:40:52.966900Z"
    }
   },
   "outputs": [],
   "source": [
    "sex = pd.get_dummies(df['Sex'],drop_first=True)\n",
    "embark = pd.get_dummies(df['Embarked'],drop_first=True)"
   ]
  },
  {
   "cell_type": "code",
   "execution_count": 51,
   "id": "416625a7",
   "metadata": {
    "execution": {
     "iopub.execute_input": "2023-10-05T04:40:52.970497Z",
     "iopub.status.busy": "2023-10-05T04:40:52.970333Z",
     "iopub.status.idle": "2023-10-05T04:40:52.978132Z",
     "shell.execute_reply": "2023-10-05T04:40:52.977436Z"
    },
    "type_information": "[{\"type\": \"<class 'pandas.core.frame.DataFrame'>\", \"name\": \"DataFrame\", \"module\": \"pandas.core.frame\", \"size\": 296, \"shape\": \"(5, 6)\", \"dtype\": \"Survived      int64\\nPclass        int64\\nAge         float64\\nSibSp         int64\\nParch         int64\\nFare        float64\\ndtype: object\"}]"
   },
   "outputs": [
    {
     "data": {
      "text/html": [
       "<div>\n",
       "<style scoped>\n",
       "    .dataframe tbody tr th:only-of-type {\n",
       "        vertical-align: middle;\n",
       "    }\n",
       "\n",
       "    .dataframe tbody tr th {\n",
       "        vertical-align: top;\n",
       "    }\n",
       "\n",
       "    .dataframe thead th {\n",
       "        text-align: right;\n",
       "    }\n",
       "</style>\n",
       "<table border=\"1\" class=\"dataframe\">\n",
       "  <thead>\n",
       "    <tr style=\"text-align: right;\">\n",
       "      <th></th>\n",
       "      <th>Survived</th>\n",
       "      <th>Pclass</th>\n",
       "      <th>Age</th>\n",
       "      <th>SibSp</th>\n",
       "      <th>Parch</th>\n",
       "      <th>Fare</th>\n",
       "    </tr>\n",
       "  </thead>\n",
       "  <tbody>\n",
       "    <tr>\n",
       "      <th>0</th>\n",
       "      <td>0</td>\n",
       "      <td>3</td>\n",
       "      <td>22.0</td>\n",
       "      <td>1</td>\n",
       "      <td>0</td>\n",
       "      <td>7.2500</td>\n",
       "    </tr>\n",
       "    <tr>\n",
       "      <th>1</th>\n",
       "      <td>1</td>\n",
       "      <td>1</td>\n",
       "      <td>38.0</td>\n",
       "      <td>1</td>\n",
       "      <td>0</td>\n",
       "      <td>71.2833</td>\n",
       "    </tr>\n",
       "    <tr>\n",
       "      <th>2</th>\n",
       "      <td>1</td>\n",
       "      <td>3</td>\n",
       "      <td>26.0</td>\n",
       "      <td>0</td>\n",
       "      <td>0</td>\n",
       "      <td>7.9250</td>\n",
       "    </tr>\n",
       "    <tr>\n",
       "      <th>3</th>\n",
       "      <td>1</td>\n",
       "      <td>1</td>\n",
       "      <td>35.0</td>\n",
       "      <td>1</td>\n",
       "      <td>0</td>\n",
       "      <td>53.1000</td>\n",
       "    </tr>\n",
       "    <tr>\n",
       "      <th>4</th>\n",
       "      <td>0</td>\n",
       "      <td>3</td>\n",
       "      <td>35.0</td>\n",
       "      <td>0</td>\n",
       "      <td>0</td>\n",
       "      <td>8.0500</td>\n",
       "    </tr>\n",
       "  </tbody>\n",
       "</table>\n",
       "</div>"
      ],
      "text/plain": [
       "   Survived  Pclass   Age  SibSp  Parch     Fare\n",
       "0         0       3  22.0      1      0   7.2500\n",
       "1         1       1  38.0      1      0  71.2833\n",
       "2         1       3  26.0      0      0   7.9250\n",
       "3         1       1  35.0      1      0  53.1000\n",
       "4         0       3  35.0      0      0   8.0500"
      ]
     },
     "execution_count": 51,
     "metadata": {},
     "output_type": "execute_result"
    }
   ],
   "source": [
    "df.drop(['Sex','Embarked'],axis=1,inplace=True)\n",
    "df.head()"
   ]
  },
  {
   "cell_type": "code",
   "execution_count": 53,
   "id": "e7991ac5",
   "metadata": {
    "execution": {
     "iopub.execute_input": "2023-10-05T04:40:52.989499Z",
     "iopub.status.busy": "2023-10-05T04:40:52.989336Z",
     "iopub.status.idle": "2023-10-05T04:40:52.998275Z",
     "shell.execute_reply": "2023-10-05T04:40:52.997585Z"
    },
    "type_information": "[{\"type\": \"<class 'pandas.core.frame.DataFrame'>\", \"name\": \"DataFrame\", \"module\": \"pandas.core.frame\", \"size\": 311, \"shape\": \"(5, 9)\", \"dtype\": \"Survived      int64\\nPclass        int64\\nAge         float64\\nSibSp         int64\\nParch         int64\\nFare        float64\\nmale           bool\\nQ              bool\\nS              bool\\ndtype: object\"}]"
   },
   "outputs": [
    {
     "data": {
      "text/html": [
       "<div>\n",
       "<style scoped>\n",
       "    .dataframe tbody tr th:only-of-type {\n",
       "        vertical-align: middle;\n",
       "    }\n",
       "\n",
       "    .dataframe tbody tr th {\n",
       "        vertical-align: top;\n",
       "    }\n",
       "\n",
       "    .dataframe thead th {\n",
       "        text-align: right;\n",
       "    }\n",
       "</style>\n",
       "<table border=\"1\" class=\"dataframe\">\n",
       "  <thead>\n",
       "    <tr style=\"text-align: right;\">\n",
       "      <th></th>\n",
       "      <th>Survived</th>\n",
       "      <th>Pclass</th>\n",
       "      <th>Age</th>\n",
       "      <th>SibSp</th>\n",
       "      <th>Parch</th>\n",
       "      <th>Fare</th>\n",
       "      <th>male</th>\n",
       "      <th>Q</th>\n",
       "      <th>S</th>\n",
       "    </tr>\n",
       "  </thead>\n",
       "  <tbody>\n",
       "    <tr>\n",
       "      <th>0</th>\n",
       "      <td>0</td>\n",
       "      <td>3</td>\n",
       "      <td>22.0</td>\n",
       "      <td>1</td>\n",
       "      <td>0</td>\n",
       "      <td>7.2500</td>\n",
       "      <td>True</td>\n",
       "      <td>False</td>\n",
       "      <td>True</td>\n",
       "    </tr>\n",
       "    <tr>\n",
       "      <th>1</th>\n",
       "      <td>1</td>\n",
       "      <td>1</td>\n",
       "      <td>38.0</td>\n",
       "      <td>1</td>\n",
       "      <td>0</td>\n",
       "      <td>71.2833</td>\n",
       "      <td>False</td>\n",
       "      <td>False</td>\n",
       "      <td>False</td>\n",
       "    </tr>\n",
       "    <tr>\n",
       "      <th>2</th>\n",
       "      <td>1</td>\n",
       "      <td>3</td>\n",
       "      <td>26.0</td>\n",
       "      <td>0</td>\n",
       "      <td>0</td>\n",
       "      <td>7.9250</td>\n",
       "      <td>False</td>\n",
       "      <td>False</td>\n",
       "      <td>True</td>\n",
       "    </tr>\n",
       "    <tr>\n",
       "      <th>3</th>\n",
       "      <td>1</td>\n",
       "      <td>1</td>\n",
       "      <td>35.0</td>\n",
       "      <td>1</td>\n",
       "      <td>0</td>\n",
       "      <td>53.1000</td>\n",
       "      <td>False</td>\n",
       "      <td>False</td>\n",
       "      <td>True</td>\n",
       "    </tr>\n",
       "    <tr>\n",
       "      <th>4</th>\n",
       "      <td>0</td>\n",
       "      <td>3</td>\n",
       "      <td>35.0</td>\n",
       "      <td>0</td>\n",
       "      <td>0</td>\n",
       "      <td>8.0500</td>\n",
       "      <td>True</td>\n",
       "      <td>False</td>\n",
       "      <td>True</td>\n",
       "    </tr>\n",
       "  </tbody>\n",
       "</table>\n",
       "</div>"
      ],
      "text/plain": [
       "   Survived  Pclass   Age  SibSp  Parch     Fare   male      Q      S\n",
       "0         0       3  22.0      1      0   7.2500   True  False   True\n",
       "1         1       1  38.0      1      0  71.2833  False  False  False\n",
       "2         1       3  26.0      0      0   7.9250  False  False   True\n",
       "3         1       1  35.0      1      0  53.1000  False  False   True\n",
       "4         0       3  35.0      0      0   8.0500   True  False   True"
      ]
     },
     "execution_count": 53,
     "metadata": {},
     "output_type": "execute_result"
    }
   ],
   "source": [
    "df= pd.concat([df,sex,embark],axis=1)\n",
    "df.head()"
   ]
  },
  {
   "cell_type": "markdown",
   "id": "d61998b5",
   "metadata": {},
   "source": [
    "#### Now the data is clean and ready for model building"
   ]
  },
  {
   "cell_type": "markdown",
   "id": "be23315e",
   "metadata": {},
   "source": [
    "####  In this , we'll use Decision Tree to train our model"
   ]
  },
  {
   "cell_type": "markdown",
   "id": "b7d0cc4e",
   "metadata": {},
   "source": [
    "##### Train test split"
   ]
  },
  {
   "cell_type": "code",
   "execution_count": 55,
   "id": "bd3df74e",
   "metadata": {
    "execution": {
     "iopub.execute_input": "2023-10-05T04:40:53.009808Z",
     "iopub.status.busy": "2023-10-05T04:40:53.009640Z",
     "iopub.status.idle": "2023-10-05T04:40:53.014261Z",
     "shell.execute_reply": "2023-10-05T04:40:53.013550Z"
    }
   },
   "outputs": [],
   "source": [
    "## Separating dependent and independent variables\n",
    "y=df.iloc[:,:1]\n",
    "X=df.iloc[:,1:]\n"
   ]
  },
  {
   "cell_type": "code",
   "execution_count": 56,
   "id": "878cd81c",
   "metadata": {
    "execution": {
     "iopub.execute_input": "2023-10-05T04:40:53.017101Z",
     "iopub.status.busy": "2023-10-05T04:40:53.016936Z",
     "iopub.status.idle": "2023-10-05T04:40:53.168045Z",
     "shell.execute_reply": "2023-10-05T04:40:53.167071Z"
    }
   },
   "outputs": [],
   "source": [
    "from sklearn.model_selection import train_test_split\n",
    "X_train,X_test,y_train,y_test=train_test_split(X,y,test_size=0.25,random_state=0)"
   ]
  },
  {
   "cell_type": "code",
   "execution_count": 57,
   "id": "cf76a41b",
   "metadata": {
    "execution": {
     "iopub.execute_input": "2023-10-05T04:40:53.171666Z",
     "iopub.status.busy": "2023-10-05T04:40:53.171364Z",
     "iopub.status.idle": "2023-10-05T04:40:53.211836Z",
     "shell.execute_reply": "2023-10-05T04:40:53.210871Z"
    }
   },
   "outputs": [],
   "source": [
    "from sklearn.tree import DecisionTreeClassifier\n",
    "classifier=DecisionTreeClassifier()"
   ]
  },
  {
   "cell_type": "code",
   "execution_count": 58,
   "id": "e1f1dd3c",
   "metadata": {
    "execution": {
     "iopub.execute_input": "2023-10-05T04:40:53.215140Z",
     "iopub.status.busy": "2023-10-05T04:40:53.214962Z",
     "iopub.status.idle": "2023-10-05T04:40:53.224200Z",
     "shell.execute_reply": "2023-10-05T04:40:53.223484Z"
    },
    "type_information": "[{\"type\": \"<class 'sklearn.tree._classes.DecisionTreeClassifier'>\", \"name\": \"DecisionTreeClassifier\", \"module\": \"sklearn.tree._classes\", \"size\": 48}]"
   },
   "outputs": [
    {
     "data": {
      "text/html": [
       "<style>#sk-container-id-1 {color: black;}#sk-container-id-1 pre{padding: 0;}#sk-container-id-1 div.sk-toggleable {background-color: white;}#sk-container-id-1 label.sk-toggleable__label {cursor: pointer;display: block;width: 100%;margin-bottom: 0;padding: 0.3em;box-sizing: border-box;text-align: center;}#sk-container-id-1 label.sk-toggleable__label-arrow:before {content: \"▸\";float: left;margin-right: 0.25em;color: #696969;}#sk-container-id-1 label.sk-toggleable__label-arrow:hover:before {color: black;}#sk-container-id-1 div.sk-estimator:hover label.sk-toggleable__label-arrow:before {color: black;}#sk-container-id-1 div.sk-toggleable__content {max-height: 0;max-width: 0;overflow: hidden;text-align: left;background-color: #f0f8ff;}#sk-container-id-1 div.sk-toggleable__content pre {margin: 0.2em;color: black;border-radius: 0.25em;background-color: #f0f8ff;}#sk-container-id-1 input.sk-toggleable__control:checked~div.sk-toggleable__content {max-height: 200px;max-width: 100%;overflow: auto;}#sk-container-id-1 input.sk-toggleable__control:checked~label.sk-toggleable__label-arrow:before {content: \"▾\";}#sk-container-id-1 div.sk-estimator input.sk-toggleable__control:checked~label.sk-toggleable__label {background-color: #d4ebff;}#sk-container-id-1 div.sk-label input.sk-toggleable__control:checked~label.sk-toggleable__label {background-color: #d4ebff;}#sk-container-id-1 input.sk-hidden--visually {border: 0;clip: rect(1px 1px 1px 1px);clip: rect(1px, 1px, 1px, 1px);height: 1px;margin: -1px;overflow: hidden;padding: 0;position: absolute;width: 1px;}#sk-container-id-1 div.sk-estimator {font-family: monospace;background-color: #f0f8ff;border: 1px dotted black;border-radius: 0.25em;box-sizing: border-box;margin-bottom: 0.5em;}#sk-container-id-1 div.sk-estimator:hover {background-color: #d4ebff;}#sk-container-id-1 div.sk-parallel-item::after {content: \"\";width: 100%;border-bottom: 1px solid gray;flex-grow: 1;}#sk-container-id-1 div.sk-label:hover label.sk-toggleable__label {background-color: #d4ebff;}#sk-container-id-1 div.sk-serial::before {content: \"\";position: absolute;border-left: 1px solid gray;box-sizing: border-box;top: 0;bottom: 0;left: 50%;z-index: 0;}#sk-container-id-1 div.sk-serial {display: flex;flex-direction: column;align-items: center;background-color: white;padding-right: 0.2em;padding-left: 0.2em;position: relative;}#sk-container-id-1 div.sk-item {position: relative;z-index: 1;}#sk-container-id-1 div.sk-parallel {display: flex;align-items: stretch;justify-content: center;background-color: white;position: relative;}#sk-container-id-1 div.sk-item::before, #sk-container-id-1 div.sk-parallel-item::before {content: \"\";position: absolute;border-left: 1px solid gray;box-sizing: border-box;top: 0;bottom: 0;left: 50%;z-index: -1;}#sk-container-id-1 div.sk-parallel-item {display: flex;flex-direction: column;z-index: 1;position: relative;background-color: white;}#sk-container-id-1 div.sk-parallel-item:first-child::after {align-self: flex-end;width: 50%;}#sk-container-id-1 div.sk-parallel-item:last-child::after {align-self: flex-start;width: 50%;}#sk-container-id-1 div.sk-parallel-item:only-child::after {width: 0;}#sk-container-id-1 div.sk-dashed-wrapped {border: 1px dashed gray;margin: 0 0.4em 0.5em 0.4em;box-sizing: border-box;padding-bottom: 0.4em;background-color: white;}#sk-container-id-1 div.sk-label label {font-family: monospace;font-weight: bold;display: inline-block;line-height: 1.2em;}#sk-container-id-1 div.sk-label-container {text-align: center;}#sk-container-id-1 div.sk-container {/* jupyter's `normalize.less` sets `[hidden] { display: none; }` but bootstrap.min.css set `[hidden] { display: none !important; }` so we also need the `!important` here to be able to override the default hidden behavior on the sphinx rendered scikit-learn.org. See: https://github.com/scikit-learn/scikit-learn/issues/21755 */display: inline-block !important;position: relative;}#sk-container-id-1 div.sk-text-repr-fallback {display: none;}</style><div id=\"sk-container-id-1\" class=\"sk-top-container\"><div class=\"sk-text-repr-fallback\"><pre>DecisionTreeClassifier()</pre><b>In a Jupyter environment, please rerun this cell to show the HTML representation or trust the notebook. <br />On GitHub, the HTML representation is unable to render, please try loading this page with nbviewer.org.</b></div><div class=\"sk-container\" hidden><div class=\"sk-item\"><div class=\"sk-estimator sk-toggleable\"><input class=\"sk-toggleable__control sk-hidden--visually\" id=\"sk-estimator-id-1\" type=\"checkbox\" checked><label for=\"sk-estimator-id-1\" class=\"sk-toggleable__label sk-toggleable__label-arrow\">DecisionTreeClassifier</label><div class=\"sk-toggleable__content\"><pre>DecisionTreeClassifier()</pre></div></div></div></div></div>"
      ],
      "text/plain": [
       "DecisionTreeClassifier()"
      ]
     },
     "execution_count": 58,
     "metadata": {},
     "output_type": "execute_result"
    }
   ],
   "source": [
    "classifier.fit(X_train,y_train)"
   ]
  },
  {
   "cell_type": "code",
   "execution_count": 60,
   "id": "88070470",
   "metadata": {
    "execution": {
     "iopub.execute_input": "2023-10-05T04:40:53.234777Z",
     "iopub.status.busy": "2023-10-05T04:40:53.234606Z",
     "iopub.status.idle": "2023-10-05T04:40:53.238976Z",
     "shell.execute_reply": "2023-10-05T04:40:53.238281Z"
    }
   },
   "outputs": [],
   "source": [
    "y_pred=classifier.predict(X_test)"
   ]
  },
  {
   "cell_type": "code",
   "execution_count": 61,
   "id": "6587d748",
   "metadata": {
    "execution": {
     "iopub.execute_input": "2023-10-05T04:40:53.242266Z",
     "iopub.status.busy": "2023-10-05T04:40:53.242097Z",
     "iopub.status.idle": "2023-10-05T04:40:53.246644Z",
     "shell.execute_reply": "2023-10-05T04:40:53.245953Z"
    },
    "type_information": "[{\"type\": \"<class 'numpy.ndarray'>\", \"name\": \"ndarray\", \"module\": \"numpy\", \"size\": 1896, \"shape\": \"(223,)\", \"dtype\": \"int64\"}]"
   },
   "outputs": [
    {
     "data": {
      "text/plain": [
       "array([1, 0, 1, 0, 0, 0, 0, 0, 1, 1, 1, 1, 1, 0, 1, 0, 1, 1, 0, 1, 0, 1,\n",
       "       0, 0, 0, 1, 0, 0, 0, 0, 1, 0, 0, 1, 0, 0, 0, 0, 0, 0, 1, 0, 1, 0,\n",
       "       1, 0, 0, 0, 0, 1, 0, 0, 0, 0, 0, 1, 1, 1, 0, 0, 1, 0, 1, 0, 1, 0,\n",
       "       0, 1, 1, 1, 0, 0, 0, 1, 0, 0, 0, 0, 1, 0, 0, 1, 1, 1, 1, 1, 0, 0,\n",
       "       0, 0, 0, 1, 1, 0, 1, 1, 1, 1, 0, 1, 0, 1, 0, 1, 0, 1, 0, 0, 0, 1,\n",
       "       1, 1, 0, 1, 0, 0, 0, 0, 0, 0, 0, 1, 0, 0, 0, 0, 0, 0, 0, 0, 0, 0,\n",
       "       0, 0, 0, 1, 0, 0, 1, 0, 0, 0, 1, 1, 1, 0, 0, 1, 0, 0, 0, 0, 1, 0,\n",
       "       0, 0, 1, 1, 1, 0, 1, 0, 1, 0, 0, 1, 0, 1, 1, 1, 1, 0, 0, 0, 0, 0,\n",
       "       0, 1, 0, 1, 0, 1, 1, 0, 0, 1, 0, 0, 1, 1, 0, 0, 0, 0, 0, 0, 0, 0,\n",
       "       0, 0, 1, 0, 0, 1, 1, 1, 0, 1, 0, 0, 1, 1, 1, 1, 1, 0, 1, 0, 1, 1,\n",
       "       1, 0, 1])"
      ]
     },
     "execution_count": 61,
     "metadata": {},
     "output_type": "execute_result"
    }
   ],
   "source": [
    "y_pred"
   ]
  },
  {
   "cell_type": "code",
   "execution_count": 63,
   "id": "04a81a73",
   "metadata": {
    "execution": {
     "iopub.execute_input": "2023-10-05T04:40:53.256642Z",
     "iopub.status.busy": "2023-10-05T04:40:53.256470Z",
     "iopub.status.idle": "2023-10-05T04:40:53.259529Z",
     "shell.execute_reply": "2023-10-05T04:40:53.258832Z"
    }
   },
   "outputs": [],
   "source": [
    "# Checking the performance\n",
    "from sklearn.metrics import classification_report,confusion_matrix"
   ]
  },
  {
   "cell_type": "code",
   "execution_count": 64,
   "id": "126efaeb",
   "metadata": {
    "error": [
     {
      "ename": "KeyError",
      "evalue": "64",
      "output_type": "error",
      "traceback": [
       "\u001b[0;31m---------------------------------------------------------------------------\u001b[0m",
       "\u001b[0;31mKeyError\u001b[0m                                  Traceback (most recent call last)",
       "Cell \u001b[0;32mIn[65], line 1\u001b[0m\n\u001b[0;32m----> 1\u001b[0m json\u001b[38;5;241m.\u001b[39mdumps([typehandlerforuniqueobjects(\u001b[43mOut\u001b[49m\u001b[43m[\u001b[49m\u001b[38;5;241;43m64\u001b[39;49m\u001b[43m]\u001b[49m)])\n",
       "\u001b[0;31mKeyError\u001b[0m: 64"
      ]
     }
    ],
    "execution": {
     "iopub.execute_input": "2023-10-05T04:40:53.262468Z",
     "iopub.status.busy": "2023-10-05T04:40:53.262299Z",
     "iopub.status.idle": "2023-10-05T04:40:53.274556Z",
     "shell.execute_reply": "2023-10-05T04:40:53.273817Z"
    }
   },
   "outputs": [
    {
     "name": "stdout",
     "output_type": "stream",
     "text": [
      "              precision    recall  f1-score   support\n",
      "\n",
      "           0       0.80      0.81      0.80       132\n",
      "           1       0.72      0.70      0.71        91\n",
      "\n",
      "    accuracy                           0.77       223\n",
      "   macro avg       0.76      0.76      0.76       223\n",
      "weighted avg       0.77      0.77      0.77       223\n",
      "\n"
     ]
    }
   ],
   "source": [
    "print(classification_report(y_test,y_pred))"
   ]
  },
  {
   "cell_type": "code",
   "execution_count": 66,
   "id": "8d703334",
   "metadata": {
    "error": [
     {
      "ename": "KeyError",
      "evalue": "66",
      "output_type": "error",
      "traceback": [
       "\u001b[0;31m---------------------------------------------------------------------------\u001b[0m",
       "\u001b[0;31mKeyError\u001b[0m                                  Traceback (most recent call last)",
       "Cell \u001b[0;32mIn[67], line 1\u001b[0m\n\u001b[0;32m----> 1\u001b[0m json\u001b[38;5;241m.\u001b[39mdumps([typehandlerforuniqueobjects(\u001b[43mOut\u001b[49m\u001b[43m[\u001b[49m\u001b[38;5;241;43m66\u001b[39;49m\u001b[43m]\u001b[49m)])\n",
       "\u001b[0;31mKeyError\u001b[0m: 66"
      ]
     }
    ],
    "execution": {
     "iopub.execute_input": "2023-10-05T04:40:53.310095Z",
     "iopub.status.busy": "2023-10-05T04:40:53.309923Z",
     "iopub.status.idle": "2023-10-05T04:40:53.316581Z",
     "shell.execute_reply": "2023-10-05T04:40:53.315836Z"
    }
   },
   "outputs": [
    {
     "name": "stdout",
     "output_type": "stream",
     "text": [
      "[[107  25]\n",
      " [ 27  64]]\n"
     ]
    }
   ],
   "source": [
    "print(confusion_matrix(y_test,y_pred))"
   ]
  },
  {
   "cell_type": "code",
   "execution_count": 68,
   "id": "5ca35077",
   "metadata": {
    "execution": {
     "iopub.execute_input": "2023-10-05T04:40:53.337841Z",
     "iopub.status.busy": "2023-10-05T04:40:53.337392Z",
     "iopub.status.idle": "2023-10-05T04:40:53.345419Z",
     "shell.execute_reply": "2023-10-05T04:40:53.344697Z"
    },
    "type_information": "[{\"type\": \"<class 'numpy.float64'>\", \"name\": \"float64\", \"module\": \"numpy\", \"size\": 32}]"
   },
   "outputs": [
    {
     "data": {
      "text/plain": [
       "0.7668161434977578"
      ]
     },
     "execution_count": 68,
     "metadata": {},
     "output_type": "execute_result"
    }
   ],
   "source": [
    "classifier.score(X_test,y_test)"
   ]
  },
  {
   "cell_type": "code",
   "execution_count": 70,
   "id": "c4b8df28",
   "metadata": {
    "execution": {
     "iopub.execute_input": "2023-10-05T04:40:53.355912Z",
     "iopub.status.busy": "2023-10-05T04:40:53.355742Z",
     "iopub.status.idle": "2023-10-05T04:40:53.363232Z",
     "shell.execute_reply": "2023-10-05T04:40:53.362543Z"
    },
    "type_information": "[{\"type\": \"<class 'numpy.float64'>\", \"name\": \"float64\", \"module\": \"numpy\", \"size\": 32}]"
   },
   "outputs": [
    {
     "data": {
      "text/plain": [
       "0.9864864864864865"
      ]
     },
     "execution_count": 70,
     "metadata": {},
     "output_type": "execute_result"
    }
   ],
   "source": [
    "classifier.score(X_train,y_train)"
   ]
  },
  {
   "cell_type": "code",
   "execution_count": null,
   "id": "609de1f4",
   "metadata": {},
   "outputs": [],
   "source": []
  }
 ],
 "metadata": {
  "hide_input": false,
  "kernelspec": {
   "display_name": "Python 3 (ipykernel)",
   "language": "python",
   "name": "python3"
  },
  "language_info": {
   "codemirror_mode": {
    "name": "ipython",
    "version": 3
   },
   "file_extension": ".py",
   "mimetype": "text/x-python",
   "name": "python",
   "nbconvert_exporter": "python",
   "pygments_lexer": "ipython3",
   "version": "3.9.13"
  }
 },
 "nbformat": 4,
 "nbformat_minor": 5
}
