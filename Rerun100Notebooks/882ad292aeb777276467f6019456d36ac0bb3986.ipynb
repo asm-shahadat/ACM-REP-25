{
 "cells": [
  {
   "cell_type": "markdown",
   "id": "3c413737",
   "metadata": {},
   "source": [
    "# NumPy Array Indexing"
   ]
  },
  {
   "cell_type": "code",
   "execution_count": 2,
   "id": "904fab94",
   "metadata": {
    "execution": {
     "iopub.execute_input": "2023-10-05T10:25:03.031664Z",
     "iopub.status.busy": "2023-10-05T10:25:03.031370Z",
     "iopub.status.idle": "2023-10-05T10:25:03.117479Z",
     "shell.execute_reply": "2023-10-05T10:25:03.116450Z"
    }
   },
   "outputs": [],
   "source": [
    "import numpy as np"
   ]
  },
  {
   "cell_type": "markdown",
   "id": "f3713785",
   "metadata": {},
   "source": [
    "## Accessing Array Elements"
   ]
  },
  {
   "cell_type": "code",
   "execution_count": 3,
   "id": "4ae53257",
   "metadata": {
    "error": [
     {
      "ename": "KeyError",
      "evalue": "3",
      "output_type": "error",
      "traceback": [
       "\u001b[0;31m---------------------------------------------------------------------------\u001b[0m",
       "\u001b[0;31mKeyError\u001b[0m                                  Traceback (most recent call last)",
       "Cell \u001b[0;32mIn[4], line 1\u001b[0m\n\u001b[0;32m----> 1\u001b[0m json\u001b[38;5;241m.\u001b[39mdumps([typehandlerforuniqueobjects(\u001b[43mOut\u001b[49m\u001b[43m[\u001b[49m\u001b[38;5;241;43m3\u001b[39;49m\u001b[43m]\u001b[49m)])\n",
       "\u001b[0;31mKeyError\u001b[0m: 3"
      ]
     }
    ],
    "execution": {
     "iopub.execute_input": "2023-10-05T10:25:03.121598Z",
     "iopub.status.busy": "2023-10-05T10:25:03.120697Z",
     "iopub.status.idle": "2023-10-05T10:25:03.126461Z",
     "shell.execute_reply": "2023-10-05T10:25:03.125553Z"
    }
   },
   "outputs": [
    {
     "name": "stdout",
     "output_type": "stream",
     "text": [
      "[1 2 3 4 5]\n"
     ]
    }
   ],
   "source": [
    "arr = np.array([1,2,3,4,5])\n",
    "print(arr)"
   ]
  },
  {
   "cell_type": "code",
   "execution_count": 5,
   "id": "ef59f337",
   "metadata": {
    "execution": {
     "iopub.execute_input": "2023-10-05T10:25:03.494724Z",
     "iopub.status.busy": "2023-10-05T10:25:03.494410Z",
     "iopub.status.idle": "2023-10-05T10:25:03.504721Z",
     "shell.execute_reply": "2023-10-05T10:25:03.503597Z"
    },
    "type_information": "[{\"type\": \"<class 'numpy.int64'>\", \"name\": \"int64\", \"module\": \"numpy\", \"size\": 32}]"
   },
   "outputs": [
    {
     "data": {
      "text/plain": [
       "1"
      ]
     },
     "execution_count": 5,
     "metadata": {},
     "output_type": "execute_result"
    }
   ],
   "source": [
    "arr[0]"
   ]
  },
  {
   "cell_type": "code",
   "execution_count": 7,
   "id": "6f07e163",
   "metadata": {
    "execution": {
     "iopub.execute_input": "2023-10-05T10:25:03.518009Z",
     "iopub.status.busy": "2023-10-05T10:25:03.517709Z",
     "iopub.status.idle": "2023-10-05T10:25:03.524053Z",
     "shell.execute_reply": "2023-10-05T10:25:03.523154Z"
    },
    "type_information": "[{\"type\": \"<class 'numpy.int64'>\", \"name\": \"int64\", \"module\": \"numpy\", \"size\": 32}]"
   },
   "outputs": [
    {
     "data": {
      "text/plain": [
       "7"
      ]
     },
     "execution_count": 7,
     "metadata": {},
     "output_type": "execute_result"
    }
   ],
   "source": [
    "arr[2] + arr[3]"
   ]
  },
  {
   "cell_type": "markdown",
   "id": "7ca15360",
   "metadata": {},
   "source": [
    "### Accessing 2-D Arrays"
   ]
  },
  {
   "cell_type": "code",
   "execution_count": 9,
   "id": "1f038313",
   "metadata": {
    "error": [
     {
      "ename": "KeyError",
      "evalue": "9",
      "output_type": "error",
      "traceback": [
       "\u001b[0;31m---------------------------------------------------------------------------\u001b[0m",
       "\u001b[0;31mKeyError\u001b[0m                                  Traceback (most recent call last)",
       "Cell \u001b[0;32mIn[10], line 1\u001b[0m\n\u001b[0;32m----> 1\u001b[0m json\u001b[38;5;241m.\u001b[39mdumps([typehandlerforuniqueobjects(\u001b[43mOut\u001b[49m\u001b[43m[\u001b[49m\u001b[38;5;241;43m9\u001b[39;49m\u001b[43m]\u001b[49m)])\n",
       "\u001b[0;31mKeyError\u001b[0m: 9"
      ]
     }
    ],
    "execution": {
     "iopub.execute_input": "2023-10-05T10:25:03.537351Z",
     "iopub.status.busy": "2023-10-05T10:25:03.537059Z",
     "iopub.status.idle": "2023-10-05T10:25:03.542941Z",
     "shell.execute_reply": "2023-10-05T10:25:03.541940Z"
    }
   },
   "outputs": [
    {
     "name": "stdout",
     "output_type": "stream",
     "text": [
      "[[ 1  2  3  4  5]\n",
      " [ 6  7  8  9 10]]\n"
     ]
    }
   ],
   "source": [
    "arr1 = np.array([[1,2,3,4,5], [6,7,8,9,10]])\n",
    "print(arr1)"
   ]
  },
  {
   "cell_type": "code",
   "execution_count": 11,
   "id": "9c2bd981",
   "metadata": {
    "error": [
     {
      "ename": "KeyError",
      "evalue": "11",
      "output_type": "error",
      "traceback": [
       "\u001b[0;31m---------------------------------------------------------------------------\u001b[0m",
       "\u001b[0;31mKeyError\u001b[0m                                  Traceback (most recent call last)",
       "Cell \u001b[0;32mIn[12], line 1\u001b[0m\n\u001b[0;32m----> 1\u001b[0m json\u001b[38;5;241m.\u001b[39mdumps([typehandlerforuniqueobjects(\u001b[43mOut\u001b[49m\u001b[43m[\u001b[49m\u001b[38;5;241;43m11\u001b[39;49m\u001b[43m]\u001b[49m)])\n",
       "\u001b[0;31mKeyError\u001b[0m: 11"
      ]
     }
    ],
    "execution": {
     "iopub.execute_input": "2023-10-05T10:25:03.573107Z",
     "iopub.status.busy": "2023-10-05T10:25:03.572809Z",
     "iopub.status.idle": "2023-10-05T10:25:03.578235Z",
     "shell.execute_reply": "2023-10-05T10:25:03.577227Z"
    }
   },
   "outputs": [
    {
     "name": "stdout",
     "output_type": "stream",
     "text": [
      "2 10\n"
     ]
    }
   ],
   "source": [
    "print(arr1[0, 1], arr1[1, 4])"
   ]
  },
  {
   "cell_type": "markdown",
   "id": "fb64a115",
   "metadata": {},
   "source": [
    "### Accessing 3-D Arrays"
   ]
  },
  {
   "cell_type": "code",
   "execution_count": 13,
   "id": "8b983e9f",
   "metadata": {
    "error": [
     {
      "ename": "KeyError",
      "evalue": "13",
      "output_type": "error",
      "traceback": [
       "\u001b[0;31m---------------------------------------------------------------------------\u001b[0m",
       "\u001b[0;31mKeyError\u001b[0m                                  Traceback (most recent call last)",
       "Cell \u001b[0;32mIn[14], line 1\u001b[0m\n\u001b[0;32m----> 1\u001b[0m json\u001b[38;5;241m.\u001b[39mdumps([typehandlerforuniqueobjects(\u001b[43mOut\u001b[49m\u001b[43m[\u001b[49m\u001b[38;5;241;43m13\u001b[39;49m\u001b[43m]\u001b[49m)])\n",
       "\u001b[0;31mKeyError\u001b[0m: 13"
      ]
     }
    ],
    "execution": {
     "iopub.execute_input": "2023-10-05T10:25:03.607879Z",
     "iopub.status.busy": "2023-10-05T10:25:03.607578Z",
     "iopub.status.idle": "2023-10-05T10:25:03.613645Z",
     "shell.execute_reply": "2023-10-05T10:25:03.612634Z"
    }
   },
   "outputs": [
    {
     "name": "stdout",
     "output_type": "stream",
     "text": [
      "[[[ 1  2  3]\n",
      "  [ 4  5  6]]\n",
      "\n",
      " [[ 7  8  9]\n",
      "  [10 11 12]]]\n"
     ]
    }
   ],
   "source": [
    "arr2 = np.array([[[1, 2, 3], [4, 5, 6]], [[7, 8, 9], [10, 11, 12]]])\n",
    "print(arr2)"
   ]
  },
  {
   "cell_type": "code",
   "execution_count": 15,
   "id": "ff0fd6ff",
   "metadata": {
    "execution": {
     "iopub.execute_input": "2023-10-05T10:25:03.642676Z",
     "iopub.status.busy": "2023-10-05T10:25:03.642379Z",
     "iopub.status.idle": "2023-10-05T10:25:03.649032Z",
     "shell.execute_reply": "2023-10-05T10:25:03.648048Z"
    },
    "type_information": "[{\"type\": \"<class 'numpy.int64'>\", \"name\": \"int64\", \"module\": \"numpy\", \"size\": 32}]"
   },
   "outputs": [
    {
     "data": {
      "text/plain": [
       "6"
      ]
     },
     "execution_count": 15,
     "metadata": {},
     "output_type": "execute_result"
    }
   ],
   "source": [
    "arr2[0, 1, 2]"
   ]
  },
  {
   "cell_type": "markdown",
   "id": "023ae97f",
   "metadata": {},
   "source": [
    "### Negative Indexing"
   ]
  },
  {
   "cell_type": "code",
   "execution_count": 17,
   "id": "7ff9d9f0",
   "metadata": {
    "execution": {
     "iopub.execute_input": "2023-10-05T10:25:03.662503Z",
     "iopub.status.busy": "2023-10-05T10:25:03.662212Z",
     "iopub.status.idle": "2023-10-05T10:25:03.668486Z",
     "shell.execute_reply": "2023-10-05T10:25:03.667503Z"
    },
    "type_information": "[{\"type\": \"<class 'numpy.ndarray'>\", \"name\": \"ndarray\", \"module\": \"numpy\", \"size\": 208, \"shape\": \"(2, 5)\", \"dtype\": \"int64\"}]"
   },
   "outputs": [
    {
     "data": {
      "text/plain": [
       "array([[ 1,  2,  3,  4,  5],\n",
       "       [ 6,  7,  8,  9, 10]])"
      ]
     },
     "execution_count": 17,
     "metadata": {},
     "output_type": "execute_result"
    }
   ],
   "source": [
    "arr1"
   ]
  },
  {
   "cell_type": "code",
   "execution_count": 19,
   "id": "60437111",
   "metadata": {
    "execution": {
     "iopub.execute_input": "2023-10-05T10:25:03.683958Z",
     "iopub.status.busy": "2023-10-05T10:25:03.683663Z",
     "iopub.status.idle": "2023-10-05T10:25:03.689945Z",
     "shell.execute_reply": "2023-10-05T10:25:03.688992Z"
    },
    "type_information": "[{\"type\": \"<class 'numpy.int64'>\", \"name\": \"int64\", \"module\": \"numpy\", \"size\": 32}]"
   },
   "outputs": [
    {
     "data": {
      "text/plain": [
       "10"
      ]
     },
     "execution_count": 19,
     "metadata": {},
     "output_type": "execute_result"
    }
   ],
   "source": [
    "arr1[1,-1]"
   ]
  },
  {
   "cell_type": "markdown",
   "id": "5983e86b",
   "metadata": {},
   "source": [
    "##  Advanced indexing"
   ]
  },
  {
   "cell_type": "markdown",
   "id": "17bf0c4a",
   "metadata": {},
   "source": [
    "### Indexing using index arrays"
   ]
  },
  {
   "cell_type": "code",
   "execution_count": 21,
   "id": "eb0dc14a",
   "metadata": {
    "error": [
     {
      "ename": "KeyError",
      "evalue": "21",
      "output_type": "error",
      "traceback": [
       "\u001b[0;31m---------------------------------------------------------------------------\u001b[0m",
       "\u001b[0;31mKeyError\u001b[0m                                  Traceback (most recent call last)",
       "Cell \u001b[0;32mIn[22], line 1\u001b[0m\n\u001b[0;32m----> 1\u001b[0m json\u001b[38;5;241m.\u001b[39mdumps([typehandlerforuniqueobjects(\u001b[43mOut\u001b[49m\u001b[43m[\u001b[49m\u001b[38;5;241;43m21\u001b[39;49m\u001b[43m]\u001b[49m)])\n",
       "\u001b[0;31mKeyError\u001b[0m: 21"
      ]
     }
    ],
    "execution": {
     "iopub.execute_input": "2023-10-05T10:25:03.703411Z",
     "iopub.status.busy": "2023-10-05T10:25:03.703122Z",
     "iopub.status.idle": "2023-10-05T10:25:03.709441Z",
     "shell.execute_reply": "2023-10-05T10:25:03.708445Z"
    }
   },
   "outputs": [
    {
     "name": "stdout",
     "output_type": "stream",
     "text": [
      "\n",
      " A sequential array with a negative step: \n",
      " [10  8  6  4  2]\n",
      "\n",
      " Elements at these indices are:\n",
      " [4 8 6]\n"
     ]
    }
   ],
   "source": [
    "arr = np.arange(10, 1, -2)\n",
    "print(\"\\n A sequential array with a negative step: \\n\",arr)\n",
    "\n",
    "newarr = arr[np.array([3, 1, 2])]\n",
    "print(\"\\n Elements at these indices are:\\n\",newarr)"
   ]
  },
  {
   "cell_type": "code",
   "execution_count": 23,
   "id": "31754f0b",
   "metadata": {
    "error": [
     {
      "ename": "KeyError",
      "evalue": "23",
      "output_type": "error",
      "traceback": [
       "\u001b[0;31m---------------------------------------------------------------------------\u001b[0m",
       "\u001b[0;31mKeyError\u001b[0m                                  Traceback (most recent call last)",
       "Cell \u001b[0;32mIn[24], line 1\u001b[0m\n\u001b[0;32m----> 1\u001b[0m json\u001b[38;5;241m.\u001b[39mdumps([typehandlerforuniqueobjects(\u001b[43mOut\u001b[49m\u001b[43m[\u001b[49m\u001b[38;5;241;43m23\u001b[39;49m\u001b[43m]\u001b[49m)])\n",
       "\u001b[0;31mKeyError\u001b[0m: 23"
      ]
     }
    ],
    "execution": {
     "iopub.execute_input": "2023-10-05T10:25:03.741245Z",
     "iopub.status.busy": "2023-10-05T10:25:03.740940Z",
     "iopub.status.idle": "2023-10-05T10:25:03.747176Z",
     "shell.execute_reply": "2023-10-05T10:25:03.746156Z"
    }
   },
   "outputs": [
    {
     "name": "stdout",
     "output_type": "stream",
     "text": [
      "\n",
      " Elements are : \n",
      " [2 4 7]\n"
     ]
    }
   ],
   "source": [
    "arr = np.array([1, 2, 3, 4, 5, 6, 7, 8, 9])\n",
    "\n",
    "newarr = arr[np.array([1, 3, -3])]\n",
    "print(\"\\n Elements are : \\n\",newarr)"
   ]
  },
  {
   "cell_type": "markdown",
   "id": "7f83c3f3",
   "metadata": {},
   "source": [
    "### Purely integer indexing"
   ]
  },
  {
   "cell_type": "code",
   "execution_count": 25,
   "id": "b71ab79b",
   "metadata": {
    "error": [
     {
      "ename": "KeyError",
      "evalue": "25",
      "output_type": "error",
      "traceback": [
       "\u001b[0;31m---------------------------------------------------------------------------\u001b[0m",
       "\u001b[0;31mKeyError\u001b[0m                                  Traceback (most recent call last)",
       "Cell \u001b[0;32mIn[26], line 1\u001b[0m\n\u001b[0;32m----> 1\u001b[0m json\u001b[38;5;241m.\u001b[39mdumps([typehandlerforuniqueobjects(\u001b[43mOut\u001b[49m\u001b[43m[\u001b[49m\u001b[38;5;241;43m25\u001b[39;49m\u001b[43m]\u001b[49m)])\n",
       "\u001b[0;31mKeyError\u001b[0m: 25"
      ]
     }
    ],
    "execution": {
     "iopub.execute_input": "2023-10-05T10:25:03.777880Z",
     "iopub.status.busy": "2023-10-05T10:25:03.777587Z",
     "iopub.status.idle": "2023-10-05T10:25:03.783554Z",
     "shell.execute_reply": "2023-10-05T10:25:03.782528Z"
    }
   },
   "outputs": [
    {
     "name": "stdout",
     "output_type": "stream",
     "text": [
      "[1 3 6]\n"
     ]
    }
   ],
   "source": [
    "arr = np.array([[1 ,2 ],[3 ,4 ],[5 ,6 ]])\n",
    "print(arr[[0 ,1 ,2 ],[0 ,0 ,1]])"
   ]
  },
  {
   "cell_type": "markdown",
   "id": "860206d0",
   "metadata": {},
   "source": [
    "### Boolean Indexing "
   ]
  },
  {
   "cell_type": "code",
   "execution_count": 27,
   "id": "5a4a689f",
   "metadata": {
    "error": [
     {
      "ename": "KeyError",
      "evalue": "27",
      "output_type": "error",
      "traceback": [
       "\u001b[0;31m---------------------------------------------------------------------------\u001b[0m",
       "\u001b[0;31mKeyError\u001b[0m                                  Traceback (most recent call last)",
       "Cell \u001b[0;32mIn[28], line 1\u001b[0m\n\u001b[0;32m----> 1\u001b[0m json\u001b[38;5;241m.\u001b[39mdumps([typehandlerforuniqueobjects(\u001b[43mOut\u001b[49m\u001b[43m[\u001b[49m\u001b[38;5;241;43m27\u001b[39;49m\u001b[43m]\u001b[49m)])\n",
       "\u001b[0;31mKeyError\u001b[0m: 27"
      ]
     }
    ],
    "execution": {
     "iopub.execute_input": "2023-10-05T10:25:03.812908Z",
     "iopub.status.busy": "2023-10-05T10:25:03.812608Z",
     "iopub.status.idle": "2023-10-05T10:25:03.818237Z",
     "shell.execute_reply": "2023-10-05T10:25:03.817234Z"
    }
   },
   "outputs": [
    {
     "name": "stdout",
     "output_type": "stream",
     "text": [
      "[ 80 100]\n"
     ]
    }
   ],
   "source": [
    "a = np.array([10, 40, 80, 50, 100])\n",
    "print(a[a>50])"
   ]
  },
  {
   "cell_type": "code",
   "execution_count": 29,
   "id": "1fbea64c",
   "metadata": {
    "error": [
     {
      "ename": "KeyError",
      "evalue": "29",
      "output_type": "error",
      "traceback": [
       "\u001b[0;31m---------------------------------------------------------------------------\u001b[0m",
       "\u001b[0;31mKeyError\u001b[0m                                  Traceback (most recent call last)",
       "Cell \u001b[0;32mIn[30], line 1\u001b[0m\n\u001b[0;32m----> 1\u001b[0m json\u001b[38;5;241m.\u001b[39mdumps([typehandlerforuniqueobjects(\u001b[43mOut\u001b[49m\u001b[43m[\u001b[49m\u001b[38;5;241;43m29\u001b[39;49m\u001b[43m]\u001b[49m)])\n",
       "\u001b[0;31mKeyError\u001b[0m: 29"
      ]
     }
    ],
    "execution": {
     "iopub.execute_input": "2023-10-05T10:25:03.847252Z",
     "iopub.status.busy": "2023-10-05T10:25:03.846959Z",
     "iopub.status.idle": "2023-10-05T10:25:03.852729Z",
     "shell.execute_reply": "2023-10-05T10:25:03.851685Z"
    }
   },
   "outputs": [
    {
     "name": "stdout",
     "output_type": "stream",
     "text": [
      "[1600 6400]\n"
     ]
    }
   ],
   "source": [
    "a = np.array([10, 40, 80, 50, 100])\n",
    "print(a[a%40==0]**2)"
   ]
  },
  {
   "cell_type": "code",
   "execution_count": 31,
   "id": "72be9adf",
   "metadata": {
    "error": [
     {
      "ename": "KeyError",
      "evalue": "31",
      "output_type": "error",
      "traceback": [
       "\u001b[0;31m---------------------------------------------------------------------------\u001b[0m",
       "\u001b[0;31mKeyError\u001b[0m                                  Traceback (most recent call last)",
       "Cell \u001b[0;32mIn[32], line 1\u001b[0m\n\u001b[0;32m----> 1\u001b[0m json\u001b[38;5;241m.\u001b[39mdumps([typehandlerforuniqueobjects(\u001b[43mOut\u001b[49m\u001b[43m[\u001b[49m\u001b[38;5;241;43m31\u001b[39;49m\u001b[43m]\u001b[49m)])\n",
       "\u001b[0;31mKeyError\u001b[0m: 31"
      ]
     }
    ],
    "execution": {
     "iopub.execute_input": "2023-10-05T10:25:03.881767Z",
     "iopub.status.busy": "2023-10-05T10:25:03.881461Z",
     "iopub.status.idle": "2023-10-05T10:25:03.887676Z",
     "shell.execute_reply": "2023-10-05T10:25:03.886657Z"
    }
   },
   "outputs": [
    {
     "name": "stdout",
     "output_type": "stream",
     "text": [
      "[[ 5  5]\n",
      " [16  4]]\n"
     ]
    }
   ],
   "source": [
    "b = np.array([[5, 5],[4, 5],[16, 4]])\n",
    "sumrow = b.sum(-1)\n",
    "# print(sumrow)\n",
    "print(b[sumrow%10==0])"
   ]
  },
  {
   "cell_type": "code",
   "execution_count": null,
   "id": "670b31d5",
   "metadata": {},
   "outputs": [],
   "source": []
  }
 ],
 "metadata": {
  "kernelspec": {
   "display_name": "Python 3 (ipykernel)",
   "language": "python",
   "name": "python3"
  },
  "language_info": {
   "codemirror_mode": {
    "name": "ipython",
    "version": 3
   },
   "file_extension": ".py",
   "mimetype": "text/x-python",
   "name": "python",
   "nbconvert_exporter": "python",
   "pygments_lexer": "ipython3",
   "version": "3.9.18"
  }
 },
 "nbformat": 4,
 "nbformat_minor": 5
}
