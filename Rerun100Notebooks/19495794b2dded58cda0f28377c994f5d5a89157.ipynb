{
 "cells": [
  {
   "cell_type": "markdown",
   "metadata": {},
   "source": [
    "# Experiment 1.d - Regression (Polynomial Features)\n",
    "\n",
    "#### Objective: To perform regression with transformation of x taking y (t) as scalar "
   ]
  },
  {
   "cell_type": "code",
   "execution_count": 2,
   "metadata": {
    "execution": {
     "iopub.execute_input": "2023-10-05T00:56:05.043635Z",
     "iopub.status.busy": "2023-10-05T00:56:05.043351Z",
     "iopub.status.idle": "2023-10-05T00:56:05.636749Z",
     "shell.execute_reply": "2023-10-05T00:56:05.635388Z"
    }
   },
   "outputs": [],
   "source": [
    "# Import libraries\n",
    "import numpy as np\n",
    "from sklearn.datasets import make_regression"
   ]
  },
  {
   "cell_type": "code",
   "execution_count": 3,
   "metadata": {
    "execution": {
     "iopub.execute_input": "2023-10-05T00:56:05.641450Z",
     "iopub.status.busy": "2023-10-05T00:56:05.641001Z",
     "iopub.status.idle": "2023-10-05T00:56:05.647805Z",
     "shell.execute_reply": "2023-10-05T00:56:05.646628Z"
    }
   },
   "outputs": [],
   "source": [
    "# Calculating W using the formula - [W = inverse(Ø'Ø) Ø' t]\n",
    "def calculateWVectorX(X, t):\n",
    "    XTranspose = np.transpose(X)\n",
    "\n",
    "    tempTerm1 = np.linalg.inv(np.matmul(XTranspose, X))\n",
    "\n",
    "    tempTerm2 = np.matmul(tempTerm1, XTranspose)\n",
    "\n",
    "    W = np.matmul(tempTerm2, t)\n",
    "\n",
    "    # print(\"Printing the W vector:\")\n",
    "    # print(W)\n",
    "    \n",
    "    return W"
   ]
  },
  {
   "cell_type": "code",
   "execution_count": 4,
   "metadata": {
    "execution": {
     "iopub.execute_input": "2023-10-05T00:56:05.651452Z",
     "iopub.status.busy": "2023-10-05T00:56:05.651156Z",
     "iopub.status.idle": "2023-10-05T00:56:05.657789Z",
     "shell.execute_reply": "2023-10-05T00:56:05.656721Z"
    }
   },
   "outputs": [],
   "source": [
    "# Create a dataset where X is a vector of 10 elements \n",
    "X, t = make_regression(100, 1, shuffle=True, bias=0, noise=0, random_state=5)"
   ]
  },
  {
   "cell_type": "code",
   "execution_count": 5,
   "metadata": {
    "error": [
     {
      "ename": "KeyError",
      "evalue": "5",
      "output_type": "error",
      "traceback": [
       "\u001b[0;31m---------------------------------------------------------------------------\u001b[0m",
       "\u001b[0;31mKeyError\u001b[0m                                  Traceback (most recent call last)",
       "Cell \u001b[0;32mIn[6], line 1\u001b[0m\n\u001b[0;32m----> 1\u001b[0m json\u001b[38;5;241m.\u001b[39mdumps([typehandlerforuniqueobjects(\u001b[43mOut\u001b[49m\u001b[43m[\u001b[49m\u001b[38;5;241;43m5\u001b[39;49m\u001b[43m]\u001b[49m)])\n",
       "\u001b[0;31mKeyError\u001b[0m: 5"
      ]
     }
    ],
    "execution": {
     "iopub.execute_input": "2023-10-05T00:56:05.661743Z",
     "iopub.status.busy": "2023-10-05T00:56:05.661447Z",
     "iopub.status.idle": "2023-10-05T00:56:05.668044Z",
     "shell.execute_reply": "2023-10-05T00:56:05.667037Z"
    }
   },
   "outputs": [
    {
     "name": "stdout",
     "output_type": "stream",
     "text": [
      "Type of X: <class 'numpy.ndarray'> | Type of array: (100, 1) | Count: 100\n",
      "Type of t: <class 'numpy.ndarray'> | Type of array: (100,) | Count: 100\n"
     ]
    }
   ],
   "source": [
    "# Printing details of X and t for verification\n",
    "print(\"Type of X:\", type(X), \"| Type of array:\", np.shape(X), \"| Count:\", np.count_nonzero(X))\n",
    "print(\"Type of t:\", type(t), \"| Type of array:\", np.shape(t), \"| Count:\", np.count_nonzero(t))"
   ]
  },
  {
   "cell_type": "code",
   "execution_count": 7,
   "metadata": {
    "execution": {
     "iopub.execute_input": "2023-10-05T00:56:06.103199Z",
     "iopub.status.busy": "2023-10-05T00:56:06.102889Z",
     "iopub.status.idle": "2023-10-05T00:56:06.108305Z",
     "shell.execute_reply": "2023-10-05T00:56:06.107290Z"
    }
   },
   "outputs": [],
   "source": [
    "exponentialList = [np.exp(i) for i in X]\n",
    "# Or if you're feeling a little cheeky\n",
    "# exponentialList = np.exp(X)"
   ]
  },
  {
   "cell_type": "code",
   "execution_count": 8,
   "metadata": {
    "execution": {
     "iopub.execute_input": "2023-10-05T00:56:06.112345Z",
     "iopub.status.busy": "2023-10-05T00:56:06.112047Z",
     "iopub.status.idle": "2023-10-05T00:56:06.122776Z",
     "shell.execute_reply": "2023-10-05T00:56:06.121833Z"
    },
    "type_information": "[{\"type\": \"<class 'numpy.ndarray'>\", \"name\": \"ndarray\", \"module\": \"numpy\", \"size\": 120, \"shape\": \"(1,)\", \"dtype\": \"float64\"}]"
   },
   "outputs": [
    {
     "data": {
      "text/plain": [
       "array([14.88811833])"
      ]
     },
     "execution_count": 8,
     "metadata": {},
     "output_type": "execute_result"
    }
   ],
   "source": [
    "W = calculateWVectorX(exponentialList, t)\n",
    "W"
   ]
  },
  {
   "cell_type": "markdown",
   "metadata": {},
   "source": [
    "### Using sklearn to verify previous solution"
   ]
  },
  {
   "cell_type": "code",
   "execution_count": 10,
   "metadata": {
    "error": [
     {
      "ename": "KeyError",
      "evalue": "10",
      "output_type": "error",
      "traceback": [
       "\u001b[0;31m---------------------------------------------------------------------------\u001b[0m",
       "\u001b[0;31mKeyError\u001b[0m                                  Traceback (most recent call last)",
       "Cell \u001b[0;32mIn[11], line 1\u001b[0m\n\u001b[0;32m----> 1\u001b[0m json\u001b[38;5;241m.\u001b[39mdumps([typehandlerforuniqueobjects(\u001b[43mOut\u001b[49m\u001b[43m[\u001b[49m\u001b[38;5;241;43m10\u001b[39;49m\u001b[43m]\u001b[49m)])\n",
       "\u001b[0;31mKeyError\u001b[0m: 10"
      ]
     }
    ],
    "execution": {
     "iopub.execute_input": "2023-10-05T00:56:06.136628Z",
     "iopub.status.busy": "2023-10-05T00:56:06.136332Z",
     "iopub.status.idle": "2023-10-05T00:56:06.278185Z",
     "shell.execute_reply": "2023-10-05T00:56:06.276953Z"
    }
   },
   "outputs": [
    {
     "name": "stdout",
     "output_type": "stream",
     "text": [
      "\n",
      "Coefficient:\n",
      "[24.17230036]\n",
      "\n",
      "Bias:\n",
      "-35.803523645835995\n"
     ]
    }
   ],
   "source": [
    "# Using an alternate method using sklearn sub-modules\n",
    "from sklearn.linear_model import LinearRegression\n",
    "\n",
    "reg = LinearRegression().fit(exponentialList, t)\n",
    "\n",
    "# print(\"Regression score:\", reg.score(exponentialList, t))\n",
    "\n",
    "coeff = reg.coef_\n",
    "bias = reg.intercept_\n",
    "\n",
    "print(\"\\nCoefficient:\\n{}\\n\\nBias:\\n{}\".format(coeff, bias))"
   ]
  },
  {
   "cell_type": "markdown",
   "metadata": {},
   "source": [
    "##### Note: Since we don't add the x0 column at the end, we dont get the same result for both. To work around this, make sure to single out the first element and append after the transformation"
   ]
  },
  {
   "cell_type": "markdown",
   "metadata": {},
   "source": [
    "### Reference\n",
    "https://scikit-learn.org/stable/modules/generated/sklearn.preprocessing.PolynomialFeatures.html\n",
    "This library is useful for functions that aren't exp() or trigo. "
   ]
  }
 ],
 "metadata": {
  "interpreter": {
   "hash": "f760b58b1702251c82a9d6c892fde15c055c7d753330857f80b5bdc53d0a46e9"
  },
  "kernelspec": {
   "display_name": "Python 3.9.7 64-bit ('base': conda)",
   "language": "python",
   "name": "python3"
  },
  "language_info": {
   "codemirror_mode": {
    "name": "ipython",
    "version": 3
   },
   "file_extension": ".py",
   "mimetype": "text/x-python",
   "name": "python",
   "nbconvert_exporter": "python",
   "pygments_lexer": "ipython3",
   "version": "3.9.18"
  }
 },
 "nbformat": 4,
 "nbformat_minor": 2
}
