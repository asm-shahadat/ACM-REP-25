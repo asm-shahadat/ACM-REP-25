{
 "cells": [
  {
   "cell_type": "markdown",
   "metadata": {
    "id": "Hb6Z39A3Xo85"
   },
   "source": [
    "# HR - Attrition Analytics\n",
    "\n",
    "Human Resources are critical resources of any organiazation. Organizations spend huge amount of time and money to hire and nuture their employees. It is a huge loss for companies if employees leave, especially the key resources. So if HR can predict weather employees are at risk for leaving the company, it will allow them to identify the attrition risks and help understand and provie necessary support to retain those employees or do preventive hiring to minimize the impact to the orgranization.\n",
    "\n",
    "This dataset is taken from kaggle https://www.kaggle.com/ludobenistant/hr-analytics\n",
    "\n",
    "Fields in the dataset include:\n",
    "\n",
    "- Employee satisfaction level\n",
    "- Last evaluation\n",
    "- Number of projects\n",
    "- Average monthly hours\n",
    "- Time spent at the company\n",
    "- Whether they have had a work accident\n",
    "- Whether they have had a promotion in the last 5 years\n",
    "- Department\n",
    "- Salary\n",
    "- Whether the employee has left\n"
   ]
  },
  {
   "cell_type": "markdown",
   "metadata": {
    "id": "sVATj39TXo89"
   },
   "source": [
    "### Loading Datasets and exploring metadata"
   ]
  },
  {
   "cell_type": "code",
   "execution_count": 2,
   "metadata": {
    "execution": {
     "iopub.execute_input": "2023-10-05T20:10:20.660938Z",
     "iopub.status.busy": "2023-10-05T20:10:20.660655Z",
     "iopub.status.idle": "2023-10-05T20:10:21.170341Z",
     "shell.execute_reply": "2023-10-05T20:10:21.169084Z"
    },
    "id": "jqmJ15H1Xo89"
   },
   "outputs": [],
   "source": [
    "import pandas as pd\n",
    "import numpy as np"
   ]
  },
  {
   "cell_type": "code",
   "execution_count": 3,
   "metadata": {
    "execution": {
     "iopub.execute_input": "2023-10-05T20:10:21.174746Z",
     "iopub.status.busy": "2023-10-05T20:10:21.174357Z",
     "iopub.status.idle": "2023-10-05T20:10:22.133810Z",
     "shell.execute_reply": "2023-10-05T20:10:22.132573Z"
    },
    "id": "3ICZxw7eXo8_"
   },
   "outputs": [],
   "source": [
    "hr_df = pd.read_csv('https://drive.google.com/uc?export=download&id=1TwYF67jf31_JBiHqmBKCfuJMJxs7bJGF')"
   ]
  },
  {
   "cell_type": "code",
   "execution_count": 4,
   "metadata": {
    "colab": {
     "base_uri": "https://localhost:8080/",
     "height": 427
    },
    "execution": {
     "iopub.execute_input": "2023-10-05T20:10:22.138129Z",
     "iopub.status.busy": "2023-10-05T20:10:22.137831Z",
     "iopub.status.idle": "2023-10-05T20:10:22.160534Z",
     "shell.execute_reply": "2023-10-05T20:10:22.159385Z"
    },
    "id": "j6Q6E9WXXo8_",
    "outputId": "1e10ffb3-7fd5-4df5-844d-b0135fb1f278",
    "type_information": "[{\"type\": \"<class 'pandas.core.frame.DataFrame'>\", \"name\": \"DataFrame\", \"module\": \"pandas.core.frame\", \"size\": 1980, \"shape\": \"(10, 10)\", \"dtype\": \"satisfaction_level       float64\\nlast_evaluation          float64\\nnumber_project             int64\\naverage_montly_hours       int64\\ntime_spend_company         int64\\nWork_accident              int64\\nleft                       int64\\npromotion_last_5years      int64\\ndept                      object\\nsalary                    object\\ndtype: object\"}]"
   },
   "outputs": [
    {
     "data": {
      "text/html": [
       "<div>\n",
       "<style scoped>\n",
       "    .dataframe tbody tr th:only-of-type {\n",
       "        vertical-align: middle;\n",
       "    }\n",
       "\n",
       "    .dataframe tbody tr th {\n",
       "        vertical-align: top;\n",
       "    }\n",
       "\n",
       "    .dataframe thead th {\n",
       "        text-align: right;\n",
       "    }\n",
       "</style>\n",
       "<table border=\"1\" class=\"dataframe\">\n",
       "  <thead>\n",
       "    <tr style=\"text-align: right;\">\n",
       "      <th></th>\n",
       "      <th>satisfaction_level</th>\n",
       "      <th>last_evaluation</th>\n",
       "      <th>number_project</th>\n",
       "      <th>average_montly_hours</th>\n",
       "      <th>time_spend_company</th>\n",
       "      <th>Work_accident</th>\n",
       "      <th>left</th>\n",
       "      <th>promotion_last_5years</th>\n",
       "      <th>dept</th>\n",
       "      <th>salary</th>\n",
       "    </tr>\n",
       "  </thead>\n",
       "  <tbody>\n",
       "    <tr>\n",
       "      <th>7565</th>\n",
       "      <td>0.95</td>\n",
       "      <td>0.77</td>\n",
       "      <td>3</td>\n",
       "      <td>184</td>\n",
       "      <td>4</td>\n",
       "      <td>0</td>\n",
       "      <td>0</td>\n",
       "      <td>0</td>\n",
       "      <td>sales</td>\n",
       "      <td>medium</td>\n",
       "    </tr>\n",
       "    <tr>\n",
       "      <th>3821</th>\n",
       "      <td>0.87</td>\n",
       "      <td>0.74</td>\n",
       "      <td>4</td>\n",
       "      <td>265</td>\n",
       "      <td>4</td>\n",
       "      <td>0</td>\n",
       "      <td>0</td>\n",
       "      <td>0</td>\n",
       "      <td>marketing</td>\n",
       "      <td>medium</td>\n",
       "    </tr>\n",
       "    <tr>\n",
       "      <th>10140</th>\n",
       "      <td>0.80</td>\n",
       "      <td>0.98</td>\n",
       "      <td>3</td>\n",
       "      <td>189</td>\n",
       "      <td>6</td>\n",
       "      <td>0</td>\n",
       "      <td>0</td>\n",
       "      <td>0</td>\n",
       "      <td>IT</td>\n",
       "      <td>low</td>\n",
       "    </tr>\n",
       "    <tr>\n",
       "      <th>6222</th>\n",
       "      <td>0.78</td>\n",
       "      <td>0.63</td>\n",
       "      <td>5</td>\n",
       "      <td>200</td>\n",
       "      <td>2</td>\n",
       "      <td>0</td>\n",
       "      <td>0</td>\n",
       "      <td>0</td>\n",
       "      <td>technical</td>\n",
       "      <td>low</td>\n",
       "    </tr>\n",
       "    <tr>\n",
       "      <th>5145</th>\n",
       "      <td>0.63</td>\n",
       "      <td>0.92</td>\n",
       "      <td>2</td>\n",
       "      <td>198</td>\n",
       "      <td>2</td>\n",
       "      <td>0</td>\n",
       "      <td>0</td>\n",
       "      <td>0</td>\n",
       "      <td>hr</td>\n",
       "      <td>low</td>\n",
       "    </tr>\n",
       "    <tr>\n",
       "      <th>3113</th>\n",
       "      <td>0.98</td>\n",
       "      <td>0.84</td>\n",
       "      <td>3</td>\n",
       "      <td>286</td>\n",
       "      <td>4</td>\n",
       "      <td>0</td>\n",
       "      <td>0</td>\n",
       "      <td>0</td>\n",
       "      <td>technical</td>\n",
       "      <td>medium</td>\n",
       "    </tr>\n",
       "    <tr>\n",
       "      <th>12504</th>\n",
       "      <td>0.78</td>\n",
       "      <td>0.83</td>\n",
       "      <td>4</td>\n",
       "      <td>217</td>\n",
       "      <td>6</td>\n",
       "      <td>0</td>\n",
       "      <td>1</td>\n",
       "      <td>0</td>\n",
       "      <td>support</td>\n",
       "      <td>medium</td>\n",
       "    </tr>\n",
       "    <tr>\n",
       "      <th>2863</th>\n",
       "      <td>0.77</td>\n",
       "      <td>0.67</td>\n",
       "      <td>3</td>\n",
       "      <td>186</td>\n",
       "      <td>2</td>\n",
       "      <td>0</td>\n",
       "      <td>0</td>\n",
       "      <td>0</td>\n",
       "      <td>technical</td>\n",
       "      <td>low</td>\n",
       "    </tr>\n",
       "    <tr>\n",
       "      <th>11018</th>\n",
       "      <td>0.32</td>\n",
       "      <td>0.86</td>\n",
       "      <td>4</td>\n",
       "      <td>214</td>\n",
       "      <td>5</td>\n",
       "      <td>0</td>\n",
       "      <td>0</td>\n",
       "      <td>0</td>\n",
       "      <td>sales</td>\n",
       "      <td>medium</td>\n",
       "    </tr>\n",
       "    <tr>\n",
       "      <th>2504</th>\n",
       "      <td>0.71</td>\n",
       "      <td>0.99</td>\n",
       "      <td>2</td>\n",
       "      <td>136</td>\n",
       "      <td>3</td>\n",
       "      <td>0</td>\n",
       "      <td>0</td>\n",
       "      <td>0</td>\n",
       "      <td>IT</td>\n",
       "      <td>low</td>\n",
       "    </tr>\n",
       "  </tbody>\n",
       "</table>\n",
       "</div>"
      ],
      "text/plain": [
       "       satisfaction_level  last_evaluation  number_project  \\\n",
       "7565                 0.95             0.77               3   \n",
       "3821                 0.87             0.74               4   \n",
       "10140                0.80             0.98               3   \n",
       "6222                 0.78             0.63               5   \n",
       "5145                 0.63             0.92               2   \n",
       "3113                 0.98             0.84               3   \n",
       "12504                0.78             0.83               4   \n",
       "2863                 0.77             0.67               3   \n",
       "11018                0.32             0.86               4   \n",
       "2504                 0.71             0.99               2   \n",
       "\n",
       "       average_montly_hours  time_spend_company  Work_accident  left  \\\n",
       "7565                    184                   4              0     0   \n",
       "3821                    265                   4              0     0   \n",
       "10140                   189                   6              0     0   \n",
       "6222                    200                   2              0     0   \n",
       "5145                    198                   2              0     0   \n",
       "3113                    286                   4              0     0   \n",
       "12504                   217                   6              0     1   \n",
       "2863                    186                   2              0     0   \n",
       "11018                   214                   5              0     0   \n",
       "2504                    136                   3              0     0   \n",
       "\n",
       "       promotion_last_5years       dept  salary  \n",
       "7565                       0      sales  medium  \n",
       "3821                       0  marketing  medium  \n",
       "10140                      0         IT     low  \n",
       "6222                       0  technical     low  \n",
       "5145                       0         hr     low  \n",
       "3113                       0  technical  medium  \n",
       "12504                      0    support  medium  \n",
       "2863                       0  technical     low  \n",
       "11018                      0      sales  medium  \n",
       "2504                       0         IT     low  "
      ]
     },
     "execution_count": 4,
     "metadata": {},
     "output_type": "execute_result"
    }
   ],
   "source": [
    "hr_df.sample(10)"
   ]
  },
  {
   "cell_type": "code",
   "execution_count": 6,
   "metadata": {
    "colab": {
     "base_uri": "https://localhost:8080/"
    },
    "error": [
     {
      "ename": "KeyError",
      "evalue": "6",
      "output_type": "error",
      "traceback": [
       "\u001b[0;31m---------------------------------------------------------------------------\u001b[0m",
       "\u001b[0;31mKeyError\u001b[0m                                  Traceback (most recent call last)",
       "Cell \u001b[0;32mIn[7], line 1\u001b[0m\n\u001b[0;32m----> 1\u001b[0m json\u001b[38;5;241m.\u001b[39mdumps([typehandlerforuniqueobjects(\u001b[43mOut\u001b[49m\u001b[43m[\u001b[49m\u001b[38;5;241;43m6\u001b[39;49m\u001b[43m]\u001b[49m)])\n",
       "\u001b[0;31mKeyError\u001b[0m: 6"
      ]
     }
    ],
    "execution": {
     "iopub.execute_input": "2023-10-05T20:10:22.226439Z",
     "iopub.status.busy": "2023-10-05T20:10:22.226153Z",
     "iopub.status.idle": "2023-10-05T20:10:22.239992Z",
     "shell.execute_reply": "2023-10-05T20:10:22.238823Z"
    },
    "id": "gbkPsr53Xo9A",
    "outputId": "9487a3ad-6169-4010-d46c-0e4da2b89c74"
   },
   "outputs": [
    {
     "name": "stdout",
     "output_type": "stream",
     "text": [
      "<class 'pandas.core.frame.DataFrame'>\n",
      "RangeIndex: 14999 entries, 0 to 14998\n",
      "Data columns (total 10 columns):\n",
      " #   Column                 Non-Null Count  Dtype  \n",
      "---  ------                 --------------  -----  \n",
      " 0   satisfaction_level     14999 non-null  float64\n",
      " 1   last_evaluation        14999 non-null  float64\n",
      " 2   number_project         14999 non-null  int64  \n",
      " 3   average_montly_hours   14999 non-null  int64  \n",
      " 4   time_spend_company     14999 non-null  int64  \n",
      " 5   Work_accident          14999 non-null  int64  \n",
      " 6   left                   14999 non-null  int64  \n",
      " 7   promotion_last_5years  14999 non-null  int64  \n",
      " 8   dept                   14999 non-null  object \n",
      " 9   salary                 14999 non-null  object \n",
      "dtypes: float64(2), int64(6), object(2)\n",
      "memory usage: 1.1+ MB\n"
     ]
    }
   ],
   "source": [
    "hr_df.info()"
   ]
  },
  {
   "cell_type": "markdown",
   "metadata": {
    "id": "WcuFzH1gXo9D"
   },
   "source": [
    "### Encoding Categorical Features"
   ]
  },
  {
   "cell_type": "markdown",
   "metadata": {
    "id": "iniX3YijXo9E"
   },
   "source": [
    "#### Exploring Categorical Features"
   ]
  },
  {
   "cell_type": "code",
   "execution_count": 8,
   "metadata": {
    "colab": {
     "base_uri": "https://localhost:8080/"
    },
    "execution": {
     "iopub.execute_input": "2023-10-05T20:10:22.597480Z",
     "iopub.status.busy": "2023-10-05T20:10:22.597182Z",
     "iopub.status.idle": "2023-10-05T20:10:22.604985Z",
     "shell.execute_reply": "2023-10-05T20:10:22.603899Z"
    },
    "id": "KJRCH3UxXo9E",
    "outputId": "56ad103c-6f01-4fba-8ccd-aad5a208bd89",
    "type_information": "[{\"type\": \"<class 'numpy.ndarray'>\", \"name\": \"ndarray\", \"module\": \"numpy\", \"size\": 192, \"shape\": \"(10,)\", \"dtype\": \"object\"}]"
   },
   "outputs": [
    {
     "data": {
      "text/plain": [
       "array(['sales', 'accounting', 'hr', 'technical', 'support', 'management',\n",
       "       'IT', 'product_mng', 'marketing', 'RandD'], dtype=object)"
      ]
     },
     "execution_count": 8,
     "metadata": {},
     "output_type": "execute_result"
    }
   ],
   "source": [
    "hr_df.dept.unique()"
   ]
  },
  {
   "cell_type": "code",
   "execution_count": 10,
   "metadata": {
    "colab": {
     "base_uri": "https://localhost:8080/"
    },
    "execution": {
     "iopub.execute_input": "2023-10-05T20:10:22.619040Z",
     "iopub.status.busy": "2023-10-05T20:10:22.618753Z",
     "iopub.status.idle": "2023-10-05T20:10:22.625694Z",
     "shell.execute_reply": "2023-10-05T20:10:22.624751Z"
    },
    "id": "U64e9Ff2Xo9E",
    "outputId": "5d3580f3-077e-4332-a98b-d3581c4bde28",
    "type_information": "[{\"type\": \"<class 'numpy.ndarray'>\", \"name\": \"ndarray\", \"module\": \"numpy\", \"size\": 136, \"shape\": \"(3,)\", \"dtype\": \"object\"}]"
   },
   "outputs": [
    {
     "data": {
      "text/plain": [
       "array(['low', 'medium', 'high'], dtype=object)"
      ]
     },
     "execution_count": 10,
     "metadata": {},
     "output_type": "execute_result"
    }
   ],
   "source": [
    "hr_df.salary.unique()"
   ]
  },
  {
   "cell_type": "markdown",
   "metadata": {
    "id": "r8YHBK-8Xo9F"
   },
   "source": [
    "- OHE - One Hot Encoding \n",
    "- Dummy Variable Creation"
   ]
  },
  {
   "cell_type": "code",
   "execution_count": 12,
   "metadata": {
    "execution": {
     "iopub.execute_input": "2023-10-05T20:10:22.639231Z",
     "iopub.status.busy": "2023-10-05T20:10:22.638945Z",
     "iopub.status.idle": "2023-10-05T20:10:22.643398Z",
     "shell.execute_reply": "2023-10-05T20:10:22.642451Z"
    },
    "id": "RTLB4yVkXo9F"
   },
   "outputs": [],
   "source": [
    "salary_dict = { 'low' : 1,\n",
    "                'medium': 2,\n",
    "                'high': 4}"
   ]
  },
  {
   "cell_type": "code",
   "execution_count": 13,
   "metadata": {
    "execution": {
     "iopub.execute_input": "2023-10-05T20:10:22.647136Z",
     "iopub.status.busy": "2023-10-05T20:10:22.646857Z",
     "iopub.status.idle": "2023-10-05T20:10:22.653968Z",
     "shell.execute_reply": "2023-10-05T20:10:22.653009Z"
    },
    "id": "slhVT7kQXo9F"
   },
   "outputs": [],
   "source": [
    "hr_df['salary'] = hr_df.salary.map(salary_dict)"
   ]
  },
  {
   "cell_type": "code",
   "execution_count": 14,
   "metadata": {
    "colab": {
     "base_uri": "https://localhost:8080/",
     "height": 427
    },
    "execution": {
     "iopub.execute_input": "2023-10-05T20:10:22.657704Z",
     "iopub.status.busy": "2023-10-05T20:10:22.657421Z",
     "iopub.status.idle": "2023-10-05T20:10:22.673585Z",
     "shell.execute_reply": "2023-10-05T20:10:22.672619Z"
    },
    "id": "qPHkZjBmXo9G",
    "outputId": "d286d80d-4a8b-4941-bfd1-86846c7b47e7",
    "type_information": "[{\"type\": \"<class 'pandas.core.frame.DataFrame'>\", \"name\": \"DataFrame\", \"module\": \"pandas.core.frame\", \"size\": 1436, \"shape\": \"(10, 10)\", \"dtype\": \"satisfaction_level       float64\\nlast_evaluation          float64\\nnumber_project             int64\\naverage_montly_hours       int64\\ntime_spend_company         int64\\nWork_accident              int64\\nleft                       int64\\npromotion_last_5years      int64\\ndept                      object\\nsalary                     int64\\ndtype: object\"}]"
   },
   "outputs": [
    {
     "data": {
      "text/html": [
       "<div>\n",
       "<style scoped>\n",
       "    .dataframe tbody tr th:only-of-type {\n",
       "        vertical-align: middle;\n",
       "    }\n",
       "\n",
       "    .dataframe tbody tr th {\n",
       "        vertical-align: top;\n",
       "    }\n",
       "\n",
       "    .dataframe thead th {\n",
       "        text-align: right;\n",
       "    }\n",
       "</style>\n",
       "<table border=\"1\" class=\"dataframe\">\n",
       "  <thead>\n",
       "    <tr style=\"text-align: right;\">\n",
       "      <th></th>\n",
       "      <th>satisfaction_level</th>\n",
       "      <th>last_evaluation</th>\n",
       "      <th>number_project</th>\n",
       "      <th>average_montly_hours</th>\n",
       "      <th>time_spend_company</th>\n",
       "      <th>Work_accident</th>\n",
       "      <th>left</th>\n",
       "      <th>promotion_last_5years</th>\n",
       "      <th>dept</th>\n",
       "      <th>salary</th>\n",
       "    </tr>\n",
       "  </thead>\n",
       "  <tbody>\n",
       "    <tr>\n",
       "      <th>3557</th>\n",
       "      <td>0.82</td>\n",
       "      <td>0.71</td>\n",
       "      <td>4</td>\n",
       "      <td>164</td>\n",
       "      <td>4</td>\n",
       "      <td>0</td>\n",
       "      <td>0</td>\n",
       "      <td>0</td>\n",
       "      <td>support</td>\n",
       "      <td>1</td>\n",
       "    </tr>\n",
       "    <tr>\n",
       "      <th>4069</th>\n",
       "      <td>0.83</td>\n",
       "      <td>0.69</td>\n",
       "      <td>4</td>\n",
       "      <td>232</td>\n",
       "      <td>2</td>\n",
       "      <td>0</td>\n",
       "      <td>0</td>\n",
       "      <td>0</td>\n",
       "      <td>sales</td>\n",
       "      <td>1</td>\n",
       "    </tr>\n",
       "    <tr>\n",
       "      <th>11882</th>\n",
       "      <td>0.60</td>\n",
       "      <td>0.45</td>\n",
       "      <td>3</td>\n",
       "      <td>104</td>\n",
       "      <td>4</td>\n",
       "      <td>0</td>\n",
       "      <td>0</td>\n",
       "      <td>0</td>\n",
       "      <td>IT</td>\n",
       "      <td>1</td>\n",
       "    </tr>\n",
       "    <tr>\n",
       "      <th>14236</th>\n",
       "      <td>0.89</td>\n",
       "      <td>0.92</td>\n",
       "      <td>5</td>\n",
       "      <td>242</td>\n",
       "      <td>5</td>\n",
       "      <td>0</td>\n",
       "      <td>1</td>\n",
       "      <td>0</td>\n",
       "      <td>sales</td>\n",
       "      <td>1</td>\n",
       "    </tr>\n",
       "    <tr>\n",
       "      <th>7109</th>\n",
       "      <td>0.78</td>\n",
       "      <td>0.91</td>\n",
       "      <td>4</td>\n",
       "      <td>202</td>\n",
       "      <td>2</td>\n",
       "      <td>0</td>\n",
       "      <td>0</td>\n",
       "      <td>0</td>\n",
       "      <td>sales</td>\n",
       "      <td>2</td>\n",
       "    </tr>\n",
       "    <tr>\n",
       "      <th>4119</th>\n",
       "      <td>0.66</td>\n",
       "      <td>0.62</td>\n",
       "      <td>4</td>\n",
       "      <td>250</td>\n",
       "      <td>2</td>\n",
       "      <td>0</td>\n",
       "      <td>0</td>\n",
       "      <td>0</td>\n",
       "      <td>RandD</td>\n",
       "      <td>2</td>\n",
       "    </tr>\n",
       "    <tr>\n",
       "      <th>10566</th>\n",
       "      <td>0.72</td>\n",
       "      <td>0.71</td>\n",
       "      <td>3</td>\n",
       "      <td>133</td>\n",
       "      <td>2</td>\n",
       "      <td>0</td>\n",
       "      <td>0</td>\n",
       "      <td>0</td>\n",
       "      <td>hr</td>\n",
       "      <td>1</td>\n",
       "    </tr>\n",
       "    <tr>\n",
       "      <th>1550</th>\n",
       "      <td>0.09</td>\n",
       "      <td>0.87</td>\n",
       "      <td>7</td>\n",
       "      <td>305</td>\n",
       "      <td>4</td>\n",
       "      <td>0</td>\n",
       "      <td>1</td>\n",
       "      <td>0</td>\n",
       "      <td>sales</td>\n",
       "      <td>2</td>\n",
       "    </tr>\n",
       "    <tr>\n",
       "      <th>364</th>\n",
       "      <td>0.40</td>\n",
       "      <td>0.50</td>\n",
       "      <td>2</td>\n",
       "      <td>141</td>\n",
       "      <td>3</td>\n",
       "      <td>1</td>\n",
       "      <td>1</td>\n",
       "      <td>0</td>\n",
       "      <td>technical</td>\n",
       "      <td>1</td>\n",
       "    </tr>\n",
       "    <tr>\n",
       "      <th>4222</th>\n",
       "      <td>0.98</td>\n",
       "      <td>0.87</td>\n",
       "      <td>4</td>\n",
       "      <td>152</td>\n",
       "      <td>2</td>\n",
       "      <td>0</td>\n",
       "      <td>0</td>\n",
       "      <td>0</td>\n",
       "      <td>sales</td>\n",
       "      <td>4</td>\n",
       "    </tr>\n",
       "  </tbody>\n",
       "</table>\n",
       "</div>"
      ],
      "text/plain": [
       "       satisfaction_level  last_evaluation  number_project  \\\n",
       "3557                 0.82             0.71               4   \n",
       "4069                 0.83             0.69               4   \n",
       "11882                0.60             0.45               3   \n",
       "14236                0.89             0.92               5   \n",
       "7109                 0.78             0.91               4   \n",
       "4119                 0.66             0.62               4   \n",
       "10566                0.72             0.71               3   \n",
       "1550                 0.09             0.87               7   \n",
       "364                  0.40             0.50               2   \n",
       "4222                 0.98             0.87               4   \n",
       "\n",
       "       average_montly_hours  time_spend_company  Work_accident  left  \\\n",
       "3557                    164                   4              0     0   \n",
       "4069                    232                   2              0     0   \n",
       "11882                   104                   4              0     0   \n",
       "14236                   242                   5              0     1   \n",
       "7109                    202                   2              0     0   \n",
       "4119                    250                   2              0     0   \n",
       "10566                   133                   2              0     0   \n",
       "1550                    305                   4              0     1   \n",
       "364                     141                   3              1     1   \n",
       "4222                    152                   2              0     0   \n",
       "\n",
       "       promotion_last_5years       dept  salary  \n",
       "3557                       0    support       1  \n",
       "4069                       0      sales       1  \n",
       "11882                      0         IT       1  \n",
       "14236                      0      sales       1  \n",
       "7109                       0      sales       2  \n",
       "4119                       0      RandD       2  \n",
       "10566                      0         hr       1  \n",
       "1550                       0      sales       2  \n",
       "364                        0  technical       1  \n",
       "4222                       0      sales       4  "
      ]
     },
     "execution_count": 14,
     "metadata": {},
     "output_type": "execute_result"
    }
   ],
   "source": [
    "hr_df.sample(10)"
   ]
  },
  {
   "cell_type": "code",
   "execution_count": 16,
   "metadata": {
    "execution": {
     "iopub.execute_input": "2023-10-05T20:10:22.689400Z",
     "iopub.status.busy": "2023-10-05T20:10:22.689113Z",
     "iopub.status.idle": "2023-10-05T20:10:22.698472Z",
     "shell.execute_reply": "2023-10-05T20:10:22.697491Z"
    },
    "id": "1Btrk00SXo9G"
   },
   "outputs": [],
   "source": [
    "hr_encoded_df = pd.get_dummies( hr_df,\n",
    "                                columns = ['dept'] )"
   ]
  },
  {
   "cell_type": "code",
   "execution_count": 17,
   "metadata": {
    "colab": {
     "base_uri": "https://localhost:8080/",
     "height": 270
    },
    "execution": {
     "iopub.execute_input": "2023-10-05T20:10:22.702266Z",
     "iopub.status.busy": "2023-10-05T20:10:22.701975Z",
     "iopub.status.idle": "2023-10-05T20:10:22.721563Z",
     "shell.execute_reply": "2023-10-05T20:10:22.720617Z"
    },
    "id": "IHwngFgRXo9G",
    "outputId": "39d0287f-9ae1-4851-a8a0-4a726157fdc2",
    "type_information": "[{\"type\": \"<class 'pandas.core.frame.DataFrame'>\", \"name\": \"DataFrame\", \"module\": \"pandas.core.frame\", \"size\": 554, \"shape\": \"(5, 19)\", \"dtype\": \"satisfaction_level       float64\\nlast_evaluation          float64\\nnumber_project             int64\\naverage_montly_hours       int64\\ntime_spend_company         int64\\nWork_accident              int64\\nleft                       int64\\npromotion_last_5years      int64\\nsalary                     int64\\ndept_IT                     bool\\ndept_RandD                  bool\\ndept_accounting             bool\\ndept_hr                     bool\\ndept_management             bool\\ndept_marketing              bool\\ndept_product_mng            bool\\ndept_sales                  bool\\ndept_support                bool\\ndept_technical              bool\\ndtype: object\"}]"
   },
   "outputs": [
    {
     "data": {
      "text/html": [
       "<div>\n",
       "<style scoped>\n",
       "    .dataframe tbody tr th:only-of-type {\n",
       "        vertical-align: middle;\n",
       "    }\n",
       "\n",
       "    .dataframe tbody tr th {\n",
       "        vertical-align: top;\n",
       "    }\n",
       "\n",
       "    .dataframe thead th {\n",
       "        text-align: right;\n",
       "    }\n",
       "</style>\n",
       "<table border=\"1\" class=\"dataframe\">\n",
       "  <thead>\n",
       "    <tr style=\"text-align: right;\">\n",
       "      <th></th>\n",
       "      <th>satisfaction_level</th>\n",
       "      <th>last_evaluation</th>\n",
       "      <th>number_project</th>\n",
       "      <th>average_montly_hours</th>\n",
       "      <th>time_spend_company</th>\n",
       "      <th>Work_accident</th>\n",
       "      <th>left</th>\n",
       "      <th>promotion_last_5years</th>\n",
       "      <th>salary</th>\n",
       "      <th>dept_IT</th>\n",
       "      <th>dept_RandD</th>\n",
       "      <th>dept_accounting</th>\n",
       "      <th>dept_hr</th>\n",
       "      <th>dept_management</th>\n",
       "      <th>dept_marketing</th>\n",
       "      <th>dept_product_mng</th>\n",
       "      <th>dept_sales</th>\n",
       "      <th>dept_support</th>\n",
       "      <th>dept_technical</th>\n",
       "    </tr>\n",
       "  </thead>\n",
       "  <tbody>\n",
       "    <tr>\n",
       "      <th>0</th>\n",
       "      <td>0.38</td>\n",
       "      <td>0.53</td>\n",
       "      <td>2</td>\n",
       "      <td>157</td>\n",
       "      <td>3</td>\n",
       "      <td>0</td>\n",
       "      <td>1</td>\n",
       "      <td>0</td>\n",
       "      <td>1</td>\n",
       "      <td>False</td>\n",
       "      <td>False</td>\n",
       "      <td>False</td>\n",
       "      <td>False</td>\n",
       "      <td>False</td>\n",
       "      <td>False</td>\n",
       "      <td>False</td>\n",
       "      <td>True</td>\n",
       "      <td>False</td>\n",
       "      <td>False</td>\n",
       "    </tr>\n",
       "    <tr>\n",
       "      <th>1</th>\n",
       "      <td>0.80</td>\n",
       "      <td>0.86</td>\n",
       "      <td>5</td>\n",
       "      <td>262</td>\n",
       "      <td>6</td>\n",
       "      <td>0</td>\n",
       "      <td>1</td>\n",
       "      <td>0</td>\n",
       "      <td>2</td>\n",
       "      <td>False</td>\n",
       "      <td>False</td>\n",
       "      <td>False</td>\n",
       "      <td>False</td>\n",
       "      <td>False</td>\n",
       "      <td>False</td>\n",
       "      <td>False</td>\n",
       "      <td>True</td>\n",
       "      <td>False</td>\n",
       "      <td>False</td>\n",
       "    </tr>\n",
       "    <tr>\n",
       "      <th>2</th>\n",
       "      <td>0.11</td>\n",
       "      <td>0.88</td>\n",
       "      <td>7</td>\n",
       "      <td>272</td>\n",
       "      <td>4</td>\n",
       "      <td>0</td>\n",
       "      <td>1</td>\n",
       "      <td>0</td>\n",
       "      <td>2</td>\n",
       "      <td>False</td>\n",
       "      <td>False</td>\n",
       "      <td>False</td>\n",
       "      <td>False</td>\n",
       "      <td>False</td>\n",
       "      <td>False</td>\n",
       "      <td>False</td>\n",
       "      <td>True</td>\n",
       "      <td>False</td>\n",
       "      <td>False</td>\n",
       "    </tr>\n",
       "    <tr>\n",
       "      <th>3</th>\n",
       "      <td>0.72</td>\n",
       "      <td>0.87</td>\n",
       "      <td>5</td>\n",
       "      <td>223</td>\n",
       "      <td>5</td>\n",
       "      <td>0</td>\n",
       "      <td>1</td>\n",
       "      <td>0</td>\n",
       "      <td>1</td>\n",
       "      <td>False</td>\n",
       "      <td>False</td>\n",
       "      <td>False</td>\n",
       "      <td>False</td>\n",
       "      <td>False</td>\n",
       "      <td>False</td>\n",
       "      <td>False</td>\n",
       "      <td>True</td>\n",
       "      <td>False</td>\n",
       "      <td>False</td>\n",
       "    </tr>\n",
       "    <tr>\n",
       "      <th>4</th>\n",
       "      <td>0.37</td>\n",
       "      <td>0.52</td>\n",
       "      <td>2</td>\n",
       "      <td>159</td>\n",
       "      <td>3</td>\n",
       "      <td>0</td>\n",
       "      <td>1</td>\n",
       "      <td>0</td>\n",
       "      <td>1</td>\n",
       "      <td>False</td>\n",
       "      <td>False</td>\n",
       "      <td>False</td>\n",
       "      <td>False</td>\n",
       "      <td>False</td>\n",
       "      <td>False</td>\n",
       "      <td>False</td>\n",
       "      <td>True</td>\n",
       "      <td>False</td>\n",
       "      <td>False</td>\n",
       "    </tr>\n",
       "  </tbody>\n",
       "</table>\n",
       "</div>"
      ],
      "text/plain": [
       "   satisfaction_level  last_evaluation  number_project  average_montly_hours  \\\n",
       "0                0.38             0.53               2                   157   \n",
       "1                0.80             0.86               5                   262   \n",
       "2                0.11             0.88               7                   272   \n",
       "3                0.72             0.87               5                   223   \n",
       "4                0.37             0.52               2                   159   \n",
       "\n",
       "   time_spend_company  Work_accident  left  promotion_last_5years  salary  \\\n",
       "0                   3              0     1                      0       1   \n",
       "1                   6              0     1                      0       2   \n",
       "2                   4              0     1                      0       2   \n",
       "3                   5              0     1                      0       1   \n",
       "4                   3              0     1                      0       1   \n",
       "\n",
       "   dept_IT  dept_RandD  dept_accounting  dept_hr  dept_management  \\\n",
       "0    False       False            False    False            False   \n",
       "1    False       False            False    False            False   \n",
       "2    False       False            False    False            False   \n",
       "3    False       False            False    False            False   \n",
       "4    False       False            False    False            False   \n",
       "\n",
       "   dept_marketing  dept_product_mng  dept_sales  dept_support  dept_technical  \n",
       "0           False             False        True         False           False  \n",
       "1           False             False        True         False           False  \n",
       "2           False             False        True         False           False  \n",
       "3           False             False        True         False           False  \n",
       "4           False             False        True         False           False  "
      ]
     },
     "execution_count": 17,
     "metadata": {},
     "output_type": "execute_result"
    }
   ],
   "source": [
    "hr_encoded_df.head(5)\n"
   ]
  },
  {
   "cell_type": "code",
   "execution_count": 19,
   "metadata": {
    "colab": {
     "base_uri": "https://localhost:8080/"
    },
    "error": [
     {
      "ename": "KeyError",
      "evalue": "19",
      "output_type": "error",
      "traceback": [
       "\u001b[0;31m---------------------------------------------------------------------------\u001b[0m",
       "\u001b[0;31mKeyError\u001b[0m                                  Traceback (most recent call last)",
       "Cell \u001b[0;32mIn[20], line 1\u001b[0m\n\u001b[0;32m----> 1\u001b[0m json\u001b[38;5;241m.\u001b[39mdumps([typehandlerforuniqueobjects(\u001b[43mOut\u001b[49m\u001b[43m[\u001b[49m\u001b[38;5;241;43m19\u001b[39;49m\u001b[43m]\u001b[49m)])\n",
       "\u001b[0;31mKeyError\u001b[0m: 19"
      ]
     }
    ],
    "execution": {
     "iopub.execute_input": "2023-10-05T20:10:22.738094Z",
     "iopub.status.busy": "2023-10-05T20:10:22.737810Z",
     "iopub.status.idle": "2023-10-05T20:10:22.749635Z",
     "shell.execute_reply": "2023-10-05T20:10:22.748646Z"
    },
    "id": "-hV51lwrXo9H",
    "outputId": "94381260-be3d-4ba2-d437-c01cdfa7bb55"
   },
   "outputs": [
    {
     "name": "stdout",
     "output_type": "stream",
     "text": [
      "<class 'pandas.core.frame.DataFrame'>\n",
      "RangeIndex: 14999 entries, 0 to 14998\n",
      "Data columns (total 19 columns):\n",
      " #   Column                 Non-Null Count  Dtype  \n",
      "---  ------                 --------------  -----  \n",
      " 0   satisfaction_level     14999 non-null  float64\n",
      " 1   last_evaluation        14999 non-null  float64\n",
      " 2   number_project         14999 non-null  int64  \n",
      " 3   average_montly_hours   14999 non-null  int64  \n",
      " 4   time_spend_company     14999 non-null  int64  \n",
      " 5   Work_accident          14999 non-null  int64  \n",
      " 6   left                   14999 non-null  int64  \n",
      " 7   promotion_last_5years  14999 non-null  int64  \n",
      " 8   salary                 14999 non-null  int64  \n",
      " 9   dept_IT                14999 non-null  bool   \n",
      " 10  dept_RandD             14999 non-null  bool   \n",
      " 11  dept_accounting        14999 non-null  bool   \n",
      " 12  dept_hr                14999 non-null  bool   \n",
      " 13  dept_management        14999 non-null  bool   \n",
      " 14  dept_marketing         14999 non-null  bool   \n",
      " 15  dept_product_mng       14999 non-null  bool   \n",
      " 16  dept_sales             14999 non-null  bool   \n",
      " 17  dept_support           14999 non-null  bool   \n",
      " 18  dept_technical         14999 non-null  bool   \n",
      "dtypes: bool(10), float64(2), int64(7)\n",
      "memory usage: 1.2 MB\n"
     ]
    }
   ],
   "source": [
    "hr_encoded_df.info()"
   ]
  },
  {
   "cell_type": "markdown",
   "metadata": {
    "id": "OfvKJkwrXo9H"
   },
   "source": [
    "### Setting X and Y Variables"
   ]
  },
  {
   "cell_type": "code",
   "execution_count": 21,
   "metadata": {
    "colab": {
     "base_uri": "https://localhost:8080/"
    },
    "execution": {
     "iopub.execute_input": "2023-10-05T20:10:22.781646Z",
     "iopub.status.busy": "2023-10-05T20:10:22.781357Z",
     "iopub.status.idle": "2023-10-05T20:10:22.787629Z",
     "shell.execute_reply": "2023-10-05T20:10:22.786687Z"
    },
    "id": "NZDW-TQEXo9H",
    "outputId": "fc552f04-9979-4d71-aeaf-8fdb5ec3d2dd",
    "type_information": "[{\"type\": \"<class 'pandas.core.indexes.base.Index'>\", \"name\": \"Index\", \"module\": \"pandas.core.indexes.base\", \"size\": 1904}]"
   },
   "outputs": [
    {
     "data": {
      "text/plain": [
       "Index(['satisfaction_level', 'last_evaluation', 'number_project',\n",
       "       'average_montly_hours', 'time_spend_company', 'Work_accident', 'left',\n",
       "       'promotion_last_5years', 'salary', 'dept_IT', 'dept_RandD',\n",
       "       'dept_accounting', 'dept_hr', 'dept_management', 'dept_marketing',\n",
       "       'dept_product_mng', 'dept_sales', 'dept_support', 'dept_technical'],\n",
       "      dtype='object')"
      ]
     },
     "execution_count": 21,
     "metadata": {},
     "output_type": "execute_result"
    }
   ],
   "source": [
    "hr_encoded_df.columns"
   ]
  },
  {
   "cell_type": "code",
   "execution_count": 23,
   "metadata": {
    "execution": {
     "iopub.execute_input": "2023-10-05T20:10:22.801112Z",
     "iopub.status.busy": "2023-10-05T20:10:22.800828Z",
     "iopub.status.idle": "2023-10-05T20:10:22.805161Z",
     "shell.execute_reply": "2023-10-05T20:10:22.804195Z"
    },
    "id": "5riyMt3XXo9H"
   },
   "outputs": [],
   "source": [
    "X_features = list(hr_encoded_df.columns)"
   ]
  },
  {
   "cell_type": "code",
   "execution_count": 24,
   "metadata": {
    "execution": {
     "iopub.execute_input": "2023-10-05T20:10:22.808730Z",
     "iopub.status.busy": "2023-10-05T20:10:22.808444Z",
     "iopub.status.idle": "2023-10-05T20:10:22.812709Z",
     "shell.execute_reply": "2023-10-05T20:10:22.811769Z"
    },
    "id": "GQPlD1o3Xo9I"
   },
   "outputs": [],
   "source": [
    "X_features.remove('left')"
   ]
  },
  {
   "cell_type": "code",
   "execution_count": 25,
   "metadata": {
    "colab": {
     "base_uri": "https://localhost:8080/"
    },
    "execution": {
     "iopub.execute_input": "2023-10-05T20:10:22.816319Z",
     "iopub.status.busy": "2023-10-05T20:10:22.816037Z",
     "iopub.status.idle": "2023-10-05T20:10:22.822075Z",
     "shell.execute_reply": "2023-10-05T20:10:22.821136Z"
    },
    "id": "nTB-gshPXo9I",
    "outputId": "746c3478-c441-4dab-a3ca-0f9024cd082d",
    "type_information": "[{\"type\": \"<class 'list'>\", \"name\": \"list\", \"module\": \"builtins\", \"size\": 208, \"data\": [{\"type\": \"<class 'str'>\", \"name\": \"str\", \"module\": \"builtins\", \"size\": 67}, {\"type\": \"<class 'str'>\", \"name\": \"str\", \"module\": \"builtins\", \"size\": 64}, {\"type\": \"<class 'str'>\", \"name\": \"str\", \"module\": \"builtins\", \"size\": 63}, {\"type\": \"<class 'str'>\", \"name\": \"str\", \"module\": \"builtins\", \"size\": 69}, {\"type\": \"<class 'str'>\", \"name\": \"str\", \"module\": \"builtins\", \"size\": 67}, {\"type\": \"<class 'str'>\", \"name\": \"str\", \"module\": \"builtins\", \"size\": 62}, {\"type\": \"<class 'str'>\", \"name\": \"str\", \"module\": \"builtins\", \"size\": 70}, {\"type\": \"<class 'str'>\", \"name\": \"str\", \"module\": \"builtins\", \"size\": 55}, {\"type\": \"<class 'str'>\", \"name\": \"str\", \"module\": \"builtins\", \"size\": 56}, {\"type\": \"<class 'str'>\", \"name\": \"str\", \"module\": \"builtins\", \"size\": 59}, {\"type\": \"<class 'str'>\", \"name\": \"str\", \"module\": \"builtins\", \"size\": 64}, {\"type\": \"<class 'str'>\", \"name\": \"str\", \"module\": \"builtins\", \"size\": 56}, {\"type\": \"<class 'str'>\", \"name\": \"str\", \"module\": \"builtins\", \"size\": 64}, {\"type\": \"<class 'str'>\", \"name\": \"str\", \"module\": \"builtins\", \"size\": 63}, {\"type\": \"<class 'str'>\", \"name\": \"str\", \"module\": \"builtins\", \"size\": 65}, {\"type\": \"<class 'str'>\", \"name\": \"str\", \"module\": \"builtins\", \"size\": 59}, {\"type\": \"<class 'str'>\", \"name\": \"str\", \"module\": \"builtins\", \"size\": 61}, {\"type\": \"<class 'str'>\", \"name\": \"str\", \"module\": \"builtins\", \"size\": 63}]}]"
   },
   "outputs": [
    {
     "data": {
      "text/plain": [
       "['satisfaction_level',\n",
       " 'last_evaluation',\n",
       " 'number_project',\n",
       " 'average_montly_hours',\n",
       " 'time_spend_company',\n",
       " 'Work_accident',\n",
       " 'promotion_last_5years',\n",
       " 'salary',\n",
       " 'dept_IT',\n",
       " 'dept_RandD',\n",
       " 'dept_accounting',\n",
       " 'dept_hr',\n",
       " 'dept_management',\n",
       " 'dept_marketing',\n",
       " 'dept_product_mng',\n",
       " 'dept_sales',\n",
       " 'dept_support',\n",
       " 'dept_technical']"
      ]
     },
     "execution_count": 25,
     "metadata": {},
     "output_type": "execute_result"
    }
   ],
   "source": [
    "X_features"
   ]
  },
  {
   "cell_type": "markdown",
   "metadata": {
    "id": "urYv780xXo9N"
   },
   "source": [
    "### Building a model all variables\n",
    "#### Setting X & y variable"
   ]
  },
  {
   "cell_type": "code",
   "execution_count": 27,
   "metadata": {
    "execution": {
     "iopub.execute_input": "2023-10-05T20:10:22.835227Z",
     "iopub.status.busy": "2023-10-05T20:10:22.834946Z",
     "iopub.status.idle": "2023-10-05T20:10:22.840756Z",
     "shell.execute_reply": "2023-10-05T20:10:22.839785Z"
    },
    "id": "HXRlnJkVXo9N"
   },
   "outputs": [],
   "source": [
    "X = hr_encoded_df[X_features]\n",
    "y = hr_encoded_df.left"
   ]
  },
  {
   "cell_type": "code",
   "execution_count": 28,
   "metadata": {
    "colab": {
     "base_uri": "https://localhost:8080/",
     "height": 176
    },
    "execution": {
     "iopub.execute_input": "2023-10-05T20:10:22.844377Z",
     "iopub.status.busy": "2023-10-05T20:10:22.844096Z",
     "iopub.status.idle": "2023-10-05T20:10:22.861147Z",
     "shell.execute_reply": "2023-10-05T20:10:22.860195Z"
    },
    "id": "uHp1BF1UXo9N",
    "outputId": "d36aaecd-145b-4091-98da-e63a2e3dd1cf",
    "type_information": "[{\"type\": \"<class 'pandas.core.frame.DataFrame'>\", \"name\": \"DataFrame\", \"module\": \"pandas.core.frame\", \"size\": 292, \"shape\": \"(2, 18)\", \"dtype\": \"satisfaction_level       float64\\nlast_evaluation          float64\\nnumber_project             int64\\naverage_montly_hours       int64\\ntime_spend_company         int64\\nWork_accident              int64\\npromotion_last_5years      int64\\nsalary                     int64\\ndept_IT                     bool\\ndept_RandD                  bool\\ndept_accounting             bool\\ndept_hr                     bool\\ndept_management             bool\\ndept_marketing              bool\\ndept_product_mng            bool\\ndept_sales                  bool\\ndept_support                bool\\ndept_technical              bool\\ndtype: object\"}]"
   },
   "outputs": [
    {
     "data": {
      "text/html": [
       "<div>\n",
       "<style scoped>\n",
       "    .dataframe tbody tr th:only-of-type {\n",
       "        vertical-align: middle;\n",
       "    }\n",
       "\n",
       "    .dataframe tbody tr th {\n",
       "        vertical-align: top;\n",
       "    }\n",
       "\n",
       "    .dataframe thead th {\n",
       "        text-align: right;\n",
       "    }\n",
       "</style>\n",
       "<table border=\"1\" class=\"dataframe\">\n",
       "  <thead>\n",
       "    <tr style=\"text-align: right;\">\n",
       "      <th></th>\n",
       "      <th>satisfaction_level</th>\n",
       "      <th>last_evaluation</th>\n",
       "      <th>number_project</th>\n",
       "      <th>average_montly_hours</th>\n",
       "      <th>time_spend_company</th>\n",
       "      <th>Work_accident</th>\n",
       "      <th>promotion_last_5years</th>\n",
       "      <th>salary</th>\n",
       "      <th>dept_IT</th>\n",
       "      <th>dept_RandD</th>\n",
       "      <th>dept_accounting</th>\n",
       "      <th>dept_hr</th>\n",
       "      <th>dept_management</th>\n",
       "      <th>dept_marketing</th>\n",
       "      <th>dept_product_mng</th>\n",
       "      <th>dept_sales</th>\n",
       "      <th>dept_support</th>\n",
       "      <th>dept_technical</th>\n",
       "    </tr>\n",
       "  </thead>\n",
       "  <tbody>\n",
       "    <tr>\n",
       "      <th>0</th>\n",
       "      <td>0.38</td>\n",
       "      <td>0.53</td>\n",
       "      <td>2</td>\n",
       "      <td>157</td>\n",
       "      <td>3</td>\n",
       "      <td>0</td>\n",
       "      <td>0</td>\n",
       "      <td>1</td>\n",
       "      <td>False</td>\n",
       "      <td>False</td>\n",
       "      <td>False</td>\n",
       "      <td>False</td>\n",
       "      <td>False</td>\n",
       "      <td>False</td>\n",
       "      <td>False</td>\n",
       "      <td>True</td>\n",
       "      <td>False</td>\n",
       "      <td>False</td>\n",
       "    </tr>\n",
       "    <tr>\n",
       "      <th>1</th>\n",
       "      <td>0.80</td>\n",
       "      <td>0.86</td>\n",
       "      <td>5</td>\n",
       "      <td>262</td>\n",
       "      <td>6</td>\n",
       "      <td>0</td>\n",
       "      <td>0</td>\n",
       "      <td>2</td>\n",
       "      <td>False</td>\n",
       "      <td>False</td>\n",
       "      <td>False</td>\n",
       "      <td>False</td>\n",
       "      <td>False</td>\n",
       "      <td>False</td>\n",
       "      <td>False</td>\n",
       "      <td>True</td>\n",
       "      <td>False</td>\n",
       "      <td>False</td>\n",
       "    </tr>\n",
       "  </tbody>\n",
       "</table>\n",
       "</div>"
      ],
      "text/plain": [
       "   satisfaction_level  last_evaluation  number_project  average_montly_hours  \\\n",
       "0                0.38             0.53               2                   157   \n",
       "1                0.80             0.86               5                   262   \n",
       "\n",
       "   time_spend_company  Work_accident  promotion_last_5years  salary  dept_IT  \\\n",
       "0                   3              0                      0       1    False   \n",
       "1                   6              0                      0       2    False   \n",
       "\n",
       "   dept_RandD  dept_accounting  dept_hr  dept_management  dept_marketing  \\\n",
       "0       False            False    False            False           False   \n",
       "1       False            False    False            False           False   \n",
       "\n",
       "   dept_product_mng  dept_sales  dept_support  dept_technical  \n",
       "0             False        True         False           False  \n",
       "1             False        True         False           False  "
      ]
     },
     "execution_count": 28,
     "metadata": {},
     "output_type": "execute_result"
    }
   ],
   "source": [
    "X[0:2]"
   ]
  },
  {
   "cell_type": "code",
   "execution_count": 30,
   "metadata": {
    "colab": {
     "base_uri": "https://localhost:8080/"
    },
    "execution": {
     "iopub.execute_input": "2023-10-05T20:10:22.877359Z",
     "iopub.status.busy": "2023-10-05T20:10:22.877076Z",
     "iopub.status.idle": "2023-10-05T20:10:22.884027Z",
     "shell.execute_reply": "2023-10-05T20:10:22.883084Z"
    },
    "id": "HE7rYbY7Xo9N",
    "outputId": "aceb3909-d894-4e0e-9679-8a0a02c147fd",
    "type_information": "[{\"type\": \"<class 'pandas.core.series.Series'>\", \"name\": \"Series\", \"module\": \"pandas.core.series\", \"size\": 160}]"
   },
   "outputs": [
    {
     "data": {
      "text/plain": [
       "0    1\n",
       "1    1\n",
       "Name: left, dtype: int64"
      ]
     },
     "execution_count": 30,
     "metadata": {},
     "output_type": "execute_result"
    }
   ],
   "source": [
    "y[0:2]"
   ]
  },
  {
   "cell_type": "markdown",
   "metadata": {
    "id": "PG2whnU-Xo9N"
   },
   "source": [
    "### Split Dataset into train and test\n",
    "\n",
    "- Train: 80%\n",
    "- Test: 20%"
   ]
  },
  {
   "cell_type": "code",
   "execution_count": 32,
   "metadata": {
    "execution": {
     "iopub.execute_input": "2023-10-05T20:10:22.897132Z",
     "iopub.status.busy": "2023-10-05T20:10:22.896850Z",
     "iopub.status.idle": "2023-10-05T20:10:23.382259Z",
     "shell.execute_reply": "2023-10-05T20:10:23.381013Z"
    },
    "id": "NTFYihZcXo9N"
   },
   "outputs": [],
   "source": [
    "from sklearn.model_selection import train_test_split"
   ]
  },
  {
   "cell_type": "code",
   "execution_count": 33,
   "metadata": {
    "execution": {
     "iopub.execute_input": "2023-10-05T20:10:23.386675Z",
     "iopub.status.busy": "2023-10-05T20:10:23.386250Z",
     "iopub.status.idle": "2023-10-05T20:10:23.396530Z",
     "shell.execute_reply": "2023-10-05T20:10:23.395389Z"
    },
    "id": "ReJcheaMXo9O"
   },
   "outputs": [],
   "source": [
    "X_train, X_test, \\\n",
    "y_train, y_test = train_test_split( X,\n",
    "                                    y,\n",
    "                                    test_size = 0.2,\n",
    "                                    random_state = 100 )"
   ]
  },
  {
   "cell_type": "code",
   "execution_count": 34,
   "metadata": {
    "colab": {
     "base_uri": "https://localhost:8080/"
    },
    "execution": {
     "iopub.execute_input": "2023-10-05T20:10:23.400315Z",
     "iopub.status.busy": "2023-10-05T20:10:23.400016Z",
     "iopub.status.idle": "2023-10-05T20:10:23.406586Z",
     "shell.execute_reply": "2023-10-05T20:10:23.405503Z"
    },
    "id": "8I9pM0E1Xo9O",
    "outputId": "5f13c427-e891-4509-aaae-4c5bf2bdef26",
    "type_information": "[{\"type\": \"<class 'tuple'>\", \"name\": \"tuple\", \"module\": \"builtins\", \"size\": 56, \"data\": [{\"type\": \"<class 'int'>\", \"name\": \"int\", \"module\": \"builtins\", \"size\": 28}, {\"type\": \"<class 'int'>\", \"name\": \"int\", \"module\": \"builtins\", \"size\": 28}]}]"
   },
   "outputs": [
    {
     "data": {
      "text/plain": [
       "(11999, 18)"
      ]
     },
     "execution_count": 34,
     "metadata": {},
     "output_type": "execute_result"
    }
   ],
   "source": [
    "X_train.shape"
   ]
  },
  {
   "cell_type": "code",
   "execution_count": 36,
   "metadata": {
    "colab": {
     "base_uri": "https://localhost:8080/"
    },
    "execution": {
     "iopub.execute_input": "2023-10-05T20:10:23.419435Z",
     "iopub.status.busy": "2023-10-05T20:10:23.419146Z",
     "iopub.status.idle": "2023-10-05T20:10:23.424984Z",
     "shell.execute_reply": "2023-10-05T20:10:23.424051Z"
    },
    "id": "W7_KvWUHXo9O",
    "outputId": "4fe9adb2-b45d-43b5-81bb-6832c7a4e289",
    "type_information": "[{\"type\": \"<class 'tuple'>\", \"name\": \"tuple\", \"module\": \"builtins\", \"size\": 56, \"data\": [{\"type\": \"<class 'int'>\", \"name\": \"int\", \"module\": \"builtins\", \"size\": 28}, {\"type\": \"<class 'int'>\", \"name\": \"int\", \"module\": \"builtins\", \"size\": 28}]}]"
   },
   "outputs": [
    {
     "data": {
      "text/plain": [
       "(3000, 18)"
      ]
     },
     "execution_count": 36,
     "metadata": {},
     "output_type": "execute_result"
    }
   ],
   "source": [
    "X_test.shape"
   ]
  },
  {
   "cell_type": "code",
   "execution_count": 38,
   "metadata": {
    "execution": {
     "iopub.execute_input": "2023-10-05T20:10:23.437789Z",
     "iopub.status.busy": "2023-10-05T20:10:23.437499Z",
     "iopub.status.idle": "2023-10-05T20:10:23.475316Z",
     "shell.execute_reply": "2023-10-05T20:10:23.474264Z"
    },
    "id": "7mfH68SXXo9O"
   },
   "outputs": [],
   "source": [
    "from sklearn.linear_model import LogisticRegression"
   ]
  },
  {
   "cell_type": "code",
   "execution_count": 39,
   "metadata": {
    "execution": {
     "iopub.execute_input": "2023-10-05T20:10:23.479235Z",
     "iopub.status.busy": "2023-10-05T20:10:23.478935Z",
     "iopub.status.idle": "2023-10-05T20:10:23.483497Z",
     "shell.execute_reply": "2023-10-05T20:10:23.482533Z"
    },
    "id": "vzDf4vQsXo9P"
   },
   "outputs": [],
   "source": [
    "logreg_v1 = LogisticRegression(random_state = 100, \n",
    "                               max_iter = 1000)"
   ]
  },
  {
   "cell_type": "code",
   "execution_count": 40,
   "metadata": {
    "colab": {
     "base_uri": "https://localhost:8080/"
    },
    "execution": {
     "iopub.execute_input": "2023-10-05T20:10:23.487236Z",
     "iopub.status.busy": "2023-10-05T20:10:23.486942Z",
     "iopub.status.idle": "2023-10-05T20:10:23.925223Z",
     "shell.execute_reply": "2023-10-05T20:10:23.924282Z"
    },
    "id": "7DGu8ZNPXo9P",
    "outputId": "8bb705f9-2318-42aa-9d37-78b3195211e4",
    "type_information": "[{\"type\": \"<class 'sklearn.linear_model._logistic.LogisticRegression'>\", \"name\": \"LogisticRegression\", \"module\": \"sklearn.linear_model._logistic\", \"size\": 48}]"
   },
   "outputs": [
    {
     "data": {
      "text/html": [
       "<style>#sk-container-id-1 {color: black;}#sk-container-id-1 pre{padding: 0;}#sk-container-id-1 div.sk-toggleable {background-color: white;}#sk-container-id-1 label.sk-toggleable__label {cursor: pointer;display: block;width: 100%;margin-bottom: 0;padding: 0.3em;box-sizing: border-box;text-align: center;}#sk-container-id-1 label.sk-toggleable__label-arrow:before {content: \"▸\";float: left;margin-right: 0.25em;color: #696969;}#sk-container-id-1 label.sk-toggleable__label-arrow:hover:before {color: black;}#sk-container-id-1 div.sk-estimator:hover label.sk-toggleable__label-arrow:before {color: black;}#sk-container-id-1 div.sk-toggleable__content {max-height: 0;max-width: 0;overflow: hidden;text-align: left;background-color: #f0f8ff;}#sk-container-id-1 div.sk-toggleable__content pre {margin: 0.2em;color: black;border-radius: 0.25em;background-color: #f0f8ff;}#sk-container-id-1 input.sk-toggleable__control:checked~div.sk-toggleable__content {max-height: 200px;max-width: 100%;overflow: auto;}#sk-container-id-1 input.sk-toggleable__control:checked~label.sk-toggleable__label-arrow:before {content: \"▾\";}#sk-container-id-1 div.sk-estimator input.sk-toggleable__control:checked~label.sk-toggleable__label {background-color: #d4ebff;}#sk-container-id-1 div.sk-label input.sk-toggleable__control:checked~label.sk-toggleable__label {background-color: #d4ebff;}#sk-container-id-1 input.sk-hidden--visually {border: 0;clip: rect(1px 1px 1px 1px);clip: rect(1px, 1px, 1px, 1px);height: 1px;margin: -1px;overflow: hidden;padding: 0;position: absolute;width: 1px;}#sk-container-id-1 div.sk-estimator {font-family: monospace;background-color: #f0f8ff;border: 1px dotted black;border-radius: 0.25em;box-sizing: border-box;margin-bottom: 0.5em;}#sk-container-id-1 div.sk-estimator:hover {background-color: #d4ebff;}#sk-container-id-1 div.sk-parallel-item::after {content: \"\";width: 100%;border-bottom: 1px solid gray;flex-grow: 1;}#sk-container-id-1 div.sk-label:hover label.sk-toggleable__label {background-color: #d4ebff;}#sk-container-id-1 div.sk-serial::before {content: \"\";position: absolute;border-left: 1px solid gray;box-sizing: border-box;top: 0;bottom: 0;left: 50%;z-index: 0;}#sk-container-id-1 div.sk-serial {display: flex;flex-direction: column;align-items: center;background-color: white;padding-right: 0.2em;padding-left: 0.2em;position: relative;}#sk-container-id-1 div.sk-item {position: relative;z-index: 1;}#sk-container-id-1 div.sk-parallel {display: flex;align-items: stretch;justify-content: center;background-color: white;position: relative;}#sk-container-id-1 div.sk-item::before, #sk-container-id-1 div.sk-parallel-item::before {content: \"\";position: absolute;border-left: 1px solid gray;box-sizing: border-box;top: 0;bottom: 0;left: 50%;z-index: -1;}#sk-container-id-1 div.sk-parallel-item {display: flex;flex-direction: column;z-index: 1;position: relative;background-color: white;}#sk-container-id-1 div.sk-parallel-item:first-child::after {align-self: flex-end;width: 50%;}#sk-container-id-1 div.sk-parallel-item:last-child::after {align-self: flex-start;width: 50%;}#sk-container-id-1 div.sk-parallel-item:only-child::after {width: 0;}#sk-container-id-1 div.sk-dashed-wrapped {border: 1px dashed gray;margin: 0 0.4em 0.5em 0.4em;box-sizing: border-box;padding-bottom: 0.4em;background-color: white;}#sk-container-id-1 div.sk-label label {font-family: monospace;font-weight: bold;display: inline-block;line-height: 1.2em;}#sk-container-id-1 div.sk-label-container {text-align: center;}#sk-container-id-1 div.sk-container {/* jupyter's `normalize.less` sets `[hidden] { display: none; }` but bootstrap.min.css set `[hidden] { display: none !important; }` so we also need the `!important` here to be able to override the default hidden behavior on the sphinx rendered scikit-learn.org. See: https://github.com/scikit-learn/scikit-learn/issues/21755 */display: inline-block !important;position: relative;}#sk-container-id-1 div.sk-text-repr-fallback {display: none;}</style><div id=\"sk-container-id-1\" class=\"sk-top-container\"><div class=\"sk-text-repr-fallback\"><pre>LogisticRegression(max_iter=1000, random_state=100)</pre><b>In a Jupyter environment, please rerun this cell to show the HTML representation or trust the notebook. <br />On GitHub, the HTML representation is unable to render, please try loading this page with nbviewer.org.</b></div><div class=\"sk-container\" hidden><div class=\"sk-item\"><div class=\"sk-estimator sk-toggleable\"><input class=\"sk-toggleable__control sk-hidden--visually\" id=\"sk-estimator-id-1\" type=\"checkbox\" checked><label for=\"sk-estimator-id-1\" class=\"sk-toggleable__label sk-toggleable__label-arrow\">LogisticRegression</label><div class=\"sk-toggleable__content\"><pre>LogisticRegression(max_iter=1000, random_state=100)</pre></div></div></div></div></div>"
      ],
      "text/plain": [
       "LogisticRegression(max_iter=1000, random_state=100)"
      ]
     },
     "execution_count": 40,
     "metadata": {},
     "output_type": "execute_result"
    }
   ],
   "source": [
    "logreg_v1.fit( X_train, y_train )"
   ]
  },
  {
   "cell_type": "markdown",
   "metadata": {
    "id": "wIs4oUYJXo9P"
   },
   "source": [
    "### Finding Parameters"
   ]
  },
  {
   "cell_type": "code",
   "execution_count": 42,
   "metadata": {
    "colab": {
     "base_uri": "https://localhost:8080/"
    },
    "execution": {
     "iopub.execute_input": "2023-10-05T20:10:23.937023Z",
     "iopub.status.busy": "2023-10-05T20:10:23.936436Z",
     "iopub.status.idle": "2023-10-05T20:10:23.941902Z",
     "shell.execute_reply": "2023-10-05T20:10:23.941118Z"
    },
    "id": "uL9OtR6cXo9P",
    "outputId": "d6ee3ca5-065a-47ce-a586-c50142c26ba2",
    "type_information": "[{\"type\": \"<class 'numpy.ndarray'>\", \"name\": \"ndarray\", \"module\": \"numpy\", \"size\": 112, \"shape\": \"(1,)\", \"dtype\": \"float64\"}]"
   },
   "outputs": [
    {
     "data": {
      "text/plain": [
       "array([0.75193492])"
      ]
     },
     "execution_count": 42,
     "metadata": {},
     "output_type": "execute_result"
    }
   ],
   "source": [
    "logreg_v1.intercept_"
   ]
  },
  {
   "cell_type": "code",
   "execution_count": 44,
   "metadata": {
    "colab": {
     "base_uri": "https://localhost:8080/"
    },
    "execution": {
     "iopub.execute_input": "2023-10-05T20:10:23.952980Z",
     "iopub.status.busy": "2023-10-05T20:10:23.952411Z",
     "iopub.status.idle": "2023-10-05T20:10:23.957575Z",
     "shell.execute_reply": "2023-10-05T20:10:23.956811Z"
    },
    "id": "cqTSjoNDXo9P",
    "outputId": "008b1cec-6ae9-4a68-ec36-4394aa198f9a",
    "type_information": "[{\"type\": \"<class 'numpy.ndarray'>\", \"name\": \"ndarray\", \"module\": \"numpy\", \"size\": 128, \"shape\": \"(1, 18)\", \"dtype\": \"float64\"}]"
   },
   "outputs": [
    {
     "data": {
      "text/plain": [
       "array([[-3.97286811e+00,  6.95989105e-01, -2.95026684e-01,\n",
       "         4.48758450e-03,  2.67243477e-01, -1.50758128e+00,\n",
       "        -1.43323020e+00, -5.93153319e-01, -2.61244231e-03,\n",
       "        -3.95961953e-01,  2.42809649e-01,  4.38795781e-01,\n",
       "        -3.25169292e-01,  1.40039790e-01,  2.37270569e-02,\n",
       "         1.40120656e-01,  1.82928887e-01,  2.33062957e-01]])"
      ]
     },
     "execution_count": 44,
     "metadata": {},
     "output_type": "execute_result"
    }
   ],
   "source": [
    "logreg_v1.coef_"
   ]
  },
  {
   "cell_type": "code",
   "execution_count": 46,
   "metadata": {
    "colab": {
     "base_uri": "https://localhost:8080/"
    },
    "execution": {
     "iopub.execute_input": "2023-10-05T20:10:23.969112Z",
     "iopub.status.busy": "2023-10-05T20:10:23.968459Z",
     "iopub.status.idle": "2023-10-05T20:10:23.974456Z",
     "shell.execute_reply": "2023-10-05T20:10:23.973661Z"
    },
    "id": "rGt_YZ0KXo9P",
    "outputId": "5a6bdf3e-33ab-4cb5-c02a-6063b3f33cb8",
    "scrolled": false,
    "type_information": "[{\"type\": \"<class 'dict'>\", \"name\": \"dict\", \"module\": \"builtins\", \"size\": 640, \"data\": {\"satisfaction_level\": {\"type\": \"<class 'numpy.float64'>\", \"name\": \"float64\", \"module\": \"numpy\", \"size\": 32}, \"last_evaluation\": {\"type\": \"<class 'numpy.float64'>\", \"name\": \"float64\", \"module\": \"numpy\", \"size\": 32}, \"number_project\": {\"type\": \"<class 'numpy.float64'>\", \"name\": \"float64\", \"module\": \"numpy\", \"size\": 32}, \"average_montly_hours\": {\"type\": \"<class 'numpy.float64'>\", \"name\": \"float64\", \"module\": \"numpy\", \"size\": 32}, \"time_spend_company\": {\"type\": \"<class 'numpy.float64'>\", \"name\": \"float64\", \"module\": \"numpy\", \"size\": 32}, \"Work_accident\": {\"type\": \"<class 'numpy.float64'>\", \"name\": \"float64\", \"module\": \"numpy\", \"size\": 32}, \"promotion_last_5years\": {\"type\": \"<class 'numpy.float64'>\", \"name\": \"float64\", \"module\": \"numpy\", \"size\": 32}, \"salary\": {\"type\": \"<class 'numpy.float64'>\", \"name\": \"float64\", \"module\": \"numpy\", \"size\": 32}, \"dept_IT\": {\"type\": \"<class 'numpy.float64'>\", \"name\": \"float64\", \"module\": \"numpy\", \"size\": 32}, \"dept_RandD\": {\"type\": \"<class 'numpy.float64'>\", \"name\": \"float64\", \"module\": \"numpy\", \"size\": 32}, \"dept_accounting\": {\"type\": \"<class 'numpy.float64'>\", \"name\": \"float64\", \"module\": \"numpy\", \"size\": 32}, \"dept_hr\": {\"type\": \"<class 'numpy.float64'>\", \"name\": \"float64\", \"module\": \"numpy\", \"size\": 32}, \"dept_management\": {\"type\": \"<class 'numpy.float64'>\", \"name\": \"float64\", \"module\": \"numpy\", \"size\": 32}, \"dept_marketing\": {\"type\": \"<class 'numpy.float64'>\", \"name\": \"float64\", \"module\": \"numpy\", \"size\": 32}, \"dept_product_mng\": {\"type\": \"<class 'numpy.float64'>\", \"name\": \"float64\", \"module\": \"numpy\", \"size\": 32}, \"dept_sales\": {\"type\": \"<class 'numpy.float64'>\", \"name\": \"float64\", \"module\": \"numpy\", \"size\": 32}, \"dept_support\": {\"type\": \"<class 'numpy.float64'>\", \"name\": \"float64\", \"module\": \"numpy\", \"size\": 32}, \"dept_technical\": {\"type\": \"<class 'numpy.float64'>\", \"name\": \"float64\", \"module\": \"numpy\", \"size\": 32}}}]"
   },
   "outputs": [
    {
     "data": {
      "text/plain": [
       "{'satisfaction_level': -3.97287,\n",
       " 'last_evaluation': 0.69599,\n",
       " 'number_project': -0.29503,\n",
       " 'average_montly_hours': 0.00449,\n",
       " 'time_spend_company': 0.26724,\n",
       " 'Work_accident': -1.50758,\n",
       " 'promotion_last_5years': -1.43323,\n",
       " 'salary': -0.59315,\n",
       " 'dept_IT': -0.00261,\n",
       " 'dept_RandD': -0.39596,\n",
       " 'dept_accounting': 0.24281,\n",
       " 'dept_hr': 0.4388,\n",
       " 'dept_management': -0.32517,\n",
       " 'dept_marketing': 0.14004,\n",
       " 'dept_product_mng': 0.02373,\n",
       " 'dept_sales': 0.14012,\n",
       " 'dept_support': 0.18293,\n",
       " 'dept_technical': 0.23306}"
      ]
     },
     "execution_count": 46,
     "metadata": {},
     "output_type": "execute_result"
    }
   ],
   "source": [
    "dict( zip( X_features, np.round(logreg_v1.coef_[0], 5) ) )"
   ]
  },
  {
   "cell_type": "markdown",
   "metadata": {
    "id": "HkJxpw59Xo9Q"
   },
   "source": [
    "### Predict on Test Set\n",
    "\n",
    "- p(y) >= 0.5,  y = 1 (L)\n",
    "- p(y) < 0.5, y = 0 (NL)"
   ]
  },
  {
   "cell_type": "code",
   "execution_count": 48,
   "metadata": {
    "colab": {
     "base_uri": "https://localhost:8080/"
    },
    "execution": {
     "iopub.execute_input": "2023-10-05T20:10:23.986310Z",
     "iopub.status.busy": "2023-10-05T20:10:23.985809Z",
     "iopub.status.idle": "2023-10-05T20:10:23.994138Z",
     "shell.execute_reply": "2023-10-05T20:10:23.993317Z"
    },
    "id": "uGKnuKoFXo9Q",
    "outputId": "253f33bd-fab7-4e7a-eb8f-8211c90ec73e",
    "type_information": "[{\"type\": \"<class 'numpy.ndarray'>\", \"name\": \"ndarray\", \"module\": \"numpy\", \"size\": 128, \"shape\": \"(3000, 2)\", \"dtype\": \"float64\"}]"
   },
   "outputs": [
    {
     "data": {
      "text/plain": [
       "array([[0.91532218, 0.08467782],\n",
       "       [0.90302666, 0.09697334],\n",
       "       [0.51934265, 0.48065735],\n",
       "       ...,\n",
       "       [0.89967572, 0.10032428],\n",
       "       [0.96261904, 0.03738096],\n",
       "       [0.9755833 , 0.0244167 ]])"
      ]
     },
     "execution_count": 48,
     "metadata": {},
     "output_type": "execute_result"
    }
   ],
   "source": [
    "logreg_v1.predict_proba( X_test )"
   ]
  },
  {
   "cell_type": "code",
   "execution_count": 50,
   "metadata": {
    "execution": {
     "iopub.execute_input": "2023-10-05T20:10:24.005122Z",
     "iopub.status.busy": "2023-10-05T20:10:24.004642Z",
     "iopub.status.idle": "2023-10-05T20:10:24.010172Z",
     "shell.execute_reply": "2023-10-05T20:10:24.009402Z"
    },
    "id": "WvOW2QhtXo9Q"
   },
   "outputs": [],
   "source": [
    "pred_logreg_v1 = logreg_v1.predict( X_test )"
   ]
  },
  {
   "cell_type": "code",
   "execution_count": 51,
   "metadata": {
    "execution": {
     "iopub.execute_input": "2023-10-05T20:10:24.013613Z",
     "iopub.status.busy": "2023-10-05T20:10:24.012919Z",
     "iopub.status.idle": "2023-10-05T20:10:24.017045Z",
     "shell.execute_reply": "2023-10-05T20:10:24.016267Z"
    },
    "id": "vgF5_4lPXo9Q"
   },
   "outputs": [],
   "source": [
    "y_logreg_v1 = pd.DataFrame( { \"actual\": y_test,\n",
    "                              \"predicted\": pred_logreg_v1 } )"
   ]
  },
  {
   "cell_type": "code",
   "execution_count": 52,
   "metadata": {
    "colab": {
     "base_uri": "https://localhost:8080/",
     "height": 363
    },
    "execution": {
     "iopub.execute_input": "2023-10-05T20:10:24.020227Z",
     "iopub.status.busy": "2023-10-05T20:10:24.019723Z",
     "iopub.status.idle": "2023-10-05T20:10:24.028289Z",
     "shell.execute_reply": "2023-10-05T20:10:24.027472Z"
    },
    "id": "ldCoh7GWXo9Q",
    "outputId": "5a0858f0-4daf-424f-f26a-cadb6c9df52e",
    "scrolled": true,
    "type_information": "[{\"type\": \"<class 'pandas.core.frame.DataFrame'>\", \"name\": \"DataFrame\", \"module\": \"pandas.core.frame\", \"size\": 256, \"shape\": \"(10, 2)\", \"dtype\": \"actual       int64\\npredicted    int64\\ndtype: object\"}]"
   },
   "outputs": [
    {
     "data": {
      "text/html": [
       "<div>\n",
       "<style scoped>\n",
       "    .dataframe tbody tr th:only-of-type {\n",
       "        vertical-align: middle;\n",
       "    }\n",
       "\n",
       "    .dataframe tbody tr th {\n",
       "        vertical-align: top;\n",
       "    }\n",
       "\n",
       "    .dataframe thead th {\n",
       "        text-align: right;\n",
       "    }\n",
       "</style>\n",
       "<table border=\"1\" class=\"dataframe\">\n",
       "  <thead>\n",
       "    <tr style=\"text-align: right;\">\n",
       "      <th></th>\n",
       "      <th>actual</th>\n",
       "      <th>predicted</th>\n",
       "    </tr>\n",
       "  </thead>\n",
       "  <tbody>\n",
       "    <tr>\n",
       "      <th>310</th>\n",
       "      <td>1</td>\n",
       "      <td>1</td>\n",
       "    </tr>\n",
       "    <tr>\n",
       "      <th>14670</th>\n",
       "      <td>1</td>\n",
       "      <td>0</td>\n",
       "    </tr>\n",
       "    <tr>\n",
       "      <th>1322</th>\n",
       "      <td>1</td>\n",
       "      <td>0</td>\n",
       "    </tr>\n",
       "    <tr>\n",
       "      <th>3314</th>\n",
       "      <td>0</td>\n",
       "      <td>0</td>\n",
       "    </tr>\n",
       "    <tr>\n",
       "      <th>11348</th>\n",
       "      <td>0</td>\n",
       "      <td>1</td>\n",
       "    </tr>\n",
       "    <tr>\n",
       "      <th>12630</th>\n",
       "      <td>1</td>\n",
       "      <td>1</td>\n",
       "    </tr>\n",
       "    <tr>\n",
       "      <th>7293</th>\n",
       "      <td>0</td>\n",
       "      <td>0</td>\n",
       "    </tr>\n",
       "    <tr>\n",
       "      <th>13600</th>\n",
       "      <td>0</td>\n",
       "      <td>0</td>\n",
       "    </tr>\n",
       "    <tr>\n",
       "      <th>4038</th>\n",
       "      <td>0</td>\n",
       "      <td>0</td>\n",
       "    </tr>\n",
       "    <tr>\n",
       "      <th>1499</th>\n",
       "      <td>1</td>\n",
       "      <td>0</td>\n",
       "    </tr>\n",
       "  </tbody>\n",
       "</table>\n",
       "</div>"
      ],
      "text/plain": [
       "       actual  predicted\n",
       "310         1          1\n",
       "14670       1          0\n",
       "1322        1          0\n",
       "3314        0          0\n",
       "11348       0          1\n",
       "12630       1          1\n",
       "7293        0          0\n",
       "13600       0          0\n",
       "4038        0          0\n",
       "1499        1          0"
      ]
     },
     "execution_count": 52,
     "metadata": {},
     "output_type": "execute_result"
    }
   ],
   "source": [
    "y_logreg_v1.sample(10, random_state = 20)"
   ]
  },
  {
   "cell_type": "markdown",
   "metadata": {
    "id": "HA8_SIFgXo9S"
   },
   "source": [
    "### Evaluating the model"
   ]
  },
  {
   "cell_type": "code",
   "execution_count": 54,
   "metadata": {
    "execution": {
     "iopub.execute_input": "2023-10-05T20:10:24.041452Z",
     "iopub.status.busy": "2023-10-05T20:10:24.040751Z",
     "iopub.status.idle": "2023-10-05T20:10:24.044506Z",
     "shell.execute_reply": "2023-10-05T20:10:24.043690Z"
    },
    "id": "pQlcHBseXo9T"
   },
   "outputs": [],
   "source": [
    "from sklearn.metrics import accuracy_score"
   ]
  },
  {
   "cell_type": "code",
   "execution_count": 55,
   "metadata": {
    "colab": {
     "base_uri": "https://localhost:8080/"
    },
    "execution": {
     "iopub.execute_input": "2023-10-05T20:10:24.047955Z",
     "iopub.status.busy": "2023-10-05T20:10:24.047286Z",
     "iopub.status.idle": "2023-10-05T20:10:24.053857Z",
     "shell.execute_reply": "2023-10-05T20:10:24.053062Z"
    },
    "id": "CcejLdZaXo9T",
    "outputId": "9e1c7980-c176-421d-fd68-f14cf38a7eab",
    "type_information": "[{\"type\": \"<class 'numpy.float64'>\", \"name\": \"float64\", \"module\": \"numpy\", \"size\": 32}]"
   },
   "outputs": [
    {
     "data": {
      "text/plain": [
       "0.7873333333333333"
      ]
     },
     "execution_count": 55,
     "metadata": {},
     "output_type": "execute_result"
    }
   ],
   "source": [
    "accuracy_score(y_logreg_v1.actual, y_logreg_v1.predicted)"
   ]
  },
  {
   "cell_type": "markdown",
   "metadata": {
    "id": "ZfKaowkmXo9T"
   },
   "source": [
    "### Building Confusion Matrix"
   ]
  },
  {
   "cell_type": "markdown",
   "metadata": {
    "id": "Vwb4OE18Xo9T"
   },
   "source": [
    "<img src=\"confusion_matrix.png\" alt=\"ML Algorithms\" width=\"600\"/>"
   ]
  },
  {
   "cell_type": "code",
   "execution_count": 57,
   "metadata": {
    "execution": {
     "iopub.execute_input": "2023-10-05T20:10:24.064962Z",
     "iopub.status.busy": "2023-10-05T20:10:24.064476Z",
     "iopub.status.idle": "2023-10-05T20:10:24.068031Z",
     "shell.execute_reply": "2023-10-05T20:10:24.067267Z"
    },
    "id": "5dApeHd_Xo9T"
   },
   "outputs": [],
   "source": [
    "from sklearn.metrics import confusion_matrix, ConfusionMatrixDisplay"
   ]
  },
  {
   "cell_type": "code",
   "execution_count": 58,
   "metadata": {
    "execution": {
     "iopub.execute_input": "2023-10-05T20:10:24.071172Z",
     "iopub.status.busy": "2023-10-05T20:10:24.070704Z",
     "iopub.status.idle": "2023-10-05T20:10:24.077706Z",
     "shell.execute_reply": "2023-10-05T20:10:24.076904Z"
    },
    "id": "J5gPGyGAXo9T"
   },
   "outputs": [],
   "source": [
    "cm = confusion_matrix(y_logreg_v1.actual, y_logreg_v1.predicted, labels = [1,0])"
   ]
  },
  {
   "cell_type": "code",
   "execution_count": 59,
   "metadata": {
    "execution": {
     "iopub.execute_input": "2023-10-05T20:10:24.081020Z",
     "iopub.status.busy": "2023-10-05T20:10:24.080378Z",
     "iopub.status.idle": "2023-10-05T20:10:24.084236Z",
     "shell.execute_reply": "2023-10-05T20:10:24.083405Z"
    },
    "id": "bhaPehoeXo9T"
   },
   "outputs": [],
   "source": [
    "cm_plot = ConfusionMatrixDisplay(confusion_matrix=cm, \n",
    "                                 display_labels=['Left', 'Not Left'])"
   ]
  },
  {
   "cell_type": "code",
   "execution_count": 60,
   "metadata": {
    "colab": {
     "base_uri": "https://localhost:8080/"
    },
    "execution": {
     "iopub.execute_input": "2023-10-05T20:10:24.087624Z",
     "iopub.status.busy": "2023-10-05T20:10:24.086993Z",
     "iopub.status.idle": "2023-10-05T20:10:24.093054Z",
     "shell.execute_reply": "2023-10-05T20:10:24.092293Z"
    },
    "id": "q-jS0QCEXo9T",
    "outputId": "55b218aa-fdbb-4b9e-e7a5-3b28620ea777",
    "type_information": "[{\"type\": \"<class 'pandas.core.series.Series'>\", \"name\": \"Series\", \"module\": \"pandas.core.series\", \"size\": 48}]"
   },
   "outputs": [
    {
     "data": {
      "text/plain": [
       "left\n",
       "0    2250\n",
       "1     750\n",
       "Name: count, dtype: int64"
      ]
     },
     "execution_count": 60,
     "metadata": {},
     "output_type": "execute_result"
    }
   ],
   "source": [
    "y_test.value_counts()"
   ]
  },
  {
   "cell_type": "code",
   "execution_count": 62,
   "metadata": {
    "colab": {
     "base_uri": "https://localhost:8080/",
     "height": 279
    },
    "error": [
     {
      "ename": "KeyError",
      "evalue": "62",
      "output_type": "error",
      "traceback": [
       "\u001b[0;31m---------------------------------------------------------------------------\u001b[0m",
       "\u001b[0;31mKeyError\u001b[0m                                  Traceback (most recent call last)",
       "Cell \u001b[0;32mIn[63], line 1\u001b[0m\n\u001b[0;32m----> 1\u001b[0m json\u001b[38;5;241m.\u001b[39mdumps([typehandlerforuniqueobjects(\u001b[43mOut\u001b[49m\u001b[43m[\u001b[49m\u001b[38;5;241;43m62\u001b[39;49m\u001b[43m]\u001b[49m)])\n",
       "\u001b[0;31mKeyError\u001b[0m: 62"
      ]
     }
    ],
    "execution": {
     "iopub.execute_input": "2023-10-05T20:10:24.104083Z",
     "iopub.status.busy": "2023-10-05T20:10:24.103824Z",
     "iopub.status.idle": "2023-10-05T20:10:24.902570Z",
     "shell.execute_reply": "2023-10-05T20:10:24.901669Z"
    },
    "id": "MQFiJz38Xo9U",
    "outputId": "57b48bb1-3325-44c0-fe3a-74f3962f98c4"
   },
   "outputs": [
    {
     "data": {
      "image/png": "[encoded data removed]",
      "text/plain": [
       "<Figure size 640x480 with 2 Axes>"
      ]
     },
     "metadata": {},
     "output_type": "display_data"
    }
   ],
   "source": [
    "cm_plot.plot();"
   ]
  },
  {
   "cell_type": "code",
   "execution_count": 64,
   "metadata": {
    "execution": {
     "iopub.execute_input": "2023-10-05T20:10:24.924578Z",
     "iopub.status.busy": "2023-10-05T20:10:24.924405Z",
     "iopub.status.idle": "2023-10-05T20:10:24.927951Z",
     "shell.execute_reply": "2023-10-05T20:10:24.927117Z"
    },
    "id": "xM9mnqULXo9U"
   },
   "outputs": [],
   "source": [
    "from sklearn.metrics import recall_score"
   ]
  },
  {
   "cell_type": "code",
   "execution_count": 65,
   "metadata": {
    "colab": {
     "base_uri": "https://localhost:8080/"
    },
    "error": [
     {
      "ename": "KeyError",
      "evalue": "65",
      "output_type": "error",
      "traceback": [
       "\u001b[0;31m---------------------------------------------------------------------------\u001b[0m",
       "\u001b[0;31mKeyError\u001b[0m                                  Traceback (most recent call last)",
       "Cell \u001b[0;32mIn[66], line 1\u001b[0m\n\u001b[0;32m----> 1\u001b[0m json\u001b[38;5;241m.\u001b[39mdumps([typehandlerforuniqueobjects(\u001b[43mOut\u001b[49m\u001b[43m[\u001b[49m\u001b[38;5;241;43m65\u001b[39;49m\u001b[43m]\u001b[49m)])\n",
       "\u001b[0;31mKeyError\u001b[0m: 65"
      ]
     }
    ],
    "execution": {
     "iopub.execute_input": "2023-10-05T20:10:24.930710Z",
     "iopub.status.busy": "2023-10-05T20:10:24.930541Z",
     "iopub.status.idle": "2023-10-05T20:10:24.938090Z",
     "shell.execute_reply": "2023-10-05T20:10:24.937266Z"
    },
    "id": "Ldat6a2IXo9U",
    "outputId": "d71daca0-669c-4585-ae5a-6af21a2196d5"
   },
   "outputs": [
    {
     "name": "stdout",
     "output_type": "stream",
     "text": [
      "0.3466666666666667\n"
     ]
    }
   ],
   "source": [
    "print(recall_score(y_logreg_v1.actual, y_logreg_v1.predicted))"
   ]
  },
  {
   "cell_type": "code",
   "execution_count": 67,
   "metadata": {
    "execution": {
     "iopub.execute_input": "2023-10-05T20:10:24.958267Z",
     "iopub.status.busy": "2023-10-05T20:10:24.958095Z",
     "iopub.status.idle": "2023-10-05T20:10:24.961609Z",
     "shell.execute_reply": "2023-10-05T20:10:24.960826Z"
    },
    "id": "AiscU-UrbpYi"
   },
   "outputs": [],
   "source": [
    "from sklearn.metrics import classification_report"
   ]
  },
  {
   "cell_type": "code",
   "execution_count": 68,
   "metadata": {
    "colab": {
     "base_uri": "https://localhost:8080/"
    },
    "error": [
     {
      "ename": "KeyError",
      "evalue": "68",
      "output_type": "error",
      "traceback": [
       "\u001b[0;31m---------------------------------------------------------------------------\u001b[0m",
       "\u001b[0;31mKeyError\u001b[0m                                  Traceback (most recent call last)",
       "Cell \u001b[0;32mIn[69], line 1\u001b[0m\n\u001b[0;32m----> 1\u001b[0m json\u001b[38;5;241m.\u001b[39mdumps([typehandlerforuniqueobjects(\u001b[43mOut\u001b[49m\u001b[43m[\u001b[49m\u001b[38;5;241;43m68\u001b[39;49m\u001b[43m]\u001b[49m)])\n",
       "\u001b[0;31mKeyError\u001b[0m: 68"
      ]
     }
    ],
    "execution": {
     "iopub.execute_input": "2023-10-05T20:10:24.964206Z",
     "iopub.status.busy": "2023-10-05T20:10:24.964037Z",
     "iopub.status.idle": "2023-10-05T20:10:24.976180Z",
     "shell.execute_reply": "2023-10-05T20:10:24.975330Z"
    },
    "id": "jre9UCRbbw0b",
    "outputId": "66242557-a051-4f98-e9d3-cac3ac070653"
   },
   "outputs": [
    {
     "name": "stdout",
     "output_type": "stream",
     "text": [
      "              precision    recall  f1-score   support\n",
      "\n",
      "           0       0.81      0.93      0.87      2250\n",
      "           1       0.64      0.35      0.45       750\n",
      "\n",
      "    accuracy                           0.79      3000\n",
      "   macro avg       0.72      0.64      0.66      3000\n",
      "weighted avg       0.77      0.79      0.76      3000\n",
      "\n"
     ]
    }
   ],
   "source": [
    "print(classification_report(y_logreg_v1.actual, y_logreg_v1.predicted))"
   ]
  },
  {
   "cell_type": "markdown",
   "metadata": {
    "id": "Id070AsOVycm"
   },
   "source": [
    "### KNN Model"
   ]
  },
  {
   "cell_type": "code",
   "execution_count": 70,
   "metadata": {
    "execution": {
     "iopub.execute_input": "2023-10-05T20:10:24.996198Z",
     "iopub.status.busy": "2023-10-05T20:10:24.996024Z",
     "iopub.status.idle": "2023-10-05T20:10:24.999502Z",
     "shell.execute_reply": "2023-10-05T20:10:24.998715Z"
    },
    "id": "vZvTGZj5b4kT"
   },
   "outputs": [],
   "source": [
    "from sklearn.preprocessing import MinMaxScaler"
   ]
  },
  {
   "cell_type": "code",
   "execution_count": 71,
   "metadata": {
    "execution": {
     "iopub.execute_input": "2023-10-05T20:10:25.002219Z",
     "iopub.status.busy": "2023-10-05T20:10:25.002054Z",
     "iopub.status.idle": "2023-10-05T20:10:25.005489Z",
     "shell.execute_reply": "2023-10-05T20:10:25.004712Z"
    },
    "id": "009foCfYb5Cr"
   },
   "outputs": [],
   "source": [
    "scaler = MinMaxScaler()"
   ]
  },
  {
   "cell_type": "code",
   "execution_count": 72,
   "metadata": {
    "colab": {
     "base_uri": "https://localhost:8080/"
    },
    "execution": {
     "iopub.execute_input": "2023-10-05T20:10:25.008461Z",
     "iopub.status.busy": "2023-10-05T20:10:25.008293Z",
     "iopub.status.idle": "2023-10-05T20:10:25.015749Z",
     "shell.execute_reply": "2023-10-05T20:10:25.014949Z"
    },
    "id": "YbO103Kpb6I6",
    "outputId": "d5bfa43b-afb9-4808-eb2b-7782c84e6f85",
    "type_information": "[{\"type\": \"<class 'sklearn.preprocessing._data.MinMaxScaler'>\", \"name\": \"MinMaxScaler\", \"module\": \"sklearn.preprocessing._data\", \"size\": 48}]"
   },
   "outputs": [
    {
     "data": {
      "text/html": [
       "<style>#sk-container-id-2 {color: black;}#sk-container-id-2 pre{padding: 0;}#sk-container-id-2 div.sk-toggleable {background-color: white;}#sk-container-id-2 label.sk-toggleable__label {cursor: pointer;display: block;width: 100%;margin-bottom: 0;padding: 0.3em;box-sizing: border-box;text-align: center;}#sk-container-id-2 label.sk-toggleable__label-arrow:before {content: \"▸\";float: left;margin-right: 0.25em;color: #696969;}#sk-container-id-2 label.sk-toggleable__label-arrow:hover:before {color: black;}#sk-container-id-2 div.sk-estimator:hover label.sk-toggleable__label-arrow:before {color: black;}#sk-container-id-2 div.sk-toggleable__content {max-height: 0;max-width: 0;overflow: hidden;text-align: left;background-color: #f0f8ff;}#sk-container-id-2 div.sk-toggleable__content pre {margin: 0.2em;color: black;border-radius: 0.25em;background-color: #f0f8ff;}#sk-container-id-2 input.sk-toggleable__control:checked~div.sk-toggleable__content {max-height: 200px;max-width: 100%;overflow: auto;}#sk-container-id-2 input.sk-toggleable__control:checked~label.sk-toggleable__label-arrow:before {content: \"▾\";}#sk-container-id-2 div.sk-estimator input.sk-toggleable__control:checked~label.sk-toggleable__label {background-color: #d4ebff;}#sk-container-id-2 div.sk-label input.sk-toggleable__control:checked~label.sk-toggleable__label {background-color: #d4ebff;}#sk-container-id-2 input.sk-hidden--visually {border: 0;clip: rect(1px 1px 1px 1px);clip: rect(1px, 1px, 1px, 1px);height: 1px;margin: -1px;overflow: hidden;padding: 0;position: absolute;width: 1px;}#sk-container-id-2 div.sk-estimator {font-family: monospace;background-color: #f0f8ff;border: 1px dotted black;border-radius: 0.25em;box-sizing: border-box;margin-bottom: 0.5em;}#sk-container-id-2 div.sk-estimator:hover {background-color: #d4ebff;}#sk-container-id-2 div.sk-parallel-item::after {content: \"\";width: 100%;border-bottom: 1px solid gray;flex-grow: 1;}#sk-container-id-2 div.sk-label:hover label.sk-toggleable__label {background-color: #d4ebff;}#sk-container-id-2 div.sk-serial::before {content: \"\";position: absolute;border-left: 1px solid gray;box-sizing: border-box;top: 0;bottom: 0;left: 50%;z-index: 0;}#sk-container-id-2 div.sk-serial {display: flex;flex-direction: column;align-items: center;background-color: white;padding-right: 0.2em;padding-left: 0.2em;position: relative;}#sk-container-id-2 div.sk-item {position: relative;z-index: 1;}#sk-container-id-2 div.sk-parallel {display: flex;align-items: stretch;justify-content: center;background-color: white;position: relative;}#sk-container-id-2 div.sk-item::before, #sk-container-id-2 div.sk-parallel-item::before {content: \"\";position: absolute;border-left: 1px solid gray;box-sizing: border-box;top: 0;bottom: 0;left: 50%;z-index: -1;}#sk-container-id-2 div.sk-parallel-item {display: flex;flex-direction: column;z-index: 1;position: relative;background-color: white;}#sk-container-id-2 div.sk-parallel-item:first-child::after {align-self: flex-end;width: 50%;}#sk-container-id-2 div.sk-parallel-item:last-child::after {align-self: flex-start;width: 50%;}#sk-container-id-2 div.sk-parallel-item:only-child::after {width: 0;}#sk-container-id-2 div.sk-dashed-wrapped {border: 1px dashed gray;margin: 0 0.4em 0.5em 0.4em;box-sizing: border-box;padding-bottom: 0.4em;background-color: white;}#sk-container-id-2 div.sk-label label {font-family: monospace;font-weight: bold;display: inline-block;line-height: 1.2em;}#sk-container-id-2 div.sk-label-container {text-align: center;}#sk-container-id-2 div.sk-container {/* jupyter's `normalize.less` sets `[hidden] { display: none; }` but bootstrap.min.css set `[hidden] { display: none !important; }` so we also need the `!important` here to be able to override the default hidden behavior on the sphinx rendered scikit-learn.org. See: https://github.com/scikit-learn/scikit-learn/issues/21755 */display: inline-block !important;position: relative;}#sk-container-id-2 div.sk-text-repr-fallback {display: none;}</style><div id=\"sk-container-id-2\" class=\"sk-top-container\"><div class=\"sk-text-repr-fallback\"><pre>MinMaxScaler()</pre><b>In a Jupyter environment, please rerun this cell to show the HTML representation or trust the notebook. <br />On GitHub, the HTML representation is unable to render, please try loading this page with nbviewer.org.</b></div><div class=\"sk-container\" hidden><div class=\"sk-item\"><div class=\"sk-estimator sk-toggleable\"><input class=\"sk-toggleable__control sk-hidden--visually\" id=\"sk-estimator-id-2\" type=\"checkbox\" checked><label for=\"sk-estimator-id-2\" class=\"sk-toggleable__label sk-toggleable__label-arrow\">MinMaxScaler</label><div class=\"sk-toggleable__content\"><pre>MinMaxScaler()</pre></div></div></div></div></div>"
      ],
      "text/plain": [
       "MinMaxScaler()"
      ]
     },
     "execution_count": 72,
     "metadata": {},
     "output_type": "execute_result"
    }
   ],
   "source": [
    "scaler.fit(X_train)"
   ]
  },
  {
   "cell_type": "code",
   "execution_count": 74,
   "metadata": {
    "execution": {
     "iopub.execute_input": "2023-10-05T20:10:25.026579Z",
     "iopub.status.busy": "2023-10-05T20:10:25.026399Z",
     "iopub.status.idle": "2023-10-05T20:10:25.036935Z",
     "shell.execute_reply": "2023-10-05T20:10:25.036088Z"
    },
    "id": "nRE4zaZqb7Hi"
   },
   "outputs": [],
   "source": [
    "x_train_scaled = scaler.transform(X_train)\n",
    "x_test_scaled = scaler.transform(X_test)"
   ]
  },
  {
   "cell_type": "code",
   "execution_count": 75,
   "metadata": {
    "execution": {
     "iopub.execute_input": "2023-10-05T20:10:25.039944Z",
     "iopub.status.busy": "2023-10-05T20:10:25.039771Z",
     "iopub.status.idle": "2023-10-05T20:10:25.055792Z",
     "shell.execute_reply": "2023-10-05T20:10:25.054953Z"
    },
    "id": "YK6aULS8Vycm"
   },
   "outputs": [],
   "source": [
    "from sklearn.neighbors import KNeighborsClassifier"
   ]
  },
  {
   "cell_type": "code",
   "execution_count": 76,
   "metadata": {
    "colab": {
     "base_uri": "https://localhost:8080/"
    },
    "execution": {
     "iopub.execute_input": "2023-10-05T20:10:25.058896Z",
     "iopub.status.busy": "2023-10-05T20:10:25.058722Z",
     "iopub.status.idle": "2023-10-05T20:10:25.065490Z",
     "shell.execute_reply": "2023-10-05T20:10:25.064704Z"
    },
    "id": "y9jKgJjzVycn",
    "outputId": "705c0f79-2db9-40ba-d32f-d51cbf44faf3",
    "type_information": "[{\"type\": \"<class 'sklearn.neighbors._classification.KNeighborsClassifier'>\", \"name\": \"KNeighborsClassifier\", \"module\": \"sklearn.neighbors._classification\", \"size\": 48}]"
   },
   "outputs": [
    {
     "data": {
      "text/html": [
       "<style>#sk-container-id-3 {color: black;}#sk-container-id-3 pre{padding: 0;}#sk-container-id-3 div.sk-toggleable {background-color: white;}#sk-container-id-3 label.sk-toggleable__label {cursor: pointer;display: block;width: 100%;margin-bottom: 0;padding: 0.3em;box-sizing: border-box;text-align: center;}#sk-container-id-3 label.sk-toggleable__label-arrow:before {content: \"▸\";float: left;margin-right: 0.25em;color: #696969;}#sk-container-id-3 label.sk-toggleable__label-arrow:hover:before {color: black;}#sk-container-id-3 div.sk-estimator:hover label.sk-toggleable__label-arrow:before {color: black;}#sk-container-id-3 div.sk-toggleable__content {max-height: 0;max-width: 0;overflow: hidden;text-align: left;background-color: #f0f8ff;}#sk-container-id-3 div.sk-toggleable__content pre {margin: 0.2em;color: black;border-radius: 0.25em;background-color: #f0f8ff;}#sk-container-id-3 input.sk-toggleable__control:checked~div.sk-toggleable__content {max-height: 200px;max-width: 100%;overflow: auto;}#sk-container-id-3 input.sk-toggleable__control:checked~label.sk-toggleable__label-arrow:before {content: \"▾\";}#sk-container-id-3 div.sk-estimator input.sk-toggleable__control:checked~label.sk-toggleable__label {background-color: #d4ebff;}#sk-container-id-3 div.sk-label input.sk-toggleable__control:checked~label.sk-toggleable__label {background-color: #d4ebff;}#sk-container-id-3 input.sk-hidden--visually {border: 0;clip: rect(1px 1px 1px 1px);clip: rect(1px, 1px, 1px, 1px);height: 1px;margin: -1px;overflow: hidden;padding: 0;position: absolute;width: 1px;}#sk-container-id-3 div.sk-estimator {font-family: monospace;background-color: #f0f8ff;border: 1px dotted black;border-radius: 0.25em;box-sizing: border-box;margin-bottom: 0.5em;}#sk-container-id-3 div.sk-estimator:hover {background-color: #d4ebff;}#sk-container-id-3 div.sk-parallel-item::after {content: \"\";width: 100%;border-bottom: 1px solid gray;flex-grow: 1;}#sk-container-id-3 div.sk-label:hover label.sk-toggleable__label {background-color: #d4ebff;}#sk-container-id-3 div.sk-serial::before {content: \"\";position: absolute;border-left: 1px solid gray;box-sizing: border-box;top: 0;bottom: 0;left: 50%;z-index: 0;}#sk-container-id-3 div.sk-serial {display: flex;flex-direction: column;align-items: center;background-color: white;padding-right: 0.2em;padding-left: 0.2em;position: relative;}#sk-container-id-3 div.sk-item {position: relative;z-index: 1;}#sk-container-id-3 div.sk-parallel {display: flex;align-items: stretch;justify-content: center;background-color: white;position: relative;}#sk-container-id-3 div.sk-item::before, #sk-container-id-3 div.sk-parallel-item::before {content: \"\";position: absolute;border-left: 1px solid gray;box-sizing: border-box;top: 0;bottom: 0;left: 50%;z-index: -1;}#sk-container-id-3 div.sk-parallel-item {display: flex;flex-direction: column;z-index: 1;position: relative;background-color: white;}#sk-container-id-3 div.sk-parallel-item:first-child::after {align-self: flex-end;width: 50%;}#sk-container-id-3 div.sk-parallel-item:last-child::after {align-self: flex-start;width: 50%;}#sk-container-id-3 div.sk-parallel-item:only-child::after {width: 0;}#sk-container-id-3 div.sk-dashed-wrapped {border: 1px dashed gray;margin: 0 0.4em 0.5em 0.4em;box-sizing: border-box;padding-bottom: 0.4em;background-color: white;}#sk-container-id-3 div.sk-label label {font-family: monospace;font-weight: bold;display: inline-block;line-height: 1.2em;}#sk-container-id-3 div.sk-label-container {text-align: center;}#sk-container-id-3 div.sk-container {/* jupyter's `normalize.less` sets `[hidden] { display: none; }` but bootstrap.min.css set `[hidden] { display: none !important; }` so we also need the `!important` here to be able to override the default hidden behavior on the sphinx rendered scikit-learn.org. See: https://github.com/scikit-learn/scikit-learn/issues/21755 */display: inline-block !important;position: relative;}#sk-container-id-3 div.sk-text-repr-fallback {display: none;}</style><div id=\"sk-container-id-3\" class=\"sk-top-container\"><div class=\"sk-text-repr-fallback\"><pre>KNeighborsClassifier(n_neighbors=10)</pre><b>In a Jupyter environment, please rerun this cell to show the HTML representation or trust the notebook. <br />On GitHub, the HTML representation is unable to render, please try loading this page with nbviewer.org.</b></div><div class=\"sk-container\" hidden><div class=\"sk-item\"><div class=\"sk-estimator sk-toggleable\"><input class=\"sk-toggleable__control sk-hidden--visually\" id=\"sk-estimator-id-3\" type=\"checkbox\" checked><label for=\"sk-estimator-id-3\" class=\"sk-toggleable__label sk-toggleable__label-arrow\">KNeighborsClassifier</label><div class=\"sk-toggleable__content\"><pre>KNeighborsClassifier(n_neighbors=10)</pre></div></div></div></div></div>"
      ],
      "text/plain": [
       "KNeighborsClassifier(n_neighbors=10)"
      ]
     },
     "execution_count": 76,
     "metadata": {},
     "output_type": "execute_result"
    }
   ],
   "source": [
    "knn_clf = KNeighborsClassifier( n_neighbors = 10 )\n",
    "knn_clf.fit( x_train_scaled, y_train )"
   ]
  },
  {
   "cell_type": "code",
   "execution_count": 78,
   "metadata": {
    "execution": {
     "iopub.execute_input": "2023-10-05T20:10:25.075607Z",
     "iopub.status.busy": "2023-10-05T20:10:25.075441Z",
     "iopub.status.idle": "2023-10-05T20:10:25.313141Z",
     "shell.execute_reply": "2023-10-05T20:10:25.312076Z"
    },
    "id": "xTMrYOVbVycn"
   },
   "outputs": [],
   "source": [
    "knn_test_pred = pd.DataFrame( { 'actual':  y_test,\n",
    "                                'predicted': knn_clf.predict( x_test_scaled ) } )"
   ]
  },
  {
   "cell_type": "code",
   "execution_count": 79,
   "metadata": {
    "execution": {
     "iopub.execute_input": "2023-10-05T20:10:25.316757Z",
     "iopub.status.busy": "2023-10-05T20:10:25.316568Z",
     "iopub.status.idle": "2023-10-05T20:10:25.323849Z",
     "shell.execute_reply": "2023-10-05T20:10:25.323068Z"
    },
    "id": "q0nFAWmZVycn"
   },
   "outputs": [],
   "source": [
    "cm_knn = confusion_matrix(knn_test_pred.actual, knn_test_pred.predicted, labels = [1,0])\n",
    "\n",
    "knn_cm_plot = ConfusionMatrixDisplay(cm_knn, \n",
    "                                 display_labels=['Left', 'Not Left'])"
   ]
  },
  {
   "cell_type": "code",
   "execution_count": 80,
   "metadata": {
    "colab": {
     "base_uri": "https://localhost:8080/",
     "height": 279
    },
    "error": [
     {
      "ename": "KeyError",
      "evalue": "80",
      "output_type": "error",
      "traceback": [
       "\u001b[0;31m---------------------------------------------------------------------------\u001b[0m",
       "\u001b[0;31mKeyError\u001b[0m                                  Traceback (most recent call last)",
       "Cell \u001b[0;32mIn[81], line 1\u001b[0m\n\u001b[0;32m----> 1\u001b[0m json\u001b[38;5;241m.\u001b[39mdumps([typehandlerforuniqueobjects(\u001b[43mOut\u001b[49m\u001b[43m[\u001b[49m\u001b[38;5;241;43m80\u001b[39;49m\u001b[43m]\u001b[49m)])\n",
       "\u001b[0;31mKeyError\u001b[0m: 80"
      ]
     }
    ],
    "execution": {
     "iopub.execute_input": "2023-10-05T20:10:25.327764Z",
     "iopub.status.busy": "2023-10-05T20:10:25.327143Z",
     "iopub.status.idle": "2023-10-05T20:10:25.576333Z",
     "shell.execute_reply": "2023-10-05T20:10:25.575008Z"
    },
    "id": "A9SrRw-Hcl_W",
    "outputId": "976cf9bd-5e4d-4abd-bbc2-3186e0e30a3d"
   },
   "outputs": [
    {
     "data": {
      "image/png": "[encoded data removed]",
      "text/plain": [
       "<Figure size 640x480 with 2 Axes>"
      ]
     },
     "metadata": {},
     "output_type": "display_data"
    }
   ],
   "source": [
    "knn_cm_plot.plot();"
   ]
  },
  {
   "cell_type": "code",
   "execution_count": 82,
   "metadata": {
    "colab": {
     "base_uri": "https://localhost:8080/"
    },
    "error": [
     {
      "ename": "KeyError",
      "evalue": "82",
      "output_type": "error",
      "traceback": [
       "\u001b[0;31m---------------------------------------------------------------------------\u001b[0m",
       "\u001b[0;31mKeyError\u001b[0m                                  Traceback (most recent call last)",
       "Cell \u001b[0;32mIn[83], line 1\u001b[0m\n\u001b[0;32m----> 1\u001b[0m json\u001b[38;5;241m.\u001b[39mdumps([typehandlerforuniqueobjects(\u001b[43mOut\u001b[49m\u001b[43m[\u001b[49m\u001b[38;5;241;43m82\u001b[39;49m\u001b[43m]\u001b[49m)])\n",
       "\u001b[0;31mKeyError\u001b[0m: 82"
      ]
     }
    ],
    "execution": {
     "iopub.execute_input": "2023-10-05T20:10:25.611615Z",
     "iopub.status.busy": "2023-10-05T20:10:25.611319Z",
     "iopub.status.idle": "2023-10-05T20:10:25.632625Z",
     "shell.execute_reply": "2023-10-05T20:10:25.631443Z"
    },
    "id": "_eKQtDlecq8d",
    "outputId": "8b4b639b-8949-4d3d-9c91-5a3000ed681f"
   },
   "outputs": [
    {
     "name": "stdout",
     "output_type": "stream",
     "text": [
      "              precision    recall  f1-score   support\n",
      "\n",
      "           0       0.96      0.96      0.96      2250\n",
      "           1       0.88      0.88      0.88       750\n",
      "\n",
      "    accuracy                           0.94      3000\n",
      "   macro avg       0.92      0.92      0.92      3000\n",
      "weighted avg       0.94      0.94      0.94      3000\n",
      "\n"
     ]
    }
   ],
   "source": [
    "print(classification_report(knn_test_pred.actual, knn_test_pred.predicted))"
   ]
  },
  {
   "cell_type": "markdown",
   "metadata": {
    "id": "xEFsbwuUVycn"
   },
   "source": [
    "### Grid Search for KNN"
   ]
  },
  {
   "cell_type": "code",
   "execution_count": 84,
   "metadata": {
    "execution": {
     "iopub.execute_input": "2023-10-05T20:10:25.664254Z",
     "iopub.status.busy": "2023-10-05T20:10:25.663935Z",
     "iopub.status.idle": "2023-10-05T20:10:25.668455Z",
     "shell.execute_reply": "2023-10-05T20:10:25.667464Z"
    },
    "id": "_eSA-AAMc2dM"
   },
   "outputs": [],
   "source": [
    "from sklearn.model_selection import GridSearchCV"
   ]
  },
  {
   "cell_type": "code",
   "execution_count": 85,
   "metadata": {
    "execution": {
     "iopub.execute_input": "2023-10-05T20:10:25.672363Z",
     "iopub.status.busy": "2023-10-05T20:10:25.672069Z",
     "iopub.status.idle": "2023-10-05T20:10:25.676810Z",
     "shell.execute_reply": "2023-10-05T20:10:25.675719Z"
    },
    "id": "_vva1_n6Vycn"
   },
   "outputs": [],
   "source": [
    "tuned_parameters = [{'n_neighbors': [5, 10, 15, 20], \n",
    "                     \"weights\": ['uniform', 'distance']}]"
   ]
  },
  {
   "cell_type": "code",
   "execution_count": 86,
   "metadata": {
    "execution": {
     "iopub.execute_input": "2023-10-05T20:10:25.681156Z",
     "iopub.status.busy": "2023-10-05T20:10:25.680258Z",
     "iopub.status.idle": "2023-10-05T20:10:27.446534Z",
     "shell.execute_reply": "2023-10-05T20:10:27.445754Z"
    },
    "id": "uL09Zg6EVycn"
   },
   "outputs": [
    {
     "data": {
      "text/html": [
       "<style>#sk-container-id-4 {color: black;}#sk-container-id-4 pre{padding: 0;}#sk-container-id-4 div.sk-toggleable {background-color: white;}#sk-container-id-4 label.sk-toggleable__label {cursor: pointer;display: block;width: 100%;margin-bottom: 0;padding: 0.3em;box-sizing: border-box;text-align: center;}#sk-container-id-4 label.sk-toggleable__label-arrow:before {content: \"▸\";float: left;margin-right: 0.25em;color: #696969;}#sk-container-id-4 label.sk-toggleable__label-arrow:hover:before {color: black;}#sk-container-id-4 div.sk-estimator:hover label.sk-toggleable__label-arrow:before {color: black;}#sk-container-id-4 div.sk-toggleable__content {max-height: 0;max-width: 0;overflow: hidden;text-align: left;background-color: #f0f8ff;}#sk-container-id-4 div.sk-toggleable__content pre {margin: 0.2em;color: black;border-radius: 0.25em;background-color: #f0f8ff;}#sk-container-id-4 input.sk-toggleable__control:checked~div.sk-toggleable__content {max-height: 200px;max-width: 100%;overflow: auto;}#sk-container-id-4 input.sk-toggleable__control:checked~label.sk-toggleable__label-arrow:before {content: \"▾\";}#sk-container-id-4 div.sk-estimator input.sk-toggleable__control:checked~label.sk-toggleable__label {background-color: #d4ebff;}#sk-container-id-4 div.sk-label input.sk-toggleable__control:checked~label.sk-toggleable__label {background-color: #d4ebff;}#sk-container-id-4 input.sk-hidden--visually {border: 0;clip: rect(1px 1px 1px 1px);clip: rect(1px, 1px, 1px, 1px);height: 1px;margin: -1px;overflow: hidden;padding: 0;position: absolute;width: 1px;}#sk-container-id-4 div.sk-estimator {font-family: monospace;background-color: #f0f8ff;border: 1px dotted black;border-radius: 0.25em;box-sizing: border-box;margin-bottom: 0.5em;}#sk-container-id-4 div.sk-estimator:hover {background-color: #d4ebff;}#sk-container-id-4 div.sk-parallel-item::after {content: \"\";width: 100%;border-bottom: 1px solid gray;flex-grow: 1;}#sk-container-id-4 div.sk-label:hover label.sk-toggleable__label {background-color: #d4ebff;}#sk-container-id-4 div.sk-serial::before {content: \"\";position: absolute;border-left: 1px solid gray;box-sizing: border-box;top: 0;bottom: 0;left: 50%;z-index: 0;}#sk-container-id-4 div.sk-serial {display: flex;flex-direction: column;align-items: center;background-color: white;padding-right: 0.2em;padding-left: 0.2em;position: relative;}#sk-container-id-4 div.sk-item {position: relative;z-index: 1;}#sk-container-id-4 div.sk-parallel {display: flex;align-items: stretch;justify-content: center;background-color: white;position: relative;}#sk-container-id-4 div.sk-item::before, #sk-container-id-4 div.sk-parallel-item::before {content: \"\";position: absolute;border-left: 1px solid gray;box-sizing: border-box;top: 0;bottom: 0;left: 50%;z-index: -1;}#sk-container-id-4 div.sk-parallel-item {display: flex;flex-direction: column;z-index: 1;position: relative;background-color: white;}#sk-container-id-4 div.sk-parallel-item:first-child::after {align-self: flex-end;width: 50%;}#sk-container-id-4 div.sk-parallel-item:last-child::after {align-self: flex-start;width: 50%;}#sk-container-id-4 div.sk-parallel-item:only-child::after {width: 0;}#sk-container-id-4 div.sk-dashed-wrapped {border: 1px dashed gray;margin: 0 0.4em 0.5em 0.4em;box-sizing: border-box;padding-bottom: 0.4em;background-color: white;}#sk-container-id-4 div.sk-label label {font-family: monospace;font-weight: bold;display: inline-block;line-height: 1.2em;}#sk-container-id-4 div.sk-label-container {text-align: center;}#sk-container-id-4 div.sk-container {/* jupyter's `normalize.less` sets `[hidden] { display: none; }` but bootstrap.min.css set `[hidden] { display: none !important; }` so we also need the `!important` here to be able to override the default hidden behavior on the sphinx rendered scikit-learn.org. See: https://github.com/scikit-learn/scikit-learn/issues/21755 */display: inline-block !important;position: relative;}#sk-container-id-4 div.sk-text-repr-fallback {display: none;}</style><div id=\"sk-container-id-4\" class=\"sk-top-container\"><div class=\"sk-text-repr-fallback\"><pre>GridSearchCV(cv=5, estimator=KNeighborsClassifier(),\n",
       "             param_grid=[{&#x27;n_neighbors&#x27;: [5, 10, 15, 20],\n",
       "                          &#x27;weights&#x27;: [&#x27;uniform&#x27;, &#x27;distance&#x27;]}],\n",
       "             scoring=&#x27;recall&#x27;)</pre><b>In a Jupyter environment, please rerun this cell to show the HTML representation or trust the notebook. <br />On GitHub, the HTML representation is unable to render, please try loading this page with nbviewer.org.</b></div><div class=\"sk-container\" hidden><div class=\"sk-item sk-dashed-wrapped\"><div class=\"sk-label-container\"><div class=\"sk-label sk-toggleable\"><input class=\"sk-toggleable__control sk-hidden--visually\" id=\"sk-estimator-id-4\" type=\"checkbox\" ><label for=\"sk-estimator-id-4\" class=\"sk-toggleable__label sk-toggleable__label-arrow\">GridSearchCV</label><div class=\"sk-toggleable__content\"><pre>GridSearchCV(cv=5, estimator=KNeighborsClassifier(),\n",
       "             param_grid=[{&#x27;n_neighbors&#x27;: [5, 10, 15, 20],\n",
       "                          &#x27;weights&#x27;: [&#x27;uniform&#x27;, &#x27;distance&#x27;]}],\n",
       "             scoring=&#x27;recall&#x27;)</pre></div></div></div><div class=\"sk-parallel\"><div class=\"sk-parallel-item\"><div class=\"sk-item\"><div class=\"sk-label-container\"><div class=\"sk-label sk-toggleable\"><input class=\"sk-toggleable__control sk-hidden--visually\" id=\"sk-estimator-id-5\" type=\"checkbox\" ><label for=\"sk-estimator-id-5\" class=\"sk-toggleable__label sk-toggleable__label-arrow\">estimator: KNeighborsClassifier</label><div class=\"sk-toggleable__content\"><pre>KNeighborsClassifier()</pre></div></div></div><div class=\"sk-serial\"><div class=\"sk-item\"><div class=\"sk-estimator sk-toggleable\"><input class=\"sk-toggleable__control sk-hidden--visually\" id=\"sk-estimator-id-6\" type=\"checkbox\" ><label for=\"sk-estimator-id-6\" class=\"sk-toggleable__label sk-toggleable__label-arrow\">KNeighborsClassifier</label><div class=\"sk-toggleable__content\"><pre>KNeighborsClassifier()</pre></div></div></div></div></div></div></div></div></div></div>"
      ],
      "text/plain": [
       "GridSearchCV(cv=5, estimator=KNeighborsClassifier(),\n",
       "             param_grid=[{'n_neighbors': [5, 10, 15, 20],\n",
       "                          'weights': ['uniform', 'distance']}],\n",
       "             scoring='recall')"
      ]
     },
     "execution_count": 86,
     "metadata": {},
     "output_type": "execute_result"
    }
   ],
   "source": [
    "clf = GridSearchCV(KNeighborsClassifier(),\n",
    "                   tuned_parameters,\n",
    "                   cv=5,\n",
    "                   scoring='recall')\n",
    "\n",
    "clf.fit(x_train_scaled, y_train )"
   ]
  },
  {
   "cell_type": "code",
   "execution_count": 87,
   "metadata": {
    "execution": {
     "iopub.execute_input": "2023-10-05T20:10:27.449890Z",
     "iopub.status.busy": "2023-10-05T20:10:27.449206Z",
     "iopub.status.idle": "2023-10-05T20:10:27.453687Z",
     "shell.execute_reply": "2023-10-05T20:10:27.453047Z"
    },
    "id": "mpc3SzBiVyco"
   },
   "outputs": [
    {
     "data": {
      "text/plain": [
       "{'n_neighbors': 5, 'weights': 'distance'}"
      ]
     },
     "execution_count": 87,
     "metadata": {},
     "output_type": "execute_result"
    }
   ],
   "source": [
    "clf.best_params_"
   ]
  },
  {
   "cell_type": "code",
   "execution_count": 88,
   "metadata": {
    "execution": {
     "iopub.execute_input": "2023-10-05T20:10:27.456167Z",
     "iopub.status.busy": "2023-10-05T20:10:27.455980Z",
     "iopub.status.idle": "2023-10-05T20:10:27.460134Z",
     "shell.execute_reply": "2023-10-05T20:10:27.459452Z"
    },
    "id": "4m8WuWJXVyco"
   },
   "outputs": [
    {
     "data": {
      "text/plain": [
       "0.9461149814849683"
      ]
     },
     "execution_count": 88,
     "metadata": {},
     "output_type": "execute_result"
    }
   ],
   "source": [
    "clf.best_score_"
   ]
  },
  {
   "cell_type": "code",
   "execution_count": 89,
   "metadata": {
    "execution": {
     "iopub.execute_input": "2023-10-05T20:10:27.462945Z",
     "iopub.status.busy": "2023-10-05T20:10:27.462346Z",
     "iopub.status.idle": "2023-10-05T20:10:27.477056Z",
     "shell.execute_reply": "2023-10-05T20:10:27.476417Z"
    },
    "id": "O8cHJekUc7xF"
   },
   "outputs": [
    {
     "data": {
      "text/html": [
       "<div>\n",
       "<style scoped>\n",
       "    .dataframe tbody tr th:only-of-type {\n",
       "        vertical-align: middle;\n",
       "    }\n",
       "\n",
       "    .dataframe tbody tr th {\n",
       "        vertical-align: top;\n",
       "    }\n",
       "\n",
       "    .dataframe thead th {\n",
       "        text-align: right;\n",
       "    }\n",
       "</style>\n",
       "<table border=\"1\" class=\"dataframe\">\n",
       "  <thead>\n",
       "    <tr style=\"text-align: right;\">\n",
       "      <th></th>\n",
       "      <th>mean_fit_time</th>\n",
       "      <th>std_fit_time</th>\n",
       "      <th>mean_score_time</th>\n",
       "      <th>std_score_time</th>\n",
       "      <th>param_n_neighbors</th>\n",
       "      <th>param_weights</th>\n",
       "      <th>params</th>\n",
       "      <th>split0_test_score</th>\n",
       "      <th>split1_test_score</th>\n",
       "      <th>split2_test_score</th>\n",
       "      <th>split3_test_score</th>\n",
       "      <th>split4_test_score</th>\n",
       "      <th>mean_test_score</th>\n",
       "      <th>std_test_score</th>\n",
       "      <th>rank_test_score</th>\n",
       "    </tr>\n",
       "  </thead>\n",
       "  <tbody>\n",
       "    <tr>\n",
       "      <th>0</th>\n",
       "      <td>0.002814</td>\n",
       "      <td>0.000236</td>\n",
       "      <td>0.034092</td>\n",
       "      <td>0.001771</td>\n",
       "      <td>5</td>\n",
       "      <td>uniform</td>\n",
       "      <td>{'n_neighbors': 5, 'weights': 'uniform'}</td>\n",
       "      <td>0.882979</td>\n",
       "      <td>0.879433</td>\n",
       "      <td>0.904255</td>\n",
       "      <td>0.895575</td>\n",
       "      <td>0.881206</td>\n",
       "      <td>0.888690</td>\n",
       "      <td>0.009633</td>\n",
       "      <td>5</td>\n",
       "    </tr>\n",
       "    <tr>\n",
       "      <th>1</th>\n",
       "      <td>0.002845</td>\n",
       "      <td>0.000036</td>\n",
       "      <td>0.033831</td>\n",
       "      <td>0.000744</td>\n",
       "      <td>5</td>\n",
       "      <td>distance</td>\n",
       "      <td>{'n_neighbors': 5, 'weights': 'distance'}</td>\n",
       "      <td>0.943262</td>\n",
       "      <td>0.932624</td>\n",
       "      <td>0.953901</td>\n",
       "      <td>0.955752</td>\n",
       "      <td>0.945035</td>\n",
       "      <td>0.946115</td>\n",
       "      <td>0.008304</td>\n",
       "      <td>1</td>\n",
       "    </tr>\n",
       "    <tr>\n",
       "      <th>2</th>\n",
       "      <td>0.002779</td>\n",
       "      <td>0.000035</td>\n",
       "      <td>0.037566</td>\n",
       "      <td>0.000136</td>\n",
       "      <td>10</td>\n",
       "      <td>uniform</td>\n",
       "      <td>{'n_neighbors': 10, 'weights': 'uniform'}</td>\n",
       "      <td>0.863475</td>\n",
       "      <td>0.861702</td>\n",
       "      <td>0.877660</td>\n",
       "      <td>0.870796</td>\n",
       "      <td>0.852837</td>\n",
       "      <td>0.865294</td>\n",
       "      <td>0.008421</td>\n",
       "      <td>6</td>\n",
       "    </tr>\n",
       "    <tr>\n",
       "      <th>3</th>\n",
       "      <td>0.002716</td>\n",
       "      <td>0.000033</td>\n",
       "      <td>0.037811</td>\n",
       "      <td>0.000359</td>\n",
       "      <td>10</td>\n",
       "      <td>distance</td>\n",
       "      <td>{'n_neighbors': 10, 'weights': 'distance'}</td>\n",
       "      <td>0.939716</td>\n",
       "      <td>0.930851</td>\n",
       "      <td>0.948582</td>\n",
       "      <td>0.952212</td>\n",
       "      <td>0.945035</td>\n",
       "      <td>0.943279</td>\n",
       "      <td>0.007459</td>\n",
       "      <td>2</td>\n",
       "    </tr>\n",
       "    <tr>\n",
       "      <th>4</th>\n",
       "      <td>0.002631</td>\n",
       "      <td>0.000037</td>\n",
       "      <td>0.042504</td>\n",
       "      <td>0.000314</td>\n",
       "      <td>15</td>\n",
       "      <td>uniform</td>\n",
       "      <td>{'n_neighbors': 15, 'weights': 'uniform'}</td>\n",
       "      <td>0.865248</td>\n",
       "      <td>0.845745</td>\n",
       "      <td>0.865248</td>\n",
       "      <td>0.876106</td>\n",
       "      <td>0.858156</td>\n",
       "      <td>0.862101</td>\n",
       "      <td>0.009990</td>\n",
       "      <td>7</td>\n",
       "    </tr>\n",
       "    <tr>\n",
       "      <th>5</th>\n",
       "      <td>0.002653</td>\n",
       "      <td>0.000039</td>\n",
       "      <td>0.045685</td>\n",
       "      <td>0.002530</td>\n",
       "      <td>15</td>\n",
       "      <td>distance</td>\n",
       "      <td>{'n_neighbors': 15, 'weights': 'distance'}</td>\n",
       "      <td>0.934397</td>\n",
       "      <td>0.934397</td>\n",
       "      <td>0.945035</td>\n",
       "      <td>0.950442</td>\n",
       "      <td>0.945035</td>\n",
       "      <td>0.941862</td>\n",
       "      <td>0.006406</td>\n",
       "      <td>3</td>\n",
       "    </tr>\n",
       "    <tr>\n",
       "      <th>6</th>\n",
       "      <td>0.002642</td>\n",
       "      <td>0.000052</td>\n",
       "      <td>0.050246</td>\n",
       "      <td>0.001022</td>\n",
       "      <td>20</td>\n",
       "      <td>uniform</td>\n",
       "      <td>{'n_neighbors': 20, 'weights': 'uniform'}</td>\n",
       "      <td>0.851064</td>\n",
       "      <td>0.836879</td>\n",
       "      <td>0.863475</td>\n",
       "      <td>0.867257</td>\n",
       "      <td>0.854610</td>\n",
       "      <td>0.854657</td>\n",
       "      <td>0.010635</td>\n",
       "      <td>8</td>\n",
       "    </tr>\n",
       "    <tr>\n",
       "      <th>7</th>\n",
       "      <td>0.002657</td>\n",
       "      <td>0.000095</td>\n",
       "      <td>0.045052</td>\n",
       "      <td>0.001799</td>\n",
       "      <td>20</td>\n",
       "      <td>distance</td>\n",
       "      <td>{'n_neighbors': 20, 'weights': 'distance'}</td>\n",
       "      <td>0.934397</td>\n",
       "      <td>0.930851</td>\n",
       "      <td>0.945035</td>\n",
       "      <td>0.950442</td>\n",
       "      <td>0.943262</td>\n",
       "      <td>0.940798</td>\n",
       "      <td>0.007169</td>\n",
       "      <td>4</td>\n",
       "    </tr>\n",
       "  </tbody>\n",
       "</table>\n",
       "</div>"
      ],
      "text/plain": [
       "   mean_fit_time  std_fit_time  mean_score_time  std_score_time  \\\n",
       "0       0.002814      0.000236         0.034092        0.001771   \n",
       "1       0.002845      0.000036         0.033831        0.000744   \n",
       "2       0.002779      0.000035         0.037566        0.000136   \n",
       "3       0.002716      0.000033         0.037811        0.000359   \n",
       "4       0.002631      0.000037         0.042504        0.000314   \n",
       "5       0.002653      0.000039         0.045685        0.002530   \n",
       "6       0.002642      0.000052         0.050246        0.001022   \n",
       "7       0.002657      0.000095         0.045052        0.001799   \n",
       "\n",
       "  param_n_neighbors param_weights                                      params  \\\n",
       "0                 5       uniform    {'n_neighbors': 5, 'weights': 'uniform'}   \n",
       "1                 5      distance   {'n_neighbors': 5, 'weights': 'distance'}   \n",
       "2                10       uniform   {'n_neighbors': 10, 'weights': 'uniform'}   \n",
       "3                10      distance  {'n_neighbors': 10, 'weights': 'distance'}   \n",
       "4                15       uniform   {'n_neighbors': 15, 'weights': 'uniform'}   \n",
       "5                15      distance  {'n_neighbors': 15, 'weights': 'distance'}   \n",
       "6                20       uniform   {'n_neighbors': 20, 'weights': 'uniform'}   \n",
       "7                20      distance  {'n_neighbors': 20, 'weights': 'distance'}   \n",
       "\n",
       "   split0_test_score  split1_test_score  split2_test_score  split3_test_score  \\\n",
       "0           0.882979           0.879433           0.904255           0.895575   \n",
       "1           0.943262           0.932624           0.953901           0.955752   \n",
       "2           0.863475           0.861702           0.877660           0.870796   \n",
       "3           0.939716           0.930851           0.948582           0.952212   \n",
       "4           0.865248           0.845745           0.865248           0.876106   \n",
       "5           0.934397           0.934397           0.945035           0.950442   \n",
       "6           0.851064           0.836879           0.863475           0.867257   \n",
       "7           0.934397           0.930851           0.945035           0.950442   \n",
       "\n",
       "   split4_test_score  mean_test_score  std_test_score  rank_test_score  \n",
       "0           0.881206         0.888690        0.009633                5  \n",
       "1           0.945035         0.946115        0.008304                1  \n",
       "2           0.852837         0.865294        0.008421                6  \n",
       "3           0.945035         0.943279        0.007459                2  \n",
       "4           0.858156         0.862101        0.009990                7  \n",
       "5           0.945035         0.941862        0.006406                3  \n",
       "6           0.854610         0.854657        0.010635                8  \n",
       "7           0.943262         0.940798        0.007169                4  "
      ]
     },
     "execution_count": 89,
     "metadata": {},
     "output_type": "execute_result"
    }
   ],
   "source": [
    "pd.DataFrame(clf.cv_results_)"
   ]
  },
  {
   "cell_type": "code",
   "execution_count": null,
   "metadata": {
    "id": "dg-PfpnMc-dU"
   },
   "outputs": [],
   "source": []
  }
 ],
 "metadata": {
  "colab": {
   "name": "Classification_HR_Attrition_Analysis.ipynb",
   "provenance": []
  },
  "hide_input": false,
  "kernelspec": {
   "display_name": "Python 3 (ipykernel)",
   "language": "python",
   "name": "python3"
  },
  "language_info": {
   "codemirror_mode": {
    "name": "ipython",
    "version": 3
   },
   "file_extension": ".py",
   "mimetype": "text/x-python",
   "name": "python",
   "nbconvert_exporter": "python",
   "pygments_lexer": "ipython3",
   "version": "3.9.13"
  }
 },
 "nbformat": 4,
 "nbformat_minor": 1
}
