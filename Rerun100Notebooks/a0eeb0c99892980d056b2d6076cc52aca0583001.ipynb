{
 "cells": [
  {
   "cell_type": "code",
   "execution_count": 2,
   "id": "3124b1b8",
   "metadata": {
    "execution": {
     "iopub.execute_input": "2023-10-05T12:32:02.499706Z",
     "iopub.status.busy": "2023-10-05T12:32:02.499418Z",
     "iopub.status.idle": "2023-10-05T12:32:02.574299Z",
     "shell.execute_reply": "2023-10-05T12:32:02.573278Z"
    }
   },
   "outputs": [],
   "source": [
    "import numpy as np"
   ]
  },
  {
   "cell_type": "markdown",
   "id": "d219b1a2",
   "metadata": {},
   "source": [
    "## Non Graded Challenge 3"
   ]
  },
  {
   "cell_type": "code",
   "execution_count": 3,
   "id": "7faa8dba",
   "metadata": {
    "execution": {
     "iopub.execute_input": "2023-10-05T12:32:02.578236Z",
     "iopub.status.busy": "2023-10-05T12:32:02.577493Z",
     "iopub.status.idle": "2023-10-05T12:32:02.587302Z",
     "shell.execute_reply": "2023-10-05T12:32:02.586421Z"
    },
    "type_information": "[{\"type\": \"<class 'numpy.ndarray'>\", \"name\": \"ndarray\", \"module\": \"numpy\", \"size\": 136, \"shape\": \"(3,)\", \"dtype\": \"int64\"}]"
   },
   "outputs": [
    {
     "data": {
      "text/plain": [
       "array([17, 22, 19])"
      ]
     },
     "execution_count": 3,
     "metadata": {},
     "output_type": "execute_result"
    }
   ],
   "source": [
    "A = np.array ([17,22,19])\n",
    "A"
   ]
  },
  {
   "cell_type": "code",
   "execution_count": 5,
   "id": "6471e90d",
   "metadata": {
    "execution": {
     "iopub.execute_input": "2023-10-05T12:32:02.599887Z",
     "iopub.status.busy": "2023-10-05T12:32:02.599274Z",
     "iopub.status.idle": "2023-10-05T12:32:02.603755Z",
     "shell.execute_reply": "2023-10-05T12:32:02.602849Z"
    }
   },
   "outputs": [],
   "source": [
    "B = np.array ([10,20,11])\n",
    "C = np.array ([5,12,9])"
   ]
  },
  {
   "cell_type": "code",
   "execution_count": 6,
   "id": "c0237904",
   "metadata": {
    "execution": {
     "iopub.execute_input": "2023-10-05T12:32:02.606858Z",
     "iopub.status.busy": "2023-10-05T12:32:02.606575Z",
     "iopub.status.idle": "2023-10-05T12:32:02.612167Z",
     "shell.execute_reply": "2023-10-05T12:32:02.611261Z"
    },
    "type_information": "[{\"type\": \"<class 'numpy.ndarray'>\", \"name\": \"ndarray\", \"module\": \"numpy\", \"size\": 136, \"shape\": \"(3,)\", \"dtype\": \"int64\"}]"
   },
   "outputs": [
    {
     "data": {
      "text/plain": [
       "array([27, 42, 30])"
      ]
     },
     "execution_count": 6,
     "metadata": {},
     "output_type": "execute_result"
    }
   ],
   "source": [
    "A+B"
   ]
  },
  {
   "cell_type": "code",
   "execution_count": 8,
   "id": "4429517f",
   "metadata": {
    "execution": {
     "iopub.execute_input": "2023-10-05T12:32:02.624196Z",
     "iopub.status.busy": "2023-10-05T12:32:02.623892Z",
     "iopub.status.idle": "2023-10-05T12:32:02.629747Z",
     "shell.execute_reply": "2023-10-05T12:32:02.628817Z"
    },
    "type_information": "[{\"type\": \"<class 'numpy.ndarray'>\", \"name\": \"ndarray\", \"module\": \"numpy\", \"size\": 136, \"shape\": \"(3,)\", \"dtype\": \"int64\"}]"
   },
   "outputs": [
    {
     "data": {
      "text/plain": [
       "array([5, 8, 2])"
      ]
     },
     "execution_count": 8,
     "metadata": {},
     "output_type": "execute_result"
    }
   ],
   "source": [
    "B-C"
   ]
  },
  {
   "cell_type": "code",
   "execution_count": 10,
   "id": "d6fdd26a",
   "metadata": {
    "execution": {
     "iopub.execute_input": "2023-10-05T12:32:02.641923Z",
     "iopub.status.busy": "2023-10-05T12:32:02.641634Z",
     "iopub.status.idle": "2023-10-05T12:32:02.647507Z",
     "shell.execute_reply": "2023-10-05T12:32:02.646566Z"
    },
    "type_information": "[{\"type\": \"<class 'numpy.int64'>\", \"name\": \"int64\", \"module\": \"numpy\", \"size\": 32}]"
   },
   "outputs": [
    {
     "data": {
      "text/plain": [
       "819"
      ]
     },
     "execution_count": 10,
     "metadata": {},
     "output_type": "execute_result"
    }
   ],
   "source": [
    "#A . B\n",
    "A @ B"
   ]
  },
  {
   "cell_type": "code",
   "execution_count": 12,
   "id": "07e7c35c",
   "metadata": {
    "execution": {
     "iopub.execute_input": "2023-10-05T12:32:02.660471Z",
     "iopub.status.busy": "2023-10-05T12:32:02.659700Z",
     "iopub.status.idle": "2023-10-05T12:32:02.665669Z",
     "shell.execute_reply": "2023-10-05T12:32:02.664703Z"
    },
    "type_information": "[{\"type\": \"<class 'numpy.int64'>\", \"name\": \"int64\", \"module\": \"numpy\", \"size\": 32}]"
   },
   "outputs": [
    {
     "data": {
      "text/plain": [
       "819"
      ]
     },
     "execution_count": 12,
     "metadata": {},
     "output_type": "execute_result"
    }
   ],
   "source": [
    "A.dot(B)"
   ]
  },
  {
   "cell_type": "code",
   "execution_count": 14,
   "id": "c7885e5c",
   "metadata": {
    "execution": {
     "iopub.execute_input": "2023-10-05T12:32:02.678541Z",
     "iopub.status.busy": "2023-10-05T12:32:02.678257Z",
     "iopub.status.idle": "2023-10-05T12:32:02.684047Z",
     "shell.execute_reply": "2023-10-05T12:32:02.683091Z"
    },
    "type_information": "[{\"type\": \"<class 'numpy.ndarray'>\", \"name\": \"ndarray\", \"module\": \"numpy\", \"size\": 136, \"shape\": \"(3,)\", \"dtype\": \"int64\"}]"
   },
   "outputs": [
    {
     "data": {
      "text/plain": [
       "array([170, 440, 209])"
      ]
     },
     "execution_count": 14,
     "metadata": {},
     "output_type": "execute_result"
    }
   ],
   "source": [
    "#A X B\n",
    "A * B"
   ]
  },
  {
   "cell_type": "code",
   "execution_count": 16,
   "id": "886a6aa6",
   "metadata": {
    "execution": {
     "iopub.execute_input": "2023-10-05T12:32:02.697282Z",
     "iopub.status.busy": "2023-10-05T12:32:02.696491Z",
     "iopub.status.idle": "2023-10-05T12:32:02.702849Z",
     "shell.execute_reply": "2023-10-05T12:32:02.701910Z"
    },
    "type_information": "[{\"type\": \"<class 'numpy.float64'>\", \"name\": \"float64\", \"module\": \"numpy\", \"size\": 32}]"
   },
   "outputs": [
    {
     "data": {
      "text/plain": [
       "33.67491648096547"
      ]
     },
     "execution_count": 16,
     "metadata": {},
     "output_type": "execute_result"
    }
   ],
   "source": [
    "#norm A\n",
    "v_norm = np.linalg.norm(A)\n",
    "v_norm"
   ]
  },
  {
   "cell_type": "code",
   "execution_count": 18,
   "id": "32d670bc",
   "metadata": {
    "execution": {
     "iopub.execute_input": "2023-10-05T12:32:02.716624Z",
     "iopub.status.busy": "2023-10-05T12:32:02.715956Z",
     "iopub.status.idle": "2023-10-05T12:32:02.722722Z",
     "shell.execute_reply": "2023-10-05T12:32:02.721756Z"
    },
    "type_information": "[{\"type\": \"<class 'numpy.float64'>\", \"name\": \"float64\", \"module\": \"numpy\", \"size\": 32}]"
   },
   "outputs": [
    {
     "data": {
      "text/plain": [
       "0.9759590023331435"
      ]
     },
     "execution_count": 18,
     "metadata": {},
     "output_type": "execute_result"
    }
   ],
   "source": [
    "cos_AB = A @ B / (np.linalg.norm(A)*np.linalg.norm(B))\n",
    "cos_AB"
   ]
  },
  {
   "cell_type": "code",
   "execution_count": 20,
   "id": "f3f3d1c7",
   "metadata": {
    "execution": {
     "iopub.execute_input": "2023-10-05T12:32:02.735959Z",
     "iopub.status.busy": "2023-10-05T12:32:02.735139Z",
     "iopub.status.idle": "2023-10-05T12:32:02.741663Z",
     "shell.execute_reply": "2023-10-05T12:32:02.740656Z"
    },
    "type_information": "[{\"type\": \"<class 'numpy.float64'>\", \"name\": \"float64\", \"module\": \"numpy\", \"size\": 32}]"
   },
   "outputs": [
    {
     "data": {
      "text/plain": [
       "12.588900662180242"
      ]
     },
     "execution_count": 20,
     "metadata": {},
     "output_type": "execute_result"
    }
   ],
   "source": [
    "#SudutantaravektorA dan B\n",
    "deg_AB = np.degrees(np.arccos(cos_AB))\n",
    "deg_AB"
   ]
  },
  {
   "cell_type": "code",
   "execution_count": 22,
   "id": "0b2c4cc3",
   "metadata": {
    "error": [
     {
      "ename": "KeyError",
      "evalue": "22",
      "output_type": "error",
      "traceback": [
       "\u001b[0;31m---------------------------------------------------------------------------\u001b[0m",
       "\u001b[0;31mKeyError\u001b[0m                                  Traceback (most recent call last)",
       "Cell \u001b[0;32mIn[23], line 1\u001b[0m\n\u001b[0;32m----> 1\u001b[0m json\u001b[38;5;241m.\u001b[39mdumps([typehandlerforuniqueobjects(\u001b[43mOut\u001b[49m\u001b[43m[\u001b[49m\u001b[38;5;241;43m22\u001b[39;49m\u001b[43m]\u001b[49m)])\n",
       "\u001b[0;31mKeyError\u001b[0m: 22"
      ]
     }
    ],
    "execution": {
     "iopub.execute_input": "2023-10-05T12:32:02.754890Z",
     "iopub.status.busy": "2023-10-05T12:32:02.754047Z",
     "iopub.status.idle": "2023-10-05T12:32:03.729797Z",
     "shell.execute_reply": "2023-10-05T12:32:03.728669Z"
    }
   },
   "outputs": [
    {
     "data": {
      "image/png": "[encoded data removed]",
      "text/plain": [
       "<Figure size 640x480 with 1 Axes>"
      ]
     },
     "metadata": {},
     "output_type": "display_data"
    }
   ],
   "source": [
    "#3. Plot 2D\n",
    "u = np.array([2,5])\n",
    "v = np.array([3,1])\n",
    "\n",
    "import matplotlib.pyplot as plt\n",
    "\n",
    "def plot_vector2d(vector2d, origin=[0, 0], **options):\n",
    "    return plt.arrow(origin[0], origin[1], vector2d[0], vector2d[1],\n",
    "              head_width=0.2, head_length=0.3, length_includes_head=True,\n",
    "              **options)\n",
    "\n",
    "plot_vector2d(u, color='r')\n",
    "plot_vector2d(v, color='g')\n",
    "\n",
    "plt.axis([0,5,0,5]) # rentang axis sumbu x dan y\n",
    "plt.axvline(0)\n",
    "plt.axhline(0)\n",
    "plt.grid()\n",
    "plt.show()"
   ]
  },
  {
   "cell_type": "markdown",
   "id": "07c7cc8e",
   "metadata": {},
   "source": [
    "## Non Graded Challenge 4"
   ]
  },
  {
   "cell_type": "code",
   "execution_count": 24,
   "id": "5b1fe3bd",
   "metadata": {
    "execution": {
     "iopub.execute_input": "2023-10-05T12:32:04.048626Z",
     "iopub.status.busy": "2023-10-05T12:32:04.048361Z",
     "iopub.status.idle": "2023-10-05T12:32:04.057304Z",
     "shell.execute_reply": "2023-10-05T12:32:04.056244Z"
    },
    "type_information": "[{\"type\": \"<class 'numpy.ndarray'>\", \"name\": \"ndarray\", \"module\": \"numpy\", \"size\": 272, \"shape\": \"(4, 2, 2)\", \"dtype\": \"int64\"}]"
   },
   "outputs": [
    {
     "data": {
      "text/plain": [
       "array([[[23, 50],\n",
       "        [ 7, 12]],\n",
       "\n",
       "       [[57, 67],\n",
       "        [99, 43]],\n",
       "\n",
       "       [[75, 21],\n",
       "        [57, 12]],\n",
       "\n",
       "       [[87, 26],\n",
       "        [18, 84]]])"
      ]
     },
     "execution_count": 24,
     "metadata": {},
     "output_type": "execute_result"
    }
   ],
   "source": [
    "# 1. Buatlah Tensor di bawah ini dengan Python:\n",
    "\n",
    "M1 = np.array([[23,50],[7,12]])\n",
    "M2 = np.array([[57,67],[99,43]])\n",
    "M3 = np.array([[75,21],[57,12]])\n",
    "M4 = np.array([[87,26],[18,84]])\n",
    "\n",
    "T = np.array([M1,M2,M3,M4])\n",
    "T"
   ]
  },
  {
   "cell_type": "code",
   "execution_count": 26,
   "id": "0e02f18d",
   "metadata": {
    "error": [
     {
      "ename": "KeyError",
      "evalue": "26",
      "output_type": "error",
      "traceback": [
       "\u001b[0;31m---------------------------------------------------------------------------\u001b[0m",
       "\u001b[0;31mKeyError\u001b[0m                                  Traceback (most recent call last)",
       "Cell \u001b[0;32mIn[27], line 1\u001b[0m\n\u001b[0;32m----> 1\u001b[0m json\u001b[38;5;241m.\u001b[39mdumps([typehandlerforuniqueobjects(\u001b[43mOut\u001b[49m\u001b[43m[\u001b[49m\u001b[38;5;241;43m26\u001b[39;49m\u001b[43m]\u001b[49m)])\n",
       "\u001b[0;31mKeyError\u001b[0m: 26"
      ]
     }
    ],
    "execution": {
     "iopub.execute_input": "2023-10-05T12:32:04.070469Z",
     "iopub.status.busy": "2023-10-05T12:32:04.070218Z",
     "iopub.status.idle": "2023-10-05T12:32:04.076488Z",
     "shell.execute_reply": "2023-10-05T12:32:04.075519Z"
    }
   },
   "outputs": [
    {
     "name": "stdout",
     "output_type": "stream",
     "text": [
      "[[ 23  50  19]\n",
      " [  7  12 109]\n",
      " [ 57  67  98]]\n",
      "[17 22 19]\n"
     ]
    }
   ],
   "source": [
    "A = np.array([[23,50,19],[7,12,109],[57,67,98]])\n",
    "B = np.array([17,22,19])\n",
    "\n",
    "print(A)\n",
    "print(B)"
   ]
  },
  {
   "cell_type": "code",
   "execution_count": 28,
   "id": "3f5ec9c1",
   "metadata": {
    "execution": {
     "iopub.execute_input": "2023-10-05T12:32:04.105876Z",
     "iopub.status.busy": "2023-10-05T12:32:04.105627Z",
     "iopub.status.idle": "2023-10-05T12:32:04.111274Z",
     "shell.execute_reply": "2023-10-05T12:32:04.110390Z"
    },
    "type_information": "[{\"type\": \"<class 'numpy.ndarray'>\", \"name\": \"ndarray\", \"module\": \"numpy\", \"size\": 136, \"shape\": \"(3,)\", \"dtype\": \"int64\"}]"
   },
   "outputs": [
    {
     "data": {
      "text/plain": [
       "array([1852, 2454, 4305])"
      ]
     },
     "execution_count": 28,
     "metadata": {},
     "output_type": "execute_result"
    }
   ],
   "source": [
    "#Perkalian Matrix\n",
    "A @ B"
   ]
  },
  {
   "cell_type": "code",
   "execution_count": 30,
   "id": "49daaa09",
   "metadata": {
    "execution": {
     "iopub.execute_input": "2023-10-05T12:32:04.123807Z",
     "iopub.status.busy": "2023-10-05T12:32:04.123549Z",
     "iopub.status.idle": "2023-10-05T12:32:04.129275Z",
     "shell.execute_reply": "2023-10-05T12:32:04.128387Z"
    },
    "type_information": "[{\"type\": \"<class 'numpy.ndarray'>\", \"name\": \"ndarray\", \"module\": \"numpy\", \"size\": 128, \"shape\": \"(3, 3)\", \"dtype\": \"int64\"}]"
   },
   "outputs": [
    {
     "data": {
      "text/plain": [
       "array([[ 23,   7,  57],\n",
       "       [ 50,  12,  67],\n",
       "       [ 19, 109,  98]])"
      ]
     },
     "execution_count": 30,
     "metadata": {},
     "output_type": "execute_result"
    }
   ],
   "source": [
    "#Transpose\n",
    "A.T"
   ]
  },
  {
   "cell_type": "code",
   "execution_count": 32,
   "id": "94ccb58f",
   "metadata": {
    "execution": {
     "iopub.execute_input": "2023-10-05T12:32:04.141447Z",
     "iopub.status.busy": "2023-10-05T12:32:04.141197Z",
     "iopub.status.idle": "2023-10-05T12:32:04.147295Z",
     "shell.execute_reply": "2023-10-05T12:32:04.146365Z"
    },
    "type_information": "[{\"type\": \"<class 'numpy.float64'>\", \"name\": \"float64\", \"module\": \"numpy\", \"size\": 32}]"
   },
   "outputs": [
    {
     "data": {
      "text/plain": [
       "131344.0000000002"
      ]
     },
     "execution_count": 32,
     "metadata": {},
     "output_type": "execute_result"
    }
   ],
   "source": [
    "#determinan\n",
    "np.linalg.det(A)"
   ]
  },
  {
   "cell_type": "code",
   "execution_count": 34,
   "id": "1242ebcc",
   "metadata": {
    "execution": {
     "iopub.execute_input": "2023-10-05T12:32:04.159585Z",
     "iopub.status.busy": "2023-10-05T12:32:04.159334Z",
     "iopub.status.idle": "2023-10-05T12:32:04.165511Z",
     "shell.execute_reply": "2023-10-05T12:32:04.164504Z"
    },
    "scrolled": true,
    "type_information": "[{\"type\": \"<class 'numpy.ndarray'>\", \"name\": \"ndarray\", \"module\": \"numpy\", \"size\": 200, \"shape\": \"(3, 3)\", \"dtype\": \"float64\"}]"
   },
   "outputs": [
    {
     "data": {
      "text/plain": [
       "array([[-0.0466485 , -0.02761451,  0.03975819],\n",
       "       [ 0.04208034,  0.00891552, -0.01807467],\n",
       "       [-0.00163692,  0.0099662 , -0.00056341]])"
      ]
     },
     "execution_count": 34,
     "metadata": {},
     "output_type": "execute_result"
    }
   ],
   "source": [
    "#Inverse\n",
    "np.linalg.inv(A)"
   ]
  },
  {
   "cell_type": "markdown",
   "id": "288b6aa5",
   "metadata": {},
   "source": [
    "## Non Graded Challenge 5"
   ]
  },
  {
   "cell_type": "code",
   "execution_count": 36,
   "id": "7a23a562",
   "metadata": {
    "execution": {
     "iopub.execute_input": "2023-10-05T12:32:04.178200Z",
     "iopub.status.busy": "2023-10-05T12:32:04.177450Z",
     "iopub.status.idle": "2023-10-05T12:32:04.183846Z",
     "shell.execute_reply": "2023-10-05T12:32:04.182962Z"
    },
    "type_information": "[{\"type\": \"<class 'numpy.ndarray'>\", \"name\": \"ndarray\", \"module\": \"numpy\", \"size\": 160, \"shape\": \"(2, 2)\", \"dtype\": \"int64\"}]"
   },
   "outputs": [
    {
     "data": {
      "text/plain": [
       "array([[ 1, -1],\n",
       "       [ 6,  4]])"
      ]
     },
     "execution_count": 36,
     "metadata": {},
     "output_type": "execute_result"
    }
   ],
   "source": [
    "#Eigenvector\n",
    "A = np.array([[1,-1],[6,4]])\n",
    "Ev = np.array([1,3])\n",
    "A"
   ]
  },
  {
   "cell_type": "code",
   "execution_count": 38,
   "id": "c8fe7962",
   "metadata": {
    "error": [
     {
      "ename": "KeyError",
      "evalue": "38",
      "output_type": "error",
      "traceback": [
       "\u001b[0;31m---------------------------------------------------------------------------\u001b[0m",
       "\u001b[0;31mKeyError\u001b[0m                                  Traceback (most recent call last)",
       "Cell \u001b[0;32mIn[39], line 1\u001b[0m\n\u001b[0;32m----> 1\u001b[0m json\u001b[38;5;241m.\u001b[39mdumps([typehandlerforuniqueobjects(\u001b[43mOut\u001b[49m\u001b[43m[\u001b[49m\u001b[38;5;241;43m38\u001b[39;49m\u001b[43m]\u001b[49m)])\n",
       "\u001b[0;31mKeyError\u001b[0m: 38"
      ]
     }
    ],
    "execution": {
     "iopub.execute_input": "2023-10-05T12:32:04.196834Z",
     "iopub.status.busy": "2023-10-05T12:32:04.196051Z",
     "iopub.status.idle": "2023-10-05T12:32:04.202819Z",
     "shell.execute_reply": "2023-10-05T12:32:04.201859Z"
    }
   },
   "outputs": [
    {
     "name": "stdout",
     "output_type": "stream",
     "text": [
      "[2.5+1.93649167j 2.5-1.93649167j] \n",
      "\n",
      "[[ 0.23145502-0.29880715j  0.23145502+0.29880715j]\n",
      " [-0.9258201 +0.j         -0.9258201 -0.j        ]]\n"
     ]
    }
   ],
   "source": [
    "values, vector = np.linalg.eig(A)\n",
    "print(values, '\\n')\n",
    "print(vector)"
   ]
  },
  {
   "cell_type": "code",
   "execution_count": 40,
   "id": "99a7c61f",
   "metadata": {
    "execution": {
     "iopub.execute_input": "2023-10-05T12:32:04.231989Z",
     "iopub.status.busy": "2023-10-05T12:32:04.231238Z",
     "iopub.status.idle": "2023-10-05T12:32:04.237364Z",
     "shell.execute_reply": "2023-10-05T12:32:04.236480Z"
    },
    "type_information": "[{\"type\": \"<class 'list'>\", \"name\": \"list\", \"module\": \"builtins\", \"size\": 72, \"data\": [{\"type\": \"<class 'numpy.complex128'>\", \"name\": \"complex128\", \"module\": \"numpy\", \"size\": 48}, {\"type\": \"<class 'numpy.complex128'>\", \"name\": \"complex128\", \"module\": \"numpy\", \"size\": 48}]}]"
   },
   "outputs": [
    {
     "data": {
      "text/plain": [
       "[(0.5320844700362038-0.18197220379275678j),\n",
       " (1.0641689400724077+0.36394440758551355j)]"
      ]
     },
     "execution_count": 40,
     "metadata": {},
     "output_type": "execute_result"
    }
   ],
   "source": [
    "[1/np.sqrt(2.5+1.93649167j), 2/np.sqrt(2.5-1.93649167j)]"
   ]
  },
  {
   "cell_type": "code",
   "execution_count": 42,
   "id": "5706bf0b",
   "metadata": {
    "execution": {
     "iopub.execute_input": "2023-10-05T12:32:04.250173Z",
     "iopub.status.busy": "2023-10-05T12:32:04.249624Z",
     "iopub.status.idle": "2023-10-05T12:32:04.255710Z",
     "shell.execute_reply": "2023-10-05T12:32:04.254822Z"
    },
    "type_information": "[{\"type\": \"<class 'numpy.ndarray'>\", \"name\": \"ndarray\", \"module\": \"numpy\", \"size\": 144, \"shape\": \"(2,)\", \"dtype\": \"complex128\"}]"
   },
   "outputs": [
    {
     "data": {
      "text/plain": [
       "array([-1.15727512+0.29880715j,  2.31455028+1.7928429j ])"
      ]
     },
     "execution_count": 42,
     "metadata": {},
     "output_type": "execute_result"
    }
   ],
   "source": [
    "Ev2 = np.array([-0.23145502+0.29880715j , 0.9258201 +0.j])\n",
    "A @ Ev2"
   ]
  },
  {
   "cell_type": "markdown",
   "id": "04b62656",
   "metadata": {},
   "source": [
    "## Non Graded Challenge 6"
   ]
  },
  {
   "cell_type": "code",
   "execution_count": 44,
   "id": "bc0f85c6",
   "metadata": {
    "execution": {
     "iopub.execute_input": "2023-10-05T12:32:04.267526Z",
     "iopub.status.busy": "2023-10-05T12:32:04.267275Z",
     "iopub.status.idle": "2023-10-05T12:32:04.593597Z",
     "shell.execute_reply": "2023-10-05T12:32:04.592403Z"
    }
   },
   "outputs": [],
   "source": [
    "import sympy as sy\n",
    "x = sy.Symbol('x')\n",
    "#y = sy.Symbol('y')"
   ]
  },
  {
   "cell_type": "code",
   "execution_count": 45,
   "id": "01d40ca7",
   "metadata": {
    "execution": {
     "iopub.execute_input": "2023-10-05T12:32:04.597924Z",
     "iopub.status.busy": "2023-10-05T12:32:04.597591Z",
     "iopub.status.idle": "2023-10-05T12:32:04.656038Z",
     "shell.execute_reply": "2023-10-05T12:32:04.654940Z"
    },
    "type_information": "[{\"type\": \"<class 'sympy.core.add.Add'>\", \"name\": \"Add\", \"module\": \"sympy.core.add\", \"size\": 64}]"
   },
   "outputs": [
    {
     "data": {
      "text/latex": [
       "$\\displaystyle 2 x + 2$"
      ],
      "text/plain": [
       "2*x + 2"
      ]
     },
     "execution_count": 45,
     "metadata": {},
     "output_type": "execute_result"
    }
   ],
   "source": [
    "y = x**2 + 2*x + 1\n",
    "y.diff()"
   ]
  },
  {
   "cell_type": "code",
   "execution_count": 47,
   "id": "a14bf6e6",
   "metadata": {
    "execution": {
     "iopub.execute_input": "2023-10-05T12:32:04.669077Z",
     "iopub.status.busy": "2023-10-05T12:32:04.668863Z",
     "iopub.status.idle": "2023-10-05T12:32:04.682714Z",
     "shell.execute_reply": "2023-10-05T12:32:04.681871Z"
    },
    "type_information": "[{\"type\": \"<class 'sympy.core.add.Add'>\", \"name\": \"Add\", \"module\": \"sympy.core.add\", \"size\": 64}]"
   },
   "outputs": [
    {
     "data": {
      "text/latex": [
       "$\\displaystyle 12 x^{2} - 6 x + 2$"
      ],
      "text/plain": [
       "12*x**2 - 6*x + 2"
      ]
     },
     "execution_count": 47,
     "metadata": {},
     "output_type": "execute_result"
    }
   ],
   "source": [
    "g = 4*x**3 - 3*x**2 + 2*x -1\n",
    "g.diff()"
   ]
  },
  {
   "cell_type": "markdown",
   "id": "3e598dba",
   "metadata": {},
   "source": [
    "## Non Graded Challenge 7"
   ]
  },
  {
   "cell_type": "code",
   "execution_count": 49,
   "id": "0f8a0d1f",
   "metadata": {
    "execution": {
     "iopub.execute_input": "2023-10-05T12:32:04.694776Z",
     "iopub.status.busy": "2023-10-05T12:32:04.694561Z",
     "iopub.status.idle": "2023-10-05T12:32:04.699086Z",
     "shell.execute_reply": "2023-10-05T12:32:04.698194Z"
    }
   },
   "outputs": [],
   "source": [
    "f = 3*x + 4*y -5"
   ]
  },
  {
   "cell_type": "code",
   "execution_count": 50,
   "id": "beac95fe",
   "metadata": {
    "execution": {
     "iopub.execute_input": "2023-10-05T12:32:04.702077Z",
     "iopub.status.busy": "2023-10-05T12:32:04.701866Z",
     "iopub.status.idle": "2023-10-05T12:32:04.709291Z",
     "shell.execute_reply": "2023-10-05T12:32:04.708402Z"
    },
    "type_information": "[{\"type\": \"<class 'sympy.core.add.Add'>\", \"name\": \"Add\", \"module\": \"sympy.core.add\", \"size\": 64}]"
   },
   "outputs": [
    {
     "data": {
      "text/latex": [
       "$\\displaystyle 3 x + 4 y - 5$"
      ],
      "text/plain": [
       "3*x + 4*y - 5"
      ]
     },
     "execution_count": 50,
     "metadata": {},
     "output_type": "execute_result"
    }
   ],
   "source": [
    "x,y,z = sy.symbols('x y z')\n",
    "f = 3*x + 4*y -5\n",
    "f"
   ]
  },
  {
   "cell_type": "code",
   "execution_count": 52,
   "id": "bf1ad1de",
   "metadata": {
    "execution": {
     "iopub.execute_input": "2023-10-05T12:32:04.721232Z",
     "iopub.status.busy": "2023-10-05T12:32:04.721022Z",
     "iopub.status.idle": "2023-10-05T12:32:04.726928Z",
     "shell.execute_reply": "2023-10-05T12:32:04.726094Z"
    },
    "type_information": "[{\"type\": \"<class 'sympy.core.numbers.Integer'>\", \"name\": \"Integer\", \"module\": \"sympy.core.numbers\", \"size\": 72}]"
   },
   "outputs": [
    {
     "data": {
      "text/latex": [
       "$\\displaystyle 3$"
      ],
      "text/plain": [
       "3"
      ]
     },
     "execution_count": 52,
     "metadata": {},
     "output_type": "execute_result"
    }
   ],
   "source": [
    "f.diff(x)"
   ]
  },
  {
   "cell_type": "code",
   "execution_count": 54,
   "id": "de8a1b19",
   "metadata": {
    "execution": {
     "iopub.execute_input": "2023-10-05T12:32:04.737966Z",
     "iopub.status.busy": "2023-10-05T12:32:04.737759Z",
     "iopub.status.idle": "2023-10-05T12:32:04.743783Z",
     "shell.execute_reply": "2023-10-05T12:32:04.742949Z"
    },
    "type_information": "[{\"type\": \"<class 'sympy.core.numbers.Integer'>\", \"name\": \"Integer\", \"module\": \"sympy.core.numbers\", \"size\": 72}]"
   },
   "outputs": [
    {
     "data": {
      "text/latex": [
       "$\\displaystyle 4$"
      ],
      "text/plain": [
       "4"
      ]
     },
     "execution_count": 54,
     "metadata": {},
     "output_type": "execute_result"
    }
   ],
   "source": [
    "f.diff(y)"
   ]
  },
  {
   "cell_type": "markdown",
   "id": "bec6d209",
   "metadata": {},
   "source": [
    "## Non Graded Challenge 8"
   ]
  },
  {
   "cell_type": "code",
   "execution_count": 56,
   "id": "559092cb",
   "metadata": {
    "execution": {
     "iopub.execute_input": "2023-10-05T12:32:04.755664Z",
     "iopub.status.busy": "2023-10-05T12:32:04.755454Z",
     "iopub.status.idle": "2023-10-05T12:32:04.762341Z",
     "shell.execute_reply": "2023-10-05T12:32:04.761482Z"
    },
    "type_information": "[{\"type\": \"<class 'sympy.core.add.Add'>\", \"name\": \"Add\", \"module\": \"sympy.core.add\", \"size\": 64}]"
   },
   "outputs": [
    {
     "data": {
      "text/latex": [
       "$\\displaystyle 3 x^{3} - 6 x + 3$"
      ],
      "text/plain": [
       "3*x**3 - 6*x + 3"
      ]
     },
     "execution_count": 56,
     "metadata": {},
     "output_type": "execute_result"
    }
   ],
   "source": [
    "x = sy.Symbol('x')\n",
    "f = 3*x**3-6*x+3\n",
    "f"
   ]
  },
  {
   "cell_type": "code",
   "execution_count": 58,
   "id": "a605cfe4",
   "metadata": {
    "execution": {
     "iopub.execute_input": "2023-10-05T12:32:04.774095Z",
     "iopub.status.busy": "2023-10-05T12:32:04.773890Z",
     "iopub.status.idle": "2023-10-05T12:32:04.807731Z",
     "shell.execute_reply": "2023-10-05T12:32:04.806869Z"
    },
    "type_information": "[{\"type\": \"<class 'sympy.core.add.Add'>\", \"name\": \"Add\", \"module\": \"sympy.core.add\", \"size\": 64}]"
   },
   "outputs": [
    {
     "data": {
      "text/latex": [
       "$\\displaystyle \\frac{3 x^{4}}{4} - 3 x^{2} + 3 x$"
      ],
      "text/plain": [
       "3*x**4/4 - 3*x**2 + 3*x"
      ]
     },
     "execution_count": 58,
     "metadata": {},
     "output_type": "execute_result"
    }
   ],
   "source": [
    "sy.integrate(f)"
   ]
  },
  {
   "cell_type": "code",
   "execution_count": 60,
   "id": "a0a88437",
   "metadata": {
    "execution": {
     "iopub.execute_input": "2023-10-05T12:32:04.819050Z",
     "iopub.status.busy": "2023-10-05T12:32:04.818842Z",
     "iopub.status.idle": "2023-10-05T12:32:04.831805Z",
     "shell.execute_reply": "2023-10-05T12:32:04.830959Z"
    },
    "scrolled": true,
    "type_information": "[{\"type\": \"<class 'sympy.core.add.Add'>\", \"name\": \"Add\", \"module\": \"sympy.core.add\", \"size\": 64}]"
   },
   "outputs": [
    {
     "data": {
      "text/latex": [
       "$\\displaystyle 2 x^{4} - \\frac{x^{3}}{3} + \\frac{5 x^{2}}{2} - x$"
      ],
      "text/plain": [
       "2*x**4 - x**3/3 + 5*x**2/2 - x"
      ]
     },
     "execution_count": 60,
     "metadata": {},
     "output_type": "execute_result"
    }
   ],
   "source": [
    "g = 8*x**3 - x**2 +5*x - 1\n",
    "sy.integrate(g)"
   ]
  },
  {
   "cell_type": "markdown",
   "id": "3600b6ff",
   "metadata": {},
   "source": [
    "## Non Graded Challenge 8"
   ]
  },
  {
   "cell_type": "code",
   "execution_count": null,
   "id": "eb9c0816",
   "metadata": {},
   "outputs": [],
   "source": []
  },
  {
   "cell_type": "markdown",
   "id": "4ce960d2",
   "metadata": {},
   "source": [
    "## Non Graded Challenge 9"
   ]
  },
  {
   "cell_type": "code",
   "execution_count": null,
   "id": "e938da94",
   "metadata": {},
   "outputs": [],
   "source": []
  }
 ],
 "metadata": {
  "kernelspec": {
   "display_name": "Python 3 (ipykernel)",
   "language": "python",
   "name": "python3"
  },
  "language_info": {
   "codemirror_mode": {
    "name": "ipython",
    "version": 3
   },
   "file_extension": ".py",
   "mimetype": "text/x-python",
   "name": "python",
   "nbconvert_exporter": "python",
   "pygments_lexer": "ipython3",
   "version": "3.8.17"
  }
 },
 "nbformat": 4,
 "nbformat_minor": 5
}
