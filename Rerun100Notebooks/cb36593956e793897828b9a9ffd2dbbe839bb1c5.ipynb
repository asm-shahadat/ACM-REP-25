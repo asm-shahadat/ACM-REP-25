{
 "cells": [
  {
   "cell_type": "markdown",
   "metadata": {},
   "source": [
    "Import libraries"
   ]
  },
  {
   "cell_type": "code",
   "execution_count": 2,
   "metadata": {
    "execution": {
     "iopub.execute_input": "2023-10-05T16:08:08.906101Z",
     "iopub.status.busy": "2023-10-05T16:08:08.905810Z",
     "iopub.status.idle": "2023-10-05T16:08:08.989729Z",
     "shell.execute_reply": "2023-10-05T16:08:08.988723Z"
    }
   },
   "outputs": [],
   "source": [
    "import numpy as np\n",
    "import math\n",
    "np.set_printoptions(suppress=True, linewidth=np.nan)\n"
   ]
  },
  {
   "cell_type": "markdown",
   "metadata": {},
   "source": [
    "# Dantzig's simplex algorithm"
   ]
  },
  {
   "cell_type": "markdown",
   "metadata": {},
   "source": [
    "### Utilities"
   ]
  },
  {
   "cell_type": "code",
   "execution_count": 3,
   "metadata": {
    "execution": {
     "iopub.execute_input": "2023-10-05T16:08:08.993909Z",
     "iopub.status.busy": "2023-10-05T16:08:08.993040Z",
     "iopub.status.idle": "2023-10-05T16:08:08.998349Z",
     "shell.execute_reply": "2023-10-05T16:08:08.997482Z"
    }
   },
   "outputs": [],
   "source": [
    "def build_tableau(A: np.ndarray, b: np.ndarray, c: np.ndarray) -> np.ndarray:\n",
    "    tableau = np.r_[[c], A]\n",
    "    tableau = np.c_[tableau, np.insert(b, 0, 0)]\n",
    "    return tableau\n"
   ]
  },
  {
   "cell_type": "code",
   "execution_count": 4,
   "metadata": {
    "execution": {
     "iopub.execute_input": "2023-10-05T16:08:09.001867Z",
     "iopub.status.busy": "2023-10-05T16:08:09.001298Z",
     "iopub.status.idle": "2023-10-05T16:08:09.006757Z",
     "shell.execute_reply": "2023-10-05T16:08:09.005891Z"
    }
   },
   "outputs": [],
   "source": [
    "def minimum_ratio_test(col: np.ndarray, b: np.ndarray) -> int:\n",
    "    r_min = 0\n",
    "    min_val = math.inf\n",
    "    for k in range(len(b)):\n",
    "        if col[k] > 0:\n",
    "            if min_val > (min_val_temp := b[k] / col[k]):\n",
    "                min_val = min_val_temp\n",
    "                r_min = k\n",
    "    return r_min\n"
   ]
  },
  {
   "cell_type": "code",
   "execution_count": 5,
   "metadata": {
    "execution": {
     "iopub.execute_input": "2023-10-05T16:08:09.010518Z",
     "iopub.status.busy": "2023-10-05T16:08:09.009704Z",
     "iopub.status.idle": "2023-10-05T16:08:09.015423Z",
     "shell.execute_reply": "2023-10-05T16:08:09.014495Z"
    }
   },
   "outputs": [],
   "source": [
    "def pivoting(tableau: np.ndarray, row: int, col: int) -> np.ndarray:\n",
    "    # escale pivot row min to 1.0\n",
    "    tableau[row] = tableau[row]/tableau[row, col]\n",
    "    # pivot proccess: convert al column to zero except row\n",
    "    for k in range(len(tableau)):\n",
    "        if k != row:\n",
    "            tableau[k] = tableau[k] - tableau[k, col]*tableau[row, :]\n",
    "    return tableau\n"
   ]
  },
  {
   "cell_type": "code",
   "execution_count": 6,
   "metadata": {
    "execution": {
     "iopub.execute_input": "2023-10-05T16:08:09.018983Z",
     "iopub.status.busy": "2023-10-05T16:08:09.018201Z",
     "iopub.status.idle": "2023-10-05T16:08:09.023777Z",
     "shell.execute_reply": "2023-10-05T16:08:09.022878Z"
    }
   },
   "outputs": [],
   "source": [
    "def correct_negative_cost(tableau: np.ndarray, basic_var: list[int]):\n",
    "    # correct first row of tableau because the artificial_var and min=-max position is negative\n",
    "    for index, col in enumerate(basic_var):\n",
    "        if tableau[0, col] < 0:\n",
    "            # select the row with 1 because the rest are zeros\n",
    "            row = index + 1\n",
    "            tableau[0] = tableau[0] - tableau[0, col] * tableau[row, :]\n",
    "    return tableau\n"
   ]
  },
  {
   "cell_type": "code",
   "execution_count": 7,
   "metadata": {
    "execution": {
     "iopub.execute_input": "2023-10-05T16:08:09.027300Z",
     "iopub.status.busy": "2023-10-05T16:08:09.026527Z",
     "iopub.status.idle": "2023-10-05T16:08:09.032472Z",
     "shell.execute_reply": "2023-10-05T16:08:09.031502Z"
    }
   },
   "outputs": [],
   "source": [
    "def optimal_solution(tableau: np.ndarray, basic_var: list[int], artificial_var: list[int]=[]) -> None:\n",
    "    # only work with simplex method because m = len(basic_var) and n = len(non_basic_var)\n",
    "    dim_1, dim_2 = tableau.shape\n",
    "    m = len(basic_var)\n",
    "    n = dim_2 - dim_1 - len(artificial_var)  # for Big-M and Two-Phases\n",
    "    x = np.zeros(m + n)\n",
    "    x[basic_var] = tableau[1:, -1]\n",
    "    print(\"Optimal solution: x_opt =\", x[:n])\n"
   ]
  },
  {
   "cell_type": "markdown",
   "metadata": {},
   "source": [
    "### Simplex Algorithm"
   ]
  },
  {
   "cell_type": "code",
   "execution_count": 8,
   "metadata": {
    "execution": {
     "iopub.execute_input": "2023-10-05T16:08:09.035545Z",
     "iopub.status.busy": "2023-10-05T16:08:09.035255Z",
     "iopub.status.idle": "2023-10-05T16:08:09.042035Z",
     "shell.execute_reply": "2023-10-05T16:08:09.041053Z"
    }
   },
   "outputs": [],
   "source": [
    "def simplex(tableau: np.ndarray, basic_var: list[int]) ->np.ndarray:\n",
    "    print(f\"x_B = {basic_var}\\n{tableau}\")\n",
    "    while (tableau[0, :-1] > 0).any():\n",
    "        # max criterion\n",
    "        c_max = np.argmax(tableau[0, :-1])\n",
    "        # minimum ratio test\n",
    "        r_min = minimum_ratio_test(col=tableau[1:, c_max], b=tableau[1:, -1]) + 1\n",
    "        # pivoting\n",
    "        tableau = pivoting(tableau, r_min, c_max)\n",
    "        # swap row with col\n",
    "        basic_var[r_min - 1] = c_max\n",
    "        print(f\"x_B = {basic_var}\\n{tableau}\")\n",
    "    return tableau\n"
   ]
  },
  {
   "cell_type": "markdown",
   "metadata": {},
   "source": [
    "### Big-M\n",
    "The big-M procedure, each such constraint $i$ is augmented, together with its slack variable, with a so-called artificial variable $u_i$,  and the objective function is augmented with $−Mu_i$, where $M$ is a big positive real number. For big values of $M$ the simplex algorithm will put highest priority on making the value of the factor $Mu_i$ as small as possible, thereby setting the value of $u_i$ equal to zero. Big-M and two-phases are used when $0$ isn't feasible basic solution."
   ]
  },
  {
   "cell_type": "code",
   "execution_count": 9,
   "metadata": {
    "execution": {
     "iopub.execute_input": "2023-10-05T16:08:09.045684Z",
     "iopub.status.busy": "2023-10-05T16:08:09.045075Z",
     "iopub.status.idle": "2023-10-05T16:08:09.050210Z",
     "shell.execute_reply": "2023-10-05T16:08:09.049249Z"
    }
   },
   "outputs": [],
   "source": [
    "def big_M(tableau: np.ndarray, basic_var: list[int]) -> np.ndarray:\n",
    "    print(f\"x_B = {basic_var}\\n{tableau}\")\n",
    "    # correct first row of tableau for each artificial var because the artificial_var position is -M\n",
    "    tableau = correct_negative_cost(tableau, basic_var)\n",
    "    # solve with simplex\n",
    "    return simplex(tableau, basic_var)\n"
   ]
  },
  {
   "cell_type": "markdown",
   "metadata": {},
   "source": [
    "### Two-Phases\n",
    "The two-phase procedure add, in the same manner as employed in the big-M procedure, but instead of adding each artificial variable to the objetive with a large negative coefficient, the objetive function is replace by minus the sum of all artificial variables . During the **first phase**, the simplex algorithm tries to maximize this objetive, effectively trying to give all artificial variables the value zero.  By doing this a feasible basic solution is founded. When this has happened, the **second-phase** starts by replacing the artificial objetive function by the objetive function of the original model and solve this with simplex method."
   ]
  },
  {
   "cell_type": "code",
   "execution_count": 10,
   "metadata": {
    "execution": {
     "iopub.execute_input": "2023-10-05T16:08:09.053643Z",
     "iopub.status.busy": "2023-10-05T16:08:09.053043Z",
     "iopub.status.idle": "2023-10-05T16:08:09.061960Z",
     "shell.execute_reply": "2023-10-05T16:08:09.061021Z"
    }
   },
   "outputs": [],
   "source": [
    "def two_phases(tableau: np.ndarray, c: np.ndarray, basic_var: list[int], artificial_var: list[int]):\n",
    "    print(f\"x_B = {basic_var}\\n{tableau}\")\n",
    "    # correct first row of tableau because the artificial_var position is -1\n",
    "    tableau = correct_negative_cost(tableau, basic_var)\n",
    "    print(f\"x_B = {basic_var}\\n{tableau}\")\n",
    "\n",
    "    print(\"Phase One\")\n",
    "    # while until each artifical var be negative and not be basic var\n",
    "    while any(((u in basic_var) or (tableau[0, u] > 0)) for u in artificial_var):\n",
    "        # max criterion\n",
    "        c_max = np.argmax(tableau[0, :-1])\n",
    "        # minimum ratio test\n",
    "        r_min = minimum_ratio_test(col=tableau[1:, c_max], b=tableau[1:, -1]) + 1\n",
    "        # pivoting\n",
    "        tableau = pivoting(tableau, r_min, c_max)\n",
    "        # swap row with col\n",
    "        basic_var[r_min - 1] = c_max\n",
    "        print(f\"x_B = {basic_var}\\n{tableau}\")\n",
    "\n",
    "    print(\"Phase Two\")\n",
    "    # delete the artificial variable because we found a solution factible\n",
    "    tableau = np.delete(tableau, artificial_var, axis=1)\n",
    "    # put c in first row of tableau\n",
    "    tableau[0, :len(c)] = c\n",
    "    # solve with simplex\n",
    "    print(f\"x_B = {basic_var}\\n{tableau}\")\n",
    "    tableau = correct_negative_cost(tableau, basic_var)\n",
    "    return simplex(tableau, basic_var)\n"
   ]
  },
  {
   "cell_type": "markdown",
   "metadata": {},
   "source": [
    "### Book: Linear and Integer Optimization\n"
   ]
  },
  {
   "cell_type": "markdown",
   "metadata": {},
   "source": [
    "#### Dovetail Model \n",
    "\\begin{align*}\n",
    "\\max  3 x_{1}&+2 x_{2}& \\\\\n",
    "\\text { s.t. } \\quad x_{1}&+x_{2}& \\leq 9 \\\\\n",
    "3 x_{1}&+x_{2}& \\leq 18 \\\\\n",
    "x_{1}&{} {}& \\leq 7 \\\\\n",
    "{}& \\quad x_{2} & \\leq 6 \\\\\n",
    "x_{1}&, x_{2} \\geq 0\n",
    "\\end{align*}"
   ]
  },
  {
   "cell_type": "code",
   "execution_count": 11,
   "metadata": {
    "error": [
     {
      "ename": "KeyError",
      "evalue": "11",
      "output_type": "error",
      "traceback": [
       "\u001b[0;31m---------------------------------------------------------------------------\u001b[0m",
       "\u001b[0;31mKeyError\u001b[0m                                  Traceback (most recent call last)",
       "Cell \u001b[0;32mIn[12], line 1\u001b[0m\n\u001b[0;32m----> 1\u001b[0m json\u001b[38;5;241m.\u001b[39mdumps([typehandlerforuniqueobjects(\u001b[43mOut\u001b[49m\u001b[43m[\u001b[49m\u001b[38;5;241;43m11\u001b[39;49m\u001b[43m]\u001b[49m)])\n",
       "\u001b[0;31mKeyError\u001b[0m: 11"
      ]
     }
    ],
    "execution": {
     "iopub.execute_input": "2023-10-05T16:08:09.065787Z",
     "iopub.status.busy": "2023-10-05T16:08:09.064987Z",
     "iopub.status.idle": "2023-10-05T16:08:09.074605Z",
     "shell.execute_reply": "2023-10-05T16:08:09.073620Z"
    }
   },
   "outputs": [
    {
     "name": "stdout",
     "output_type": "stream",
     "text": [
      "x_B = [2, 3, 4, 5]\n",
      "[[ 3.  2.  0.  0.  0.  0.  0.]\n",
      " [ 1.  1.  1.  0.  0.  0.  9.]\n",
      " [ 3.  1.  0.  1.  0.  0. 18.]\n",
      " [ 1.  0.  0.  0.  1.  0.  7.]\n",
      " [ 0.  1.  0.  0.  0.  1.  6.]]\n",
      "x_B = [2, 0, 4, 5]\n",
      "[[  0.           1.           0.          -1.           0.           0.         -18.        ]\n",
      " [  0.           0.66666667   1.          -0.33333333   0.           0.           3.        ]\n",
      " [  1.           0.33333333   0.           0.33333333   0.           0.           6.        ]\n",
      " [  0.          -0.33333333   0.          -0.33333333   1.           0.           1.        ]\n",
      " [  0.           1.           0.           0.           0.           1.           6.        ]]\n",
      "x_B = [1, 0, 4, 5]\n",
      "[[  0.    0.   -1.5  -0.5   0.    0.  -22.5]\n",
      " [  0.    1.    1.5  -0.5   0.    0.    4.5]\n",
      " [  1.    0.   -0.5   0.5   0.    0.    4.5]\n",
      " [  0.    0.    0.5  -0.5   1.    0.    2.5]\n",
      " [  0.    0.   -1.5   0.5   0.    1.    1.5]]\n",
      "Optimal solution: x_opt = [4.5 4.5]\n"
     ]
    }
   ],
   "source": [
    "A = [[1, 1, 1, 0, 0, 0],\n",
    "     [3, 1, 0, 1, 0, 0],\n",
    "     [1, 0, 0, 0, 1, 0],\n",
    "     [0, 1, 0, 0, 0, 1.0]]\n",
    "\n",
    "b = [9, 18, 7, 6.]\n",
    "\n",
    "c = [3, 2, 0, 0, 0, 0.]\n",
    "\n",
    "basic_var = [2, 3, 4, 5]\n",
    "\n",
    "tableau = build_tableau(A, b, c)\n",
    "tableau = simplex(tableau, basic_var)\n",
    "optimal_solution(tableau, basic_var)\n"
   ]
  },
  {
   "cell_type": "markdown",
   "metadata": {},
   "source": [
    "**Two-Phases**: Dovetail Model modified: Constraint added $x_1 + x_2 \\ge 5$"
   ]
  },
  {
   "cell_type": "code",
   "execution_count": 13,
   "metadata": {
    "error": [
     {
      "ename": "KeyError",
      "evalue": "13",
      "output_type": "error",
      "traceback": [
       "\u001b[0;31m---------------------------------------------------------------------------\u001b[0m",
       "\u001b[0;31mKeyError\u001b[0m                                  Traceback (most recent call last)",
       "Cell \u001b[0;32mIn[14], line 1\u001b[0m\n\u001b[0;32m----> 1\u001b[0m json\u001b[38;5;241m.\u001b[39mdumps([typehandlerforuniqueobjects(\u001b[43mOut\u001b[49m\u001b[43m[\u001b[49m\u001b[38;5;241;43m13\u001b[39;49m\u001b[43m]\u001b[49m)])\n",
       "\u001b[0;31mKeyError\u001b[0m: 13"
      ]
     }
    ],
    "execution": {
     "iopub.execute_input": "2023-10-05T16:08:09.478562Z",
     "iopub.status.busy": "2023-10-05T16:08:09.478255Z",
     "iopub.status.idle": "2023-10-05T16:08:09.492977Z",
     "shell.execute_reply": "2023-10-05T16:08:09.491818Z"
    }
   },
   "outputs": [
    {
     "name": "stdout",
     "output_type": "stream",
     "text": [
      "x_B = [2, 3, 4, 5, 7]\n",
      "[[ 0.  0.  0.  0.  0.  0.  0. -1.  0.]\n",
      " [ 1.  1.  1.  0.  0.  0.  0.  0.  9.]\n",
      " [ 3.  1.  0.  1.  0.  0.  0.  0. 18.]\n",
      " [ 1.  0.  0.  0.  1.  0.  0.  0.  7.]\n",
      " [ 0.  1.  0.  0.  0.  1.  0.  0.  6.]\n",
      " [ 1.  1.  0.  0.  0.  0. -1.  1.  5.]]\n",
      "x_B = [2, 3, 4, 5, 7]\n",
      "[[ 1.  1.  0.  0.  0.  0. -1.  0.  5.]\n",
      " [ 1.  1.  1.  0.  0.  0.  0.  0.  9.]\n",
      " [ 3.  1.  0.  1.  0.  0.  0.  0. 18.]\n",
      " [ 1.  0.  0.  0.  1.  0.  0.  0.  7.]\n",
      " [ 0.  1.  0.  0.  0.  1.  0.  0.  6.]\n",
      " [ 1.  1.  0.  0.  0.  0. -1.  1.  5.]]\n",
      "Phase One\n",
      "x_B = [2, 3, 4, 5, 0]\n",
      "[[ 0.  0.  0.  0.  0.  0.  0. -1.  0.]\n",
      " [ 0.  0.  1.  0.  0.  0.  1. -1.  4.]\n",
      " [ 0. -2.  0.  1.  0.  0.  3. -3.  3.]\n",
      " [ 0. -1.  0.  0.  1.  0.  1. -1.  2.]\n",
      " [ 0.  1.  0.  0.  0.  1.  0.  0.  6.]\n",
      " [ 1.  1.  0.  0.  0.  0. -1.  1.  5.]]\n",
      "Phase Two\n",
      "x_B = [2, 3, 4, 5, 0]\n",
      "[[ 3.  2.  0.  0.  0.  0.  0.  0.]\n",
      " [ 0.  0.  1.  0.  0.  0.  1.  4.]\n",
      " [ 0. -2.  0.  1.  0.  0.  3.  3.]\n",
      " [ 0. -1.  0.  0.  1.  0.  1.  2.]\n",
      " [ 0.  1.  0.  0.  0.  1.  0.  6.]\n",
      " [ 1.  1.  0.  0.  0.  0. -1.  5.]]\n",
      "x_B = [2, 3, 4, 5, 0]\n",
      "[[ 3.  2.  0.  0.  0.  0.  0.  0.]\n",
      " [ 0.  0.  1.  0.  0.  0.  1.  4.]\n",
      " [ 0. -2.  0.  1.  0.  0.  3.  3.]\n",
      " [ 0. -1.  0.  0.  1.  0.  1.  2.]\n",
      " [ 0.  1.  0.  0.  0.  1.  0.  6.]\n",
      " [ 1.  1.  0.  0.  0.  0. -1.  5.]]\n",
      "x_B = [2, 3, 4, 5, 0]\n",
      "[[  0.  -1.   0.   0.   0.   0.   3. -15.]\n",
      " [  0.   0.   1.   0.   0.   0.   1.   4.]\n",
      " [  0.  -2.   0.   1.   0.   0.   3.   3.]\n",
      " [  0.  -1.   0.   0.   1.   0.   1.   2.]\n",
      " [  0.   1.   0.   0.   0.   1.   0.   6.]\n",
      " [  1.   1.   0.   0.   0.   0.  -1.   5.]]\n",
      "x_B = [2, 6, 4, 5, 0]\n",
      "[[  0.           1.           0.          -1.           0.           0.           0.         -18.        ]\n",
      " [  0.           0.66666667   1.          -0.33333333   0.           0.           0.           3.        ]\n",
      " [  0.          -0.66666667   0.           0.33333333   0.           0.           1.           1.        ]\n",
      " [  0.          -0.33333333   0.          -0.33333333   1.           0.           0.           1.        ]\n",
      " [  0.           1.           0.           0.           0.           1.           0.           6.        ]\n",
      " [  1.           0.33333333   0.           0.33333333   0.           0.           0.           6.        ]]\n",
      "x_B = [1, 6, 4, 5, 0]\n",
      "[[  0.    0.   -1.5  -0.5   0.    0.    0.  -22.5]\n",
      " [  0.    1.    1.5  -0.5   0.    0.    0.    4.5]\n",
      " [  0.    0.    1.    0.    0.    0.    1.    4. ]\n",
      " [  0.    0.    0.5  -0.5   1.    0.    0.    2.5]\n",
      " [  0.    0.   -1.5   0.5   0.    1.    0.    1.5]\n",
      " [  1.    0.   -0.5   0.5   0.    0.    0.    4.5]]\n",
      "Optimal solution: x_opt = [4.5 4.5]\n"
     ]
    }
   ],
   "source": [
    "variable_map = {0: \"x1\", 1: \"x2\", 2: \"x3\", 3: \"x4\", 4: \"x5\", 5: \"x6\", 6: \"x7\", 7: \"u1\"}\n",
    "\n",
    "tableau = np.array([[0, 0, 0, 0, 0, 0, 0, -1, 0],\n",
    "                    [1, 1, 1, 0, 0, 0, 0, 0, 9.],\n",
    "                    [3, 1, 0, 1, 0, 0, 0, 0, 18],\n",
    "                    [1, 0, 0, 0, 1, 0, 0, 0, 7.],\n",
    "                    [0, 1, 0, 0, 0, 1, 0, 0, 6.],\n",
    "                    [1, 1, 0, 0, 0, 0, -1, 1, 5]])\n",
    "\n",
    "c = [3, 2, 0, 0, 0, 0, 0.]\n",
    "\n",
    "basic_var = [2, 3, 4, 5, 7]\n",
    "artificial_var = [7]\n",
    "\n",
    "tableau = two_phases(tableau, c, basic_var, artificial_var)\n",
    "optimal_solution(tableau, basic_var)\n"
   ]
  },
  {
   "cell_type": "markdown",
   "metadata": {},
   "source": [
    "**BIG-M**:  Ejemplo visto el ciclo pasado Lineal 6 "
   ]
  },
  {
   "cell_type": "code",
   "execution_count": 15,
   "metadata": {
    "error": [
     {
      "ename": "KeyError",
      "evalue": "15",
      "output_type": "error",
      "traceback": [
       "\u001b[0;31m---------------------------------------------------------------------------\u001b[0m",
       "\u001b[0;31mKeyError\u001b[0m                                  Traceback (most recent call last)",
       "Cell \u001b[0;32mIn[16], line 1\u001b[0m\n\u001b[0;32m----> 1\u001b[0m json\u001b[38;5;241m.\u001b[39mdumps([typehandlerforuniqueobjects(\u001b[43mOut\u001b[49m\u001b[43m[\u001b[49m\u001b[38;5;241;43m15\u001b[39;49m\u001b[43m]\u001b[49m)])\n",
       "\u001b[0;31mKeyError\u001b[0m: 15"
      ]
     }
    ],
    "execution": {
     "iopub.execute_input": "2023-10-05T16:08:09.522143Z",
     "iopub.status.busy": "2023-10-05T16:08:09.521832Z",
     "iopub.status.idle": "2023-10-05T16:08:09.533074Z",
     "shell.execute_reply": "2023-10-05T16:08:09.532062Z"
    }
   },
   "outputs": [
    {
     "name": "stdout",
     "output_type": "stream",
     "text": [
      "x_B = [5, 6, 4]\n",
      "[[  2.   1.   0.   0.   0. -10. -10.   0.]\n",
      " [  2.  -1.  -1.   0.   0.   1.   0.   4.]\n",
      " [ -1.   2.   0.  -1.   0.   0.   1.   2.]\n",
      " [  1.   1.   0.   0.   1.   0.   0.  12.]]\n",
      "x_B = [5, 6, 4]\n",
      "[[ 12.  11. -10. -10.   0.   0.   0.  60.]\n",
      " [  2.  -1.  -1.   0.   0.   1.   0.   4.]\n",
      " [ -1.   2.   0.  -1.   0.   0.   1.   2.]\n",
      " [  1.   1.   0.   0.   1.   0.   0.  12.]]\n",
      "x_B = [0, 6, 4]\n",
      "[[  0.   17.   -4.  -10.    0.   -6.    0.   36. ]\n",
      " [  1.   -0.5  -0.5   0.    0.    0.5   0.    2. ]\n",
      " [  0.    1.5  -0.5  -1.    0.    0.5   1.    4. ]\n",
      " [  0.    1.5   0.5   0.    1.   -0.5   0.   10. ]]\n",
      "x_B = [0, 1, 4]\n",
      "[[  0.           0.           1.66666667   1.33333333   0.         -11.66666667 -11.33333333  -9.33333333]\n",
      " [  1.           0.          -0.66666667  -0.33333333   0.           0.66666667   0.33333333   3.33333333]\n",
      " [  0.           1.          -0.33333333  -0.66666667   0.           0.33333333   0.66666667   2.66666667]\n",
      " [  0.           0.           1.           1.           1.          -1.          -1.           6.        ]]\n",
      "x_B = [0, 1, 2]\n",
      "[[  0.           0.           0.          -0.33333333  -1.66666667 -10.          -9.66666667 -19.33333333]\n",
      " [  1.           0.           0.           0.33333333   0.66666667   0.          -0.33333333   7.33333333]\n",
      " [  0.           1.           0.          -0.33333333   0.33333333   0.           0.33333333   4.66666667]\n",
      " [  0.           0.           1.           1.           1.          -1.          -1.           6.        ]]\n",
      "Optimal solution: x_opt = [7.33333333 4.66666667]\n"
     ]
    }
   ],
   "source": [
    "variable_map = {0: \"x1\", 1: \"x2\", 2: \"x3\", 3: \"x4\", 4: \"x5\", 5: \"u1\", 6: \"u2\"}\n",
    "M = 10\n",
    "A = [[2, -1, -1, 0, 0, 1, 0],\n",
    "     [-1, 2, 0, -1, 0, 0, 1],\n",
    "     [1, 1., 0., 0, 1, 0, 0.]]\n",
    "\n",
    "b = [4, 2, 12.]\n",
    "\n",
    "c = [2, 1, 0, 0, 0, -M, -M]\n",
    "\n",
    "basic_var = [5, 6, 4]\n",
    "artificial_var = [5, 6]\n",
    "\n",
    "tableau = build_tableau(A, b, c)\n",
    "tableau = big_M(tableau, basic_var)\n",
    "optimal_solution(tableau, basic_var, artificial_var)\n"
   ]
  },
  {
   "cell_type": "markdown",
   "metadata": {},
   "source": [
    "#### Equality constraints\n",
    "Example 3.8.1. Consideer the following LO-model "
   ]
  },
  {
   "cell_type": "markdown",
   "metadata": {},
   "source": [
    "\\begin{align*}\n",
    "\\max  40 x_{1}& + 100 x_{2}  + 150 x_{3}  \\\\\n",
    "\\text { s.t. }\\quad x_{1} & + 2 x_{2}  +2 x_{3} =3 \\\\\n",
    " 30 x_{1}& + 10 x_{2}  + 20 x_{3} =75 \\\\\n",
    " x_{1}&, x_{2}, x_{3} \\geq 0\n",
    "\\end{align*}"
   ]
  },
  {
   "cell_type": "markdown",
   "metadata": {},
   "source": [
    "#### More examples\n",
    "Method 1: Big-M\n"
   ]
  },
  {
   "cell_type": "code",
   "execution_count": 17,
   "metadata": {
    "error": [
     {
      "ename": "KeyError",
      "evalue": "17",
      "output_type": "error",
      "traceback": [
       "\u001b[0;31m---------------------------------------------------------------------------\u001b[0m",
       "\u001b[0;31mKeyError\u001b[0m                                  Traceback (most recent call last)",
       "Cell \u001b[0;32mIn[18], line 1\u001b[0m\n\u001b[0;32m----> 1\u001b[0m json\u001b[38;5;241m.\u001b[39mdumps([typehandlerforuniqueobjects(\u001b[43mOut\u001b[49m\u001b[43m[\u001b[49m\u001b[38;5;241;43m17\u001b[39;49m\u001b[43m]\u001b[49m)])\n",
       "\u001b[0;31mKeyError\u001b[0m: 17"
      ]
     }
    ],
    "execution": {
     "iopub.execute_input": "2023-10-05T16:08:09.562015Z",
     "iopub.status.busy": "2023-10-05T16:08:09.561708Z",
     "iopub.status.idle": "2023-10-05T16:08:09.570702Z",
     "shell.execute_reply": "2023-10-05T16:08:09.569668Z"
    }
   },
   "outputs": [
    {
     "name": "stdout",
     "output_type": "stream",
     "text": [
      "x_B = [3, 4]\n",
      "[[  40.  100.  150. -100. -100.    0.]\n",
      " [   1.    2.    2.    1.    0.    3.]\n",
      " [  30.   10.   20.    0.    1.   75.]]\n",
      "x_B = [3, 4]\n",
      "[[3140. 1300. 2350.    0.    0. 7800.]\n",
      " [   1.    2.    2.    1.    0.    3.]\n",
      " [  30.   10.   20.    0.    1.   75.]]\n",
      "x_B = [3, 0]\n",
      "[[   0.          253.33333333  256.66666667    0.         -104.66666667  -50.        ]\n",
      " [   0.            1.66666667    1.33333333    1.           -0.03333333    0.5       ]\n",
      " [   1.            0.33333333    0.66666667    0.            0.03333333    2.5       ]]\n",
      "x_B = [2, 0]\n",
      "[[   0.     -67.5      0.    -192.5    -98.25  -146.25 ]\n",
      " [   0.       1.25     1.       0.75    -0.025    0.375]\n",
      " [   1.      -0.5      0.      -0.5      0.05     2.25 ]]\n",
      "Optimal solution: x_opt = [2.25  0.    0.375]\n"
     ]
    }
   ],
   "source": [
    "M = 100\n",
    "A = [[1, 2, 2, 1, 0],\n",
    "     [30, 10, 20, 0, 1.]]\n",
    "\n",
    "b = [3, 75.]\n",
    "c = [40, 100, 150., -M, -M]\n",
    "\n",
    "basic_var = [3, 4]\n",
    "\n",
    "tableau = build_tableau(A, b, c)\n",
    "tableau = big_M(tableau, basic_var)\n",
    "optimal_solution(tableau, basic_var)"
   ]
  },
  {
   "cell_type": "markdown",
   "metadata": {},
   "source": [
    "Method 2: Simplex"
   ]
  },
  {
   "cell_type": "code",
   "execution_count": 19,
   "metadata": {
    "error": [
     {
      "ename": "KeyError",
      "evalue": "19",
      "output_type": "error",
      "traceback": [
       "\u001b[0;31m---------------------------------------------------------------------------\u001b[0m",
       "\u001b[0;31mKeyError\u001b[0m                                  Traceback (most recent call last)",
       "Cell \u001b[0;32mIn[20], line 1\u001b[0m\n\u001b[0;32m----> 1\u001b[0m json\u001b[38;5;241m.\u001b[39mdumps([typehandlerforuniqueobjects(\u001b[43mOut\u001b[49m\u001b[43m[\u001b[49m\u001b[38;5;241;43m19\u001b[39;49m\u001b[43m]\u001b[49m)])\n",
       "\u001b[0;31mKeyError\u001b[0m: 19"
      ]
     }
    ],
    "execution": {
     "iopub.execute_input": "2023-10-05T16:08:09.599127Z",
     "iopub.status.busy": "2023-10-05T16:08:09.598827Z",
     "iopub.status.idle": "2023-10-05T16:08:09.608929Z",
     "shell.execute_reply": "2023-10-05T16:08:09.607905Z"
    }
   },
   "outputs": [
    {
     "name": "stdout",
     "output_type": "stream",
     "text": [
      "x_B = [0, 1]\n",
      "[[ 40. 100. 150.   0.]\n",
      " [  1.   2.   2.   3.]\n",
      " [ 30.  10.  20.  75.]]\n",
      "x_B = [0, 1]\n",
      "[[   0.     0.    54.  -126. ]\n",
      " [   1.     0.     0.4    2.4]\n",
      " [  -0.     1.     0.8    0.3]]\n",
      "x_B = [0, 1]\n",
      "[[   0.     0.    54.  -126. ]\n",
      " [   1.     0.     0.4    2.4]\n",
      " [  -0.     1.     0.8    0.3]]\n",
      "x_B = [0, 2]\n",
      "[[   0.     -67.5      0.    -146.25 ]\n",
      " [   1.      -0.5      0.       2.25 ]\n",
      " [  -0.       1.25     1.       0.375]]\n",
      "Optimal solution: x_opt = [2.25  0.    0.375]\n"
     ]
    }
   ],
   "source": [
    "A = [[1, 2, 2],\n",
    "     [30, 10, 20.]]\n",
    "\n",
    "b = [3, 75.]\n",
    "\n",
    "c = [40, 100, 150.]\n",
    "\n",
    "basic_var = [0, 1]\n",
    "\n",
    "tableau = build_tableau(A, b, c)\n",
    "print(f\"x_B = {basic_var}\\n{tableau}\")\n",
    "\n",
    "# correcting the coefficients different from zero in the basic var\n",
    "tableau = pivoting(tableau, 1, 0)\n",
    "tableau = pivoting(tableau, 2, 1)\n",
    "print(f\"x_B = {basic_var}\\n{tableau}\")\n",
    "\n",
    "# simplex proccess\n",
    "tableau = simplex(tableau, basic_var)\n",
    "\n",
    "# Optimal solution for equality constraints\n",
    "x = np.zeros_like(c)\n",
    "x[basic_var] = tableau[1:,-1]\n",
    "print(\"Optimal solution: x_opt =\", x)\n"
   ]
  },
  {
   "cell_type": "markdown",
   "metadata": {},
   "source": [
    "### Cuarta Dirigida: Curso: Programación Lineal y flujo en redes"
   ]
  },
  {
   "cell_type": "markdown",
   "metadata": {},
   "source": [
    "2. Hallar una solución aplicando las tablas del método simplex"
   ]
  },
  {
   "cell_type": "code",
   "execution_count": 21,
   "metadata": {
    "error": [
     {
      "ename": "KeyError",
      "evalue": "21",
      "output_type": "error",
      "traceback": [
       "\u001b[0;31m---------------------------------------------------------------------------\u001b[0m",
       "\u001b[0;31mKeyError\u001b[0m                                  Traceback (most recent call last)",
       "Cell \u001b[0;32mIn[22], line 1\u001b[0m\n\u001b[0;32m----> 1\u001b[0m json\u001b[38;5;241m.\u001b[39mdumps([typehandlerforuniqueobjects(\u001b[43mOut\u001b[49m\u001b[43m[\u001b[49m\u001b[38;5;241;43m21\u001b[39;49m\u001b[43m]\u001b[49m)])\n",
       "\u001b[0;31mKeyError\u001b[0m: 21"
      ]
     }
    ],
    "execution": {
     "iopub.execute_input": "2023-10-05T16:08:09.637235Z",
     "iopub.status.busy": "2023-10-05T16:08:09.636934Z",
     "iopub.status.idle": "2023-10-05T16:08:09.645590Z",
     "shell.execute_reply": "2023-10-05T16:08:09.644579Z"
    }
   },
   "outputs": [
    {
     "name": "stdout",
     "output_type": "stream",
     "text": [
      "x_B = [2, 3, 4]\n",
      "[[4. 5. 0. 0. 0. 0.]\n",
      " [2. 1. 1. 0. 0. 9.]\n",
      " [1. 0. 0. 1. 0. 4.]\n",
      " [0. 1. 0. 0. 1. 3.]]\n",
      "x_B = [2, 3, 1]\n",
      "[[  4.   0.   0.   0.  -5. -15.]\n",
      " [  2.   0.   1.   0.  -1.   6.]\n",
      " [  1.   0.   0.   1.   0.   4.]\n",
      " [  0.   1.   0.   0.   1.   3.]]\n",
      "x_B = [0, 3, 1]\n",
      "[[  0.    0.   -2.    0.   -3.  -27. ]\n",
      " [  1.    0.    0.5   0.   -0.5   3. ]\n",
      " [  0.    0.   -0.5   1.    0.5   1. ]\n",
      " [  0.    1.    0.    0.    1.    3. ]]\n",
      "Optimal solution: x_opt = [3. 3.]\n"
     ]
    }
   ],
   "source": [
    "A = [[2, 1, 1, 0, 0],\n",
    "     [1, 0, 0, 1, 0],\n",
    "     [0, 1, 0, 0, 1.]]\n",
    "\n",
    "b = [9, 4, 3.]\n",
    "\n",
    "c = [4, 5, 0, 0, 0.]\n",
    "\n",
    "basic_var = [2, 3, 4]\n",
    "\n",
    "tableau = build_tableau(A, b, c)\n",
    "tableau = simplex(tableau, basic_var)\n",
    "optimal_solution(tableau, basic_var)\n"
   ]
  },
  {
   "cell_type": "markdown",
   "metadata": {},
   "source": [
    "Usando 2 fases"
   ]
  },
  {
   "cell_type": "code",
   "execution_count": 23,
   "metadata": {
    "error": [
     {
      "ename": "KeyError",
      "evalue": "23",
      "output_type": "error",
      "traceback": [
       "\u001b[0;31m---------------------------------------------------------------------------\u001b[0m",
       "\u001b[0;31mKeyError\u001b[0m                                  Traceback (most recent call last)",
       "Cell \u001b[0;32mIn[24], line 1\u001b[0m\n\u001b[0;32m----> 1\u001b[0m json\u001b[38;5;241m.\u001b[39mdumps([typehandlerforuniqueobjects(\u001b[43mOut\u001b[49m\u001b[43m[\u001b[49m\u001b[38;5;241;43m23\u001b[39;49m\u001b[43m]\u001b[49m)])\n",
       "\u001b[0;31mKeyError\u001b[0m: 23"
      ]
     }
    ],
    "execution": {
     "iopub.execute_input": "2023-10-05T16:08:09.673951Z",
     "iopub.status.busy": "2023-10-05T16:08:09.673654Z",
     "iopub.status.idle": "2023-10-05T16:08:09.684946Z",
     "shell.execute_reply": "2023-10-05T16:08:09.683862Z"
    }
   },
   "outputs": [
    {
     "name": "stdout",
     "output_type": "stream",
     "text": [
      "x_B = [2, 3, 5]\n",
      "[[ 0.  0.  0.  0.  0. -1.  0.]\n",
      " [ 1.  1.  1.  0.  0.  0.  9.]\n",
      " [-2. -1.  0.  1.  0.  0.  4.]\n",
      " [ 0.  1.  0.  0. -1.  1.  3.]]\n",
      "x_B = [2, 3, 5]\n",
      "[[ 0.  1.  0.  0. -1.  0.  3.]\n",
      " [ 1.  1.  1.  0.  0.  0.  9.]\n",
      " [-2. -1.  0.  1.  0.  0.  4.]\n",
      " [ 0.  1.  0.  0. -1.  1.  3.]]\n",
      "Phase One\n",
      "x_B = [2, 3, 1]\n",
      "[[ 0.  0.  0.  0.  0. -1.  0.]\n",
      " [ 1.  0.  1.  0.  1. -1.  6.]\n",
      " [-2.  0.  0.  1. -1.  1.  7.]\n",
      " [ 0.  1.  0.  0. -1.  1.  3.]]\n",
      "Phase Two\n",
      "x_B = [2, 3, 1]\n",
      "[[ 4.  5.  0.  0.  0.  0.]\n",
      " [ 1.  0.  1.  0.  1.  6.]\n",
      " [-2.  0.  0.  1. -1.  7.]\n",
      " [ 0.  1.  0.  0. -1.  3.]]\n",
      "x_B = [2, 3, 1]\n",
      "[[ 4.  5.  0.  0.  0.  0.]\n",
      " [ 1.  0.  1.  0.  1.  6.]\n",
      " [-2.  0.  0.  1. -1.  7.]\n",
      " [ 0.  1.  0.  0. -1.  3.]]\n",
      "x_B = [2, 3, 1]\n",
      "[[  4.   0.   0.   0.   5. -15.]\n",
      " [  1.   0.   1.   0.   1.   6.]\n",
      " [ -2.   0.   0.   1.  -1.   7.]\n",
      " [  0.   1.   0.   0.  -1.   3.]]\n",
      "x_B = [4, 3, 1]\n",
      "[[ -1.   0.  -5.   0.   0. -45.]\n",
      " [  1.   0.   1.   0.   1.   6.]\n",
      " [ -1.   0.   1.   1.   0.  13.]\n",
      " [  1.   1.   1.   0.   0.   9.]]\n",
      "Optimal solution: x_opt = [0. 9.]\n"
     ]
    }
   ],
   "source": [
    "variable_map = {0: \"x1\", 1: \"x2\", 2: \"x3\", 3: \"x4\", 4: \"x5\", 5: \"u1\"}\n",
    "A = [[1., 1., 1, 0, 0, 0],\n",
    "     [-2, -1, 0, 1, 0, 0],\n",
    "     [0., 1., 0, 0, -1, 1]]\n",
    "\n",
    "b = [9, 4, 3.]\n",
    "\n",
    "c = [4, 5, 0, 0.0, 0.0]\n",
    "c_artificial = [0., 0., 0, 0, 0, -1]\n",
    "\n",
    "basic_var = [2, 3, 5]\n",
    "artificial_var = [5]\n",
    "\n",
    "tableau = build_tableau(A, b, c_artificial)\n",
    "tableau = two_phases(tableau, c, basic_var, artificial_var)\n",
    "optimal_solution(tableau, basic_var)\n"
   ]
  },
  {
   "cell_type": "markdown",
   "metadata": {},
   "source": [
    "Usando Big-M"
   ]
  },
  {
   "cell_type": "code",
   "execution_count": 25,
   "metadata": {
    "error": [
     {
      "ename": "KeyError",
      "evalue": "25",
      "output_type": "error",
      "traceback": [
       "\u001b[0;31m---------------------------------------------------------------------------\u001b[0m",
       "\u001b[0;31mKeyError\u001b[0m                                  Traceback (most recent call last)",
       "Cell \u001b[0;32mIn[26], line 1\u001b[0m\n\u001b[0;32m----> 1\u001b[0m json\u001b[38;5;241m.\u001b[39mdumps([typehandlerforuniqueobjects(\u001b[43mOut\u001b[49m\u001b[43m[\u001b[49m\u001b[38;5;241;43m25\u001b[39;49m\u001b[43m]\u001b[49m)])\n",
       "\u001b[0;31mKeyError\u001b[0m: 25"
      ]
     }
    ],
    "execution": {
     "iopub.execute_input": "2023-10-05T16:08:09.714125Z",
     "iopub.status.busy": "2023-10-05T16:08:09.713827Z",
     "iopub.status.idle": "2023-10-05T16:08:09.723379Z",
     "shell.execute_reply": "2023-10-05T16:08:09.722380Z"
    }
   },
   "outputs": [
    {
     "name": "stdout",
     "output_type": "stream",
     "text": [
      "x_B = [2, 3, 5]\n",
      "[[  4.   5.   0.   0.   0. -10.   0.]\n",
      " [  1.   1.   1.   0.   0.   0.   9.]\n",
      " [ -2.  -1.   0.   1.   0.   0.   4.]\n",
      " [  0.   1.   0.   0.  -1.   1.   3.]]\n",
      "x_B = [2, 3, 5]\n",
      "[[  4.  15.   0.   0. -10.   0.  30.]\n",
      " [  1.   1.   1.   0.   0.   0.   9.]\n",
      " [ -2.  -1.   0.   1.   0.   0.   4.]\n",
      " [  0.   1.   0.   0.  -1.   1.   3.]]\n",
      "x_B = [2, 3, 1]\n",
      "[[  4.   0.   0.   0.   5. -15. -15.]\n",
      " [  1.   0.   1.   0.   1.  -1.   6.]\n",
      " [ -2.   0.   0.   1.  -1.   1.   7.]\n",
      " [  0.   1.   0.   0.  -1.   1.   3.]]\n",
      "x_B = [4, 3, 1]\n",
      "[[ -1.   0.  -5.   0.   0. -10. -45.]\n",
      " [  1.   0.   1.   0.   1.  -1.   6.]\n",
      " [ -1.   0.   1.   1.   0.   0.  13.]\n",
      " [  1.   1.   1.   0.   0.   0.   9.]]\n",
      "Optimal solution: x_opt = [0. 9.]\n"
     ]
    }
   ],
   "source": [
    "M = 10\n",
    "\n",
    "A = [[1., 1., 1, 0, 0, 0],\n",
    "     [-2, -1, 0, 1, 0, 0],\n",
    "     [0., 1., 0, 0, -1, 1]]\n",
    "\n",
    "b = [9, 4, 3.]\n",
    "\n",
    "c = [4, 5, 0, 0, 0, -M]\n",
    "\n",
    "basic_var = [2, 3, 5]\n",
    "artificial_var = [5]\n",
    "\n",
    "tableau = build_tableau(A, b, c)\n",
    "tableau = big_M(tableau, basic_var)\n",
    "optimal_solution(tableau, basic_var, artificial_var)\n"
   ]
  },
  {
   "cell_type": "markdown",
   "metadata": {},
   "source": [
    "6. Resolver por el método de dos faces el siguiente LO"
   ]
  },
  {
   "cell_type": "code",
   "execution_count": 27,
   "metadata": {
    "error": [
     {
      "ename": "KeyError",
      "evalue": "27",
      "output_type": "error",
      "traceback": [
       "\u001b[0;31m---------------------------------------------------------------------------\u001b[0m",
       "\u001b[0;31mKeyError\u001b[0m                                  Traceback (most recent call last)",
       "Cell \u001b[0;32mIn[28], line 1\u001b[0m\n\u001b[0;32m----> 1\u001b[0m json\u001b[38;5;241m.\u001b[39mdumps([typehandlerforuniqueobjects(\u001b[43mOut\u001b[49m\u001b[43m[\u001b[49m\u001b[38;5;241;43m27\u001b[39;49m\u001b[43m]\u001b[49m)])\n",
       "\u001b[0;31mKeyError\u001b[0m: 27"
      ]
     }
    ],
    "execution": {
     "iopub.execute_input": "2023-10-05T16:08:09.751915Z",
     "iopub.status.busy": "2023-10-05T16:08:09.751610Z",
     "iopub.status.idle": "2023-10-05T16:08:09.761838Z",
     "shell.execute_reply": "2023-10-05T16:08:09.760800Z"
    }
   },
   "outputs": [
    {
     "name": "stdout",
     "output_type": "stream",
     "text": [
      "x_B = [4, 5]\n",
      "[[ 0.  0.  0.  0. -1. -1.  0.]\n",
      " [ 4.  2. -1.  0.  1.  0. 12.]\n",
      " [ 1.  4.  0. -1.  0.  1.  6.]]\n",
      "x_B = [4, 5]\n",
      "[[ 5.  6. -1. -1.  0.  0. 18.]\n",
      " [ 4.  2. -1.  0.  1.  0. 12.]\n",
      " [ 1.  4.  0. -1.  0.  1.  6.]]\n",
      "Phase One\n",
      "x_B = [4, 1]\n",
      "[[ 3.5   0.   -1.    0.5   0.   -1.5   9.  ]\n",
      " [ 3.5   0.   -1.    0.5   1.   -0.5   9.  ]\n",
      " [ 0.25  1.    0.   -0.25  0.    0.25  1.5 ]]\n",
      "x_B = [0, 1]\n",
      "[[ 0.          0.          0.          0.         -1.         -1.          0.        ]\n",
      " [ 1.          0.         -0.28571429  0.14285714  0.28571429 -0.14285714  2.57142857]\n",
      " [ 0.          1.          0.07142857 -0.28571429 -0.07142857  0.28571429  0.85714286]]\n",
      "Phase Two\n",
      "x_B = [0, 1]\n",
      "[[-2.         -3.          0.          0.          0.        ]\n",
      " [ 1.          0.         -0.28571429  0.14285714  2.57142857]\n",
      " [ 0.          1.          0.07142857 -0.28571429  0.85714286]]\n",
      "x_B = [0, 1]\n",
      "[[ 0.          0.         -0.35714286 -0.57142857  7.71428571]\n",
      " [ 1.          0.         -0.28571429  0.14285714  2.57142857]\n",
      " [ 0.          1.          0.07142857 -0.28571429  0.85714286]]\n",
      "Optimal solution: x_opt = [2.57142857 0.85714286]\n"
     ]
    }
   ],
   "source": [
    "variable_map = {0: \"x1\", 1: \"x2\", 2: \"x3\", 3: \"x4\", 4: \"u1\", 5: \"u2\"}\n",
    "A = [[4., 2, -1, 0, 1, 0],\n",
    "     [1., 4., 0, -1, 0, 1]]\n",
    "\n",
    "b = [12, 6.0]\n",
    "\n",
    "c_artificial = [0., 0., 0, 0, -1, -1]\n",
    "c = [-2, -3., 0, 0]\n",
    "\n",
    "basic_var = [4, 5]\n",
    "artificial_var = [4, 5]\n",
    "\n",
    "tableau = build_tableau(A, b, c_artificial)\n",
    "tableau = two_phases(tableau, c, basic_var, artificial_var)\n",
    "optimal_solution(tableau, basic_var)\n"
   ]
  },
  {
   "cell_type": "code",
   "execution_count": 29,
   "metadata": {
    "error": [
     {
      "ename": "KeyError",
      "evalue": "29",
      "output_type": "error",
      "traceback": [
       "\u001b[0;31m---------------------------------------------------------------------------\u001b[0m",
       "\u001b[0;31mKeyError\u001b[0m                                  Traceback (most recent call last)",
       "Cell \u001b[0;32mIn[30], line 1\u001b[0m\n\u001b[0;32m----> 1\u001b[0m json\u001b[38;5;241m.\u001b[39mdumps([typehandlerforuniqueobjects(\u001b[43mOut\u001b[49m\u001b[43m[\u001b[49m\u001b[38;5;241;43m29\u001b[39;49m\u001b[43m]\u001b[49m)])\n",
       "\u001b[0;31mKeyError\u001b[0m: 29"
      ]
     }
    ],
    "execution": {
     "iopub.execute_input": "2023-10-05T16:08:09.790263Z",
     "iopub.status.busy": "2023-10-05T16:08:09.789961Z",
     "iopub.status.idle": "2023-10-05T16:08:09.800886Z",
     "shell.execute_reply": "2023-10-05T16:08:09.799843Z"
    }
   },
   "outputs": [
    {
     "name": "stdout",
     "output_type": "stream",
     "text": [
      "x_B = [2, 4]\n",
      "[[ 0.  0.  0.  0. -1.  0.]\n",
      " [ 1.  1.  1.  0.  0. 10.]\n",
      " [-1.  2.  0. -1.  1.  2.]]\n",
      "x_B = [2, 4]\n",
      "[[-1.  2.  0. -1.  0.  2.]\n",
      " [ 1.  1.  1.  0.  0. 10.]\n",
      " [-1.  2.  0. -1.  1.  2.]]\n",
      "Phase One\n",
      "x_B = [2, 1]\n",
      "[[ 0.   0.   0.   0.  -1.   0. ]\n",
      " [ 1.5  0.   1.   0.5 -0.5  9. ]\n",
      " [-0.5  1.   0.  -0.5  0.5  1. ]]\n",
      "Phase Two\n",
      "x_B = [2, 1]\n",
      "[[ 2.   2.   0.   0.   0. ]\n",
      " [ 1.5  0.   1.   0.5  9. ]\n",
      " [-0.5  1.   0.  -0.5  1. ]]\n",
      "x_B = [2, 1]\n",
      "[[ 2.   2.   0.   0.   0. ]\n",
      " [ 1.5  0.   1.   0.5  9. ]\n",
      " [-0.5  1.   0.  -0.5  1. ]]\n",
      "x_B = [0, 1]\n",
      "[[  0.           2.          -1.33333333  -0.66666667 -12.        ]\n",
      " [  1.           0.           0.66666667   0.33333333   6.        ]\n",
      " [  0.           1.           0.33333333  -0.33333333   4.        ]]\n",
      "x_B = [0, 1]\n",
      "[[  0.           0.          -2.           0.         -20.        ]\n",
      " [  1.           0.           0.66666667   0.33333333   6.        ]\n",
      " [  0.           1.           0.33333333  -0.33333333   4.        ]]\n",
      "x_B = [3, 1]\n",
      "[[ -0.   0.  -2.   0. -20.]\n",
      " [  3.   0.   2.   1.  18.]\n",
      " [  1.   1.   1.   0.  10.]]\n",
      "Optimal solution: x_opt = [ 0. 10.]\n"
     ]
    }
   ],
   "source": [
    "variable_map = {0: \"x1\", 1: \"x2\", 2: \"x3\", 3: \"x4\", 4: \"u1\"}\n",
    "A = [[1., 1, 1, 0., 0],\n",
    "     [-1, 2, 0, -1, 1]]\n",
    "\n",
    "b = [10, 2.0]\n",
    "\n",
    "c_artificial = [0., 0., 0, 0, -1]\n",
    "c = [2, 2., 0, 0]\n",
    "\n",
    "basic_var = [2, 4]\n",
    "artificial_var = [4]\n",
    "\n",
    "tableau = build_tableau(A, b, c_artificial)\n",
    "tableau = two_phases(tableau, c, basic_var, artificial_var)\n",
    "optimal_solution(tableau, basic_var)\n"
   ]
  },
  {
   "cell_type": "markdown",
   "metadata": {},
   "source": [
    "9. Resolver por el método de dos faces el siguiente LO"
   ]
  },
  {
   "cell_type": "code",
   "execution_count": 31,
   "metadata": {
    "error": [
     {
      "ename": "KeyError",
      "evalue": "31",
      "output_type": "error",
      "traceback": [
       "\u001b[0;31m---------------------------------------------------------------------------\u001b[0m",
       "\u001b[0;31mKeyError\u001b[0m                                  Traceback (most recent call last)",
       "Cell \u001b[0;32mIn[32], line 1\u001b[0m\n\u001b[0;32m----> 1\u001b[0m json\u001b[38;5;241m.\u001b[39mdumps([typehandlerforuniqueobjects(\u001b[43mOut\u001b[49m\u001b[43m[\u001b[49m\u001b[38;5;241;43m31\u001b[39;49m\u001b[43m]\u001b[49m)])\n",
       "\u001b[0;31mKeyError\u001b[0m: 31"
      ]
     }
    ],
    "execution": {
     "iopub.execute_input": "2023-10-05T16:08:09.830228Z",
     "iopub.status.busy": "2023-10-05T16:08:09.829930Z",
     "iopub.status.idle": "2023-10-05T16:08:09.840618Z",
     "shell.execute_reply": "2023-10-05T16:08:09.839603Z"
    }
   },
   "outputs": [
    {
     "name": "stdout",
     "output_type": "stream",
     "text": [
      "x_B = [2, 4]\n",
      "[[ 0.  0.  0.  0.  0. -1.  0.]\n",
      " [ 1.  1.  1.  1.  0.  0.  1.]\n",
      " [ 4.  1.  6.  0. -1.  1.  2.]]\n",
      "x_B = [2, 4]\n",
      "[[ 0.  0.  0.  0.  0. -1.  0.]\n",
      " [ 1.  1.  1.  1.  0.  0.  1.]\n",
      " [ 4.  1.  6.  0. -1.  1.  2.]]\n",
      "Phase One\n",
      "x_B = [2, 0]\n",
      "[[ 0.    0.    0.    0.    0.   -1.    0.  ]\n",
      " [ 0.    0.75 -0.5   1.    0.25 -0.25  0.5 ]\n",
      " [ 1.    0.25  1.5   0.   -0.25  0.25  0.5 ]]\n",
      "Phase Two\n",
      "x_B = [2, 0]\n",
      "[[ 3.    3.    0.    0.    0.    0.  ]\n",
      " [ 0.    0.75 -0.5   1.   -0.25  0.5 ]\n",
      " [ 1.    0.25  1.5   0.    0.25  0.5 ]]\n",
      "x_B = [2, 0]\n",
      "[[ 3.    3.    0.    0.    0.    0.  ]\n",
      " [ 0.    0.75 -0.5   1.   -0.25  0.5 ]\n",
      " [ 1.    0.25  1.5   0.    0.25  0.5 ]]\n",
      "x_B = [2, 0]\n",
      "[[ 0.    2.25 -4.5   0.   -0.75 -1.5 ]\n",
      " [ 0.    0.75 -0.5   1.   -0.25  0.5 ]\n",
      " [ 1.    0.25  1.5   0.    0.25  0.5 ]]\n",
      "x_B = [1, 0]\n",
      "[[ 0.          0.         -3.         -3.          0.         -3.        ]\n",
      " [ 0.          1.         -0.66666667  1.33333333 -0.33333333  0.66666667]\n",
      " [ 1.          0.          1.66666667 -0.33333333  0.33333333  0.33333333]]\n",
      "Optimal solution: x_opt = [0.33333333 0.66666667 0.        ]\n"
     ]
    }
   ],
   "source": [
    "variable_map = {0: \"x1\", 1: \"x2\", 2: \"x3\", 3: \"x4\", 4: \"x5\", 5: \"u1\"}\n",
    "A = [[1, 1, 1, 1., 0, 0.],\n",
    "     [4, 1, 6, 0, -1, 1]]\n",
    "\n",
    "b = [1, 2.]\n",
    "\n",
    "c_artificial = [0., 0., 0, 0, 0, -1]\n",
    "c = [3, 3., 0, 0, 0.0]\n",
    "\n",
    "basic_var = [2, 4]\n",
    "artificial_var = [4]\n",
    "\n",
    "tableau = build_tableau(A, b, c_artificial)\n",
    "tableau = two_phases(tableau, c, basic_var, artificial_var)\n",
    "optimal_solution(tableau, basic_var)\n"
   ]
  },
  {
   "cell_type": "markdown",
   "metadata": {},
   "source": [
    "11. Elaborar un programa que al ingresar una $4 \\times 6$ matriz arbitraria, verifique si dicha matriz representa las entradas de una tabla simplex (con 2 variables no básicas y 3 variables básicas). Testearlo con una matriz que si represente una tabla simplex y luego con una matrix de igual entradas que el anterior a excepción de la entrada (1, 6)."
   ]
  },
  {
   "cell_type": "code",
   "execution_count": 33,
   "metadata": {
    "execution": {
     "iopub.execute_input": "2023-10-05T16:08:09.869904Z",
     "iopub.status.busy": "2023-10-05T16:08:09.869606Z",
     "iopub.status.idle": "2023-10-05T16:08:09.877649Z",
     "shell.execute_reply": "2023-10-05T16:08:09.876687Z"
    }
   },
   "outputs": [],
   "source": [
    "def check_tableau(tableau: np.ndarray, basic_var: list[int]):\n",
    "    for index, col in enumerate(basic_var):\n",
    "        # cost of basic variable is 0.0\n",
    "        if not tableau[0, col] == 0.0:\n",
    "            print(\"Basic cost isn't zero\")\n",
    "            return False\n",
    "        else:\n",
    "            for row in range(1, len(basic_var) + 1):\n",
    "                if row != index + 1:\n",
    "                    if not tableau[row, col] == 0.0:\n",
    "                        print(f\"Basic column {col} in position {row} isn't zero\")\n",
    "                        return False\n",
    "                else:\n",
    "                    if not tableau[row, col] == 1.0:\n",
    "                        print(f\"Basic column {col} in position {row} isn't one\")\n",
    "                        return False\n",
    "        # b positive\n",
    "        if not tableau[index + 1, -1] >= 0.0:\n",
    "            print(\"B^{-1} b is negative\")\n",
    "            return False\n",
    "    print(\"If it is a simplex table.\")\n",
    "    return True\n"
   ]
  },
  {
   "cell_type": "code",
   "execution_count": 34,
   "metadata": {
    "error": [
     {
      "ename": "KeyError",
      "evalue": "34",
      "output_type": "error",
      "traceback": [
       "\u001b[0;31m---------------------------------------------------------------------------\u001b[0m",
       "\u001b[0;31mKeyError\u001b[0m                                  Traceback (most recent call last)",
       "Cell \u001b[0;32mIn[35], line 1\u001b[0m\n\u001b[0;32m----> 1\u001b[0m json\u001b[38;5;241m.\u001b[39mdumps([typehandlerforuniqueobjects(\u001b[43mOut\u001b[49m\u001b[43m[\u001b[49m\u001b[38;5;241;43m34\u001b[39;49m\u001b[43m]\u001b[49m)])\n",
       "\u001b[0;31mKeyError\u001b[0m: 34"
      ]
     }
    ],
    "execution": {
     "iopub.execute_input": "2023-10-05T16:08:09.881121Z",
     "iopub.status.busy": "2023-10-05T16:08:09.880826Z",
     "iopub.status.idle": "2023-10-05T16:08:09.888125Z",
     "shell.execute_reply": "2023-10-05T16:08:09.887092Z"
    }
   },
   "outputs": [
    {
     "name": "stdout",
     "output_type": "stream",
     "text": [
      "If it is a simplex table.\n"
     ]
    }
   ],
   "source": [
    "tableau = np.array([[3., 2., 0., 0., 0., 0., 0.],\n",
    "                    [1., 1., 1., 0., 0., 0., 9.],\n",
    "                    [3., 1., 0., 1., 0., 0., 18.],\n",
    "                    [1., 0., 0., 0., 1., 0., 7.],\n",
    "                    [0., 1., 0., 0., 0., 1., 6.]])\n",
    "\n",
    "basic_var = [2, 3, 4, 5]\n",
    "check_tableau(tableau, basic_var);\n"
   ]
  }
 ],
 "metadata": {
  "interpreter": {
   "hash": "590f4a299ae404e723bbc5f32e9a7b98b836c3c65ce9112bc934ac92a06ceee3"
  },
  "kernelspec": {
   "display_name": "Python 3.10.4 64-bit",
   "language": "python",
   "name": "python3"
  },
  "language_info": {
   "codemirror_mode": {
    "name": "ipython",
    "version": 3
   },
   "file_extension": ".py",
   "mimetype": "text/x-python",
   "name": "python",
   "nbconvert_exporter": "python",
   "pygments_lexer": "ipython3",
   "version": "3.10.12"
  }
 },
 "nbformat": 4,
 "nbformat_minor": 2
}
