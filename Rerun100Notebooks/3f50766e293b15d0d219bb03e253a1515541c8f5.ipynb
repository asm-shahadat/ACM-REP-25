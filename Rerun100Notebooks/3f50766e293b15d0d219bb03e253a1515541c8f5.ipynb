{
 "cells": [
  {
   "cell_type": "markdown",
   "id": "e56dc9cc",
   "metadata": {},
   "source": [
    "> <div align='center'> The following tutorial is based on Python 3.8, but some interesting features available on newer versions are occasionally mentioned throughout the tutorial</div>\n",
    "\n",
    "> <div align='center'>This tutorial is meant for beginners but also experienced programmers that wish to expand their knowledge</div>\n",
    "    \n",
    "> <div align='center'>No prior programming experience is needed but some basic notions of mathematics are recommended</div>\n",
    "\n",
    "[Python](https://docs.python.org/3.8/) is a high-level, object-oriented programming language that works on many platforms (Linux, Mac, Windows, Raspberry Pi, etc). It's easy to learn and is pretty much used for anything, some examples are:\n",
    "\n",
    "- Web development\n",
    "- Videogame development\n",
    "- AI & Machine Learning\n",
    "- Data analytics\n",
    "\n",
    "Everything in Python is an *object* of an specific type or class. Objects contain data in the form of attributes and code in the form of methods. Objects are instances of classes, which also determine their types.\n",
    "\n",
    "Objects are assigned to *variables*. A variable is a symbolic name that is a reference (or pointer) to an object, but the data itself is still contained within the object.\n",
    "\n",
    "<u>**This tutorial is divided into four notebooks targeting different aspects:**</u>\n",
    "\n",
    "1. Introduction to Python for data analysis: Basics (<u>current one</u>)\n",
    "2. Introduction to Python for data analysis: Functions\n",
    "3. Introduction to Python for data analysis: Object-oriented programming\n",
    "4. Introduction to Python for data analysis: Helpful tips and modules"
   ]
  },
  {
   "cell_type": "markdown",
   "id": "98f0afb1",
   "metadata": {},
   "source": [
    "# <div align=\"center\">Introduction to Python for data analysis: Basics</div>"
   ]
  },
  {
   "cell_type": "markdown",
   "id": "f6827ae6",
   "metadata": {},
   "source": [
    "# Contents\n",
    "\n",
    "1. <a href=\"#intro\">Commenting, printing messages and defining text/numerical variables</a>\n",
    "    1. <a href='#commenting-and-printing'>How to comment code and print a message?</a>\n",
    "    2. <a href='#variable-names'>Variables and variable's names</a>\n",
    "    3. <a href='#string-variable'>How to define a variable containing text?</a>\n",
    "    4. <a href='#integer-variable'>How to define integers variables?</a>\n",
    "    5. <a href='#math'>Simple mathematical operations</a>\n",
    "    6. <a href='#decimal-variables'>How to define decimal values?</a>\n",
    "2. <a href='#printing'>Let's improve our printing</a>\n",
    "3. <a href='#booleans'>Booleans</a>\n",
    "4. <a href='#conditions'>Python conditions and if statements</a>\n",
    "5. <a href='#loops'>Loops</a>\n",
    "6. <a href='#tuples'>Tuples</a>\n",
    "7. <a href='#lists'>Lists</a>\n",
    "8. <a href='#sets'>Sets</a>\n",
    "9. <a href='#dicts'>Dictionaries</a>\n",
    "10. <a href='#mutables-vs-immutables'>Mutables vs immutables</a>\n",
    "11. <a href='#equality-vs-identity'>Equality vs identity</a>\n",
    "12. <a href='#importing'>Importing modules and packages</a>\n",
    "13. <a href='#exercises'>Exercises</a>"
   ]
  },
  {
   "cell_type": "markdown",
   "id": "5b83f30b",
   "metadata": {},
   "source": [
    "## <div id='intro'>1. Commenting, printing messages, defining text and numerical variables</div>"
   ]
  },
  {
   "cell_type": "markdown",
   "id": "e5dc6739",
   "metadata": {},
   "source": [
    "### <div id='commenting-and-printing'>1.A. How to comment code and print a message?</div>"
   ]
  },
  {
   "cell_type": "code",
   "execution_count": 2,
   "id": "e6353d77",
   "metadata": {
    "error": [
     {
      "ename": "KeyError",
      "evalue": "2",
      "output_type": "error",
      "traceback": [
       "\u001b[0;31m---------------------------------------------------------------------------\u001b[0m",
       "\u001b[0;31mKeyError\u001b[0m                                  Traceback (most recent call last)",
       "Cell \u001b[0;32mIn[3], line 1\u001b[0m\n\u001b[0;32m----> 1\u001b[0m json\u001b[38;5;241m.\u001b[39mdumps([typehandlerforuniqueobjects(\u001b[43mOut\u001b[49m\u001b[43m[\u001b[49m\u001b[38;5;241;43m2\u001b[39;49m\u001b[43m]\u001b[49m)])\n",
       "\u001b[0;31mKeyError\u001b[0m: 2"
      ]
     }
    ],
    "execution": {
     "iopub.execute_input": "2023-10-05T04:06:14.483589Z",
     "iopub.status.busy": "2023-10-05T04:06:14.483306Z",
     "iopub.status.idle": "2023-10-05T04:06:14.489593Z",
     "shell.execute_reply": "2023-10-05T04:06:14.488424Z"
    }
   },
   "outputs": [
    {
     "name": "stdout",
     "output_type": "stream",
     "text": [
      "Hello World!\n",
      "My other text\n"
     ]
    }
   ],
   "source": [
    "# This is a comment\n",
    "\n",
    "\"\"\"\n",
    "Note: this is another way\n",
    "of commenting multiple lines\n",
    "\"\"\"\n",
    "\n",
    "# This prints a 'Hello World!' message\n",
    "print('Hello World!') # this is also a comment\n",
    "\n",
    "# I can also concatenate strings\n",
    "print('My','other','text')"
   ]
  },
  {
   "cell_type": "markdown",
   "id": "b94bf29d",
   "metadata": {},
   "source": [
    "**Note:** ```print()``` is a function which takes any number of arguments, and prints them out on one line of text. Each argument is converted to text and is separated by spaces, adding a single '\\n' (new line char) at the end. When called with zero parameters, ```print()``` just prints '\\n' (empty line).\n",
    "\n",
    "As you can see from the examples above, when printing a string/text (for example: ```'Hellow World!'```), ```print()``` just prints out the text data of the string with not quotes.\n",
    "\n",
    "Functions will be further discussed later (in the Introduction_Functions notebook)"
   ]
  },
  {
   "cell_type": "markdown",
   "id": "0e8fc139",
   "metadata": {},
   "source": [
    "### <div id='variable-names'>1.B. Variables and variable's names</div>\n",
    "\n",
    "Variables are used to store numbers, text and other data formats (more about all this soon).\n",
    "\n",
    "One could imagine several different conventions for naming variables.\n",
    "\n",
    "The two most common naming conventions for variables are:\n",
    "\n",
    "#### camelCase:\n",
    "\n",
    "<u>Syntax:</u>\n",
    "\n",
    "```\n",
    "variableName = value\n",
    "```\n",
    "\n",
    "#### snake_case [prefered by community] [pep8 standard]\n",
    "\n",
    "<u>Syntax:</u>\n",
    "\n",
    "```\n",
    "my_var = value\n",
    "```\n",
    "\n",
    "<u>Extra</u>:\n",
    "pep8 style guide: https://www.python.org/dev/peps/pep-0008/"
   ]
  },
  {
   "cell_type": "markdown",
   "id": "87a47488",
   "metadata": {},
   "source": [
    "### <div id='string-variable'>1.C. How to define a string variable (i.e. a variable containing text)?</div>\n",
    "\n",
    "<u>Possible syntaxes:</u>\n",
    "\n",
    "```\n",
    "variable_name          = 'text'\n",
    "my_other_variable_name = \"my other text\"\n",
    "```\n",
    "\n",
    "All strings are stored as Unicode in an instance of the ```str``` class/type (classes will be discussed in the Introduction_Classes notebook)."
   ]
  },
  {
   "cell_type": "code",
   "execution_count": 4,
   "id": "d48a7d20",
   "metadata": {
    "execution": {
     "iopub.execute_input": "2023-10-05T04:06:14.812751Z",
     "iopub.status.busy": "2023-10-05T04:06:14.812460Z",
     "iopub.status.idle": "2023-10-05T04:06:14.817253Z",
     "shell.execute_reply": "2023-10-05T04:06:14.816150Z"
    }
   },
   "outputs": [],
   "source": [
    "string = 'My text'"
   ]
  },
  {
   "cell_type": "markdown",
   "id": "77c07136",
   "metadata": {},
   "source": [
    "One can check the type of a variable with the function ```type()```:"
   ]
  },
  {
   "cell_type": "code",
   "execution_count": 5,
   "id": "e3bad07d",
   "metadata": {
    "error": [
     {
      "ename": "KeyError",
      "evalue": "5",
      "output_type": "error",
      "traceback": [
       "\u001b[0;31m---------------------------------------------------------------------------\u001b[0m",
       "\u001b[0;31mKeyError\u001b[0m                                  Traceback (most recent call last)",
       "Cell \u001b[0;32mIn[6], line 1\u001b[0m\n\u001b[0;32m----> 1\u001b[0m json\u001b[38;5;241m.\u001b[39mdumps([typehandlerforuniqueobjects(\u001b[43mOut\u001b[49m\u001b[43m[\u001b[49m\u001b[38;5;241;43m5\u001b[39;49m\u001b[43m]\u001b[49m)])\n",
       "\u001b[0;31mKeyError\u001b[0m: 5"
      ]
     }
    ],
    "execution": {
     "iopub.execute_input": "2023-10-05T04:06:14.821404Z",
     "iopub.status.busy": "2023-10-05T04:06:14.821119Z",
     "iopub.status.idle": "2023-10-05T04:06:14.826409Z",
     "shell.execute_reply": "2023-10-05T04:06:14.825324Z"
    }
   },
   "outputs": [
    {
     "name": "stdout",
     "output_type": "stream",
     "text": [
      "<class 'str'>\n"
     ]
    }
   ],
   "source": [
    "print(type(string))"
   ]
  },
  {
   "cell_type": "markdown",
   "id": "2498d695",
   "metadata": {},
   "source": [
    "#### How to sum/concatenate strings?"
   ]
  },
  {
   "cell_type": "code",
   "execution_count": 7,
   "id": "6b8dcaf1",
   "metadata": {
    "error": [
     {
      "ename": "KeyError",
      "evalue": "7",
      "output_type": "error",
      "traceback": [
       "\u001b[0;31m---------------------------------------------------------------------------\u001b[0m",
       "\u001b[0;31mKeyError\u001b[0m                                  Traceback (most recent call last)",
       "Cell \u001b[0;32mIn[8], line 1\u001b[0m\n\u001b[0;32m----> 1\u001b[0m json\u001b[38;5;241m.\u001b[39mdumps([typehandlerforuniqueobjects(\u001b[43mOut\u001b[49m\u001b[43m[\u001b[49m\u001b[38;5;241;43m7\u001b[39;49m\u001b[43m]\u001b[49m)])\n",
       "\u001b[0;31mKeyError\u001b[0m: 7"
      ]
     }
    ],
    "execution": {
     "iopub.execute_input": "2023-10-05T04:06:14.858833Z",
     "iopub.status.busy": "2023-10-05T04:06:14.858538Z",
     "iopub.status.idle": "2023-10-05T04:06:14.864047Z",
     "shell.execute_reply": "2023-10-05T04:06:14.863117Z"
    }
   },
   "outputs": [
    {
     "name": "stdout",
     "output_type": "stream",
     "text": [
      "My name is Jonathan\n"
     ]
    }
   ],
   "source": [
    "string_1 = 'My name is '\n",
    "string_2 = 'Jonathan'\n",
    "string = string_1 + string_2\n",
    "print(string)"
   ]
  },
  {
   "cell_type": "markdown",
   "id": "237b80d2",
   "metadata": {},
   "source": [
    "#### How to replace a string by another string?\n",
    "\n",
    "The can be achieved by using the ```replace()``` function\n",
    "\n",
    "**Example:**"
   ]
  },
  {
   "cell_type": "code",
   "execution_count": 9,
   "id": "388b6720",
   "metadata": {
    "error": [
     {
      "ename": "KeyError",
      "evalue": "9",
      "output_type": "error",
      "traceback": [
       "\u001b[0;31m---------------------------------------------------------------------------\u001b[0m",
       "\u001b[0;31mKeyError\u001b[0m                                  Traceback (most recent call last)",
       "Cell \u001b[0;32mIn[10], line 1\u001b[0m\n\u001b[0;32m----> 1\u001b[0m json\u001b[38;5;241m.\u001b[39mdumps([typehandlerforuniqueobjects(\u001b[43mOut\u001b[49m\u001b[43m[\u001b[49m\u001b[38;5;241;43m9\u001b[39;49m\u001b[43m]\u001b[49m)])\n",
       "\u001b[0;31mKeyError\u001b[0m: 9"
      ]
     }
    ],
    "execution": {
     "iopub.execute_input": "2023-10-05T04:06:14.896116Z",
     "iopub.status.busy": "2023-10-05T04:06:14.895808Z",
     "iopub.status.idle": "2023-10-05T04:06:14.901408Z",
     "shell.execute_reply": "2023-10-05T04:06:14.900433Z"
    }
   },
   "outputs": [
    {
     "name": "stdout",
     "output_type": "stream",
     "text": [
      "my_string = My name is Jonathan\n",
      "my_string = My name is David\n"
     ]
    }
   ],
   "source": [
    "my_string = 'My name is Jonathan'\n",
    "print('my_string = ' + my_string) # note that I can concatenate strings!\n",
    "\n",
    "my_string = my_string.replace('Jonathan','David') # my_string now is changed!\n",
    "print('my_string = ' + my_string)"
   ]
  },
  {
   "cell_type": "markdown",
   "id": "3f1c367c",
   "metadata": {},
   "source": [
    "#### The ```format()``` function"
   ]
  },
  {
   "cell_type": "markdown",
   "id": "e37a15a6",
   "metadata": {},
   "source": [
    "The ```format()``` function can be used to insert something into a string.\n",
    "\n",
    "<u>Syntax:</u>\n",
    "\n",
    "```\n",
    "variable = 'some text {} other text'.format(string)\n",
    "```\n",
    "\n",
    "Let's assume ```string = 'plus'```, in that case, the above will produce 'some text plus other text' (i.e. the content of ```string``` will be inserted where ```{}``` is placed). This work also for any other variable type that can be converted to ```str``` (```int```, ```float```, etc).\n",
    "\n",
    "\n",
    "**Example:**"
   ]
  },
  {
   "cell_type": "code",
   "execution_count": 11,
   "id": "2df0e2c8",
   "metadata": {
    "error": [
     {
      "ename": "KeyError",
      "evalue": "11",
      "output_type": "error",
      "traceback": [
       "\u001b[0;31m---------------------------------------------------------------------------\u001b[0m",
       "\u001b[0;31mKeyError\u001b[0m                                  Traceback (most recent call last)",
       "Cell \u001b[0;32mIn[12], line 1\u001b[0m\n\u001b[0;32m----> 1\u001b[0m json\u001b[38;5;241m.\u001b[39mdumps([typehandlerforuniqueobjects(\u001b[43mOut\u001b[49m\u001b[43m[\u001b[49m\u001b[38;5;241;43m11\u001b[39;49m\u001b[43m]\u001b[49m)])\n",
       "\u001b[0;31mKeyError\u001b[0m: 11"
      ]
     }
    ],
    "execution": {
     "iopub.execute_input": "2023-10-05T04:06:14.934340Z",
     "iopub.status.busy": "2023-10-05T04:06:14.934060Z",
     "iopub.status.idle": "2023-10-05T04:06:14.939296Z",
     "shell.execute_reply": "2023-10-05T04:06:14.938294Z"
    }
   },
   "outputs": [
    {
     "name": "stdout",
     "output_type": "stream",
     "text": [
      "My name is Jonathan\n"
     ]
    }
   ],
   "source": [
    "my_name = 'Jonathan'\n",
    "string  = 'My name is {}'.format(my_name)\n",
    "print(string)"
   ]
  },
  {
   "cell_type": "markdown",
   "id": "2335e06e",
   "metadata": {},
   "source": [
    "**If you need to insert something several times, you could use something like the following:**"
   ]
  },
  {
   "cell_type": "code",
   "execution_count": 13,
   "id": "5685f5b4",
   "metadata": {
    "error": [
     {
      "ename": "KeyError",
      "evalue": "13",
      "output_type": "error",
      "traceback": [
       "\u001b[0;31m---------------------------------------------------------------------------\u001b[0m",
       "\u001b[0;31mKeyError\u001b[0m                                  Traceback (most recent call last)",
       "Cell \u001b[0;32mIn[14], line 1\u001b[0m\n\u001b[0;32m----> 1\u001b[0m json\u001b[38;5;241m.\u001b[39mdumps([typehandlerforuniqueobjects(\u001b[43mOut\u001b[49m\u001b[43m[\u001b[49m\u001b[38;5;241;43m13\u001b[39;49m\u001b[43m]\u001b[49m)])\n",
       "\u001b[0;31mKeyError\u001b[0m: 13"
      ]
     }
    ],
    "execution": {
     "iopub.execute_input": "2023-10-05T04:06:14.972203Z",
     "iopub.status.busy": "2023-10-05T04:06:14.971900Z",
     "iopub.status.idle": "2023-10-05T04:06:14.977680Z",
     "shell.execute_reply": "2023-10-05T04:06:14.976712Z"
    }
   },
   "outputs": [
    {
     "name": "stdout",
     "output_type": "stream",
     "text": [
      "My name is Bond, James Bond\n"
     ]
    }
   ],
   "source": [
    "last_name = 'Bond'\n",
    "first_name = 'James'\n",
    "string = 'My name is {0}, {1} {0}'.format(last_name,first_name)\n",
    "print(string)"
   ]
  },
  {
   "cell_type": "markdown",
   "id": "db0aca4b",
   "metadata": {},
   "source": [
    "**Note:** ```{0}``` is replaced by the first argument provided to the format function and ```{1}``` is replaced by the second."
   ]
  },
  {
   "cell_type": "markdown",
   "id": "9e64d909",
   "metadata": {},
   "source": [
    "#### How to find the position of a string within a string?\n",
    "\n",
    "```find()``` searches the string for a specified value and returns the starting position of where it was found (note: indexes start at zero!), it returns ```-1``` if it was not found.\n",
    "\n",
    "**Example:**"
   ]
  },
  {
   "cell_type": "code",
   "execution_count": 15,
   "id": "7ca911c8",
   "metadata": {
    "error": [
     {
      "ename": "KeyError",
      "evalue": "15",
      "output_type": "error",
      "traceback": [
       "\u001b[0;31m---------------------------------------------------------------------------\u001b[0m",
       "\u001b[0;31mKeyError\u001b[0m                                  Traceback (most recent call last)",
       "Cell \u001b[0;32mIn[16], line 1\u001b[0m\n\u001b[0;32m----> 1\u001b[0m json\u001b[38;5;241m.\u001b[39mdumps([typehandlerforuniqueobjects(\u001b[43mOut\u001b[49m\u001b[43m[\u001b[49m\u001b[38;5;241;43m15\u001b[39;49m\u001b[43m]\u001b[49m)])\n",
       "\u001b[0;31mKeyError\u001b[0m: 15"
      ]
     }
    ],
    "execution": {
     "iopub.execute_input": "2023-10-05T04:06:15.011002Z",
     "iopub.status.busy": "2023-10-05T04:06:15.010721Z",
     "iopub.status.idle": "2023-10-05T04:06:15.016134Z",
     "shell.execute_reply": "2023-10-05T04:06:15.015149Z"
    }
   },
   "outputs": [
    {
     "name": "stdout",
     "output_type": "stream",
     "text": [
      "car is at the position 12 in the \"Where is my car?\" string\n"
     ]
    }
   ],
   "source": [
    "string = 'Where is my car?'\n",
    "\n",
    "print(f'car is at the position {string.find(\"car\")} in the \"{string}\" string')"
   ]
  },
  {
   "cell_type": "markdown",
   "id": "e326c74c",
   "metadata": {},
   "source": [
    "### <div id='integer-variable'>1.D. How to define integers variables?</div>"
   ]
  },
  {
   "cell_type": "code",
   "execution_count": 17,
   "id": "25b702c5",
   "metadata": {
    "execution": {
     "iopub.execute_input": "2023-10-05T04:06:15.049873Z",
     "iopub.status.busy": "2023-10-05T04:06:15.049588Z",
     "iopub.status.idle": "2023-10-05T04:06:15.054127Z",
     "shell.execute_reply": "2023-10-05T04:06:15.053180Z"
    },
    "scrolled": true
   },
   "outputs": [],
   "source": [
    "a = 1\n",
    "b = -2"
   ]
  },
  {
   "cell_type": "markdown",
   "id": "12c3f5ee",
   "metadata": {},
   "source": [
    "```a``` and ```b``` could be named pretty much as desired (exceptions and conventions will be seen later, see below)\n",
    "\n",
    "```a``` and ```b``` are of type ```int``` (class ```int```) [classes will be explained later (in the Introduction_Classes notebook)]\n",
    "\n",
    "You can use ```print(type(VARIABLE_NAME))``` to display the type class of ```VARIABLE_NAME```"
   ]
  },
  {
   "cell_type": "code",
   "execution_count": 18,
   "id": "fe3049dc",
   "metadata": {
    "error": [
     {
      "ename": "KeyError",
      "evalue": "18",
      "output_type": "error",
      "traceback": [
       "\u001b[0;31m---------------------------------------------------------------------------\u001b[0m",
       "\u001b[0;31mKeyError\u001b[0m                                  Traceback (most recent call last)",
       "Cell \u001b[0;32mIn[19], line 1\u001b[0m\n\u001b[0;32m----> 1\u001b[0m json\u001b[38;5;241m.\u001b[39mdumps([typehandlerforuniqueobjects(\u001b[43mOut\u001b[49m\u001b[43m[\u001b[49m\u001b[38;5;241;43m18\u001b[39;49m\u001b[43m]\u001b[49m)])\n",
       "\u001b[0;31mKeyError\u001b[0m: 18"
      ]
     }
    ],
    "execution": {
     "iopub.execute_input": "2023-10-05T04:06:15.057852Z",
     "iopub.status.busy": "2023-10-05T04:06:15.057562Z",
     "iopub.status.idle": "2023-10-05T04:06:15.062895Z",
     "shell.execute_reply": "2023-10-05T04:06:15.061834Z"
    }
   },
   "outputs": [
    {
     "name": "stdout",
     "output_type": "stream",
     "text": [
      "<class 'int'>\n",
      "<class 'int'>\n"
     ]
    }
   ],
   "source": [
    "print(type(a))\n",
    "print(type(b))"
   ]
  },
  {
   "cell_type": "markdown",
   "id": "1489c754",
   "metadata": {},
   "source": [
    "### How to print the value of a variable?\n",
    "\n",
    "Let's print the value of ```my_var``` using the ```format()``` function"
   ]
  },
  {
   "cell_type": "code",
   "execution_count": 20,
   "id": "dfefccbf",
   "metadata": {
    "error": [
     {
      "ename": "KeyError",
      "evalue": "20",
      "output_type": "error",
      "traceback": [
       "\u001b[0;31m---------------------------------------------------------------------------\u001b[0m",
       "\u001b[0;31mKeyError\u001b[0m                                  Traceback (most recent call last)",
       "Cell \u001b[0;32mIn[21], line 1\u001b[0m\n\u001b[0;32m----> 1\u001b[0m json\u001b[38;5;241m.\u001b[39mdumps([typehandlerforuniqueobjects(\u001b[43mOut\u001b[49m\u001b[43m[\u001b[49m\u001b[38;5;241;43m20\u001b[39;49m\u001b[43m]\u001b[49m)])\n",
       "\u001b[0;31mKeyError\u001b[0m: 20"
      ]
     }
    ],
    "execution": {
     "iopub.execute_input": "2023-10-05T04:06:15.096828Z",
     "iopub.status.busy": "2023-10-05T04:06:15.096550Z",
     "iopub.status.idle": "2023-10-05T04:06:15.101543Z",
     "shell.execute_reply": "2023-10-05T04:06:15.100624Z"
    }
   },
   "outputs": [
    {
     "name": "stdout",
     "output_type": "stream",
     "text": [
      "a = 1\n"
     ]
    }
   ],
   "source": [
    "print('a = {}'.format(a))"
   ]
  },
  {
   "cell_type": "markdown",
   "id": "844d7014",
   "metadata": {},
   "source": [
    "### <div id='math'>1.E. Simple mathematical operations</div>"
   ]
  },
  {
   "cell_type": "markdown",
   "id": "7b915559",
   "metadata": {},
   "source": [
    "#### Sum"
   ]
  },
  {
   "cell_type": "code",
   "execution_count": 22,
   "id": "aea67719",
   "metadata": {
    "error": [
     {
      "ename": "KeyError",
      "evalue": "22",
      "output_type": "error",
      "traceback": [
       "\u001b[0;31m---------------------------------------------------------------------------\u001b[0m",
       "\u001b[0;31mKeyError\u001b[0m                                  Traceback (most recent call last)",
       "Cell \u001b[0;32mIn[23], line 1\u001b[0m\n\u001b[0;32m----> 1\u001b[0m json\u001b[38;5;241m.\u001b[39mdumps([typehandlerforuniqueobjects(\u001b[43mOut\u001b[49m\u001b[43m[\u001b[49m\u001b[38;5;241;43m22\u001b[39;49m\u001b[43m]\u001b[49m)])\n",
       "\u001b[0;31mKeyError\u001b[0m: 22"
      ]
     }
    ],
    "execution": {
     "iopub.execute_input": "2023-10-05T04:06:15.133478Z",
     "iopub.status.busy": "2023-10-05T04:06:15.133197Z",
     "iopub.status.idle": "2023-10-05T04:06:15.138884Z",
     "shell.execute_reply": "2023-10-05T04:06:15.137905Z"
    }
   },
   "outputs": [
    {
     "name": "stdout",
     "output_type": "stream",
     "text": [
      "c(a+b)   = -1\n",
      "c(a+b+3) = 2\n"
     ]
    }
   ],
   "source": [
    "c = a+b\n",
    "print('c(a+b)   = {}'.format(c))\n",
    "\n",
    "# now sum 3 to c\n",
    "c += 3\n",
    "print('c(a+b+3) = {}'.format(c))"
   ]
  },
  {
   "cell_type": "markdown",
   "id": "1e134ac8",
   "metadata": {},
   "source": [
    "Note that ```x += 3``` is equivalent to ```x = x + 3```\n",
    "\n",
    "So, the above can also be writen in the following way:"
   ]
  },
  {
   "cell_type": "code",
   "execution_count": 24,
   "id": "89db9d3c",
   "metadata": {
    "error": [
     {
      "ename": "KeyError",
      "evalue": "24",
      "output_type": "error",
      "traceback": [
       "\u001b[0;31m---------------------------------------------------------------------------\u001b[0m",
       "\u001b[0;31mKeyError\u001b[0m                                  Traceback (most recent call last)",
       "Cell \u001b[0;32mIn[25], line 1\u001b[0m\n\u001b[0;32m----> 1\u001b[0m json\u001b[38;5;241m.\u001b[39mdumps([typehandlerforuniqueobjects(\u001b[43mOut\u001b[49m\u001b[43m[\u001b[49m\u001b[38;5;241;43m24\u001b[39;49m\u001b[43m]\u001b[49m)])\n",
       "\u001b[0;31mKeyError\u001b[0m: 24"
      ]
     }
    ],
    "execution": {
     "iopub.execute_input": "2023-10-05T04:06:15.173426Z",
     "iopub.status.busy": "2023-10-05T04:06:15.173144Z",
     "iopub.status.idle": "2023-10-05T04:06:15.178683Z",
     "shell.execute_reply": "2023-10-05T04:06:15.177723Z"
    }
   },
   "outputs": [
    {
     "name": "stdout",
     "output_type": "stream",
     "text": [
      "c(a+b+3) = 2\n"
     ]
    }
   ],
   "source": [
    "c = a+b\n",
    "c = c + 3 # new value for c is old value of c plus 3\n",
    "print('c(a+b+3) = {}'.format(c))"
   ]
  },
  {
   "cell_type": "markdown",
   "id": "74bdb1f1",
   "metadata": {},
   "source": [
    "#### Subtraction"
   ]
  },
  {
   "cell_type": "code",
   "execution_count": 26,
   "id": "c840b4e3",
   "metadata": {
    "error": [
     {
      "ename": "KeyError",
      "evalue": "26",
      "output_type": "error",
      "traceback": [
       "\u001b[0;31m---------------------------------------------------------------------------\u001b[0m",
       "\u001b[0;31mKeyError\u001b[0m                                  Traceback (most recent call last)",
       "Cell \u001b[0;32mIn[27], line 1\u001b[0m\n\u001b[0;32m----> 1\u001b[0m json\u001b[38;5;241m.\u001b[39mdumps([typehandlerforuniqueobjects(\u001b[43mOut\u001b[49m\u001b[43m[\u001b[49m\u001b[38;5;241;43m26\u001b[39;49m\u001b[43m]\u001b[49m)])\n",
       "\u001b[0;31mKeyError\u001b[0m: 26"
      ]
     }
    ],
    "execution": {
     "iopub.execute_input": "2023-10-05T04:06:15.211473Z",
     "iopub.status.busy": "2023-10-05T04:06:15.211194Z",
     "iopub.status.idle": "2023-10-05T04:06:15.216585Z",
     "shell.execute_reply": "2023-10-05T04:06:15.215594Z"
    }
   },
   "outputs": [
    {
     "name": "stdout",
     "output_type": "stream",
     "text": [
      "a-b = 3\n"
     ]
    }
   ],
   "source": [
    "d = a-b\n",
    "print('a-b = {}'.format(d))"
   ]
  },
  {
   "cell_type": "markdown",
   "id": "1e227ac5",
   "metadata": {},
   "source": [
    "Another example:"
   ]
  },
  {
   "cell_type": "code",
   "execution_count": 28,
   "id": "338e9062",
   "metadata": {
    "error": [
     {
      "ename": "KeyError",
      "evalue": "28",
      "output_type": "error",
      "traceback": [
       "\u001b[0;31m---------------------------------------------------------------------------\u001b[0m",
       "\u001b[0;31mKeyError\u001b[0m                                  Traceback (most recent call last)",
       "Cell \u001b[0;32mIn[29], line 1\u001b[0m\n\u001b[0;32m----> 1\u001b[0m json\u001b[38;5;241m.\u001b[39mdumps([typehandlerforuniqueobjects(\u001b[43mOut\u001b[49m\u001b[43m[\u001b[49m\u001b[38;5;241;43m28\u001b[39;49m\u001b[43m]\u001b[49m)])\n",
       "\u001b[0;31mKeyError\u001b[0m: 28"
      ]
     }
    ],
    "execution": {
     "iopub.execute_input": "2023-10-05T04:06:15.289409Z",
     "iopub.status.busy": "2023-10-05T04:06:15.289125Z",
     "iopub.status.idle": "2023-10-05T04:06:15.294587Z",
     "shell.execute_reply": "2023-10-05T04:06:15.293614Z"
    }
   },
   "outputs": [
    {
     "name": "stdout",
     "output_type": "stream",
     "text": [
      "(a+b)^2 = 9\n"
     ]
    }
   ],
   "source": [
    "var = (a-b)**2\n",
    "print(f'(a+b)^2 = {var}')"
   ]
  },
  {
   "cell_type": "markdown",
   "id": "5e99e353",
   "metadata": {},
   "source": [
    "#### Mutiplication"
   ]
  },
  {
   "cell_type": "code",
   "execution_count": 30,
   "id": "40517c0e",
   "metadata": {
    "error": [
     {
      "ename": "KeyError",
      "evalue": "30",
      "output_type": "error",
      "traceback": [
       "\u001b[0;31m---------------------------------------------------------------------------\u001b[0m",
       "\u001b[0;31mKeyError\u001b[0m                                  Traceback (most recent call last)",
       "Cell \u001b[0;32mIn[31], line 1\u001b[0m\n\u001b[0;32m----> 1\u001b[0m json\u001b[38;5;241m.\u001b[39mdumps([typehandlerforuniqueobjects(\u001b[43mOut\u001b[49m\u001b[43m[\u001b[49m\u001b[38;5;241;43m30\u001b[39;49m\u001b[43m]\u001b[49m)])\n",
       "\u001b[0;31mKeyError\u001b[0m: 30"
      ]
     }
    ],
    "execution": {
     "iopub.execute_input": "2023-10-05T04:06:15.326787Z",
     "iopub.status.busy": "2023-10-05T04:06:15.326504Z",
     "iopub.status.idle": "2023-10-05T04:06:15.331829Z",
     "shell.execute_reply": "2023-10-05T04:06:15.330849Z"
    }
   },
   "outputs": [
    {
     "name": "stdout",
     "output_type": "stream",
     "text": [
      "5 times 3 = 15\n"
     ]
    }
   ],
   "source": [
    "e = 5 * 3\n",
    "print('5 times 3 = {}'.format(e))"
   ]
  },
  {
   "cell_type": "markdown",
   "id": "c2f3f9fc",
   "metadata": {},
   "source": [
    "#### Division"
   ]
  },
  {
   "cell_type": "code",
   "execution_count": 32,
   "id": "ad2e4c59",
   "metadata": {
    "error": [
     {
      "ename": "KeyError",
      "evalue": "32",
      "output_type": "error",
      "traceback": [
       "\u001b[0;31m---------------------------------------------------------------------------\u001b[0m",
       "\u001b[0;31mKeyError\u001b[0m                                  Traceback (most recent call last)",
       "Cell \u001b[0;32mIn[33], line 1\u001b[0m\n\u001b[0;32m----> 1\u001b[0m json\u001b[38;5;241m.\u001b[39mdumps([typehandlerforuniqueobjects(\u001b[43mOut\u001b[49m\u001b[43m[\u001b[49m\u001b[38;5;241;43m32\u001b[39;49m\u001b[43m]\u001b[49m)])\n",
       "\u001b[0;31mKeyError\u001b[0m: 32"
      ]
     }
    ],
    "execution": {
     "iopub.execute_input": "2023-10-05T04:06:15.363856Z",
     "iopub.status.busy": "2023-10-05T04:06:15.363574Z",
     "iopub.status.idle": "2023-10-05T04:06:15.368871Z",
     "shell.execute_reply": "2023-10-05T04:06:15.367871Z"
    }
   },
   "outputs": [
    {
     "name": "stdout",
     "output_type": "stream",
     "text": [
      "10 divided by 2 = 5.0\n"
     ]
    }
   ],
   "source": [
    "f = 10/2\n",
    "print('10 divided by 2 = {}'.format(f))"
   ]
  },
  {
   "cell_type": "markdown",
   "id": "5cdb14c0",
   "metadata": {},
   "source": [
    "#### Exponentiation"
   ]
  },
  {
   "cell_type": "code",
   "execution_count": 34,
   "id": "d39d5aca",
   "metadata": {
    "error": [
     {
      "ename": "KeyError",
      "evalue": "34",
      "output_type": "error",
      "traceback": [
       "\u001b[0;31m---------------------------------------------------------------------------\u001b[0m",
       "\u001b[0;31mKeyError\u001b[0m                                  Traceback (most recent call last)",
       "Cell \u001b[0;32mIn[35], line 1\u001b[0m\n\u001b[0;32m----> 1\u001b[0m json\u001b[38;5;241m.\u001b[39mdumps([typehandlerforuniqueobjects(\u001b[43mOut\u001b[49m\u001b[43m[\u001b[49m\u001b[38;5;241;43m34\u001b[39;49m\u001b[43m]\u001b[49m)])\n",
       "\u001b[0;31mKeyError\u001b[0m: 34"
      ]
     }
    ],
    "execution": {
     "iopub.execute_input": "2023-10-05T04:06:15.400758Z",
     "iopub.status.busy": "2023-10-05T04:06:15.400476Z",
     "iopub.status.idle": "2023-10-05T04:06:15.405811Z",
     "shell.execute_reply": "2023-10-05T04:06:15.404861Z"
    }
   },
   "outputs": [
    {
     "name": "stdout",
     "output_type": "stream",
     "text": [
      "3^3 (i.e. 3*3*3) = 27\n"
     ]
    }
   ],
   "source": [
    "g = 3**3\n",
    "print('3^3 (i.e. 3*3*3) = {}'.format(g))"
   ]
  },
  {
   "cell_type": "markdown",
   "id": "1a72b8bf",
   "metadata": {},
   "source": [
    "### <div id='decimal-variables'>1.F. How to define decimal values?</div>"
   ]
  },
  {
   "cell_type": "code",
   "execution_count": 36,
   "id": "b68b7254",
   "metadata": {
    "execution": {
     "iopub.execute_input": "2023-10-05T04:06:15.437348Z",
     "iopub.status.busy": "2023-10-05T04:06:15.437067Z",
     "iopub.status.idle": "2023-10-05T04:06:15.441503Z",
     "shell.execute_reply": "2023-10-05T04:06:15.440582Z"
    }
   },
   "outputs": [],
   "source": [
    "ad = 2.1\n",
    "bd = 100.32"
   ]
  },
  {
   "cell_type": "markdown",
   "id": "d096fbd0",
   "metadata": {},
   "source": [
    "```ad``` and ```bd``` are of type ```float``` (class ```float```)"
   ]
  },
  {
   "cell_type": "code",
   "execution_count": 37,
   "id": "1353462f",
   "metadata": {
    "error": [
     {
      "ename": "KeyError",
      "evalue": "37",
      "output_type": "error",
      "traceback": [
       "\u001b[0;31m---------------------------------------------------------------------------\u001b[0m",
       "\u001b[0;31mKeyError\u001b[0m                                  Traceback (most recent call last)",
       "Cell \u001b[0;32mIn[38], line 1\u001b[0m\n\u001b[0;32m----> 1\u001b[0m json\u001b[38;5;241m.\u001b[39mdumps([typehandlerforuniqueobjects(\u001b[43mOut\u001b[49m\u001b[43m[\u001b[49m\u001b[38;5;241;43m37\u001b[39;49m\u001b[43m]\u001b[49m)])\n",
       "\u001b[0;31mKeyError\u001b[0m: 37"
      ]
     }
    ],
    "execution": {
     "iopub.execute_input": "2023-10-05T04:06:15.445283Z",
     "iopub.status.busy": "2023-10-05T04:06:15.445004Z",
     "iopub.status.idle": "2023-10-05T04:06:15.450301Z",
     "shell.execute_reply": "2023-10-05T04:06:15.449327Z"
    }
   },
   "outputs": [
    {
     "name": "stdout",
     "output_type": "stream",
     "text": [
      "<class 'float'>\n",
      "<class 'float'>\n"
     ]
    }
   ],
   "source": [
    "print(type(ad))\n",
    "print(type(bd))"
   ]
  },
  {
   "cell_type": "markdown",
   "id": "f0dc7945",
   "metadata": {},
   "source": [
    "### Assign multiple values to multiple variables"
   ]
  },
  {
   "cell_type": "code",
   "execution_count": 39,
   "id": "04857b33",
   "metadata": {
    "error": [
     {
      "ename": "KeyError",
      "evalue": "39",
      "output_type": "error",
      "traceback": [
       "\u001b[0;31m---------------------------------------------------------------------------\u001b[0m",
       "\u001b[0;31mKeyError\u001b[0m                                  Traceback (most recent call last)",
       "Cell \u001b[0;32mIn[40], line 1\u001b[0m\n\u001b[0;32m----> 1\u001b[0m json\u001b[38;5;241m.\u001b[39mdumps([typehandlerforuniqueobjects(\u001b[43mOut\u001b[49m\u001b[43m[\u001b[49m\u001b[38;5;241;43m39\u001b[39;49m\u001b[43m]\u001b[49m)])\n",
       "\u001b[0;31mKeyError\u001b[0m: 39"
      ]
     }
    ],
    "execution": {
     "iopub.execute_input": "2023-10-05T04:06:15.481903Z",
     "iopub.status.busy": "2023-10-05T04:06:15.481622Z",
     "iopub.status.idle": "2023-10-05T04:06:15.486952Z",
     "shell.execute_reply": "2023-10-05T04:06:15.485999Z"
    }
   },
   "outputs": [
    {
     "name": "stdout",
     "output_type": "stream",
     "text": [
      "x = 100\n",
      "y = 200\n"
     ]
    }
   ],
   "source": [
    "x, y = 100, 200\n",
    "print(f'{x = }')\n",
    "print(f'{y = }')"
   ]
  },
  {
   "cell_type": "markdown",
   "id": "0792f939",
   "metadata": {},
   "source": [
    "### You can assign more than two and it is also possible to assign variables to different types"
   ]
  },
  {
   "cell_type": "code",
   "execution_count": 41,
   "id": "1d4d21f4",
   "metadata": {
    "error": [
     {
      "ename": "KeyError",
      "evalue": "41",
      "output_type": "error",
      "traceback": [
       "\u001b[0;31m---------------------------------------------------------------------------\u001b[0m",
       "\u001b[0;31mKeyError\u001b[0m                                  Traceback (most recent call last)",
       "Cell \u001b[0;32mIn[42], line 1\u001b[0m\n\u001b[0;32m----> 1\u001b[0m json\u001b[38;5;241m.\u001b[39mdumps([typehandlerforuniqueobjects(\u001b[43mOut\u001b[49m\u001b[43m[\u001b[49m\u001b[38;5;241;43m41\u001b[39;49m\u001b[43m]\u001b[49m)])\n",
       "\u001b[0;31mKeyError\u001b[0m: 41"
      ]
     }
    ],
    "execution": {
     "iopub.execute_input": "2023-10-05T04:06:15.520180Z",
     "iopub.status.busy": "2023-10-05T04:06:15.519877Z",
     "iopub.status.idle": "2023-10-05T04:06:15.525552Z",
     "shell.execute_reply": "2023-10-05T04:06:15.524589Z"
    }
   },
   "outputs": [
    {
     "name": "stdout",
     "output_type": "stream",
     "text": [
      "x = 10\n",
      "y = 20\n",
      "z = 'text'\n"
     ]
    }
   ],
   "source": [
    "x, y, z = 10, 20, 'text'\n",
    "print(f'{x = }')\n",
    "print(f'{y = }')\n",
    "print(f'{z = }')"
   ]
  },
  {
   "cell_type": "markdown",
   "id": "720a9c5a",
   "metadata": {},
   "source": [
    "### Assign the same value to multiple variables"
   ]
  },
  {
   "cell_type": "code",
   "execution_count": 43,
   "id": "bfb527d6",
   "metadata": {
    "error": [
     {
      "ename": "KeyError",
      "evalue": "43",
      "output_type": "error",
      "traceback": [
       "\u001b[0;31m---------------------------------------------------------------------------\u001b[0m",
       "\u001b[0;31mKeyError\u001b[0m                                  Traceback (most recent call last)",
       "Cell \u001b[0;32mIn[44], line 1\u001b[0m\n\u001b[0;32m----> 1\u001b[0m json\u001b[38;5;241m.\u001b[39mdumps([typehandlerforuniqueobjects(\u001b[43mOut\u001b[49m\u001b[43m[\u001b[49m\u001b[38;5;241;43m43\u001b[39;49m\u001b[43m]\u001b[49m)])\n",
       "\u001b[0;31mKeyError\u001b[0m: 43"
      ]
     }
    ],
    "execution": {
     "iopub.execute_input": "2023-10-05T04:06:15.557882Z",
     "iopub.status.busy": "2023-10-05T04:06:15.557600Z",
     "iopub.status.idle": "2023-10-05T04:06:15.563018Z",
     "shell.execute_reply": "2023-10-05T04:06:15.562055Z"
    }
   },
   "outputs": [
    {
     "name": "stdout",
     "output_type": "stream",
     "text": [
      "x = 5\n",
      "y = 5\n"
     ]
    }
   ],
   "source": [
    "x = y = 5\n",
    "print(f'{x = }')\n",
    "print(f'{y = }')"
   ]
  },
  {
   "cell_type": "markdown",
   "id": "b2a06f8c",
   "metadata": {},
   "source": [
    "## <div id='printing'>2. Let's improve our printing</div>"
   ]
  },
  {
   "cell_type": "markdown",
   "id": "6c1b2b85",
   "metadata": {},
   "source": [
    "Let's print ```a``` and ```ad``` (defined above)"
   ]
  },
  {
   "cell_type": "code",
   "execution_count": 45,
   "id": "de490360",
   "metadata": {
    "error": [
     {
      "ename": "KeyError",
      "evalue": "45",
      "output_type": "error",
      "traceback": [
       "\u001b[0;31m---------------------------------------------------------------------------\u001b[0m",
       "\u001b[0;31mKeyError\u001b[0m                                  Traceback (most recent call last)",
       "Cell \u001b[0;32mIn[46], line 1\u001b[0m\n\u001b[0;32m----> 1\u001b[0m json\u001b[38;5;241m.\u001b[39mdumps([typehandlerforuniqueobjects(\u001b[43mOut\u001b[49m\u001b[43m[\u001b[49m\u001b[38;5;241;43m45\u001b[39;49m\u001b[43m]\u001b[49m)])\n",
       "\u001b[0;31mKeyError\u001b[0m: 45"
      ]
     }
    ],
    "execution": {
     "iopub.execute_input": "2023-10-05T04:06:15.595002Z",
     "iopub.status.busy": "2023-10-05T04:06:15.594720Z",
     "iopub.status.idle": "2023-10-05T04:06:15.600154Z",
     "shell.execute_reply": "2023-10-05T04:06:15.599167Z"
    }
   },
   "outputs": [
    {
     "name": "stdout",
     "output_type": "stream",
     "text": [
      "a  = 1\n",
      "ad = 2.1\n"
     ]
    }
   ],
   "source": [
    "print('a  = {}'.format(a))\n",
    "print('ad = {}'.format(ad))"
   ]
  },
  {
   "cell_type": "markdown",
   "id": "3dd62db7",
   "metadata": {},
   "source": [
    "**Let's now use f-string (Python 3.6+)**\n",
    "\n",
    "f-string is a shorter way of using ```format()``` when constructing a string (variable of type ```str```). This can be particularly helpful when printing.\n",
    "\n",
    "<u>Syntax:</u>\n",
    "\n",
    "```\n",
    "string = f'{variable_name}'\n",
    "```\n",
    "\n",
    "```{variable_name}``` will be replaced by the value of ```variable_name```\n",
    "\n",
    "The above simplifies the old ```format()``` method:\n",
    "\n",
    "```\n",
    "string = '{}'.format(variable_name)\n",
    "```"
   ]
  },
  {
   "cell_type": "markdown",
   "id": "df7d32f9",
   "metadata": {},
   "source": [
    "**Example 1:**"
   ]
  },
  {
   "cell_type": "code",
   "execution_count": 47,
   "id": "2841fa94",
   "metadata": {
    "error": [
     {
      "ename": "KeyError",
      "evalue": "47",
      "output_type": "error",
      "traceback": [
       "\u001b[0;31m---------------------------------------------------------------------------\u001b[0m",
       "\u001b[0;31mKeyError\u001b[0m                                  Traceback (most recent call last)",
       "Cell \u001b[0;32mIn[48], line 1\u001b[0m\n\u001b[0;32m----> 1\u001b[0m json\u001b[38;5;241m.\u001b[39mdumps([typehandlerforuniqueobjects(\u001b[43mOut\u001b[49m\u001b[43m[\u001b[49m\u001b[38;5;241;43m47\u001b[39;49m\u001b[43m]\u001b[49m)])\n",
       "\u001b[0;31mKeyError\u001b[0m: 47"
      ]
     }
    ],
    "execution": {
     "iopub.execute_input": "2023-10-05T04:06:15.632296Z",
     "iopub.status.busy": "2023-10-05T04:06:15.631993Z",
     "iopub.status.idle": "2023-10-05T04:06:15.637232Z",
     "shell.execute_reply": "2023-10-05T04:06:15.636273Z"
    }
   },
   "outputs": [
    {
     "name": "stdout",
     "output_type": "stream",
     "text": [
      "a  = 1\n",
      "ad = 2.1\n"
     ]
    }
   ],
   "source": [
    "print(f'a  = {a}') \n",
    "print(f'ad = {ad}')"
   ]
  },
  {
   "cell_type": "markdown",
   "id": "b1069213",
   "metadata": {},
   "source": [
    "**Reminder:** this works for formatting any string (not only to be used with print!)"
   ]
  },
  {
   "cell_type": "markdown",
   "id": "05d4d5d1",
   "metadata": {},
   "source": [
    "**Example 2:**"
   ]
  },
  {
   "cell_type": "code",
   "execution_count": 49,
   "id": "d6b4a3b4",
   "metadata": {
    "error": [
     {
      "ename": "KeyError",
      "evalue": "49",
      "output_type": "error",
      "traceback": [
       "\u001b[0;31m---------------------------------------------------------------------------\u001b[0m",
       "\u001b[0;31mKeyError\u001b[0m                                  Traceback (most recent call last)",
       "Cell \u001b[0;32mIn[50], line 1\u001b[0m\n\u001b[0;32m----> 1\u001b[0m json\u001b[38;5;241m.\u001b[39mdumps([typehandlerforuniqueobjects(\u001b[43mOut\u001b[49m\u001b[43m[\u001b[49m\u001b[38;5;241;43m49\u001b[39;49m\u001b[43m]\u001b[49m)])\n",
       "\u001b[0;31mKeyError\u001b[0m: 49"
      ]
     }
    ],
    "execution": {
     "iopub.execute_input": "2023-10-05T04:06:15.669589Z",
     "iopub.status.busy": "2023-10-05T04:06:15.669310Z",
     "iopub.status.idle": "2023-10-05T04:06:15.674732Z",
     "shell.execute_reply": "2023-10-05T04:06:15.673758Z"
    }
   },
   "outputs": [
    {
     "name": "stdout",
     "output_type": "stream",
     "text": [
      "f-string is awesome!\n"
     ]
    }
   ],
   "source": [
    "awesome = 'awesome'\n",
    "string  = f'f-string is {awesome}!'\n",
    "print(string)"
   ]
  },
  {
   "cell_type": "markdown",
   "id": "a8fe2825",
   "metadata": {},
   "source": [
    "**Or even better=shorter (Python 3.8+):**\n",
    "\n",
    "<u>Syntax:</u>\n",
    "\n",
    "```\n",
    "string = f'{variable_name = }'\n",
    "```\n",
    "\n",
    "**Note:** the equal (```=```) goes inside the ```{}``` and after ```variable_name```\n",
    "\n",
    "The above will print ```variable_name = variable_name's content```"
   ]
  },
  {
   "cell_type": "code",
   "execution_count": 51,
   "id": "9a93f3bb",
   "metadata": {
    "error": [
     {
      "ename": "KeyError",
      "evalue": "51",
      "output_type": "error",
      "traceback": [
       "\u001b[0;31m---------------------------------------------------------------------------\u001b[0m",
       "\u001b[0;31mKeyError\u001b[0m                                  Traceback (most recent call last)",
       "Cell \u001b[0;32mIn[52], line 1\u001b[0m\n\u001b[0;32m----> 1\u001b[0m json\u001b[38;5;241m.\u001b[39mdumps([typehandlerforuniqueobjects(\u001b[43mOut\u001b[49m\u001b[43m[\u001b[49m\u001b[38;5;241;43m51\u001b[39;49m\u001b[43m]\u001b[49m)])\n",
       "\u001b[0;31mKeyError\u001b[0m: 51"
      ]
     }
    ],
    "execution": {
     "iopub.execute_input": "2023-10-05T04:06:15.707482Z",
     "iopub.status.busy": "2023-10-05T04:06:15.707199Z",
     "iopub.status.idle": "2023-10-05T04:06:15.712631Z",
     "shell.execute_reply": "2023-10-05T04:06:15.711645Z"
    }
   },
   "outputs": [
    {
     "name": "stdout",
     "output_type": "stream",
     "text": [
      "a  = 1\n",
      "ad = 2.1\n"
     ]
    }
   ],
   "source": [
    "print(f'{a  = }')\n",
    "print(f'{ad = }')"
   ]
  },
  {
   "cell_type": "markdown",
   "id": "28fea6d5",
   "metadata": {},
   "source": [
    "**Multiple inputs to format (using format and f-string):**"
   ]
  },
  {
   "cell_type": "code",
   "execution_count": 53,
   "id": "954d4ec9",
   "metadata": {
    "error": [
     {
      "ename": "KeyError",
      "evalue": "53",
      "output_type": "error",
      "traceback": [
       "\u001b[0;31m---------------------------------------------------------------------------\u001b[0m",
       "\u001b[0;31mKeyError\u001b[0m                                  Traceback (most recent call last)",
       "Cell \u001b[0;32mIn[54], line 1\u001b[0m\n\u001b[0;32m----> 1\u001b[0m json\u001b[38;5;241m.\u001b[39mdumps([typehandlerforuniqueobjects(\u001b[43mOut\u001b[49m\u001b[43m[\u001b[49m\u001b[38;5;241;43m53\u001b[39;49m\u001b[43m]\u001b[49m)])\n",
       "\u001b[0;31mKeyError\u001b[0m: 53"
      ]
     }
    ],
    "execution": {
     "iopub.execute_input": "2023-10-05T04:06:15.744965Z",
     "iopub.status.busy": "2023-10-05T04:06:15.744683Z",
     "iopub.status.idle": "2023-10-05T04:06:15.750109Z",
     "shell.execute_reply": "2023-10-05T04:06:15.749138Z"
    }
   },
   "outputs": [
    {
     "name": "stdout",
     "output_type": "stream",
     "text": [
      "a=1 and ad=2.1\n",
      "a=1 and ad=2.1\n"
     ]
    }
   ],
   "source": [
    "print('a={} and ad={}'.format(a,ad))\n",
    "print(f'a={a} and ad={ad}')"
   ]
  },
  {
   "cell_type": "markdown",
   "id": "9b2bd13c",
   "metadata": {},
   "source": [
    "## <div id='booleans'>3. Booleans</div>\n",
    "\n",
    "Booleans are of type ```bool```"
   ]
  },
  {
   "cell_type": "code",
   "execution_count": 55,
   "id": "5048e488",
   "metadata": {
    "error": [
     {
      "ename": "KeyError",
      "evalue": "55",
      "output_type": "error",
      "traceback": [
       "\u001b[0;31m---------------------------------------------------------------------------\u001b[0m",
       "\u001b[0;31mKeyError\u001b[0m                                  Traceback (most recent call last)",
       "Cell \u001b[0;32mIn[56], line 1\u001b[0m\n\u001b[0;32m----> 1\u001b[0m json\u001b[38;5;241m.\u001b[39mdumps([typehandlerforuniqueobjects(\u001b[43mOut\u001b[49m\u001b[43m[\u001b[49m\u001b[38;5;241;43m55\u001b[39;49m\u001b[43m]\u001b[49m)])\n",
       "\u001b[0;31mKeyError\u001b[0m: 55"
      ]
     }
    ],
    "execution": {
     "iopub.execute_input": "2023-10-05T04:06:15.783628Z",
     "iopub.status.busy": "2023-10-05T04:06:15.783351Z",
     "iopub.status.idle": "2023-10-05T04:06:15.788927Z",
     "shell.execute_reply": "2023-10-05T04:06:15.787961Z"
    }
   },
   "outputs": [
    {
     "name": "stdout",
     "output_type": "stream",
     "text": [
      "type(pass_a) = <class 'bool'>\n",
      "type(pass_b) = <class 'bool'>\n"
     ]
    }
   ],
   "source": [
    "pass_a = True  # also equal to 1\n",
    "pass_b = False # also equal to 0\n",
    "print(f'{type(pass_a) = }')\n",
    "print(f'{type(pass_b) = }')"
   ]
  },
  {
   "cell_type": "markdown",
   "id": "81ae9d45",
   "metadata": {},
   "source": [
    "### What does ```bool(string)``` return?\n",
    "\n",
    "If I pass an empty string to ```bool()```, it will return ```False```. If I pass an non-empty string to ```bool()```, it will return ```True```.\n",
    "\n",
    "**Examples:**"
   ]
  },
  {
   "cell_type": "code",
   "execution_count": 57,
   "id": "b4197a68",
   "metadata": {
    "error": [
     {
      "ename": "KeyError",
      "evalue": "57",
      "output_type": "error",
      "traceback": [
       "\u001b[0;31m---------------------------------------------------------------------------\u001b[0m",
       "\u001b[0;31mKeyError\u001b[0m                                  Traceback (most recent call last)",
       "Cell \u001b[0;32mIn[58], line 1\u001b[0m\n\u001b[0;32m----> 1\u001b[0m json\u001b[38;5;241m.\u001b[39mdumps([typehandlerforuniqueobjects(\u001b[43mOut\u001b[49m\u001b[43m[\u001b[49m\u001b[38;5;241;43m57\u001b[39;49m\u001b[43m]\u001b[49m)])\n",
       "\u001b[0;31mKeyError\u001b[0m: 57"
      ]
     }
    ],
    "execution": {
     "iopub.execute_input": "2023-10-05T04:06:15.820719Z",
     "iopub.status.busy": "2023-10-05T04:06:15.820439Z",
     "iopub.status.idle": "2023-10-05T04:06:15.826443Z",
     "shell.execute_reply": "2023-10-05T04:06:15.825476Z"
    }
   },
   "outputs": [
    {
     "name": "stdout",
     "output_type": "stream",
     "text": [
      "bool(string_1) = False\n",
      "bool(string_2) = True\n",
      "bool(string_3) = True\n"
     ]
    }
   ],
   "source": [
    "string_1 = ''\n",
    "string_2 = 'test'\n",
    "string_3 = ' ' # this is also not an empty string (it has an space!)\n",
    "print(f'{bool(string_1) = }')\n",
    "print(f'{bool(string_2) = }')\n",
    "print(f'{bool(string_3) = }')"
   ]
  },
  {
   "cell_type": "markdown",
   "id": "807be9d7",
   "metadata": {},
   "source": [
    "## <div id='conditions'>4. Python conditions and if statements</div>\n",
    "\n",
    "### Conditions\n",
    "\n",
    "* Equals: ```a == b```\n",
    "* Not Equals: ```a != b```\n",
    "* Less than: ```a < b```\n",
    "* Less than or equal to: ```a <= b```\n",
    "* Greater than: ```a > b```\n",
    "* Greater than or equal to: ```a >= b```\n",
    "\n",
    "### if else elif\n",
    "\n",
    "Usage:\n",
    "```\n",
    "if condition: # if condition is True, it will execute what is inside (i.e. do something)\n",
    "    # do something (note: the identation must be 2/4 spaces or a tab (4 spaces are the preferred indentation method), and must be consistent!)\n",
    "elif other_condition: (i.e. else if)\n",
    "    # do something else  \n",
    "else: # if none of the above are True\n",
    "    # do another thing\n",
    "````\n",
    "\n",
    "#### Example 1:"
   ]
  },
  {
   "cell_type": "code",
   "execution_count": 59,
   "id": "74d2517f",
   "metadata": {
    "error": [
     {
      "ename": "KeyError",
      "evalue": "59",
      "output_type": "error",
      "traceback": [
       "\u001b[0;31m---------------------------------------------------------------------------\u001b[0m",
       "\u001b[0;31mKeyError\u001b[0m                                  Traceback (most recent call last)",
       "Cell \u001b[0;32mIn[60], line 1\u001b[0m\n\u001b[0;32m----> 1\u001b[0m json\u001b[38;5;241m.\u001b[39mdumps([typehandlerforuniqueobjects(\u001b[43mOut\u001b[49m\u001b[43m[\u001b[49m\u001b[38;5;241;43m59\u001b[39;49m\u001b[43m]\u001b[49m)])\n",
       "\u001b[0;31mKeyError\u001b[0m: 59"
      ]
     }
    ],
    "execution": {
     "iopub.execute_input": "2023-10-05T04:06:15.858434Z",
     "iopub.status.busy": "2023-10-05T04:06:15.858150Z",
     "iopub.status.idle": "2023-10-05T04:06:15.863702Z",
     "shell.execute_reply": "2023-10-05T04:06:15.862747Z"
    }
   },
   "outputs": [
    {
     "name": "stdout",
     "output_type": "stream",
     "text": [
      "pass_a is True\n"
     ]
    }
   ],
   "source": [
    "if pass_a: # it will enter since it was defined as True (see above)\n",
    "    print('pass_a is True')\n",
    "else: # if pass_a is False, it will execute what is below\n",
    "    print('pass_a is not True, i.e. is False')"
   ]
  },
  {
   "cell_type": "markdown",
   "id": "f0c9c490",
   "metadata": {},
   "source": [
    "#### Example 2:\n",
    "\n",
    "```if not variable``` is only ```True``` if ```variable``` is ```False```"
   ]
  },
  {
   "cell_type": "code",
   "execution_count": 61,
   "id": "c01dbe9e",
   "metadata": {
    "error": [
     {
      "ename": "KeyError",
      "evalue": "61",
      "output_type": "error",
      "traceback": [
       "\u001b[0;31m---------------------------------------------------------------------------\u001b[0m",
       "\u001b[0;31mKeyError\u001b[0m                                  Traceback (most recent call last)",
       "Cell \u001b[0;32mIn[62], line 1\u001b[0m\n\u001b[0;32m----> 1\u001b[0m json\u001b[38;5;241m.\u001b[39mdumps([typehandlerforuniqueobjects(\u001b[43mOut\u001b[49m\u001b[43m[\u001b[49m\u001b[38;5;241;43m61\u001b[39;49m\u001b[43m]\u001b[49m)])\n",
       "\u001b[0;31mKeyError\u001b[0m: 61"
      ]
     }
    ],
    "execution": {
     "iopub.execute_input": "2023-10-05T04:06:15.895766Z",
     "iopub.status.busy": "2023-10-05T04:06:15.895480Z",
     "iopub.status.idle": "2023-10-05T04:06:15.901024Z",
     "shell.execute_reply": "2023-10-05T04:06:15.900058Z"
    }
   },
   "outputs": [
    {
     "name": "stdout",
     "output_type": "stream",
     "text": [
      "pass_b is False\n"
     ]
    }
   ],
   "source": [
    "if not pass_b: # it will enter since pass_b was defined as False (see above)\n",
    "    # if pass_b is True, then condition is equal to False\n",
    "    # if pass_b is False, then condition is equal to True and is satisfied and executes what is below\n",
    "    print('pass_b is False')\n",
    "else:\n",
    "    print('pass_b is True, i.e. is not False')"
   ]
  },
  {
   "cell_type": "markdown",
   "id": "fa66ba92",
   "metadata": {},
   "source": [
    "#### Example 3: Compare strings"
   ]
  },
  {
   "cell_type": "code",
   "execution_count": 63,
   "id": "a12aceb9",
   "metadata": {
    "error": [
     {
      "ename": "KeyError",
      "evalue": "63",
      "output_type": "error",
      "traceback": [
       "\u001b[0;31m---------------------------------------------------------------------------\u001b[0m",
       "\u001b[0;31mKeyError\u001b[0m                                  Traceback (most recent call last)",
       "Cell \u001b[0;32mIn[64], line 1\u001b[0m\n\u001b[0;32m----> 1\u001b[0m json\u001b[38;5;241m.\u001b[39mdumps([typehandlerforuniqueobjects(\u001b[43mOut\u001b[49m\u001b[43m[\u001b[49m\u001b[38;5;241;43m63\u001b[39;49m\u001b[43m]\u001b[49m)])\n",
       "\u001b[0;31mKeyError\u001b[0m: 63"
      ]
     }
    ],
    "execution": {
     "iopub.execute_input": "2023-10-05T04:06:15.933124Z",
     "iopub.status.busy": "2023-10-05T04:06:15.932845Z",
     "iopub.status.idle": "2023-10-05T04:06:15.938654Z",
     "shell.execute_reply": "2023-10-05T04:06:15.937689Z"
    }
   },
   "outputs": [
    {
     "name": "stdout",
     "output_type": "stream",
     "text": [
      "string = 'f-string is awesome!'\n",
      "string is not equal to \"My other text\"\n"
     ]
    }
   ],
   "source": [
    "print(f'{string = }')\n",
    "if string == 'My text':\n",
    "    print('string is equal to \"My text\"') # note how I managed to use a quote (\"\" and '' and interchangeable)\n",
    "\n",
    "if string != 'My other text':\n",
    "    print('string is not equal to \"My other text\"') # note that I used \"\" to show text in the print"
   ]
  },
  {
   "cell_type": "markdown",
   "id": "d52c4b39",
   "metadata": {},
   "source": [
    "#### Example 4: Compare integers"
   ]
  },
  {
   "cell_type": "code",
   "execution_count": 65,
   "id": "7fce90c5",
   "metadata": {
    "error": [
     {
      "ename": "KeyError",
      "evalue": "65",
      "output_type": "error",
      "traceback": [
       "\u001b[0;31m---------------------------------------------------------------------------\u001b[0m",
       "\u001b[0;31mKeyError\u001b[0m                                  Traceback (most recent call last)",
       "Cell \u001b[0;32mIn[66], line 1\u001b[0m\n\u001b[0;32m----> 1\u001b[0m json\u001b[38;5;241m.\u001b[39mdumps([typehandlerforuniqueobjects(\u001b[43mOut\u001b[49m\u001b[43m[\u001b[49m\u001b[38;5;241;43m65\u001b[39;49m\u001b[43m]\u001b[49m)])\n",
       "\u001b[0;31mKeyError\u001b[0m: 65"
      ]
     }
    ],
    "execution": {
     "iopub.execute_input": "2023-10-05T04:06:15.970550Z",
     "iopub.status.busy": "2023-10-05T04:06:15.970271Z",
     "iopub.status.idle": "2023-10-05T04:06:15.977093Z",
     "shell.execute_reply": "2023-10-05T04:06:15.976123Z"
    }
   },
   "outputs": [
    {
     "name": "stdout",
     "output_type": "stream",
     "text": [
      "n is equal to 100\n",
      "n is not equal to 50\n",
      "n is larger than 50\n",
      "n is smaller than 1000\n"
     ]
    }
   ],
   "source": [
    "n = 100\n",
    "if n == 50: # == means equal\n",
    "    print('n is equal to 50')\n",
    "elif n == 100:\n",
    "    print('n is equal to 100')\n",
    "else:\n",
    "    print('n is not equal to 50 nor to 100')\n",
    "    \n",
    "if n != 50: # != means different\n",
    "    print('n is not equal to 50')\n",
    "\n",
    "if n > 50: # > means larger\n",
    "    print('n is larger than 50')\n",
    "\n",
    "if n < 1000: # < means smaller\n",
    "    print('n is smaller than 1000')"
   ]
  },
  {
   "cell_type": "markdown",
   "id": "ffaaed76",
   "metadata": {},
   "source": [
    "#### Example 5: In-line if else (```var = value_1 if CONDITION else value_2```)"
   ]
  },
  {
   "cell_type": "code",
   "execution_count": 67,
   "id": "12c80480",
   "metadata": {
    "error": [
     {
      "ename": "KeyError",
      "evalue": "67",
      "output_type": "error",
      "traceback": [
       "\u001b[0;31m---------------------------------------------------------------------------\u001b[0m",
       "\u001b[0;31mKeyError\u001b[0m                                  Traceback (most recent call last)",
       "Cell \u001b[0;32mIn[68], line 1\u001b[0m\n\u001b[0;32m----> 1\u001b[0m json\u001b[38;5;241m.\u001b[39mdumps([typehandlerforuniqueobjects(\u001b[43mOut\u001b[49m\u001b[43m[\u001b[49m\u001b[38;5;241;43m67\u001b[39;49m\u001b[43m]\u001b[49m)])\n",
       "\u001b[0;31mKeyError\u001b[0m: 67"
      ]
     }
    ],
    "execution": {
     "iopub.execute_input": "2023-10-05T04:06:16.008824Z",
     "iopub.status.busy": "2023-10-05T04:06:16.008542Z",
     "iopub.status.idle": "2023-10-05T04:06:16.013688Z",
     "shell.execute_reply": "2023-10-05T04:06:16.012785Z"
    }
   },
   "outputs": [
    {
     "name": "stdout",
     "output_type": "stream",
     "text": [
      "sucess = False\n"
     ]
    }
   ],
   "source": [
    "sucess = True if string == 'My text' else False # sucess is True if string == 'My text', otherwise is False\n",
    "print(f'{sucess = }')"
   ]
  },
  {
   "cell_type": "markdown",
   "id": "a4e55e8a",
   "metadata": {},
   "source": [
    "**Example 6:** Check if a string starts with a another given string, by using the ```startswith()``` function"
   ]
  },
  {
   "cell_type": "code",
   "execution_count": 69,
   "id": "13a6bc16",
   "metadata": {
    "error": [
     {
      "ename": "KeyError",
      "evalue": "69",
      "output_type": "error",
      "traceback": [
       "\u001b[0;31m---------------------------------------------------------------------------\u001b[0m",
       "\u001b[0;31mKeyError\u001b[0m                                  Traceback (most recent call last)",
       "Cell \u001b[0;32mIn[70], line 1\u001b[0m\n\u001b[0;32m----> 1\u001b[0m json\u001b[38;5;241m.\u001b[39mdumps([typehandlerforuniqueobjects(\u001b[43mOut\u001b[49m\u001b[43m[\u001b[49m\u001b[38;5;241;43m69\u001b[39;49m\u001b[43m]\u001b[49m)])\n",
       "\u001b[0;31mKeyError\u001b[0m: 69"
      ]
     }
    ],
    "execution": {
     "iopub.execute_input": "2023-10-05T04:06:16.044840Z",
     "iopub.status.busy": "2023-10-05T04:06:16.044555Z",
     "iopub.status.idle": "2023-10-05T04:06:16.049560Z",
     "shell.execute_reply": "2023-10-05T04:06:16.048649Z"
    }
   },
   "outputs": [
    {
     "name": "stdout",
     "output_type": "stream",
     "text": [
      "The phrace \"An apple a day keeps the doctor away\" starts with \"An\"\n"
     ]
    }
   ],
   "source": [
    "string = 'An apple a day keeps the doctor away'\n",
    "if string.startswith('An'):\n",
    "    print(f'The phrace \"{string}\" starts with \"An\"')"
   ]
  },
  {
   "cell_type": "markdown",
   "id": "a3db688d",
   "metadata": {},
   "source": [
    "**Note:** One can check if a string ends with a given string with the ```endswith()``` function.\n",
    "\n",
    "For a complete list of functions (also called methods, more about this in the Introduction_Classes notebook) available for the ```str``` type, check https://www.w3schools.com/python/python_ref_string.asp."
   ]
  },
  {
   "cell_type": "markdown",
   "id": "62fc5d00",
   "metadata": {},
   "source": [
    "### Logical operators\n",
    "\n",
    "* ```and```: returns ```True``` if both statements are ```True```.\n",
    "\n",
    "* ```or```: returns ```True``` if one of the statements is ```True.\n",
    "\n",
    "* ```not```: already discussed (it reverse the result, i.e returns ```False``` if the result is ```True```).\n",
    "\n",
    "**Examples:**"
   ]
  },
  {
   "cell_type": "code",
   "execution_count": 71,
   "id": "44cec45e",
   "metadata": {
    "error": [
     {
      "ename": "KeyError",
      "evalue": "71",
      "output_type": "error",
      "traceback": [
       "\u001b[0;31m---------------------------------------------------------------------------\u001b[0m",
       "\u001b[0;31mKeyError\u001b[0m                                  Traceback (most recent call last)",
       "Cell \u001b[0;32mIn[72], line 1\u001b[0m\n\u001b[0;32m----> 1\u001b[0m json\u001b[38;5;241m.\u001b[39mdumps([typehandlerforuniqueobjects(\u001b[43mOut\u001b[49m\u001b[43m[\u001b[49m\u001b[38;5;241;43m71\u001b[39;49m\u001b[43m]\u001b[49m)])\n",
       "\u001b[0;31mKeyError\u001b[0m: 71"
      ]
     }
    ],
    "execution": {
     "iopub.execute_input": "2023-10-05T04:06:16.082439Z",
     "iopub.status.busy": "2023-10-05T04:06:16.082161Z",
     "iopub.status.idle": "2023-10-05T04:06:16.087740Z",
     "shell.execute_reply": "2023-10-05T04:06:16.086835Z"
    }
   },
   "outputs": [
    {
     "name": "stdout",
     "output_type": "stream",
     "text": [
      "x == 5 and y == 6\n",
      "x == 5 or y == 5\n"
     ]
    }
   ],
   "source": [
    "x = 5\n",
    "y = 6\n",
    "if x == 5 and y == 6:\n",
    "    print('x == 5 and y == 6')\n",
    "\n",
    "if x == 5 or y == 5:\n",
    "    print('x == 5 or y == 5')"
   ]
  },
  {
   "cell_type": "markdown",
   "id": "4da37f76",
   "metadata": {},
   "source": [
    "**Note:** One can use as many ```and``` and ```or``` as desired and all logical operators can be used simultaneously. Example: ```if x < a and y < b and (pass_1 or pass_2):```"
   ]
  },
  {
   "cell_type": "markdown",
   "id": "9f1c73d2",
   "metadata": {},
   "source": [
    "### Sometimes, ```and``` can be suppressed: the ```x < y < z``` case\n",
    "\n",
    "The following two conditions are equivalent:"
   ]
  },
  {
   "cell_type": "code",
   "execution_count": 73,
   "id": "01cdca4b",
   "metadata": {
    "error": [
     {
      "ename": "KeyError",
      "evalue": "73",
      "output_type": "error",
      "traceback": [
       "\u001b[0;31m---------------------------------------------------------------------------\u001b[0m",
       "\u001b[0;31mKeyError\u001b[0m                                  Traceback (most recent call last)",
       "Cell \u001b[0;32mIn[74], line 1\u001b[0m\n\u001b[0;32m----> 1\u001b[0m json\u001b[38;5;241m.\u001b[39mdumps([typehandlerforuniqueobjects(\u001b[43mOut\u001b[49m\u001b[43m[\u001b[49m\u001b[38;5;241;43m73\u001b[39;49m\u001b[43m]\u001b[49m)])\n",
       "\u001b[0;31mKeyError\u001b[0m: 73"
      ]
     }
    ],
    "execution": {
     "iopub.execute_input": "2023-10-05T04:06:16.119131Z",
     "iopub.status.busy": "2023-10-05T04:06:16.118852Z",
     "iopub.status.idle": "2023-10-05T04:06:16.124531Z",
     "shell.execute_reply": "2023-10-05T04:06:16.123622Z"
    }
   },
   "outputs": [
    {
     "name": "stdout",
     "output_type": "stream",
     "text": [
      "x < y < z\n",
      "x < y < z\n"
     ]
    }
   ],
   "source": [
    "x = 5\n",
    "y = 6\n",
    "z = 7\n",
    "\n",
    "if x < y and y < z:\n",
    "    print('x < y < z')\n",
    "\n",
    "if x < y < z:\n",
    "    print('x < y < z')"
   ]
  },
  {
   "cell_type": "markdown",
   "id": "ad8e8a5e",
   "metadata": {},
   "source": [
    "## <div id='loops'>5. Loops</div>\n",
    "\n",
    "Imagine we want to print numbers from 0 to 9\n",
    "\n",
    "```range(n)```: gives numbers from 0 upto n-1 (incrementing by 1)\n",
    "\n",
    "```\n",
    "for i in range(10): # i could be named as you wish\n",
    "    print(i) # note: the identation (must be 2/4 spaces or a tab, and must be consistent!)\n",
    "    # remember: we can print variables of other types too! here i is of type int\n",
    "    # I leave the loop once i reaches 10 and content is not executed\n",
    "```\n",
    "\n",
    "\n",
    "**Throughout explanation:**\n",
    "\n",
    "The above checks if ```i``` is smaller than 10, if it is, then executes what is within the loop (the print)\n",
    "then, increments ```i``` by 1, checks again if ```i``` is smaller than 10, if it is, executes the print and so on...\n",
    "until ```i == 10``` (hence not smaller than 10) which stops the loop (print is not executed) and the loop ends\n",
    "\n",
    "**Important:** ```range(n)``` starts always at zero, if one wants to start at any other value, one should use ```range(start, n)``` instead."
   ]
  },
  {
   "cell_type": "code",
   "execution_count": 75,
   "id": "c141cfc1",
   "metadata": {
    "error": [
     {
      "ename": "KeyError",
      "evalue": "75",
      "output_type": "error",
      "traceback": [
       "\u001b[0;31m---------------------------------------------------------------------------\u001b[0m",
       "\u001b[0;31mKeyError\u001b[0m                                  Traceback (most recent call last)",
       "Cell \u001b[0;32mIn[76], line 1\u001b[0m\n\u001b[0;32m----> 1\u001b[0m json\u001b[38;5;241m.\u001b[39mdumps([typehandlerforuniqueobjects(\u001b[43mOut\u001b[49m\u001b[43m[\u001b[49m\u001b[38;5;241;43m75\u001b[39;49m\u001b[43m]\u001b[49m)])\n",
       "\u001b[0;31mKeyError\u001b[0m: 75"
      ]
     }
    ],
    "execution": {
     "iopub.execute_input": "2023-10-05T04:06:16.155522Z",
     "iopub.status.busy": "2023-10-05T04:06:16.155243Z",
     "iopub.status.idle": "2023-10-05T04:06:16.160249Z",
     "shell.execute_reply": "2023-10-05T04:06:16.159343Z"
    }
   },
   "outputs": [
    {
     "name": "stdout",
     "output_type": "stream",
     "text": [
      "0\n",
      "1\n",
      "2\n",
      "3\n",
      "4\n",
      "5\n",
      "6\n",
      "7\n",
      "8\n",
      "9\n"
     ]
    }
   ],
   "source": [
    "for i in range(10):\n",
    "    print(i)"
   ]
  },
  {
   "cell_type": "markdown",
   "id": "6f415b80",
   "metadata": {},
   "source": [
    "The above is equivalent to the following (now using ```while```)"
   ]
  },
  {
   "cell_type": "code",
   "execution_count": 77,
   "id": "c2a0bff4",
   "metadata": {
    "error": [
     {
      "ename": "KeyError",
      "evalue": "77",
      "output_type": "error",
      "traceback": [
       "\u001b[0;31m---------------------------------------------------------------------------\u001b[0m",
       "\u001b[0;31mKeyError\u001b[0m                                  Traceback (most recent call last)",
       "Cell \u001b[0;32mIn[78], line 1\u001b[0m\n\u001b[0;32m----> 1\u001b[0m json\u001b[38;5;241m.\u001b[39mdumps([typehandlerforuniqueobjects(\u001b[43mOut\u001b[49m\u001b[43m[\u001b[49m\u001b[38;5;241;43m77\u001b[39;49m\u001b[43m]\u001b[49m)])\n",
       "\u001b[0;31mKeyError\u001b[0m: 77"
      ]
     }
    ],
    "execution": {
     "iopub.execute_input": "2023-10-05T04:06:16.191836Z",
     "iopub.status.busy": "2023-10-05T04:06:16.191552Z",
     "iopub.status.idle": "2023-10-05T04:06:16.196971Z",
     "shell.execute_reply": "2023-10-05T04:06:16.196058Z"
    }
   },
   "outputs": [
    {
     "name": "stdout",
     "output_type": "stream",
     "text": [
      "\n",
      "Now do a loop using while \n",
      "\n",
      "0\n",
      "1\n",
      "2\n",
      "3\n",
      "4\n",
      "5\n",
      "6\n",
      "7\n",
      "8\n",
      "9\n"
     ]
    }
   ],
   "source": [
    "print('\\nNow do a loop using while \\n')\n",
    "i = 0\n",
    "while i < 10: # enter only if i is smaller than 10\n",
    "    print(i)\n",
    "    i += 1    # here I increment manually i by 1"
   ]
  },
  {
   "cell_type": "markdown",
   "id": "4320e1f9",
   "metadata": {},
   "source": [
    "### How to break/exit a loop?\n",
    "\n",
    "Use the ```break``` statement.\n",
    "\n",
    "**Example:**"
   ]
  },
  {
   "cell_type": "code",
   "execution_count": 79,
   "id": "4a0a105f",
   "metadata": {
    "error": [
     {
      "ename": "KeyError",
      "evalue": "79",
      "output_type": "error",
      "traceback": [
       "\u001b[0;31m---------------------------------------------------------------------------\u001b[0m",
       "\u001b[0;31mKeyError\u001b[0m                                  Traceback (most recent call last)",
       "Cell \u001b[0;32mIn[80], line 1\u001b[0m\n\u001b[0;32m----> 1\u001b[0m json\u001b[38;5;241m.\u001b[39mdumps([typehandlerforuniqueobjects(\u001b[43mOut\u001b[49m\u001b[43m[\u001b[49m\u001b[38;5;241;43m79\u001b[39;49m\u001b[43m]\u001b[49m)])\n",
       "\u001b[0;31mKeyError\u001b[0m: 79"
      ]
     }
    ],
    "execution": {
     "iopub.execute_input": "2023-10-05T04:06:16.228622Z",
     "iopub.status.busy": "2023-10-05T04:06:16.228341Z",
     "iopub.status.idle": "2023-10-05T04:06:16.233580Z",
     "shell.execute_reply": "2023-10-05T04:06:16.232679Z"
    }
   },
   "outputs": [
    {
     "name": "stdout",
     "output_type": "stream",
     "text": [
      "i = 0\n",
      "i = 1\n",
      "i = 2\n",
      "i = 3\n",
      "i = 4\n",
      "i = 5\n"
     ]
    }
   ],
   "source": [
    "for i in range(10):\n",
    "    if i > 5:\n",
    "        break\n",
    "    print(f'{i = }')"
   ]
  },
  {
   "cell_type": "markdown",
   "id": "02aec334",
   "metadata": {},
   "source": [
    "### How to skip some iterations on a loop?\n",
    "\n",
    "The ```continue``` statement allows you to skip over the part of a loop, but the rest of the loop will be completed, i.e. the current iteration of the loop will not finish, but the program will return to the top of the loop.\n",
    "\n",
    "**Example:** print odd numbers between 0 and 9"
   ]
  },
  {
   "cell_type": "code",
   "execution_count": 81,
   "id": "18a42af5",
   "metadata": {
    "error": [
     {
      "ename": "KeyError",
      "evalue": "81",
      "output_type": "error",
      "traceback": [
       "\u001b[0;31m---------------------------------------------------------------------------\u001b[0m",
       "\u001b[0;31mKeyError\u001b[0m                                  Traceback (most recent call last)",
       "Cell \u001b[0;32mIn[82], line 1\u001b[0m\n\u001b[0;32m----> 1\u001b[0m json\u001b[38;5;241m.\u001b[39mdumps([typehandlerforuniqueobjects(\u001b[43mOut\u001b[49m\u001b[43m[\u001b[49m\u001b[38;5;241;43m81\u001b[39;49m\u001b[43m]\u001b[49m)])\n",
       "\u001b[0;31mKeyError\u001b[0m: 81"
      ]
     }
    ],
    "execution": {
     "iopub.execute_input": "2023-10-05T04:06:16.265324Z",
     "iopub.status.busy": "2023-10-05T04:06:16.265044Z",
     "iopub.status.idle": "2023-10-05T04:06:16.270475Z",
     "shell.execute_reply": "2023-10-05T04:06:16.269563Z"
    }
   },
   "outputs": [
    {
     "name": "stdout",
     "output_type": "stream",
     "text": [
      "i = 1\n",
      "i = 3\n",
      "i = 5\n",
      "i = 7\n",
      "i = 9\n"
     ]
    }
   ],
   "source": [
    "for i in range(10):\n",
    "    if i % 2 == 0: # True if i is even (x % 2 gives the remainder of the division)\n",
    "        continue # skip this iteration (based on the value of i, in this case when i is odd)\n",
    "    print(f'{i = }')"
   ]
  },
  {
   "cell_type": "markdown",
   "id": "d7afd5d8",
   "metadata": {},
   "source": [
    "**Note:** the above can be written more compactly:\n",
    "\n",
    "```\n",
    "for i in range(10):\n",
    "    if i % 2 != 0:\n",
    "        print(f'{i = }')\n",
    "```"
   ]
  },
  {
   "cell_type": "markdown",
   "id": "3ac4d536",
   "metadata": {},
   "source": [
    "## <div id='tuples'>6. Tuples</div>"
   ]
  },
  {
   "cell_type": "markdown",
   "id": "1c2a53e1",
   "metadata": {},
   "source": [
    "Tuples are used to store multiple items in a single variable.\n",
    "\n",
    "A ```tuple``` is one of the 4 built-in data types in Python used to store collections of data, the other 3 are ```list```, ```set```, and ```dict``` (all these will be introduced later).\n",
    "\n",
    "A tuple is a collection which is **ordered** (which means the order in which you put the items is kept).\n",
    "\n",
    "**Items on a tuple can be duplicated.**\n",
    "\n",
    "Tuples are written with round brackets ```()```.\n",
    "\n",
    "Tuples are immutable (this will be explained later on this notebook).\n",
    "\n",
    "**Example:**"
   ]
  },
  {
   "cell_type": "code",
   "execution_count": 83,
   "id": "420786ba",
   "metadata": {
    "error": [
     {
      "ename": "KeyError",
      "evalue": "83",
      "output_type": "error",
      "traceback": [
       "\u001b[0;31m---------------------------------------------------------------------------\u001b[0m",
       "\u001b[0;31mKeyError\u001b[0m                                  Traceback (most recent call last)",
       "Cell \u001b[0;32mIn[84], line 1\u001b[0m\n\u001b[0;32m----> 1\u001b[0m json\u001b[38;5;241m.\u001b[39mdumps([typehandlerforuniqueobjects(\u001b[43mOut\u001b[49m\u001b[43m[\u001b[49m\u001b[38;5;241;43m83\u001b[39;49m\u001b[43m]\u001b[49m)])\n",
       "\u001b[0;31mKeyError\u001b[0m: 83"
      ]
     }
    ],
    "execution": {
     "iopub.execute_input": "2023-10-05T04:06:16.302604Z",
     "iopub.status.busy": "2023-10-05T04:06:16.302295Z",
     "iopub.status.idle": "2023-10-05T04:06:16.307831Z",
     "shell.execute_reply": "2023-10-05T04:06:16.306922Z"
    }
   },
   "outputs": [
    {
     "name": "stdout",
     "output_type": "stream",
     "text": [
      "The type of my_tuple is <class 'tuple'>\n",
      "my_tuple = ('apple', 'orange', 'pineapple', 'strawberry')\n"
     ]
    }
   ],
   "source": [
    "my_tuple = ('apple', 'orange', 'pineapple', 'strawberry')\n",
    "print(f'The type of my_tuple is {type(my_tuple)}')\n",
    "print(f'{my_tuple = }')"
   ]
  },
  {
   "cell_type": "markdown",
   "id": "2c529015",
   "metadata": {},
   "source": [
    "**Note:** A tuple can contain any type (```str```, ```int```, ```float```, ```bool```, etc)"
   ]
  },
  {
   "cell_type": "markdown",
   "id": "3d4c5d31",
   "metadata": {},
   "source": [
    "**Note:** One can loop over the items of a tuple, the syntax is the same as for lists (see below)."
   ]
  },
  {
   "cell_type": "markdown",
   "id": "61f90882",
   "metadata": {},
   "source": [
    "## <div id='lists'>7. Lists</div>\n",
    "\n",
    "Lists are used to store multiple items in a single variable.\n",
    "\n",
    "Lists are created using square brackets ```[]```.\n",
    "\n",
    "List items are **ordered** and **allow duplicate values**.\n",
    "\n",
    "List items are indexed. The first index is 0.\n",
    "\n",
    "Lists are mutable (this will be explained later on this notebook).\n",
    "\n",
    "**Examples:**"
   ]
  },
  {
   "cell_type": "code",
   "execution_count": 85,
   "id": "12be4eb4",
   "metadata": {
    "error": [
     {
      "ename": "KeyError",
      "evalue": "85",
      "output_type": "error",
      "traceback": [
       "\u001b[0;31m---------------------------------------------------------------------------\u001b[0m",
       "\u001b[0;31mKeyError\u001b[0m                                  Traceback (most recent call last)",
       "Cell \u001b[0;32mIn[86], line 1\u001b[0m\n\u001b[0;32m----> 1\u001b[0m json\u001b[38;5;241m.\u001b[39mdumps([typehandlerforuniqueobjects(\u001b[43mOut\u001b[49m\u001b[43m[\u001b[49m\u001b[38;5;241;43m85\u001b[39;49m\u001b[43m]\u001b[49m)])\n",
       "\u001b[0;31mKeyError\u001b[0m: 85"
      ]
     }
    ],
    "execution": {
     "iopub.execute_input": "2023-10-05T04:06:16.341099Z",
     "iopub.status.busy": "2023-10-05T04:06:16.340820Z",
     "iopub.status.idle": "2023-10-05T04:06:16.346880Z",
     "shell.execute_reply": "2023-10-05T04:06:16.345995Z"
    }
   },
   "outputs": [
    {
     "name": "stdout",
     "output_type": "stream",
     "text": [
      "<class 'list'>\n",
      "<class 'list'>\n",
      "<class 'list'>\n"
     ]
    }
   ],
   "source": [
    "list_a = [1,2,3,4]\n",
    "list_b = ['a','b','c','d','e']\n",
    "list_c = [1,'a',2.3] # lists can be of any type (simultaneously!)\n",
    "\n",
    "# The above variables (list_x) are of type list (class list)\n",
    "print(type(list_a))\n",
    "print(type(list_b))\n",
    "print(type(list_c))"
   ]
  },
  {
   "cell_type": "markdown",
   "id": "c8fe6a37",
   "metadata": {
    "scrolled": true
   },
   "source": [
    "### How to add a new element to a list?\n",
    "\n",
    "There are two ways\n",
    "\n",
    "1. Using the ```append()``` function:"
   ]
  },
  {
   "cell_type": "code",
   "execution_count": 87,
   "id": "71c0b779",
   "metadata": {
    "error": [
     {
      "ename": "KeyError",
      "evalue": "87",
      "output_type": "error",
      "traceback": [
       "\u001b[0;31m---------------------------------------------------------------------------\u001b[0m",
       "\u001b[0;31mKeyError\u001b[0m                                  Traceback (most recent call last)",
       "Cell \u001b[0;32mIn[88], line 1\u001b[0m\n\u001b[0;32m----> 1\u001b[0m json\u001b[38;5;241m.\u001b[39mdumps([typehandlerforuniqueobjects(\u001b[43mOut\u001b[49m\u001b[43m[\u001b[49m\u001b[38;5;241;43m87\u001b[39;49m\u001b[43m]\u001b[49m)])\n",
       "\u001b[0;31mKeyError\u001b[0m: 87"
      ]
     }
    ],
    "execution": {
     "iopub.execute_input": "2023-10-05T04:06:16.379917Z",
     "iopub.status.busy": "2023-10-05T04:06:16.379636Z",
     "iopub.status.idle": "2023-10-05T04:06:16.384987Z",
     "shell.execute_reply": "2023-10-05T04:06:16.384088Z"
    }
   },
   "outputs": [
    {
     "name": "stdout",
     "output_type": "stream",
     "text": [
      "list1 = [0, 1, 2, 3, 4]\n"
     ]
    }
   ],
   "source": [
    "list1 = [] # this defines an empty list\n",
    "for i in range(5):\n",
    "    list1.append(i) # adds i to the end of the list\n",
    "print(f'{list1 = }')"
   ]
  },
  {
   "cell_type": "markdown",
   "id": "a6d0355c",
   "metadata": {},
   "source": [
    "2. Concatenating lists with ```+=```\n",
    "\n",
    "The above is equivalent to the following"
   ]
  },
  {
   "cell_type": "code",
   "execution_count": 89,
   "id": "ba74006c",
   "metadata": {
    "error": [
     {
      "ename": "KeyError",
      "evalue": "89",
      "output_type": "error",
      "traceback": [
       "\u001b[0;31m---------------------------------------------------------------------------\u001b[0m",
       "\u001b[0;31mKeyError\u001b[0m                                  Traceback (most recent call last)",
       "Cell \u001b[0;32mIn[90], line 1\u001b[0m\n\u001b[0;32m----> 1\u001b[0m json\u001b[38;5;241m.\u001b[39mdumps([typehandlerforuniqueobjects(\u001b[43mOut\u001b[49m\u001b[43m[\u001b[49m\u001b[38;5;241;43m89\u001b[39;49m\u001b[43m]\u001b[49m)])\n",
       "\u001b[0;31mKeyError\u001b[0m: 89"
      ]
     }
    ],
    "execution": {
     "iopub.execute_input": "2023-10-05T04:06:16.415964Z",
     "iopub.status.busy": "2023-10-05T04:06:16.415684Z",
     "iopub.status.idle": "2023-10-05T04:06:16.421111Z",
     "shell.execute_reply": "2023-10-05T04:06:16.420214Z"
    }
   },
   "outputs": [
    {
     "name": "stdout",
     "output_type": "stream",
     "text": [
      "list2 = [0, 1, 2, 3, 4]\n"
     ]
    }
   ],
   "source": [
    "list2 = [] # this defines an empty list\n",
    "for i in range(5):\n",
    "    list2 += [i] # concatenate lists\n",
    "print(f'{list2 = }')"
   ]
  },
  {
   "cell_type": "markdown",
   "id": "c7f7e17d",
   "metadata": {},
   "source": [
    "### How to know the size/length of a list (number of items)?\n",
    "\n",
    "Use the ```len()``` function.\n",
    "\n",
    "**Example:**"
   ]
  },
  {
   "cell_type": "code",
   "execution_count": 91,
   "id": "46a54d16",
   "metadata": {
    "error": [
     {
      "ename": "KeyError",
      "evalue": "91",
      "output_type": "error",
      "traceback": [
       "\u001b[0;31m---------------------------------------------------------------------------\u001b[0m",
       "\u001b[0;31mKeyError\u001b[0m                                  Traceback (most recent call last)",
       "Cell \u001b[0;32mIn[92], line 1\u001b[0m\n\u001b[0;32m----> 1\u001b[0m json\u001b[38;5;241m.\u001b[39mdumps([typehandlerforuniqueobjects(\u001b[43mOut\u001b[49m\u001b[43m[\u001b[49m\u001b[38;5;241;43m91\u001b[39;49m\u001b[43m]\u001b[49m)])\n",
       "\u001b[0;31mKeyError\u001b[0m: 91"
      ]
     }
    ],
    "execution": {
     "iopub.execute_input": "2023-10-05T04:06:16.452105Z",
     "iopub.status.busy": "2023-10-05T04:06:16.451803Z",
     "iopub.status.idle": "2023-10-05T04:06:16.456684Z",
     "shell.execute_reply": "2023-10-05T04:06:16.455747Z"
    }
   },
   "outputs": [
    {
     "name": "stdout",
     "output_type": "stream",
     "text": [
      "size of list1 = 5\n"
     ]
    }
   ],
   "source": [
    "print(f'size of list1 = {len(list1)}')"
   ]
  },
  {
   "cell_type": "markdown",
   "id": "03d9abaa",
   "metadata": {},
   "source": [
    "### Get content from a given index (reminder: indexing starts at zero!)"
   ]
  },
  {
   "cell_type": "code",
   "execution_count": 93,
   "id": "a316ed0f",
   "metadata": {
    "error": [
     {
      "ename": "KeyError",
      "evalue": "93",
      "output_type": "error",
      "traceback": [
       "\u001b[0;31m---------------------------------------------------------------------------\u001b[0m",
       "\u001b[0;31mKeyError\u001b[0m                                  Traceback (most recent call last)",
       "Cell \u001b[0;32mIn[94], line 1\u001b[0m\n\u001b[0;32m----> 1\u001b[0m json\u001b[38;5;241m.\u001b[39mdumps([typehandlerforuniqueobjects(\u001b[43mOut\u001b[49m\u001b[43m[\u001b[49m\u001b[38;5;241;43m93\u001b[39;49m\u001b[43m]\u001b[49m)])\n",
       "\u001b[0;31mKeyError\u001b[0m: 93"
      ]
     }
    ],
    "execution": {
     "iopub.execute_input": "2023-10-05T04:06:16.487971Z",
     "iopub.status.busy": "2023-10-05T04:06:16.487676Z",
     "iopub.status.idle": "2023-10-05T04:06:16.493380Z",
     "shell.execute_reply": "2023-10-05T04:06:16.492481Z"
    }
   },
   "outputs": [
    {
     "name": "stdout",
     "output_type": "stream",
     "text": [
      "list_d = [1, 2, 4, 5]\n",
      "Content of list_d at index 0: 1\n",
      "Content of list_d at index 1: 2\n",
      "Final element of list_d: 5\n"
     ]
    }
   ],
   "source": [
    "list_d = [1,2,4,5]\n",
    "print(f'{list_d = }')\n",
    "print(f'Content of list_d at index 0: {list_d[0]}')\n",
    "print(f'Content of list_d at index 1: {list_d[1]}')\n",
    "print(f'Final element of list_d: {list_d[-1]}')"
   ]
  },
  {
   "cell_type": "markdown",
   "id": "a587e069",
   "metadata": {},
   "source": [
    "### How to remove an item at a given index from a list with ```pop()```?\n",
    "\n",
    "<u>Syntax:</u>\n",
    "```\n",
    "pop(index)\n",
    "```\n",
    "\n",
    "**Note:** ```pop()``` returns the removed item."
   ]
  },
  {
   "cell_type": "code",
   "execution_count": 95,
   "id": "c6a6fd49",
   "metadata": {
    "error": [
     {
      "ename": "KeyError",
      "evalue": "95",
      "output_type": "error",
      "traceback": [
       "\u001b[0;31m---------------------------------------------------------------------------\u001b[0m",
       "\u001b[0;31mKeyError\u001b[0m                                  Traceback (most recent call last)",
       "Cell \u001b[0;32mIn[96], line 1\u001b[0m\n\u001b[0;32m----> 1\u001b[0m json\u001b[38;5;241m.\u001b[39mdumps([typehandlerforuniqueobjects(\u001b[43mOut\u001b[49m\u001b[43m[\u001b[49m\u001b[38;5;241;43m95\u001b[39;49m\u001b[43m]\u001b[49m)])\n",
       "\u001b[0;31mKeyError\u001b[0m: 95"
      ]
     }
    ],
    "execution": {
     "iopub.execute_input": "2023-10-05T04:06:16.525376Z",
     "iopub.status.busy": "2023-10-05T04:06:16.525098Z",
     "iopub.status.idle": "2023-10-05T04:06:16.530928Z",
     "shell.execute_reply": "2023-10-05T04:06:16.530015Z"
    }
   },
   "outputs": [
    {
     "name": "stdout",
     "output_type": "stream",
     "text": [
      "my_list = [1, 2, 3, 4, 5]\n",
      "my_list after removing 2 = [1, 3, 4, 5]\n",
      "removed item: 2\n"
     ]
    }
   ],
   "source": [
    "my_list = [1,2,3,4,5]\n",
    "print(f'{my_list = }')\n",
    "\n",
    "# remove 2 (at index 1) from my_list\n",
    "removed_item = my_list.pop(1)\n",
    "\n",
    "print(f'my_list after removing 2 = {my_list}')\n",
    "print(f'removed item: {removed_item}')"
   ]
  },
  {
   "cell_type": "markdown",
   "id": "9f7697d0",
   "metadata": {},
   "source": [
    "### Get a subset of a list\n",
    "\n",
    "Let's get the first two elements of ```list_d```"
   ]
  },
  {
   "cell_type": "code",
   "execution_count": 97,
   "id": "6d5da87a",
   "metadata": {
    "error": [
     {
      "ename": "KeyError",
      "evalue": "97",
      "output_type": "error",
      "traceback": [
       "\u001b[0;31m---------------------------------------------------------------------------\u001b[0m",
       "\u001b[0;31mKeyError\u001b[0m                                  Traceback (most recent call last)",
       "Cell \u001b[0;32mIn[98], line 1\u001b[0m\n\u001b[0;32m----> 1\u001b[0m json\u001b[38;5;241m.\u001b[39mdumps([typehandlerforuniqueobjects(\u001b[43mOut\u001b[49m\u001b[43m[\u001b[49m\u001b[38;5;241;43m97\u001b[39;49m\u001b[43m]\u001b[49m)])\n",
       "\u001b[0;31mKeyError\u001b[0m: 97"
      ]
     }
    ],
    "execution": {
     "iopub.execute_input": "2023-10-05T04:06:16.563067Z",
     "iopub.status.busy": "2023-10-05T04:06:16.562789Z",
     "iopub.status.idle": "2023-10-05T04:06:16.567691Z",
     "shell.execute_reply": "2023-10-05T04:06:16.566788Z"
    }
   },
   "outputs": [
    {
     "name": "stdout",
     "output_type": "stream",
     "text": [
      "[1, 2]\n"
     ]
    }
   ],
   "source": [
    "list_d_first_two = list_d[0:2]\n",
    "print(list_d_first_two)"
   ]
  },
  {
   "cell_type": "markdown",
   "id": "2bb24cbe",
   "metadata": {},
   "source": [
    "**Note:**\n",
    "1. ```list[x:y]``` will get you a new list with elements from ```x``` upto ```y-1```\n",
    "2. You can get all elements starting from a given index ```a``` with ```list[a:]```\n",
    "2. You can get all elements up to a given index ```a``` with ```list[:a+1]``` (the ```+1``` is needed since it retrieves values upto the index ```(a+1)-1```."
   ]
  },
  {
   "cell_type": "markdown",
   "id": "bf21834d",
   "metadata": {},
   "source": [
    "### Loop over items of a list"
   ]
  },
  {
   "cell_type": "code",
   "execution_count": 99,
   "id": "2b10b776",
   "metadata": {
    "error": [
     {
      "ename": "KeyError",
      "evalue": "99",
      "output_type": "error",
      "traceback": [
       "\u001b[0;31m---------------------------------------------------------------------------\u001b[0m",
       "\u001b[0;31mKeyError\u001b[0m                                  Traceback (most recent call last)",
       "Cell \u001b[0;32mIn[100], line 1\u001b[0m\n\u001b[0;32m----> 1\u001b[0m json\u001b[38;5;241m.\u001b[39mdumps([typehandlerforuniqueobjects(\u001b[43mOut\u001b[49m\u001b[43m[\u001b[49m\u001b[38;5;241;43m99\u001b[39;49m\u001b[43m]\u001b[49m)])\n",
       "\u001b[0;31mKeyError\u001b[0m: 99"
      ]
     }
    ],
    "execution": {
     "iopub.execute_input": "2023-10-05T04:06:16.598951Z",
     "iopub.status.busy": "2023-10-05T04:06:16.598672Z",
     "iopub.status.idle": "2023-10-05T04:06:16.603584Z",
     "shell.execute_reply": "2023-10-05T04:06:16.602683Z"
    }
   },
   "outputs": [
    {
     "name": "stdout",
     "output_type": "stream",
     "text": [
      "list1 = [0, 1, 2, 3, 4]\n"
     ]
    }
   ],
   "source": [
    "print(f'{list1 = }')"
   ]
  },
  {
   "cell_type": "markdown",
   "id": "9e7f3e84",
   "metadata": {},
   "source": [
    "#### Rookie way:\n",
    "\n",
    "Loop over indexes and then get item for each index:"
   ]
  },
  {
   "cell_type": "code",
   "execution_count": 101,
   "id": "5461752f",
   "metadata": {
    "error": [
     {
      "ename": "KeyError",
      "evalue": "101",
      "output_type": "error",
      "traceback": [
       "\u001b[0;31m---------------------------------------------------------------------------\u001b[0m",
       "\u001b[0;31mKeyError\u001b[0m                                  Traceback (most recent call last)",
       "Cell \u001b[0;32mIn[102], line 1\u001b[0m\n\u001b[0;32m----> 1\u001b[0m json\u001b[38;5;241m.\u001b[39mdumps([typehandlerforuniqueobjects(\u001b[43mOut\u001b[49m\u001b[43m[\u001b[49m\u001b[38;5;241;43m101\u001b[39;49m\u001b[43m]\u001b[49m)])\n",
       "\u001b[0;31mKeyError\u001b[0m: 101"
      ]
     }
    ],
    "execution": {
     "iopub.execute_input": "2023-10-05T04:06:16.634801Z",
     "iopub.status.busy": "2023-10-05T04:06:16.634522Z",
     "iopub.status.idle": "2023-10-05T04:06:16.639694Z",
     "shell.execute_reply": "2023-10-05T04:06:16.638798Z"
    }
   },
   "outputs": [
    {
     "name": "stdout",
     "output_type": "stream",
     "text": [
      "content for list1[0]: 0\n",
      "content for list1[1]: 1\n",
      "content for list1[2]: 2\n",
      "content for list1[3]: 3\n",
      "content for list1[4]: 4\n"
     ]
    }
   ],
   "source": [
    "for counter in range(len(list1)):\n",
    "    print(f'content for list1[{counter}]: {list1[counter]}')"
   ]
  },
  {
   "cell_type": "markdown",
   "id": "ce98de8f",
   "metadata": {},
   "source": [
    "#### Expert way:\n",
    "\n",
    "Loop over items:"
   ]
  },
  {
   "cell_type": "code",
   "execution_count": 103,
   "id": "c77ba3be",
   "metadata": {
    "error": [
     {
      "ename": "KeyError",
      "evalue": "103",
      "output_type": "error",
      "traceback": [
       "\u001b[0;31m---------------------------------------------------------------------------\u001b[0m",
       "\u001b[0;31mKeyError\u001b[0m                                  Traceback (most recent call last)",
       "Cell \u001b[0;32mIn[104], line 1\u001b[0m\n\u001b[0;32m----> 1\u001b[0m json\u001b[38;5;241m.\u001b[39mdumps([typehandlerforuniqueobjects(\u001b[43mOut\u001b[49m\u001b[43m[\u001b[49m\u001b[38;5;241;43m103\u001b[39;49m\u001b[43m]\u001b[49m)])\n",
       "\u001b[0;31mKeyError\u001b[0m: 103"
      ]
     }
    ],
    "execution": {
     "iopub.execute_input": "2023-10-05T04:06:16.672917Z",
     "iopub.status.busy": "2023-10-05T04:06:16.672640Z",
     "iopub.status.idle": "2023-10-05T04:06:16.677602Z",
     "shell.execute_reply": "2023-10-05T04:06:16.676704Z"
    }
   },
   "outputs": [
    {
     "name": "stdout",
     "output_type": "stream",
     "text": [
      "0\n",
      "1\n",
      "2\n",
      "3\n",
      "4\n"
     ]
    }
   ],
   "source": [
    "for item in list1: # item could be any name\n",
    "    print(item)"
   ]
  },
  {
   "cell_type": "markdown",
   "id": "c63e736b",
   "metadata": {},
   "source": [
    "#### if you want to also get the counter, use ```enumerate```\n",
    "\n",
    "The ```enumerate()``` method adds a counter to an iterable and returns the ```enumerate``` object.\n",
    "\n",
    "<u>Syntax:</u>\n",
    "```\n",
    "enumerate(iterable, start_index)\n",
    "```\n",
    "\n",
    "**Note:** start_index is zero by default.\n",
    "\n",
    "<u>Example:</u>\n",
    "\n",
    "```\n",
    "fruits       = ['apple', 'orange', 'strawberry']\n",
    "my_enumerate = enumerate(fruits)\n",
    "\n",
    "print(list(my_enumerate)) # convert enumerate object to list\n",
    "# Output: [(0, 'apple'), (1, 'orange'), (2, 'strawberry')]\n",
    "\n",
    "print(type(my_enumerate))\n",
    "# output: <class 'enumerate'>\n",
    "\n",
    "enumerate_starting_at_10 = enumerate(fruits, 10)\n",
    "print(list(enumerate_starting_at_10))\n",
    "# Output: [(10, 'apple'), (11, 'orange'), (12, 'strawberry')]\n",
    "```\n",
    "\n",
    "Let's use ```enumerate``` to loop over ```list1``` items and print the value for each index:"
   ]
  },
  {
   "cell_type": "code",
   "execution_count": 105,
   "id": "04a1c119",
   "metadata": {
    "error": [
     {
      "ename": "KeyError",
      "evalue": "105",
      "output_type": "error",
      "traceback": [
       "\u001b[0;31m---------------------------------------------------------------------------\u001b[0m",
       "\u001b[0;31mKeyError\u001b[0m                                  Traceback (most recent call last)",
       "Cell \u001b[0;32mIn[106], line 1\u001b[0m\n\u001b[0;32m----> 1\u001b[0m json\u001b[38;5;241m.\u001b[39mdumps([typehandlerforuniqueobjects(\u001b[43mOut\u001b[49m\u001b[43m[\u001b[49m\u001b[38;5;241;43m105\u001b[39;49m\u001b[43m]\u001b[49m)])\n",
       "\u001b[0;31mKeyError\u001b[0m: 105"
      ]
     }
    ],
    "execution": {
     "iopub.execute_input": "2023-10-05T04:06:16.708754Z",
     "iopub.status.busy": "2023-10-05T04:06:16.708473Z",
     "iopub.status.idle": "2023-10-05T04:06:16.713644Z",
     "shell.execute_reply": "2023-10-05T04:06:16.712743Z"
    }
   },
   "outputs": [
    {
     "name": "stdout",
     "output_type": "stream",
     "text": [
      "content for list1[0]: 0\n",
      "content for list1[1]: 1\n",
      "content for list1[2]: 2\n",
      "content for list1[3]: 3\n",
      "content for list1[4]: 4\n"
     ]
    }
   ],
   "source": [
    "for counter, item in enumerate(list1):\n",
    "    print(f'content for list1[{counter}]: {item}')"
   ]
  },
  {
   "cell_type": "markdown",
   "id": "ac9ffca0",
   "metadata": {},
   "source": [
    "#### I could also loop over a list in this way:"
   ]
  },
  {
   "cell_type": "code",
   "execution_count": 107,
   "id": "9897430b",
   "metadata": {
    "error": [
     {
      "ename": "KeyError",
      "evalue": "107",
      "output_type": "error",
      "traceback": [
       "\u001b[0;31m---------------------------------------------------------------------------\u001b[0m",
       "\u001b[0;31mKeyError\u001b[0m                                  Traceback (most recent call last)",
       "Cell \u001b[0;32mIn[108], line 1\u001b[0m\n\u001b[0;32m----> 1\u001b[0m json\u001b[38;5;241m.\u001b[39mdumps([typehandlerforuniqueobjects(\u001b[43mOut\u001b[49m\u001b[43m[\u001b[49m\u001b[38;5;241;43m107\u001b[39;49m\u001b[43m]\u001b[49m)])\n",
       "\u001b[0;31mKeyError\u001b[0m: 107"
      ]
     }
    ],
    "execution": {
     "iopub.execute_input": "2023-10-05T04:06:16.745104Z",
     "iopub.status.busy": "2023-10-05T04:06:16.744825Z",
     "iopub.status.idle": "2023-10-05T04:06:16.749892Z",
     "shell.execute_reply": "2023-10-05T04:06:16.749008Z"
    }
   },
   "outputs": [
    {
     "name": "stdout",
     "output_type": "stream",
     "text": [
      "1\n",
      "2\n",
      "3\n",
      "4\n"
     ]
    }
   ],
   "source": [
    "for item in [1,2,3,4]:\n",
    "    print(item)"
   ]
  },
  {
   "cell_type": "markdown",
   "id": "8cb289c1",
   "metadata": {},
   "source": [
    "### Looping over two lists of the same length"
   ]
  },
  {
   "cell_type": "markdown",
   "id": "1bb966fe",
   "metadata": {},
   "source": [
    "#### Bad example:"
   ]
  },
  {
   "cell_type": "code",
   "execution_count": 109,
   "id": "e910a15c",
   "metadata": {
    "error": [
     {
      "ename": "KeyError",
      "evalue": "109",
      "output_type": "error",
      "traceback": [
       "\u001b[0;31m---------------------------------------------------------------------------\u001b[0m",
       "\u001b[0;31mKeyError\u001b[0m                                  Traceback (most recent call last)",
       "Cell \u001b[0;32mIn[110], line 1\u001b[0m\n\u001b[0;32m----> 1\u001b[0m json\u001b[38;5;241m.\u001b[39mdumps([typehandlerforuniqueobjects(\u001b[43mOut\u001b[49m\u001b[43m[\u001b[49m\u001b[38;5;241;43m109\u001b[39;49m\u001b[43m]\u001b[49m)])\n",
       "\u001b[0;31mKeyError\u001b[0m: 109"
      ]
     }
    ],
    "execution": {
     "iopub.execute_input": "2023-10-05T04:06:16.781324Z",
     "iopub.status.busy": "2023-10-05T04:06:16.781047Z",
     "iopub.status.idle": "2023-10-05T04:06:16.786848Z",
     "shell.execute_reply": "2023-10-05T04:06:16.785952Z"
    }
   },
   "outputs": [
    {
     "name": "stdout",
     "output_type": "stream",
     "text": [
      "value of a for item 0 = 1\n",
      "value of b for item 0 = 4\n",
      "value of a for item 1 = 2\n",
      "value of b for item 1 = 5\n",
      "value of a for item 2 = 3\n",
      "value of b for item 2 = 6\n"
     ]
    }
   ],
   "source": [
    "a = [1,2,3]\n",
    "b = [4,5,6]\n",
    "for i in range(len(a)):\n",
    "    print(f'value of a for item {i} = {a[i]}')\n",
    "    print(f'value of b for item {i} = {b[i]}')"
   ]
  },
  {
   "cell_type": "markdown",
   "id": "ecc23ab2",
   "metadata": {},
   "source": [
    "#### Good example: let's use ```zip()```\n",
    "\n",
    "The ```zip()``` method takes iterables, aggregates them in a tuple, and returns it\n",
    "\n",
    "<u>Example:</u>\n",
    "\n",
    "```\n",
    "fruits = ['apple', 'orange', 'strawberry']\n",
    "colors = ['green', 'orange', 'red']\n",
    "result = zip(fruits, colors)\n",
    "\n",
    "print(list(result)) # convert result (of type zip) to list\n",
    "# Output: [('apple', 'green'), ('orange', 'orange'), ('strawberry', 'red')]\n",
    "```"
   ]
  },
  {
   "cell_type": "code",
   "execution_count": 111,
   "id": "7cb9611c",
   "metadata": {
    "error": [
     {
      "ename": "KeyError",
      "evalue": "111",
      "output_type": "error",
      "traceback": [
       "\u001b[0;31m---------------------------------------------------------------------------\u001b[0m",
       "\u001b[0;31mKeyError\u001b[0m                                  Traceback (most recent call last)",
       "Cell \u001b[0;32mIn[112], line 1\u001b[0m\n\u001b[0;32m----> 1\u001b[0m json\u001b[38;5;241m.\u001b[39mdumps([typehandlerforuniqueobjects(\u001b[43mOut\u001b[49m\u001b[43m[\u001b[49m\u001b[38;5;241;43m111\u001b[39;49m\u001b[43m]\u001b[49m)])\n",
       "\u001b[0;31mKeyError\u001b[0m: 111"
      ]
     }
    ],
    "execution": {
     "iopub.execute_input": "2023-10-05T04:06:16.819270Z",
     "iopub.status.busy": "2023-10-05T04:06:16.818991Z",
     "iopub.status.idle": "2023-10-05T04:06:16.824299Z",
     "shell.execute_reply": "2023-10-05T04:06:16.823388Z"
    }
   },
   "outputs": [
    {
     "name": "stdout",
     "output_type": "stream",
     "text": [
      "av = 1\n",
      "bv = 4\n",
      "av = 2\n",
      "bv = 5\n",
      "av = 3\n",
      "bv = 6\n"
     ]
    }
   ],
   "source": [
    "for av, bv in zip(a,b):\n",
    "    print(f'{av = }')\n",
    "    print(f'{bv = }')"
   ]
  },
  {
   "cell_type": "markdown",
   "id": "90790fd1",
   "metadata": {},
   "source": [
    "#### If you still want to know the iterator use ```enumerate``` and ```zip```:\n",
    "\n",
    "Lets' use ```enumerate(zip())``` to print each value of ```a``` and ```b``` for each index:"
   ]
  },
  {
   "cell_type": "code",
   "execution_count": 113,
   "id": "58298cfb",
   "metadata": {
    "error": [
     {
      "ename": "KeyError",
      "evalue": "113",
      "output_type": "error",
      "traceback": [
       "\u001b[0;31m---------------------------------------------------------------------------\u001b[0m",
       "\u001b[0;31mKeyError\u001b[0m                                  Traceback (most recent call last)",
       "Cell \u001b[0;32mIn[114], line 1\u001b[0m\n\u001b[0;32m----> 1\u001b[0m json\u001b[38;5;241m.\u001b[39mdumps([typehandlerforuniqueobjects(\u001b[43mOut\u001b[49m\u001b[43m[\u001b[49m\u001b[38;5;241;43m113\u001b[39;49m\u001b[43m]\u001b[49m)])\n",
       "\u001b[0;31mKeyError\u001b[0m: 113"
      ]
     }
    ],
    "execution": {
     "iopub.execute_input": "2023-10-05T04:06:16.855442Z",
     "iopub.status.busy": "2023-10-05T04:06:16.855163Z",
     "iopub.status.idle": "2023-10-05T04:06:16.860710Z",
     "shell.execute_reply": "2023-10-05T04:06:16.859793Z"
    }
   },
   "outputs": [
    {
     "name": "stdout",
     "output_type": "stream",
     "text": [
      "value of a for item 0 = 1\n",
      "value of b for item 0 = 4\n",
      "value of a for item 1 = 2\n",
      "value of b for item 1 = 5\n",
      "value of a for item 2 = 3\n",
      "value of b for item 2 = 6\n"
     ]
    }
   ],
   "source": [
    "for i, (av, bv) in enumerate(zip(a,b)):\n",
    "    print(f'value of a for item {i} = {av}')\n",
    "    print(f'value of b for item {i} = {bv}')"
   ]
  },
  {
   "cell_type": "markdown",
   "id": "eee1576e",
   "metadata": {},
   "source": [
    "### How to make a list out of stripping out words from a string?\n",
    "\n",
    "We can use the ```split()``` function for this purpose. This function breaks up a string at the specified separator and returns a list of strings.\n",
    "\n",
    "**Example:**"
   ]
  },
  {
   "cell_type": "code",
   "execution_count": 115,
   "id": "39d7b9b3",
   "metadata": {
    "error": [
     {
      "ename": "KeyError",
      "evalue": "115",
      "output_type": "error",
      "traceback": [
       "\u001b[0;31m---------------------------------------------------------------------------\u001b[0m",
       "\u001b[0;31mKeyError\u001b[0m                                  Traceback (most recent call last)",
       "Cell \u001b[0;32mIn[116], line 1\u001b[0m\n\u001b[0;32m----> 1\u001b[0m json\u001b[38;5;241m.\u001b[39mdumps([typehandlerforuniqueobjects(\u001b[43mOut\u001b[49m\u001b[43m[\u001b[49m\u001b[38;5;241;43m115\u001b[39;49m\u001b[43m]\u001b[49m)])\n",
       "\u001b[0;31mKeyError\u001b[0m: 115"
      ]
     }
    ],
    "execution": {
     "iopub.execute_input": "2023-10-05T04:06:16.892352Z",
     "iopub.status.busy": "2023-10-05T04:06:16.892069Z",
     "iopub.status.idle": "2023-10-05T04:06:16.897298Z",
     "shell.execute_reply": "2023-10-05T04:06:16.896398Z"
    }
   },
   "outputs": [
    {
     "name": "stdout",
     "output_type": "stream",
     "text": [
      "['An', 'apple', 'a', 'day', 'keeps', 'the', 'doctor', 'away']\n"
     ]
    }
   ],
   "source": [
    "string = 'An apple a day keeps the doctor away'\n",
    "\n",
    "words_in_string = string.split(' ') # here the separator is a space\n",
    "print(words_in_string)"
   ]
  },
  {
   "cell_type": "markdown",
   "id": "cac17eca",
   "metadata": {},
   "source": [
    "### The ```any()``` and ```all()``` functions"
   ]
  },
  {
   "cell_type": "markdown",
   "id": "22cac2f1",
   "metadata": {},
   "source": [
    "The ```any()``` and ```all()``` functions evaluate the items in a list or tuple to see which are ```True```.\n",
    "\n",
    "The ```any()``` method returns ```True``` if any of the items are true (if not, it returns ```False```), and the ```all()``` function returns ```True``` if all the items are ```True``` (if not, it returns ```False```)."
   ]
  },
  {
   "cell_type": "markdown",
   "id": "d89ec492",
   "metadata": {},
   "source": [
    "### List comprehension (faster than the above!)"
   ]
  },
  {
   "cell_type": "code",
   "execution_count": 117,
   "id": "7015d11f",
   "metadata": {
    "error": [
     {
      "ename": "KeyError",
      "evalue": "117",
      "output_type": "error",
      "traceback": [
       "\u001b[0;31m---------------------------------------------------------------------------\u001b[0m",
       "\u001b[0;31mKeyError\u001b[0m                                  Traceback (most recent call last)",
       "Cell \u001b[0;32mIn[118], line 1\u001b[0m\n\u001b[0;32m----> 1\u001b[0m json\u001b[38;5;241m.\u001b[39mdumps([typehandlerforuniqueobjects(\u001b[43mOut\u001b[49m\u001b[43m[\u001b[49m\u001b[38;5;241;43m117\u001b[39;49m\u001b[43m]\u001b[49m)])\n",
       "\u001b[0;31mKeyError\u001b[0m: 117"
      ]
     }
    ],
    "execution": {
     "iopub.execute_input": "2023-10-05T04:06:16.929143Z",
     "iopub.status.busy": "2023-10-05T04:06:16.928863Z",
     "iopub.status.idle": "2023-10-05T04:06:16.934809Z",
     "shell.execute_reply": "2023-10-05T04:06:16.933901Z"
    }
   },
   "outputs": [
    {
     "name": "stdout",
     "output_type": "stream",
     "text": [
      "new_list_1 = [0, 1, 2, 3, 4]\n",
      "new_list_2 = [1, 2, 3, 4]\n"
     ]
    }
   ],
   "source": [
    "new_list_1 = [i for i in range(5)]   # range starts at zero and stopts at 5-1\n",
    "new_list_2 = [i for i in range(1,5)] # here range starts at 1 and stops also at 5-1\n",
    "print(f'{new_list_1 = }')\n",
    "print(f'{new_list_2 = }')"
   ]
  },
  {
   "cell_type": "markdown",
   "id": "649d888f",
   "metadata": {},
   "source": [
    "#### List comprehension including a condition"
   ]
  },
  {
   "cell_type": "markdown",
   "id": "ff89c106",
   "metadata": {},
   "source": [
    "<u>Example 1:</u>"
   ]
  },
  {
   "cell_type": "code",
   "execution_count": 119,
   "id": "f6331c05",
   "metadata": {
    "error": [
     {
      "ename": "KeyError",
      "evalue": "119",
      "output_type": "error",
      "traceback": [
       "\u001b[0;31m---------------------------------------------------------------------------\u001b[0m",
       "\u001b[0;31mKeyError\u001b[0m                                  Traceback (most recent call last)",
       "Cell \u001b[0;32mIn[120], line 1\u001b[0m\n\u001b[0;32m----> 1\u001b[0m json\u001b[38;5;241m.\u001b[39mdumps([typehandlerforuniqueobjects(\u001b[43mOut\u001b[49m\u001b[43m[\u001b[49m\u001b[38;5;241;43m119\u001b[39;49m\u001b[43m]\u001b[49m)])\n",
       "\u001b[0;31mKeyError\u001b[0m: 119"
      ]
     }
    ],
    "execution": {
     "iopub.execute_input": "2023-10-05T04:06:16.968058Z",
     "iopub.status.busy": "2023-10-05T04:06:16.967761Z",
     "iopub.status.idle": "2023-10-05T04:06:16.973138Z",
     "shell.execute_reply": "2023-10-05T04:06:16.972235Z"
    }
   },
   "outputs": [
    {
     "name": "stdout",
     "output_type": "stream",
     "text": [
      "my_list      = [0, 2, 4, 6, 8, 10, 12, 14, 16, 18]\n"
     ]
    }
   ],
   "source": [
    "my_list      = [i for i in range(20) if i % 2 == 0] # only even numbers\n",
    "print(f'{my_list      = }')"
   ]
  },
  {
   "cell_type": "markdown",
   "id": "2e66f3a0",
   "metadata": {},
   "source": [
    "<u>Example 2:</u>"
   ]
  },
  {
   "cell_type": "code",
   "execution_count": 121,
   "id": "c74dd388",
   "metadata": {
    "error": [
     {
      "ename": "KeyError",
      "evalue": "121",
      "output_type": "error",
      "traceback": [
       "\u001b[0;31m---------------------------------------------------------------------------\u001b[0m",
       "\u001b[0;31mKeyError\u001b[0m                                  Traceback (most recent call last)",
       "Cell \u001b[0;32mIn[122], line 1\u001b[0m\n\u001b[0;32m----> 1\u001b[0m json\u001b[38;5;241m.\u001b[39mdumps([typehandlerforuniqueobjects(\u001b[43mOut\u001b[49m\u001b[43m[\u001b[49m\u001b[38;5;241;43m121\u001b[39;49m\u001b[43m]\u001b[49m)])\n",
       "\u001b[0;31mKeyError\u001b[0m: 121"
      ]
     }
    ],
    "execution": {
     "iopub.execute_input": "2023-10-05T04:06:17.004427Z",
     "iopub.status.busy": "2023-10-05T04:06:17.004150Z",
     "iopub.status.idle": "2023-10-05T04:06:17.009590Z",
     "shell.execute_reply": "2023-10-05T04:06:17.008700Z"
    }
   },
   "outputs": [
    {
     "name": "stdout",
     "output_type": "stream",
     "text": [
      "my_list_bool = [True, False, True, False, True, False, True, False, True, False]\n"
     ]
    }
   ],
   "source": [
    "my_list_bool = [True if i % 2 == 0 else False for i in range(10)] # put True/False depending if even or odd\n",
    "print(f'{my_list_bool = }')"
   ]
  },
  {
   "cell_type": "markdown",
   "id": "b7f35c41",
   "metadata": {},
   "source": [
    "<u>Example 3:</u> If a list is too large, too much memory might be needed\n",
    "\n",
    "In that case, a ```generator``` can be used\n",
    "\n",
    "A ```generator``` allows you to declare a function that behaves like an iterator (i.e. it can be used in a for loop)\n",
    "\n",
    "Create a list (```my_list```) and sum over all values, then also check size of ```my_list```"
   ]
  },
  {
   "cell_type": "code",
   "execution_count": 123,
   "id": "9e56832f",
   "metadata": {
    "error": [
     {
      "ename": "KeyError",
      "evalue": "123",
      "output_type": "error",
      "traceback": [
       "\u001b[0;31m---------------------------------------------------------------------------\u001b[0m",
       "\u001b[0;31mKeyError\u001b[0m                                  Traceback (most recent call last)",
       "Cell \u001b[0;32mIn[124], line 1\u001b[0m\n\u001b[0;32m----> 1\u001b[0m json\u001b[38;5;241m.\u001b[39mdumps([typehandlerforuniqueobjects(\u001b[43mOut\u001b[49m\u001b[43m[\u001b[49m\u001b[38;5;241;43m123\u001b[39;49m\u001b[43m]\u001b[49m)])\n",
       "\u001b[0;31mKeyError\u001b[0m: 123"
      ]
     }
    ],
    "execution": {
     "iopub.execute_input": "2023-10-05T04:06:17.041010Z",
     "iopub.status.busy": "2023-10-05T04:06:17.040729Z",
     "iopub.status.idle": "2023-10-05T04:06:17.116362Z",
     "shell.execute_reply": "2023-10-05T04:06:17.115254Z"
    }
   },
   "outputs": [
    {
     "name": "stdout",
     "output_type": "stream",
     "text": [
      "sum(my_list) = 499999500000\n",
      "sys.getsizeof(my_list) = 8697456 bytes\n"
     ]
    }
   ],
   "source": [
    "my_list = [i for i in range(1000000)] # create a list using comprehension\n",
    "print(f'{sum(my_list) = }')           # sum all values from my_list\n",
    "import sys # will see more about import later (see below)\n",
    "print(f'{sys.getsizeof(my_list) = }', 'bytes') # print size of my_list"
   ]
  },
  {
   "cell_type": "markdown",
   "id": "13c8486b",
   "metadata": {},
   "source": [
    "Let's now use a ```generator``` to get same sum and check size of such a ```generator``` (it's considerably smaller than ```my_list```!)"
   ]
  },
  {
   "cell_type": "code",
   "execution_count": 125,
   "id": "19be37e7",
   "metadata": {
    "error": [
     {
      "ename": "KeyError",
      "evalue": "125",
      "output_type": "error",
      "traceback": [
       "\u001b[0;31m---------------------------------------------------------------------------\u001b[0m",
       "\u001b[0;31mKeyError\u001b[0m                                  Traceback (most recent call last)",
       "Cell \u001b[0;32mIn[126], line 1\u001b[0m\n\u001b[0;32m----> 1\u001b[0m json\u001b[38;5;241m.\u001b[39mdumps([typehandlerforuniqueobjects(\u001b[43mOut\u001b[49m\u001b[43m[\u001b[49m\u001b[38;5;241;43m125\u001b[39;49m\u001b[43m]\u001b[49m)])\n",
       "\u001b[0;31mKeyError\u001b[0m: 125"
      ]
     }
    ],
    "execution": {
     "iopub.execute_input": "2023-10-05T04:06:17.160498Z",
     "iopub.status.busy": "2023-10-05T04:06:17.160103Z",
     "iopub.status.idle": "2023-10-05T04:06:17.238814Z",
     "shell.execute_reply": "2023-10-05T04:06:17.237903Z"
    }
   },
   "outputs": [
    {
     "name": "stdout",
     "output_type": "stream",
     "text": [
      "sum(my_gen) = 499999500000\n",
      "sys.getsizeof(my_gen) = 112 bytes\n"
     ]
    }
   ],
   "source": [
    "my_gen = (i for i in range(1000000)) # NOTE: I used () instead of []\n",
    "print(f'{sum(my_gen) = }')           # sum all values\n",
    "print(f'{sys.getsizeof(my_gen) = }', 'bytes') # print size of my_gen (considerably smaller than my_list!)"
   ]
  },
  {
   "cell_type": "markdown",
   "id": "e6723224",
   "metadata": {},
   "source": [
    "**Note 1:** the performance improvement from the use of generators is the result of the lazy (on demand) generation of values,\n",
    "which translates to lower memory usage\n",
    "\n",
    "**Note 2:** I could use ```my_get``` to create a ```list``` equivalent to ```my_list```:\n",
    "\n",
    "```\n",
    "my_new_list = list(my_gen)\n",
    "```"
   ]
  },
  {
   "cell_type": "markdown",
   "id": "2ebf093c",
   "metadata": {},
   "source": [
    "### Add element at a given place of a list"
   ]
  },
  {
   "cell_type": "code",
   "execution_count": 127,
   "id": "f3ec3c5d",
   "metadata": {
    "execution": {
     "iopub.execute_input": "2023-10-05T04:06:17.269143Z",
     "iopub.status.busy": "2023-10-05T04:06:17.268879Z",
     "iopub.status.idle": "2023-10-05T04:06:17.273096Z",
     "shell.execute_reply": "2023-10-05T04:06:17.272245Z"
    }
   },
   "outputs": [],
   "source": [
    "list_d = [1,2,4,5]"
   ]
  },
  {
   "cell_type": "markdown",
   "id": "f966f229",
   "metadata": {},
   "source": [
    "Add 3 to ```list_d``` list at index 2 and print ```list_d``` (remember that indexing starts at zero)"
   ]
  },
  {
   "cell_type": "code",
   "execution_count": 128,
   "id": "357656a0",
   "metadata": {
    "error": [
     {
      "ename": "KeyError",
      "evalue": "128",
      "output_type": "error",
      "traceback": [
       "\u001b[0;31m---------------------------------------------------------------------------\u001b[0m",
       "\u001b[0;31mKeyError\u001b[0m                                  Traceback (most recent call last)",
       "Cell \u001b[0;32mIn[129], line 1\u001b[0m\n\u001b[0;32m----> 1\u001b[0m json\u001b[38;5;241m.\u001b[39mdumps([typehandlerforuniqueobjects(\u001b[43mOut\u001b[49m\u001b[43m[\u001b[49m\u001b[38;5;241;43m128\u001b[39;49m\u001b[43m]\u001b[49m)])\n",
       "\u001b[0;31mKeyError\u001b[0m: 128"
      ]
     }
    ],
    "execution": {
     "iopub.execute_input": "2023-10-05T04:06:17.276615Z",
     "iopub.status.busy": "2023-10-05T04:06:17.276335Z",
     "iopub.status.idle": "2023-10-05T04:06:17.281215Z",
     "shell.execute_reply": "2023-10-05T04:06:17.280323Z"
    }
   },
   "outputs": [
    {
     "name": "stdout",
     "output_type": "stream",
     "text": [
      "list_d = [1, 2, 3, 4, 5]\n"
     ]
    }
   ],
   "source": [
    "list_d.insert(2,3) # inserts 3 to index 2\n",
    "print(f'{list_d = }')"
   ]
  },
  {
   "cell_type": "markdown",
   "id": "ab8115ce",
   "metadata": {},
   "source": [
    "### Check if an element is in a list"
   ]
  },
  {
   "cell_type": "code",
   "execution_count": 130,
   "id": "a4f8ace8",
   "metadata": {
    "error": [
     {
      "ename": "KeyError",
      "evalue": "130",
      "output_type": "error",
      "traceback": [
       "\u001b[0;31m---------------------------------------------------------------------------\u001b[0m",
       "\u001b[0;31mKeyError\u001b[0m                                  Traceback (most recent call last)",
       "Cell \u001b[0;32mIn[131], line 1\u001b[0m\n\u001b[0;32m----> 1\u001b[0m json\u001b[38;5;241m.\u001b[39mdumps([typehandlerforuniqueobjects(\u001b[43mOut\u001b[49m\u001b[43m[\u001b[49m\u001b[38;5;241;43m130\u001b[39;49m\u001b[43m]\u001b[49m)])\n",
       "\u001b[0;31mKeyError\u001b[0m: 130"
      ]
     }
    ],
    "execution": {
     "iopub.execute_input": "2023-10-05T04:06:17.311038Z",
     "iopub.status.busy": "2023-10-05T04:06:17.310777Z",
     "iopub.status.idle": "2023-10-05T04:06:17.316627Z",
     "shell.execute_reply": "2023-10-05T04:06:17.315744Z"
    }
   },
   "outputs": [
    {
     "name": "stdout",
     "output_type": "stream",
     "text": [
      "new_list_1 = [0, 1, 2, 3, 4]\n",
      "0 is in new_list_1\n",
      "new_list_2 = [1, 2, 3, 4]\n",
      "1 is in new_list_2\n"
     ]
    }
   ],
   "source": [
    "print(f'{new_list_1 = }')\n",
    "if 0 in new_list_1:\n",
    "    print('0 is in new_list_1')\n",
    "else:\n",
    "    print('0 is not in new_list_1')\n",
    "\n",
    "print(f'{new_list_2 = }')\n",
    "if 1 in new_list_2:\n",
    "    print('1 is in new_list_2')\n",
    "else:\n",
    "    print('1 is not in new_list_2')"
   ]
  },
  {
   "cell_type": "markdown",
   "id": "5ae357f1",
   "metadata": {},
   "source": [
    "### Remove item from a list"
   ]
  },
  {
   "cell_type": "code",
   "execution_count": 132,
   "id": "6faf5ddf",
   "metadata": {
    "error": [
     {
      "ename": "KeyError",
      "evalue": "132",
      "output_type": "error",
      "traceback": [
       "\u001b[0;31m---------------------------------------------------------------------------\u001b[0m",
       "\u001b[0;31mKeyError\u001b[0m                                  Traceback (most recent call last)",
       "Cell \u001b[0;32mIn[133], line 1\u001b[0m\n\u001b[0;32m----> 1\u001b[0m json\u001b[38;5;241m.\u001b[39mdumps([typehandlerforuniqueobjects(\u001b[43mOut\u001b[49m\u001b[43m[\u001b[49m\u001b[38;5;241;43m132\u001b[39;49m\u001b[43m]\u001b[49m)])\n",
       "\u001b[0;31mKeyError\u001b[0m: 132"
      ]
     }
    ],
    "execution": {
     "iopub.execute_input": "2023-10-05T04:06:17.346365Z",
     "iopub.status.busy": "2023-10-05T04:06:17.346107Z",
     "iopub.status.idle": "2023-10-05T04:06:17.351092Z",
     "shell.execute_reply": "2023-10-05T04:06:17.350228Z"
    }
   },
   "outputs": [
    {
     "name": "stdout",
     "output_type": "stream",
     "text": [
      "fuits after removing \"pineapple\" : ['apple', 'banana']\n"
     ]
    }
   ],
   "source": [
    "fruits = ['apple', 'pineapple', 'banana']\n",
    "fruits.remove('pineapple')\n",
    "print(f'fuits after removing \"pineapple\" : {fruits}')"
   ]
  },
  {
   "cell_type": "markdown",
   "id": "8d826307",
   "metadata": {},
   "source": [
    "### Join lists into a string using ```join```"
   ]
  },
  {
   "cell_type": "code",
   "execution_count": 134,
   "id": "6536997a",
   "metadata": {
    "error": [
     {
      "ename": "KeyError",
      "evalue": "134",
      "output_type": "error",
      "traceback": [
       "\u001b[0;31m---------------------------------------------------------------------------\u001b[0m",
       "\u001b[0;31mKeyError\u001b[0m                                  Traceback (most recent call last)",
       "Cell \u001b[0;32mIn[135], line 1\u001b[0m\n\u001b[0;32m----> 1\u001b[0m json\u001b[38;5;241m.\u001b[39mdumps([typehandlerforuniqueobjects(\u001b[43mOut\u001b[49m\u001b[43m[\u001b[49m\u001b[38;5;241;43m134\u001b[39;49m\u001b[43m]\u001b[49m)])\n",
       "\u001b[0;31mKeyError\u001b[0m: 134"
      ]
     }
    ],
    "execution": {
     "iopub.execute_input": "2023-10-05T04:06:17.380753Z",
     "iopub.status.busy": "2023-10-05T04:06:17.380496Z",
     "iopub.status.idle": "2023-10-05T04:06:17.385674Z",
     "shell.execute_reply": "2023-10-05T04:06:17.384809Z"
    }
   },
   "outputs": [
    {
     "name": "stdout",
     "output_type": "stream",
     "text": [
      "joined_string = 'a+b+c+d'\n"
     ]
    }
   ],
   "source": [
    "strings = ['a','b','c','d']\n",
    "joined_string = '+'.join(strings) # a single string will be constructed adding '+' b/w each item from strings\n",
    "print(f'{joined_string = }')"
   ]
  },
  {
   "cell_type": "markdown",
   "id": "4b820397",
   "metadata": {},
   "source": [
    "### Sort list of numbers using ```sorted```"
   ]
  },
  {
   "cell_type": "code",
   "execution_count": 136,
   "id": "0ffa5eed",
   "metadata": {
    "error": [
     {
      "ename": "KeyError",
      "evalue": "136",
      "output_type": "error",
      "traceback": [
       "\u001b[0;31m---------------------------------------------------------------------------\u001b[0m",
       "\u001b[0;31mKeyError\u001b[0m                                  Traceback (most recent call last)",
       "Cell \u001b[0;32mIn[137], line 1\u001b[0m\n\u001b[0;32m----> 1\u001b[0m json\u001b[38;5;241m.\u001b[39mdumps([typehandlerforuniqueobjects(\u001b[43mOut\u001b[49m\u001b[43m[\u001b[49m\u001b[38;5;241;43m136\u001b[39;49m\u001b[43m]\u001b[49m)])\n",
       "\u001b[0;31mKeyError\u001b[0m: 136"
      ]
     }
    ],
    "execution": {
     "iopub.execute_input": "2023-10-05T04:06:17.428227Z",
     "iopub.status.busy": "2023-10-05T04:06:17.427945Z",
     "iopub.status.idle": "2023-10-05T04:06:17.433560Z",
     "shell.execute_reply": "2023-10-05T04:06:17.432692Z"
    }
   },
   "outputs": [
    {
     "name": "stdout",
     "output_type": "stream",
     "text": [
      "Unsorted list = [1, 3, 7, 2, 5, 10, 9, 12]\n",
      "Sorted list   = [1, 2, 3, 5, 7, 9, 10, 12]\n"
     ]
    }
   ],
   "source": [
    "numbers = [1,3,7,2,5,10,9,12]\n",
    "numbers_sorted = sorted(numbers) # use sorted(numbers, reverse=True) if descending order is desired\n",
    "print(f'Unsorted list = {numbers}')\n",
    "print(f'Sorted list   = {numbers_sorted}')"
   ]
  },
  {
   "cell_type": "markdown",
   "id": "cbf023ad",
   "metadata": {},
   "source": [
    "## <div id='sets'>8. Sets</div>"
   ]
  },
  {
   "cell_type": "markdown",
   "id": "7ba92b0e",
   "metadata": {},
   "source": [
    "A ```set``` is an **unordered** collection with **no duplicate elements**.\n",
    "\n",
    "### Example 1: use ```set()``` to obtain a collection of unique characters from a string"
   ]
  },
  {
   "cell_type": "code",
   "execution_count": 138,
   "id": "fe7b4062",
   "metadata": {
    "error": [
     {
      "ename": "KeyError",
      "evalue": "138",
      "output_type": "error",
      "traceback": [
       "\u001b[0;31m---------------------------------------------------------------------------\u001b[0m",
       "\u001b[0;31mKeyError\u001b[0m                                  Traceback (most recent call last)",
       "Cell \u001b[0;32mIn[139], line 1\u001b[0m\n\u001b[0;32m----> 1\u001b[0m json\u001b[38;5;241m.\u001b[39mdumps([typehandlerforuniqueobjects(\u001b[43mOut\u001b[49m\u001b[43m[\u001b[49m\u001b[38;5;241;43m138\u001b[39;49m\u001b[43m]\u001b[49m)])\n",
       "\u001b[0;31mKeyError\u001b[0m: 138"
      ]
     }
    ],
    "execution": {
     "iopub.execute_input": "2023-10-05T04:06:17.463189Z",
     "iopub.status.busy": "2023-10-05T04:06:17.462908Z",
     "iopub.status.idle": "2023-10-05T04:06:17.467937Z",
     "shell.execute_reply": "2023-10-05T04:06:17.467083Z"
    }
   },
   "outputs": [
    {
     "name": "stdout",
     "output_type": "stream",
     "text": [
      "{'t', 'm', 'x', 'e', 'y', 'l', 'p', 'a'}\n",
      "type(my_set) = <class 'set'>\n"
     ]
    }
   ],
   "source": [
    "a = 'myexampletext'\n",
    "my_set = set(a) # will remove duplicates\n",
    "print(my_set)\n",
    "print(f'{type(my_set) = }')"
   ]
  },
  {
   "cell_type": "markdown",
   "id": "fdb5bdf1",
   "metadata": {},
   "source": [
    "### Example 3: create a set without using ```set()``` but ```{}``` instead"
   ]
  },
  {
   "cell_type": "code",
   "execution_count": 140,
   "id": "7799d528",
   "metadata": {
    "error": [
     {
      "ename": "KeyError",
      "evalue": "140",
      "output_type": "error",
      "traceback": [
       "\u001b[0;31m---------------------------------------------------------------------------\u001b[0m",
       "\u001b[0;31mKeyError\u001b[0m                                  Traceback (most recent call last)",
       "Cell \u001b[0;32mIn[141], line 1\u001b[0m\n\u001b[0;32m----> 1\u001b[0m json\u001b[38;5;241m.\u001b[39mdumps([typehandlerforuniqueobjects(\u001b[43mOut\u001b[49m\u001b[43m[\u001b[49m\u001b[38;5;241;43m140\u001b[39;49m\u001b[43m]\u001b[49m)])\n",
       "\u001b[0;31mKeyError\u001b[0m: 140"
      ]
     }
    ],
    "execution": {
     "iopub.execute_input": "2023-10-05T04:06:17.496817Z",
     "iopub.status.busy": "2023-10-05T04:06:17.496558Z",
     "iopub.status.idle": "2023-10-05T04:06:17.501390Z",
     "shell.execute_reply": "2023-10-05T04:06:17.500523Z"
    }
   },
   "outputs": [
    {
     "name": "stdout",
     "output_type": "stream",
     "text": [
      "my_set = {'stawberry', 'orange', 'apple'}\n"
     ]
    }
   ],
   "source": [
    "my_set = {'stawberry', 'apple', 'orange'}\n",
    "print(f'{my_set = }')"
   ]
  },
  {
   "cell_type": "markdown",
   "id": "28a52ba7",
   "metadata": {},
   "source": [
    "### Example 2: use ```set()``` to remove duplicates from a list"
   ]
  },
  {
   "cell_type": "code",
   "execution_count": 142,
   "id": "854f3ef6",
   "metadata": {
    "error": [
     {
      "ename": "KeyError",
      "evalue": "142",
      "output_type": "error",
      "traceback": [
       "\u001b[0;31m---------------------------------------------------------------------------\u001b[0m",
       "\u001b[0;31mKeyError\u001b[0m                                  Traceback (most recent call last)",
       "Cell \u001b[0;32mIn[143], line 1\u001b[0m\n\u001b[0;32m----> 1\u001b[0m json\u001b[38;5;241m.\u001b[39mdumps([typehandlerforuniqueobjects(\u001b[43mOut\u001b[49m\u001b[43m[\u001b[49m\u001b[38;5;241;43m142\u001b[39;49m\u001b[43m]\u001b[49m)])\n",
       "\u001b[0;31mKeyError\u001b[0m: 142"
      ]
     }
    ],
    "execution": {
     "iopub.execute_input": "2023-10-05T04:06:17.530672Z",
     "iopub.status.busy": "2023-10-05T04:06:17.530420Z",
     "iopub.status.idle": "2023-10-05T04:06:17.549869Z",
     "shell.execute_reply": "2023-10-05T04:06:17.548735Z"
    }
   },
   "outputs": [
    {
     "name": "stdout",
     "output_type": "stream",
     "text": [
      "my_list                    = [0, 1, 6, 2, 1, 0, 2, 3, 4, 5, 6, 1]\n",
      "my_list_without_duplicates = [0, 1, 2, 3, 4, 5, 6]\n"
     ]
    }
   ],
   "source": [
    "my_list = [0,1,6,2,1,0,2,3,4,5,6,1]\n",
    "my_list_without_duplicates = list(set(my_list)) # create a new list from the set\n",
    "print(f'{my_list                    = }')\n",
    "print(f'{my_list_without_duplicates = }')"
   ]
  },
  {
   "cell_type": "markdown",
   "id": "ca626ae8",
   "metadata": {},
   "source": [
    "## <div id='dicts'>9. Dictionaries</div>"
   ]
  },
  {
   "cell_type": "markdown",
   "id": "03f3387e",
   "metadata": {},
   "source": [
    "Dictionaries are used to store data values in ```key:value``` pairs.\n",
    "\n",
    "A dictionary is a collection which is ordered (since Python3.7), changeable and **do not allow duplicated keys**.\n",
    "\n",
    "Dictionaries are written with curly brackets ```{}```.\n",
    "\n",
    "**Example:**"
   ]
  },
  {
   "cell_type": "code",
   "execution_count": 144,
   "id": "c98ec054",
   "metadata": {
    "error": [
     {
      "ename": "KeyError",
      "evalue": "144",
      "output_type": "error",
      "traceback": [
       "\u001b[0;31m---------------------------------------------------------------------------\u001b[0m",
       "\u001b[0;31mKeyError\u001b[0m                                  Traceback (most recent call last)",
       "Cell \u001b[0;32mIn[145], line 1\u001b[0m\n\u001b[0;32m----> 1\u001b[0m json\u001b[38;5;241m.\u001b[39mdumps([typehandlerforuniqueobjects(\u001b[43mOut\u001b[49m\u001b[43m[\u001b[49m\u001b[38;5;241;43m144\u001b[39;49m\u001b[43m]\u001b[49m)])\n",
       "\u001b[0;31mKeyError\u001b[0m: 144"
      ]
     }
    ],
    "execution": {
     "iopub.execute_input": "2023-10-05T04:06:17.579458Z",
     "iopub.status.busy": "2023-10-05T04:06:17.579208Z",
     "iopub.status.idle": "2023-10-05T04:06:17.584401Z",
     "shell.execute_reply": "2023-10-05T04:06:17.583499Z"
    }
   },
   "outputs": [
    {
     "name": "stdout",
     "output_type": "stream",
     "text": [
      "{'Manuel': 12, 'Miguel': 45, 'Andrea': 33}\n",
      "type(my_dict) = <class 'dict'>\n"
     ]
    }
   ],
   "source": [
    "my_dict = { # name : age\n",
    "    'Manuel' : 12,\n",
    "    'Miguel' : 45,\n",
    "    'Andrea' : 33,\n",
    "}\n",
    "print(my_dict)\n",
    "print(f'{type(my_dict) = }')"
   ]
  },
  {
   "cell_type": "markdown",
   "id": "6fe985e5",
   "metadata": {},
   "source": [
    "**Note:** the value specified for a key could be an int as in the example or a float, string, boolean, list or even another dictionary, etc"
   ]
  },
  {
   "cell_type": "markdown",
   "id": "172eb002",
   "metadata": {},
   "source": [
    "### How to define empty dictionary? (```dict_name = {}```)"
   ]
  },
  {
   "cell_type": "code",
   "execution_count": 146,
   "id": "ab2e3a47",
   "metadata": {
    "error": [
     {
      "ename": "KeyError",
      "evalue": "146",
      "output_type": "error",
      "traceback": [
       "\u001b[0;31m---------------------------------------------------------------------------\u001b[0m",
       "\u001b[0;31mKeyError\u001b[0m                                  Traceback (most recent call last)",
       "Cell \u001b[0;32mIn[147], line 1\u001b[0m\n\u001b[0;32m----> 1\u001b[0m json\u001b[38;5;241m.\u001b[39mdumps([typehandlerforuniqueobjects(\u001b[43mOut\u001b[49m\u001b[43m[\u001b[49m\u001b[38;5;241;43m146\u001b[39;49m\u001b[43m]\u001b[49m)])\n",
       "\u001b[0;31mKeyError\u001b[0m: 146"
      ]
     }
    ],
    "execution": {
     "iopub.execute_input": "2023-10-05T04:06:17.613630Z",
     "iopub.status.busy": "2023-10-05T04:06:17.613384Z",
     "iopub.status.idle": "2023-10-05T04:06:17.618169Z",
     "shell.execute_reply": "2023-10-05T04:06:17.617307Z"
    },
    "scrolled": true
   },
   "outputs": [
    {
     "name": "stdout",
     "output_type": "stream",
     "text": [
      "my_other_dict = {}\n"
     ]
    }
   ],
   "source": [
    "my_other_dict = {}\n",
    "print(f'{my_other_dict = }')"
   ]
  },
  {
   "cell_type": "markdown",
   "id": "18583811",
   "metadata": {},
   "source": [
    "### How to fill a dictionary? (```dict_name[key_name] = value```)"
   ]
  },
  {
   "cell_type": "code",
   "execution_count": 148,
   "id": "9679ee84",
   "metadata": {
    "error": [
     {
      "ename": "KeyError",
      "evalue": "148",
      "output_type": "error",
      "traceback": [
       "\u001b[0;31m---------------------------------------------------------------------------\u001b[0m",
       "\u001b[0;31mKeyError\u001b[0m                                  Traceback (most recent call last)",
       "Cell \u001b[0;32mIn[149], line 1\u001b[0m\n\u001b[0;32m----> 1\u001b[0m json\u001b[38;5;241m.\u001b[39mdumps([typehandlerforuniqueobjects(\u001b[43mOut\u001b[49m\u001b[43m[\u001b[49m\u001b[38;5;241;43m148\u001b[39;49m\u001b[43m]\u001b[49m)])\n",
       "\u001b[0;31mKeyError\u001b[0m: 148"
      ]
     }
    ],
    "execution": {
     "iopub.execute_input": "2023-10-05T04:06:17.646965Z",
     "iopub.status.busy": "2023-10-05T04:06:17.646715Z",
     "iopub.status.idle": "2023-10-05T04:06:17.651439Z",
     "shell.execute_reply": "2023-10-05T04:06:17.650581Z"
    }
   },
   "outputs": [
    {
     "name": "stdout",
     "output_type": "stream",
     "text": [
      "my_other_dict = {'Ana': 25}\n"
     ]
    }
   ],
   "source": [
    "my_other_dict['Ana'] = 25 # here the key is \"Ana\" and its value is 25\n",
    "print(f'{my_other_dict = }')"
   ]
  },
  {
   "cell_type": "markdown",
   "id": "150a6143",
   "metadata": {},
   "source": [
    "### How to loop over the keys of a dictionary?"
   ]
  },
  {
   "cell_type": "code",
   "execution_count": 150,
   "id": "2015f861",
   "metadata": {
    "error": [
     {
      "ename": "KeyError",
      "evalue": "150",
      "output_type": "error",
      "traceback": [
       "\u001b[0;31m---------------------------------------------------------------------------\u001b[0m",
       "\u001b[0;31mKeyError\u001b[0m                                  Traceback (most recent call last)",
       "Cell \u001b[0;32mIn[151], line 1\u001b[0m\n\u001b[0;32m----> 1\u001b[0m json\u001b[38;5;241m.\u001b[39mdumps([typehandlerforuniqueobjects(\u001b[43mOut\u001b[49m\u001b[43m[\u001b[49m\u001b[38;5;241;43m150\u001b[39;49m\u001b[43m]\u001b[49m)])\n",
       "\u001b[0;31mKeyError\u001b[0m: 150"
      ]
     }
    ],
    "execution": {
     "iopub.execute_input": "2023-10-05T04:06:17.679724Z",
     "iopub.status.busy": "2023-10-05T04:06:17.679465Z",
     "iopub.status.idle": "2023-10-05T04:06:17.684233Z",
     "shell.execute_reply": "2023-10-05T04:06:17.683364Z"
    }
   },
   "outputs": [
    {
     "name": "stdout",
     "output_type": "stream",
     "text": [
      "key = 'Manuel'\n",
      "key = 'Miguel'\n",
      "key = 'Andrea'\n"
     ]
    }
   ],
   "source": [
    "for key in my_dict: # my_dict was defined above\n",
    "    print(f'{key = }')"
   ]
  },
  {
   "cell_type": "markdown",
   "id": "f97f7711",
   "metadata": {},
   "source": [
    "### How to loop over keys and values?"
   ]
  },
  {
   "cell_type": "code",
   "execution_count": 152,
   "id": "236c328e",
   "metadata": {
    "error": [
     {
      "ename": "KeyError",
      "evalue": "152",
      "output_type": "error",
      "traceback": [
       "\u001b[0;31m---------------------------------------------------------------------------\u001b[0m",
       "\u001b[0;31mKeyError\u001b[0m                                  Traceback (most recent call last)",
       "Cell \u001b[0;32mIn[153], line 1\u001b[0m\n\u001b[0;32m----> 1\u001b[0m json\u001b[38;5;241m.\u001b[39mdumps([typehandlerforuniqueobjects(\u001b[43mOut\u001b[49m\u001b[43m[\u001b[49m\u001b[38;5;241;43m152\u001b[39;49m\u001b[43m]\u001b[49m)])\n",
       "\u001b[0;31mKeyError\u001b[0m: 152"
      ]
     }
    ],
    "execution": {
     "iopub.execute_input": "2023-10-05T04:06:17.712546Z",
     "iopub.status.busy": "2023-10-05T04:06:17.712296Z",
     "iopub.status.idle": "2023-10-05T04:06:17.717148Z",
     "shell.execute_reply": "2023-10-05T04:06:17.716299Z"
    }
   },
   "outputs": [
    {
     "name": "stdout",
     "output_type": "stream",
     "text": [
      "value for key=Manuel: 12\n",
      "value for key=Miguel: 45\n",
      "value for key=Andrea: 33\n"
     ]
    }
   ],
   "source": [
    "for key, value in my_dict.items():\n",
    "    print(f'value for key={key}: {value}')"
   ]
  },
  {
   "cell_type": "markdown",
   "id": "53e7eb41",
   "metadata": {},
   "source": [
    "### How to check if a key exists and if it does, print value? (example: ```if key_name in dict_name:```)"
   ]
  },
  {
   "cell_type": "code",
   "execution_count": 154,
   "id": "de8896e0",
   "metadata": {
    "error": [
     {
      "ename": "KeyError",
      "evalue": "154",
      "output_type": "error",
      "traceback": [
       "\u001b[0;31m---------------------------------------------------------------------------\u001b[0m",
       "\u001b[0;31mKeyError\u001b[0m                                  Traceback (most recent call last)",
       "Cell \u001b[0;32mIn[155], line 1\u001b[0m\n\u001b[0;32m----> 1\u001b[0m json\u001b[38;5;241m.\u001b[39mdumps([typehandlerforuniqueobjects(\u001b[43mOut\u001b[49m\u001b[43m[\u001b[49m\u001b[38;5;241;43m154\u001b[39;49m\u001b[43m]\u001b[49m)])\n",
       "\u001b[0;31mKeyError\u001b[0m: 154"
      ]
     }
    ],
    "execution": {
     "iopub.execute_input": "2023-10-05T04:06:17.747206Z",
     "iopub.status.busy": "2023-10-05T04:06:17.746961Z",
     "iopub.status.idle": "2023-10-05T04:06:17.752154Z",
     "shell.execute_reply": "2023-10-05T04:06:17.751285Z"
    }
   },
   "outputs": [
    {
     "name": "stdout",
     "output_type": "stream",
     "text": [
      "value for key=Miguel: 45\n",
      "Julieta is not in my_dict\n"
     ]
    }
   ],
   "source": [
    "if 'Miguel' in my_dict:\n",
    "    print(f'value for key=Miguel: {my_dict[\"Miguel\"]}')\n",
    "if 'Julieta' in my_dict:\n",
    "    print(f'value for key=Julieta: {my_dict[\"Julieta\"]}')\n",
    "else:\n",
    "    print('Julieta is not in my_dict')"
   ]
  },
  {
   "cell_type": "markdown",
   "id": "43eec0bc",
   "metadata": {},
   "source": [
    "### How doe the ```any()``` and ```all()``` functions work on dictionaries?\n",
    "\n",
    "The ```any()``` function returns ```True``` if any value is ```True``` (i.e there is a key with a ```True``` value assigned).\n",
    "\n",
    "The ```all()``` function returns ```True``` if are no blank (empty string), zero or ```False``` values in the dictionary."
   ]
  },
  {
   "cell_type": "markdown",
   "id": "a0033b14",
   "metadata": {},
   "source": [
    "### Dict comprehension"
   ]
  },
  {
   "cell_type": "code",
   "execution_count": 156,
   "id": "9313fcff",
   "metadata": {
    "error": [
     {
      "ename": "KeyError",
      "evalue": "156",
      "output_type": "error",
      "traceback": [
       "\u001b[0;31m---------------------------------------------------------------------------\u001b[0m",
       "\u001b[0;31mKeyError\u001b[0m                                  Traceback (most recent call last)",
       "Cell \u001b[0;32mIn[157], line 1\u001b[0m\n\u001b[0;32m----> 1\u001b[0m json\u001b[38;5;241m.\u001b[39mdumps([typehandlerforuniqueobjects(\u001b[43mOut\u001b[49m\u001b[43m[\u001b[49m\u001b[38;5;241;43m156\u001b[39;49m\u001b[43m]\u001b[49m)])\n",
       "\u001b[0;31mKeyError\u001b[0m: 156"
      ]
     }
    ],
    "execution": {
     "iopub.execute_input": "2023-10-05T04:06:17.780699Z",
     "iopub.status.busy": "2023-10-05T04:06:17.780454Z",
     "iopub.status.idle": "2023-10-05T04:06:17.786105Z",
     "shell.execute_reply": "2023-10-05T04:06:17.785241Z"
    }
   },
   "outputs": [
    {
     "name": "stdout",
     "output_type": "stream",
     "text": [
      "create_dict_fast = {'Miguel': 32, 'Lucas': 25, 'Ricardo': 46, 'Maria': 56, 'Lucia': 33}\n"
     ]
    }
   ],
   "source": [
    "names = ['Miguel', 'Lucas', 'Ricardo', 'Maria', 'Lucia']\n",
    "ages  = [32, 25, 46, 56, 33]\n",
    "create_dict_fast = {name: age for name, age in zip(names, ages)}\n",
    "print(f'{create_dict_fast = }')\n",
    "# print(list(zip(names, ages)))"
   ]
  },
  {
   "cell_type": "markdown",
   "id": "05c16cb7",
   "metadata": {},
   "source": [
    "### Get all values from a dict"
   ]
  },
  {
   "cell_type": "code",
   "execution_count": 158,
   "id": "e3cb25a2",
   "metadata": {
    "error": [
     {
      "ename": "KeyError",
      "evalue": "158",
      "output_type": "error",
      "traceback": [
       "\u001b[0;31m---------------------------------------------------------------------------\u001b[0m",
       "\u001b[0;31mKeyError\u001b[0m                                  Traceback (most recent call last)",
       "Cell \u001b[0;32mIn[159], line 1\u001b[0m\n\u001b[0;32m----> 1\u001b[0m json\u001b[38;5;241m.\u001b[39mdumps([typehandlerforuniqueobjects(\u001b[43mOut\u001b[49m\u001b[43m[\u001b[49m\u001b[38;5;241;43m158\u001b[39;49m\u001b[43m]\u001b[49m)])\n",
       "\u001b[0;31mKeyError\u001b[0m: 158"
      ]
     }
    ],
    "execution": {
     "iopub.execute_input": "2023-10-05T04:06:17.814871Z",
     "iopub.status.busy": "2023-10-05T04:06:17.814592Z",
     "iopub.status.idle": "2023-10-05T04:06:17.819465Z",
     "shell.execute_reply": "2023-10-05T04:06:17.818620Z"
    }
   },
   "outputs": [
    {
     "name": "stdout",
     "output_type": "stream",
     "text": [
      "dictionary.values() = dict_values([1, 2, 4])\n"
     ]
    }
   ],
   "source": [
    "dictionary = {'a': 1, 'b': 2, 'c': 4}\n",
    "print(f'{dictionary.values() = }')"
   ]
  },
  {
   "cell_type": "markdown",
   "id": "1514a22c",
   "metadata": {},
   "source": [
    "### Get all keys from a dict"
   ]
  },
  {
   "cell_type": "code",
   "execution_count": 160,
   "id": "efe739cc",
   "metadata": {
    "error": [
     {
      "ename": "KeyError",
      "evalue": "160",
      "output_type": "error",
      "traceback": [
       "\u001b[0;31m---------------------------------------------------------------------------\u001b[0m",
       "\u001b[0;31mKeyError\u001b[0m                                  Traceback (most recent call last)",
       "Cell \u001b[0;32mIn[161], line 1\u001b[0m\n\u001b[0;32m----> 1\u001b[0m json\u001b[38;5;241m.\u001b[39mdumps([typehandlerforuniqueobjects(\u001b[43mOut\u001b[49m\u001b[43m[\u001b[49m\u001b[38;5;241;43m160\u001b[39;49m\u001b[43m]\u001b[49m)])\n",
       "\u001b[0;31mKeyError\u001b[0m: 160"
      ]
     }
    ],
    "execution": {
     "iopub.execute_input": "2023-10-05T04:06:17.847769Z",
     "iopub.status.busy": "2023-10-05T04:06:17.847517Z",
     "iopub.status.idle": "2023-10-05T04:06:17.852150Z",
     "shell.execute_reply": "2023-10-05T04:06:17.851283Z"
    }
   },
   "outputs": [
    {
     "name": "stdout",
     "output_type": "stream",
     "text": [
      "dictionary.keys() = dict_keys(['a', 'b', 'c'])\n"
     ]
    }
   ],
   "source": [
    "# Get all keys from a dict\n",
    "print(f'{dictionary.keys() = }')"
   ]
  },
  {
   "cell_type": "markdown",
   "id": "704d7b7b",
   "metadata": {},
   "source": [
    "### Merge dictionaries (Python 3.5+)"
   ]
  },
  {
   "cell_type": "code",
   "execution_count": 162,
   "id": "58478639",
   "metadata": {
    "error": [
     {
      "ename": "KeyError",
      "evalue": "162",
      "output_type": "error",
      "traceback": [
       "\u001b[0;31m---------------------------------------------------------------------------\u001b[0m",
       "\u001b[0;31mKeyError\u001b[0m                                  Traceback (most recent call last)",
       "Cell \u001b[0;32mIn[163], line 1\u001b[0m\n\u001b[0;32m----> 1\u001b[0m json\u001b[38;5;241m.\u001b[39mdumps([typehandlerforuniqueobjects(\u001b[43mOut\u001b[49m\u001b[43m[\u001b[49m\u001b[38;5;241;43m162\u001b[39;49m\u001b[43m]\u001b[49m)])\n",
       "\u001b[0;31mKeyError\u001b[0m: 162"
      ]
     }
    ],
    "execution": {
     "iopub.execute_input": "2023-10-05T04:06:17.880665Z",
     "iopub.status.busy": "2023-10-05T04:06:17.880423Z",
     "iopub.status.idle": "2023-10-05T04:06:17.885635Z",
     "shell.execute_reply": "2023-10-05T04:06:17.884780Z"
    }
   },
   "outputs": [
    {
     "name": "stdout",
     "output_type": "stream",
     "text": [
      "merged_dict = {'Name': 'Mathias', 'Age': 22, 'E-mail': 'email@example.com'}\n"
     ]
    }
   ],
   "source": [
    "dict_a = {'Name' : 'Mathias', 'Age': 22}\n",
    "dict_b = {'Name' : 'Mathias', 'E-mail': 'email@example.com'}\n",
    "merged_dict = {**dict_a, **dict_b}\n",
    "print(f'{merged_dict = }')"
   ]
  },
  {
   "cell_type": "markdown",
   "id": "a33af0ea",
   "metadata": {},
   "source": [
    "**Note:** The same can be acchieved with ```merged_dict = dict_a | dict_b ``` on Python 3.9+\n",
    "\n",
    "**Important:** If there is a key which is both dictionaries, but its value on each dict is different, then the value from ```dict_b``` will be used (the order on ```{**dict_a, **dict_b}``` (```dict_a | dict_b```) is important!)."
   ]
  },
  {
   "cell_type": "markdown",
   "id": "912795d6",
   "metadata": {},
   "source": [
    "## <div id='mutables-vs-immutables'>10. Mutables vs immutables</div>\n",
    "\n",
    "Everything in Python is an object.\n",
    "\n",
    "Objects in Python can be either <u>mutable</u> or <u>immutable</u>.\n",
    "\n",
    "Every variable holds an object instance.\n",
    "\n",
    "When an object is initiated, it is assigned a unique <u>object id</u> (or identity).\n",
    "\n",
    "Its type is defined at runtime and once set can never change, **however its state can be changed if it is mutable**\n",
    "\n",
    "i.e., a mutable object can be changed after it is created, and an immutable object can't.\n",
    "\n",
    "The built-in function ```id()``` returns the identity of an object as an integer.\n",
    "\n",
    "This integer usually corresponds to the object’s location in memory."
   ]
  },
  {
   "cell_type": "code",
   "execution_count": 164,
   "id": "d219b8c9",
   "metadata": {
    "error": [
     {
      "ename": "KeyError",
      "evalue": "164",
      "output_type": "error",
      "traceback": [
       "\u001b[0;31m---------------------------------------------------------------------------\u001b[0m",
       "\u001b[0;31mKeyError\u001b[0m                                  Traceback (most recent call last)",
       "Cell \u001b[0;32mIn[165], line 1\u001b[0m\n\u001b[0;32m----> 1\u001b[0m json\u001b[38;5;241m.\u001b[39mdumps([typehandlerforuniqueobjects(\u001b[43mOut\u001b[49m\u001b[43m[\u001b[49m\u001b[38;5;241;43m164\u001b[39;49m\u001b[43m]\u001b[49m)])\n",
       "\u001b[0;31mKeyError\u001b[0m: 164"
      ]
     }
    ],
    "execution": {
     "iopub.execute_input": "2023-10-05T04:06:17.914158Z",
     "iopub.status.busy": "2023-10-05T04:06:17.913909Z",
     "iopub.status.idle": "2023-10-05T04:06:17.919086Z",
     "shell.execute_reply": "2023-10-05T04:06:17.918231Z"
    }
   },
   "outputs": [
    {
     "name": "stdout",
     "output_type": "stream",
     "text": [
      "my_variable       = 'My text'\n",
      "type(my_variable) = <class 'str'>\n",
      "id(my_variable)   = 139757093035440\n"
     ]
    }
   ],
   "source": [
    "my_variable = 'My text'\n",
    "print(f'{my_variable       = }')\n",
    "print(f'{type(my_variable) = }') # type of m_variable\n",
    "print(f'{id(my_variable)   = }') # unique object id"
   ]
  },
  {
   "cell_type": "markdown",
   "id": "c70d9a81",
   "metadata": {},
   "source": [
    "**Objects of built-in types like (```int```, ```float```, ```bool```, ```str```, ```tuple```) are immutable.**\n",
    "\n",
    "**Objects of built-in types like (```list```, ```set```, ```dict```) are mutable.**\n",
    "\n",
    "Custom classes are generally mutable."
   ]
  },
  {
   "cell_type": "markdown",
   "id": "6d84afe3",
   "metadata": {},
   "source": [
    "### Example 1: the following two dictionaries have the same information but different ids"
   ]
  },
  {
   "cell_type": "code",
   "execution_count": 166,
   "id": "fae575ed",
   "metadata": {
    "error": [
     {
      "ename": "KeyError",
      "evalue": "166",
      "output_type": "error",
      "traceback": [
       "\u001b[0;31m---------------------------------------------------------------------------\u001b[0m",
       "\u001b[0;31mKeyError\u001b[0m                                  Traceback (most recent call last)",
       "Cell \u001b[0;32mIn[167], line 1\u001b[0m\n\u001b[0;32m----> 1\u001b[0m json\u001b[38;5;241m.\u001b[39mdumps([typehandlerforuniqueobjects(\u001b[43mOut\u001b[49m\u001b[43m[\u001b[49m\u001b[38;5;241;43m166\u001b[39;49m\u001b[43m]\u001b[49m)])\n",
       "\u001b[0;31mKeyError\u001b[0m: 166"
      ]
     }
    ],
    "execution": {
     "iopub.execute_input": "2023-10-05T04:06:17.947281Z",
     "iopub.status.busy": "2023-10-05T04:06:17.947039Z",
     "iopub.status.idle": "2023-10-05T04:06:17.952338Z",
     "shell.execute_reply": "2023-10-05T04:06:17.951469Z"
    }
   },
   "outputs": [
    {
     "name": "stdout",
     "output_type": "stream",
     "text": [
      "dict_a     = {'a': 1}\n",
      "dict_b     = {'a': 1}\n",
      "id(dict_a) = 139757396438080\n",
      "id(dict_b) = 139757637634688\n"
     ]
    }
   ],
   "source": [
    "dict_a = {'a': 1}\n",
    "dict_b = {'a': 1}\n",
    "print(f'{dict_a     = }')\n",
    "print(f'{dict_b     = }')\n",
    "print(f'{id(dict_a) = }')\n",
    "print(f'{id(dict_b) = }')"
   ]
  },
  {
   "cell_type": "markdown",
   "id": "31bf8441",
   "metadata": {},
   "source": [
    "### Example 2: what happens if I try to modify the value of a immutable object?"
   ]
  },
  {
   "cell_type": "code",
   "execution_count": 168,
   "id": "3ac86381",
   "metadata": {
    "error": [
     {
      "ename": "KeyError",
      "evalue": "168",
      "output_type": "error",
      "traceback": [
       "\u001b[0;31m---------------------------------------------------------------------------\u001b[0m",
       "\u001b[0;31mKeyError\u001b[0m                                  Traceback (most recent call last)",
       "Cell \u001b[0;32mIn[169], line 1\u001b[0m\n\u001b[0;32m----> 1\u001b[0m json\u001b[38;5;241m.\u001b[39mdumps([typehandlerforuniqueobjects(\u001b[43mOut\u001b[49m\u001b[43m[\u001b[49m\u001b[38;5;241;43m168\u001b[39;49m\u001b[43m]\u001b[49m)])\n",
       "\u001b[0;31mKeyError\u001b[0m: 168"
      ]
     }
    ],
    "execution": {
     "iopub.execute_input": "2023-10-05T04:06:17.980565Z",
     "iopub.status.busy": "2023-10-05T04:06:17.980325Z",
     "iopub.status.idle": "2023-10-05T04:06:17.985149Z",
     "shell.execute_reply": "2023-10-05T04:06:17.984287Z"
    }
   },
   "outputs": [
    {
     "name": "stdout",
     "output_type": "stream",
     "text": [
      "id(x) = 93909801578208\n",
      "id(y) = 93909801578208\n"
     ]
    }
   ],
   "source": [
    "x = 10\n",
    "y = x\n",
    "print(f'{id(x) = }')\n",
    "print(f'{id(y) = }')"
   ]
  },
  {
   "cell_type": "markdown",
   "id": "a5b6495f",
   "metadata": {},
   "source": [
    "```x``` and ```y``` share the same ```id``` (**they are the same object!**)"
   ]
  },
  {
   "cell_type": "markdown",
   "id": "3444abec",
   "metadata": {},
   "source": [
    "What happens if I modify ```x```? What happens with ```x``` and ```y```?"
   ]
  },
  {
   "cell_type": "code",
   "execution_count": 170,
   "id": "07c4ab39",
   "metadata": {
    "error": [
     {
      "ename": "KeyError",
      "evalue": "170",
      "output_type": "error",
      "traceback": [
       "\u001b[0;31m---------------------------------------------------------------------------\u001b[0m",
       "\u001b[0;31mKeyError\u001b[0m                                  Traceback (most recent call last)",
       "Cell \u001b[0;32mIn[171], line 1\u001b[0m\n\u001b[0;32m----> 1\u001b[0m json\u001b[38;5;241m.\u001b[39mdumps([typehandlerforuniqueobjects(\u001b[43mOut\u001b[49m\u001b[43m[\u001b[49m\u001b[38;5;241;43m170\u001b[39;49m\u001b[43m]\u001b[49m)])\n",
       "\u001b[0;31mKeyError\u001b[0m: 170"
      ]
     }
    ],
    "execution": {
     "iopub.execute_input": "2023-10-05T04:06:18.013506Z",
     "iopub.status.busy": "2023-10-05T04:06:18.013268Z",
     "iopub.status.idle": "2023-10-05T04:06:18.018372Z",
     "shell.execute_reply": "2023-10-05T04:06:18.017513Z"
    }
   },
   "outputs": [
    {
     "name": "stdout",
     "output_type": "stream",
     "text": [
      "x     = 11\n",
      "y     = 10\n",
      "id(x) = 93909801578240\n",
      "id(y) = 93909801578208\n"
     ]
    }
   ],
   "source": [
    "x = x + 1 # note: this is equivalent to x += 1\n",
    "print(f'{x     = }')\n",
    "print(f'{y     = }')\n",
    "print(f'{id(x) = }')\n",
    "print(f'{id(y) = }')"
   ]
  },
  {
   "cell_type": "markdown",
   "id": "ffb64220",
   "metadata": {},
   "source": [
    "Do you see what happened?\n",
    "- ```y``` didn't change\n",
    "- ```x``` now has a new id! (**ints are immutable, so to change ```x```, a new object needs to be created!**)"
   ]
  },
  {
   "cell_type": "markdown",
   "id": "7790eb40",
   "metadata": {},
   "source": [
    "### Example 3: equivalent to example 2 but for a mutable object (list)"
   ]
  },
  {
   "cell_type": "code",
   "execution_count": 172,
   "id": "8c5026b2",
   "metadata": {
    "error": [
     {
      "ename": "KeyError",
      "evalue": "172",
      "output_type": "error",
      "traceback": [
       "\u001b[0;31m---------------------------------------------------------------------------\u001b[0m",
       "\u001b[0;31mKeyError\u001b[0m                                  Traceback (most recent call last)",
       "Cell \u001b[0;32mIn[173], line 1\u001b[0m\n\u001b[0;32m----> 1\u001b[0m json\u001b[38;5;241m.\u001b[39mdumps([typehandlerforuniqueobjects(\u001b[43mOut\u001b[49m\u001b[43m[\u001b[49m\u001b[38;5;241;43m172\u001b[39;49m\u001b[43m]\u001b[49m)])\n",
       "\u001b[0;31mKeyError\u001b[0m: 172"
      ]
     }
    ],
    "execution": {
     "iopub.execute_input": "2023-10-05T04:06:18.048646Z",
     "iopub.status.busy": "2023-10-05T04:06:18.048395Z",
     "iopub.status.idle": "2023-10-05T04:06:18.053816Z",
     "shell.execute_reply": "2023-10-05T04:06:18.052971Z"
    }
   },
   "outputs": [
    {
     "name": "stdout",
     "output_type": "stream",
     "text": [
      "x     = [1, 2, 3, 4]\n",
      "y     = [1, 2, 3, 4]\n",
      "id(x) = 139757394770176\n",
      "id(y) = 139757394770176\n"
     ]
    }
   ],
   "source": [
    "x = [1,2,3,4] # note: this is equivalent to a = list([1,2,3,4])\n",
    "y = x\n",
    "print(f'{x     = }')\n",
    "print(f'{y     = }')\n",
    "print(f'{id(x) = }')\n",
    "print(f'{id(y) = }')"
   ]
  },
  {
   "cell_type": "markdown",
   "id": "686239fa",
   "metadata": {},
   "source": [
    "Let's modify ```x```:"
   ]
  },
  {
   "cell_type": "code",
   "execution_count": 174,
   "id": "b5e7d40c",
   "metadata": {
    "error": [
     {
      "ename": "KeyError",
      "evalue": "174",
      "output_type": "error",
      "traceback": [
       "\u001b[0;31m---------------------------------------------------------------------------\u001b[0m",
       "\u001b[0;31mKeyError\u001b[0m                                  Traceback (most recent call last)",
       "Cell \u001b[0;32mIn[175], line 1\u001b[0m\n\u001b[0;32m----> 1\u001b[0m json\u001b[38;5;241m.\u001b[39mdumps([typehandlerforuniqueobjects(\u001b[43mOut\u001b[49m\u001b[43m[\u001b[49m\u001b[38;5;241;43m174\u001b[39;49m\u001b[43m]\u001b[49m)])\n",
       "\u001b[0;31mKeyError\u001b[0m: 174"
      ]
     }
    ],
    "execution": {
     "iopub.execute_input": "2023-10-05T04:06:18.081507Z",
     "iopub.status.busy": "2023-10-05T04:06:18.081268Z",
     "iopub.status.idle": "2023-10-05T04:06:18.086363Z",
     "shell.execute_reply": "2023-10-05T04:06:18.085495Z"
    }
   },
   "outputs": [
    {
     "name": "stdout",
     "output_type": "stream",
     "text": [
      "x     = [1, 2, 3, 4, 5]\n",
      "y     = [1, 2, 3, 4, 5]\n",
      "id(x) = 139757394770176\n",
      "id(y) = 139757394770176\n"
     ]
    }
   ],
   "source": [
    "x.append(5)\n",
    "print(f'{x     = }')\n",
    "print(f'{y     = }')\n",
    "print(f'{id(x) = }')\n",
    "print(f'{id(y) = }')"
   ]
  },
  {
   "cell_type": "markdown",
   "id": "275bff36",
   "metadata": {},
   "source": [
    "**Now both, ```x``` and ```y```, were modified!** (since they are mutable!)"
   ]
  },
  {
   "cell_type": "markdown",
   "id": "b5cad813",
   "metadata": {},
   "source": [
    "### Exception in immutability\n",
    "\n",
    "The ```value``` of an immutable object can't change, but its constituent objects can.\n",
    "\n",
    "Let's look at a ```tuple``` which is immutable.\n",
    "\n",
    "Tuples are used to store multiple items in a single variable.\n",
    "\n",
    "**A ```tuple``` is a collection which is ordered and unchangeable.**\n",
    "\n",
    "Tuples are written with round brackets (```()```).\n",
    "\n",
    "The value of a tuple can't be changed after it is created.\n",
    "\n",
    "But the ```value``` of a tuple is in fact a sequence of names with unchangeable bindings to objects.\n",
    "\n",
    "The key thing to note is that the bindings are unchangeable, not the objects they are bound to.\n",
    "\n",
    "One could have a ```tuple``` including a mutable object for which we could change its content."
   ]
  },
  {
   "cell_type": "markdown",
   "id": "9e7f43c6",
   "metadata": {},
   "source": [
    "**Example:**"
   ]
  },
  {
   "cell_type": "code",
   "execution_count": 176,
   "id": "ecbdbb85",
   "metadata": {
    "error": [
     {
      "ename": "KeyError",
      "evalue": "176",
      "output_type": "error",
      "traceback": [
       "\u001b[0;31m---------------------------------------------------------------------------\u001b[0m",
       "\u001b[0;31mKeyError\u001b[0m                                  Traceback (most recent call last)",
       "Cell \u001b[0;32mIn[177], line 1\u001b[0m\n\u001b[0;32m----> 1\u001b[0m json\u001b[38;5;241m.\u001b[39mdumps([typehandlerforuniqueobjects(\u001b[43mOut\u001b[49m\u001b[43m[\u001b[49m\u001b[38;5;241;43m176\u001b[39;49m\u001b[43m]\u001b[49m)])\n",
       "\u001b[0;31mKeyError\u001b[0m: 176"
      ]
     }
    ],
    "execution": {
     "iopub.execute_input": "2023-10-05T04:06:18.114200Z",
     "iopub.status.busy": "2023-10-05T04:06:18.113958Z",
     "iopub.status.idle": "2023-10-05T04:06:18.118727Z",
     "shell.execute_reply": "2023-10-05T04:06:18.117886Z"
    }
   },
   "outputs": [
    {
     "name": "stdout",
     "output_type": "stream",
     "text": [
      "my_tuple = ('A string', [1, 2, 3, 4])\n"
     ]
    }
   ],
   "source": [
    "my_tuple = ('A string', [1,2,3,4])\n",
    "print(f'{my_tuple = }')"
   ]
  },
  {
   "cell_type": "markdown",
   "id": "aca131d4",
   "metadata": {},
   "source": [
    "Let's change the content of the list"
   ]
  },
  {
   "cell_type": "code",
   "execution_count": 178,
   "id": "18a59105",
   "metadata": {
    "error": [
     {
      "ename": "KeyError",
      "evalue": "178",
      "output_type": "error",
      "traceback": [
       "\u001b[0;31m---------------------------------------------------------------------------\u001b[0m",
       "\u001b[0;31mKeyError\u001b[0m                                  Traceback (most recent call last)",
       "Cell \u001b[0;32mIn[179], line 1\u001b[0m\n\u001b[0;32m----> 1\u001b[0m json\u001b[38;5;241m.\u001b[39mdumps([typehandlerforuniqueobjects(\u001b[43mOut\u001b[49m\u001b[43m[\u001b[49m\u001b[38;5;241;43m178\u001b[39;49m\u001b[43m]\u001b[49m)])\n",
       "\u001b[0;31mKeyError\u001b[0m: 178"
      ]
     }
    ],
    "execution": {
     "iopub.execute_input": "2023-10-05T04:06:18.146771Z",
     "iopub.status.busy": "2023-10-05T04:06:18.146526Z",
     "iopub.status.idle": "2023-10-05T04:06:18.151210Z",
     "shell.execute_reply": "2023-10-05T04:06:18.150362Z"
    }
   },
   "outputs": [
    {
     "name": "stdout",
     "output_type": "stream",
     "text": [
      "my_tuple = ('A string', [1, 2, 3, 4, 5])\n"
     ]
    }
   ],
   "source": [
    "my_tuple[1].append(5)\n",
    "print(f'{my_tuple = }')"
   ]
  },
  {
   "cell_type": "markdown",
   "id": "6091dcef",
   "metadata": {},
   "source": [
    "## <div id='equality-vs-identity'>11. Equality vs identity</div>"
   ]
  },
  {
   "cell_type": "markdown",
   "id": "0ef8174a",
   "metadata": {},
   "source": [
    " ### What is the difference between ```==``` (equality) and Python's keyword ```is``` (identity)?"
   ]
  },
  {
   "cell_type": "markdown",
   "id": "13fc3049",
   "metadata": {},
   "source": [
    "When an ```==``` is used in a condition, we are asking Python if two variables contain the same thing (information)."
   ]
  },
  {
   "cell_type": "code",
   "execution_count": 180,
   "id": "0d4f0007",
   "metadata": {
    "error": [
     {
      "ename": "KeyError",
      "evalue": "180",
      "output_type": "error",
      "traceback": [
       "\u001b[0;31m---------------------------------------------------------------------------\u001b[0m",
       "\u001b[0;31mKeyError\u001b[0m                                  Traceback (most recent call last)",
       "Cell \u001b[0;32mIn[181], line 1\u001b[0m\n\u001b[0;32m----> 1\u001b[0m json\u001b[38;5;241m.\u001b[39mdumps([typehandlerforuniqueobjects(\u001b[43mOut\u001b[49m\u001b[43m[\u001b[49m\u001b[38;5;241;43m180\u001b[39;49m\u001b[43m]\u001b[49m)])\n",
       "\u001b[0;31mKeyError\u001b[0m: 180"
      ]
     }
    ],
    "execution": {
     "iopub.execute_input": "2023-10-05T04:06:18.186371Z",
     "iopub.status.busy": "2023-10-05T04:06:18.186115Z",
     "iopub.status.idle": "2023-10-05T04:06:18.191968Z",
     "shell.execute_reply": "2023-10-05T04:06:18.191125Z"
    }
   },
   "outputs": [
    {
     "name": "stdout",
     "output_type": "stream",
     "text": [
      "num_1 == num_2\n",
      "list_1 == list_2\n"
     ]
    }
   ],
   "source": [
    "num_1 = 1\n",
    "num_2 = num_1\n",
    "\n",
    "if num_1 == num_2:\n",
    "    print('num_1 == num_2')\n",
    "\n",
    "list_1 = [1, 2, 3, 4]\n",
    "list_2 = [1, 2, 3, 4]\n",
    "\n",
    "if list_1 == list_2:\n",
    "    print('list_1 == list_2')"
   ]
  },
  {
   "cell_type": "markdown",
   "id": "5405df48",
   "metadata": {},
   "source": [
    "In the two examples above, ```num_1``` (```list_1```) and ```num_2``` (```list_2```) are equal. But are ```num_1``` (```list_1```) and ```num_2``` (```list_2```) identical (i.e., the same objects)? In this case, we are asking if they have the same identity (i.e. if they are actually the same object).\n",
    "\n",
    "In the case of ```num_1``` and ```num_2```, the answer is yes:"
   ]
  },
  {
   "cell_type": "code",
   "execution_count": 182,
   "id": "26cd02cb",
   "metadata": {
    "error": [
     {
      "ename": "KeyError",
      "evalue": "182",
      "output_type": "error",
      "traceback": [
       "\u001b[0;31m---------------------------------------------------------------------------\u001b[0m",
       "\u001b[0;31mKeyError\u001b[0m                                  Traceback (most recent call last)",
       "Cell \u001b[0;32mIn[183], line 1\u001b[0m\n\u001b[0;32m----> 1\u001b[0m json\u001b[38;5;241m.\u001b[39mdumps([typehandlerforuniqueobjects(\u001b[43mOut\u001b[49m\u001b[43m[\u001b[49m\u001b[38;5;241;43m182\u001b[39;49m\u001b[43m]\u001b[49m)])\n",
       "\u001b[0;31mKeyError\u001b[0m: 182"
      ]
     }
    ],
    "execution": {
     "iopub.execute_input": "2023-10-05T04:06:18.219872Z",
     "iopub.status.busy": "2023-10-05T04:06:18.219630Z",
     "iopub.status.idle": "2023-10-05T04:06:18.224572Z",
     "shell.execute_reply": "2023-10-05T04:06:18.223442Z"
    }
   },
   "outputs": [
    {
     "name": "stdout",
     "output_type": "stream",
     "text": [
      "num_1 and num_2 are identical\n"
     ]
    }
   ],
   "source": [
    "if id(num_1) == id(num_2):\n",
    "    print('num_1 and num_2 are identical')"
   ]
  },
  {
   "cell_type": "markdown",
   "id": "e1811f3e",
   "metadata": {},
   "source": [
    "We can check the same using ```is```:"
   ]
  },
  {
   "cell_type": "code",
   "execution_count": 184,
   "id": "224d9b12",
   "metadata": {
    "error": [
     {
      "ename": "KeyError",
      "evalue": "184",
      "output_type": "error",
      "traceback": [
       "\u001b[0;31m---------------------------------------------------------------------------\u001b[0m",
       "\u001b[0;31mKeyError\u001b[0m                                  Traceback (most recent call last)",
       "Cell \u001b[0;32mIn[185], line 1\u001b[0m\n\u001b[0;32m----> 1\u001b[0m json\u001b[38;5;241m.\u001b[39mdumps([typehandlerforuniqueobjects(\u001b[43mOut\u001b[49m\u001b[43m[\u001b[49m\u001b[38;5;241;43m184\u001b[39;49m\u001b[43m]\u001b[49m)])\n",
       "\u001b[0;31mKeyError\u001b[0m: 184"
      ]
     }
    ],
    "execution": {
     "iopub.execute_input": "2023-10-05T04:06:18.252388Z",
     "iopub.status.busy": "2023-10-05T04:06:18.252147Z",
     "iopub.status.idle": "2023-10-05T04:06:18.256821Z",
     "shell.execute_reply": "2023-10-05T04:06:18.255964Z"
    }
   },
   "outputs": [
    {
     "name": "stdout",
     "output_type": "stream",
     "text": [
      "num_1 and num_2 are identical\n"
     ]
    }
   ],
   "source": [
    "if num_1 is num_2:\n",
    "    print('num_1 and num_2 are identical')"
   ]
  },
  {
   "cell_type": "markdown",
   "id": "27b321c2",
   "metadata": {},
   "source": [
    "In the case of ```list_1``` and ```list_2```, the answer is no:"
   ]
  },
  {
   "cell_type": "code",
   "execution_count": 186,
   "id": "80a590e7",
   "metadata": {
    "error": [
     {
      "ename": "KeyError",
      "evalue": "186",
      "output_type": "error",
      "traceback": [
       "\u001b[0;31m---------------------------------------------------------------------------\u001b[0m",
       "\u001b[0;31mKeyError\u001b[0m                                  Traceback (most recent call last)",
       "Cell \u001b[0;32mIn[187], line 1\u001b[0m\n\u001b[0;32m----> 1\u001b[0m json\u001b[38;5;241m.\u001b[39mdumps([typehandlerforuniqueobjects(\u001b[43mOut\u001b[49m\u001b[43m[\u001b[49m\u001b[38;5;241;43m186\u001b[39;49m\u001b[43m]\u001b[49m)])\n",
       "\u001b[0;31mKeyError\u001b[0m: 186"
      ]
     }
    ],
    "execution": {
     "iopub.execute_input": "2023-10-05T04:06:18.284694Z",
     "iopub.status.busy": "2023-10-05T04:06:18.284404Z",
     "iopub.status.idle": "2023-10-05T04:06:18.289234Z",
     "shell.execute_reply": "2023-10-05T04:06:18.288312Z"
    }
   },
   "outputs": [
    {
     "name": "stdout",
     "output_type": "stream",
     "text": [
      "list_1 and list_2 are not identical\n"
     ]
    }
   ],
   "source": [
    "if list_1 is not list_2:\n",
    "    print('list_1 and list_2 are not identical')"
   ]
  },
  {
   "cell_type": "markdown",
   "id": "272121f4",
   "metadata": {},
   "source": [
    "**Note:** Naturally, if ```id(a) == id(b)``` (```a``` and ```b``` are identical) we know ```a == b``` (equal)"
   ]
  },
  {
   "cell_type": "markdown",
   "id": "b2ba95fa",
   "metadata": {},
   "source": [
    "## <div id='importing'>12. Importing modules and packages</div>\n",
    "\n",
    "Python code is organized into both modules and packages. \n",
    "\n",
    "Code in one module gains access to the code in another module by the process of importing it.\n",
    "\n",
    "### Modules\n",
    "\n",
    "In practice, a module usually corresponds to one .py file containing Python code.\n",
    "\n",
    "Modules can be imported and hence, functions/variables/classes therein can be reused in another code.\n",
    "\n",
    "**Example:**\n",
    "\n",
    "First, import the ```math``` module\n",
    "\n",
    "**Note:** ```math``` is part of Python’s standard library (i.e. it’s always available to import)"
   ]
  },
  {
   "cell_type": "code",
   "execution_count": 188,
   "id": "2c6e5702",
   "metadata": {
    "execution": {
     "iopub.execute_input": "2023-10-05T04:06:18.317501Z",
     "iopub.status.busy": "2023-10-05T04:06:18.317260Z",
     "iopub.status.idle": "2023-10-05T04:06:18.321224Z",
     "shell.execute_reply": "2023-10-05T04:06:18.320385Z"
    }
   },
   "outputs": [],
   "source": [
    "import math"
   ]
  },
  {
   "cell_type": "markdown",
   "id": "aa750c4a",
   "metadata": {},
   "source": [
    "Then, access the pi variable ($\\pi$) within the math module"
   ]
  },
  {
   "cell_type": "code",
   "execution_count": 189,
   "id": "a83fabff",
   "metadata": {
    "error": [
     {
      "ename": "KeyError",
      "evalue": "189",
      "output_type": "error",
      "traceback": [
       "\u001b[0;31m---------------------------------------------------------------------------\u001b[0m",
       "\u001b[0;31mKeyError\u001b[0m                                  Traceback (most recent call last)",
       "Cell \u001b[0;32mIn[190], line 1\u001b[0m\n\u001b[0;32m----> 1\u001b[0m json\u001b[38;5;241m.\u001b[39mdumps([typehandlerforuniqueobjects(\u001b[43mOut\u001b[49m\u001b[43m[\u001b[49m\u001b[38;5;241;43m189\u001b[39;49m\u001b[43m]\u001b[49m)])\n",
       "\u001b[0;31mKeyError\u001b[0m: 189"
      ]
     }
    ],
    "execution": {
     "iopub.execute_input": "2023-10-05T04:06:18.324728Z",
     "iopub.status.busy": "2023-10-05T04:06:18.324478Z",
     "iopub.status.idle": "2023-10-05T04:06:18.329094Z",
     "shell.execute_reply": "2023-10-05T04:06:18.328249Z"
    }
   },
   "outputs": [
    {
     "name": "stdout",
     "output_type": "stream",
     "text": [
      "3.141592653589793\n"
     ]
    }
   ],
   "source": [
    "print(math.pi)"
   ]
  },
  {
   "cell_type": "markdown",
   "id": "c2e1b035",
   "metadata": {},
   "source": [
    "**Note:** I wrote ```math.pi``` and not just simply ```pi```!\n",
    "\n",
    "In addition to being a module, ```math``` acts as a **namespace** that keeps all the attributes of the module together.\n",
    "\n",
    "You can list the content of a namespace with ```dir()``` and as you can see below, ```pi``` is one of the available attributes from ```math```:"
   ]
  },
  {
   "cell_type": "code",
   "execution_count": 191,
   "id": "2086b973",
   "metadata": {
    "execution": {
     "iopub.execute_input": "2023-10-05T04:06:18.358796Z",
     "iopub.status.busy": "2023-10-05T04:06:18.358545Z",
     "iopub.status.idle": "2023-10-05T04:06:18.367625Z",
     "shell.execute_reply": "2023-10-05T04:06:18.366812Z"
    },
    "type_information": "[{\"type\": \"<class 'list'>\", \"name\": \"list\", \"module\": \"builtins\", \"size\": 648, \"data\": [{\"type\": \"<class 'str'>\", \"name\": \"str\", \"module\": \"builtins\", \"size\": 56}, {\"type\": \"<class 'str'>\", \"name\": \"str\", \"module\": \"builtins\", \"size\": 57}, {\"type\": \"<class 'str'>\", \"name\": \"str\", \"module\": \"builtins\", \"size\": 59}, {\"type\": \"<class 'str'>\", \"name\": \"str\", \"module\": \"builtins\", \"size\": 57}, {\"type\": \"<class 'str'>\", \"name\": \"str\", \"module\": \"builtins\", \"size\": 60}, {\"type\": \"<class 'str'>\", \"name\": \"str\", \"module\": \"builtins\", \"size\": 57}, {\"type\": \"<class 'str'>\", \"name\": \"str\", \"module\": \"builtins\", \"size\": 53}, {\"type\": \"<class 'str'>\", \"name\": \"str\", \"module\": \"builtins\", \"size\": 54}, {\"type\": \"<class 'str'>\", \"name\": \"str\", \"module\": \"builtins\", \"size\": 53}, {\"type\": \"<class 'str'>\", \"name\": \"str\", \"module\": \"builtins\", \"size\": 54}, {\"type\": \"<class 'str'>\", \"name\": \"str\", \"module\": \"builtins\", \"size\": 53}, {\"type\": \"<class 'str'>\", \"name\": \"str\", \"module\": \"builtins\", \"size\": 54}, {\"type\": \"<class 'str'>\", \"name\": \"str\", \"module\": \"builtins\", \"size\": 54}, {\"type\": \"<class 'str'>\", \"name\": \"str\", \"module\": \"builtins\", \"size\": 53}, {\"type\": \"<class 'str'>\", \"name\": \"str\", \"module\": \"builtins\", \"size\": 53}, {\"type\": \"<class 'str'>\", \"name\": \"str\", \"module\": \"builtins\", \"size\": 57}, {\"type\": \"<class 'str'>\", \"name\": \"str\", \"module\": \"builtins\", \"size\": 52}, {\"type\": \"<class 'str'>\", \"name\": \"str\", \"module\": \"builtins\", \"size\": 53}, {\"type\": \"<class 'str'>\", \"name\": \"str\", \"module\": \"builtins\", \"size\": 56}, {\"type\": \"<class 'str'>\", \"name\": \"str\", \"module\": \"builtins\", \"size\": 53}, {\"type\": \"<class 'str'>\", \"name\": \"str\", \"module\": \"builtins\", \"size\": 50}, {\"type\": \"<class 'str'>\", \"name\": \"str\", \"module\": \"builtins\", \"size\": 52}, {\"type\": \"<class 'str'>\", \"name\": \"str\", \"module\": \"builtins\", \"size\": 53}, {\"type\": \"<class 'str'>\", \"name\": \"str\", \"module\": \"builtins\", \"size\": 52}, {\"type\": \"<class 'str'>\", \"name\": \"str\", \"module\": \"builtins\", \"size\": 54}, {\"type\": \"<class 'str'>\", \"name\": \"str\", \"module\": \"builtins\", \"size\": 53}, {\"type\": \"<class 'str'>\", \"name\": \"str\", \"module\": \"builtins\", \"size\": 58}, {\"type\": \"<class 'str'>\", \"name\": \"str\", \"module\": \"builtins\", \"size\": 54}, {\"type\": \"<class 'str'>\", \"name\": \"str\", \"module\": \"builtins\", \"size\": 53}, {\"type\": \"<class 'str'>\", \"name\": \"str\", \"module\": \"builtins\", \"size\": 54}, {\"type\": \"<class 'str'>\", \"name\": \"str\", \"module\": \"builtins\", \"size\": 53}, {\"type\": \"<class 'str'>\", \"name\": \"str\", \"module\": \"builtins\", \"size\": 54}, {\"type\": \"<class 'str'>\", \"name\": \"str\", \"module\": \"builtins\", \"size\": 52}, {\"type\": \"<class 'str'>\", \"name\": \"str\", \"module\": \"builtins\", \"size\": 54}, {\"type\": \"<class 'str'>\", \"name\": \"str\", \"module\": \"builtins\", \"size\": 52}, {\"type\": \"<class 'str'>\", \"name\": \"str\", \"module\": \"builtins\", \"size\": 56}, {\"type\": \"<class 'str'>\", \"name\": \"str\", \"module\": \"builtins\", \"size\": 57}, {\"type\": \"<class 'str'>\", \"name\": \"str\", \"module\": \"builtins\", \"size\": 54}, {\"type\": \"<class 'str'>\", \"name\": \"str\", \"module\": \"builtins\", \"size\": 54}, {\"type\": \"<class 'str'>\", \"name\": \"str\", \"module\": \"builtins\", \"size\": 54}, {\"type\": \"<class 'str'>\", \"name\": \"str\", \"module\": \"builtins\", \"size\": 54}, {\"type\": \"<class 'str'>\", \"name\": \"str\", \"module\": \"builtins\", \"size\": 55}, {\"type\": \"<class 'str'>\", \"name\": \"str\", \"module\": \"builtins\", \"size\": 52}, {\"type\": \"<class 'str'>\", \"name\": \"str\", \"module\": \"builtins\", \"size\": 54}, {\"type\": \"<class 'str'>\", \"name\": \"str\", \"module\": \"builtins\", \"size\": 54}, {\"type\": \"<class 'str'>\", \"name\": \"str\", \"module\": \"builtins\", \"size\": 53}, {\"type\": \"<class 'str'>\", \"name\": \"str\", \"module\": \"builtins\", \"size\": 53}, {\"type\": \"<class 'str'>\", \"name\": \"str\", \"module\": \"builtins\", \"size\": 52}, {\"type\": \"<class 'str'>\", \"name\": \"str\", \"module\": \"builtins\", \"size\": 53}, {\"type\": \"<class 'str'>\", \"name\": \"str\", \"module\": \"builtins\", \"size\": 51}, {\"type\": \"<class 'str'>\", \"name\": \"str\", \"module\": \"builtins\", \"size\": 52}, {\"type\": \"<class 'str'>\", \"name\": \"str\", \"module\": \"builtins\", \"size\": 53}, {\"type\": \"<class 'str'>\", \"name\": \"str\", \"module\": \"builtins\", \"size\": 56}, {\"type\": \"<class 'str'>\", \"name\": \"str\", \"module\": \"builtins\", \"size\": 58}, {\"type\": \"<class 'str'>\", \"name\": \"str\", \"module\": \"builtins\", \"size\": 52}, {\"type\": \"<class 'str'>\", \"name\": \"str\", \"module\": \"builtins\", \"size\": 53}, {\"type\": \"<class 'str'>\", \"name\": \"str\", \"module\": \"builtins\", \"size\": 53}, {\"type\": \"<class 'str'>\", \"name\": \"str\", \"module\": \"builtins\", \"size\": 52}, {\"type\": \"<class 'str'>\", \"name\": \"str\", \"module\": \"builtins\", \"size\": 53}, {\"type\": \"<class 'str'>\", \"name\": \"str\", \"module\": \"builtins\", \"size\": 52}, {\"type\": \"<class 'str'>\", \"name\": \"str\", \"module\": \"builtins\", \"size\": 54}]}]"
   },
   "outputs": [
    {
     "data": {
      "text/plain": [
       "['__doc__',\n",
       " '__file__',\n",
       " '__loader__',\n",
       " '__name__',\n",
       " '__package__',\n",
       " '__spec__',\n",
       " 'acos',\n",
       " 'acosh',\n",
       " 'asin',\n",
       " 'asinh',\n",
       " 'atan',\n",
       " 'atan2',\n",
       " 'atanh',\n",
       " 'ceil',\n",
       " 'comb',\n",
       " 'copysign',\n",
       " 'cos',\n",
       " 'cosh',\n",
       " 'degrees',\n",
       " 'dist',\n",
       " 'e',\n",
       " 'erf',\n",
       " 'erfc',\n",
       " 'exp',\n",
       " 'expm1',\n",
       " 'fabs',\n",
       " 'factorial',\n",
       " 'floor',\n",
       " 'fmod',\n",
       " 'frexp',\n",
       " 'fsum',\n",
       " 'gamma',\n",
       " 'gcd',\n",
       " 'hypot',\n",
       " 'inf',\n",
       " 'isclose',\n",
       " 'isfinite',\n",
       " 'isinf',\n",
       " 'isnan',\n",
       " 'isqrt',\n",
       " 'ldexp',\n",
       " 'lgamma',\n",
       " 'log',\n",
       " 'log10',\n",
       " 'log1p',\n",
       " 'log2',\n",
       " 'modf',\n",
       " 'nan',\n",
       " 'perm',\n",
       " 'pi',\n",
       " 'pow',\n",
       " 'prod',\n",
       " 'radians',\n",
       " 'remainder',\n",
       " 'sin',\n",
       " 'sinh',\n",
       " 'sqrt',\n",
       " 'tan',\n",
       " 'tanh',\n",
       " 'tau',\n",
       " 'trunc']"
      ]
     },
     "execution_count": 191,
     "metadata": {},
     "output_type": "execute_result"
    }
   ],
   "source": [
    "dir(math)"
   ]
  },
  {
   "cell_type": "markdown",
   "id": "dd7d23b5",
   "metadata": {},
   "source": [
    "#### How import only what is needed?\n",
    "\n",
    "This helps to speed up your Python modules.\n",
    "\n",
    "**Example 1:**"
   ]
  },
  {
   "cell_type": "code",
   "execution_count": 193,
   "id": "53b7981b",
   "metadata": {
    "error": [
     {
      "ename": "KeyError",
      "evalue": "193",
      "output_type": "error",
      "traceback": [
       "\u001b[0;31m---------------------------------------------------------------------------\u001b[0m",
       "\u001b[0;31mKeyError\u001b[0m                                  Traceback (most recent call last)",
       "Cell \u001b[0;32mIn[194], line 1\u001b[0m\n\u001b[0;32m----> 1\u001b[0m json\u001b[38;5;241m.\u001b[39mdumps([typehandlerforuniqueobjects(\u001b[43mOut\u001b[49m\u001b[43m[\u001b[49m\u001b[38;5;241;43m193\u001b[39;49m\u001b[43m]\u001b[49m)])\n",
       "\u001b[0;31mKeyError\u001b[0m: 193"
      ]
     }
    ],
    "execution": {
     "iopub.execute_input": "2023-10-05T04:06:18.380327Z",
     "iopub.status.busy": "2023-10-05T04:06:18.380091Z",
     "iopub.status.idle": "2023-10-05T04:06:18.384672Z",
     "shell.execute_reply": "2023-10-05T04:06:18.383832Z"
    }
   },
   "outputs": [
    {
     "name": "stdout",
     "output_type": "stream",
     "text": [
      "3.141592653589793\n"
     ]
    }
   ],
   "source": [
    "from math import pi\n",
    "print(pi)"
   ]
  },
  {
   "cell_type": "markdown",
   "id": "974bc8fc",
   "metadata": {},
   "source": [
    "**Note:** that this places ```pi``` in the global namespace and not within a ```math``` namespace."
   ]
  },
  {
   "cell_type": "markdown",
   "id": "dc54fe47",
   "metadata": {},
   "source": [
    "**Example 2:**\n",
    "\n",
    "Let's now import the ```cos()``` function and ```pi```"
   ]
  },
  {
   "cell_type": "code",
   "execution_count": 195,
   "id": "4a8e5755",
   "metadata": {
    "error": [
     {
      "ename": "KeyError",
      "evalue": "195",
      "output_type": "error",
      "traceback": [
       "\u001b[0;31m---------------------------------------------------------------------------\u001b[0m",
       "\u001b[0;31mKeyError\u001b[0m                                  Traceback (most recent call last)",
       "Cell \u001b[0;32mIn[196], line 1\u001b[0m\n\u001b[0;32m----> 1\u001b[0m json\u001b[38;5;241m.\u001b[39mdumps([typehandlerforuniqueobjects(\u001b[43mOut\u001b[49m\u001b[43m[\u001b[49m\u001b[38;5;241;43m195\u001b[39;49m\u001b[43m]\u001b[49m)])\n",
       "\u001b[0;31mKeyError\u001b[0m: 195"
      ]
     }
    ],
    "execution": {
     "iopub.execute_input": "2023-10-05T04:06:18.413188Z",
     "iopub.status.busy": "2023-10-05T04:06:18.412947Z",
     "iopub.status.idle": "2023-10-05T04:06:18.417604Z",
     "shell.execute_reply": "2023-10-05T04:06:18.416746Z"
    }
   },
   "outputs": [
    {
     "name": "stdout",
     "output_type": "stream",
     "text": [
      "-1.0\n"
     ]
    }
   ],
   "source": [
    "from math import pi, cos\n",
    "print(cos(pi))"
   ]
  },
  {
   "cell_type": "markdown",
   "id": "607f8f19",
   "metadata": {},
   "source": [
    "**Example 3:**\n",
    "\n",
    "You can also rename modules:"
   ]
  },
  {
   "cell_type": "code",
   "execution_count": 197,
   "id": "ae87aff0",
   "metadata": {
    "error": [
     {
      "ename": "KeyError",
      "evalue": "197",
      "output_type": "error",
      "traceback": [
       "\u001b[0;31m---------------------------------------------------------------------------\u001b[0m",
       "\u001b[0;31mKeyError\u001b[0m                                  Traceback (most recent call last)",
       "Cell \u001b[0;32mIn[198], line 1\u001b[0m\n\u001b[0;32m----> 1\u001b[0m json\u001b[38;5;241m.\u001b[39mdumps([typehandlerforuniqueobjects(\u001b[43mOut\u001b[49m\u001b[43m[\u001b[49m\u001b[38;5;241;43m197\u001b[39;49m\u001b[43m]\u001b[49m)])\n",
       "\u001b[0;31mKeyError\u001b[0m: 197"
      ]
     }
    ],
    "execution": {
     "iopub.execute_input": "2023-10-05T04:06:18.445460Z",
     "iopub.status.busy": "2023-10-05T04:06:18.445219Z",
     "iopub.status.idle": "2023-10-05T04:06:18.449878Z",
     "shell.execute_reply": "2023-10-05T04:06:18.449028Z"
    }
   },
   "outputs": [
    {
     "name": "stdout",
     "output_type": "stream",
     "text": [
      "3.141592653589793\n"
     ]
    }
   ],
   "source": [
    "import math as m\n",
    "print(m.pi)"
   ]
  },
  {
   "cell_type": "markdown",
   "id": "f9de3592",
   "metadata": {},
   "source": [
    "**Note:** The namespace is now called ```m```"
   ]
  },
  {
   "cell_type": "markdown",
   "id": "e283af18",
   "metadata": {},
   "source": [
    "**Example 4:**\n",
    "\n",
    "You can also rename attributes:"
   ]
  },
  {
   "cell_type": "code",
   "execution_count": 199,
   "id": "83a5c8df",
   "metadata": {
    "error": [
     {
      "ename": "KeyError",
      "evalue": "199",
      "output_type": "error",
      "traceback": [
       "\u001b[0;31m---------------------------------------------------------------------------\u001b[0m",
       "\u001b[0;31mKeyError\u001b[0m                                  Traceback (most recent call last)",
       "Cell \u001b[0;32mIn[200], line 1\u001b[0m\n\u001b[0;32m----> 1\u001b[0m json\u001b[38;5;241m.\u001b[39mdumps([typehandlerforuniqueobjects(\u001b[43mOut\u001b[49m\u001b[43m[\u001b[49m\u001b[38;5;241;43m199\u001b[39;49m\u001b[43m]\u001b[49m)])\n",
       "\u001b[0;31mKeyError\u001b[0m: 199"
      ]
     }
    ],
    "execution": {
     "iopub.execute_input": "2023-10-05T04:06:18.478140Z",
     "iopub.status.busy": "2023-10-05T04:06:18.477878Z",
     "iopub.status.idle": "2023-10-05T04:06:18.482433Z",
     "shell.execute_reply": "2023-10-05T04:06:18.481593Z"
    }
   },
   "outputs": [
    {
     "name": "stdout",
     "output_type": "stream",
     "text": [
      "3.141592653589793\n"
     ]
    }
   ],
   "source": [
    "from math import pi as PI\n",
    "print(PI)"
   ]
  },
  {
   "cell_type": "markdown",
   "id": "c72ab1a0",
   "metadata": {},
   "source": [
    "#### How to check the version of a module that was imported?\n",
    "\n",
    "For any module not available in the standard library, one could check its version with the ```__version__``` attribute. This is not available for modules from the standard library since its version would be the version of Python."
   ]
  },
  {
   "cell_type": "markdown",
   "id": "62b49142",
   "metadata": {},
   "source": [
    "**Note:** See the Helpful_modules notebook to learn about the most useful Python modules"
   ]
  },
  {
   "cell_type": "markdown",
   "id": "bed06f03",
   "metadata": {},
   "source": [
    "### Packages\n",
    "\n",
    "You can use a package to further organize your modules.\n",
    "\n",
    "A package is a Python module which can contain submodules subpackages. \n",
    "\n",
    "A package typically corresponds to a file directory containing Python modules and other directories/folders. To create a Python package, you need to create a directory and place inside a file named ```__init__.py```. The ```__init__.py``` file contains the contents of the package when importing it. It can be left empty.\n",
    "\n",
    "In general, submodules and subpackages aren’t imported when you import a package (when ```__init__.py``` is empty).\n",
    "\n",
    "In such a case, you would need to do something like this:\n",
    "\n",
    "```\n",
    "from package.file import function\n",
    "from package.file import class\n",
    "```"
   ]
  },
  {
   "cell_type": "markdown",
   "id": "1c66cc07",
   "metadata": {},
   "source": [
    "# <div id='exercises' align='center'>13. Exercises</div>"
   ]
  },
  {
   "cell_type": "markdown",
   "id": "31d2ec7a",
   "metadata": {},
   "source": [
    "## Exercise 1\n",
    "\n",
    "Evaluate the following formula for ```x=5```: 2x+(x-1)^3"
   ]
  },
  {
   "cell_type": "markdown",
   "id": "14019871",
   "metadata": {},
   "source": [
    "### Answer:"
   ]
  },
  {
   "cell_type": "code",
   "execution_count": 201,
   "id": "ac0ac248",
   "metadata": {
    "error": [
     {
      "ename": "KeyError",
      "evalue": "201",
      "output_type": "error",
      "traceback": [
       "\u001b[0;31m---------------------------------------------------------------------------\u001b[0m",
       "\u001b[0;31mKeyError\u001b[0m                                  Traceback (most recent call last)",
       "Cell \u001b[0;32mIn[202], line 1\u001b[0m\n\u001b[0;32m----> 1\u001b[0m json\u001b[38;5;241m.\u001b[39mdumps([typehandlerforuniqueobjects(\u001b[43mOut\u001b[49m\u001b[43m[\u001b[49m\u001b[38;5;241;43m201\u001b[39;49m\u001b[43m]\u001b[49m)])\n",
       "\u001b[0;31mKeyError\u001b[0m: 201"
      ]
     }
    ],
    "execution": {
     "iopub.execute_input": "2023-10-05T04:06:18.510862Z",
     "iopub.status.busy": "2023-10-05T04:06:18.510622Z",
     "iopub.status.idle": "2023-10-05T04:06:18.515257Z",
     "shell.execute_reply": "2023-10-05T04:06:18.514415Z"
    }
   },
   "outputs": [
    {
     "name": "stdout",
     "output_type": "stream",
     "text": [
      "74\n"
     ]
    }
   ],
   "source": [
    "print(2*5 + (5-1)**3)"
   ]
  },
  {
   "cell_type": "markdown",
   "id": "d8f7a49b",
   "metadata": {},
   "source": [
    "## Exercise 2\n",
    "\n",
    "Create a list of the lowest 10 even numbers using list comprehension"
   ]
  },
  {
   "cell_type": "markdown",
   "id": "2680d7ae",
   "metadata": {},
   "source": [
    "### Answer:"
   ]
  },
  {
   "cell_type": "code",
   "execution_count": 203,
   "id": "07ea2e43",
   "metadata": {
    "error": [
     {
      "ename": "KeyError",
      "evalue": "203",
      "output_type": "error",
      "traceback": [
       "\u001b[0;31m---------------------------------------------------------------------------\u001b[0m",
       "\u001b[0;31mKeyError\u001b[0m                                  Traceback (most recent call last)",
       "Cell \u001b[0;32mIn[204], line 1\u001b[0m\n\u001b[0;32m----> 1\u001b[0m json\u001b[38;5;241m.\u001b[39mdumps([typehandlerforuniqueobjects(\u001b[43mOut\u001b[49m\u001b[43m[\u001b[49m\u001b[38;5;241;43m203\u001b[39;49m\u001b[43m]\u001b[49m)])\n",
       "\u001b[0;31mKeyError\u001b[0m: 203"
      ]
     }
    ],
    "execution": {
     "iopub.execute_input": "2023-10-05T04:06:18.543698Z",
     "iopub.status.busy": "2023-10-05T04:06:18.543454Z",
     "iopub.status.idle": "2023-10-05T04:06:18.548419Z",
     "shell.execute_reply": "2023-10-05T04:06:18.547544Z"
    }
   },
   "outputs": [
    {
     "name": "stdout",
     "output_type": "stream",
     "text": [
      "[0, 2, 4, 6, 8, 10, 12, 14, 16, 18]\n"
     ]
    }
   ],
   "source": [
    "even_numbers = [i for i in range(19) if i % 2 == 0]\n",
    "print(even_numbers)"
   ]
  },
  {
   "cell_type": "markdown",
   "id": "3d9c5ee5",
   "metadata": {},
   "source": [
    "## Exercise 3\n",
    "\n",
    "Print the first and last elements from the following list: ```names = ['Jonathan', 'David', 'George', 'Matthias']```"
   ]
  },
  {
   "cell_type": "markdown",
   "id": "ebe5798c",
   "metadata": {},
   "source": [
    "### Answer:"
   ]
  },
  {
   "cell_type": "code",
   "execution_count": 205,
   "id": "13f0ba14",
   "metadata": {
    "error": [
     {
      "ename": "KeyError",
      "evalue": "205",
      "output_type": "error",
      "traceback": [
       "\u001b[0;31m---------------------------------------------------------------------------\u001b[0m",
       "\u001b[0;31mKeyError\u001b[0m                                  Traceback (most recent call last)",
       "Cell \u001b[0;32mIn[206], line 1\u001b[0m\n\u001b[0;32m----> 1\u001b[0m json\u001b[38;5;241m.\u001b[39mdumps([typehandlerforuniqueobjects(\u001b[43mOut\u001b[49m\u001b[43m[\u001b[49m\u001b[38;5;241;43m205\u001b[39;49m\u001b[43m]\u001b[49m)])\n",
       "\u001b[0;31mKeyError\u001b[0m: 205"
      ]
     }
    ],
    "execution": {
     "iopub.execute_input": "2023-10-05T04:06:18.576317Z",
     "iopub.status.busy": "2023-10-05T04:06:18.576069Z",
     "iopub.status.idle": "2023-10-05T04:06:18.580935Z",
     "shell.execute_reply": "2023-10-05T04:06:18.580066Z"
    }
   },
   "outputs": [
    {
     "name": "stdout",
     "output_type": "stream",
     "text": [
      "Jonathan Matthias\n"
     ]
    }
   ],
   "source": [
    "names = ['Jonathan', 'David', 'George', 'Matthias']\n",
    "print(names[0], names[-1])"
   ]
  },
  {
   "cell_type": "markdown",
   "id": "5860bbe4",
   "metadata": {},
   "source": [
    "## Exercise 4"
   ]
  },
  {
   "cell_type": "markdown",
   "id": "cbf7fcc0",
   "metadata": {},
   "source": [
    "Generate a dictionary using dict comprehension where the keys are numbers between 1 and 10 (both included) and each corresponding value is the square of the key"
   ]
  },
  {
   "cell_type": "markdown",
   "id": "400269f4",
   "metadata": {},
   "source": [
    "### Answer:"
   ]
  },
  {
   "cell_type": "code",
   "execution_count": 207,
   "id": "facc7322",
   "metadata": {
    "error": [
     {
      "ename": "KeyError",
      "evalue": "207",
      "output_type": "error",
      "traceback": [
       "\u001b[0;31m---------------------------------------------------------------------------\u001b[0m",
       "\u001b[0;31mKeyError\u001b[0m                                  Traceback (most recent call last)",
       "Cell \u001b[0;32mIn[208], line 1\u001b[0m\n\u001b[0;32m----> 1\u001b[0m json\u001b[38;5;241m.\u001b[39mdumps([typehandlerforuniqueobjects(\u001b[43mOut\u001b[49m\u001b[43m[\u001b[49m\u001b[38;5;241;43m207\u001b[39;49m\u001b[43m]\u001b[49m)])\n",
       "\u001b[0;31mKeyError\u001b[0m: 207"
      ]
     }
    ],
    "execution": {
     "iopub.execute_input": "2023-10-05T04:06:18.609373Z",
     "iopub.status.busy": "2023-10-05T04:06:18.609133Z",
     "iopub.status.idle": "2023-10-05T04:06:18.614098Z",
     "shell.execute_reply": "2023-10-05T04:06:18.613232Z"
    }
   },
   "outputs": [
    {
     "name": "stdout",
     "output_type": "stream",
     "text": [
      "{1: 1, 2: 4, 3: 9, 4: 16, 5: 25, 6: 36, 7: 49, 8: 64, 9: 81, 10: 100}\n"
     ]
    }
   ],
   "source": [
    "my_dict = {key: key*key for key in range(1,11)}\n",
    "print(my_dict)"
   ]
  },
  {
   "cell_type": "markdown",
   "id": "c1e92f05",
   "metadata": {},
   "source": [
    "## Exercise 5\n",
    "\n",
    "Define a string equal to ```'OK'``` and add ```\"It's \"``` at the beginning (but check that the first string doesn't start with ```\"It's \"```).\n",
    "\n",
    "### Answer:"
   ]
  },
  {
   "cell_type": "code",
   "execution_count": 209,
   "id": "fe19acca",
   "metadata": {
    "error": [
     {
      "ename": "KeyError",
      "evalue": "209",
      "output_type": "error",
      "traceback": [
       "\u001b[0;31m---------------------------------------------------------------------------\u001b[0m",
       "\u001b[0;31mKeyError\u001b[0m                                  Traceback (most recent call last)",
       "Cell \u001b[0;32mIn[210], line 1\u001b[0m\n\u001b[0;32m----> 1\u001b[0m json\u001b[38;5;241m.\u001b[39mdumps([typehandlerforuniqueobjects(\u001b[43mOut\u001b[49m\u001b[43m[\u001b[49m\u001b[38;5;241;43m209\u001b[39;49m\u001b[43m]\u001b[49m)])\n",
       "\u001b[0;31mKeyError\u001b[0m: 209"
      ]
     }
    ],
    "execution": {
     "iopub.execute_input": "2023-10-05T04:06:18.641587Z",
     "iopub.status.busy": "2023-10-05T04:06:18.641346Z",
     "iopub.status.idle": "2023-10-05T04:06:18.646290Z",
     "shell.execute_reply": "2023-10-05T04:06:18.645435Z"
    }
   },
   "outputs": [
    {
     "name": "stdout",
     "output_type": "stream",
     "text": [
      "It's OK\n"
     ]
    }
   ],
   "source": [
    "string_2 = 'OK'\n",
    "if not string_2.startswith(\"It's \"):\n",
    "    string_2 = \"It's \" + string_2\n",
    "print(string_2)"
   ]
  },
  {
   "cell_type": "markdown",
   "id": "f3b3152a",
   "metadata": {},
   "source": [
    "## Exercise 6\n",
    "\n",
    "Create a string by concatenating all elements in a list and introducing a space between all elements.\n",
    "\n",
    "You could use the following list of strings: ```['My', 'name', 'is', 'Michele']```.\n",
    "\n",
    "### Answer:"
   ]
  },
  {
   "cell_type": "code",
   "execution_count": 211,
   "id": "1ab05c4c",
   "metadata": {
    "error": [
     {
      "ename": "KeyError",
      "evalue": "211",
      "output_type": "error",
      "traceback": [
       "\u001b[0;31m---------------------------------------------------------------------------\u001b[0m",
       "\u001b[0;31mKeyError\u001b[0m                                  Traceback (most recent call last)",
       "Cell \u001b[0;32mIn[212], line 1\u001b[0m\n\u001b[0;32m----> 1\u001b[0m json\u001b[38;5;241m.\u001b[39mdumps([typehandlerforuniqueobjects(\u001b[43mOut\u001b[49m\u001b[43m[\u001b[49m\u001b[38;5;241;43m211\u001b[39;49m\u001b[43m]\u001b[49m)])\n",
       "\u001b[0;31mKeyError\u001b[0m: 211"
      ]
     }
    ],
    "execution": {
     "iopub.execute_input": "2023-10-05T04:06:18.675735Z",
     "iopub.status.busy": "2023-10-05T04:06:18.675491Z",
     "iopub.status.idle": "2023-10-05T04:06:18.680425Z",
     "shell.execute_reply": "2023-10-05T04:06:18.679551Z"
    }
   },
   "outputs": [
    {
     "name": "stdout",
     "output_type": "stream",
     "text": [
      "My name is Michele\n"
     ]
    }
   ],
   "source": [
    "list_of_strings = ['My', 'name', 'is', 'Michele']\n",
    "final_string = ' '.join(list_of_strings)\n",
    "print(final_string)"
   ]
  },
  {
   "cell_type": "markdown",
   "id": "b083dcfc",
   "metadata": {},
   "source": [
    "## Exercise 7\n",
    "\n",
    "Create a variable named ```my_string``` equal to ```'This is a test'```. Check if ```my_string``` is empty or not, and print ```\"This is a test\" is not empty``` only if ```my_string``` is not empty.\n",
    "\n",
    "### Answer:"
   ]
  },
  {
   "cell_type": "code",
   "execution_count": 213,
   "id": "69855d1e",
   "metadata": {
    "error": [
     {
      "ename": "KeyError",
      "evalue": "213",
      "output_type": "error",
      "traceback": [
       "\u001b[0;31m---------------------------------------------------------------------------\u001b[0m",
       "\u001b[0;31mKeyError\u001b[0m                                  Traceback (most recent call last)",
       "Cell \u001b[0;32mIn[214], line 1\u001b[0m\n\u001b[0;32m----> 1\u001b[0m json\u001b[38;5;241m.\u001b[39mdumps([typehandlerforuniqueobjects(\u001b[43mOut\u001b[49m\u001b[43m[\u001b[49m\u001b[38;5;241;43m213\u001b[39;49m\u001b[43m]\u001b[49m)])\n",
       "\u001b[0;31mKeyError\u001b[0m: 213"
      ]
     }
    ],
    "execution": {
     "iopub.execute_input": "2023-10-05T04:06:18.709002Z",
     "iopub.status.busy": "2023-10-05T04:06:18.708760Z",
     "iopub.status.idle": "2023-10-05T04:06:18.713508Z",
     "shell.execute_reply": "2023-10-05T04:06:18.712650Z"
    }
   },
   "outputs": [
    {
     "name": "stdout",
     "output_type": "stream",
     "text": [
      "\"This is a test\" is not empty\n"
     ]
    }
   ],
   "source": [
    "my_string = 'This is a test'\n",
    "if my_string:\n",
    "    print(f'\"{my_string}\" is not empty')"
   ]
  }
 ],
 "metadata": {
  "kernelspec": {
   "display_name": "Python 3 (ipykernel)",
   "language": "python",
   "name": "python3"
  },
  "language_info": {
   "codemirror_mode": {
    "name": "ipython",
    "version": 3
   },
   "file_extension": ".py",
   "mimetype": "text/x-python",
   "name": "python",
   "nbconvert_exporter": "python",
   "pygments_lexer": "ipython3",
   "version": "3.8.17"
  }
 },
 "nbformat": 4,
 "nbformat_minor": 5
}
