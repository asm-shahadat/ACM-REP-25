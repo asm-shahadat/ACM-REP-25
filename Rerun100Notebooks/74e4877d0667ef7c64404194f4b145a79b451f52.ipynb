{
 "cells": [
  {
   "cell_type": "markdown",
   "id": "bbba9506",
   "metadata": {},
   "source": [
    "|Y \\ X|0|1|2|3|Pyi|\n",
    "|:-:|:-:|:-:|:-:|:-:|:-:|\n",
    "|0|0|0|0|C0|Py0|\n",
    "|1|0|0|C1|0|Py1|\n",
    "|2|0|C2|0|0|Py2|\n",
    "|3|C3|0|0|0|Py3|\n",
    "|Pxj|Px0|Px1|Px2|Px3|1|"
   ]
  },
  {
   "cell_type": "code",
   "execution_count": 2,
   "id": "0e5ea049",
   "metadata": {
    "execution": {
     "iopub.execute_input": "2023-10-05T08:46:36.173737Z",
     "iopub.status.busy": "2023-10-05T08:46:36.173442Z",
     "iopub.status.idle": "2023-10-05T08:46:36.178084Z",
     "shell.execute_reply": "2023-10-05T08:46:36.177077Z"
    }
   },
   "outputs": [],
   "source": [
    "A = {f\"Probability of standart detail\"}\n",
    "A = 0.6\n",
    "B = {f\"Probability of broken detail\"}\n",
    "B = 1 - A\n",
    "n = 3    # number of details inspected"
   ]
  },
  {
   "cell_type": "code",
   "execution_count": 3,
   "id": "9dbc9378",
   "metadata": {
    "error": [
     {
      "ename": "KeyError",
      "evalue": "3",
      "output_type": "error",
      "traceback": [
       "\u001b[0;31m---------------------------------------------------------------------------\u001b[0m",
       "\u001b[0;31mKeyError\u001b[0m                                  Traceback (most recent call last)",
       "Cell \u001b[0;32mIn[4], line 1\u001b[0m\n\u001b[0;32m----> 1\u001b[0m json\u001b[38;5;241m.\u001b[39mdumps([typehandlerforuniqueobjects(\u001b[43mOut\u001b[49m\u001b[43m[\u001b[49m\u001b[38;5;241;43m3\u001b[39;49m\u001b[43m]\u001b[49m)])\n",
       "\u001b[0;31mKeyError\u001b[0m: 3"
      ]
     }
    ],
    "execution": {
     "iopub.execute_input": "2023-10-05T08:46:36.181798Z",
     "iopub.status.busy": "2023-10-05T08:46:36.181514Z",
     "iopub.status.idle": "2023-10-05T08:46:36.187156Z",
     "shell.execute_reply": "2023-10-05T08:46:36.186213Z"
    }
   },
   "outputs": [
    {
     "name": "stdout",
     "output_type": "stream",
     "text": [
      "0.216 0.432 0.288 0.064\n"
     ]
    }
   ],
   "source": [
    "# C = B**Y * A**X * c\n",
    "# c (m, n) = n! / (m! * (n - m)!)\n",
    "C0 = B**0 * A**3 * 1    # (3! / (0! * 3!)) = 1\n",
    "C1 = B**1 * A**2 * 3    # (3! / (1! * 2!)) = 3\n",
    "C2 = B**2 * A**1 * 3    # (3! / (2! * 1!)) = 3\n",
    "C3 = B**3 * A**0 * 1    # (3! / (3! * 0!))  =1\n",
    "print(round(C0, 3), round(C1, 3), round(C2, 3), round(C3, 3))"
   ]
  },
  {
   "cell_type": "markdown",
   "id": "d6b09e42",
   "metadata": {},
   "source": [
    "|Y \\ X|0|1|2|3|Pyi|\n",
    "|:-:|:-:|:-:|:-:|:-:|:-:|\n",
    "|0|0|0|0|0.216|0.216|\n",
    "|1|0|0|0.432|0|0.432|\n",
    "|2|0|0.288|0|0|0.288|\n",
    "|3|0.064|0|0|0|0.064|\n",
    "|Pxj|0.064|0.288|0.432|0.216|1|"
   ]
  },
  {
   "cell_type": "markdown",
   "id": "8ee2c287",
   "metadata": {},
   "source": [
    "|X|0|1|2|3|\n",
    "|---|---|---|---|---|\n",
    "|P|0.064|0.288|0.432|0.216|\n",
    "\n",
    "|Y|0|1|2|3|\n",
    "|---|---|---|---|---|\n",
    "|P|0.216|0.432|0.288|0.064|"
   ]
  },
  {
   "cell_type": "code",
   "execution_count": 5,
   "id": "594c9e3c",
   "metadata": {
    "error": [
     {
      "ename": "KeyError",
      "evalue": "5",
      "output_type": "error",
      "traceback": [
       "\u001b[0;31m---------------------------------------------------------------------------\u001b[0m",
       "\u001b[0;31mKeyError\u001b[0m                                  Traceback (most recent call last)",
       "Cell \u001b[0;32mIn[6], line 1\u001b[0m\n\u001b[0;32m----> 1\u001b[0m json\u001b[38;5;241m.\u001b[39mdumps([typehandlerforuniqueobjects(\u001b[43mOut\u001b[49m\u001b[43m[\u001b[49m\u001b[38;5;241;43m5\u001b[39;49m\u001b[43m]\u001b[49m)])\n",
       "\u001b[0;31mKeyError\u001b[0m: 5"
      ]
     }
    ],
    "execution": {
     "iopub.execute_input": "2023-10-05T08:46:36.484514Z",
     "iopub.status.busy": "2023-10-05T08:46:36.484211Z",
     "iopub.status.idle": "2023-10-05T08:46:36.490239Z",
     "shell.execute_reply": "2023-10-05T08:46:36.489200Z"
    },
    "scrolled": false
   },
   "outputs": [
    {
     "name": "stdout",
     "output_type": "stream",
     "text": [
      "M_X = 1.8\n"
     ]
    }
   ],
   "source": [
    "X = [0, 1, 2, 3]\n",
    "P_X = [C3, C2, C1, C0]\n",
    "x = []\n",
    "for i1, i2 in zip(X, P_X):\n",
    "    x.append(i1*i2)\n",
    "M_X = sum(x)\n",
    "print(f\"M_X = {round(M_X, 3)}\")"
   ]
  },
  {
   "cell_type": "code",
   "execution_count": 7,
   "id": "b812e648",
   "metadata": {
    "error": [
     {
      "ename": "KeyError",
      "evalue": "7",
      "output_type": "error",
      "traceback": [
       "\u001b[0;31m---------------------------------------------------------------------------\u001b[0m",
       "\u001b[0;31mKeyError\u001b[0m                                  Traceback (most recent call last)",
       "Cell \u001b[0;32mIn[8], line 1\u001b[0m\n\u001b[0;32m----> 1\u001b[0m json\u001b[38;5;241m.\u001b[39mdumps([typehandlerforuniqueobjects(\u001b[43mOut\u001b[49m\u001b[43m[\u001b[49m\u001b[38;5;241;43m7\u001b[39;49m\u001b[43m]\u001b[49m)])\n",
       "\u001b[0;31mKeyError\u001b[0m: 7"
      ]
     }
    ],
    "execution": {
     "iopub.execute_input": "2023-10-05T08:46:36.519676Z",
     "iopub.status.busy": "2023-10-05T08:46:36.519374Z",
     "iopub.status.idle": "2023-10-05T08:46:36.525088Z",
     "shell.execute_reply": "2023-10-05T08:46:36.524167Z"
    }
   },
   "outputs": [
    {
     "name": "stdout",
     "output_type": "stream",
     "text": [
      "M_Y = 1.2\n"
     ]
    }
   ],
   "source": [
    "Y = [0, 1, 2, 3]\n",
    "P_Y = [C0, C1, C2, C3]\n",
    "y = []\n",
    "for i1, i2 in zip(Y, P_Y):\n",
    "    y.append(i1*i2)\n",
    "M_Y = sum(y)\n",
    "print(f\"M_Y = {round(M_Y, 3)}\")"
   ]
  },
  {
   "cell_type": "code",
   "execution_count": 9,
   "id": "949614dd",
   "metadata": {
    "error": [
     {
      "ename": "KeyError",
      "evalue": "9",
      "output_type": "error",
      "traceback": [
       "\u001b[0;31m---------------------------------------------------------------------------\u001b[0m",
       "\u001b[0;31mKeyError\u001b[0m                                  Traceback (most recent call last)",
       "Cell \u001b[0;32mIn[10], line 1\u001b[0m\n\u001b[0;32m----> 1\u001b[0m json\u001b[38;5;241m.\u001b[39mdumps([typehandlerforuniqueobjects(\u001b[43mOut\u001b[49m\u001b[43m[\u001b[49m\u001b[38;5;241;43m9\u001b[39;49m\u001b[43m]\u001b[49m)])\n",
       "\u001b[0;31mKeyError\u001b[0m: 9"
      ]
     }
    ],
    "execution": {
     "iopub.execute_input": "2023-10-05T08:46:36.552780Z",
     "iopub.status.busy": "2023-10-05T08:46:36.552493Z",
     "iopub.status.idle": "2023-10-05T08:46:36.558117Z",
     "shell.execute_reply": "2023-10-05T08:46:36.557183Z"
    }
   },
   "outputs": [
    {
     "name": "stdout",
     "output_type": "stream",
     "text": [
      "D_X = 0.72\n"
     ]
    }
   ],
   "source": [
    "x_2 = []\n",
    "for i1, i2 in zip(X, P_X):\n",
    "    x_2.append((i1**2)*i2)\n",
    "M_X_2 = sum(x_2)\n",
    "# D_X = M * (X - M * X)**2\n",
    "D_X = M_X_2 - M_X**2\n",
    "print(f\"D_X = {round(D_X, 3)}\")"
   ]
  },
  {
   "cell_type": "code",
   "execution_count": 11,
   "id": "6659d498",
   "metadata": {
    "error": [
     {
      "ename": "KeyError",
      "evalue": "11",
      "output_type": "error",
      "traceback": [
       "\u001b[0;31m---------------------------------------------------------------------------\u001b[0m",
       "\u001b[0;31mKeyError\u001b[0m                                  Traceback (most recent call last)",
       "Cell \u001b[0;32mIn[12], line 1\u001b[0m\n\u001b[0;32m----> 1\u001b[0m json\u001b[38;5;241m.\u001b[39mdumps([typehandlerforuniqueobjects(\u001b[43mOut\u001b[49m\u001b[43m[\u001b[49m\u001b[38;5;241;43m11\u001b[39;49m\u001b[43m]\u001b[49m)])\n",
       "\u001b[0;31mKeyError\u001b[0m: 11"
      ]
     }
    ],
    "execution": {
     "iopub.execute_input": "2023-10-05T08:46:36.585436Z",
     "iopub.status.busy": "2023-10-05T08:46:36.585148Z",
     "iopub.status.idle": "2023-10-05T08:46:36.590746Z",
     "shell.execute_reply": "2023-10-05T08:46:36.589797Z"
    }
   },
   "outputs": [
    {
     "name": "stdout",
     "output_type": "stream",
     "text": [
      "D_Y = 0.72\n"
     ]
    }
   ],
   "source": [
    "y_2 = []\n",
    "for i1, i2 in zip(Y, P_Y):\n",
    "    y_2.append((i1**2)*i2)\n",
    "M_Y_2 = sum(y_2)\n",
    "# D_Y = M * (Y - M * Y)**2\n",
    "D_Y = M_Y_2 - M_Y**2\n",
    "print(f\"D_Y = {round(D_Y, 3)}\")"
   ]
  },
  {
   "cell_type": "code",
   "execution_count": 13,
   "id": "f749fc01",
   "metadata": {
    "error": [
     {
      "ename": "KeyError",
      "evalue": "13",
      "output_type": "error",
      "traceback": [
       "\u001b[0;31m---------------------------------------------------------------------------\u001b[0m",
       "\u001b[0;31mKeyError\u001b[0m                                  Traceback (most recent call last)",
       "Cell \u001b[0;32mIn[14], line 1\u001b[0m\n\u001b[0;32m----> 1\u001b[0m json\u001b[38;5;241m.\u001b[39mdumps([typehandlerforuniqueobjects(\u001b[43mOut\u001b[49m\u001b[43m[\u001b[49m\u001b[38;5;241;43m13\u001b[39;49m\u001b[43m]\u001b[49m)])\n",
       "\u001b[0;31mKeyError\u001b[0m: 13"
      ]
     }
    ],
    "execution": {
     "iopub.execute_input": "2023-10-05T08:46:36.617979Z",
     "iopub.status.busy": "2023-10-05T08:46:36.617691Z",
     "iopub.status.idle": "2023-10-05T08:46:36.623037Z",
     "shell.execute_reply": "2023-10-05T08:46:36.621961Z"
    }
   },
   "outputs": [
    {
     "name": "stdout",
     "output_type": "stream",
     "text": [
      "d_X = 0.849\n",
      "d_Y = 0.849\n"
     ]
    }
   ],
   "source": [
    "# dispersion\n",
    "d_X = round(D_X**(1/2), 3)\n",
    "d_Y = round(D_Y**(1/2), 3)\n",
    "print(f\"d_X = {d_X}\")\n",
    "print(f\"d_Y = {d_Y}\")"
   ]
  },
  {
   "cell_type": "code",
   "execution_count": 15,
   "id": "dc063397",
   "metadata": {
    "error": [
     {
      "ename": "KeyError",
      "evalue": "15",
      "output_type": "error",
      "traceback": [
       "\u001b[0;31m---------------------------------------------------------------------------\u001b[0m",
       "\u001b[0;31mKeyError\u001b[0m                                  Traceback (most recent call last)",
       "Cell \u001b[0;32mIn[16], line 1\u001b[0m\n\u001b[0;32m----> 1\u001b[0m json\u001b[38;5;241m.\u001b[39mdumps([typehandlerforuniqueobjects(\u001b[43mOut\u001b[49m\u001b[43m[\u001b[49m\u001b[38;5;241;43m15\u001b[39;49m\u001b[43m]\u001b[49m)])\n",
       "\u001b[0;31mKeyError\u001b[0m: 15"
      ]
     }
    ],
    "execution": {
     "iopub.execute_input": "2023-10-05T08:46:36.650239Z",
     "iopub.status.busy": "2023-10-05T08:46:36.649943Z",
     "iopub.status.idle": "2023-10-05T08:46:36.655795Z",
     "shell.execute_reply": "2023-10-05T08:46:36.654858Z"
    }
   },
   "outputs": [
    {
     "name": "stdout",
     "output_type": "stream",
     "text": [
      "M_XY = 1.44\n",
      "cov_XY = -0.72\n"
     ]
    }
   ],
   "source": [
    "# covariance\n",
    "xy = []\n",
    "counter = 3\n",
    "for i1, i2 in zip(X, P_X):\n",
    "    xy.append(i1*i2*counter)\n",
    "    counter -=1\n",
    "M_XY = sum(xy)\n",
    "cov_XY = M_XY - M_X * M_Y\n",
    "print(f\"M_XY = {M_XY}\")\n",
    "print(f\"cov_XY = {round(cov_XY, 3)}\")"
   ]
  },
  {
   "cell_type": "code",
   "execution_count": 17,
   "id": "5ff46304",
   "metadata": {
    "error": [
     {
      "ename": "KeyError",
      "evalue": "17",
      "output_type": "error",
      "traceback": [
       "\u001b[0;31m---------------------------------------------------------------------------\u001b[0m",
       "\u001b[0;31mKeyError\u001b[0m                                  Traceback (most recent call last)",
       "Cell \u001b[0;32mIn[18], line 1\u001b[0m\n\u001b[0;32m----> 1\u001b[0m json\u001b[38;5;241m.\u001b[39mdumps([typehandlerforuniqueobjects(\u001b[43mOut\u001b[49m\u001b[43m[\u001b[49m\u001b[38;5;241;43m17\u001b[39;49m\u001b[43m]\u001b[49m)])\n",
       "\u001b[0;31mKeyError\u001b[0m: 17"
      ]
     }
    ],
    "execution": {
     "iopub.execute_input": "2023-10-05T08:46:36.682744Z",
     "iopub.status.busy": "2023-10-05T08:46:36.682454Z",
     "iopub.status.idle": "2023-10-05T08:46:36.687133Z",
     "shell.execute_reply": "2023-10-05T08:46:36.686213Z"
    }
   },
   "outputs": [
    {
     "name": "stdout",
     "output_type": "stream",
     "text": [
      "r_XY = -0.999\n"
     ]
    }
   ],
   "source": [
    "# Correlation coefficient\n",
    "r_XY = cov_XY / (d_X * d_Y)\n",
    "print(f\"r_XY = {round(r_XY, 3)}\")"
   ]
  }
 ],
 "metadata": {
  "kernelspec": {
   "display_name": "Python 3 (ipykernel)",
   "language": "python",
   "name": "python3"
  },
  "language_info": {
   "codemirror_mode": {
    "name": "ipython",
    "version": 3
   },
   "file_extension": ".py",
   "mimetype": "text/x-python",
   "name": "python",
   "nbconvert_exporter": "python",
   "pygments_lexer": "ipython3",
   "version": "3.10.12"
  }
 },
 "nbformat": 4,
 "nbformat_minor": 5
}
