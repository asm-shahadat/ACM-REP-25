{
 "cells": [
  {
   "cell_type": "markdown",
   "metadata": {},
   "source": [
    "# Loops"
   ]
  },
  {
   "cell_type": "markdown",
   "metadata": {},
   "source": [
    "## Learning Objectives\n",
    "- Understand the concept of iterations (definite and indefinite).\n",
    "- Learn how to use while loops.\n",
    "- Learn how to use a basic for loop.\n",
    "- Learn how to use a for loop with the range() function.\n",
    "- Learn how to use range(len(iterable)) to iterate over an index.\n",
    "- Learn how to use tuple unpacking in iterables.\n",
    "- Learn how to iterate over dictionaries.\n",
    "- Learn how to use conditional statements within for loops.\n",
    "- Learn how to use the pass, break and continue keywords.\n",
    "- Learn how to create and iterate through zip and enumerate objects.\n",
    "- Learn how to write list comprehensions.\n",
    "- Learn how to use conditionals within list comprehensions."
   ]
  },
  {
   "cell_type": "markdown",
   "metadata": {},
   "source": [
    "## Iteration\n",
    "\n",
    "- A data structure is considered iterable when it is capable of returning its elements one at a time, e.g. lists, tuples, strings and dictionaries (d.keys() returns a list).\n",
    "- An iteration refers to the performance of the same operation repeatedly (often over each element of an iterable), e.g. multiplying each element in a list by 2 or retrieving index 0 of each item in a list of strings."
   ]
  },
  {
   "cell_type": "markdown",
   "metadata": {},
   "source": [
    "## While Loops\n",
    "\n",
    "<p align=center><img src=images/while-loop.jpg width=500></p>\n",
    "\n",
    "- The while loop performs the same operation(s) __while__ some boolean conditions are fulfilled.\n",
    "- This is called indefinite iteration, where the number of iterations is unknown.\n",
    "- While loops will not be explored in great detail here, as they are not highly useful in data science."
   ]
  },
  {
   "cell_type": "markdown",
   "metadata": {},
   "source": [
    "### Basic syntax"
   ]
  },
  {
   "cell_type": "code",
   "execution_count": 2,
   "metadata": {
    "execution": {
     "iopub.execute_input": "2023-10-05T09:25:28.123913Z",
     "iopub.status.busy": "2023-10-05T09:25:28.123622Z",
     "iopub.status.idle": "2023-10-05T09:25:28.128350Z",
     "shell.execute_reply": "2023-10-05T09:25:28.127205Z"
    }
   },
   "outputs": [],
   "source": [
    "# while some_condition:\n",
    "#     do_something\n",
    "# else:\n",
    "#     do_something_else"
   ]
  },
  {
   "cell_type": "markdown",
   "metadata": {},
   "source": [
    "The syntax comprises the following parts:\n",
    "- The while keyword: This is the key to the statement; it indicates a while loop and refers to some_condition.\n",
    "- The condition: The while keyword determines whether the condition is True and executes the dependent block of code if it is.\n",
    "- do_something: This is the block of code to be executed if the condition is True.\n",
    "- else statement: This is the block of code to be executed if the condition is False.\n",
    "<br><br>\n",
    "\n",
    "Things to note.\n",
    "- __While__ the condition is __True__, the dependent block of code will be executed, and the program will __loop__ to the while statement, revalidate the condition, and execute again if True.\n",
    "- This continues __indefinitely__ until the condition is false, hence the 'indefinite iteration'.\n",
    "- A common mistake is to create an __infinite loop__, where the condition __remains False__, and the code continues to execute, thereby expending the memory resources until the computer crashes.\n",
    "- Therefore, it is highly recommended to include a way of adjusting the condition inside the loop, either in the do_something statement or using the break keyword (see below)."
   ]
  },
  {
   "cell_type": "markdown",
   "metadata": {},
   "source": [
    "### Example"
   ]
  },
  {
   "cell_type": "code",
   "execution_count": 3,
   "metadata": {
    "execution": {
     "iopub.execute_input": "2023-10-05T09:25:28.132287Z",
     "iopub.status.busy": "2023-10-05T09:25:28.131980Z",
     "iopub.status.idle": "2023-10-05T09:25:28.138411Z",
     "shell.execute_reply": "2023-10-05T09:25:28.137211Z"
    }
   },
   "outputs": [
    {
     "name": "stdout",
     "output_type": "stream",
     "text": [
      "The current value of x is 0\n",
      "The current value of x is 1\n",
      "The current value of x is 2\n",
      "The current value of x is 3\n",
      "The current value of x is 4\n",
      "x not less than 5\n"
     ]
    }
   ],
   "source": [
    "x = 0\n",
    "\n",
    "while x < 5:\n",
    "    print(f\"The current value of x is {x}\")\n",
    "    x += 1\n",
    "else:\n",
    "    print(\"x not less than 5\")"
   ]
  },
  {
   "cell_type": "code",
   "execution_count": 4,
   "metadata": {
    "execution": {
     "iopub.execute_input": "2023-10-05T09:25:28.191891Z",
     "iopub.status.busy": "2023-10-05T09:25:28.191446Z",
     "iopub.status.idle": "2023-10-05T09:25:28.198119Z",
     "shell.execute_reply": "2023-10-05T09:25:28.196983Z"
    }
   },
   "outputs": [
    {
     "name": "stdout",
     "output_type": "stream",
     "text": [
      "The current value of x is 0\n",
      "The current value of x is 1\n",
      "The current value of x is 2\n",
      "The current value of x is 3\n",
      "The current value of x is 4\n",
      "x not less than 5\n"
     ]
    }
   ],
   "source": [
    "x = 0\n",
    "\n",
    "while x < 5:\n",
    "    print(f\"The current value of x is {x}\")\n",
    "    x += 1\n",
    "else:\n",
    "    print(\"x not less than 5\")"
   ]
  },
  {
   "cell_type": "markdown",
   "metadata": {},
   "source": [
    "### The break keyword"
   ]
  },
  {
   "cell_type": "markdown",
   "metadata": {},
   "source": [
    "- The break keyword is used to exit a loop. Conventionally, it is used with an if statement to exit the loop if a condition is fulfilled.\n",
    "- If the break keyword is applied, the code will not loop. It will halt its execution there and move on to the next statement.\n",
    "- This can be observed in the below code where 2 is not printed. The print statement is indented, along with the latter part of the loop."
   ]
  },
  {
   "cell_type": "code",
   "execution_count": 5,
   "metadata": {
    "execution": {
     "iopub.execute_input": "2023-10-05T09:25:28.201807Z",
     "iopub.status.busy": "2023-10-05T09:25:28.201471Z",
     "iopub.status.idle": "2023-10-05T09:25:28.207706Z",
     "shell.execute_reply": "2023-10-05T09:25:28.206482Z"
    }
   },
   "outputs": [
    {
     "name": "stdout",
     "output_type": "stream",
     "text": [
      "0\n",
      "1\n"
     ]
    }
   ],
   "source": [
    "x = 0\n",
    "while x < 5:\n",
    "    if x == 2:\n",
    "        break\n",
    "    print(x)\n",
    "    x += 1"
   ]
  },
  {
   "cell_type": "markdown",
   "metadata": {},
   "source": [
    "## For Loops"
   ]
  },
  {
   "cell_type": "markdown",
   "metadata": {},
   "source": [
    "- For loops perform an operation on each element in an iterable (each character in a string or each item in a list) until no element is left in the iterable.\n",
    "- This form of iteration is called definite iteration, where the number of iterations is known.\n",
    "- Further, this is an example of Don't Repeat Yourself (DRY) coding, since a single For loop performs numerous operations in one pass.\n",
    "\n",
    "As opposed to the `while` loop, the `for` loop is limited by the number of items in the iterable. <br><br>\n",
    "\n",
    "<p align=center><img src=images/for_while.jpeg></p>"
   ]
  },
  {
   "cell_type": "markdown",
   "metadata": {},
   "source": [
    "### Basic syntax"
   ]
  },
  {
   "cell_type": "code",
   "execution_count": 6,
   "metadata": {
    "execution": {
     "iopub.execute_input": "2023-10-05T09:25:28.211461Z",
     "iopub.status.busy": "2023-10-05T09:25:28.211127Z",
     "iopub.status.idle": "2023-10-05T09:25:28.215702Z",
     "shell.execute_reply": "2023-10-05T09:25:28.214667Z"
    }
   },
   "outputs": [],
   "source": [
    "# for i in iterable:\n",
    "#     do_something\n",
    "#     do_something_to_i"
   ]
  },
  {
   "cell_type": "markdown",
   "metadata": {},
   "source": [
    "The syntax can be broken down, as follows:\n",
    "- __i__ is the counter variable; it can be anything provided that it is consistent. For readability, the best practice is to use naming words, such as __city in cities__, __item in items,__ etc, where __cities__ or __items__ is the __name__ of the __iterable__.\n",
    "\n",
    "- __i__ refers to each element in the iterable in a given iteration; thus, we can employ __i__ in the do_something block.\n",
    "\n",
    "- __in__ is the keyword, __in__, referencing the following iterable.\n",
    "\n",
    "- __iterable__ is the data structure over which the operation is performed, e.g. the list name.\n",
    "\n",
    "- __colon__ indicates control flow and signals an indentation, completing the set phrase.\n",
    "\n",
    "- __do_something__ is the code block to be executed on each element; __i__ is often used in this code block, although other alphabets are permissible."
   ]
  },
  {
   "cell_type": "markdown",
   "metadata": {},
   "source": [
    "For example,"
   ]
  },
  {
   "cell_type": "code",
   "execution_count": 7,
   "metadata": {
    "error": [
     {
      "ename": "KeyError",
      "evalue": "7",
      "output_type": "error",
      "traceback": [
       "\u001b[0;31m---------------------------------------------------------------------------\u001b[0m",
       "\u001b[0;31mKeyError\u001b[0m                                  Traceback (most recent call last)",
       "Cell \u001b[0;32mIn[8], line 1\u001b[0m\n\u001b[0;32m----> 1\u001b[0m json\u001b[38;5;241m.\u001b[39mdumps([typehandlerforuniqueobjects(\u001b[43mOut\u001b[49m\u001b[43m[\u001b[49m\u001b[38;5;241;43m7\u001b[39;49m\u001b[43m]\u001b[49m)])\n",
       "\u001b[0;31mKeyError\u001b[0m: 7"
      ]
     }
    ],
    "execution": {
     "iopub.execute_input": "2023-10-05T09:25:28.219291Z",
     "iopub.status.busy": "2023-10-05T09:25:28.218964Z",
     "iopub.status.idle": "2023-10-05T09:25:28.225016Z",
     "shell.execute_reply": "2023-10-05T09:25:28.223923Z"
    }
   },
   "outputs": [
    {
     "name": "stdout",
     "output_type": "stream",
     "text": [
      "Hello, I have a: hat\n",
      "Hello, I have a: boots\n",
      "Hello, I have a: jacket\n",
      "Hello, I have a: gloves\n"
     ]
    }
   ],
   "source": [
    "items = [\"hat\", \"boots\", \"jacket\", \"gloves\"]\n",
    "\n",
    "for item in items:\n",
    "    print(f'Hello, I have a: {item}')"
   ]
  },
  {
   "cell_type": "markdown",
   "metadata": {},
   "source": [
    "### The range() function"
   ]
  },
  {
   "cell_type": "code",
   "execution_count": 9,
   "metadata": {
    "execution": {
     "iopub.execute_input": "2023-10-05T09:25:28.546394Z",
     "iopub.status.busy": "2023-10-05T09:25:28.546080Z",
     "iopub.status.idle": "2023-10-05T09:25:28.550849Z",
     "shell.execute_reply": "2023-10-05T09:25:28.549719Z"
    }
   },
   "outputs": [],
   "source": [
    "# for i in range(start,stop,step):\n",
    "#     do_something\n",
    "#     do_something_to_i"
   ]
  },
  {
   "cell_type": "code",
   "execution_count": 10,
   "metadata": {
    "execution": {
     "iopub.execute_input": "2023-10-05T09:25:28.554793Z",
     "iopub.status.busy": "2023-10-05T09:25:28.554481Z",
     "iopub.status.idle": "2023-10-05T09:25:28.565827Z",
     "shell.execute_reply": "2023-10-05T09:25:28.564848Z"
    },
    "type_information": "[{\"type\": \"<class 'list'>\", \"name\": \"list\", \"module\": \"builtins\", \"size\": 96, \"data\": [{\"type\": \"<class 'int'>\", \"name\": \"int\", \"module\": \"builtins\", \"size\": 24}, {\"type\": \"<class 'int'>\", \"name\": \"int\", \"module\": \"builtins\", \"size\": 28}, {\"type\": \"<class 'int'>\", \"name\": \"int\", \"module\": \"builtins\", \"size\": 28}, {\"type\": \"<class 'int'>\", \"name\": \"int\", \"module\": \"builtins\", \"size\": 28}, {\"type\": \"<class 'int'>\", \"name\": \"int\", \"module\": \"builtins\", \"size\": 28}]}]"
   },
   "outputs": [
    {
     "data": {
      "text/plain": [
       "[0, 1, 2, 3, 4]"
      ]
     },
     "execution_count": 10,
     "metadata": {},
     "output_type": "execute_result"
    }
   ],
   "source": [
    "list((range(5)))"
   ]
  },
  {
   "cell_type": "code",
   "execution_count": 12,
   "metadata": {
    "execution": {
     "iopub.execute_input": "2023-10-05T09:25:28.579787Z",
     "iopub.status.busy": "2023-10-05T09:25:28.579497Z",
     "iopub.status.idle": "2023-10-05T09:25:28.586146Z",
     "shell.execute_reply": "2023-10-05T09:25:28.585051Z"
    },
    "type_information": "[{\"type\": \"<class 'range'>\", \"name\": \"range\", \"module\": \"builtins\", \"size\": 48}]"
   },
   "outputs": [
    {
     "data": {
      "text/plain": [
       "range(0, 10)"
      ]
     },
     "execution_count": 12,
     "metadata": {},
     "output_type": "execute_result"
    }
   ],
   "source": [
    "range(0, 10)"
   ]
  },
  {
   "cell_type": "code",
   "execution_count": 14,
   "metadata": {
    "error": [
     {
      "ename": "KeyError",
      "evalue": "14",
      "output_type": "error",
      "traceback": [
       "\u001b[0;31m---------------------------------------------------------------------------\u001b[0m",
       "\u001b[0;31mKeyError\u001b[0m                                  Traceback (most recent call last)",
       "Cell \u001b[0;32mIn[15], line 1\u001b[0m\n\u001b[0;32m----> 1\u001b[0m json\u001b[38;5;241m.\u001b[39mdumps([typehandlerforuniqueobjects(\u001b[43mOut\u001b[49m\u001b[43m[\u001b[49m\u001b[38;5;241;43m14\u001b[39;49m\u001b[43m]\u001b[49m)])\n",
       "\u001b[0;31mKeyError\u001b[0m: 14"
      ]
     }
    ],
    "execution": {
     "iopub.execute_input": "2023-10-05T09:25:28.600624Z",
     "iopub.status.busy": "2023-10-05T09:25:28.600332Z",
     "iopub.status.idle": "2023-10-05T09:25:28.606635Z",
     "shell.execute_reply": "2023-10-05T09:25:28.605253Z"
    }
   },
   "outputs": [
    {
     "name": "stdout",
     "output_type": "stream",
     "text": [
      "[0, 1, 2, 3, 4]\n",
      "[5, 6, 7, 8, 9, 10, 11, 12, 13, 14, 15, 16, 17, 18, 19]\n",
      "[5, 7, 9, 11, 13, 15, 17, 19]\n"
     ]
    }
   ],
   "source": [
    "print(list(range(5)))\n",
    "print(list(range(5, 20)))\n",
    "print(list(range(5, 20, 2)))"
   ]
  },
  {
   "cell_type": "markdown",
   "metadata": {},
   "source": [
    "- Here, an operation using the range() function is performed, which applies to all the numbers in the given range.\n",
    "\n",
    "- range() is a generator that returns an iterable range object (not a list).\n",
    "\n",
    "- The list(range()) function is employed to generate a list.\n",
    "\n",
    "- The range() function accepts three arguments: start, stop and step.\n",
    "\n",
    "- If __one argument__ is specified, e.g. range(3), the range defaults to start = 0 and step = 1 and considers the argument as the ending number+1. Therefore, range(3) contains 0, 1 and 2.\n",
    "\n",
    "- If __two arguments__ are specified, e.g. range(5,20), the first is the start number, and the second is stop number+1.\n",
    "\n",
    "- If __three arguments__ are specified, the third is considered the step(increment), e.g. range(5,10,2) contains 5,7 and 9."
   ]
  },
  {
   "cell_type": "markdown",
   "metadata": {},
   "source": [
    "For example,"
   ]
  },
  {
   "cell_type": "code",
   "execution_count": 16,
   "metadata": {
    "execution": {
     "iopub.execute_input": "2023-10-05T09:25:28.642411Z",
     "iopub.status.busy": "2023-10-05T09:25:28.642119Z",
     "iopub.status.idle": "2023-10-05T09:25:28.648971Z",
     "shell.execute_reply": "2023-10-05T09:25:28.648020Z"
    },
    "type_information": "[{\"type\": \"<class 'int'>\", \"name\": \"int\", \"module\": \"builtins\", \"size\": 28}]"
   },
   "outputs": [
    {
     "data": {
      "text/plain": [
       "6"
      ]
     },
     "execution_count": 16,
     "metadata": {},
     "output_type": "execute_result"
    }
   ],
   "source": [
    "ls = [1, 5, 6, 7, 8, 9]\n",
    "ls[2]"
   ]
  },
  {
   "cell_type": "code",
   "execution_count": 18,
   "metadata": {
    "error": [
     {
      "ename": "KeyError",
      "evalue": "18",
      "output_type": "error",
      "traceback": [
       "\u001b[0;31m---------------------------------------------------------------------------\u001b[0m",
       "\u001b[0;31mKeyError\u001b[0m                                  Traceback (most recent call last)",
       "Cell \u001b[0;32mIn[19], line 1\u001b[0m\n\u001b[0;32m----> 1\u001b[0m json\u001b[38;5;241m.\u001b[39mdumps([typehandlerforuniqueobjects(\u001b[43mOut\u001b[49m\u001b[43m[\u001b[49m\u001b[38;5;241;43m18\u001b[39;49m\u001b[43m]\u001b[49m)])\n",
       "\u001b[0;31mKeyError\u001b[0m: 18"
      ]
     }
    ],
    "execution": {
     "iopub.execute_input": "2023-10-05T09:25:28.663248Z",
     "iopub.status.busy": "2023-10-05T09:25:28.662908Z",
     "iopub.status.idle": "2023-10-05T09:25:28.668921Z",
     "shell.execute_reply": "2023-10-05T09:25:28.667757Z"
    }
   },
   "outputs": [
    {
     "name": "stdout",
     "output_type": "stream",
     "text": [
      "0\n",
      "1\n",
      "2\n",
      "3\n",
      "4\n",
      "5\n"
     ]
    }
   ],
   "source": [
    "for i in range(len(ls)):\n",
    "    print(i)"
   ]
  },
  {
   "cell_type": "code",
   "execution_count": 20,
   "metadata": {
    "execution": {
     "iopub.execute_input": "2023-10-05T09:25:28.703076Z",
     "iopub.status.busy": "2023-10-05T09:25:28.702786Z",
     "iopub.status.idle": "2023-10-05T09:25:28.709576Z",
     "shell.execute_reply": "2023-10-05T09:25:28.708482Z"
    },
    "type_information": "[{\"type\": \"<class 'range'>\", \"name\": \"range\", \"module\": \"builtins\", \"size\": 48}]"
   },
   "outputs": [
    {
     "data": {
      "text/plain": [
       "range(0, 6)"
      ]
     },
     "execution_count": 20,
     "metadata": {},
     "output_type": "execute_result"
    }
   ],
   "source": [
    "range(len(ls))"
   ]
  },
  {
   "cell_type": "code",
   "execution_count": 22,
   "metadata": {
    "error": [
     {
      "ename": "KeyError",
      "evalue": "22",
      "output_type": "error",
      "traceback": [
       "\u001b[0;31m---------------------------------------------------------------------------\u001b[0m",
       "\u001b[0;31mKeyError\u001b[0m                                  Traceback (most recent call last)",
       "Cell \u001b[0;32mIn[23], line 1\u001b[0m\n\u001b[0;32m----> 1\u001b[0m json\u001b[38;5;241m.\u001b[39mdumps([typehandlerforuniqueobjects(\u001b[43mOut\u001b[49m\u001b[43m[\u001b[49m\u001b[38;5;241;43m22\u001b[39;49m\u001b[43m]\u001b[49m)])\n",
       "\u001b[0;31mKeyError\u001b[0m: 22"
      ]
     }
    ],
    "execution": {
     "iopub.execute_input": "2023-10-05T09:25:28.723926Z",
     "iopub.status.busy": "2023-10-05T09:25:28.723560Z",
     "iopub.status.idle": "2023-10-05T09:25:28.729257Z",
     "shell.execute_reply": "2023-10-05T09:25:28.728245Z"
    }
   },
   "outputs": [
    {
     "name": "stdout",
     "output_type": "stream",
     "text": [
      "[0, 1, 2]\n"
     ]
    }
   ],
   "source": [
    "print(list(range(3)))"
   ]
  },
  {
   "cell_type": "code",
   "execution_count": 24,
   "metadata": {
    "error": [
     {
      "ename": "KeyError",
      "evalue": "24",
      "output_type": "error",
      "traceback": [
       "\u001b[0;31m---------------------------------------------------------------------------\u001b[0m",
       "\u001b[0;31mKeyError\u001b[0m                                  Traceback (most recent call last)",
       "Cell \u001b[0;32mIn[25], line 1\u001b[0m\n\u001b[0;32m----> 1\u001b[0m json\u001b[38;5;241m.\u001b[39mdumps([typehandlerforuniqueobjects(\u001b[43mOut\u001b[49m\u001b[43m[\u001b[49m\u001b[38;5;241;43m24\u001b[39;49m\u001b[43m]\u001b[49m)])\n",
       "\u001b[0;31mKeyError\u001b[0m: 24"
      ]
     }
    ],
    "execution": {
     "iopub.execute_input": "2023-10-05T09:25:28.762250Z",
     "iopub.status.busy": "2023-10-05T09:25:28.761958Z",
     "iopub.status.idle": "2023-10-05T09:25:28.767580Z",
     "shell.execute_reply": "2023-10-05T09:25:28.766497Z"
    }
   },
   "outputs": [
    {
     "name": "stdout",
     "output_type": "stream",
     "text": [
      "[5, 6, 7, 8, 9, 10, 11, 12, 13, 14, 15, 16, 17, 18, 19]\n"
     ]
    }
   ],
   "source": [
    "print(list(range(5,20)))"
   ]
  },
  {
   "cell_type": "code",
   "execution_count": 26,
   "metadata": {
    "error": [
     {
      "ename": "KeyError",
      "evalue": "26",
      "output_type": "error",
      "traceback": [
       "\u001b[0;31m---------------------------------------------------------------------------\u001b[0m",
       "\u001b[0;31mKeyError\u001b[0m                                  Traceback (most recent call last)",
       "Cell \u001b[0;32mIn[27], line 1\u001b[0m\n\u001b[0;32m----> 1\u001b[0m json\u001b[38;5;241m.\u001b[39mdumps([typehandlerforuniqueobjects(\u001b[43mOut\u001b[49m\u001b[43m[\u001b[49m\u001b[38;5;241;43m26\u001b[39;49m\u001b[43m]\u001b[49m)])\n",
       "\u001b[0;31mKeyError\u001b[0m: 26"
      ]
     }
    ],
    "execution": {
     "iopub.execute_input": "2023-10-05T09:25:28.800461Z",
     "iopub.status.busy": "2023-10-05T09:25:28.800171Z",
     "iopub.status.idle": "2023-10-05T09:25:28.805856Z",
     "shell.execute_reply": "2023-10-05T09:25:28.804843Z"
    }
   },
   "outputs": [
    {
     "name": "stdout",
     "output_type": "stream",
     "text": [
      "[5, 7, 9]\n"
     ]
    }
   ],
   "source": [
    "print(list(range(5,10,2)))"
   ]
  },
  {
   "cell_type": "markdown",
   "metadata": {},
   "source": [
    "#### The range(len(iterable)) function"
   ]
  },
  {
   "cell_type": "code",
   "execution_count": 28,
   "metadata": {
    "execution": {
     "iopub.execute_input": "2023-10-05T09:25:28.838733Z",
     "iopub.status.busy": "2023-10-05T09:25:28.838443Z",
     "iopub.status.idle": "2023-10-05T09:25:28.842775Z",
     "shell.execute_reply": "2023-10-05T09:25:28.841815Z"
    }
   },
   "outputs": [],
   "source": [
    "# for i in range(len(iterable)):\n",
    "#     do_something_to_iterable[i]"
   ]
  },
  {
   "cell_type": "markdown",
   "metadata": {},
   "source": [
    "- Here, i is each number in the indices of a list, and the list in the code block can be indexed to modify each element.\n",
    "- This is generally employed to modify lists; however, it has other uses."
   ]
  },
  {
   "cell_type": "markdown",
   "metadata": {},
   "source": [
    "For example,"
   ]
  },
  {
   "cell_type": "code",
   "execution_count": 29,
   "metadata": {
    "error": [
     {
      "ename": "KeyError",
      "evalue": "29",
      "output_type": "error",
      "traceback": [
       "\u001b[0;31m---------------------------------------------------------------------------\u001b[0m",
       "\u001b[0;31mKeyError\u001b[0m                                  Traceback (most recent call last)",
       "Cell \u001b[0;32mIn[30], line 1\u001b[0m\n\u001b[0;32m----> 1\u001b[0m json\u001b[38;5;241m.\u001b[39mdumps([typehandlerforuniqueobjects(\u001b[43mOut\u001b[49m\u001b[43m[\u001b[49m\u001b[38;5;241;43m29\u001b[39;49m\u001b[43m]\u001b[49m)])\n",
       "\u001b[0;31mKeyError\u001b[0m: 29"
      ]
     }
    ],
    "execution": {
     "iopub.execute_input": "2023-10-05T09:25:28.846485Z",
     "iopub.status.busy": "2023-10-05T09:25:28.846197Z",
     "iopub.status.idle": "2023-10-05T09:25:28.852446Z",
     "shell.execute_reply": "2023-10-05T09:25:28.851407Z"
    }
   },
   "outputs": [
    {
     "name": "stdout",
     "output_type": "stream",
     "text": [
      "['HAT', 'BOOTS', 'JACKET', 'GLOVES']\n"
     ]
    }
   ],
   "source": [
    "items = [\"hat\", \"boots\", \"jacket\", \"gloves\"]\n",
    "\n",
    "counter = 0\n",
    "for i in range(len(items)):\n",
    "    items[i] = items[i].upper()\n",
    "\n",
    "print(items)"
   ]
  },
  {
   "cell_type": "markdown",
   "metadata": {},
   "source": [
    "### Tuple packing and unpacking"
   ]
  },
  {
   "cell_type": "markdown",
   "metadata": {},
   "source": [
    "A quick revision of the lesson on tuples.\n",
    "- Tuple unpacking is one of the most powerful features of tuples.\n",
    "- Using the comma syntax below, Python automatically selects elements from a tuple and assigns them to variables.<br><br>\n",
    "\n",
    "This feature can be applied to For loops, particularly when iterating over dictionaries."
   ]
  },
  {
   "cell_type": "code",
   "execution_count": 31,
   "metadata": {
    "error": [
     {
      "ename": "KeyError",
      "evalue": "31",
      "output_type": "error",
      "traceback": [
       "\u001b[0;31m---------------------------------------------------------------------------\u001b[0m",
       "\u001b[0;31mKeyError\u001b[0m                                  Traceback (most recent call last)",
       "Cell \u001b[0;32mIn[32], line 1\u001b[0m\n\u001b[0;32m----> 1\u001b[0m json\u001b[38;5;241m.\u001b[39mdumps([typehandlerforuniqueobjects(\u001b[43mOut\u001b[49m\u001b[43m[\u001b[49m\u001b[38;5;241;43m31\u001b[39;49m\u001b[43m]\u001b[49m)])\n",
       "\u001b[0;31mKeyError\u001b[0m: 31"
      ]
     }
    ],
    "execution": {
     "iopub.execute_input": "2023-10-05T09:25:28.885354Z",
     "iopub.status.busy": "2023-10-05T09:25:28.885066Z",
     "iopub.status.idle": "2023-10-05T09:25:28.890818Z",
     "shell.execute_reply": "2023-10-05T09:25:28.889797Z"
    }
   },
   "outputs": [
    {
     "name": "stdout",
     "output_type": "stream",
     "text": [
      "1\n",
      "2\n"
     ]
    }
   ],
   "source": [
    "# Python here 'unpacks' the tuple automatically and picks out the values and assigns them to the comma-separated\n",
    "# variables\n",
    "a, b = (1, 2)\n",
    "\n",
    "print(a)\n",
    "print(b)"
   ]
  },
  {
   "cell_type": "markdown",
   "metadata": {},
   "source": [
    "### For Loops with Dictionaries"
   ]
  },
  {
   "cell_type": "markdown",
   "metadata": {},
   "source": [
    "There are two possible approaches for applying the For loop to dictionaries:\n",
    "1. by iterating through d.keys(), since it returns a list.\n",
    "2. by applying tuple unpacking to iterate through d.items(), since it returns a list of paired tuples.\n",
    "\n",
    "The second approach enables the operation of both keys and items in a highly readable format."
   ]
  },
  {
   "cell_type": "markdown",
   "metadata": {},
   "source": [
    "#### Method 1"
   ]
  },
  {
   "cell_type": "code",
   "execution_count": 33,
   "metadata": {
    "execution": {
     "iopub.execute_input": "2023-10-05T09:25:28.922349Z",
     "iopub.status.busy": "2023-10-05T09:25:28.922056Z",
     "iopub.status.idle": "2023-10-05T09:25:28.929272Z",
     "shell.execute_reply": "2023-10-05T09:25:28.928312Z"
    },
    "type_information": "[{\"type\": \"<class 'dict_keys'>\", \"name\": \"dict_keys\", \"module\": \"builtins\", \"size\": 40}]"
   },
   "outputs": [
    {
     "data": {
      "text/plain": [
       "dict_keys(['tomato', 'sugar', 'sponges', 'juice', 'foil'])"
      ]
     },
     "execution_count": 33,
     "metadata": {},
     "output_type": "execute_result"
    }
   ],
   "source": [
    "# Here, we see that the .keys() method returns a list.\n",
    "prices = {\"tomato\":0.87, \"sugar\":1.09, \"sponges\":0.29, \"juice\":1.89, \"foil\":1.29}\n",
    "\n",
    "prices.keys()"
   ]
  },
  {
   "cell_type": "code",
   "execution_count": 35,
   "metadata": {
    "error": [
     {
      "ename": "KeyError",
      "evalue": "35",
      "output_type": "error",
      "traceback": [
       "\u001b[0;31m---------------------------------------------------------------------------\u001b[0m",
       "\u001b[0;31mKeyError\u001b[0m                                  Traceback (most recent call last)",
       "Cell \u001b[0;32mIn[36], line 1\u001b[0m\n\u001b[0;32m----> 1\u001b[0m json\u001b[38;5;241m.\u001b[39mdumps([typehandlerforuniqueobjects(\u001b[43mOut\u001b[49m\u001b[43m[\u001b[49m\u001b[38;5;241;43m35\u001b[39;49m\u001b[43m]\u001b[49m)])\n",
       "\u001b[0;31mKeyError\u001b[0m: 35"
      ]
     }
    ],
    "execution": {
     "iopub.execute_input": "2023-10-05T09:25:28.943196Z",
     "iopub.status.busy": "2023-10-05T09:25:28.942911Z",
     "iopub.status.idle": "2023-10-05T09:25:28.949347Z",
     "shell.execute_reply": "2023-10-05T09:25:28.948333Z"
    }
   },
   "outputs": [
    {
     "name": "stdout",
     "output_type": "stream",
     "text": [
      "['tomato', 'sugar', 'sponges', 'juice', 'foil']\n",
      "[0.87, 1.09, 0.29, 1.89, 1.29]\n"
     ]
    }
   ],
   "source": [
    "# Here, the keys and items are selected from a dictionary and added to a list.\n",
    "\n",
    "# initialise the empty lists\n",
    "code_list = []\n",
    "price_list = []\n",
    "\n",
    "for key in prices.keys():\n",
    "\n",
    "    # append the key itself to code_list\n",
    "    code_list.append(key)\n",
    "\n",
    "    # use the key to select the value and append that to price_list\n",
    "    price_list.append(prices[key])\n",
    "\n",
    "print(code_list)\n",
    "print(price_list)\n"
   ]
  },
  {
   "cell_type": "markdown",
   "metadata": {},
   "source": [
    "#### Method 2"
   ]
  },
  {
   "cell_type": "code",
   "execution_count": 37,
   "metadata": {
    "execution": {
     "iopub.execute_input": "2023-10-05T09:25:28.981119Z",
     "iopub.status.busy": "2023-10-05T09:25:28.980831Z",
     "iopub.status.idle": "2023-10-05T09:25:28.987314Z",
     "shell.execute_reply": "2023-10-05T09:25:28.986330Z"
    },
    "type_information": "[{\"type\": \"<class 'dict_items'>\", \"name\": \"dict_items\", \"module\": \"builtins\", \"size\": 40}]"
   },
   "outputs": [
    {
     "data": {
      "text/plain": [
       "dict_items([('tomato', 0.87), ('sugar', 1.09), ('sponges', 0.29), ('juice', 1.89), ('foil', 1.29)])"
      ]
     },
     "execution_count": 37,
     "metadata": {},
     "output_type": "execute_result"
    }
   ],
   "source": [
    "# Here, we can see that the .items() method returns a list of paired tuples.\n",
    "prices.items()"
   ]
  },
  {
   "cell_type": "code",
   "execution_count": 39,
   "metadata": {
    "error": [
     {
      "ename": "KeyError",
      "evalue": "39",
      "output_type": "error",
      "traceback": [
       "\u001b[0;31m---------------------------------------------------------------------------\u001b[0m",
       "\u001b[0;31mKeyError\u001b[0m                                  Traceback (most recent call last)",
       "Cell \u001b[0;32mIn[40], line 1\u001b[0m\n\u001b[0;32m----> 1\u001b[0m json\u001b[38;5;241m.\u001b[39mdumps([typehandlerforuniqueobjects(\u001b[43mOut\u001b[49m\u001b[43m[\u001b[49m\u001b[38;5;241;43m39\u001b[39;49m\u001b[43m]\u001b[49m)])\n",
       "\u001b[0;31mKeyError\u001b[0m: 39"
      ]
     }
    ],
    "execution": {
     "iopub.execute_input": "2023-10-05T09:25:29.001318Z",
     "iopub.status.busy": "2023-10-05T09:25:29.001026Z",
     "iopub.status.idle": "2023-10-05T09:25:29.008145Z",
     "shell.execute_reply": "2023-10-05T09:25:29.007106Z"
    }
   },
   "outputs": [
    {
     "name": "stdout",
     "output_type": "stream",
     "text": [
      "['tomato', 'sugar', 'sponges', 'juice', 'foil']\n",
      "[0.87, 1.09, 0.29, 1.89, 1.29]\n"
     ]
    }
   ],
   "source": [
    "# Here, we perform the same operation; however, we apply tuple unpacking on d.keys this time.\n",
    "\n",
    "code_list = []\n",
    "price_list = []\n",
    "key, value = ('tomato', 0.87)\n",
    "\n",
    "key, value = ('sugar', 1.09)\n",
    "\n",
    "for key, value in prices.items():\n",
    "    \n",
    "    # This line is the same as above.\n",
    "    code_list.append(key)\n",
    "    \n",
    "    # Here, we access the value as well and directly append that to price_list.\n",
    "    price_list.append(value)\n",
    "    \n",
    "print(code_list)\n",
    "print(price_list)"
   ]
  },
  {
   "cell_type": "markdown",
   "metadata": {},
   "source": [
    "Other operations can also be performed using tuple unpacking."
   ]
  },
  {
   "cell_type": "code",
   "execution_count": 41,
   "metadata": {
    "error": [
     {
      "ename": "KeyError",
      "evalue": "41",
      "output_type": "error",
      "traceback": [
       "\u001b[0;31m---------------------------------------------------------------------------\u001b[0m",
       "\u001b[0;31mKeyError\u001b[0m                                  Traceback (most recent call last)",
       "Cell \u001b[0;32mIn[42], line 1\u001b[0m\n\u001b[0;32m----> 1\u001b[0m json\u001b[38;5;241m.\u001b[39mdumps([typehandlerforuniqueobjects(\u001b[43mOut\u001b[49m\u001b[43m[\u001b[49m\u001b[38;5;241;43m41\u001b[39;49m\u001b[43m]\u001b[49m)])\n",
       "\u001b[0;31mKeyError\u001b[0m: 41"
      ]
     }
    ],
    "execution": {
     "iopub.execute_input": "2023-10-05T09:25:29.039597Z",
     "iopub.status.busy": "2023-10-05T09:25:29.039306Z",
     "iopub.status.idle": "2023-10-05T09:25:29.045582Z",
     "shell.execute_reply": "2023-10-05T09:25:29.044569Z"
    }
   },
   "outputs": [
    {
     "name": "stdout",
     "output_type": "stream",
     "text": [
      "Item Code: tomato\n",
      "Price: £0.87\n",
      "\n",
      "Item Code: sugar\n",
      "Price: £1.09\n",
      "\n",
      "Item Code: sponges\n",
      "Price: £0.29\n",
      "\n",
      "Item Code: juice\n",
      "Price: £1.89\n",
      "\n",
      "Item Code: foil\n",
      "Price: £1.29\n",
      "\n"
     ]
    }
   ],
   "source": [
    "prices = {\"tomato\":0.87, \"sugar\":1.09, \"sponges\":0.29, \"juice\":1.89, \"foil\":1.29}\n",
    "\n",
    "for key, value in prices.items():\n",
    "    print(\"Item Code: {}\\nPrice: £{}\\n\".format(key,value))"
   ]
  },
  {
   "cell_type": "markdown",
   "metadata": {},
   "source": [
    "### If statements within For loops\n",
    "- Control flow can be applied within For loops to perform varying operations depending on conditions."
   ]
  },
  {
   "cell_type": "markdown",
   "metadata": {},
   "source": [
    "For example,"
   ]
  },
  {
   "cell_type": "code",
   "execution_count": 43,
   "metadata": {
    "error": [
     {
      "ename": "KeyError",
      "evalue": "43",
      "output_type": "error",
      "traceback": [
       "\u001b[0;31m---------------------------------------------------------------------------\u001b[0m",
       "\u001b[0;31mKeyError\u001b[0m                                  Traceback (most recent call last)",
       "Cell \u001b[0;32mIn[44], line 1\u001b[0m\n\u001b[0;32m----> 1\u001b[0m json\u001b[38;5;241m.\u001b[39mdumps([typehandlerforuniqueobjects(\u001b[43mOut\u001b[49m\u001b[43m[\u001b[49m\u001b[38;5;241;43m43\u001b[39;49m\u001b[43m]\u001b[49m)])\n",
       "\u001b[0;31mKeyError\u001b[0m: 43"
      ]
     }
    ],
    "execution": {
     "iopub.execute_input": "2023-10-05T09:25:29.078787Z",
     "iopub.status.busy": "2023-10-05T09:25:29.078494Z",
     "iopub.status.idle": "2023-10-05T09:25:29.087677Z",
     "shell.execute_reply": "2023-10-05T09:25:29.086658Z"
    }
   },
   "outputs": [
    {
     "name": "stdout",
     "output_type": "stream",
     "text": [
      "This is the list of BMIs: [25.381468541909282, 25.390218522372525, 30.905885854261584, 23.938989774631512, 32.488628979857054, 18.80920625149619]\n",
      "\n",
      "You're in the overweight range. Your BMI is 25.4.\n",
      "You're in the overweight range. Your BMI is 25.4.\n",
      "You're in the obese range. Your BMI is 30.9.\n",
      "You're in the healthy weight range. Your BMI is 23.9.\n",
      "You're in the obese range. Your BMI is 32.5.\n",
      "You're in the healthy weight range. Your BMI is 18.8.\n"
     ]
    }
   ],
   "source": [
    "# We encode a list of heights and weights as a list of tuples.\n",
    "heights_weights = [(1.83, 85), (1.55, 61), (2.09, 135),\n",
    "                   (1.71, 70), (1.71, 95), (1.71, 55)]\n",
    "\n",
    "\n",
    "# We set bmis as an empty list to append the bmi values.\n",
    "bmis = []\n",
    "\n",
    "\n",
    "# We apply tuple unpacking to add bmi values to bmis.\n",
    "for height, weight in heights_weights:\n",
    "    bmis.append(weight / height ** 2)\n",
    "\n",
    "\n",
    "# we print bmis here to show the intermediate list (ordinarily, we would not do this).\n",
    "print(\"This is the list of BMIs: {}\\n\".format(bmis))\n",
    "\n",
    "\n",
    "# We loop over the bmi list to assign the values to the correct message.\n",
    "for bmi in bmis:\n",
    "    if bmi < 18.5:\n",
    "        print(\n",
    "            \"You're in the underweight range. Your BMI is {:3.1f}.\".format(bmi))\n",
    "    elif bmi <= 24.9:\n",
    "        print(\n",
    "            \"You're in the healthy weight range. Your BMI is {:3.1f}.\".format(bmi))\n",
    "    elif bmi <= 29.9:\n",
    "        print(\n",
    "            \"You're in the overweight range. Your BMI is {:3.1f}.\".format(bmi))\n",
    "    elif bmi <= 39.9:\n",
    "        print(\"You're in the obese range. Your BMI is {:3.1f}.\".format(bmi))\n"
   ]
  },
  {
   "cell_type": "markdown",
   "metadata": {},
   "source": [
    "- Here, we use the example of a BMI calculator to demonstrate the combined use of a few concepts.\n",
    "- For ease of calculation, heights are in metres and weights in kilograms.<br>\n",
    "\n",
    "Note that this can also be performed in a single For loop, as shown below:"
   ]
  },
  {
   "cell_type": "code",
   "execution_count": 45,
   "metadata": {
    "error": [
     {
      "ename": "KeyError",
      "evalue": "45",
      "output_type": "error",
      "traceback": [
       "\u001b[0;31m---------------------------------------------------------------------------\u001b[0m",
       "\u001b[0;31mKeyError\u001b[0m                                  Traceback (most recent call last)",
       "Cell \u001b[0;32mIn[46], line 1\u001b[0m\n\u001b[0;32m----> 1\u001b[0m json\u001b[38;5;241m.\u001b[39mdumps([typehandlerforuniqueobjects(\u001b[43mOut\u001b[49m\u001b[43m[\u001b[49m\u001b[38;5;241;43m45\u001b[39;49m\u001b[43m]\u001b[49m)])\n",
       "\u001b[0;31mKeyError\u001b[0m: 45"
      ]
     }
    ],
    "execution": {
     "iopub.execute_input": "2023-10-05T09:25:29.162478Z",
     "iopub.status.busy": "2023-10-05T09:25:29.162181Z",
     "iopub.status.idle": "2023-10-05T09:25:29.170578Z",
     "shell.execute_reply": "2023-10-05T09:25:29.169547Z"
    }
   },
   "outputs": [
    {
     "name": "stdout",
     "output_type": "stream",
     "text": [
      "You're in the overweight range. Your BMI is 25.4\n",
      "You're in the overweight range. Your BMI is 25.4\n",
      "You're in the obese range. Your BMI is 30.9\n",
      "You're in the healthy weight range. Your BMI is 23.9\n",
      "You're in the obese range. Your BMI is 32.5\n",
      "You're in the healthy weight range. Your BMI is 18.8\n"
     ]
    }
   ],
   "source": [
    "heights_weights = [(1.83, 85),(1.55, 61),(2.09, 135),(1.71, 70),(1.71, 95),(1.71, 55)]\n",
    "\n",
    "for height, weight in heights_weights:\n",
    "    \n",
    "    # Here, we calculate bmi within the For loop using the paired tuple values before passing the bmi value\n",
    "    # into the subsequent if statements.\n",
    "    bmi = weight/height**2\n",
    "\n",
    "    if bmi < 18.5:\n",
    "        print(\"You're in the underweight range. Your BMI is {:3.1f}\".format(bmi))\n",
    "    elif bmi <= 24.9:\n",
    "        print(\"You're in the healthy weight range. Your BMI is {:3.1f}\".format(bmi))\n",
    "    elif bmi <= 29.9:\n",
    "        print(\"You're in the overweight range. Your BMI is {:3.1f}\".format(bmi))\n",
    "    elif bmi <= 39.9:\n",
    "        print(\"You're in the obese range. Your BMI is {:3.1f}\".format(bmi))"
   ]
  },
  {
   "cell_type": "markdown",
   "metadata": {},
   "source": [
    "### The pass, break and continue keywords"
   ]
  },
  {
   "cell_type": "markdown",
   "metadata": {},
   "source": [
    "- The pass keyword serves as a placeholder in an empty loop. It means 'do nothing'.\n",
    "- The pass keyword is applied when an empty loop (or function) is present in our code. In other words, the pass keyword ensures that the rest of the code outside the empty loop runs.\n",
    "- The break keyword terminates the loop when triggered.\n",
    "- The continue keyword moves to the top of the nearest enclosing loop and skips onto the next iteration.\n",
    "- Generally, these keywords are used within a conditional to terminate a loop or skip an iteration when a condition is met."
   ]
  },
  {
   "cell_type": "markdown",
   "metadata": {},
   "source": [
    "For example,"
   ]
  },
  {
   "cell_type": "code",
   "execution_count": 47,
   "metadata": {
    "error": [
     {
      "ename": "KeyError",
      "evalue": "47",
      "output_type": "error",
      "traceback": [
       "\u001b[0;31m---------------------------------------------------------------------------\u001b[0m",
       "\u001b[0;31mKeyError\u001b[0m                                  Traceback (most recent call last)",
       "Cell \u001b[0;32mIn[48], line 1\u001b[0m\n\u001b[0;32m----> 1\u001b[0m json\u001b[38;5;241m.\u001b[39mdumps([typehandlerforuniqueobjects(\u001b[43mOut\u001b[49m\u001b[43m[\u001b[49m\u001b[38;5;241;43m47\u001b[39;49m\u001b[43m]\u001b[49m)])\n",
       "\u001b[0;31mKeyError\u001b[0m: 47"
      ]
     }
    ],
    "execution": {
     "iopub.execute_input": "2023-10-05T09:25:29.202955Z",
     "iopub.status.busy": "2023-10-05T09:25:29.202660Z",
     "iopub.status.idle": "2023-10-05T09:25:29.209059Z",
     "shell.execute_reply": "2023-10-05T09:25:29.208059Z"
    }
   },
   "outputs": [
    {
     "name": "stdout",
     "output_type": "stream",
     "text": [
      "10 5\n"
     ]
    }
   ],
   "source": [
    "# used for developing code. If left empty, Python throws an error.\n",
    "x, y = 10, 5\n",
    "\n",
    "for i in range(20):\n",
    "    ### To be completed\n",
    "    pass\n",
    "\n",
    "print(x,y)"
   ]
  },
  {
   "cell_type": "code",
   "execution_count": 49,
   "metadata": {
    "error": [
     {
      "ename": "KeyError",
      "evalue": "49",
      "output_type": "error",
      "traceback": [
       "\u001b[0;31m---------------------------------------------------------------------------\u001b[0m",
       "\u001b[0;31mKeyError\u001b[0m                                  Traceback (most recent call last)",
       "Cell \u001b[0;32mIn[50], line 1\u001b[0m\n\u001b[0;32m----> 1\u001b[0m json\u001b[38;5;241m.\u001b[39mdumps([typehandlerforuniqueobjects(\u001b[43mOut\u001b[49m\u001b[43m[\u001b[49m\u001b[38;5;241;43m49\u001b[39;49m\u001b[43m]\u001b[49m)])\n",
       "\u001b[0;31mKeyError\u001b[0m: 49"
      ]
     }
    ],
    "execution": {
     "iopub.execute_input": "2023-10-05T09:25:29.241304Z",
     "iopub.status.busy": "2023-10-05T09:25:29.241012Z",
     "iopub.status.idle": "2023-10-05T09:25:29.246901Z",
     "shell.execute_reply": "2023-10-05T09:25:29.245878Z"
    }
   },
   "outputs": [
    {
     "name": "stdout",
     "output_type": "stream",
     "text": [
      "I am not skipped because 1 is not divisible by 5\n",
      "I am not skipped because 2 is not divisible by 5\n",
      "I am not skipped because 4 is not divisible by 5\n",
      "I am not skipped because 5 is not divisible by 5\n",
      "I am not skipped because 7 is not divisible by 5\n",
      "I am not skipped because 8 is not divisible by 5\n",
      "I am not skipped because 10 is not divisible by 5\n",
      "I am not skipped because 11 is not divisible by 5\n"
     ]
    }
   ],
   "source": [
    "for i in range(12):\n",
    "    if i % 3 == 0:\n",
    "        continue\n",
    "    print(f'I am not skipped because {i} is not divisible by 5')"
   ]
  },
  {
   "cell_type": "code",
   "execution_count": 51,
   "metadata": {
    "error": [
     {
      "ename": "KeyError",
      "evalue": "51",
      "output_type": "error",
      "traceback": [
       "\u001b[0;31m---------------------------------------------------------------------------\u001b[0m",
       "\u001b[0;31mKeyError\u001b[0m                                  Traceback (most recent call last)",
       "Cell \u001b[0;32mIn[52], line 1\u001b[0m\n\u001b[0;32m----> 1\u001b[0m json\u001b[38;5;241m.\u001b[39mdumps([typehandlerforuniqueobjects(\u001b[43mOut\u001b[49m\u001b[43m[\u001b[49m\u001b[38;5;241;43m51\u001b[39;49m\u001b[43m]\u001b[49m)])\n",
       "\u001b[0;31mKeyError\u001b[0m: 51"
      ]
     }
    ],
    "execution": {
     "iopub.execute_input": "2023-10-05T09:25:29.279042Z",
     "iopub.status.busy": "2023-10-05T09:25:29.278755Z",
     "iopub.status.idle": "2023-10-05T09:25:29.284602Z",
     "shell.execute_reply": "2023-10-05T09:25:29.283538Z"
    }
   },
   "outputs": [
    {
     "name": "stdout",
     "output_type": "stream",
     "text": [
      "1\n",
      "2\n",
      "3\n",
      "4\n"
     ]
    }
   ],
   "source": [
    "for i in range(1,12):\n",
    "    if i % 5 == 0:\n",
    "        break\n",
    "    else:\n",
    "        print(i)"
   ]
  },
  {
   "cell_type": "markdown",
   "metadata": {},
   "source": [
    "### Zip and enumerate"
   ]
  },
  {
   "cell_type": "markdown",
   "metadata": {},
   "source": [
    "- The zip() function combines iterables into tuples; however, zip is an iterator that returns a zip object, which must then be iterated over or converted into a list to be viewed.\n",
    "- If the * argument is passed, it can unzip into tuples.\n",
    "- The enumerate() function returns an iterator of tuples, containing (index, item).\n",
    "- This is useful for operations on both indices and items, e.g. combining a For loop on an iterable with a For loop on range(len(iterable))."
   ]
  },
  {
   "cell_type": "markdown",
   "metadata": {},
   "source": [
    "For example,"
   ]
  },
  {
   "cell_type": "code",
   "execution_count": 53,
   "metadata": {
    "error": [
     {
      "ename": "KeyError",
      "evalue": "53",
      "output_type": "error",
      "traceback": [
       "\u001b[0;31m---------------------------------------------------------------------------\u001b[0m",
       "\u001b[0;31mKeyError\u001b[0m                                  Traceback (most recent call last)",
       "Cell \u001b[0;32mIn[54], line 1\u001b[0m\n\u001b[0;32m----> 1\u001b[0m json\u001b[38;5;241m.\u001b[39mdumps([typehandlerforuniqueobjects(\u001b[43mOut\u001b[49m\u001b[43m[\u001b[49m\u001b[38;5;241;43m53\u001b[39;49m\u001b[43m]\u001b[49m)])\n",
       "\u001b[0;31mKeyError\u001b[0m: 53"
      ]
     }
    ],
    "execution": {
     "iopub.execute_input": "2023-10-05T09:25:29.316693Z",
     "iopub.status.busy": "2023-10-05T09:25:29.316399Z",
     "iopub.status.idle": "2023-10-05T09:25:29.322706Z",
     "shell.execute_reply": "2023-10-05T09:25:29.321697Z"
    }
   },
   "outputs": [
    {
     "name": "stdout",
     "output_type": "stream",
     "text": [
      "[('tomato', 0.87), ('sugar', 1.09), ('sponges', 0.29), ('juice', 1.89), ('foil', 1.29)]\n"
     ]
    }
   ],
   "source": [
    "# zip() creates a zip object, which must be iterated or listed to be viewed.\n",
    "\n",
    "items = [\"tomato\", \"sugar\", \"sponges\", \"juice\", \"foil\"]\n",
    "prices = [0.87, 1.09, 0.29, 1.89, 1.29]\n",
    "\n",
    "items_and_prices = zip(items, prices)\n",
    "\n",
    "print(list(items_and_prices))\n"
   ]
  },
  {
   "cell_type": "code",
   "execution_count": 55,
   "metadata": {
    "error": [
     {
      "ename": "KeyError",
      "evalue": "55",
      "output_type": "error",
      "traceback": [
       "\u001b[0;31m---------------------------------------------------------------------------\u001b[0m",
       "\u001b[0;31mKeyError\u001b[0m                                  Traceback (most recent call last)",
       "Cell \u001b[0;32mIn[56], line 1\u001b[0m\n\u001b[0;32m----> 1\u001b[0m json\u001b[38;5;241m.\u001b[39mdumps([typehandlerforuniqueobjects(\u001b[43mOut\u001b[49m\u001b[43m[\u001b[49m\u001b[38;5;241;43m55\u001b[39;49m\u001b[43m]\u001b[49m)])\n",
       "\u001b[0;31mKeyError\u001b[0m: 55"
      ]
     }
    ],
    "execution": {
     "iopub.execute_input": "2023-10-05T09:25:29.355555Z",
     "iopub.status.busy": "2023-10-05T09:25:29.355263Z",
     "iopub.status.idle": "2023-10-05T09:25:29.360903Z",
     "shell.execute_reply": "2023-10-05T09:25:29.359866Z"
    }
   },
   "outputs": [
    {
     "name": "stdout",
     "output_type": "stream",
     "text": [
      "tomato 0.87\n",
      "sugar 1.09\n",
      "sponges 0.29\n",
      "juice 1.89\n",
      "foil 1.29\n"
     ]
    }
   ],
   "source": [
    "for item, price in zip(items, prices):\n",
    "    print(item, price)"
   ]
  },
  {
   "cell_type": "code",
   "execution_count": 57,
   "metadata": {
    "error": [
     {
      "ename": "KeyError",
      "evalue": "57",
      "output_type": "error",
      "traceback": [
       "\u001b[0;31m---------------------------------------------------------------------------\u001b[0m",
       "\u001b[0;31mKeyError\u001b[0m                                  Traceback (most recent call last)",
       "Cell \u001b[0;32mIn[58], line 1\u001b[0m\n\u001b[0;32m----> 1\u001b[0m json\u001b[38;5;241m.\u001b[39mdumps([typehandlerforuniqueobjects(\u001b[43mOut\u001b[49m\u001b[43m[\u001b[49m\u001b[38;5;241;43m57\u001b[39;49m\u001b[43m]\u001b[49m)])\n",
       "\u001b[0;31mKeyError\u001b[0m: 57"
      ]
     }
    ],
    "execution": {
     "iopub.execute_input": "2023-10-05T09:25:29.393583Z",
     "iopub.status.busy": "2023-10-05T09:25:29.393290Z",
     "iopub.status.idle": "2023-10-05T09:25:29.399306Z",
     "shell.execute_reply": "2023-10-05T09:25:29.398308Z"
    }
   },
   "outputs": [
    {
     "name": "stdout",
     "output_type": "stream",
     "text": [
      "('tomato', 'sugar', 'sponges', 'juice', 'foil')\n",
      "(0.87, 1.09, 0.29, 1.89, 1.29)\n"
     ]
    }
   ],
   "source": [
    "# We can unzip a zip object into tuples by passing * into the zip call.\n",
    "\n",
    "items_and_prices = zip(items, prices) # creating zip object\n",
    "\n",
    "tuple_of_items, tuple_of_prices = zip(*items_and_prices) # unzipping zip object\n",
    "\n",
    "print(tuple_of_items)\n",
    "print(tuple_of_prices)"
   ]
  },
  {
   "cell_type": "code",
   "execution_count": 59,
   "metadata": {
    "error": [
     {
      "ename": "KeyError",
      "evalue": "59",
      "output_type": "error",
      "traceback": [
       "\u001b[0;31m---------------------------------------------------------------------------\u001b[0m",
       "\u001b[0;31mKeyError\u001b[0m                                  Traceback (most recent call last)",
       "Cell \u001b[0;32mIn[60], line 1\u001b[0m\n\u001b[0;32m----> 1\u001b[0m json\u001b[38;5;241m.\u001b[39mdumps([typehandlerforuniqueobjects(\u001b[43mOut\u001b[49m\u001b[43m[\u001b[49m\u001b[38;5;241;43m59\u001b[39;49m\u001b[43m]\u001b[49m)])\n",
       "\u001b[0;31mKeyError\u001b[0m: 59"
      ]
     }
    ],
    "execution": {
     "iopub.execute_input": "2023-10-05T09:25:29.431532Z",
     "iopub.status.busy": "2023-10-05T09:25:29.431241Z",
     "iopub.status.idle": "2023-10-05T09:25:29.437013Z",
     "shell.execute_reply": "2023-10-05T09:25:29.436012Z"
    }
   },
   "outputs": [
    {
     "name": "stdout",
     "output_type": "stream",
     "text": [
      "The price of tomato is £0.87\n",
      "The price of sugar is £1.09\n",
      "The price of sponges is £0.29\n",
      "The price of juice is £1.89\n",
      "The price of foil is £1.29\n"
     ]
    }
   ],
   "source": [
    "# can iterate over and perform operations on a zip object\n",
    "\n",
    "for item, price in zip(items, prices):\n",
    "    print(\"The price of {} is £{}\".format(item, price))"
   ]
  },
  {
   "cell_type": "code",
   "execution_count": 61,
   "metadata": {
    "error": [
     {
      "ename": "KeyError",
      "evalue": "61",
      "output_type": "error",
      "traceback": [
       "\u001b[0;31m---------------------------------------------------------------------------\u001b[0m",
       "\u001b[0;31mKeyError\u001b[0m                                  Traceback (most recent call last)",
       "Cell \u001b[0;32mIn[62], line 1\u001b[0m\n\u001b[0;32m----> 1\u001b[0m json\u001b[38;5;241m.\u001b[39mdumps([typehandlerforuniqueobjects(\u001b[43mOut\u001b[49m\u001b[43m[\u001b[49m\u001b[38;5;241;43m61\u001b[39;49m\u001b[43m]\u001b[49m)])\n",
       "\u001b[0;31mKeyError\u001b[0m: 61"
      ]
     }
    ],
    "execution": {
     "iopub.execute_input": "2023-10-05T09:25:29.468762Z",
     "iopub.status.busy": "2023-10-05T09:25:29.468473Z",
     "iopub.status.idle": "2023-10-05T09:25:29.474501Z",
     "shell.execute_reply": "2023-10-05T09:25:29.473485Z"
    }
   },
   "outputs": [
    {
     "name": "stdout",
     "output_type": "stream",
     "text": [
      "0 hat\n",
      "1 scarf\n",
      "2 coat\n",
      "3 gloves\n"
     ]
    }
   ],
   "source": [
    "# enumerate() gives both the items and their indices that can be operated on\n",
    "\n",
    "items = [\"hat\", \"scarf\", \"coat\", \"gloves\"]\n",
    "\n",
    "\n",
    "for index, item in enumerate(items):\n",
    "    print(index, item)"
   ]
  },
  {
   "cell_type": "code",
   "execution_count": 63,
   "metadata": {
    "error": [
     {
      "ename": "KeyError",
      "evalue": "63",
      "output_type": "error",
      "traceback": [
       "\u001b[0;31m---------------------------------------------------------------------------\u001b[0m",
       "\u001b[0;31mKeyError\u001b[0m                                  Traceback (most recent call last)",
       "Cell \u001b[0;32mIn[64], line 1\u001b[0m\n\u001b[0;32m----> 1\u001b[0m json\u001b[38;5;241m.\u001b[39mdumps([typehandlerforuniqueobjects(\u001b[43mOut\u001b[49m\u001b[43m[\u001b[49m\u001b[38;5;241;43m63\u001b[39;49m\u001b[43m]\u001b[49m)])\n",
       "\u001b[0;31mKeyError\u001b[0m: 63"
      ]
     }
    ],
    "execution": {
     "iopub.execute_input": "2023-10-05T09:25:29.506373Z",
     "iopub.status.busy": "2023-10-05T09:25:29.506084Z",
     "iopub.status.idle": "2023-10-05T09:25:29.511469Z",
     "shell.execute_reply": "2023-10-05T09:25:29.510465Z"
    }
   },
   "outputs": [
    {
     "name": "stdout",
     "output_type": "stream",
     "text": [
      "((0, 'hat'), (1, 'scarf'), (2, 'coat'), (3, 'gloves'))\n"
     ]
    }
   ],
   "source": [
    "# enumerate objects can be shown in lists/tuples as well\n",
    "print(tuple(enumerate(items)))"
   ]
  },
  {
   "cell_type": "markdown",
   "metadata": {},
   "source": [
    "#### A note on the * operator"
   ]
  },
  {
   "cell_type": "markdown",
   "metadata": {},
   "source": [
    "Conventionally, the * operator performs multiplication. However, in this case, it is used to unzip a zip object. It is important to understand what actually occurs."
   ]
  },
  {
   "cell_type": "code",
   "execution_count": 65,
   "metadata": {
    "error": [
     {
      "ename": "KeyError",
      "evalue": "65",
      "output_type": "error",
      "traceback": [
       "\u001b[0;31m---------------------------------------------------------------------------\u001b[0m",
       "\u001b[0;31mKeyError\u001b[0m                                  Traceback (most recent call last)",
       "Cell \u001b[0;32mIn[66], line 1\u001b[0m\n\u001b[0;32m----> 1\u001b[0m json\u001b[38;5;241m.\u001b[39mdumps([typehandlerforuniqueobjects(\u001b[43mOut\u001b[49m\u001b[43m[\u001b[49m\u001b[38;5;241;43m65\u001b[39;49m\u001b[43m]\u001b[49m)])\n",
       "\u001b[0;31mKeyError\u001b[0m: 65"
      ]
     }
    ],
    "execution": {
     "iopub.execute_input": "2023-10-05T09:25:29.543196Z",
     "iopub.status.busy": "2023-10-05T09:25:29.542908Z",
     "iopub.status.idle": "2023-10-05T09:25:29.549099Z",
     "shell.execute_reply": "2023-10-05T09:25:29.548040Z"
    }
   },
   "outputs": [
    {
     "name": "stdout",
     "output_type": "stream",
     "text": [
      "(1, 2) (3, 4)\n",
      "[(1, 2), (3, 4)]\n"
     ]
    }
   ],
   "source": [
    "zipped = [(1, 2), (3, 4)]\n",
    "print(*zipped) # unpacks the zipped instance into its components\n",
    "zipped = [[(1, 2), (3, 4)]]\n",
    "print(*zipped)\n",
    "# think of * as an operator that removes the squared brackets"
   ]
  },
  {
   "cell_type": "markdown",
   "metadata": {},
   "source": [
    "Think of * as a container destructor."
   ]
  },
  {
   "cell_type": "code",
   "execution_count": 67,
   "metadata": {
    "execution": {
     "iopub.execute_input": "2023-10-05T09:25:29.580750Z",
     "iopub.status.busy": "2023-10-05T09:25:29.580460Z",
     "iopub.status.idle": "2023-10-05T09:25:29.587679Z",
     "shell.execute_reply": "2023-10-05T09:25:29.586563Z"
    },
    "type_information": "[{\"type\": \"<class 'list'>\", \"name\": \"list\", \"module\": \"builtins\", \"size\": 104, \"data\": [{\"type\": \"<class 'int'>\", \"name\": \"int\", \"module\": \"builtins\", \"size\": 28}, {\"type\": \"<class 'int'>\", \"name\": \"int\", \"module\": \"builtins\", \"size\": 28}, {\"type\": \"<class 'int'>\", \"name\": \"int\", \"module\": \"builtins\", \"size\": 28}]}]"
   },
   "outputs": [
    {
     "data": {
      "text/plain": [
       "[1, 2, 3]"
      ]
     },
     "execution_count": 67,
     "metadata": {},
     "output_type": "execute_result"
    }
   ],
   "source": [
    "[*(1, 2, 3)] # In this case, it removes the brackets, and the result will be a list containing 1, 2 and 3."
   ]
  },
  {
   "cell_type": "markdown",
   "metadata": {},
   "source": [
    "The zip function can be used with as many arguments as possible. It will create tuples with the same number of items of arguments used. Thus, in this case, we have tuples of three items."
   ]
  },
  {
   "cell_type": "code",
   "execution_count": 69,
   "metadata": {
    "error": [
     {
      "ename": "KeyError",
      "evalue": "69",
      "output_type": "error",
      "traceback": [
       "\u001b[0;31m---------------------------------------------------------------------------\u001b[0m",
       "\u001b[0;31mKeyError\u001b[0m                                  Traceback (most recent call last)",
       "Cell \u001b[0;32mIn[70], line 1\u001b[0m\n\u001b[0;32m----> 1\u001b[0m json\u001b[38;5;241m.\u001b[39mdumps([typehandlerforuniqueobjects(\u001b[43mOut\u001b[49m\u001b[43m[\u001b[49m\u001b[38;5;241;43m69\u001b[39;49m\u001b[43m]\u001b[49m)])\n",
       "\u001b[0;31mKeyError\u001b[0m: 69"
      ]
     }
    ],
    "execution": {
     "iopub.execute_input": "2023-10-05T09:25:29.601139Z",
     "iopub.status.busy": "2023-10-05T09:25:29.600855Z",
     "iopub.status.idle": "2023-10-05T09:25:29.607252Z",
     "shell.execute_reply": "2023-10-05T09:25:29.606222Z"
    }
   },
   "outputs": [
    {
     "name": "stdout",
     "output_type": "stream",
     "text": [
      "[('tomato', 0.87, 1), ('sugar', 1.09, 2), ('sponges', 0.29, 3), ('juice', 1.89, 4), ('foil', 1.29, 5)]\n"
     ]
    }
   ],
   "source": [
    "items =  [\"tomato\", \"sugar\", \"sponges\", \"juice\", \"foil\"]\n",
    "prices = [0.87,      1.09,     0.29,      1.89,    1.29]\n",
    "item =   [1,            2,        3,         4,     5]\n",
    "\n",
    "\n",
    "print(list(zip(items, prices, item)))"
   ]
  },
  {
   "cell_type": "code",
   "execution_count": 71,
   "metadata": {
    "error": [
     {
      "ename": "KeyError",
      "evalue": "71",
      "output_type": "error",
      "traceback": [
       "\u001b[0;31m---------------------------------------------------------------------------\u001b[0m",
       "\u001b[0;31mKeyError\u001b[0m                                  Traceback (most recent call last)",
       "Cell \u001b[0;32mIn[72], line 1\u001b[0m\n\u001b[0;32m----> 1\u001b[0m json\u001b[38;5;241m.\u001b[39mdumps([typehandlerforuniqueobjects(\u001b[43mOut\u001b[49m\u001b[43m[\u001b[49m\u001b[38;5;241;43m71\u001b[39;49m\u001b[43m]\u001b[49m)])\n",
       "\u001b[0;31mKeyError\u001b[0m: 71"
      ]
     }
    ],
    "execution": {
     "iopub.execute_input": "2023-10-05T09:25:29.639605Z",
     "iopub.status.busy": "2023-10-05T09:25:29.639315Z",
     "iopub.status.idle": "2023-10-05T09:25:29.646297Z",
     "shell.execute_reply": "2023-10-05T09:25:29.645273Z"
    }
   },
   "outputs": [
    {
     "name": "stdout",
     "output_type": "stream",
     "text": [
      "[('tomato', 0.87), ('sugar', 1.09), ('sponges', 0.29), ('juice', 1.89), ('foil', 1.29)]\n",
      "[('tomato', 'sugar', 'sponges', 'juice', 'foil'), (0.87, 1.09, 0.29, 1.89, 1.29)]\n"
     ]
    }
   ],
   "source": [
    "items = [\"tomato\", \"sugar\", \"sponges\", \"juice\", \"foil\"]\n",
    "prices = [0.87,      1.09,     0.29,     1.89,    1.29]\n",
    "\n",
    "items_and_prices = zip(items, prices)  # We create a list of tuples.\n",
    "print(list(items_and_prices))\n",
    "\n",
    "items_and_prices = zip(items, prices)  # We create a list of tuples.\n",
    "# We reinstantiate it because once we use the list function into the zip object,\n",
    "# it changes its status.\n",
    "# We remove the square brackets, obtaining five tuples.\n",
    "print(list(zip(*items_and_prices)))\n",
    "# Subsequently, we zip all the five tuples, yielding tuples with five items each.\n"
   ]
  },
  {
   "cell_type": "markdown",
   "metadata": {},
   "source": [
    "Notably, dictionaries can also be unpacked following the same approach employed for zip files or iterables; the difference is that ** is used instead."
   ]
  },
  {
   "cell_type": "code",
   "execution_count": 73,
   "metadata": {
    "error": [
     {
      "ename": "KeyError",
      "evalue": "73",
      "output_type": "error",
      "traceback": [
       "\u001b[0;31m---------------------------------------------------------------------------\u001b[0m",
       "\u001b[0;31mKeyError\u001b[0m                                  Traceback (most recent call last)",
       "Cell \u001b[0;32mIn[74], line 1\u001b[0m\n\u001b[0;32m----> 1\u001b[0m json\u001b[38;5;241m.\u001b[39mdumps([typehandlerforuniqueobjects(\u001b[43mOut\u001b[49m\u001b[43m[\u001b[49m\u001b[38;5;241;43m73\u001b[39;49m\u001b[43m]\u001b[49m)])\n",
       "\u001b[0;31mKeyError\u001b[0m: 73"
      ]
     }
    ],
    "execution": {
     "iopub.execute_input": "2023-10-05T09:25:29.679111Z",
     "iopub.status.busy": "2023-10-05T09:25:29.678821Z",
     "iopub.status.idle": "2023-10-05T09:25:29.685021Z",
     "shell.execute_reply": "2023-10-05T09:25:29.684014Z"
    }
   },
   "outputs": [
    {
     "name": "stdout",
     "output_type": "stream",
     "text": [
      "{'A': 1, 'B': 2}\n",
      "{'A': 1, 'B': 2, 'C': 3, 'D': 4}\n"
     ]
    }
   ],
   "source": [
    "dict_1 = {'A': 1, 'B': 2}\n",
    "dict_2 = {'C': 3, 'D': 4}\n",
    "\n",
    "print({**dict_1})# ** removes the curly brackets, affording something like 'A' = 1 and 'B' = 2.\n",
    "\n",
    "# We can also unpack two dictionaries and merge them.\n",
    "\n",
    "print({**dict_1, **dict_2}) # We obtain something like 'A' = 1, 'B' = 2, 'C' = 3, 'D' = 4."
   ]
  },
  {
   "cell_type": "markdown",
   "metadata": {},
   "source": [
    "These operators can also be applied to functions, as will be demonstrated in the next lesson."
   ]
  },
  {
   "cell_type": "code",
   "execution_count": 75,
   "metadata": {
    "error": [
     {
      "ename": "KeyError",
      "evalue": "75",
      "output_type": "error",
      "traceback": [
       "\u001b[0;31m---------------------------------------------------------------------------\u001b[0m",
       "\u001b[0;31mKeyError\u001b[0m                                  Traceback (most recent call last)",
       "Cell \u001b[0;32mIn[76], line 1\u001b[0m\n\u001b[0;32m----> 1\u001b[0m json\u001b[38;5;241m.\u001b[39mdumps([typehandlerforuniqueobjects(\u001b[43mOut\u001b[49m\u001b[43m[\u001b[49m\u001b[38;5;241;43m75\u001b[39;49m\u001b[43m]\u001b[49m)])\n",
       "\u001b[0;31mKeyError\u001b[0m: 75"
      ]
     }
    ],
    "execution": {
     "iopub.execute_input": "2023-10-05T09:25:29.716644Z",
     "iopub.status.busy": "2023-10-05T09:25:29.716356Z",
     "iopub.status.idle": "2023-10-05T09:25:29.722762Z",
     "shell.execute_reply": "2023-10-05T09:25:29.721760Z"
    }
   },
   "outputs": [
    {
     "name": "stdout",
     "output_type": "stream",
     "text": [
      "(1, 2, 3)\n",
      "{'a': 4, 'b': 5, 'c': 6}\n"
     ]
    }
   ],
   "source": [
    "# * and ** can serve as the inputs for a function.\n",
    "\n",
    "def fun_dummy(*args, **kwargs): # args = arguments; kwargs = key word arguments\n",
    "    print(args) # args is now a tuple\n",
    "    print(kwargs) # kwargs is now a dictionary\n",
    "\n",
    "fun_dummy(1, 2, 3, a=4, b=5, c=6) \n",
    "# Anything without a keyword argument (by keyword we mean a, b, c) will be a tuple in the function.\n",
    "# Anything with a keyword argument will be included in a dictionary in the function."
   ]
  },
  {
   "cell_type": "markdown",
   "metadata": {},
   "source": [
    "### List comprehensions"
   ]
  },
  {
   "cell_type": "markdown",
   "metadata": {},
   "source": [
    "- List comprehension is a significantly more efficient approach for writing a For loop that generates or modifies a list.\n",
    "- It is suitable in cases where .append() is applied to a list inside a For loop or where a list is iterated over to modify each index item; otherwise, a For loop is preferred.\n",
    "- Complex For loops operating on a list, such as the BMI calculator, are not suitable for list comprehensions. They would be overly complex and difficult to read.\n",
    "- List comprehensions are written on a single line, and the syntax is as follows:"
   ]
  },
  {
   "cell_type": "code",
   "execution_count": 77,
   "metadata": {
    "execution": {
     "iopub.execute_input": "2023-10-05T09:25:29.754476Z",
     "iopub.status.busy": "2023-10-05T09:25:29.754188Z",
     "iopub.status.idle": "2023-10-05T09:25:29.758604Z",
     "shell.execute_reply": "2023-10-05T09:25:29.757621Z"
    }
   },
   "outputs": [],
   "source": [
    "# for item in iterable:\n",
    "#     do_something\n",
    "\n",
    "# [do_something for item in iterable]"
   ]
  },
  {
   "cell_type": "markdown",
   "metadata": {},
   "source": [
    "For example,"
   ]
  },
  {
   "cell_type": "code",
   "execution_count": 78,
   "metadata": {
    "error": [
     {
      "ename": "KeyError",
      "evalue": "78",
      "output_type": "error",
      "traceback": [
       "\u001b[0;31m---------------------------------------------------------------------------\u001b[0m",
       "\u001b[0;31mKeyError\u001b[0m                                  Traceback (most recent call last)",
       "Cell \u001b[0;32mIn[79], line 1\u001b[0m\n\u001b[0;32m----> 1\u001b[0m json\u001b[38;5;241m.\u001b[39mdumps([typehandlerforuniqueobjects(\u001b[43mOut\u001b[49m\u001b[43m[\u001b[49m\u001b[38;5;241;43m78\u001b[39;49m\u001b[43m]\u001b[49m)])\n",
       "\u001b[0;31mKeyError\u001b[0m: 78"
      ]
     }
    ],
    "execution": {
     "iopub.execute_input": "2023-10-05T09:25:29.762415Z",
     "iopub.status.busy": "2023-10-05T09:25:29.762129Z",
     "iopub.status.idle": "2023-10-05T09:25:29.768081Z",
     "shell.execute_reply": "2023-10-05T09:25:29.766984Z"
    }
   },
   "outputs": [
    {
     "name": "stdout",
     "output_type": "stream",
     "text": [
      "[]\n"
     ]
    }
   ],
   "source": [
    "squares = []\n",
    "\n",
    "for i in range(0):\n",
    "    squares.append(i**2)\n",
    "\n",
    "print(squares)"
   ]
  },
  {
   "cell_type": "markdown",
   "metadata": {},
   "source": [
    "becomes"
   ]
  },
  {
   "cell_type": "code",
   "execution_count": 80,
   "metadata": {
    "error": [
     {
      "ename": "KeyError",
      "evalue": "80",
      "output_type": "error",
      "traceback": [
       "\u001b[0;31m---------------------------------------------------------------------------\u001b[0m",
       "\u001b[0;31mKeyError\u001b[0m                                  Traceback (most recent call last)",
       "Cell \u001b[0;32mIn[81], line 1\u001b[0m\n\u001b[0;32m----> 1\u001b[0m json\u001b[38;5;241m.\u001b[39mdumps([typehandlerforuniqueobjects(\u001b[43mOut\u001b[49m\u001b[43m[\u001b[49m\u001b[38;5;241;43m80\u001b[39;49m\u001b[43m]\u001b[49m)])\n",
       "\u001b[0;31mKeyError\u001b[0m: 80"
      ]
     }
    ],
    "execution": {
     "iopub.execute_input": "2023-10-05T09:25:29.799911Z",
     "iopub.status.busy": "2023-10-05T09:25:29.799621Z",
     "iopub.status.idle": "2023-10-05T09:25:29.805268Z",
     "shell.execute_reply": "2023-10-05T09:25:29.804230Z"
    }
   },
   "outputs": [
    {
     "name": "stdout",
     "output_type": "stream",
     "text": [
      "[0, 1, 4, 9, 16, 25, 36, 49, 64, 81]\n"
     ]
    }
   ],
   "source": [
    "squares = [i**2 for i in range(10)]\n",
    "\n",
    "print(squares)"
   ]
  },
  {
   "cell_type": "markdown",
   "metadata": {},
   "source": [
    "#### List comprehensions using conditionals"
   ]
  },
  {
   "cell_type": "markdown",
   "metadata": {},
   "source": [
    "- Conditionals in list comprehensions are of two types.\n",
    "- When adding only an if statement, the conditional goes after the For statement.\n",
    "- When adding if/else statements, the conditional goes before the For statement."
   ]
  },
  {
   "cell_type": "markdown",
   "metadata": {},
   "source": [
    "For example,"
   ]
  },
  {
   "cell_type": "code",
   "execution_count": 82,
   "metadata": {
    "error": [
     {
      "ename": "KeyError",
      "evalue": "82",
      "output_type": "error",
      "traceback": [
       "\u001b[0;31m---------------------------------------------------------------------------\u001b[0m",
       "\u001b[0;31mKeyError\u001b[0m                                  Traceback (most recent call last)",
       "Cell \u001b[0;32mIn[83], line 1\u001b[0m\n\u001b[0;32m----> 1\u001b[0m json\u001b[38;5;241m.\u001b[39mdumps([typehandlerforuniqueobjects(\u001b[43mOut\u001b[49m\u001b[43m[\u001b[49m\u001b[38;5;241;43m82\u001b[39;49m\u001b[43m]\u001b[49m)])\n",
       "\u001b[0;31mKeyError\u001b[0m: 82"
      ]
     }
    ],
    "execution": {
     "iopub.execute_input": "2023-10-05T09:25:29.837120Z",
     "iopub.status.busy": "2023-10-05T09:25:29.836834Z",
     "iopub.status.idle": "2023-10-05T09:25:29.842854Z",
     "shell.execute_reply": "2023-10-05T09:25:29.841840Z"
    }
   },
   "outputs": [
    {
     "name": "stdout",
     "output_type": "stream",
     "text": [
      "[0, 9, 36, 81]\n"
     ]
    }
   ],
   "source": [
    "squared_threes = []\n",
    "\n",
    "for x in range(10):\n",
    "    if x%3 == 0:\n",
    "        squared_threes.append(x**2)\n",
    "\n",
    "print(squared_threes)"
   ]
  },
  {
   "cell_type": "markdown",
   "metadata": {},
   "source": [
    "becomes"
   ]
  },
  {
   "cell_type": "code",
   "execution_count": 84,
   "metadata": {
    "error": [
     {
      "ename": "KeyError",
      "evalue": "84",
      "output_type": "error",
      "traceback": [
       "\u001b[0;31m---------------------------------------------------------------------------\u001b[0m",
       "\u001b[0;31mKeyError\u001b[0m                                  Traceback (most recent call last)",
       "Cell \u001b[0;32mIn[85], line 1\u001b[0m\n\u001b[0;32m----> 1\u001b[0m json\u001b[38;5;241m.\u001b[39mdumps([typehandlerforuniqueobjects(\u001b[43mOut\u001b[49m\u001b[43m[\u001b[49m\u001b[38;5;241;43m84\u001b[39;49m\u001b[43m]\u001b[49m)])\n",
       "\u001b[0;31mKeyError\u001b[0m: 84"
      ]
     }
    ],
    "execution": {
     "iopub.execute_input": "2023-10-05T09:25:29.874821Z",
     "iopub.status.busy": "2023-10-05T09:25:29.874536Z",
     "iopub.status.idle": "2023-10-05T09:25:29.880331Z",
     "shell.execute_reply": "2023-10-05T09:25:29.879290Z"
    }
   },
   "outputs": [
    {
     "name": "stdout",
     "output_type": "stream",
     "text": [
      "[0, 9, 36, 81]\n"
     ]
    }
   ],
   "source": [
    "squared_threes = [x**2 for x in range(10) if x%3==0]\n",
    "\n",
    "print(squared_threes)"
   ]
  },
  {
   "cell_type": "markdown",
   "metadata": {},
   "source": [
    "If if/else is used,"
   ]
  },
  {
   "cell_type": "code",
   "execution_count": 86,
   "metadata": {
    "error": [
     {
      "ename": "KeyError",
      "evalue": "86",
      "output_type": "error",
      "traceback": [
       "\u001b[0;31m---------------------------------------------------------------------------\u001b[0m",
       "\u001b[0;31mKeyError\u001b[0m                                  Traceback (most recent call last)",
       "Cell \u001b[0;32mIn[87], line 1\u001b[0m\n\u001b[0;32m----> 1\u001b[0m json\u001b[38;5;241m.\u001b[39mdumps([typehandlerforuniqueobjects(\u001b[43mOut\u001b[49m\u001b[43m[\u001b[49m\u001b[38;5;241;43m86\u001b[39;49m\u001b[43m]\u001b[49m)])\n",
       "\u001b[0;31mKeyError\u001b[0m: 86"
      ]
     }
    ],
    "execution": {
     "iopub.execute_input": "2023-10-05T09:25:29.911774Z",
     "iopub.status.busy": "2023-10-05T09:25:29.911482Z",
     "iopub.status.idle": "2023-10-05T09:25:29.917799Z",
     "shell.execute_reply": "2023-10-05T09:25:29.916777Z"
    }
   },
   "outputs": [
    {
     "name": "stdout",
     "output_type": "stream",
     "text": [
      "[0, 1, 4, 27, 16, 25, 216, 49, 64, 729]\n"
     ]
    }
   ],
   "source": [
    "squares_and_cubes = []\n",
    "\n",
    "for x in range(10):\n",
    "    if x%3 == 0:\n",
    "        squares_and_cubes.append(x**3)\n",
    "    else:\n",
    "        squares_and_cubes.append(x**2)\n",
    "\n",
    "print(squares_and_cubes)"
   ]
  },
  {
   "cell_type": "markdown",
   "metadata": {},
   "source": [
    "becomes"
   ]
  },
  {
   "cell_type": "code",
   "execution_count": 88,
   "metadata": {
    "error": [
     {
      "ename": "KeyError",
      "evalue": "88",
      "output_type": "error",
      "traceback": [
       "\u001b[0;31m---------------------------------------------------------------------------\u001b[0m",
       "\u001b[0;31mKeyError\u001b[0m                                  Traceback (most recent call last)",
       "Cell \u001b[0;32mIn[89], line 1\u001b[0m\n\u001b[0;32m----> 1\u001b[0m json\u001b[38;5;241m.\u001b[39mdumps([typehandlerforuniqueobjects(\u001b[43mOut\u001b[49m\u001b[43m[\u001b[49m\u001b[38;5;241;43m88\u001b[39;49m\u001b[43m]\u001b[49m)])\n",
       "\u001b[0;31mKeyError\u001b[0m: 88"
      ]
     }
    ],
    "execution": {
     "iopub.execute_input": "2023-10-05T09:25:29.949974Z",
     "iopub.status.busy": "2023-10-05T09:25:29.949685Z",
     "iopub.status.idle": "2023-10-05T09:25:29.955566Z",
     "shell.execute_reply": "2023-10-05T09:25:29.954542Z"
    }
   },
   "outputs": [
    {
     "name": "stdout",
     "output_type": "stream",
     "text": [
      "[0, 1, 4, 27, 16, 25, 216, 49, 64, 729]\n"
     ]
    }
   ],
   "source": [
    "squares_and_cubes = [x**3 if x%3==0 else x**2 for x in range(10)]\n",
    "\n",
    "print(squares_and_cubes)"
   ]
  },
  {
   "cell_type": "markdown",
   "metadata": {},
   "source": [
    "### Dictionary comprehensions\n",
    "\n",
    "- In Python, dictionary comprehensions can also be employed to create a new dictionary rapidly and efficiently.\n",
    "- They are utilised as a method to create a new dictionary from another.\n",
    "- The logic is the same as that for list comprehensions; however, the syntax is different because of the structure of dictionaries."
   ]
  },
  {
   "cell_type": "markdown",
   "metadata": {},
   "source": [
    "For example,"
   ]
  },
  {
   "cell_type": "code",
   "execution_count": 90,
   "metadata": {
    "error": [
     {
      "ename": "KeyError",
      "evalue": "90",
      "output_type": "error",
      "traceback": [
       "\u001b[0;31m---------------------------------------------------------------------------\u001b[0m",
       "\u001b[0;31mKeyError\u001b[0m                                  Traceback (most recent call last)",
       "Cell \u001b[0;32mIn[91], line 1\u001b[0m\n\u001b[0;32m----> 1\u001b[0m json\u001b[38;5;241m.\u001b[39mdumps([typehandlerforuniqueobjects(\u001b[43mOut\u001b[49m\u001b[43m[\u001b[49m\u001b[38;5;241;43m90\u001b[39;49m\u001b[43m]\u001b[49m)])\n",
       "\u001b[0;31mKeyError\u001b[0m: 90"
      ]
     }
    ],
    "execution": {
     "iopub.execute_input": "2023-10-05T09:25:29.989329Z",
     "iopub.status.busy": "2023-10-05T09:25:29.989036Z",
     "iopub.status.idle": "2023-10-05T09:25:29.995309Z",
     "shell.execute_reply": "2023-10-05T09:25:29.994303Z"
    }
   },
   "outputs": [
    {
     "name": "stdout",
     "output_type": "stream",
     "text": [
      "{'First': 4, 'Second': 9, 'Third': 16, 'Fourth': 25, 'Fifth': 36}\n"
     ]
    }
   ],
   "source": [
    "numbers_dict = {\"First\": 2, \"Second\": 3, \"Third\": 4, \"Fourth\": 5, \"Fifth\": 6}\n",
    "\n",
    "for key, value in numbers_dict.items():\n",
    "    numbers_dict[key] = value**2\n",
    "    \n",
    "print(numbers_dict)"
   ]
  },
  {
   "cell_type": "markdown",
   "metadata": {},
   "source": [
    "becomes"
   ]
  },
  {
   "cell_type": "code",
   "execution_count": 92,
   "metadata": {
    "error": [
     {
      "ename": "KeyError",
      "evalue": "92",
      "output_type": "error",
      "traceback": [
       "\u001b[0;31m---------------------------------------------------------------------------\u001b[0m",
       "\u001b[0;31mKeyError\u001b[0m                                  Traceback (most recent call last)",
       "Cell \u001b[0;32mIn[93], line 1\u001b[0m\n\u001b[0;32m----> 1\u001b[0m json\u001b[38;5;241m.\u001b[39mdumps([typehandlerforuniqueobjects(\u001b[43mOut\u001b[49m\u001b[43m[\u001b[49m\u001b[38;5;241;43m92\u001b[39;49m\u001b[43m]\u001b[49m)])\n",
       "\u001b[0;31mKeyError\u001b[0m: 92"
      ]
     }
    ],
    "execution": {
     "iopub.execute_input": "2023-10-05T09:25:30.027443Z",
     "iopub.status.busy": "2023-10-05T09:25:30.027152Z",
     "iopub.status.idle": "2023-10-05T09:25:30.033411Z",
     "shell.execute_reply": "2023-10-05T09:25:30.032386Z"
    }
   },
   "outputs": [
    {
     "name": "stdout",
     "output_type": "stream",
     "text": [
      "{'First': 4, 'Second': 9, 'Third': 16, 'Fourth': 25, 'Fifth': 36}\n"
     ]
    }
   ],
   "source": [
    "numbers_dict = {\"First\": 2, \"Second\": 3, \"Third\": 4, \"Fourth\": 5, \"Fifth\": 6}\n",
    "\n",
    "squared_dict = {key:value**2 for key, value in numbers_dict.items()}\n",
    "print(squared_dict)"
   ]
  },
  {
   "cell_type": "markdown",
   "metadata": {},
   "source": [
    "Conditionals can also be introduced, as follows:"
   ]
  },
  {
   "cell_type": "code",
   "execution_count": 94,
   "metadata": {
    "error": [
     {
      "ename": "KeyError",
      "evalue": "94",
      "output_type": "error",
      "traceback": [
       "\u001b[0;31m---------------------------------------------------------------------------\u001b[0m",
       "\u001b[0;31mKeyError\u001b[0m                                  Traceback (most recent call last)",
       "Cell \u001b[0;32mIn[95], line 1\u001b[0m\n\u001b[0;32m----> 1\u001b[0m json\u001b[38;5;241m.\u001b[39mdumps([typehandlerforuniqueobjects(\u001b[43mOut\u001b[49m\u001b[43m[\u001b[49m\u001b[38;5;241;43m94\u001b[39;49m\u001b[43m]\u001b[49m)])\n",
       "\u001b[0;31mKeyError\u001b[0m: 94"
      ]
     }
    ],
    "execution": {
     "iopub.execute_input": "2023-10-05T09:25:30.064765Z",
     "iopub.status.busy": "2023-10-05T09:25:30.064475Z",
     "iopub.status.idle": "2023-10-05T09:25:30.070657Z",
     "shell.execute_reply": "2023-10-05T09:25:30.069706Z"
    }
   },
   "outputs": [
    {
     "name": "stdout",
     "output_type": "stream",
     "text": [
      "{'First': 4, 'Second': 3, 'Third': 16, 'Fourth': 5, 'Fifth': 36}\n"
     ]
    }
   ],
   "source": [
    "numbers_dict = {\"First\": 2, \"Second\": 3, \"Third\": 4, \"Fourth\": 5, \"Fifth\": 6}\n",
    "\n",
    "for key, value in numbers_dict.items():\n",
    "    if numbers_dict[key]%2 == 0:\n",
    "        numbers_dict[key] = value**2\n",
    "\n",
    "print(numbers_dict)"
   ]
  },
  {
   "cell_type": "markdown",
   "metadata": {},
   "source": [
    "becomes\n"
   ]
  },
  {
   "cell_type": "code",
   "execution_count": 96,
   "metadata": {
    "error": [
     {
      "ename": "KeyError",
      "evalue": "96",
      "output_type": "error",
      "traceback": [
       "\u001b[0;31m---------------------------------------------------------------------------\u001b[0m",
       "\u001b[0;31mKeyError\u001b[0m                                  Traceback (most recent call last)",
       "Cell \u001b[0;32mIn[97], line 1\u001b[0m\n\u001b[0;32m----> 1\u001b[0m json\u001b[38;5;241m.\u001b[39mdumps([typehandlerforuniqueobjects(\u001b[43mOut\u001b[49m\u001b[43m[\u001b[49m\u001b[38;5;241;43m96\u001b[39;49m\u001b[43m]\u001b[49m)])\n",
       "\u001b[0;31mKeyError\u001b[0m: 96"
      ]
     }
    ],
    "execution": {
     "iopub.execute_input": "2023-10-05T09:25:30.101747Z",
     "iopub.status.busy": "2023-10-05T09:25:30.101457Z",
     "iopub.status.idle": "2023-10-05T09:25:30.107531Z",
     "shell.execute_reply": "2023-10-05T09:25:30.106585Z"
    }
   },
   "outputs": [
    {
     "name": "stdout",
     "output_type": "stream",
     "text": [
      "{'First': 4, 'Second': 3, 'Third': 16, 'Fourth': 5, 'Fifth': 36}\n"
     ]
    }
   ],
   "source": [
    "numbers_dict = {\"First\": 2, \"Second\": 3, \"Third\": 4, \"Fourth\": 5, \"Fifth\": 6}\n",
    "\n",
    "squared_dict = {key:value**2 if value%2==0 else value for key,value in numbers_dict.items()}\n",
    "print(squared_dict)"
   ]
  },
  {
   "cell_type": "markdown",
   "metadata": {},
   "source": [
    "Moreover, new dictionaries can be built from old dictionaries using conditionals:"
   ]
  },
  {
   "cell_type": "code",
   "execution_count": 98,
   "metadata": {
    "error": [
     {
      "ename": "KeyError",
      "evalue": "98",
      "output_type": "error",
      "traceback": [
       "\u001b[0;31m---------------------------------------------------------------------------\u001b[0m",
       "\u001b[0;31mKeyError\u001b[0m                                  Traceback (most recent call last)",
       "Cell \u001b[0;32mIn[99], line 1\u001b[0m\n\u001b[0;32m----> 1\u001b[0m json\u001b[38;5;241m.\u001b[39mdumps([typehandlerforuniqueobjects(\u001b[43mOut\u001b[49m\u001b[43m[\u001b[49m\u001b[38;5;241;43m98\u001b[39;49m\u001b[43m]\u001b[49m)])\n",
       "\u001b[0;31mKeyError\u001b[0m: 98"
      ]
     }
    ],
    "execution": {
     "iopub.execute_input": "2023-10-05T09:25:30.139057Z",
     "iopub.status.busy": "2023-10-05T09:25:30.138768Z",
     "iopub.status.idle": "2023-10-05T09:25:30.144900Z",
     "shell.execute_reply": "2023-10-05T09:25:30.143930Z"
    }
   },
   "outputs": [
    {
     "name": "stdout",
     "output_type": "stream",
     "text": [
      "{'First': 4, 'Third': 16, 'Fifth': 36}\n"
     ]
    }
   ],
   "source": [
    "numbers_dict = {\"First\": 2, \"Second\": 3, \"Third\": 4, \"Fourth\": 5, \"Fifth\": 6}\n",
    "\n",
    "new_squared_dict = {key:value**2 for key,value in numbers_dict.items() if value%2==0}\n",
    "print(new_squared_dict)"
   ]
  },
  {
   "cell_type": "markdown",
   "metadata": {},
   "source": [
    "#### A word of caution\n",
    "- Comprehensions with conditionals can rapidly become overly complicated and unreadable, thereby providing you a false sense of security in your skill as a programmer.\n",
    "- Oftentimes, a For loop statement is cleaner and more readable (for both you and others) than a complicated list comprehension.\n",
    "- Priority should always be accorded to readability, rather than completing as many operations as humanly possible on a line."
   ]
  },
  {
   "cell_type": "markdown",
   "metadata": {},
   "source": [
    "### Nested For loops"
   ]
  },
  {
   "cell_type": "markdown",
   "metadata": {},
   "source": [
    "<p align=center><img src=images/nested_loop.png width=500></p>"
   ]
  },
  {
   "cell_type": "markdown",
   "metadata": {},
   "source": [
    "- For loops can be nested, i.e. used within other For loops.\n",
    "- The control flow in nested For loops is as follows: the outer loop performs all iterations of the inner loop on its first item before moving to the next iteration and repeating.\n",
    "- There is also a list comprehension equivalent of a nested For loop.\n",
    "- For loop nesting can be applied indefinitely (i.e. several levels deep); however, beyond a single nested structure, it becomes complicated to comprehend.\n",
    "- Nested For loops should be avoided where possible because the deeper the levels, the more inefficient the code.\n",
    "- However, there are some legitimate use cases for them, e.g. iteration over multiple lists."
   ]
  },
  {
   "cell_type": "code",
   "execution_count": 100,
   "metadata": {
    "error": [
     {
      "ename": "KeyError",
      "evalue": "100",
      "output_type": "error",
      "traceback": [
       "\u001b[0;31m---------------------------------------------------------------------------\u001b[0m",
       "\u001b[0;31mKeyError\u001b[0m                                  Traceback (most recent call last)",
       "Cell \u001b[0;32mIn[101], line 1\u001b[0m\n\u001b[0;32m----> 1\u001b[0m json\u001b[38;5;241m.\u001b[39mdumps([typehandlerforuniqueobjects(\u001b[43mOut\u001b[49m\u001b[43m[\u001b[49m\u001b[38;5;241;43m100\u001b[39;49m\u001b[43m]\u001b[49m)])\n",
       "\u001b[0;31mKeyError\u001b[0m: 100"
      ]
     }
    ],
    "execution": {
     "iopub.execute_input": "2023-10-05T09:25:30.176375Z",
     "iopub.status.busy": "2023-10-05T09:25:30.176085Z",
     "iopub.status.idle": "2023-10-05T09:25:30.182168Z",
     "shell.execute_reply": "2023-10-05T09:25:30.181174Z"
    }
   },
   "outputs": [
    {
     "name": "stdout",
     "output_type": "stream",
     "text": [
      "Outer Loop Operation: 1\n",
      "Inner Loop Operation: 1\n",
      "Inner Loop Operation: 2\n",
      "Inner Loop Operation: 3\n",
      "\n",
      "Outer Loop Operation: 2\n",
      "Inner Loop Operation: 1\n",
      "Inner Loop Operation: 2\n",
      "Inner Loop Operation: 3\n",
      "\n",
      "Outer Loop Operation: 3\n",
      "Inner Loop Operation: 1\n",
      "Inner Loop Operation: 2\n",
      "Inner Loop Operation: 3\n",
      "\n"
     ]
    }
   ],
   "source": [
    "# basic syntax: inner loop operations are performed for each outer loop operation\n",
    "for i in range(1,4):\n",
    "    print(\"Outer Loop Operation: {}\".format(i))\n",
    "    \n",
    "    for j in range(1,4):\n",
    "        print(\"Inner Loop Operation: {}\".format(j))\n",
    "    \n",
    "    print() # adds new line"
   ]
  },
  {
   "cell_type": "code",
   "execution_count": 102,
   "metadata": {
    "error": [
     {
      "ename": "KeyError",
      "evalue": "102",
      "output_type": "error",
      "traceback": [
       "\u001b[0;31m---------------------------------------------------------------------------\u001b[0m",
       "\u001b[0;31mKeyError\u001b[0m                                  Traceback (most recent call last)",
       "Cell \u001b[0;32mIn[103], line 1\u001b[0m\n\u001b[0;32m----> 1\u001b[0m json\u001b[38;5;241m.\u001b[39mdumps([typehandlerforuniqueobjects(\u001b[43mOut\u001b[49m\u001b[43m[\u001b[49m\u001b[38;5;241;43m102\u001b[39;49m\u001b[43m]\u001b[49m)])\n",
       "\u001b[0;31mKeyError\u001b[0m: 102"
      ]
     }
    ],
    "execution": {
     "iopub.execute_input": "2023-10-05T09:25:30.213450Z",
     "iopub.status.busy": "2023-10-05T09:25:30.213160Z",
     "iopub.status.idle": "2023-10-05T09:25:30.218947Z",
     "shell.execute_reply": "2023-10-05T09:25:30.218003Z"
    }
   },
   "outputs": [
    {
     "name": "stdout",
     "output_type": "stream",
     "text": [
      "[2, 4, 8, 3, 9, 27, 4, 16, 64]\n"
     ]
    }
   ],
   "source": [
    "# We perform operations using both counters.\n",
    "mylist = []\n",
    "\n",
    "for x in [2,3,4]:\n",
    "    for y in [1,2,3]:\n",
    "        mylist.append(x**y)\n",
    "\n",
    "print(mylist)"
   ]
  },
  {
   "cell_type": "code",
   "execution_count": 104,
   "metadata": {
    "execution": {
     "iopub.execute_input": "2023-10-05T09:25:30.250180Z",
     "iopub.status.busy": "2023-10-05T09:25:30.249887Z",
     "iopub.status.idle": "2023-10-05T09:25:30.256912Z",
     "shell.execute_reply": "2023-10-05T09:25:30.255988Z"
    },
    "type_information": "[{\"type\": \"<class 'list'>\", \"name\": \"list\", \"module\": \"builtins\", \"size\": 184, \"data\": [{\"type\": \"<class 'int'>\", \"name\": \"int\", \"module\": \"builtins\", \"size\": 28}, {\"type\": \"<class 'int'>\", \"name\": \"int\", \"module\": \"builtins\", \"size\": 28}, {\"type\": \"<class 'int'>\", \"name\": \"int\", \"module\": \"builtins\", \"size\": 28}, {\"type\": \"<class 'int'>\", \"name\": \"int\", \"module\": \"builtins\", \"size\": 28}, {\"type\": \"<class 'int'>\", \"name\": \"int\", \"module\": \"builtins\", \"size\": 28}, {\"type\": \"<class 'int'>\", \"name\": \"int\", \"module\": \"builtins\", \"size\": 28}, {\"type\": \"<class 'int'>\", \"name\": \"int\", \"module\": \"builtins\", \"size\": 28}, {\"type\": \"<class 'int'>\", \"name\": \"int\", \"module\": \"builtins\", \"size\": 28}, {\"type\": \"<class 'int'>\", \"name\": \"int\", \"module\": \"builtins\", \"size\": 28}]}]"
   },
   "outputs": [
    {
     "data": {
      "text/plain": [
       "[2, 4, 8, 3, 9, 27, 4, 16, 64]"
      ]
     },
     "execution_count": 104,
     "metadata": {},
     "output_type": "execute_result"
    }
   ],
   "source": [
    "# list comprehension syntax: operation first, followed by both For statements\n",
    "[x**y for x in [2,3,4] for y in [1,2,3]]"
   ]
  },
  {
   "cell_type": "code",
   "execution_count": null,
   "metadata": {},
   "outputs": [],
   "source": []
  },
  {
   "cell_type": "markdown",
   "metadata": {},
   "source": [
    "## Conclusion\n",
    ">Admittedly, this was a heavy lesson. Please always refer to this notebook when you require clarification or some forgotten information.\n",
    "\n",
    "At this point, you should have a fair understanding of\n",
    "\n",
    "- the concept of iterations, both definite and indefinite.\n",
    "- while and for loops.\n",
    "- the difference between iterating over items and iterating over indices.\n",
    "- how to use conditionals in a For loop.\n",
    "- tuple unpacking and its applications.\n",
    "- the uses of the pass, break and continue keywords.\n",
    "- how to use the zip() and enumerate() functions.\n",
    "- how and when to use list comprehensions.\n",
    "\n",
    "\n",
    "## Further Reading\n",
    "- While statements: https://docs.python.org/3.8/reference/compound_stmts.html#while\n",
    "- Everything you need to know regarding For loops is contained in this notebook. However, you can refer to the book 'Learning Python' by Mark Lutz. Note that it is a reference material with over 1000 pages and a whole chapter on 'for' loops. A pdf is available here: https://cfm.ehu.es/ricardo/docs/python/Learning_Python.pdf"
   ]
  }
 ],
 "metadata": {
  "interpreter": {
   "hash": "569d6b7e9215e11aba41c6454007e5c1b78bad7df09dab765d8cf00362c40f03"
  },
  "kernelspec": {
   "display_name": "Python 3.9.1 64-bit ('base': conda)",
   "name": "python3"
  },
  "language_info": {
   "codemirror_mode": {
    "name": "ipython",
    "version": 3
   },
   "file_extension": ".py",
   "mimetype": "text/x-python",
   "name": "python",
   "nbconvert_exporter": "python",
   "pygments_lexer": "ipython3",
   "version": "3.8.17"
  }
 },
 "nbformat": 4,
 "nbformat_minor": 2
}
