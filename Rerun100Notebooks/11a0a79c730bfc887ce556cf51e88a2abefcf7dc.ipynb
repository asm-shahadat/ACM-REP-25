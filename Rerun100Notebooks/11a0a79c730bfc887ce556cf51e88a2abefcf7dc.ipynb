{
 "cells": [
  {
   "cell_type": "code",
   "execution_count": 1,
   "metadata": {
    "collapsed": false
   },
   "outputs": [],
   "source": [
    "import numpy as np\n",
    "from sklearn.cluster import MeanShift \n",
    "from sklearn.datasets.samples_generator import make_blobs\n",
    "import matplotlib.pyplot as plt"
   ]
  },
  {
   "cell_type": "code",
   "execution_count": 2,
   "metadata": {
    "collapsed": true
   },
   "outputs": [],
   "source": [
    "centers=[[1,1],[5,5]]"
   ]
  },
  {
   "cell_type": "code",
   "execution_count": 3,
   "metadata": {
    "collapsed": true
   },
   "outputs": [],
   "source": [
    "X, _ = make_blobs(n_samples=200, centers=centers, cluster_std=1)"
   ]
  },
  {
   "cell_type": "code",
   "execution_count": 4,
   "metadata": {
    "collapsed": false
   },
   "outputs": [
    {
     "data": {
      "image/png": "[encoded data removed]",
      "text/plain": [
       "<Figure size 432x288 with 1 Axes>"
      ]
     },
     "metadata": {
      "needs_background": "light"
     },
     "output_type": "display_data"
    }
   ],
   "source": [
    "plt.scatter(X[:,0],X[:,1])\n",
    "plt.show()"
   ]
  },
  {
   "cell_type": "code",
   "execution_count": 5,
   "metadata": {
    "collapsed": false
   },
   "outputs": [],
   "source": [
    "ms=MeanShift()\n",
    "ms.fit(X)\n",
    "labels = ms.labels_\n",
    "cluster_centers= ms.cluster_centers_"
   ]
  },
  {
   "cell_type": "code",
   "execution_count": 6,
   "metadata": {
    "collapsed": false
   },
   "outputs": [
    {
     "name": "stdout",
     "output_type": "stream",
     "text": [
      "Number of clusters: 2\n"
     ]
    }
   ],
   "source": [
    "n_clusters_=len(np.unique(labels))\n",
    "print(\"Number of clusters:\", n_clusters_)"
   ]
  },
  {
   "cell_type": "code",
   "execution_count": 7,
   "metadata": {
    "collapsed": false
   },
   "outputs": [
    {
     "name": "stdout",
     "output_type": "stream",
     "text": [
      "['r.', 'g.', 'b.', 'c.', 'k.', 'y.', 'm.', 'r.', 'g.', 'b.', 'c.', 'k.', 'y.', 'm.', 'r.', 'g.', 'b.', 'c.', 'k.', 'y.', 'm.', 'r.', 'g.', 'b.', 'c.', 'k.', 'y.', 'm.', 'r.', 'g.', 'b.', 'c.', 'k.', 'y.', 'm.', 'r.', 'g.', 'b.', 'c.', 'k.', 'y.', 'm.', 'r.', 'g.', 'b.', 'c.', 'k.', 'y.', 'm.', 'r.', 'g.', 'b.', 'c.', 'k.', 'y.', 'm.', 'r.', 'g.', 'b.', 'c.', 'k.', 'y.', 'm.', 'r.', 'g.', 'b.', 'c.', 'k.', 'y.', 'm.']\n",
      "[0 0 1 1 0 1 0 1 0 1 0 0 0 1 0 1 1 0 0 0 0 1 1 1 0 1 1 1 1 1 1 1 1 0 1 1 1\n",
      " 0 0 0 0 1 0 0 1 0 0 1 1 0 0 1 0 1 1 1 0 0 0 0 1 1 1 0 0 0 1 0 0 0 1 1 1 0\n",
      " 1 0 0 1 0 0 1 0 1 1 0 0 0 0 0 0 1 0 1 0 1 1 1 0 0 0 1 1 1 1 1 1 1 0 1 0 0\n",
      " 0 0 0 1 1 0 0 0 0 0 1 1 1 1 1 0 1 0 0 1 0 0 0 0 0 0 0 1 1 1 0 0 1 1 1 1 1\n",
      " 0 1 1 1 1 0 0 1 0 1 1 1 0 1 1 0 1 0 0 1 1 0 0 1 0 0 1 1 1 0 1 0 1 0 1 0 0\n",
      " 0 1 0 1 1 1 1 1 1 0 0 0 0 1 0]\n"
     ]
    }
   ],
   "source": [
    "colors=10*['r.','g.','b.','c.','k.','y.','m.']\n",
    "print(colors)\n",
    "print(labels)"
   ]
  },
  {
   "cell_type": "code",
   "execution_count": 8,
   "metadata": {
    "collapsed": false
   },
   "outputs": [
    {
     "data": {
      "image/png": "[encoded data removed]",
      "text/plain": [
       "<Figure size 432x288 with 1 Axes>"
      ]
     },
     "metadata": {
      "needs_background": "light"
     },
     "output_type": "display_data"
    }
   ],
   "source": [
    "for i in range(len(X)):\n",
    "    plt.plot(X[i][0],X[i][1], colors[labels[i]],markersize=10)\n",
    "\n",
    "plt.scatter(cluster_centers[:,0], cluster_centers[:,1], marker=\"x\", s=150, linewidths=5, zorder=10)\n",
    "plt.show()"
   ]
  },
  {
   "cell_type": "code",
   "execution_count": 9,
   "metadata": {
    "collapsed": true
   },
   "outputs": [],
   "source": []
  }
 ],
 "metadata": {
  "anaconda-cloud": {},
  "kernelspec": {
   "display_name": "Python [default]",
   "language": "python",
   "name": "python3"
  },
  "language_info": {
   "codemirror_mode": {
    "name": "ipython",
    "version": 3
   },
   "file_extension": ".py",
   "mimetype": "text/x-python",
   "name": "python",
   "nbconvert_exporter": "python",
   "pygments_lexer": "ipython3",
   "version": "3.5.2"
  }
 },
 "nbformat": 4,
 "nbformat_minor": 1
}
