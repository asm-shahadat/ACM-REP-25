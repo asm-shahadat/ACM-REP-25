{
 "cells": [
  {
   "cell_type": "markdown",
   "id": "792b4d9a",
   "metadata": {},
   "source": [
    "# Numpy "
   ]
  },
  {
   "cell_type": "code",
   "execution_count": null,
   "id": "71d7f231",
   "metadata": {},
   "outputs": [],
   "source": []
  },
  {
   "cell_type": "raw",
   "id": "a3417ee2",
   "metadata": {},
   "source": [
    "import numpy as np                      #For importing numy lib\n",
    "arr = np.array(list)                    #for creation of array using list\n",
    "arr = np.arange(0,10,2)                 #arange methood(start,end,step)\n",
    "arr = np.linspace(0,10,100)             #linspace methood(start,end,num) \n",
    "arr = np.zeros((3,4))                   #zeros methood(nor,noc) use 2 brackets\n",
    "arr = np.ones((3,4))                    #Ones Methhod(nor,noc) use 2 brackets\n",
    "arr = np.eye(5)                         #eye methood(single input) for identity matrix Creation\n",
    "arr = np.random.rand(4)                 #rand methood(single num bcoz 1d arry creation)\n",
    "arr = np.random.rand(4,4)               #rand methood(nor,noc)  coz 2d array creation\n",
    "arr = np.random.randn(2)                #randn Methood(single num coz 1d array Creation) ND\n",
    "arr = np.random.randn(4,3)              #randn Methood(nor,noc) 2d array creation        ND\n",
    "arr = np.random.randint(0,50,10)        #randint Methood(low,high,num)\n"
   ]
  },
  {
   "cell_type": "raw",
   "id": "efa082ad",
   "metadata": {},
   "source": [
    "arr2 = arr.reshape(5,2)                 #arrname.reshape(nor,noc)      \n",
    "arr2.max()                              #arrname.max() gives max element in arr\n",
    "arr2.min()                              #arrname.min() gives min element in arr\n",
    "arr2.argmax()                           #arrname.argmax() gives the index where max element in arr \n",
    "arr2.argmin()                           #arrname.argmin() gives the index where min element in arr\n",
    "arr2.shape                              #arrname.shape Gives shape of array\n",
    "arr2.dtype                              #arrname.dtype Gives datatype of array  \n",
    "arr2 = arr.copy()                       #arrname.copy() for copying array\n"
   ]
  },
  {
   "cell_type": "raw",
   "id": "bde06c1d",
   "metadata": {},
   "source": [
    "arr[0,2]                                #arr[which row,which column]\n",
    "arr[0]                                  #arr[which row] for whole row\n",
    "arr[0:2,1:]                             #for sectional selection\n",
    "a = arr>5                               #return boolean value\n",
    "arr2 =arr[arr>5]                        #return value greater than 5"
   ]
  },
  {
   "cell_type": "raw",
   "id": "564f52df",
   "metadata": {},
   "source": [
    "np.sqrt(arr)                            #give square root of array\n",
    "np.exp(arr)                             #give exponant of array\n",
    "np.sin(arr)                             #give sin value of array\n",
    "np.sum(arr)                             #give sum of array\n",
    "np.mean(arr)                            #give mean of array\n",
    "np.std(arr)                             #give std of array"
   ]
  },
  {
   "cell_type": "code",
   "execution_count": 2,
   "id": "8958efdd",
   "metadata": {
    "execution": {
     "iopub.execute_input": "2023-10-05T18:57:28.037702Z",
     "iopub.status.busy": "2023-10-05T18:57:28.037407Z",
     "iopub.status.idle": "2023-10-05T18:57:28.042420Z",
     "shell.execute_reply": "2023-10-05T18:57:28.041313Z"
    }
   },
   "outputs": [],
   "source": [
    "list = [1,2,3,4]\n",
    "list1 =[[1,2,3,4],[5,6,7,8]]"
   ]
  },
  {
   "cell_type": "code",
   "execution_count": 3,
   "id": "a81fe0d1",
   "metadata": {
    "execution": {
     "iopub.execute_input": "2023-10-05T18:57:28.046218Z",
     "iopub.status.busy": "2023-10-05T18:57:28.045930Z",
     "iopub.status.idle": "2023-10-05T18:57:28.121322Z",
     "shell.execute_reply": "2023-10-05T18:57:28.120271Z"
    }
   },
   "outputs": [],
   "source": [
    "import numpy as np                      #For importing numy lib"
   ]
  },
  {
   "cell_type": "code",
   "execution_count": 4,
   "id": "62ee5c02",
   "metadata": {
    "error": [
     {
      "ename": "KeyError",
      "evalue": "5",
      "output_type": "error",
      "traceback": [
       "\u001b[0;31m---------------------------------------------------------------------------\u001b[0m",
       "\u001b[0;31mKeyError\u001b[0m                                  Traceback (most recent call last)",
       "Cell \u001b[0;32mIn[5], line 1\u001b[0m\n\u001b[0;32m----> 1\u001b[0m json\u001b[38;5;241m.\u001b[39mdumps([typehandlerforuniqueobjects(\u001b[43mOut\u001b[49m\u001b[43m[\u001b[49m\u001b[38;5;241;43m5\u001b[39;49m\u001b[43m]\u001b[49m)])\n",
       "\u001b[0;31mKeyError\u001b[0m: 5"
      ]
     }
    ],
    "execution": {
     "iopub.execute_input": "2023-10-05T18:57:28.125281Z",
     "iopub.status.busy": "2023-10-05T18:57:28.124518Z",
     "iopub.status.idle": "2023-10-05T18:57:28.134323Z",
     "shell.execute_reply": "2023-10-05T18:57:28.133392Z"
    }
   },
   "outputs": [
    {
     "data": {
      "text/plain": [
       "array([1, 2, 3, 4])"
      ]
     },
     "execution_count": 4,
     "metadata": {},
     "output_type": "execute_result"
    }
   ],
   "source": [
    "np.array(list)                          #for creation of array "
   ]
  },
  {
   "cell_type": "code",
   "execution_count": 6,
   "id": "1a3eecf6",
   "metadata": {
    "error": [
     {
      "ename": "KeyError",
      "evalue": "7",
      "output_type": "error",
      "traceback": [
       "\u001b[0;31m---------------------------------------------------------------------------\u001b[0m",
       "\u001b[0;31mKeyError\u001b[0m                                  Traceback (most recent call last)",
       "Cell \u001b[0;32mIn[7], line 1\u001b[0m\n\u001b[0;32m----> 1\u001b[0m json\u001b[38;5;241m.\u001b[39mdumps([typehandlerforuniqueobjects(\u001b[43mOut\u001b[49m\u001b[43m[\u001b[49m\u001b[38;5;241;43m7\u001b[39;49m\u001b[43m]\u001b[49m)])\n",
       "\u001b[0;31mKeyError\u001b[0m: 7"
      ]
     }
    ],
    "execution": {
     "iopub.execute_input": "2023-10-05T18:57:28.511267Z",
     "iopub.status.busy": "2023-10-05T18:57:28.510961Z",
     "iopub.status.idle": "2023-10-05T18:57:28.517668Z",
     "shell.execute_reply": "2023-10-05T18:57:28.516638Z"
    }
   },
   "outputs": [
    {
     "data": {
      "text/plain": [
       "array([[1, 2, 3, 4],\n",
       "       [5, 6, 7, 8]])"
      ]
     },
     "execution_count": 6,
     "metadata": {},
     "output_type": "execute_result"
    }
   ],
   "source": [
    "np.array(list1)"
   ]
  },
  {
   "cell_type": "markdown",
   "id": "eee49e91",
   "metadata": {},
   "source": [
    " **<span style='color:green'> This 2 brackets indicates that it is 2d array </span>**"
   ]
  },
  {
   "cell_type": "markdown",
   "id": "ce23a641",
   "metadata": {},
   "source": [
    "## **<span style='color:blue'> MORE METHOODS FOR ARRAY CREATION </span>**"
   ]
  },
  {
   "cell_type": "code",
   "execution_count": 8,
   "id": "1319e924",
   "metadata": {
    "error": [
     {
      "ename": "KeyError",
      "evalue": "9",
      "output_type": "error",
      "traceback": [
       "\u001b[0;31m---------------------------------------------------------------------------\u001b[0m",
       "\u001b[0;31mKeyError\u001b[0m                                  Traceback (most recent call last)",
       "Cell \u001b[0;32mIn[9], line 1\u001b[0m\n\u001b[0;32m----> 1\u001b[0m json\u001b[38;5;241m.\u001b[39mdumps([typehandlerforuniqueobjects(\u001b[43mOut\u001b[49m\u001b[43m[\u001b[49m\u001b[38;5;241;43m9\u001b[39;49m\u001b[43m]\u001b[49m)])\n",
       "\u001b[0;31mKeyError\u001b[0m: 9"
      ]
     }
    ],
    "execution": {
     "iopub.execute_input": "2023-10-05T18:57:28.550069Z",
     "iopub.status.busy": "2023-10-05T18:57:28.549770Z",
     "iopub.status.idle": "2023-10-05T18:57:28.556163Z",
     "shell.execute_reply": "2023-10-05T18:57:28.555234Z"
    }
   },
   "outputs": [
    {
     "data": {
      "text/plain": [
       "array([0, 2, 4, 6, 8])"
      ]
     },
     "execution_count": 8,
     "metadata": {},
     "output_type": "execute_result"
    }
   ],
   "source": [
    "arr = np.arange(0,10,2)                     #arange methood(start,end,step)\n",
    "arr"
   ]
  },
  {
   "cell_type": "code",
   "execution_count": 10,
   "id": "8a2139de",
   "metadata": {
    "error": [
     {
      "ename": "KeyError",
      "evalue": "11",
      "output_type": "error",
      "traceback": [
       "\u001b[0;31m---------------------------------------------------------------------------\u001b[0m",
       "\u001b[0;31mKeyError\u001b[0m                                  Traceback (most recent call last)",
       "Cell \u001b[0;32mIn[11], line 1\u001b[0m\n\u001b[0;32m----> 1\u001b[0m json\u001b[38;5;241m.\u001b[39mdumps([typehandlerforuniqueobjects(\u001b[43mOut\u001b[49m\u001b[43m[\u001b[49m\u001b[38;5;241;43m11\u001b[39;49m\u001b[43m]\u001b[49m)])\n",
       "\u001b[0;31mKeyError\u001b[0m: 11"
      ]
     }
    ],
    "execution": {
     "iopub.execute_input": "2023-10-05T18:57:28.587511Z",
     "iopub.status.busy": "2023-10-05T18:57:28.587212Z",
     "iopub.status.idle": "2023-10-05T18:57:28.594730Z",
     "shell.execute_reply": "2023-10-05T18:57:28.593814Z"
    }
   },
   "outputs": [
    {
     "data": {
      "text/plain": [
       "array([ 0.        ,  0.1010101 ,  0.2020202 ,  0.3030303 ,  0.4040404 ,\n",
       "        0.50505051,  0.60606061,  0.70707071,  0.80808081,  0.90909091,\n",
       "        1.01010101,  1.11111111,  1.21212121,  1.31313131,  1.41414141,\n",
       "        1.51515152,  1.61616162,  1.71717172,  1.81818182,  1.91919192,\n",
       "        2.02020202,  2.12121212,  2.22222222,  2.32323232,  2.42424242,\n",
       "        2.52525253,  2.62626263,  2.72727273,  2.82828283,  2.92929293,\n",
       "        3.03030303,  3.13131313,  3.23232323,  3.33333333,  3.43434343,\n",
       "        3.53535354,  3.63636364,  3.73737374,  3.83838384,  3.93939394,\n",
       "        4.04040404,  4.14141414,  4.24242424,  4.34343434,  4.44444444,\n",
       "        4.54545455,  4.64646465,  4.74747475,  4.84848485,  4.94949495,\n",
       "        5.05050505,  5.15151515,  5.25252525,  5.35353535,  5.45454545,\n",
       "        5.55555556,  5.65656566,  5.75757576,  5.85858586,  5.95959596,\n",
       "        6.06060606,  6.16161616,  6.26262626,  6.36363636,  6.46464646,\n",
       "        6.56565657,  6.66666667,  6.76767677,  6.86868687,  6.96969697,\n",
       "        7.07070707,  7.17171717,  7.27272727,  7.37373737,  7.47474747,\n",
       "        7.57575758,  7.67676768,  7.77777778,  7.87878788,  7.97979798,\n",
       "        8.08080808,  8.18181818,  8.28282828,  8.38383838,  8.48484848,\n",
       "        8.58585859,  8.68686869,  8.78787879,  8.88888889,  8.98989899,\n",
       "        9.09090909,  9.19191919,  9.29292929,  9.39393939,  9.49494949,\n",
       "        9.5959596 ,  9.6969697 ,  9.7979798 ,  9.8989899 , 10.        ])"
      ]
     },
     "execution_count": 10,
     "metadata": {},
     "output_type": "execute_result"
    }
   ],
   "source": [
    "arr = np.linspace(0,10,100)                #linspace methhod(start,end,num) \n",
    "arr"
   ]
  },
  {
   "cell_type": "code",
   "execution_count": 12,
   "id": "da3be68d",
   "metadata": {
    "error": [
     {
      "ename": "KeyError",
      "evalue": "13",
      "output_type": "error",
      "traceback": [
       "\u001b[0;31m---------------------------------------------------------------------------\u001b[0m",
       "\u001b[0;31mKeyError\u001b[0m                                  Traceback (most recent call last)",
       "Cell \u001b[0;32mIn[13], line 1\u001b[0m\n\u001b[0;32m----> 1\u001b[0m json\u001b[38;5;241m.\u001b[39mdumps([typehandlerforuniqueobjects(\u001b[43mOut\u001b[49m\u001b[43m[\u001b[49m\u001b[38;5;241;43m13\u001b[39;49m\u001b[43m]\u001b[49m)])\n",
       "\u001b[0;31mKeyError\u001b[0m: 13"
      ]
     }
    ],
    "execution": {
     "iopub.execute_input": "2023-10-05T18:57:28.626494Z",
     "iopub.status.busy": "2023-10-05T18:57:28.626193Z",
     "iopub.status.idle": "2023-10-05T18:57:28.632322Z",
     "shell.execute_reply": "2023-10-05T18:57:28.631389Z"
    }
   },
   "outputs": [
    {
     "data": {
      "text/plain": [
       "array([0., 0., 0.])"
      ]
     },
     "execution_count": 12,
     "metadata": {},
     "output_type": "execute_result"
    }
   ],
   "source": [
    "arr = np.zeros(3)\n",
    "arr"
   ]
  },
  {
   "cell_type": "code",
   "execution_count": 14,
   "id": "0828c31f",
   "metadata": {
    "error": [
     {
      "ename": "KeyError",
      "evalue": "15",
      "output_type": "error",
      "traceback": [
       "\u001b[0;31m---------------------------------------------------------------------------\u001b[0m",
       "\u001b[0;31mKeyError\u001b[0m                                  Traceback (most recent call last)",
       "Cell \u001b[0;32mIn[15], line 1\u001b[0m\n\u001b[0;32m----> 1\u001b[0m json\u001b[38;5;241m.\u001b[39mdumps([typehandlerforuniqueobjects(\u001b[43mOut\u001b[49m\u001b[43m[\u001b[49m\u001b[38;5;241;43m15\u001b[39;49m\u001b[43m]\u001b[49m)])\n",
       "\u001b[0;31mKeyError\u001b[0m: 15"
      ]
     }
    ],
    "execution": {
     "iopub.execute_input": "2023-10-05T18:57:28.664387Z",
     "iopub.status.busy": "2023-10-05T18:57:28.664086Z",
     "iopub.status.idle": "2023-10-05T18:57:28.670581Z",
     "shell.execute_reply": "2023-10-05T18:57:28.669639Z"
    }
   },
   "outputs": [
    {
     "data": {
      "text/plain": [
       "array([[0., 0., 0., 0.],\n",
       "       [0., 0., 0., 0.],\n",
       "       [0., 0., 0., 0.]])"
      ]
     },
     "execution_count": 14,
     "metadata": {},
     "output_type": "execute_result"
    }
   ],
   "source": [
    "arr= np.zeros((3,4))                     # zeros methood(nor,noc) use 2 brackets                   \n",
    "arr"
   ]
  },
  {
   "cell_type": "code",
   "execution_count": 16,
   "id": "b7b42140",
   "metadata": {
    "error": [
     {
      "ename": "KeyError",
      "evalue": "17",
      "output_type": "error",
      "traceback": [
       "\u001b[0;31m---------------------------------------------------------------------------\u001b[0m",
       "\u001b[0;31mKeyError\u001b[0m                                  Traceback (most recent call last)",
       "Cell \u001b[0;32mIn[17], line 1\u001b[0m\n\u001b[0;32m----> 1\u001b[0m json\u001b[38;5;241m.\u001b[39mdumps([typehandlerforuniqueobjects(\u001b[43mOut\u001b[49m\u001b[43m[\u001b[49m\u001b[38;5;241;43m17\u001b[39;49m\u001b[43m]\u001b[49m)])\n",
       "\u001b[0;31mKeyError\u001b[0m: 17"
      ]
     }
    ],
    "execution": {
     "iopub.execute_input": "2023-10-05T18:57:28.702573Z",
     "iopub.status.busy": "2023-10-05T18:57:28.702275Z",
     "iopub.status.idle": "2023-10-05T18:57:28.708559Z",
     "shell.execute_reply": "2023-10-05T18:57:28.707604Z"
    }
   },
   "outputs": [
    {
     "data": {
      "text/plain": [
       "array([1., 1., 1., 1.])"
      ]
     },
     "execution_count": 16,
     "metadata": {},
     "output_type": "execute_result"
    }
   ],
   "source": [
    "arr = np.ones(4)\n",
    "arr"
   ]
  },
  {
   "cell_type": "code",
   "execution_count": 18,
   "id": "ec616e24",
   "metadata": {
    "error": [
     {
      "ename": "KeyError",
      "evalue": "19",
      "output_type": "error",
      "traceback": [
       "\u001b[0;31m---------------------------------------------------------------------------\u001b[0m",
       "\u001b[0;31mKeyError\u001b[0m                                  Traceback (most recent call last)",
       "Cell \u001b[0;32mIn[19], line 1\u001b[0m\n\u001b[0;32m----> 1\u001b[0m json\u001b[38;5;241m.\u001b[39mdumps([typehandlerforuniqueobjects(\u001b[43mOut\u001b[49m\u001b[43m[\u001b[49m\u001b[38;5;241;43m19\u001b[39;49m\u001b[43m]\u001b[49m)])\n",
       "\u001b[0;31mKeyError\u001b[0m: 19"
      ]
     }
    ],
    "execution": {
     "iopub.execute_input": "2023-10-05T18:57:28.740324Z",
     "iopub.status.busy": "2023-10-05T18:57:28.739949Z",
     "iopub.status.idle": "2023-10-05T18:57:28.747146Z",
     "shell.execute_reply": "2023-10-05T18:57:28.746022Z"
    }
   },
   "outputs": [
    {
     "data": {
      "text/plain": [
       "array([[1., 1., 1., 1.],\n",
       "       [1., 1., 1., 1.],\n",
       "       [1., 1., 1., 1.]])"
      ]
     },
     "execution_count": 18,
     "metadata": {},
     "output_type": "execute_result"
    }
   ],
   "source": [
    "arr = np.ones((3,4))                    #Ones Methhod(nor,noc) use 2 brackets\n",
    "arr"
   ]
  },
  {
   "cell_type": "code",
   "execution_count": 20,
   "id": "52e29c37",
   "metadata": {
    "error": [
     {
      "ename": "KeyError",
      "evalue": "21",
      "output_type": "error",
      "traceback": [
       "\u001b[0;31m---------------------------------------------------------------------------\u001b[0m",
       "\u001b[0;31mKeyError\u001b[0m                                  Traceback (most recent call last)",
       "Cell \u001b[0;32mIn[21], line 1\u001b[0m\n\u001b[0;32m----> 1\u001b[0m json\u001b[38;5;241m.\u001b[39mdumps([typehandlerforuniqueobjects(\u001b[43mOut\u001b[49m\u001b[43m[\u001b[49m\u001b[38;5;241;43m21\u001b[39;49m\u001b[43m]\u001b[49m)])\n",
       "\u001b[0;31mKeyError\u001b[0m: 21"
      ]
     }
    ],
    "execution": {
     "iopub.execute_input": "2023-10-05T18:57:28.780333Z",
     "iopub.status.busy": "2023-10-05T18:57:28.780034Z",
     "iopub.status.idle": "2023-10-05T18:57:28.786748Z",
     "shell.execute_reply": "2023-10-05T18:57:28.785852Z"
    }
   },
   "outputs": [
    {
     "data": {
      "text/plain": [
       "array([[1., 0., 0., 0., 0.],\n",
       "       [0., 1., 0., 0., 0.],\n",
       "       [0., 0., 1., 0., 0.],\n",
       "       [0., 0., 0., 1., 0.],\n",
       "       [0., 0., 0., 0., 1.]])"
      ]
     },
     "execution_count": 20,
     "metadata": {},
     "output_type": "execute_result"
    }
   ],
   "source": [
    "arr = np.eye(5)                        #eye methood(single input) for identity matrix Creation\n",
    "arr"
   ]
  },
  {
   "cell_type": "code",
   "execution_count": 22,
   "id": "db894730",
   "metadata": {
    "error": [
     {
      "ename": "KeyError",
      "evalue": "23",
      "output_type": "error",
      "traceback": [
       "\u001b[0;31m---------------------------------------------------------------------------\u001b[0m",
       "\u001b[0;31mKeyError\u001b[0m                                  Traceback (most recent call last)",
       "Cell \u001b[0;32mIn[23], line 1\u001b[0m\n\u001b[0;32m----> 1\u001b[0m json\u001b[38;5;241m.\u001b[39mdumps([typehandlerforuniqueobjects(\u001b[43mOut\u001b[49m\u001b[43m[\u001b[49m\u001b[38;5;241;43m23\u001b[39;49m\u001b[43m]\u001b[49m)])\n",
       "\u001b[0;31mKeyError\u001b[0m: 23"
      ]
     }
    ],
    "execution": {
     "iopub.execute_input": "2023-10-05T18:57:28.818559Z",
     "iopub.status.busy": "2023-10-05T18:57:28.818263Z",
     "iopub.status.idle": "2023-10-05T18:57:28.824662Z",
     "shell.execute_reply": "2023-10-05T18:57:28.823731Z"
    }
   },
   "outputs": [
    {
     "data": {
      "text/plain": [
       "array([0.34169562, 0.90284016, 0.29863658, 0.81880016])"
      ]
     },
     "execution_count": 22,
     "metadata": {},
     "output_type": "execute_result"
    }
   ],
   "source": [
    "arr = np.random.rand(4)                #rand methood(single num bcoz 1d arry creation)\n",
    "arr"
   ]
  },
  {
   "cell_type": "code",
   "execution_count": 24,
   "id": "75078df4",
   "metadata": {
    "error": [
     {
      "ename": "KeyError",
      "evalue": "25",
      "output_type": "error",
      "traceback": [
       "\u001b[0;31m---------------------------------------------------------------------------\u001b[0m",
       "\u001b[0;31mKeyError\u001b[0m                                  Traceback (most recent call last)",
       "Cell \u001b[0;32mIn[25], line 1\u001b[0m\n\u001b[0;32m----> 1\u001b[0m json\u001b[38;5;241m.\u001b[39mdumps([typehandlerforuniqueobjects(\u001b[43mOut\u001b[49m\u001b[43m[\u001b[49m\u001b[38;5;241;43m25\u001b[39;49m\u001b[43m]\u001b[49m)])\n",
       "\u001b[0;31mKeyError\u001b[0m: 25"
      ]
     }
    ],
    "execution": {
     "iopub.execute_input": "2023-10-05T18:57:28.855374Z",
     "iopub.status.busy": "2023-10-05T18:57:28.855068Z",
     "iopub.status.idle": "2023-10-05T18:57:28.861779Z",
     "shell.execute_reply": "2023-10-05T18:57:28.860878Z"
    }
   },
   "outputs": [
    {
     "data": {
      "text/plain": [
       "array([[0.62058518, 0.18866229, 0.31766091, 0.35402823],\n",
       "       [0.89489302, 0.1120847 , 0.04689261, 0.5228511 ],\n",
       "       [0.54828072, 0.36170744, 0.30922156, 0.48980886],\n",
       "       [0.89767133, 0.48086007, 0.2166324 , 0.38371773]])"
      ]
     },
     "execution_count": 24,
     "metadata": {},
     "output_type": "execute_result"
    }
   ],
   "source": [
    "arr = np.random.rand(4,4)             #rand methood(nor,noc)  coz 2d array creation         \n",
    "arr"
   ]
  },
  {
   "cell_type": "code",
   "execution_count": 26,
   "id": "1607898f",
   "metadata": {
    "error": [
     {
      "ename": "KeyError",
      "evalue": "27",
      "output_type": "error",
      "traceback": [
       "\u001b[0;31m---------------------------------------------------------------------------\u001b[0m",
       "\u001b[0;31mKeyError\u001b[0m                                  Traceback (most recent call last)",
       "Cell \u001b[0;32mIn[27], line 1\u001b[0m\n\u001b[0;32m----> 1\u001b[0m json\u001b[38;5;241m.\u001b[39mdumps([typehandlerforuniqueobjects(\u001b[43mOut\u001b[49m\u001b[43m[\u001b[49m\u001b[38;5;241;43m27\u001b[39;49m\u001b[43m]\u001b[49m)])\n",
       "\u001b[0;31mKeyError\u001b[0m: 27"
      ]
     }
    ],
    "execution": {
     "iopub.execute_input": "2023-10-05T18:57:28.892944Z",
     "iopub.status.busy": "2023-10-05T18:57:28.892657Z",
     "iopub.status.idle": "2023-10-05T18:57:28.899021Z",
     "shell.execute_reply": "2023-10-05T18:57:28.898132Z"
    }
   },
   "outputs": [
    {
     "data": {
      "text/plain": [
       "array([-0.13509357, -1.79848286])"
      ]
     },
     "execution_count": 26,
     "metadata": {},
     "output_type": "execute_result"
    }
   ],
   "source": [
    "arr = np.random.randn(2)                       #randn Methood(single num coz 1d array Creation)\n",
    "arr"
   ]
  },
  {
   "cell_type": "code",
   "execution_count": 28,
   "id": "fa1e57f7",
   "metadata": {
    "error": [
     {
      "ename": "KeyError",
      "evalue": "29",
      "output_type": "error",
      "traceback": [
       "\u001b[0;31m---------------------------------------------------------------------------\u001b[0m",
       "\u001b[0;31mKeyError\u001b[0m                                  Traceback (most recent call last)",
       "Cell \u001b[0;32mIn[29], line 1\u001b[0m\n\u001b[0;32m----> 1\u001b[0m json\u001b[38;5;241m.\u001b[39mdumps([typehandlerforuniqueobjects(\u001b[43mOut\u001b[49m\u001b[43m[\u001b[49m\u001b[38;5;241;43m29\u001b[39;49m\u001b[43m]\u001b[49m)])\n",
       "\u001b[0;31mKeyError\u001b[0m: 29"
      ]
     }
    ],
    "execution": {
     "iopub.execute_input": "2023-10-05T18:57:28.930081Z",
     "iopub.status.busy": "2023-10-05T18:57:28.929792Z",
     "iopub.status.idle": "2023-10-05T18:57:28.936290Z",
     "shell.execute_reply": "2023-10-05T18:57:28.935364Z"
    }
   },
   "outputs": [
    {
     "data": {
      "text/plain": [
       "array([[-0.0761001 ,  0.30449063, -0.53064898],\n",
       "       [ 0.11170579,  1.18734357, -1.39980348],\n",
       "       [ 0.72819776,  1.05653308, -1.66688693],\n",
       "       [-0.04114984,  0.88238823,  0.48745672]])"
      ]
     },
     "execution_count": 28,
     "metadata": {},
     "output_type": "execute_result"
    }
   ],
   "source": [
    "arr = np.random.randn(4,3)                     #randn Methood(nor,noc) 2d array creation\n",
    "arr"
   ]
  },
  {
   "cell_type": "code",
   "execution_count": 30,
   "id": "f9e7be5b",
   "metadata": {
    "error": [
     {
      "ename": "KeyError",
      "evalue": "31",
      "output_type": "error",
      "traceback": [
       "\u001b[0;31m---------------------------------------------------------------------------\u001b[0m",
       "\u001b[0;31mKeyError\u001b[0m                                  Traceback (most recent call last)",
       "Cell \u001b[0;32mIn[31], line 1\u001b[0m\n\u001b[0;32m----> 1\u001b[0m json\u001b[38;5;241m.\u001b[39mdumps([typehandlerforuniqueobjects(\u001b[43mOut\u001b[49m\u001b[43m[\u001b[49m\u001b[38;5;241;43m31\u001b[39;49m\u001b[43m]\u001b[49m)])\n",
       "\u001b[0;31mKeyError\u001b[0m: 31"
      ]
     }
    ],
    "execution": {
     "iopub.execute_input": "2023-10-05T18:57:28.966653Z",
     "iopub.status.busy": "2023-10-05T18:57:28.966363Z",
     "iopub.status.idle": "2023-10-05T18:57:28.972783Z",
     "shell.execute_reply": "2023-10-05T18:57:28.971873Z"
    }
   },
   "outputs": [
    {
     "data": {
      "text/plain": [
       "array([22,  8,  7, 28, 43,  3,  2, 28, 11, 19])"
      ]
     },
     "execution_count": 30,
     "metadata": {},
     "output_type": "execute_result"
    }
   ],
   "source": [
    "arr = np.random.randint(0,50,10)               #randint Methood(low,high,num)\n",
    "arr"
   ]
  },
  {
   "cell_type": "markdown",
   "id": "fd6d489c",
   "metadata": {},
   "source": [
    "# **<span style='color:blue'> Functions </span>**"
   ]
  },
  {
   "cell_type": "code",
   "execution_count": 32,
   "id": "b02975d7",
   "metadata": {
    "error": [
     {
      "ename": "KeyError",
      "evalue": "33",
      "output_type": "error",
      "traceback": [
       "\u001b[0;31m---------------------------------------------------------------------------\u001b[0m",
       "\u001b[0;31mKeyError\u001b[0m                                  Traceback (most recent call last)",
       "Cell \u001b[0;32mIn[33], line 1\u001b[0m\n\u001b[0;32m----> 1\u001b[0m json\u001b[38;5;241m.\u001b[39mdumps([typehandlerforuniqueobjects(\u001b[43mOut\u001b[49m\u001b[43m[\u001b[49m\u001b[38;5;241;43m33\u001b[39;49m\u001b[43m]\u001b[49m)])\n",
       "\u001b[0;31mKeyError\u001b[0m: 33"
      ]
     }
    ],
    "execution": {
     "iopub.execute_input": "2023-10-05T18:57:29.003128Z",
     "iopub.status.busy": "2023-10-05T18:57:29.002839Z",
     "iopub.status.idle": "2023-10-05T18:57:29.009054Z",
     "shell.execute_reply": "2023-10-05T18:57:29.008157Z"
    }
   },
   "outputs": [
    {
     "data": {
      "text/plain": [
       "array([[22,  8],\n",
       "       [ 7, 28],\n",
       "       [43,  3],\n",
       "       [ 2, 28],\n",
       "       [11, 19]])"
      ]
     },
     "execution_count": 32,
     "metadata": {},
     "output_type": "execute_result"
    }
   ],
   "source": [
    "arr2 = arr.reshape(5,2)                        #arrname.reshape(nor,noc)                    \n",
    "arr2"
   ]
  },
  {
   "cell_type": "code",
   "execution_count": 34,
   "id": "138f061a",
   "metadata": {
    "error": [
     {
      "ename": "KeyError",
      "evalue": "35",
      "output_type": "error",
      "traceback": [
       "\u001b[0;31m---------------------------------------------------------------------------\u001b[0m",
       "\u001b[0;31mKeyError\u001b[0m                                  Traceback (most recent call last)",
       "Cell \u001b[0;32mIn[35], line 1\u001b[0m\n\u001b[0;32m----> 1\u001b[0m json\u001b[38;5;241m.\u001b[39mdumps([typehandlerforuniqueobjects(\u001b[43mOut\u001b[49m\u001b[43m[\u001b[49m\u001b[38;5;241;43m35\u001b[39;49m\u001b[43m]\u001b[49m)])\n",
       "\u001b[0;31mKeyError\u001b[0m: 35"
      ]
     }
    ],
    "execution": {
     "iopub.execute_input": "2023-10-05T18:57:29.039664Z",
     "iopub.status.busy": "2023-10-05T18:57:29.039372Z",
     "iopub.status.idle": "2023-10-05T18:57:29.045588Z",
     "shell.execute_reply": "2023-10-05T18:57:29.044618Z"
    }
   },
   "outputs": [
    {
     "data": {
      "text/plain": [
       "43"
      ]
     },
     "execution_count": 34,
     "metadata": {},
     "output_type": "execute_result"
    }
   ],
   "source": [
    "arr2.max()                                    #arrname.max() gives max element in arr"
   ]
  },
  {
   "cell_type": "code",
   "execution_count": 36,
   "id": "50fc41f6",
   "metadata": {
    "error": [
     {
      "ename": "KeyError",
      "evalue": "37",
      "output_type": "error",
      "traceback": [
       "\u001b[0;31m---------------------------------------------------------------------------\u001b[0m",
       "\u001b[0;31mKeyError\u001b[0m                                  Traceback (most recent call last)",
       "Cell \u001b[0;32mIn[37], line 1\u001b[0m\n\u001b[0;32m----> 1\u001b[0m json\u001b[38;5;241m.\u001b[39mdumps([typehandlerforuniqueobjects(\u001b[43mOut\u001b[49m\u001b[43m[\u001b[49m\u001b[38;5;241;43m37\u001b[39;49m\u001b[43m]\u001b[49m)])\n",
       "\u001b[0;31mKeyError\u001b[0m: 37"
      ]
     }
    ],
    "execution": {
     "iopub.execute_input": "2023-10-05T18:57:29.076470Z",
     "iopub.status.busy": "2023-10-05T18:57:29.076174Z",
     "iopub.status.idle": "2023-10-05T18:57:29.082175Z",
     "shell.execute_reply": "2023-10-05T18:57:29.081297Z"
    }
   },
   "outputs": [
    {
     "data": {
      "text/plain": [
       "2"
      ]
     },
     "execution_count": 36,
     "metadata": {},
     "output_type": "execute_result"
    }
   ],
   "source": [
    "arr2.min()                                    #arrname.min() gives max element in arr"
   ]
  },
  {
   "cell_type": "code",
   "execution_count": 38,
   "id": "c699e7a7",
   "metadata": {
    "error": [
     {
      "ename": "KeyError",
      "evalue": "39",
      "output_type": "error",
      "traceback": [
       "\u001b[0;31m---------------------------------------------------------------------------\u001b[0m",
       "\u001b[0;31mKeyError\u001b[0m                                  Traceback (most recent call last)",
       "Cell \u001b[0;32mIn[39], line 1\u001b[0m\n\u001b[0;32m----> 1\u001b[0m json\u001b[38;5;241m.\u001b[39mdumps([typehandlerforuniqueobjects(\u001b[43mOut\u001b[49m\u001b[43m[\u001b[49m\u001b[38;5;241;43m39\u001b[39;49m\u001b[43m]\u001b[49m)])\n",
       "\u001b[0;31mKeyError\u001b[0m: 39"
      ]
     }
    ],
    "execution": {
     "iopub.execute_input": "2023-10-05T18:57:29.115222Z",
     "iopub.status.busy": "2023-10-05T18:57:29.114929Z",
     "iopub.status.idle": "2023-10-05T18:57:29.120914Z",
     "shell.execute_reply": "2023-10-05T18:57:29.119995Z"
    }
   },
   "outputs": [
    {
     "data": {
      "text/plain": [
       "4"
      ]
     },
     "execution_count": 38,
     "metadata": {},
     "output_type": "execute_result"
    }
   ],
   "source": [
    "arr2.argmax()                                 #arrname.argmax() gives the index where max element in arr                           \n"
   ]
  },
  {
   "cell_type": "code",
   "execution_count": 40,
   "id": "bb3ecec8",
   "metadata": {
    "error": [
     {
      "ename": "KeyError",
      "evalue": "41",
      "output_type": "error",
      "traceback": [
       "\u001b[0;31m---------------------------------------------------------------------------\u001b[0m",
       "\u001b[0;31mKeyError\u001b[0m                                  Traceback (most recent call last)",
       "Cell \u001b[0;32mIn[41], line 1\u001b[0m\n\u001b[0;32m----> 1\u001b[0m json\u001b[38;5;241m.\u001b[39mdumps([typehandlerforuniqueobjects(\u001b[43mOut\u001b[49m\u001b[43m[\u001b[49m\u001b[38;5;241;43m41\u001b[39;49m\u001b[43m]\u001b[49m)])\n",
       "\u001b[0;31mKeyError\u001b[0m: 41"
      ]
     }
    ],
    "execution": {
     "iopub.execute_input": "2023-10-05T18:57:29.151864Z",
     "iopub.status.busy": "2023-10-05T18:57:29.151575Z",
     "iopub.status.idle": "2023-10-05T18:57:29.157607Z",
     "shell.execute_reply": "2023-10-05T18:57:29.156684Z"
    }
   },
   "outputs": [
    {
     "data": {
      "text/plain": [
       "6"
      ]
     },
     "execution_count": 40,
     "metadata": {},
     "output_type": "execute_result"
    }
   ],
   "source": [
    "arr2.argmin()                                #arrname.argmin() gives the index where min element in arr"
   ]
  },
  {
   "cell_type": "code",
   "execution_count": 42,
   "id": "e2e20726",
   "metadata": {
    "error": [
     {
      "ename": "KeyError",
      "evalue": "43",
      "output_type": "error",
      "traceback": [
       "\u001b[0;31m---------------------------------------------------------------------------\u001b[0m",
       "\u001b[0;31mKeyError\u001b[0m                                  Traceback (most recent call last)",
       "Cell \u001b[0;32mIn[43], line 1\u001b[0m\n\u001b[0;32m----> 1\u001b[0m json\u001b[38;5;241m.\u001b[39mdumps([typehandlerforuniqueobjects(\u001b[43mOut\u001b[49m\u001b[43m[\u001b[49m\u001b[38;5;241;43m43\u001b[39;49m\u001b[43m]\u001b[49m)])\n",
       "\u001b[0;31mKeyError\u001b[0m: 43"
      ]
     }
    ],
    "execution": {
     "iopub.execute_input": "2023-10-05T18:57:29.188437Z",
     "iopub.status.busy": "2023-10-05T18:57:29.188144Z",
     "iopub.status.idle": "2023-10-05T18:57:29.194086Z",
     "shell.execute_reply": "2023-10-05T18:57:29.193192Z"
    }
   },
   "outputs": [
    {
     "data": {
      "text/plain": [
       "(5, 2)"
      ]
     },
     "execution_count": 42,
     "metadata": {},
     "output_type": "execute_result"
    }
   ],
   "source": [
    "arr2.shape                                   #arrname.shape Gives shape of array"
   ]
  },
  {
   "cell_type": "code",
   "execution_count": 44,
   "id": "1379b871",
   "metadata": {
    "error": [
     {
      "ename": "KeyError",
      "evalue": "45",
      "output_type": "error",
      "traceback": [
       "\u001b[0;31m---------------------------------------------------------------------------\u001b[0m",
       "\u001b[0;31mKeyError\u001b[0m                                  Traceback (most recent call last)",
       "Cell \u001b[0;32mIn[45], line 1\u001b[0m\n\u001b[0;32m----> 1\u001b[0m json\u001b[38;5;241m.\u001b[39mdumps([typehandlerforuniqueobjects(\u001b[43mOut\u001b[49m\u001b[43m[\u001b[49m\u001b[38;5;241;43m45\u001b[39;49m\u001b[43m]\u001b[49m)])\n",
       "\u001b[0;31mKeyError\u001b[0m: 45"
      ]
     }
    ],
    "execution": {
     "iopub.execute_input": "2023-10-05T18:57:29.225045Z",
     "iopub.status.busy": "2023-10-05T18:57:29.224754Z",
     "iopub.status.idle": "2023-10-05T18:57:29.230695Z",
     "shell.execute_reply": "2023-10-05T18:57:29.229801Z"
    }
   },
   "outputs": [
    {
     "data": {
      "text/plain": [
       "dtype('int64')"
      ]
     },
     "execution_count": 44,
     "metadata": {},
     "output_type": "execute_result"
    }
   ],
   "source": [
    "arr2.dtype                                   #arrname.dtype Gives datatype of array                                   "
   ]
  },
  {
   "cell_type": "code",
   "execution_count": null,
   "id": "f979e129",
   "metadata": {},
   "outputs": [],
   "source": []
  },
  {
   "cell_type": "markdown",
   "id": "0b5e07fc",
   "metadata": {},
   "source": [
    "# **<span style='color:blue'> Indexing & Selection </span>**"
   ]
  },
  {
   "cell_type": "code",
   "execution_count": 46,
   "id": "f9d89cd0",
   "metadata": {
    "error": [
     {
      "ename": "KeyError",
      "evalue": "48",
      "output_type": "error",
      "traceback": [
       "\u001b[0;31m---------------------------------------------------------------------------\u001b[0m",
       "\u001b[0;31mKeyError\u001b[0m                                  Traceback (most recent call last)",
       "Cell \u001b[0;32mIn[47], line 1\u001b[0m\n\u001b[0;32m----> 1\u001b[0m json\u001b[38;5;241m.\u001b[39mdumps([typehandlerforuniqueobjects(\u001b[43mOut\u001b[49m\u001b[43m[\u001b[49m\u001b[38;5;241;43m48\u001b[39;49m\u001b[43m]\u001b[49m)])\n",
       "\u001b[0;31mKeyError\u001b[0m: 48"
      ]
     }
    ],
    "execution": {
     "iopub.execute_input": "2023-10-05T18:57:29.262079Z",
     "iopub.status.busy": "2023-10-05T18:57:29.261787Z",
     "iopub.status.idle": "2023-10-05T18:57:29.267965Z",
     "shell.execute_reply": "2023-10-05T18:57:29.267068Z"
    }
   },
   "outputs": [
    {
     "data": {
      "text/plain": [
       "array([ 0,  1,  2,  3,  4,  5,  6,  7,  8,  9, 10])"
      ]
     },
     "execution_count": 46,
     "metadata": {},
     "output_type": "execute_result"
    }
   ],
   "source": [
    "arr = np.arange(11)\n",
    "arr"
   ]
  },
  {
   "cell_type": "code",
   "execution_count": 48,
   "id": "f296b84c",
   "metadata": {
    "error": [
     {
      "ename": "KeyError",
      "evalue": "50",
      "output_type": "error",
      "traceback": [
       "\u001b[0;31m---------------------------------------------------------------------------\u001b[0m",
       "\u001b[0;31mKeyError\u001b[0m                                  Traceback (most recent call last)",
       "Cell \u001b[0;32mIn[49], line 1\u001b[0m\n\u001b[0;32m----> 1\u001b[0m json\u001b[38;5;241m.\u001b[39mdumps([typehandlerforuniqueobjects(\u001b[43mOut\u001b[49m\u001b[43m[\u001b[49m\u001b[38;5;241;43m50\u001b[39;49m\u001b[43m]\u001b[49m)])\n",
       "\u001b[0;31mKeyError\u001b[0m: 50"
      ]
     }
    ],
    "execution": {
     "iopub.execute_input": "2023-10-05T18:57:29.299002Z",
     "iopub.status.busy": "2023-10-05T18:57:29.298710Z",
     "iopub.status.idle": "2023-10-05T18:57:29.304696Z",
     "shell.execute_reply": "2023-10-05T18:57:29.303784Z"
    }
   },
   "outputs": [
    {
     "data": {
      "text/plain": [
       "0"
      ]
     },
     "execution_count": 48,
     "metadata": {},
     "output_type": "execute_result"
    }
   ],
   "source": [
    "arr[0]"
   ]
  },
  {
   "cell_type": "code",
   "execution_count": 50,
   "id": "0460e066",
   "metadata": {
    "error": [
     {
      "ename": "KeyError",
      "evalue": "52",
      "output_type": "error",
      "traceback": [
       "\u001b[0;31m---------------------------------------------------------------------------\u001b[0m",
       "\u001b[0;31mKeyError\u001b[0m                                  Traceback (most recent call last)",
       "Cell \u001b[0;32mIn[51], line 1\u001b[0m\n\u001b[0;32m----> 1\u001b[0m json\u001b[38;5;241m.\u001b[39mdumps([typehandlerforuniqueobjects(\u001b[43mOut\u001b[49m\u001b[43m[\u001b[49m\u001b[38;5;241;43m52\u001b[39;49m\u001b[43m]\u001b[49m)])\n",
       "\u001b[0;31mKeyError\u001b[0m: 52"
      ]
     }
    ],
    "execution": {
     "iopub.execute_input": "2023-10-05T18:57:29.335469Z",
     "iopub.status.busy": "2023-10-05T18:57:29.335183Z",
     "iopub.status.idle": "2023-10-05T18:57:29.341283Z",
     "shell.execute_reply": "2023-10-05T18:57:29.340341Z"
    }
   },
   "outputs": [
    {
     "data": {
      "text/plain": [
       "10"
      ]
     },
     "execution_count": 50,
     "metadata": {},
     "output_type": "execute_result"
    }
   ],
   "source": [
    "arr[10]"
   ]
  },
  {
   "cell_type": "code",
   "execution_count": 52,
   "id": "a759c290",
   "metadata": {
    "error": [
     {
      "ename": "KeyError",
      "evalue": "54",
      "output_type": "error",
      "traceback": [
       "\u001b[0;31m---------------------------------------------------------------------------\u001b[0m",
       "\u001b[0;31mKeyError\u001b[0m                                  Traceback (most recent call last)",
       "Cell \u001b[0;32mIn[53], line 1\u001b[0m\n\u001b[0;32m----> 1\u001b[0m json\u001b[38;5;241m.\u001b[39mdumps([typehandlerforuniqueobjects(\u001b[43mOut\u001b[49m\u001b[43m[\u001b[49m\u001b[38;5;241;43m54\u001b[39;49m\u001b[43m]\u001b[49m)])\n",
       "\u001b[0;31mKeyError\u001b[0m: 54"
      ]
     }
    ],
    "execution": {
     "iopub.execute_input": "2023-10-05T18:57:29.372522Z",
     "iopub.status.busy": "2023-10-05T18:57:29.372231Z",
     "iopub.status.idle": "2023-10-05T18:57:29.378491Z",
     "shell.execute_reply": "2023-10-05T18:57:29.377545Z"
    }
   },
   "outputs": [
    {
     "data": {
      "text/plain": [
       "array([ 1,  2,  3,  4,  5,  6,  7,  8,  9, 10])"
      ]
     },
     "execution_count": 52,
     "metadata": {},
     "output_type": "execute_result"
    }
   ],
   "source": [
    "arr[1:]"
   ]
  },
  {
   "cell_type": "code",
   "execution_count": 54,
   "id": "484d0f7b",
   "metadata": {
    "execution": {
     "iopub.execute_input": "2023-10-05T18:57:29.411007Z",
     "iopub.status.busy": "2023-10-05T18:57:29.410718Z",
     "iopub.status.idle": "2023-10-05T18:57:29.415215Z",
     "shell.execute_reply": "2023-10-05T18:57:29.414264Z"
    }
   },
   "outputs": [],
   "source": [
    "arr [0:5] = 100"
   ]
  },
  {
   "cell_type": "code",
   "execution_count": 55,
   "id": "4fa5d195",
   "metadata": {
    "error": [
     {
      "ename": "KeyError",
      "evalue": "57",
      "output_type": "error",
      "traceback": [
       "\u001b[0;31m---------------------------------------------------------------------------\u001b[0m",
       "\u001b[0;31mKeyError\u001b[0m                                  Traceback (most recent call last)",
       "Cell \u001b[0;32mIn[56], line 1\u001b[0m\n\u001b[0;32m----> 1\u001b[0m json\u001b[38;5;241m.\u001b[39mdumps([typehandlerforuniqueobjects(\u001b[43mOut\u001b[49m\u001b[43m[\u001b[49m\u001b[38;5;241;43m57\u001b[39;49m\u001b[43m]\u001b[49m)])\n",
       "\u001b[0;31mKeyError\u001b[0m: 57"
      ]
     }
    ],
    "execution": {
     "iopub.execute_input": "2023-10-05T18:57:29.418438Z",
     "iopub.status.busy": "2023-10-05T18:57:29.418151Z",
     "iopub.status.idle": "2023-10-05T18:57:29.424220Z",
     "shell.execute_reply": "2023-10-05T18:57:29.423249Z"
    }
   },
   "outputs": [
    {
     "data": {
      "text/plain": [
       "array([100, 100, 100, 100, 100,   5,   6,   7,   8,   9,  10])"
      ]
     },
     "execution_count": 55,
     "metadata": {},
     "output_type": "execute_result"
    }
   ],
   "source": [
    "arr"
   ]
  },
  {
   "cell_type": "code",
   "execution_count": 57,
   "id": "dbc9a0d4",
   "metadata": {
    "error": [
     {
      "ename": "KeyError",
      "evalue": "59",
      "output_type": "error",
      "traceback": [
       "\u001b[0;31m---------------------------------------------------------------------------\u001b[0m",
       "\u001b[0;31mKeyError\u001b[0m                                  Traceback (most recent call last)",
       "Cell \u001b[0;32mIn[58], line 1\u001b[0m\n\u001b[0;32m----> 1\u001b[0m json\u001b[38;5;241m.\u001b[39mdumps([typehandlerforuniqueobjects(\u001b[43mOut\u001b[49m\u001b[43m[\u001b[49m\u001b[38;5;241;43m59\u001b[39;49m\u001b[43m]\u001b[49m)])\n",
       "\u001b[0;31mKeyError\u001b[0m: 59"
      ]
     }
    ],
    "execution": {
     "iopub.execute_input": "2023-10-05T18:57:29.454789Z",
     "iopub.status.busy": "2023-10-05T18:57:29.454503Z",
     "iopub.status.idle": "2023-10-05T18:57:29.460873Z",
     "shell.execute_reply": "2023-10-05T18:57:29.459896Z"
    }
   },
   "outputs": [
    {
     "data": {
      "text/plain": [
       "array([100, 100, 100, 100, 100,   5,   6,   7,   8,   9,  10])"
      ]
     },
     "execution_count": 57,
     "metadata": {},
     "output_type": "execute_result"
    }
   ],
   "source": [
    "arr2 = arr.copy()                    #arrname.copy() for copying array\n",
    "arr"
   ]
  },
  {
   "cell_type": "markdown",
   "id": "c1bb464f",
   "metadata": {},
   "source": [
    "* 2d Array Slicing"
   ]
  },
  {
   "cell_type": "code",
   "execution_count": 59,
   "id": "8d49e77c",
   "metadata": {
    "error": [
     {
      "ename": "KeyError",
      "evalue": "61",
      "output_type": "error",
      "traceback": [
       "\u001b[0;31m---------------------------------------------------------------------------\u001b[0m",
       "\u001b[0;31mKeyError\u001b[0m                                  Traceback (most recent call last)",
       "Cell \u001b[0;32mIn[60], line 1\u001b[0m\n\u001b[0;32m----> 1\u001b[0m json\u001b[38;5;241m.\u001b[39mdumps([typehandlerforuniqueobjects(\u001b[43mOut\u001b[49m\u001b[43m[\u001b[49m\u001b[38;5;241;43m61\u001b[39;49m\u001b[43m]\u001b[49m)])\n",
       "\u001b[0;31mKeyError\u001b[0m: 61"
      ]
     }
    ],
    "execution": {
     "iopub.execute_input": "2023-10-05T18:57:29.492026Z",
     "iopub.status.busy": "2023-10-05T18:57:29.491721Z",
     "iopub.status.idle": "2023-10-05T18:57:29.498612Z",
     "shell.execute_reply": "2023-10-05T18:57:29.497664Z"
    }
   },
   "outputs": [
    {
     "data": {
      "text/plain": [
       "array([[ 5, 10, 15],\n",
       "       [20, 25, 30],\n",
       "       [35, 40, 45]])"
      ]
     },
     "execution_count": 59,
     "metadata": {},
     "output_type": "execute_result"
    }
   ],
   "source": [
    "arr = np.array([[5,10,15],[20,25,30],[35,40,45]])\n",
    "arr"
   ]
  },
  {
   "cell_type": "code",
   "execution_count": 61,
   "id": "c5b5437d",
   "metadata": {
    "error": [
     {
      "ename": "KeyError",
      "evalue": "63",
      "output_type": "error",
      "traceback": [
       "\u001b[0;31m---------------------------------------------------------------------------\u001b[0m",
       "\u001b[0;31mKeyError\u001b[0m                                  Traceback (most recent call last)",
       "Cell \u001b[0;32mIn[62], line 1\u001b[0m\n\u001b[0;32m----> 1\u001b[0m json\u001b[38;5;241m.\u001b[39mdumps([typehandlerforuniqueobjects(\u001b[43mOut\u001b[49m\u001b[43m[\u001b[49m\u001b[38;5;241;43m63\u001b[39;49m\u001b[43m]\u001b[49m)])\n",
       "\u001b[0;31mKeyError\u001b[0m: 63"
      ]
     }
    ],
    "execution": {
     "iopub.execute_input": "2023-10-05T18:57:29.529900Z",
     "iopub.status.busy": "2023-10-05T18:57:29.529612Z",
     "iopub.status.idle": "2023-10-05T18:57:29.535952Z",
     "shell.execute_reply": "2023-10-05T18:57:29.534991Z"
    }
   },
   "outputs": [
    {
     "data": {
      "text/plain": [
       "15"
      ]
     },
     "execution_count": 61,
     "metadata": {},
     "output_type": "execute_result"
    }
   ],
   "source": [
    "arr[0,2]                            #arr[which row,which column]"
   ]
  },
  {
   "cell_type": "code",
   "execution_count": 63,
   "id": "51cd82d2",
   "metadata": {
    "error": [
     {
      "ename": "KeyError",
      "evalue": "65",
      "output_type": "error",
      "traceback": [
       "\u001b[0;31m---------------------------------------------------------------------------\u001b[0m",
       "\u001b[0;31mKeyError\u001b[0m                                  Traceback (most recent call last)",
       "Cell \u001b[0;32mIn[64], line 1\u001b[0m\n\u001b[0;32m----> 1\u001b[0m json\u001b[38;5;241m.\u001b[39mdumps([typehandlerforuniqueobjects(\u001b[43mOut\u001b[49m\u001b[43m[\u001b[49m\u001b[38;5;241;43m65\u001b[39;49m\u001b[43m]\u001b[49m)])\n",
       "\u001b[0;31mKeyError\u001b[0m: 65"
      ]
     }
    ],
    "execution": {
     "iopub.execute_input": "2023-10-05T18:57:29.566834Z",
     "iopub.status.busy": "2023-10-05T18:57:29.566548Z",
     "iopub.status.idle": "2023-10-05T18:57:29.572906Z",
     "shell.execute_reply": "2023-10-05T18:57:29.571935Z"
    }
   },
   "outputs": [
    {
     "data": {
      "text/plain": [
       "array([ 5, 10, 15])"
      ]
     },
     "execution_count": 63,
     "metadata": {},
     "output_type": "execute_result"
    }
   ],
   "source": [
    "arr[0]                              #arr[which row] for whole row"
   ]
  },
  {
   "cell_type": "code",
   "execution_count": 65,
   "id": "e360a2b0",
   "metadata": {
    "error": [
     {
      "ename": "KeyError",
      "evalue": "67",
      "output_type": "error",
      "traceback": [
       "\u001b[0;31m---------------------------------------------------------------------------\u001b[0m",
       "\u001b[0;31mKeyError\u001b[0m                                  Traceback (most recent call last)",
       "Cell \u001b[0;32mIn[66], line 1\u001b[0m\n\u001b[0;32m----> 1\u001b[0m json\u001b[38;5;241m.\u001b[39mdumps([typehandlerforuniqueobjects(\u001b[43mOut\u001b[49m\u001b[43m[\u001b[49m\u001b[38;5;241;43m67\u001b[39;49m\u001b[43m]\u001b[49m)])\n",
       "\u001b[0;31mKeyError\u001b[0m: 67"
      ]
     }
    ],
    "execution": {
     "iopub.execute_input": "2023-10-05T18:57:29.603402Z",
     "iopub.status.busy": "2023-10-05T18:57:29.603112Z",
     "iopub.status.idle": "2023-10-05T18:57:29.609372Z",
     "shell.execute_reply": "2023-10-05T18:57:29.608413Z"
    }
   },
   "outputs": [
    {
     "data": {
      "text/plain": [
       "array([[20, 25, 30],\n",
       "       [35, 40, 45]])"
      ]
     },
     "execution_count": 65,
     "metadata": {},
     "output_type": "execute_result"
    }
   ],
   "source": [
    "arr[1:,:]"
   ]
  },
  {
   "cell_type": "code",
   "execution_count": 67,
   "id": "c2b816df",
   "metadata": {
    "error": [
     {
      "ename": "KeyError",
      "evalue": "69",
      "output_type": "error",
      "traceback": [
       "\u001b[0;31m---------------------------------------------------------------------------\u001b[0m",
       "\u001b[0;31mKeyError\u001b[0m                                  Traceback (most recent call last)",
       "Cell \u001b[0;32mIn[68], line 1\u001b[0m\n\u001b[0;32m----> 1\u001b[0m json\u001b[38;5;241m.\u001b[39mdumps([typehandlerforuniqueobjects(\u001b[43mOut\u001b[49m\u001b[43m[\u001b[49m\u001b[38;5;241;43m69\u001b[39;49m\u001b[43m]\u001b[49m)])\n",
       "\u001b[0;31mKeyError\u001b[0m: 69"
      ]
     }
    ],
    "execution": {
     "iopub.execute_input": "2023-10-05T18:57:29.640118Z",
     "iopub.status.busy": "2023-10-05T18:57:29.639814Z",
     "iopub.status.idle": "2023-10-05T18:57:29.645890Z",
     "shell.execute_reply": "2023-10-05T18:57:29.644977Z"
    }
   },
   "outputs": [
    {
     "data": {
      "text/plain": [
       "array([[10, 15],\n",
       "       [25, 30]])"
      ]
     },
     "execution_count": 67,
     "metadata": {},
     "output_type": "execute_result"
    }
   ],
   "source": [
    "arr[0:2,1:]"
   ]
  },
  {
   "cell_type": "code",
   "execution_count": 69,
   "id": "43b41296",
   "metadata": {
    "error": [
     {
      "ename": "KeyError",
      "evalue": "71",
      "output_type": "error",
      "traceback": [
       "\u001b[0;31m---------------------------------------------------------------------------\u001b[0m",
       "\u001b[0;31mKeyError\u001b[0m                                  Traceback (most recent call last)",
       "Cell \u001b[0;32mIn[70], line 1\u001b[0m\n\u001b[0;32m----> 1\u001b[0m json\u001b[38;5;241m.\u001b[39mdumps([typehandlerforuniqueobjects(\u001b[43mOut\u001b[49m\u001b[43m[\u001b[49m\u001b[38;5;241;43m71\u001b[39;49m\u001b[43m]\u001b[49m)])\n",
       "\u001b[0;31mKeyError\u001b[0m: 71"
      ]
     }
    ],
    "execution": {
     "iopub.execute_input": "2023-10-05T18:57:29.676733Z",
     "iopub.status.busy": "2023-10-05T18:57:29.676441Z",
     "iopub.status.idle": "2023-10-05T18:57:29.682604Z",
     "shell.execute_reply": "2023-10-05T18:57:29.681696Z"
    }
   },
   "outputs": [
    {
     "data": {
      "text/plain": [
       "array([ 0,  1,  2,  3,  4,  5,  6,  7,  8,  9, 10])"
      ]
     },
     "execution_count": 69,
     "metadata": {},
     "output_type": "execute_result"
    }
   ],
   "source": [
    "arr = np.arange(0,11)\n",
    "arr"
   ]
  },
  {
   "cell_type": "code",
   "execution_count": 71,
   "id": "45a10f19",
   "metadata": {
    "error": [
     {
      "ename": "KeyError",
      "evalue": "73",
      "output_type": "error",
      "traceback": [
       "\u001b[0;31m---------------------------------------------------------------------------\u001b[0m",
       "\u001b[0;31mKeyError\u001b[0m                                  Traceback (most recent call last)",
       "Cell \u001b[0;32mIn[72], line 1\u001b[0m\n\u001b[0;32m----> 1\u001b[0m json\u001b[38;5;241m.\u001b[39mdumps([typehandlerforuniqueobjects(\u001b[43mOut\u001b[49m\u001b[43m[\u001b[49m\u001b[38;5;241;43m73\u001b[39;49m\u001b[43m]\u001b[49m)])\n",
       "\u001b[0;31mKeyError\u001b[0m: 73"
      ]
     }
    ],
    "execution": {
     "iopub.execute_input": "2023-10-05T18:57:29.714985Z",
     "iopub.status.busy": "2023-10-05T18:57:29.714700Z",
     "iopub.status.idle": "2023-10-05T18:57:29.720798Z",
     "shell.execute_reply": "2023-10-05T18:57:29.719876Z"
    }
   },
   "outputs": [
    {
     "data": {
      "text/plain": [
       "array([ 6,  7,  8,  9, 10])"
      ]
     },
     "execution_count": 71,
     "metadata": {},
     "output_type": "execute_result"
    }
   ],
   "source": [
    "arr2 =arr[arr>5]\n",
    "arr2"
   ]
  },
  {
   "cell_type": "code",
   "execution_count": 73,
   "id": "e4184095",
   "metadata": {
    "error": [
     {
      "ename": "KeyError",
      "evalue": "75",
      "output_type": "error",
      "traceback": [
       "\u001b[0;31m---------------------------------------------------------------------------\u001b[0m",
       "\u001b[0;31mKeyError\u001b[0m                                  Traceback (most recent call last)",
       "Cell \u001b[0;32mIn[74], line 1\u001b[0m\n\u001b[0;32m----> 1\u001b[0m json\u001b[38;5;241m.\u001b[39mdumps([typehandlerforuniqueobjects(\u001b[43mOut\u001b[49m\u001b[43m[\u001b[49m\u001b[38;5;241;43m75\u001b[39;49m\u001b[43m]\u001b[49m)])\n",
       "\u001b[0;31mKeyError\u001b[0m: 75"
      ]
     }
    ],
    "execution": {
     "iopub.execute_input": "2023-10-05T18:57:29.751510Z",
     "iopub.status.busy": "2023-10-05T18:57:29.751221Z",
     "iopub.status.idle": "2023-10-05T18:57:29.757253Z",
     "shell.execute_reply": "2023-10-05T18:57:29.756349Z"
    }
   },
   "outputs": [
    {
     "data": {
      "text/plain": [
       "array([False, False, False, False, False, False,  True,  True,  True,\n",
       "        True,  True])"
      ]
     },
     "execution_count": 73,
     "metadata": {},
     "output_type": "execute_result"
    }
   ],
   "source": [
    "a = arr>5\n",
    "a"
   ]
  },
  {
   "cell_type": "code",
   "execution_count": 75,
   "id": "ea974959",
   "metadata": {
    "error": [
     {
      "ename": "KeyError",
      "evalue": "77",
      "output_type": "error",
      "traceback": [
       "\u001b[0;31m---------------------------------------------------------------------------\u001b[0m",
       "\u001b[0;31mKeyError\u001b[0m                                  Traceback (most recent call last)",
       "Cell \u001b[0;32mIn[76], line 1\u001b[0m\n\u001b[0;32m----> 1\u001b[0m json\u001b[38;5;241m.\u001b[39mdumps([typehandlerforuniqueobjects(\u001b[43mOut\u001b[49m\u001b[43m[\u001b[49m\u001b[38;5;241;43m77\u001b[39;49m\u001b[43m]\u001b[49m)])\n",
       "\u001b[0;31mKeyError\u001b[0m: 77"
      ]
     }
    ],
    "execution": {
     "iopub.execute_input": "2023-10-05T18:57:29.788455Z",
     "iopub.status.busy": "2023-10-05T18:57:29.788165Z",
     "iopub.status.idle": "2023-10-05T18:57:29.794141Z",
     "shell.execute_reply": "2023-10-05T18:57:29.793235Z"
    }
   },
   "outputs": [
    {
     "data": {
      "text/plain": [
       "array([ 6,  7,  8,  9, 10])"
      ]
     },
     "execution_count": 75,
     "metadata": {},
     "output_type": "execute_result"
    }
   ],
   "source": [
    "arr[a]"
   ]
  },
  {
   "cell_type": "markdown",
   "id": "4f285a7f",
   "metadata": {},
   "source": [
    "# Numpy Operations:"
   ]
  },
  {
   "cell_type": "code",
   "execution_count": 77,
   "id": "702061ee",
   "metadata": {
    "execution": {
     "iopub.execute_input": "2023-10-05T18:57:29.824683Z",
     "iopub.status.busy": "2023-10-05T18:57:29.824394Z",
     "iopub.status.idle": "2023-10-05T18:57:29.828899Z",
     "shell.execute_reply": "2023-10-05T18:57:29.827921Z"
    }
   },
   "outputs": [],
   "source": [
    "arr = np.arange(0,11)        "
   ]
  },
  {
   "cell_type": "code",
   "execution_count": 78,
   "id": "39a5eacd",
   "metadata": {
    "error": [
     {
      "ename": "KeyError",
      "evalue": "80",
      "output_type": "error",
      "traceback": [
       "\u001b[0;31m---------------------------------------------------------------------------\u001b[0m",
       "\u001b[0;31mKeyError\u001b[0m                                  Traceback (most recent call last)",
       "Cell \u001b[0;32mIn[79], line 1\u001b[0m\n\u001b[0;32m----> 1\u001b[0m json\u001b[38;5;241m.\u001b[39mdumps([typehandlerforuniqueobjects(\u001b[43mOut\u001b[49m\u001b[43m[\u001b[49m\u001b[38;5;241;43m80\u001b[39;49m\u001b[43m]\u001b[49m)])\n",
       "\u001b[0;31mKeyError\u001b[0m: 80"
      ]
     }
    ],
    "execution": {
     "iopub.execute_input": "2023-10-05T18:57:29.832447Z",
     "iopub.status.busy": "2023-10-05T18:57:29.832159Z",
     "iopub.status.idle": "2023-10-05T18:57:29.837987Z",
     "shell.execute_reply": "2023-10-05T18:57:29.837094Z"
    }
   },
   "outputs": [
    {
     "data": {
      "text/plain": [
       "array([ 0,  1,  2,  3,  4,  5,  6,  7,  8,  9, 10])"
      ]
     },
     "execution_count": 78,
     "metadata": {},
     "output_type": "execute_result"
    }
   ],
   "source": [
    "arr"
   ]
  },
  {
   "cell_type": "code",
   "execution_count": 80,
   "id": "711c14d3",
   "metadata": {
    "error": [
     {
      "ename": "KeyError",
      "evalue": "82",
      "output_type": "error",
      "traceback": [
       "\u001b[0;31m---------------------------------------------------------------------------\u001b[0m",
       "\u001b[0;31mKeyError\u001b[0m                                  Traceback (most recent call last)",
       "Cell \u001b[0;32mIn[81], line 1\u001b[0m\n\u001b[0;32m----> 1\u001b[0m json\u001b[38;5;241m.\u001b[39mdumps([typehandlerforuniqueobjects(\u001b[43mOut\u001b[49m\u001b[43m[\u001b[49m\u001b[38;5;241;43m82\u001b[39;49m\u001b[43m]\u001b[49m)])\n",
       "\u001b[0;31mKeyError\u001b[0m: 82"
      ]
     }
    ],
    "execution": {
     "iopub.execute_input": "2023-10-05T18:57:29.868874Z",
     "iopub.status.busy": "2023-10-05T18:57:29.868585Z",
     "iopub.status.idle": "2023-10-05T18:57:29.874652Z",
     "shell.execute_reply": "2023-10-05T18:57:29.873758Z"
    }
   },
   "outputs": [
    {
     "data": {
      "text/plain": [
       "array([ 0,  2,  4,  6,  8, 10, 12, 14, 16, 18, 20])"
      ]
     },
     "execution_count": 80,
     "metadata": {},
     "output_type": "execute_result"
    }
   ],
   "source": [
    "arr + arr"
   ]
  },
  {
   "cell_type": "code",
   "execution_count": 82,
   "id": "5bb81d70",
   "metadata": {
    "error": [
     {
      "ename": "KeyError",
      "evalue": "84",
      "output_type": "error",
      "traceback": [
       "\u001b[0;31m---------------------------------------------------------------------------\u001b[0m",
       "\u001b[0;31mKeyError\u001b[0m                                  Traceback (most recent call last)",
       "Cell \u001b[0;32mIn[83], line 1\u001b[0m\n\u001b[0;32m----> 1\u001b[0m json\u001b[38;5;241m.\u001b[39mdumps([typehandlerforuniqueobjects(\u001b[43mOut\u001b[49m\u001b[43m[\u001b[49m\u001b[38;5;241;43m84\u001b[39;49m\u001b[43m]\u001b[49m)])\n",
       "\u001b[0;31mKeyError\u001b[0m: 84"
      ]
     }
    ],
    "execution": {
     "iopub.execute_input": "2023-10-05T18:57:29.905614Z",
     "iopub.status.busy": "2023-10-05T18:57:29.905327Z",
     "iopub.status.idle": "2023-10-05T18:57:29.911772Z",
     "shell.execute_reply": "2023-10-05T18:57:29.910864Z"
    }
   },
   "outputs": [
    {
     "data": {
      "text/plain": [
       "array([0.        , 1.        , 1.41421356, 1.73205081, 2.        ,\n",
       "       2.23606798, 2.44948974, 2.64575131, 2.82842712, 3.        ,\n",
       "       3.16227766])"
      ]
     },
     "execution_count": 82,
     "metadata": {},
     "output_type": "execute_result"
    }
   ],
   "source": [
    "np.sqrt(arr)     # give square root of array"
   ]
  },
  {
   "cell_type": "code",
   "execution_count": 84,
   "id": "df6f3e9c",
   "metadata": {
    "error": [
     {
      "ename": "KeyError",
      "evalue": "86",
      "output_type": "error",
      "traceback": [
       "\u001b[0;31m---------------------------------------------------------------------------\u001b[0m",
       "\u001b[0;31mKeyError\u001b[0m                                  Traceback (most recent call last)",
       "Cell \u001b[0;32mIn[85], line 1\u001b[0m\n\u001b[0;32m----> 1\u001b[0m json\u001b[38;5;241m.\u001b[39mdumps([typehandlerforuniqueobjects(\u001b[43mOut\u001b[49m\u001b[43m[\u001b[49m\u001b[38;5;241;43m86\u001b[39;49m\u001b[43m]\u001b[49m)])\n",
       "\u001b[0;31mKeyError\u001b[0m: 86"
      ]
     }
    ],
    "execution": {
     "iopub.execute_input": "2023-10-05T18:57:29.942506Z",
     "iopub.status.busy": "2023-10-05T18:57:29.942217Z",
     "iopub.status.idle": "2023-10-05T18:57:29.948783Z",
     "shell.execute_reply": "2023-10-05T18:57:29.947848Z"
    }
   },
   "outputs": [
    {
     "data": {
      "text/plain": [
       "array([1.00000000e+00, 2.71828183e+00, 7.38905610e+00, 2.00855369e+01,\n",
       "       5.45981500e+01, 1.48413159e+02, 4.03428793e+02, 1.09663316e+03,\n",
       "       2.98095799e+03, 8.10308393e+03, 2.20264658e+04])"
      ]
     },
     "execution_count": 84,
     "metadata": {},
     "output_type": "execute_result"
    }
   ],
   "source": [
    "np.exp(arr)      # give exponant of array"
   ]
  },
  {
   "cell_type": "code",
   "execution_count": 86,
   "id": "a0800a99",
   "metadata": {
    "error": [
     {
      "ename": "KeyError",
      "evalue": "88",
      "output_type": "error",
      "traceback": [
       "\u001b[0;31m---------------------------------------------------------------------------\u001b[0m",
       "\u001b[0;31mKeyError\u001b[0m                                  Traceback (most recent call last)",
       "Cell \u001b[0;32mIn[87], line 1\u001b[0m\n\u001b[0;32m----> 1\u001b[0m json\u001b[38;5;241m.\u001b[39mdumps([typehandlerforuniqueobjects(\u001b[43mOut\u001b[49m\u001b[43m[\u001b[49m\u001b[38;5;241;43m88\u001b[39;49m\u001b[43m]\u001b[49m)])\n",
       "\u001b[0;31mKeyError\u001b[0m: 88"
      ]
     }
    ],
    "execution": {
     "iopub.execute_input": "2023-10-05T18:57:29.979408Z",
     "iopub.status.busy": "2023-10-05T18:57:29.979115Z",
     "iopub.status.idle": "2023-10-05T18:57:29.985495Z",
     "shell.execute_reply": "2023-10-05T18:57:29.984537Z"
    }
   },
   "outputs": [
    {
     "data": {
      "text/plain": [
       "array([ 0.        ,  0.84147098,  0.90929743,  0.14112001, -0.7568025 ,\n",
       "       -0.95892427, -0.2794155 ,  0.6569866 ,  0.98935825,  0.41211849,\n",
       "       -0.54402111])"
      ]
     },
     "execution_count": 86,
     "metadata": {},
     "output_type": "execute_result"
    }
   ],
   "source": [
    "np.sin(arr)    #give sin value of arr"
   ]
  },
  {
   "cell_type": "code",
   "execution_count": null,
   "id": "da13f6de",
   "metadata": {},
   "outputs": [],
   "source": []
  }
 ],
 "metadata": {
  "kernelspec": {
   "display_name": "Python 3",
   "language": "python",
   "name": "python3"
  },
  "language_info": {
   "codemirror_mode": {
    "name": "ipython",
    "version": 3
   },
   "file_extension": ".py",
   "mimetype": "text/x-python",
   "name": "python",
   "nbconvert_exporter": "python",
   "pygments_lexer": "ipython3",
   "version": "3.8.17"
  }
 },
 "nbformat": 4,
 "nbformat_minor": 5
}
