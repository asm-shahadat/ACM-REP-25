{
 "cells": [
  {
   "cell_type": "markdown",
   "id": "48f2163c",
   "metadata": {},
   "source": [
    "## Factorial Challenge\n",
    "\n",
    "The factorial function gives the number of possible arrangements of a set of items of length \"n\"\n",
    "\n",
    "For example, there are 4! (\"four factorial\") or 24 ways to arrange four items, which can be calculated as: \n",
    "4 \\* 3 \\* 2 \\* 1\n",
    "\n",
    "5! = 5 \\* 4 \\* 3 \\* 2 \\* 1 = 120\n",
    "\n",
    "6! = 6 \\* 5 \\* 4 \\* 3 \\* 2 \\* 1 = 720\n",
    "\n",
    "etc.\n",
    "\n",
    "In a set of 0 items (an empty set) there is only one way to arrange the items, therefore, 0! = 1\n",
    "\n",
    "For the purposes of this exercise, factorials are only defined for **positive integers** (including 0)\n"
   ]
  },
  {
   "cell_type": "code",
   "execution_count": 2,
   "id": "92af0386",
   "metadata": {
    "execution": {
     "iopub.execute_input": "2023-10-05T09:42:06.128822Z",
     "iopub.status.busy": "2023-10-05T09:42:06.128531Z",
     "iopub.status.idle": "2023-10-05T09:42:06.134688Z",
     "shell.execute_reply": "2023-10-05T09:42:06.133610Z"
    }
   },
   "outputs": [],
   "source": [
    "# Returns the value of the factorial of num if it is defined, otherwise, returns None\n",
    "def factorial(num):\n",
    "    if type(num) is not int:\n",
    "        return None\n",
    "    if num < 0:\n",
    "        return None\n",
    "    if num == 0:\n",
    "        return 1\n",
    "    \n",
    "    i = 0\n",
    "    f = 1\n",
    "    while i < num:\n",
    "        i = i + 1\n",
    "        f = f * i\n",
    "        \n",
    "    return f"
   ]
  },
  {
   "cell_type": "code",
   "execution_count": 3,
   "id": "0682bb91",
   "metadata": {
    "execution": {
     "iopub.execute_input": "2023-10-05T09:42:06.138676Z",
     "iopub.status.busy": "2023-10-05T09:42:06.138340Z",
     "iopub.status.idle": "2023-10-05T09:42:06.144461Z",
     "shell.execute_reply": "2023-10-05T09:42:06.143362Z"
    }
   },
   "outputs": [],
   "source": [
    "# Returns the value of the factorial of num if it is defined, otherwise, returns None\n",
    "def factorial(num):\n",
    "    if type(num) is not int:\n",
    "        return None\n",
    "    if num < 0:\n",
    "        return None\n",
    "    if num == 0:\n",
    "        return 1\n",
    "    \n",
    "    return num * factorial(num - 1)\n"
   ]
  },
  {
   "cell_type": "code",
   "execution_count": 4,
   "id": "1d10be7a",
   "metadata": {
    "execution": {
     "iopub.execute_input": "2023-10-05T09:42:06.148074Z",
     "iopub.status.busy": "2023-10-05T09:42:06.147773Z",
     "iopub.status.idle": "2023-10-05T09:42:06.156999Z",
     "shell.execute_reply": "2023-10-05T09:42:06.156075Z"
    },
    "type_information": "[{\"type\": \"<class 'int'>\", \"name\": \"int\", \"module\": \"builtins\", \"size\": 28}]"
   },
   "outputs": [
    {
     "data": {
      "text/plain": [
       "120"
      ]
     },
     "execution_count": 4,
     "metadata": {},
     "output_type": "execute_result"
    }
   ],
   "source": [
    "# return 120\n",
    "factorial(5)"
   ]
  },
  {
   "cell_type": "code",
   "execution_count": 6,
   "id": "129006a6",
   "metadata": {
    "execution": {
     "iopub.execute_input": "2023-10-05T09:42:06.170796Z",
     "iopub.status.busy": "2023-10-05T09:42:06.170514Z",
     "iopub.status.idle": "2023-10-05T09:42:06.176406Z",
     "shell.execute_reply": "2023-10-05T09:42:06.175459Z"
    },
    "type_information": "[{\"type\": \"<class 'int'>\", \"name\": \"int\", \"module\": \"builtins\", \"size\": 28}]"
   },
   "outputs": [
    {
     "data": {
      "text/plain": [
       "720"
      ]
     },
     "execution_count": 6,
     "metadata": {},
     "output_type": "execute_result"
    }
   ],
   "source": [
    "# return 720\n",
    "factorial(6)"
   ]
  },
  {
   "cell_type": "code",
   "execution_count": 8,
   "id": "c43845c1",
   "metadata": {
    "execution": {
     "iopub.execute_input": "2023-10-05T09:42:06.189451Z",
     "iopub.status.busy": "2023-10-05T09:42:06.189048Z",
     "iopub.status.idle": "2023-10-05T09:42:06.195494Z",
     "shell.execute_reply": "2023-10-05T09:42:06.194481Z"
    },
    "type_information": "[{\"type\": \"<class 'int'>\", \"name\": \"int\", \"module\": \"builtins\", \"size\": 28}]"
   },
   "outputs": [
    {
     "data": {
      "text/plain": [
       "1"
      ]
     },
     "execution_count": 8,
     "metadata": {},
     "output_type": "execute_result"
    }
   ],
   "source": [
    "# return 1\n",
    "factorial(0)"
   ]
  },
  {
   "cell_type": "code",
   "execution_count": 10,
   "id": "8f605415",
   "metadata": {
    "execution": {
     "iopub.execute_input": "2023-10-05T09:42:06.210232Z",
     "iopub.status.busy": "2023-10-05T09:42:06.209898Z",
     "iopub.status.idle": "2023-10-05T09:42:06.214642Z",
     "shell.execute_reply": "2023-10-05T09:42:06.213616Z"
    }
   },
   "outputs": [],
   "source": [
    "# return None\n",
    "factorial(-2)"
   ]
  },
  {
   "cell_type": "code",
   "execution_count": 11,
   "id": "5b973ff0",
   "metadata": {
    "execution": {
     "iopub.execute_input": "2023-10-05T09:42:06.218435Z",
     "iopub.status.busy": "2023-10-05T09:42:06.218107Z",
     "iopub.status.idle": "2023-10-05T09:42:06.222824Z",
     "shell.execute_reply": "2023-10-05T09:42:06.221758Z"
    }
   },
   "outputs": [],
   "source": [
    "# return None\n",
    "factorial(1.2)"
   ]
  },
  {
   "cell_type": "code",
   "execution_count": 12,
   "id": "67f07cca",
   "metadata": {
    "execution": {
     "iopub.execute_input": "2023-10-05T09:42:06.226779Z",
     "iopub.status.busy": "2023-10-05T09:42:06.226444Z",
     "iopub.status.idle": "2023-10-05T09:42:06.231062Z",
     "shell.execute_reply": "2023-10-05T09:42:06.230048Z"
    }
   },
   "outputs": [],
   "source": [
    "# return None\n",
    "factorial('spam spam spam spam spam spam')"
   ]
  },
  {
   "cell_type": "code",
   "execution_count": null,
   "id": "714148cd",
   "metadata": {},
   "outputs": [],
   "source": []
  }
 ],
 "metadata": {
  "kernelspec": {
   "display_name": "Python 3 (ipykernel)",
   "language": "python",
   "name": "python3"
  },
  "language_info": {
   "codemirror_mode": {
    "name": "ipython",
    "version": 3
   },
   "file_extension": ".py",
   "mimetype": "text/x-python",
   "name": "python",
   "nbconvert_exporter": "python",
   "pygments_lexer": "ipython3",
   "version": "3.9.18"
  }
 },
 "nbformat": 4,
 "nbformat_minor": 5
}
