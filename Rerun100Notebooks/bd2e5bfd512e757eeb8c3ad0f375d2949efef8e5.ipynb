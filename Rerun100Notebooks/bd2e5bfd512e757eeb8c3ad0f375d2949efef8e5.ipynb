{
 "cells": [
  {
   "cell_type": "markdown",
   "id": "942f3aba",
   "metadata": {},
   "source": [
    "# Arithmetic\n",
    "\n",
    "Arrays allow you to perform stack operations on data without having to use `for` loops. This is called *vectorisation* in NumPy. For all arithmetic operations between arrays of the same size, the operation is applied element by element:"
   ]
  },
  {
   "cell_type": "code",
   "execution_count": 2,
   "id": "cc82112f",
   "metadata": {
    "execution": {
     "iopub.execute_input": "2023-10-05T14:54:54.630754Z",
     "iopub.status.busy": "2023-10-05T14:54:54.630468Z",
     "iopub.status.idle": "2023-10-05T14:54:54.710981Z",
     "shell.execute_reply": "2023-10-05T14:54:54.710205Z"
    },
    "type_information": "[{\"type\": \"<class 'numpy.ndarray'>\", \"name\": \"ndarray\", \"module\": \"numpy\", \"size\": 296, \"shape\": \"(7, 3)\", \"dtype\": \"float64\"}]"
   },
   "outputs": [
    {
     "data": {
      "text/plain": [
       "array([[-0.43012546, -0.10796272,  0.05438676],\n",
       "       [-0.61178552,  0.02731189, -1.17514573],\n",
       "       [ 1.11775942,  0.71115008, -1.28401564],\n",
       "       [ 0.54844849, -0.40924022, -0.94977055],\n",
       "       [ 0.43917948,  0.93350576, -0.3447778 ],\n",
       "       [-0.32687732,  0.69299648,  0.60578199],\n",
       "       [-0.53635563,  0.74014226, -0.48190485]])"
      ]
     },
     "execution_count": 2,
     "metadata": {},
     "output_type": "execute_result"
    }
   ],
   "source": [
    "import numpy as np\n",
    "\n",
    "data = np.random.randn(7, 3)\n",
    "data"
   ]
  },
  {
   "cell_type": "code",
   "execution_count": 4,
   "id": "1d3fdcf6",
   "metadata": {
    "execution": {
     "iopub.execute_input": "2023-10-05T14:54:54.723510Z",
     "iopub.status.busy": "2023-10-05T14:54:54.722801Z",
     "iopub.status.idle": "2023-10-05T14:54:54.728495Z",
     "shell.execute_reply": "2023-10-05T14:54:54.727770Z"
    },
    "type_information": "[{\"type\": \"<class 'numpy.ndarray'>\", \"name\": \"ndarray\", \"module\": \"numpy\", \"size\": 296, \"shape\": \"(7, 3)\", \"dtype\": \"float64\"}]"
   },
   "outputs": [
    {
     "data": {
      "text/plain": [
       "array([[-2.32490308, -9.26245659, 18.38682846],\n",
       "       [-1.63455977, 36.6140892 , -0.85095829],\n",
       "       [ 0.8946469 ,  1.40617294, -0.77880671],\n",
       "       [ 1.82332528, -2.44355258, -1.05288588],\n",
       "       [ 2.27697344,  1.07123067, -2.90041878],\n",
       "       [-3.05925172,  1.44300877,  1.65075887],\n",
       "       [-1.86443463,  1.35109161, -2.07509845]])"
      ]
     },
     "execution_count": 4,
     "metadata": {},
     "output_type": "execute_result"
    }
   ],
   "source": [
    "1 / data"
   ]
  },
  {
   "cell_type": "code",
   "execution_count": 6,
   "id": "3b409fac",
   "metadata": {
    "execution": {
     "iopub.execute_input": "2023-10-05T14:54:54.739773Z",
     "iopub.status.busy": "2023-10-05T14:54:54.739500Z",
     "iopub.status.idle": "2023-10-05T14:54:54.744938Z",
     "shell.execute_reply": "2023-10-05T14:54:54.744228Z"
    },
    "type_information": "[{\"type\": \"<class 'numpy.ndarray'>\", \"name\": \"ndarray\", \"module\": \"numpy\", \"size\": 296, \"shape\": \"(7, 3)\", \"dtype\": \"float64\"}]"
   },
   "outputs": [
    {
     "data": {
      "text/plain": [
       "array([[1.85007909e-01, 1.16559487e-02, 2.95791951e-03],\n",
       "       [3.74281522e-01, 7.45939370e-04, 1.38096749e+00],\n",
       "       [1.24938613e+00, 5.05734436e-01, 1.64869616e+00],\n",
       "       [3.00795748e-01, 1.67477559e-01, 9.02064093e-01],\n",
       "       [1.92878612e-01, 8.71432999e-01, 1.18871730e-01],\n",
       "       [1.06848782e-01, 4.80244121e-01, 3.66971823e-01],\n",
       "       [2.87677357e-01, 5.47810568e-01, 2.32232282e-01]])"
      ]
     },
     "execution_count": 6,
     "metadata": {},
     "output_type": "execute_result"
    }
   ],
   "source": [
    "data ** 2"
   ]
  },
  {
   "cell_type": "markdown",
   "id": "8bb8388b",
   "metadata": {},
   "source": [
    "Comparison of two arrays:"
   ]
  }
 ],
 "metadata": {
  "hide_input": false,
  "kernelspec": {
   "display_name": "Python 3 (ipykernel)",
   "language": "python",
   "name": "python3"
  },
  "language_info": {
   "codemirror_mode": {
    "name": "ipython",
    "version": 3
   },
   "file_extension": ".py",
   "mimetype": "text/x-python",
   "name": "python",
   "nbconvert_exporter": "python",
   "pygments_lexer": "ipython3",
   "version": "3.9.13"
  }
 },
 "nbformat": 4,
 "nbformat_minor": 5
}
