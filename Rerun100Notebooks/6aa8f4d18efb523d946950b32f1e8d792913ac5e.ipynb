{
 "cells": [
  {
   "cell_type": "code",
   "execution_count": 2,
   "metadata": {
    "execution": {
     "iopub.execute_input": "2023-10-05T07:57:10.589480Z",
     "iopub.status.busy": "2023-10-05T07:57:10.589192Z",
     "iopub.status.idle": "2023-10-05T07:57:11.444745Z",
     "shell.execute_reply": "2023-10-05T07:57:11.443328Z"
    }
   },
   "outputs": [],
   "source": [
    "import matplotlib.pyplot as plt\n",
    "import numpy as np"
   ]
  },
  {
   "cell_type": "markdown",
   "metadata": {},
   "source": [
    "# linear regression\n",
    "------"
   ]
  },
  {
   "cell_type": "code",
   "execution_count": 3,
   "metadata": {
    "debugging_output": [
     {
      "name": "stdout",
      "output_type": "stream",
      "text": "Out[3][0]\nOut[3][1]\nOut[3][2]\nOut[3][3]\n"
     }
    ],
    "execution": {
     "iopub.execute_input": "2023-10-05T07:57:11.449663Z",
     "iopub.status.busy": "2023-10-05T07:57:11.449193Z",
     "iopub.status.idle": "2023-10-05T07:57:11.696632Z",
     "shell.execute_reply": "2023-10-05T07:57:11.695553Z"
    }
   },
   "outputs": [
    {
     "name": "stdout",
     "output_type": "stream",
     "text": [
      "mean x , mean y \t 3.0 2.8\n"
     ]
    },
    {
     "data": {
      "image/png": "[encoded data removed]",
      "text/plain": [
       "<Figure size 640x480 with 1 Axes>"
      ]
     },
     "metadata": {},
     "output_type": "display_data"
    },
    {
     "name": "stdout",
     "output_type": "stream",
     "text": [
      "\ty haye pishbini shode:[1.1999999999999995, 1.9999999999999996, 3.5999999999999996, 2.8, 4.3999999999999995]\n",
      "\tyhaye asli:[1, 3, 3, 2, 5]\n",
      "error (mean distance from y ):  0.692820323027551\n"
     ]
    },
    {
     "data": {
      "text/plain": [
       "'\\n#shortcut for find B1\\nb1=np.corrcoef(xx,yy)[1][0]*(np.std(yy)/np.std(xx))\\nb1\\n'"
      ]
     },
     "execution_count": 3,
     "metadata": {},
     "output_type": "execute_result"
    }
   ],
   "source": [
    "\n",
    "xx=[1,2,4,3,5]\n",
    "yy=[1,3,3,2,5]\n",
    "def meang(data):\n",
    "    ins_num=len(data)\n",
    "    ins_sum=sum(data)\n",
    "    res=ins_sum/ins_num\n",
    "    return res\n",
    "meanX=meang(xx)\n",
    "meanY=meang(yy)\n",
    "print('mean x , mean y \\t',meanX,meanY)\n",
    "#  y=b0+ b1*x\n",
    "#  b1=sum((xi-mean) -( yi - mean))/sum ((xi-mean)**2)\n",
    "def simple_linear_regression(x,y):\n",
    "    '''\n",
    "    if y depend on one x\n",
    " Standard deviation is a measure of how much on average the data is spread out from the\n",
    " mean.\n",
    "    '''\n",
    "    meanX=meang(x)\n",
    "    meanY=meang(y)\n",
    "    s0=[]\n",
    "    s1=[]\n",
    "    for i in range(len(x)):\n",
    "        sorat=(x[i]-meanX)*(y[i]-meanY)\n",
    "        makhraj=(x[i]-meanX)**2\n",
    "        s0.append(sorat)\n",
    "        s1.append(makhraj)\n",
    "    b1res=sum(s0)/sum(s1)\n",
    "    b0res=meanY-(b1res*meanX)\n",
    "    resy=[]\n",
    "    for i in range(len(x)):\n",
    "        a=b0res+(b1res*x[i])\n",
    "        resy.append(a)\n",
    "    plt.plot(x,resy)\n",
    "    plt.scatter(x,y,color='r')\n",
    "\n",
    "    plt.show()\n",
    "    return resy\n",
    "yp=simple_linear_regression(xx,yy)\n",
    "print('\\ty haye pishbini shode:{}\\n\\tyhaye asli:{}'.format(yp,yy))\n",
    "def Rmse(yd,yp):\n",
    "    n=len(yp)\n",
    "    b=[]\n",
    "    for i in range(n):\n",
    "        a=(yp[i]-yd[i])**2\n",
    "        b.append(a)\n",
    "    c=sum(b)\n",
    "    d=np.sqrt(c/n)\n",
    "    return d\n",
    "print('error (mean distance from y ): ',Rmse(yy,yp))\n",
    "'''\n",
    "#shortcut for find B1\n",
    "b1=np.corrcoef(xx,yy)[1][0]*(np.std(yy)/np.std(xx))\n",
    "b1\n",
    "'''"
   ]
  },
  {
   "cell_type": "markdown",
   "metadata": {},
   "source": [
    "# Gradient descent \n",
    "----------"
   ]
  },
  {
   "cell_type": "code",
   "execution_count": 5,
   "metadata": {
    "debugging_output": [
     {
      "name": "stdout",
      "output_type": "stream",
      "text": "Out[5][0]\nTraceback (most recent call last):\n  File \"/tmp/ipykernel_22/2099456718.py\", line 5, in <module>\n    outputs.append(typehandlerforuniqueobjects(Out[5][i]))\nIndexError: invalid index to scalar variable.\n\nOut[5][1]\nTraceback (most recent call last):\n  File \"/tmp/ipykernel_22/2099456718.py\", line 5, in <module>\n    outputs.append(typehandlerforuniqueobjects(Out[5][i]))\nIndexError: invalid index to scalar variable.\n\n"
     }
    ],
    "execution": {
     "iopub.execute_input": "2023-10-05T07:57:11.733184Z",
     "iopub.status.busy": "2023-10-05T07:57:11.732348Z",
     "iopub.status.idle": "2023-10-05T07:57:11.745331Z",
     "shell.execute_reply": "2023-10-05T07:57:11.744455Z"
    },
    "scrolled": true
   },
   "outputs": [
    {
     "name": "stdout",
     "output_type": "stream",
     "text": [
      "1 -1.9867476295830143e+61\n",
      "3 -3.6423706542355264e+61\n",
      "3 -6.95361670354055e+61\n",
      "2 -5.297993678888038e+61\n",
      "5 -8.609239728193062e+61\n"
     ]
    },
    {
     "data": {
      "text/plain": [
       "5.792314927648244e+61"
      ]
     },
     "execution_count": 5,
     "metadata": {},
     "output_type": "execute_result"
    }
   ],
   "source": [
    "# y=b0+ b1*x\n",
    "# for 1st of yy and xx\n",
    "def GD(initweight,index):\n",
    "    init_weight=initweight\n",
    "    yyp=init_weight[0]+init_weight[1]*xx[index]\n",
    "    err=yyp-yy[index]\n",
    "    for i in range(300):\n",
    "        #print(init_weight)\n",
    "        learning_rate=0.1\n",
    "        upvalue0=init_weight[0]-(err*learning_rate)\n",
    "        init_weight[0]=upvalue0\n",
    "        upvalue1=init_weight[1]-(err*learning_rate*xx[index])   # error naghsh gradian ro dare \n",
    "        init_weight[1]=upvalue1                                 # dar asl bayad moshtagh martabe 1 taabe baashe\n",
    "        yyp=init_weight[0]+init_weight[1]*xx[index]\n",
    "        err=yyp-yy[index]\n",
    "        \n",
    "    return init_weight\n",
    "wn=GD([0,0],4)\n",
    "def predictor(x,y,w):\n",
    "    resy=[]\n",
    "    for i in range(len(x)):\n",
    "        yyp=w[0]+w[1]*x[i]\n",
    "        resy.append(yyp)\n",
    "    for i,j in zip(y,resy):\n",
    "        print(i,j)\n",
    "    return resy\n",
    "basd=predictor(xx,yy,wn)\n",
    "Rmse(yy,basd)"
   ]
  },
  {
   "cell_type": "markdown",
   "metadata": {},
   "source": [
    "# Lofistic regression\n",
    "---------"
   ]
  },
  {
   "cell_type": "code",
   "execution_count": 7,
   "metadata": {
    "debugging_output": [
     {
      "name": "stdout",
      "output_type": "stream",
      "text": "Out[7][0]\nOut[7][1]\n"
     }
    ],
    "execution": {
     "iopub.execute_input": "2023-10-05T07:57:11.757664Z",
     "iopub.status.busy": "2023-10-05T07:57:11.757375Z",
     "iopub.status.idle": "2023-10-05T07:57:11.962676Z",
     "shell.execute_reply": "2023-10-05T07:57:11.961618Z"
    }
   },
   "outputs": [
    {
     "data": {
      "text/plain": [
       "(10, 2)"
      ]
     },
     "execution_count": 7,
     "metadata": {},
     "output_type": "execute_result"
    },
    {
     "data": {
      "image/png": "[encoded data removed]",
      "text/plain": [
       "<Figure size 640x480 with 1 Axes>"
      ]
     },
     "metadata": {},
     "output_type": "display_data"
    }
   ],
   "source": [
    "X=np.array([[2.7810836, 2.550537003, 0],\n",
    "           [1.465489372, 2.362125076, 0],\n",
    "   [3.396561688, 4.400293529, 0],\n",
    "   [1.38807019, 1.850220317, 0],\n",
    "   [3.06407232, 3.005305973, 0],\n",
    "   [7.627531214, 2.759262235, 1],\n",
    "    [5.332441248, 2.088626775, 1],\n",
    "    [6.922596716, 1.77106367, 1],\n",
    "    [8.675418651, -0.242068655, 1],\n",
    "    [7.673756466, 3.508563011, 1]\n",
    "])\n",
    "x1,x2,y=X[:,0],X[:,1],X[:,2]\n",
    "\n",
    "a=np.ones(len(x2))\n",
    "Xd=np.array(list(zip(x1,x2)))\n",
    "\n",
    "y=[int(x) for x in y]\n",
    "colormap = np.array(['r', 'g'])\n",
    "plt.scatter(x1,x2,color=colormap[y])\n",
    "Xd.shape"
   ]
  },
  {
   "cell_type": "code",
   "execution_count": 9,
   "metadata": {
    "debugging_output": [
     {
      "name": "stdout",
      "output_type": "stream",
      "text": "Out[9][0]\nOut[9][1]\n"
     }
    ],
    "execution": {
     "iopub.execute_input": "2023-10-05T07:57:11.975750Z",
     "iopub.status.busy": "2023-10-05T07:57:11.975456Z",
     "iopub.status.idle": "2023-10-05T07:57:11.998579Z",
     "shell.execute_reply": "2023-10-05T07:57:11.997606Z"
    }
   },
   "outputs": [
    {
     "name": "stdout",
     "output_type": "stream",
     "text": [
      "[(0, 0), (0, 0), (0, 0), (0, 0), (0, 0), (1, 1), (1, 1), (1, 1), (1, 1), (1, 1)] \n",
      "the accuracy : \t 1.0\n"
     ]
    },
    {
     "data": {
      "text/plain": [
       "[0, 0, 0, 0, 0, 1, 1, 1, 1, 1]"
      ]
     },
     "execution_count": 9,
     "metadata": {},
     "output_type": "execute_result"
    }
   ],
   "source": [
    "import random\n",
    "class LR:\n",
    "    def __init__(self):\n",
    "        pass\n",
    "    def sigmoid(self,w,x):\n",
    "        res=w[0]+(np.dot(w[1:],x))\n",
    "        out=1/(1+np.exp(-res))\n",
    "        return out\n",
    "    def updater(self,w,alpha,y,ypred,x):\n",
    "        w1 = w[0] + alpha * (y-ypred) * ypred * (1-ypred)* 1\n",
    "        w2 = w[1] + alpha * (y-ypred) * ypred * (1-ypred)* x[0]\n",
    "        w3 = w[2] + alpha * (y-ypred) * ypred * (1-ypred)* x[1]\n",
    "        wnew=list([w1,w2,w3])\n",
    "        return wnew\n",
    "    def doo(self,inw,x,y,ite):\n",
    "        t=0\n",
    "        w=inw\n",
    "        while t <ite :\n",
    "            sto=random.randint(0,9)\n",
    "            a=self.sigmoid(w,x[sto])\n",
    "            w=self.updater(w,0.3,y[sto],a,x[sto])\n",
    "            #print(w,sto)\n",
    "            t+=1\n",
    "        return w\n",
    "    def predicter(self,w,x,y):\n",
    "        sto=[]\n",
    "        for i in x:\n",
    "            a=self.sigmoid(w,i)\n",
    "            sto.append(a)\n",
    "        res=[]\n",
    "        for i in sto:\n",
    "            if i>=0.5:\n",
    "                i=1\n",
    "                res.append(i)\n",
    "            elif i< 0.5:\n",
    "                i=0\n",
    "                res.append(i)\n",
    "        acc=[(i,j) for i,j in zip(y,res)]\n",
    "        score=0\n",
    "        for i,j in acc:\n",
    "            if i == j :\n",
    "                score+=1\n",
    "        \n",
    "        print(acc,'\\nthe accuracy : \\t',score/len(x))\n",
    "        return res\n",
    "sg=LR()\n",
    "inw=[0,0,0]\n",
    "yp=sg.sigmoid(inw,Xd[0])\n",
    "sg.updater([0,0,0],0.3,y[0],yp,Xd[0])\n",
    "www=sg.doo([0,0,0],Xd,y,20)\n",
    "#sg.predicter(www,Xd,y)\n",
    "sg.predicter(www,Xd,y)"
   ]
  },
  {
   "cell_type": "markdown",
   "metadata": {},
   "source": [
    "# Linear Discriminant Analysis\n",
    "---------------\n",
    "calculate mean and variance for each class\n",
    "\n",
    "calculate the class probability \n"
   ]
  },
  {
   "cell_type": "code",
   "execution_count": 11,
   "metadata": {
    "error": [
     {
      "ename": "KeyError",
      "evalue": "11",
      "output_type": "error",
      "traceback": [
       "\u001b[0;31m---------------------------------------------------------------------------\u001b[0m",
       "\u001b[0;31mKeyError\u001b[0m                                  Traceback (most recent call last)",
       "Cell \u001b[0;32mIn[12], line 1\u001b[0m\n\u001b[0;32m----> 1\u001b[0m json\u001b[38;5;241m.\u001b[39mdumps([typehandlerforuniqueobjects(\u001b[43mOut\u001b[49m\u001b[43m[\u001b[49m\u001b[38;5;241;43m11\u001b[39;49m\u001b[43m]\u001b[49m)])\n",
       "\u001b[0;31mKeyError\u001b[0m: 11"
      ]
     }
    ],
    "execution": {
     "iopub.execute_input": "2023-10-05T07:57:12.011516Z",
     "iopub.status.busy": "2023-10-05T07:57:12.011229Z",
     "iopub.status.idle": "2023-10-05T07:57:12.221542Z",
     "shell.execute_reply": "2023-10-05T07:57:12.220370Z"
    }
   },
   "outputs": [
    {
     "data": {
      "image/png": "[encoded data removed]",
      "text/plain": [
       "<Figure size 640x480 with 1 Axes>"
      ]
     },
     "metadata": {},
     "output_type": "display_data"
    }
   ],
   "source": [
    "#Load data\n",
    "data=[\n",
    "[4.667797637, 0],\n",
    "[5.509198779, 0],\n",
    "[4.702791608, 0],\n",
    "[5.956706641,0],\n",
    "[5.738622413, 0],\n",
    "[5.027283325, 0],\n",
    "[4.805434058, 0],\n",
    "[4.425689143, 0],\n",
    "[5.009368635, 0],\n",
    "[5.116718815, 0],\n",
    "[6.370917709, 0],\n",
    "[2.895041947, 0],\n",
    "[4.666842365, 0],\n",
    "[5.602154638, 0],\n",
    "[4.902797978, 0],\n",
    "[5.032652964, 0],\n",
    "[4.083972925, 0],\n",
    "[4.875524106, 0],\n",
    "[4.732801047, 0],\n",
    "[5.385993407, 0],\n",
    "[20.74393514, 1],\n",
    "[21.41752855, 1],\n",
    "[20.57924186, 1],\n",
    "[20.7386947 ,1],\n",
    "[19.44605384, 1],\n",
    "[18.36360265, 1],\n",
    "[19.90363232, 1],\n",
    "[19.10870851, 1],\n",
    "[18.18787593, 1],\n",
    "[19.71767611, 1],\n",
    "[19.09629027, 1],\n",
    "[20.52741312, 1],\n",
    "[20.63205608, 1],\n",
    "[19.86218119, 1],\n",
    "[21.34670569, 1],\n",
    "[20.333906 ,1],\n",
    "[21.02714855, 1],\n",
    "[18.27536089, 1],\n",
    "[21.77371156, 1],\n",
    "[20.65953546, 1]]\n",
    "data=np.array(data)\n",
    "xdata=data[:,0]\n",
    "ydata=data[:,1]\n",
    "y=[int(i) for i in ydata]\n",
    "colormap=np.array(['b','k'])\n",
    "plt.scatter(range(len(xdata)),xdata,color=colormap[y])\n",
    "plt.show()\n",
    "class1=[]\n",
    "class2=[]\n",
    "for i in range(len(xdata)):\n",
    "    if ydata[i] == 0:\n",
    "        class1.append(xdata[i])\n",
    "    elif ydata[i] == 1:\n",
    "        class2.append(xdata[i])\n",
    "c1,c2=np.array(class1),np.array(class2)\n",
    "meanC1,meanC2=np.mean(c1),np.mean(c2)\n",
    "\n",
    "classprobability=[y.count(1)/len(y),y.count(0)/len(y)]"
   ]
  },
  {
   "cell_type": "code",
   "execution_count": 13,
   "metadata": {
    "collapsed": true,
    "error": [
     {
      "ename": "KeyError",
      "evalue": "13",
      "output_type": "error",
      "traceback": [
       "\u001b[0;31m---------------------------------------------------------------------------\u001b[0m",
       "\u001b[0;31mKeyError\u001b[0m                                  Traceback (most recent call last)",
       "Cell \u001b[0;32mIn[14], line 1\u001b[0m\n\u001b[0;32m----> 1\u001b[0m json\u001b[38;5;241m.\u001b[39mdumps([typehandlerforuniqueobjects(\u001b[43mOut\u001b[49m\u001b[43m[\u001b[49m\u001b[38;5;241;43m13\u001b[39;49m\u001b[43m]\u001b[49m)])\n",
       "\u001b[0;31mKeyError\u001b[0m: 13"
      ]
     }
    ],
    "execution": {
     "iopub.execute_input": "2023-10-05T07:57:12.631569Z",
     "iopub.status.busy": "2023-10-05T07:57:12.631301Z",
     "iopub.status.idle": "2023-10-05T07:57:12.643252Z",
     "shell.execute_reply": "2023-10-05T07:57:12.642199Z"
    },
    "jupyter": {
     "outputs_hidden": true
    }
   },
   "outputs": [
    {
     "name": "stdout",
     "output_type": "stream",
     "text": [
      "0 0\n",
      "0 0\n",
      "0 0\n",
      "0 0\n",
      "0 0\n",
      "0 0\n",
      "0 0\n",
      "0 0\n",
      "0 0\n",
      "0 0\n",
      "0 0\n",
      "0 0\n",
      "0 0\n",
      "0 0\n",
      "0 0\n",
      "0 0\n",
      "0 0\n",
      "0 0\n",
      "0 0\n",
      "0 0\n",
      "1 1\n",
      "1 1\n",
      "1 1\n",
      "1 1\n",
      "1 1\n",
      "1 1\n",
      "1 1\n",
      "1 1\n",
      "1 1\n",
      "1 1\n",
      "1 1\n",
      "1 1\n",
      "1 1\n",
      "1 1\n",
      "1 1\n",
      "1 1\n",
      "1 1\n",
      "1 1\n",
      "1 1\n",
      "1 1\n",
      "acc 1.0\n"
     ]
    }
   ],
   "source": [
    "def SquaredDifference(data):\n",
    "    mean=sum(data)/len(data)\n",
    "    a=[(i-mean)**2 for i in data]\n",
    "    a=sum(a)\n",
    "    return a\n",
    "def variance(SD,Nclass,Ninstance):\n",
    "    var=1/(Ninstance-Nclass) * SD\n",
    "    return var\n",
    "    \n",
    "SDC1,SDC2=SquaredDifference(c1),SquaredDifference(c2)\n",
    "SDT=SDC1+SDC2\n",
    "var=variance(SDT,2,len(xdata))\n",
    "# ,,,,,,,,,,,,,,,,,,,,,,,,,,,,,,,,,,,,,,,,,,,,,,,,,,,,,,,,,\n",
    "import math\n",
    "def LdA(x,mean,var,classProbability):\n",
    "    a = x * (mean/var)  -  ((mean)**2/(var*2)) + math.log(classProbability)\n",
    "    return a\n",
    "def predict(x,mean,var,classProbability):\n",
    "    sto=[]\n",
    "    for i in xdata:\n",
    "        a=LdA(i,meanC1,var,classprobability[0])\n",
    "        b= LdA(i,meanC2,var,classprobability[1])\n",
    "        sto.append([a,b])\n",
    "    res=[]\n",
    "    for i,j in sto:\n",
    "        a=0 if i>j else 1\n",
    "        res.append(a)\n",
    "    return res\n",
    "yp=predict(i,meanC1,var,classprobability[0])\n",
    "ss=0\n",
    "for i in range(len(y)):\n",
    "    print(y[i],yp[i])\n",
    "    if y[i]==yp[i]:\n",
    "        ss+=1\n",
    "    \n",
    "print('acc',ss/len(y))"
   ]
  },
  {
   "cell_type": "markdown",
   "metadata": {},
   "source": [
    "# `NonLinear algorithms`\n"
   ]
  },
  {
   "cell_type": "markdown",
   "metadata": {},
   "source": [
    "# CART \n",
    "---------"
   ]
  },
  {
   "cell_type": "code",
   "execution_count": 15,
   "metadata": {
    "debugging_output": [
     {
      "name": "stdout",
      "output_type": "stream",
      "text": "Out[15][0]\nTraceback (most recent call last):\n  File \"/tmp/ipykernel_22/611034793.py\", line 5, in <module>\n    outputs.append(typehandlerforuniqueobjects(Out[15][i]))\nTypeError: 'PathCollection' object is not subscriptable\n\nOut[15][1]\nTraceback (most recent call last):\n  File \"/tmp/ipykernel_22/611034793.py\", line 5, in <module>\n    outputs.append(typehandlerforuniqueobjects(Out[15][i]))\nTypeError: 'PathCollection' object is not subscriptable\n\n"
     }
    ],
    "execution": {
     "iopub.execute_input": "2023-10-05T07:57:12.671176Z",
     "iopub.status.busy": "2023-10-05T07:57:12.670884Z",
     "iopub.status.idle": "2023-10-05T07:57:12.827989Z",
     "shell.execute_reply": "2023-10-05T07:57:12.826997Z"
    }
   },
   "outputs": [
    {
     "data": {
      "text/plain": [
       "<matplotlib.collections.PathCollection at 0x7fd6a8a94520>"
      ]
     },
     "execution_count": 15,
     "metadata": {},
     "output_type": "execute_result"
    },
    {
     "data": {
      "image/png": "[encoded data removed]",
      "text/plain": [
       "<Figure size 640x480 with 1 Axes>"
      ]
     },
     "metadata": {},
     "output_type": "display_data"
    }
   ],
   "source": [
    "data=[\n",
    "[2.771244718, 1.784783929, 0],\n",
    "[1.728571309, 1.169761413 ,0],\n",
    "[3.678319846, 2.81281357 ,0],\n",
    "[3.961043357, 2.61995032 ,0],\n",
    "[2.999208922, 2.209014212, 0],\n",
    "[7.497545867, 3.162953546, 1],\n",
    "[9.00220326 ,3.339047188 ,1],\n",
    "[7.444542326, 0.476683375, 1],\n",
    "[10.12493903, 3.234550982, 1],\n",
    "[6.642287351, 3.319983761 ,1]]\n",
    "data=np.array(data)\n",
    "xdata=data[:,:2]\n",
    "ydata=data[:,2]\n",
    "ydata=[int(i) for i in ydata]\n",
    "colormap=np.array(['r','b'])\n",
    "plt.scatter(xdata[:,0],xdata[:,1],color=colormap[ydata])"
   ]
  },
  {
   "cell_type": "code",
   "execution_count": 17,
   "metadata": {
    "debugging_output": [
     {
      "name": "stdout",
      "output_type": "stream",
      "text": "Out[17][0]\nTraceback (most recent call last):\n  File \"/tmp/ipykernel_22/3573373781.py\", line 5, in <module>\n    outputs.append(typehandlerforuniqueobjects(Out[17][i]))\nKeyError: 0\n\nOut[17][1]\nTraceback (most recent call last):\n  File \"/tmp/ipykernel_22/3573373781.py\", line 5, in <module>\n    outputs.append(typehandlerforuniqueobjects(Out[17][i]))\nKeyError: 1\n\n"
     }
    ],
    "execution": {
     "iopub.execute_input": "2023-10-05T07:57:12.840293Z",
     "iopub.status.busy": "2023-10-05T07:57:12.840067Z",
     "iopub.status.idle": "2023-10-05T07:57:12.850092Z",
     "shell.execute_reply": "2023-10-05T07:57:12.849241Z"
    }
   },
   "outputs": [
    {
     "name": "stdout",
     "output_type": "stream",
     "text": [
      "0.0\n"
     ]
    },
    {
     "data": {
      "text/plain": [
       "{'left': [0, 0, 0, 0, 0], 'right': [1, 1, 1, 1, 1]}"
      ]
     },
     "execution_count": 17,
     "metadata": {},
     "output_type": "execute_result"
    }
   ],
   "source": [
    "def spliter(data,sp,y):\n",
    "    navi={'left':[] , 'right':[]}\n",
    "    for i in range(len(data)):\n",
    "        if data[i] >= sp :\n",
    "            navi['right'].append(y[i])\n",
    "        elif data[i] < sp:\n",
    "            navi['left'].append(y[i])\n",
    "    left_class1=navi['left'].count(1)/len(navi['left'])\n",
    "    right_class1=navi['right'].count(1)/len(navi['right'])\n",
    "    left_class2=1-left_class1\n",
    "    right_class2=1-right_class1\n",
    "    gini=left_class1 * (1 - left_class1) + right_class1 * (1- right_class1) +left_class2 * (1 - left_class2) + right_class2 * (1- right_class2)\n",
    "    print(gini)\n",
    "    return navi\n",
    "\n",
    "spliter(xdata[:,0],4,ydata)"
   ]
  },
  {
   "cell_type": "code",
   "execution_count": null,
   "metadata": {},
   "outputs": [],
   "source": []
  },
  {
   "cell_type": "code",
   "execution_count": null,
   "metadata": {},
   "outputs": [],
   "source": []
  }
 ],
 "metadata": {
  "kernelspec": {
   "display_name": "Python 3",
   "language": "python",
   "name": "python3"
  },
  "language_info": {
   "codemirror_mode": {
    "name": "ipython",
    "version": 3
   },
   "file_extension": ".py",
   "mimetype": "text/x-python",
   "name": "python",
   "nbconvert_exporter": "python",
   "pygments_lexer": "ipython3",
   "version": "3.8.17"
  }
 },
 "nbformat": 4,
 "nbformat_minor": 4
}
