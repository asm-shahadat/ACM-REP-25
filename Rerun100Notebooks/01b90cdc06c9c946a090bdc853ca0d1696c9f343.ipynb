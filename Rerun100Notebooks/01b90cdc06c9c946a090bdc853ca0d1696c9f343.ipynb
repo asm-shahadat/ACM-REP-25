{
 "cells": [
  {
   "cell_type": "markdown",
   "metadata": {
    "id": "kZUHI1XZ3kqO"
   },
   "source": [
    "# Statistical Modeling with Python\n",
    "\n",
    "`statsmodels` is better suited for traditional stats"
   ]
  },
  {
   "cell_type": "code",
   "execution_count": 2,
   "metadata": {
    "ExecuteTime": {
     "end_time": "2020-05-13T15:18:36.966142Z",
     "start_time": "2020-05-13T15:18:36.963232Z"
    },
    "execution": {
     "iopub.execute_input": "2023-10-04T22:54:49.841249Z",
     "iopub.status.busy": "2023-10-04T22:54:49.840943Z",
     "iopub.status.idle": "2023-10-04T22:54:52.266878Z",
     "shell.execute_reply": "2023-10-04T22:54:52.265513Z"
    },
    "id": "z4knjWV43kqW"
   },
   "outputs": [],
   "source": [
    "# the statsmodels.api uses numpy array notation\n",
    "# statsmodels.formula.api use formula notation (similar to R's formula notation)\n",
    "import numpy as np\n",
    "import pandas as pd\n",
    "import matplotlib.pyplot as plt\n",
    "import seaborn as sns\n",
    "import statsmodels.api as sm\n",
    "import statsmodels.formula.api as smf"
   ]
  },
  {
   "cell_type": "markdown",
   "metadata": {
    "id": "WR2zVUkZ3kqb"
   },
   "source": [
    "## A minimal OLS example"
   ]
  },
  {
   "cell_type": "markdown",
   "metadata": {
    "id": "4Qhd04K63kqc"
   },
   "source": [
    "Four pairs of points"
   ]
  },
  {
   "cell_type": "code",
   "execution_count": 3,
   "metadata": {
    "execution": {
     "iopub.execute_input": "2023-10-04T22:54:52.272065Z",
     "iopub.status.busy": "2023-10-04T22:54:52.271587Z",
     "iopub.status.idle": "2023-10-04T22:54:52.277406Z",
     "shell.execute_reply": "2023-10-04T22:54:52.276279Z"
    },
    "id": "J3vOGS6_3kqc"
   },
   "outputs": [],
   "source": [
    "x = np.array([1,2,3,4])\n",
    "y = np.array([2,6,4,8])"
   ]
  },
  {
   "cell_type": "code",
   "execution_count": 4,
   "metadata": {
    "colab": {
     "base_uri": "https://localhost:8080/",
     "height": 269
    },
    "error": [
     {
      "ename": "KeyError",
      "evalue": "4",
      "output_type": "error",
      "traceback": [
       "\u001b[0;31m---------------------------------------------------------------------------\u001b[0m",
       "\u001b[0;31mKeyError\u001b[0m                                  Traceback (most recent call last)",
       "Cell \u001b[0;32mIn[5], line 1\u001b[0m\n\u001b[0;32m----> 1\u001b[0m json\u001b[38;5;241m.\u001b[39mdumps([typehandlerforuniqueobjects(\u001b[43mOut\u001b[49m\u001b[43m[\u001b[49m\u001b[38;5;241;43m4\u001b[39;49m\u001b[43m]\u001b[49m)])\n",
       "\u001b[0;31mKeyError\u001b[0m: 4"
      ]
     }
    ],
    "execution": {
     "iopub.execute_input": "2023-10-04T22:54:52.281382Z",
     "iopub.status.busy": "2023-10-04T22:54:52.281076Z",
     "iopub.status.idle": "2023-10-04T22:54:52.461415Z",
     "shell.execute_reply": "2023-10-04T22:54:52.460360Z"
    },
    "id": "L9QIhXVi3kqd",
    "outputId": "577081a6-ffb4-46d5-e555-d99b59858dae"
   },
   "outputs": [
    {
     "data": {
      "image/png": "[encoded data removed]",
      "text/plain": [
       "<Figure size 640x480 with 1 Axes>"
      ]
     },
     "metadata": {},
     "output_type": "display_data"
    }
   ],
   "source": [
    "plt.scatter(x,y, marker = '.')\n",
    "plt.xlim(0,5)\n",
    "plt.ylim(0,10)\n",
    "plt.show()"
   ]
  },
  {
   "cell_type": "code",
   "execution_count": 6,
   "metadata": {
    "colab": {
     "base_uri": "https://localhost:8080/"
    },
    "error": [
     {
      "ename": "KeyError",
      "evalue": "6",
      "output_type": "error",
      "traceback": [
       "\u001b[0;31m---------------------------------------------------------------------------\u001b[0m",
       "\u001b[0;31mKeyError\u001b[0m                                  Traceback (most recent call last)",
       "Cell \u001b[0;32mIn[7], line 1\u001b[0m\n\u001b[0;32m----> 1\u001b[0m json\u001b[38;5;241m.\u001b[39mdumps([typehandlerforuniqueobjects(\u001b[43mOut\u001b[49m\u001b[43m[\u001b[49m\u001b[38;5;241;43m6\u001b[39;49m\u001b[43m]\u001b[49m)])\n",
       "\u001b[0;31mKeyError\u001b[0m: 6"
      ]
     }
    ],
    "execution": {
     "iopub.execute_input": "2023-10-04T22:54:52.962289Z",
     "iopub.status.busy": "2023-10-04T22:54:52.962015Z",
     "iopub.status.idle": "2023-10-04T22:54:52.974232Z",
     "shell.execute_reply": "2023-10-04T22:54:52.973124Z"
    },
    "id": "luUEVA6w3kqg",
    "outputId": "508fa5e1-dccf-47da-ccda-522744e24d20"
   },
   "outputs": [
    {
     "name": "stdout",
     "output_type": "stream",
     "text": [
      "   x  y\n",
      "0  1  2\n",
      "1  2  6\n",
      "2  3  4\n",
      "3  4  8\n"
     ]
    }
   ],
   "source": [
    "# make a dataframe of our data\n",
    "d = pd.DataFrame({'x':x, 'y':y})\n",
    "print(d)"
   ]
  },
  {
   "cell_type": "markdown",
   "metadata": {
    "id": "BQcb7etn3kqi"
   },
   "source": [
    "Seaborn lmplot"
   ]
  },
  {
   "cell_type": "code",
   "execution_count": 8,
   "metadata": {
    "colab": {
     "base_uri": "https://localhost:8080/",
     "height": 386
    },
    "debugging_output": [
     {
      "name": "stdout",
      "output_type": "stream",
      "text": "Out[8][0]\nTraceback (most recent call last):\n  File \"/tmp/ipykernel_20/181479836.py\", line 5, in <module>\n    outputs.append(typehandlerforuniqueobjects(Out[8][i]))\nTypeError: 'FacetGrid' object is not subscriptable\n\nOut[8][1]\nTraceback (most recent call last):\n  File \"/tmp/ipykernel_20/181479836.py\", line 5, in <module>\n    outputs.append(typehandlerforuniqueobjects(Out[8][i]))\nTypeError: 'FacetGrid' object is not subscriptable\n\n"
     }
    ],
    "execution": {
     "iopub.execute_input": "2023-10-04T22:54:53.006159Z",
     "iopub.status.busy": "2023-10-04T22:54:53.005895Z",
     "iopub.status.idle": "2023-10-04T22:54:53.354088Z",
     "shell.execute_reply": "2023-10-04T22:54:53.353221Z"
    },
    "id": "vgetHdZZ3kqj",
    "outputId": "74dd9c82-d577-4cda-df8a-86f70dc9864c"
   },
   "outputs": [
    {
     "data": {
      "text/plain": [
       "<seaborn.axisgrid.FacetGrid at 0x7f3148049550>"
      ]
     },
     "execution_count": 8,
     "metadata": {},
     "output_type": "execute_result"
    },
    {
     "data": {
      "image/png": "[encoded data removed]",
      "text/plain": [
       "<Figure size 500x500 with 1 Axes>"
      ]
     },
     "metadata": {},
     "output_type": "display_data"
    }
   ],
   "source": [
    "sns.lmplot(x = 'x', y = 'y', data = d)\n"
   ]
  },
  {
   "cell_type": "markdown",
   "metadata": {
    "id": "dOi1Wzhy3kqk"
   },
   "source": [
    "## Formula notation with statsmodels\n",
    "use statsmodels.formula.api (often imported as smf)"
   ]
  },
  {
   "cell_type": "code",
   "execution_count": 10,
   "metadata": {
    "execution": {
     "iopub.execute_input": "2023-10-04T22:54:53.367240Z",
     "iopub.status.busy": "2023-10-04T22:54:53.367022Z",
     "iopub.status.idle": "2023-10-04T22:54:53.376186Z",
     "shell.execute_reply": "2023-10-04T22:54:53.375301Z"
    },
    "id": "T4TluJa03kql"
   },
   "outputs": [],
   "source": [
    "# data is in a dataframe\n",
    "model = smf.ols('y ~ x', data = d)\n"
   ]
  },
  {
   "cell_type": "code",
   "execution_count": 11,
   "metadata": {
    "execution": {
     "iopub.execute_input": "2023-10-04T22:54:53.379643Z",
     "iopub.status.busy": "2023-10-04T22:54:53.379428Z",
     "iopub.status.idle": "2023-10-04T22:54:53.383687Z",
     "shell.execute_reply": "2023-10-04T22:54:53.382818Z"
    },
    "id": "WsUbe4BB3kqm"
   },
   "outputs": [],
   "source": [
    "# estimation of coefficients is not done until you call fit() on the model\n",
    "results = model.fit()\n",
    "\n"
   ]
  },
  {
   "cell_type": "code",
   "execution_count": 12,
   "metadata": {
    "colab": {
     "base_uri": "https://localhost:8080/"
    },
    "debugging_output": [
     {
      "name": "stdout",
      "output_type": "stream",
      "text": "Out[12][0]\nTraceback (most recent call last):\n  File \"/tmp/ipykernel_20/3415882751.py\", line 5, in <module>\n    outputs.append(typehandlerforuniqueobjects(Out[12][i]))\nKeyError: 12\n\nOut[12][1]\nTraceback (most recent call last):\n  File \"/tmp/ipykernel_20/3415882751.py\", line 5, in <module>\n    outputs.append(typehandlerforuniqueobjects(Out[12][i]))\nKeyError: 12\n\n"
     }
    ],
    "execution": {
     "iopub.execute_input": "2023-10-04T22:54:53.387023Z",
     "iopub.status.busy": "2023-10-04T22:54:53.386810Z",
     "iopub.status.idle": "2023-10-04T22:54:53.399272Z",
     "shell.execute_reply": "2023-10-04T22:54:53.398374Z"
    },
    "id": "DKUR8jV13kqn",
    "outputId": "0321e475-292f-4dee-ffa2-0362d9c8b354"
   },
   "outputs": [
    {
     "name": "stdout",
     "output_type": "stream",
     "text": [
      "                            OLS Regression Results                            \n",
      "==============================================================================\n",
      "Dep. Variable:                      y   R-squared:                       0.640\n",
      "Model:                            OLS   Adj. R-squared:                  0.460\n",
      "Method:                 Least Squares   F-statistic:                     3.556\n",
      "Date:                Wed, 04 Oct 2023   Prob (F-statistic):              0.200\n",
      "Time:                        22:54:53   Log-Likelihood:                -6.8513\n",
      "No. Observations:                   4   AIC:                             17.70\n",
      "Df Residuals:                       2   BIC:                             16.48\n",
      "Df Model:                           1                                         \n",
      "Covariance Type:            nonrobust                                         \n",
      "==============================================================================\n",
      "                 coef    std err          t      P>|t|      [0.025      0.975]\n",
      "------------------------------------------------------------------------------\n",
      "Intercept      1.0000      2.324      0.430      0.709      -8.998      10.998\n",
      "x              1.6000      0.849      1.886      0.200      -2.051       5.251\n",
      "==============================================================================\n",
      "Omnibus:                          nan   Durbin-Watson:                   3.400\n",
      "Prob(Omnibus):                    nan   Jarque-Bera (JB):                0.308\n",
      "Skew:                           0.000   Prob(JB):                        0.857\n",
      "Kurtosis:                       1.640   Cond. No.                         7.47\n",
      "==============================================================================\n",
      "\n",
      "Notes:\n",
      "[1] Standard Errors assume that the covariance matrix of the errors is correctly specified.\n"
     ]
    },
    {
     "name": "stderr",
     "output_type": "stream",
     "text": [
      "/opt/conda/envs/testenv/lib/python3.9/site-packages/statsmodels/stats/stattools.py:74: ValueWarning: omni_normtest is not valid with less than 8 observations; 4 samples were given.\n",
      "  warn(\"omni_normtest is not valid with less than 8 observations; %i \"\n"
     ]
    }
   ],
   "source": [
    "\n",
    "print(results.summary()) \n",
    "\n"
   ]
  },
  {
   "cell_type": "markdown",
   "metadata": {
    "id": "RBZEl28a3kqp"
   },
   "source": [
    "Using the abline_plot function for plotting the results"
   ]
  },
  {
   "cell_type": "code",
   "execution_count": 14,
   "metadata": {
    "colab": {
     "base_uri": "https://localhost:8080/",
     "height": 269
    },
    "error": [
     {
      "ename": "KeyError",
      "evalue": "14",
      "output_type": "error",
      "traceback": [
       "\u001b[0;31m---------------------------------------------------------------------------\u001b[0m",
       "\u001b[0;31mKeyError\u001b[0m                                  Traceback (most recent call last)",
       "Cell \u001b[0;32mIn[15], line 1\u001b[0m\n\u001b[0;32m----> 1\u001b[0m json\u001b[38;5;241m.\u001b[39mdumps([typehandlerforuniqueobjects(\u001b[43mOut\u001b[49m\u001b[43m[\u001b[49m\u001b[38;5;241;43m14\u001b[39;49m\u001b[43m]\u001b[49m)])\n",
       "\u001b[0;31mKeyError\u001b[0m: 14"
      ]
     }
    ],
    "execution": {
     "iopub.execute_input": "2023-10-04T22:54:53.411861Z",
     "iopub.status.busy": "2023-10-04T22:54:53.411646Z",
     "iopub.status.idle": "2023-10-04T22:54:53.671326Z",
     "shell.execute_reply": "2023-10-04T22:54:53.670417Z"
    },
    "id": "4JzeLT3D3kqq",
    "outputId": "b81fd360-4b64-4f57-a186-766c954e10fa"
   },
   "outputs": [
    {
     "data": {
      "image/png": "[encoded data removed]",
      "text/plain": [
       "<Figure size 640x480 with 1 Axes>"
      ]
     },
     "metadata": {},
     "output_type": "display_data"
    }
   ],
   "source": [
    "sm.graphics.abline_plot(model_results = results)\n",
    "plt.scatter(d.x, d.y)\n",
    "\n",
    "plt.xlim(0,5)\n",
    "plt.ylim(0,10)\n",
    "\n",
    "plt.show()"
   ]
  },
  {
   "cell_type": "markdown",
   "metadata": {
    "id": "utqyzlBY3kqs"
   },
   "source": [
    "Generating an anova table"
   ]
  },
  {
   "cell_type": "code",
   "execution_count": 16,
   "metadata": {
    "colab": {
     "base_uri": "https://localhost:8080/"
    },
    "error": [
     {
      "ename": "KeyError",
      "evalue": "16",
      "output_type": "error",
      "traceback": [
       "\u001b[0;31m---------------------------------------------------------------------------\u001b[0m",
       "\u001b[0;31mKeyError\u001b[0m                                  Traceback (most recent call last)",
       "Cell \u001b[0;32mIn[17], line 1\u001b[0m\n\u001b[0;32m----> 1\u001b[0m json\u001b[38;5;241m.\u001b[39mdumps([typehandlerforuniqueobjects(\u001b[43mOut\u001b[49m\u001b[43m[\u001b[49m\u001b[38;5;241;43m16\u001b[39;49m\u001b[43m]\u001b[49m)])\n",
       "\u001b[0;31mKeyError\u001b[0m: 16"
      ]
     }
    ],
    "execution": {
     "iopub.execute_input": "2023-10-04T22:54:53.696973Z",
     "iopub.status.busy": "2023-10-04T22:54:53.696788Z",
     "iopub.status.idle": "2023-10-04T22:54:53.709654Z",
     "shell.execute_reply": "2023-10-04T22:54:53.708650Z"
    },
    "id": "LIXdKQzU3kqt",
    "outputId": "005d1d2e-9ab1-417b-a7fd-c90d576384c6"
   },
   "outputs": [
    {
     "name": "stdout",
     "output_type": "stream",
     "text": [
      "           df  sum_sq  mean_sq         F  PR(>F)\n",
      "x         1.0    12.8     12.8  3.555556     0.2\n",
      "Residual  2.0     7.2      3.6       NaN     NaN\n"
     ]
    }
   ],
   "source": [
    "print(sm.stats.anova_lm(results))\n"
   ]
  },
  {
   "cell_type": "markdown",
   "metadata": {
    "id": "18BcwpYi3kqt"
   },
   "source": [
    "Making predictions"
   ]
  },
  {
   "cell_type": "code",
   "execution_count": 18,
   "metadata": {
    "colab": {
     "base_uri": "https://localhost:8080/"
    },
    "execution": {
     "iopub.execute_input": "2023-10-04T22:54:53.733205Z",
     "iopub.status.busy": "2023-10-04T22:54:53.733019Z",
     "iopub.status.idle": "2023-10-04T22:54:53.739583Z",
     "shell.execute_reply": "2023-10-04T22:54:53.738768Z"
    },
    "id": "1Y8ycHTr3kqu",
    "outputId": "8cd321ab-2ed4-4dd9-852e-484236278421",
    "type_information": "[{\"type\": \"<class 'pandas.core.series.Series'>\", \"name\": \"Series\", \"module\": \"pandas.core.series\", \"size\": 32}]"
   },
   "outputs": [
    {
     "data": {
      "text/plain": [
       "0    4.2\n",
       "dtype: float64"
      ]
     },
     "execution_count": 18,
     "metadata": {},
     "output_type": "execute_result"
    }
   ],
   "source": [
    "results.predict({'x' : 2})"
   ]
  },
  {
   "cell_type": "markdown",
   "metadata": {
    "id": "gZb4auin3kqv"
   },
   "source": [
    "## numpy array notation\n",
    "similar to sklearn's notation"
   ]
  },
  {
   "cell_type": "code",
   "execution_count": 20,
   "metadata": {
    "colab": {
     "base_uri": "https://localhost:8080/"
    },
    "error": [
     {
      "ename": "KeyError",
      "evalue": "20",
      "output_type": "error",
      "traceback": [
       "\u001b[0;31m---------------------------------------------------------------------------\u001b[0m",
       "\u001b[0;31mKeyError\u001b[0m                                  Traceback (most recent call last)",
       "Cell \u001b[0;32mIn[21], line 1\u001b[0m\n\u001b[0;32m----> 1\u001b[0m json\u001b[38;5;241m.\u001b[39mdumps([typehandlerforuniqueobjects(\u001b[43mOut\u001b[49m\u001b[43m[\u001b[49m\u001b[38;5;241;43m20\u001b[39;49m\u001b[43m]\u001b[49m)])\n",
       "\u001b[0;31mKeyError\u001b[0m: 20"
      ]
     }
    ],
    "execution": {
     "iopub.execute_input": "2023-10-04T22:54:53.751765Z",
     "iopub.status.busy": "2023-10-04T22:54:53.751588Z",
     "iopub.status.idle": "2023-10-04T22:54:53.757258Z",
     "shell.execute_reply": "2023-10-04T22:54:53.755158Z"
    },
    "id": "tB6N6gvB3kqx",
    "outputId": "478d3f1b-6c39-48a5-f508-a5404a547d35"
   },
   "outputs": [
    {
     "name": "stdout",
     "output_type": "stream",
     "text": [
      "[1 2 3 4]\n"
     ]
    }
   ],
   "source": [
    "print(x)"
   ]
  },
  {
   "cell_type": "code",
   "execution_count": 22,
   "metadata": {
    "execution": {
     "iopub.execute_input": "2023-10-04T22:54:53.779409Z",
     "iopub.status.busy": "2023-10-04T22:54:53.779230Z",
     "iopub.status.idle": "2023-10-04T22:54:53.785582Z",
     "shell.execute_reply": "2023-10-04T22:54:53.782203Z"
    },
    "id": "Q3KgNPrt3kqz"
   },
   "outputs": [],
   "source": [
    "X = sm.add_constant(x)  \n",
    "# need to add a constant for the intercept term.\n",
    "# because we are using the numpy notation, we use sm rather than smf"
   ]
  },
  {
   "cell_type": "code",
   "execution_count": 23,
   "metadata": {
    "colab": {
     "base_uri": "https://localhost:8080/"
    },
    "error": [
     {
      "ename": "KeyError",
      "evalue": "23",
      "output_type": "error",
      "traceback": [
       "\u001b[0;31m---------------------------------------------------------------------------\u001b[0m",
       "\u001b[0;31mKeyError\u001b[0m                                  Traceback (most recent call last)",
       "Cell \u001b[0;32mIn[24], line 1\u001b[0m\n\u001b[0;32m----> 1\u001b[0m json\u001b[38;5;241m.\u001b[39mdumps([typehandlerforuniqueobjects(\u001b[43mOut\u001b[49m\u001b[43m[\u001b[49m\u001b[38;5;241;43m23\u001b[39;49m\u001b[43m]\u001b[49m)])\n",
       "\u001b[0;31mKeyError\u001b[0m: 23"
      ]
     }
    ],
    "execution": {
     "iopub.execute_input": "2023-10-04T22:54:53.788770Z",
     "iopub.status.busy": "2023-10-04T22:54:53.788594Z",
     "iopub.status.idle": "2023-10-04T22:54:53.793030Z",
     "shell.execute_reply": "2023-10-04T22:54:53.792197Z"
    },
    "id": "bZNg44Ou3kq1",
    "outputId": "36f429f6-b4d0-4606-881a-3c01ed1584b9"
   },
   "outputs": [
    {
     "name": "stdout",
     "output_type": "stream",
     "text": [
      "[[1. 1.]\n",
      " [1. 2.]\n",
      " [1. 3.]\n",
      " [1. 4.]]\n"
     ]
    }
   ],
   "source": [
    "print(X)"
   ]
  },
  {
   "cell_type": "markdown",
   "metadata": {
    "id": "uU2kh-QB3kq2"
   },
   "source": [
    "$$y_i = \\beta_0 + \\beta_1 x_i + \\epsilon_i$$\n",
    "\n",
    "$$\\mathbf{\\hat{Y}} = \\boldsymbol{\\beta} \\mathbf{X}$$\n"
   ]
  },
  {
   "cell_type": "code",
   "execution_count": 25,
   "metadata": {
    "execution": {
     "iopub.execute_input": "2023-10-04T22:54:53.815308Z",
     "iopub.status.busy": "2023-10-04T22:54:53.815130Z",
     "iopub.status.idle": "2023-10-04T22:54:53.819068Z",
     "shell.execute_reply": "2023-10-04T22:54:53.818261Z"
    },
    "id": "HH71fwrW3kq3"
   },
   "outputs": [],
   "source": [
    "# OLS is capitalized in the numpy notation\n",
    "model2 = sm.OLS(y, X)  \n"
   ]
  },
  {
   "cell_type": "code",
   "execution_count": 26,
   "metadata": {
    "execution": {
     "iopub.execute_input": "2023-10-04T22:54:53.822297Z",
     "iopub.status.busy": "2023-10-04T22:54:53.822123Z",
     "iopub.status.idle": "2023-10-04T22:54:53.826243Z",
     "shell.execute_reply": "2023-10-04T22:54:53.825434Z"
    },
    "id": "XGaMNbye3kq4"
   },
   "outputs": [],
   "source": [
    "results2 = model2.fit()\n"
   ]
  },
  {
   "cell_type": "code",
   "execution_count": 27,
   "metadata": {
    "colab": {
     "base_uri": "https://localhost:8080/"
    },
    "debugging_output": [
     {
      "name": "stdout",
      "output_type": "stream",
      "text": "Out[27][0]\nTraceback (most recent call last):\n  File \"/tmp/ipykernel_20/4240688752.py\", line 5, in <module>\n    outputs.append(typehandlerforuniqueobjects(Out[27][i]))\nKeyError: 27\n\nOut[27][1]\nTraceback (most recent call last):\n  File \"/tmp/ipykernel_20/4240688752.py\", line 5, in <module>\n    outputs.append(typehandlerforuniqueobjects(Out[27][i]))\nKeyError: 27\n\n"
     }
    ],
    "execution": {
     "iopub.execute_input": "2023-10-04T22:54:53.829285Z",
     "iopub.status.busy": "2023-10-04T22:54:53.829112Z",
     "iopub.status.idle": "2023-10-04T22:54:53.839851Z",
     "shell.execute_reply": "2023-10-04T22:54:53.838989Z"
    },
    "id": "d3VOwKvE3kq7",
    "outputId": "2b50df53-fe26-4a4c-8916-dce81753adbd"
   },
   "outputs": [
    {
     "name": "stdout",
     "output_type": "stream",
     "text": [
      "                            OLS Regression Results                            \n",
      "==============================================================================\n",
      "Dep. Variable:                      y   R-squared:                       0.640\n",
      "Model:                            OLS   Adj. R-squared:                  0.460\n",
      "Method:                 Least Squares   F-statistic:                     3.556\n",
      "Date:                Wed, 04 Oct 2023   Prob (F-statistic):              0.200\n",
      "Time:                        22:54:53   Log-Likelihood:                -6.8513\n",
      "No. Observations:                   4   AIC:                             17.70\n",
      "Df Residuals:                       2   BIC:                             16.48\n",
      "Df Model:                           1                                         \n",
      "Covariance Type:            nonrobust                                         \n",
      "==============================================================================\n",
      "                 coef    std err          t      P>|t|      [0.025      0.975]\n",
      "------------------------------------------------------------------------------\n",
      "const          1.0000      2.324      0.430      0.709      -8.998      10.998\n",
      "x1             1.6000      0.849      1.886      0.200      -2.051       5.251\n",
      "==============================================================================\n",
      "Omnibus:                          nan   Durbin-Watson:                   3.400\n",
      "Prob(Omnibus):                    nan   Jarque-Bera (JB):                0.308\n",
      "Skew:                           0.000   Prob(JB):                        0.857\n",
      "Kurtosis:                       1.640   Cond. No.                         7.47\n",
      "==============================================================================\n",
      "\n",
      "Notes:\n",
      "[1] Standard Errors assume that the covariance matrix of the errors is correctly specified.\n"
     ]
    },
    {
     "name": "stderr",
     "output_type": "stream",
     "text": [
      "/opt/conda/envs/testenv/lib/python3.9/site-packages/statsmodels/stats/stattools.py:74: ValueWarning: omni_normtest is not valid with less than 8 observations; 4 samples were given.\n",
      "  warn(\"omni_normtest is not valid with less than 8 observations; %i \"\n"
     ]
    }
   ],
   "source": [
    "print(results2.summary())\n"
   ]
  },
  {
   "cell_type": "markdown",
   "metadata": {
    "id": "woC7-Xoe3kq8"
   },
   "source": [
    "## OLS solution\n",
    "\n",
    "$$(X^TX)^{-1}X^TY$$"
   ]
  },
  {
   "cell_type": "code",
   "execution_count": 29,
   "metadata": {
    "colab": {
     "base_uri": "https://localhost:8080/"
    },
    "execution": {
     "iopub.execute_input": "2023-10-04T22:54:53.851146Z",
     "iopub.status.busy": "2023-10-04T22:54:53.850963Z",
     "iopub.status.idle": "2023-10-04T22:54:53.856033Z",
     "shell.execute_reply": "2023-10-04T22:54:53.855229Z"
    },
    "id": "_u04WrWF3kq9",
    "outputId": "9f49a3d2-14c8-4a5d-bed6-adc820559202",
    "type_information": "[{\"type\": \"<class 'numpy.ndarray'>\", \"name\": \"ndarray\", \"module\": \"numpy\", \"size\": 192, \"shape\": \"(4, 2)\", \"dtype\": \"float64\"}]"
   },
   "outputs": [
    {
     "data": {
      "text/plain": [
       "array([[1., 1.],\n",
       "       [1., 2.],\n",
       "       [1., 3.],\n",
       "       [1., 4.]])"
      ]
     },
     "execution_count": 29,
     "metadata": {},
     "output_type": "execute_result"
    }
   ],
   "source": [
    "X"
   ]
  },
  {
   "cell_type": "code",
   "execution_count": 31,
   "metadata": {
    "colab": {
     "base_uri": "https://localhost:8080/"
    },
    "execution": {
     "iopub.execute_input": "2023-10-04T22:54:53.866855Z",
     "iopub.status.busy": "2023-10-04T22:54:53.866679Z",
     "iopub.status.idle": "2023-10-04T22:54:53.871765Z",
     "shell.execute_reply": "2023-10-04T22:54:53.870934Z"
    },
    "id": "auUsHkgZ3kq-",
    "outputId": "1b71a3b4-a629-4740-b9d7-9c953e0dd725",
    "type_information": "[{\"type\": \"<class 'numpy.ndarray'>\", \"name\": \"ndarray\", \"module\": \"numpy\", \"size\": 128, \"shape\": \"(2,)\", \"dtype\": \"float64\"}]"
   },
   "outputs": [
    {
     "data": {
      "text/plain": [
       "array([1. , 1.6])"
      ]
     },
     "execution_count": 31,
     "metadata": {},
     "output_type": "execute_result"
    }
   ],
   "source": [
    "np.linalg.inv(X.T @ X) @ (X.T @ y)"
   ]
  },
  {
   "cell_type": "markdown",
   "metadata": {
    "id": "aSbpg2_u3kq-"
   },
   "source": [
    "## Plot Interaction of Categorical Factors\n",
    "\n",
    "https://www.statsmodels.org/dev/examples/notebooks/generated/categorical_interaction_plot.html\n",
    "\n",
    "In this example, we will visualize the interaction between categorical factors. First, we will create some categorical data. Then, we will plot it using the interaction_plot function, which internally re-codes the x-factor categories to integers."
   ]
  },
  {
   "cell_type": "code",
   "execution_count": 33,
   "metadata": {
    "colab": {
     "base_uri": "https://localhost:8080/"
    },
    "error": [
     {
      "ename": "KeyError",
      "evalue": "33",
      "output_type": "error",
      "traceback": [
       "\u001b[0;31m---------------------------------------------------------------------------\u001b[0m",
       "\u001b[0;31mKeyError\u001b[0m                                  Traceback (most recent call last)",
       "Cell \u001b[0;32mIn[34], line 1\u001b[0m\n\u001b[0;32m----> 1\u001b[0m json\u001b[38;5;241m.\u001b[39mdumps([typehandlerforuniqueobjects(\u001b[43mOut\u001b[49m\u001b[43m[\u001b[49m\u001b[38;5;241;43m33\u001b[39;49m\u001b[43m]\u001b[49m)])\n",
       "\u001b[0;31mKeyError\u001b[0m: 33"
      ]
     }
    ],
    "execution": {
     "iopub.execute_input": "2023-10-04T22:54:53.881839Z",
     "iopub.status.busy": "2023-10-04T22:54:53.881670Z",
     "iopub.status.idle": "2023-10-04T22:54:53.888738Z",
     "shell.execute_reply": "2023-10-04T22:54:53.887927Z"
    },
    "id": "RWsPCgzk3krA",
    "outputId": "3ad77e8a-b2d1-4616-915c-8a319445c5dc"
   },
   "outputs": [
    {
     "name": "stdout",
     "output_type": "stream",
     "text": [
      "    Consumption  Gender  Income\n",
      "0            51    Male      80\n",
      "1            52    Male      80\n",
      "2            53    Male      90\n",
      "3            54    Male      90\n",
      "4            56    Male     100\n",
      "5            57    Male     100\n",
      "6            55  Female      80\n",
      "7            56  Female      80\n",
      "8            58  Female      90\n",
      "9            59  Female      90\n",
      "10           62  Female     100\n",
      "11           63  Female     100\n"
     ]
    }
   ],
   "source": [
    "# https://stackoverflow.com/questions/55663474/interaction-plot-from-statsmodels-formula-api-using-python\n",
    "\n",
    "import pandas as pd\n",
    "from statsmodels.formula.api import ols\n",
    "\n",
    "Consumption = [51, 52, 53, 54, 56, 57, 55, 56, 58, 59, 62, 63]\n",
    "Gender  = [\"Male\", \"Male\", \"Male\", \"Male\", \"Male\", \"Male\", \"Female\",\n",
    "           \"Female\", \"Female\", \"Female\", \"Female\", \"Female\"]\n",
    "Income = [80, 80, 90, 90, 100, 100, 80, 80, 90, 90, 100, 100]\n",
    "\n",
    "df = pd.DataFrame( {\"Consumption\": Consumption, \"Gender\": Gender, \"Income\": Income})\n",
    "print(df)"
   ]
  },
  {
   "cell_type": "code",
   "execution_count": 35,
   "metadata": {
    "colab": {
     "base_uri": "https://localhost:8080/",
     "height": 557
    },
    "debugging_output": [
     {
      "name": "stdout",
      "output_type": "stream",
      "text": "Out[35][0]\nTraceback (most recent call last):\n  File \"/tmp/ipykernel_20/872660482.py\", line 5, in <module>\n    outputs.append(typehandlerforuniqueobjects(Out[35][i]))\nTypeError: 'Summary' object is not subscriptable\n\nOut[35][1]\nTraceback (most recent call last):\n  File \"/tmp/ipykernel_20/872660482.py\", line 5, in <module>\n    outputs.append(typehandlerforuniqueobjects(Out[35][i]))\nTypeError: 'Summary' object is not subscriptable\n\n"
     }
    ],
    "execution": {
     "iopub.execute_input": "2023-10-04T22:54:53.911834Z",
     "iopub.status.busy": "2023-10-04T22:54:53.911661Z",
     "iopub.status.idle": "2023-10-04T22:54:53.939765Z",
     "shell.execute_reply": "2023-10-04T22:54:53.938968Z"
    },
    "id": "MhFIAGwF3krD",
    "outputId": "7a62969f-7432-435a-99fb-c76dad4f6efa"
   },
   "outputs": [
    {
     "name": "stderr",
     "output_type": "stream",
     "text": [
      "/opt/conda/envs/testenv/lib/python3.9/site-packages/scipy/stats/_stats_py.py:1806: UserWarning: kurtosistest only valid for n>=20 ... continuing anyway, n=12\n",
      "  warnings.warn(\"kurtosistest only valid for n>=20 ... continuing \"\n"
     ]
    },
    {
     "data": {
      "text/html": [
       "<table class=\"simpletable\">\n",
       "<caption>OLS Regression Results</caption>\n",
       "<tr>\n",
       "  <th>Dep. Variable:</th>       <td>Consumption</td>   <th>  R-squared:         </th> <td>   0.976</td>\n",
       "</tr>\n",
       "<tr>\n",
       "  <th>Model:</th>                   <td>OLS</td>       <th>  Adj. R-squared:    </th> <td>   0.967</td>\n",
       "</tr>\n",
       "<tr>\n",
       "  <th>Method:</th>             <td>Least Squares</td>  <th>  F-statistic:       </th> <td>   108.4</td>\n",
       "</tr>\n",
       "<tr>\n",
       "  <th>Date:</th>             <td>Wed, 04 Oct 2023</td> <th>  Prob (F-statistic):</th> <td>8.11e-07</td>\n",
       "</tr>\n",
       "<tr>\n",
       "  <th>Time:</th>                 <td>22:54:53</td>     <th>  Log-Likelihood:    </th> <td> -9.9135</td>\n",
       "</tr>\n",
       "<tr>\n",
       "  <th>No. Observations:</th>      <td>    12</td>      <th>  AIC:               </th> <td>   27.83</td>\n",
       "</tr>\n",
       "<tr>\n",
       "  <th>Df Residuals:</th>          <td>     8</td>      <th>  BIC:               </th> <td>   29.77</td>\n",
       "</tr>\n",
       "<tr>\n",
       "  <th>Df Model:</th>              <td>     3</td>      <th>                     </th>     <td> </td>   \n",
       "</tr>\n",
       "<tr>\n",
       "  <th>Covariance Type:</th>      <td>nonrobust</td>    <th>                     </th>     <td> </td>   \n",
       "</tr>\n",
       "</table>\n",
       "<table class=\"simpletable\">\n",
       "<tr>\n",
       "            <td></td>               <th>coef</th>     <th>std err</th>      <th>t</th>      <th>P>|t|</th>  <th>[0.025</th>    <th>0.975]</th>  \n",
       "</tr>\n",
       "<tr>\n",
       "  <th>Intercept</th>             <td>   27.3333</td> <td>    3.059</td> <td>    8.935</td> <td> 0.000</td> <td>   20.279</td> <td>   34.387</td>\n",
       "</tr>\n",
       "<tr>\n",
       "  <th>Gender[T.Male]</th>        <td>    4.0000</td> <td>    4.326</td> <td>    0.925</td> <td> 0.382</td> <td>   -5.976</td> <td>   13.976</td>\n",
       "</tr>\n",
       "<tr>\n",
       "  <th>Income</th>                <td>    0.3500</td> <td>    0.034</td> <td>   10.340</td> <td> 0.000</td> <td>    0.272</td> <td>    0.428</td>\n",
       "</tr>\n",
       "<tr>\n",
       "  <th>Gender[T.Male]:Income</th> <td>   -0.1000</td> <td>    0.048</td> <td>   -2.089</td> <td> 0.070</td> <td>   -0.210</td> <td>    0.010</td>\n",
       "</tr>\n",
       "</table>\n",
       "<table class=\"simpletable\">\n",
       "<tr>\n",
       "  <th>Omnibus:</th>       <td> 2.522</td> <th>  Durbin-Watson:     </th> <td>   3.273</td>\n",
       "</tr>\n",
       "<tr>\n",
       "  <th>Prob(Omnibus):</th> <td> 0.283</td> <th>  Jarque-Bera (JB):  </th> <td>   0.970</td>\n",
       "</tr>\n",
       "<tr>\n",
       "  <th>Skew:</th>          <td>-0.055</td> <th>  Prob(JB):          </th> <td>   0.616</td>\n",
       "</tr>\n",
       "<tr>\n",
       "  <th>Kurtosis:</th>      <td> 1.612</td> <th>  Cond. No.          </th> <td>2.62e+03</td>\n",
       "</tr>\n",
       "</table><br/><br/>Notes:<br/>[1] Standard Errors assume that the covariance matrix of the errors is correctly specified.<br/>[2] The condition number is large, 2.62e+03. This might indicate that there are<br/>strong multicollinearity or other numerical problems."
      ],
      "text/latex": [
       "\\begin{center}\n",
       "\\begin{tabular}{lclc}\n",
       "\\toprule\n",
       "\\textbf{Dep. Variable:}        &   Consumption    & \\textbf{  R-squared:         } &     0.976   \\\\\n",
       "\\textbf{Model:}                &       OLS        & \\textbf{  Adj. R-squared:    } &     0.967   \\\\\n",
       "\\textbf{Method:}               &  Least Squares   & \\textbf{  F-statistic:       } &     108.4   \\\\\n",
       "\\textbf{Date:}                 & Wed, 04 Oct 2023 & \\textbf{  Prob (F-statistic):} &  8.11e-07   \\\\\n",
       "\\textbf{Time:}                 &     22:54:53     & \\textbf{  Log-Likelihood:    } &   -9.9135   \\\\\n",
       "\\textbf{No. Observations:}     &          12      & \\textbf{  AIC:               } &     27.83   \\\\\n",
       "\\textbf{Df Residuals:}         &           8      & \\textbf{  BIC:               } &     29.77   \\\\\n",
       "\\textbf{Df Model:}             &           3      & \\textbf{                     } &             \\\\\n",
       "\\textbf{Covariance Type:}      &    nonrobust     & \\textbf{                     } &             \\\\\n",
       "\\bottomrule\n",
       "\\end{tabular}\n",
       "\\begin{tabular}{lcccccc}\n",
       "                               & \\textbf{coef} & \\textbf{std err} & \\textbf{t} & \\textbf{P$> |$t$|$} & \\textbf{[0.025} & \\textbf{0.975]}  \\\\\n",
       "\\midrule\n",
       "\\textbf{Intercept}             &      27.3333  &        3.059     &     8.935  &         0.000        &       20.279    &       34.387     \\\\\n",
       "\\textbf{Gender[T.Male]}        &       4.0000  &        4.326     &     0.925  &         0.382        &       -5.976    &       13.976     \\\\\n",
       "\\textbf{Income}                &       0.3500  &        0.034     &    10.340  &         0.000        &        0.272    &        0.428     \\\\\n",
       "\\textbf{Gender[T.Male]:Income} &      -0.1000  &        0.048     &    -2.089  &         0.070        &       -0.210    &        0.010     \\\\\n",
       "\\bottomrule\n",
       "\\end{tabular}\n",
       "\\begin{tabular}{lclc}\n",
       "\\textbf{Omnibus:}       &  2.522 & \\textbf{  Durbin-Watson:     } &    3.273  \\\\\n",
       "\\textbf{Prob(Omnibus):} &  0.283 & \\textbf{  Jarque-Bera (JB):  } &    0.970  \\\\\n",
       "\\textbf{Skew:}          & -0.055 & \\textbf{  Prob(JB):          } &    0.616  \\\\\n",
       "\\textbf{Kurtosis:}      &  1.612 & \\textbf{  Cond. No.          } & 2.62e+03  \\\\\n",
       "\\bottomrule\n",
       "\\end{tabular}\n",
       "%\\caption{OLS Regression Results}\n",
       "\\end{center}\n",
       "\n",
       "Notes: \\newline\n",
       " [1] Standard Errors assume that the covariance matrix of the errors is correctly specified. \\newline\n",
       " [2] The condition number is large, 2.62e+03. This might indicate that there are \\newline\n",
       " strong multicollinearity or other numerical problems."
      ],
      "text/plain": [
       "<class 'statsmodels.iolib.summary.Summary'>\n",
       "\"\"\"\n",
       "                            OLS Regression Results                            \n",
       "==============================================================================\n",
       "Dep. Variable:            Consumption   R-squared:                       0.976\n",
       "Model:                            OLS   Adj. R-squared:                  0.967\n",
       "Method:                 Least Squares   F-statistic:                     108.4\n",
       "Date:                Wed, 04 Oct 2023   Prob (F-statistic):           8.11e-07\n",
       "Time:                        22:54:53   Log-Likelihood:                -9.9135\n",
       "No. Observations:                  12   AIC:                             27.83\n",
       "Df Residuals:                       8   BIC:                             29.77\n",
       "Df Model:                           3                                         \n",
       "Covariance Type:            nonrobust                                         \n",
       "=========================================================================================\n",
       "                            coef    std err          t      P>|t|      [0.025      0.975]\n",
       "-----------------------------------------------------------------------------------------\n",
       "Intercept                27.3333      3.059      8.935      0.000      20.279      34.387\n",
       "Gender[T.Male]            4.0000      4.326      0.925      0.382      -5.976      13.976\n",
       "Income                    0.3500      0.034     10.340      0.000       0.272       0.428\n",
       "Gender[T.Male]:Income    -0.1000      0.048     -2.089      0.070      -0.210       0.010\n",
       "==============================================================================\n",
       "Omnibus:                        2.522   Durbin-Watson:                   3.273\n",
       "Prob(Omnibus):                  0.283   Jarque-Bera (JB):                0.970\n",
       "Skew:                          -0.055   Prob(JB):                        0.616\n",
       "Kurtosis:                       1.612   Cond. No.                     2.62e+03\n",
       "==============================================================================\n",
       "\n",
       "Notes:\n",
       "[1] Standard Errors assume that the covariance matrix of the errors is correctly specified.\n",
       "[2] The condition number is large, 2.62e+03. This might indicate that there are\n",
       "strong multicollinearity or other numerical problems.\n",
       "\"\"\""
      ]
     },
     "execution_count": 35,
     "metadata": {},
     "output_type": "execute_result"
    }
   ],
   "source": [
    "Reg = ols(formula = \"Consumption ~ Gender + Income + Gender*Income\", data = df)\n",
    "Fit = Reg.fit()\n",
    "Fit.summary()"
   ]
  },
  {
   "cell_type": "code",
   "execution_count": 37,
   "metadata": {
    "colab": {
     "base_uri": "https://localhost:8080/",
     "height": 282
    },
    "error": [
     {
      "ename": "KeyError",
      "evalue": "37",
      "output_type": "error",
      "traceback": [
       "\u001b[0;31m---------------------------------------------------------------------------\u001b[0m",
       "\u001b[0;31mKeyError\u001b[0m                                  Traceback (most recent call last)",
       "Cell \u001b[0;32mIn[38], line 1\u001b[0m\n\u001b[0;32m----> 1\u001b[0m json\u001b[38;5;241m.\u001b[39mdumps([typehandlerforuniqueobjects(\u001b[43mOut\u001b[49m\u001b[43m[\u001b[49m\u001b[38;5;241;43m37\u001b[39;49m\u001b[43m]\u001b[49m)])\n",
       "\u001b[0;31mKeyError\u001b[0m: 37"
      ]
     }
    ],
    "execution": {
     "iopub.execute_input": "2023-10-04T22:54:53.950948Z",
     "iopub.status.busy": "2023-10-04T22:54:53.950778Z",
     "iopub.status.idle": "2023-10-04T22:54:54.072543Z",
     "shell.execute_reply": "2023-10-04T22:54:54.071717Z"
    },
    "id": "2a9fWhAd3krT",
    "outputId": "5afc4be5-af19-4a24-a6fb-0d6858f58f61"
   },
   "outputs": [
    {
     "name": "stderr",
     "output_type": "stream",
     "text": [
      "/opt/conda/envs/testenv/lib/python3.9/site-packages/statsmodels/graphics/factorplots.py:113: FutureWarning: The provided callable <function mean at 0x7f31a05df3a0> is currently using DataFrameGroupBy.mean. In a future version of pandas, the provided callable will be used directly. To keep current behavior pass the string \"mean\" instead.\n",
      "  plot_data = data.groupby(['trace', 'x']).aggregate(func).reset_index()\n"
     ]
    },
    {
     "data": {
      "image/png": "[encoded data removed]",
      "text/plain": [
       "<Figure size 640x480 with 1 Axes>"
      ]
     },
     "metadata": {},
     "output_type": "display_data"
    }
   ],
   "source": [
    "import matplotlib.pyplot as plt\n",
    "from statsmodels.graphics.factorplots import interaction_plot\n",
    "plt.style.use('ggplot')\n",
    "\n",
    "fig = interaction_plot(\n",
    "   x        = Income,\n",
    "   trace    = Gender,\n",
    "   response = Fit.fittedvalues,\n",
    "   colors   = ['red','blue'],\n",
    "   markers  = ['D','^'])\n",
    "plt.xlabel('Income')\n",
    "plt.ylabel('Consumption')\n",
    "plt.legend().set_title(None)\n",
    "plt.show()"
   ]
  },
  {
   "cell_type": "markdown",
   "metadata": {
    "id": "IBZfEP-Jt-rq"
   },
   "source": [
    "1. Aumentar 5 datos más"
   ]
  },
  {
   "cell_type": "code",
   "execution_count": 39,
   "metadata": {
    "colab": {
     "base_uri": "https://localhost:8080/"
    },
    "error": [
     {
      "ename": "KeyError",
      "evalue": "39",
      "output_type": "error",
      "traceback": [
       "\u001b[0;31m---------------------------------------------------------------------------\u001b[0m",
       "\u001b[0;31mKeyError\u001b[0m                                  Traceback (most recent call last)",
       "Cell \u001b[0;32mIn[40], line 1\u001b[0m\n\u001b[0;32m----> 1\u001b[0m json\u001b[38;5;241m.\u001b[39mdumps([typehandlerforuniqueobjects(\u001b[43mOut\u001b[49m\u001b[43m[\u001b[49m\u001b[38;5;241;43m39\u001b[39;49m\u001b[43m]\u001b[49m)])\n",
       "\u001b[0;31mKeyError\u001b[0m: 39"
      ]
     }
    ],
    "execution": {
     "iopub.execute_input": "2023-10-04T22:54:54.097167Z",
     "iopub.status.busy": "2023-10-04T22:54:54.096990Z",
     "iopub.status.idle": "2023-10-04T22:54:54.104241Z",
     "shell.execute_reply": "2023-10-04T22:54:54.103393Z"
    },
    "id": "Aixq9JhauMZV",
    "outputId": "58720409-b4c5-4184-970e-eaaf279cf948"
   },
   "outputs": [
    {
     "name": "stdout",
     "output_type": "stream",
     "text": [
      "    Consumption  Gender  Income\n",
      "0            51    Male      80\n",
      "1            52    Male      80\n",
      "2            53    Male      90\n",
      "3            54    Male      90\n",
      "4            56    Male     100\n",
      "5            57    Male     100\n",
      "6            55  Female      80\n",
      "7            56  Female      80\n",
      "8            58  Female      90\n",
      "9            59  Female      90\n",
      "10           62  Female     100\n",
      "11           63  Female     100\n",
      "12           64    Male      80\n",
      "13           66  Female      90\n",
      "14           68    Male     100\n",
      "15           71    Male      80\n",
      "16           73  Female      90\n"
     ]
    }
   ],
   "source": [
    "Consumption = [51, 52, 53, 54, 56, 57, 55, 56, 58, 59, 62, 63, 64, 66, 68, 71, 73]\n",
    "Gender  = [\"Male\", \"Male\", \"Male\", \"Male\", \"Male\", \"Male\", \"Female\",\n",
    "           \"Female\", \"Female\", \"Female\", \"Female\", \"Female\", \"Male\", \"Female\", \"Male\", \"Male\", \"Female\"]\n",
    "Income = [80, 80, 90, 90, 100, 100, 80, 80, 90, 90, 100, 100, 80, 90, 100, 80, 90]\n",
    "\n",
    "df = pd.DataFrame( {\"Consumption\": Consumption, \"Gender\": Gender, \"Income\": Income})\n",
    "print(df)"
   ]
  },
  {
   "cell_type": "markdown",
   "metadata": {
    "id": "-OmYeW1mtlFf"
   },
   "source": [
    "2. Quitar gender * income"
   ]
  },
  {
   "cell_type": "code",
   "execution_count": 41,
   "metadata": {
    "colab": {
     "base_uri": "https://localhost:8080/",
     "height": 536
    },
    "debugging_output": [
     {
      "name": "stdout",
      "output_type": "stream",
      "text": "Out[41][0]\nTraceback (most recent call last):\n  File \"/tmp/ipykernel_20/3681603105.py\", line 5, in <module>\n    outputs.append(typehandlerforuniqueobjects(Out[41][i]))\nTypeError: 'Summary' object is not subscriptable\n\nOut[41][1]\nTraceback (most recent call last):\n  File \"/tmp/ipykernel_20/3681603105.py\", line 5, in <module>\n    outputs.append(typehandlerforuniqueobjects(Out[41][i]))\nTypeError: 'Summary' object is not subscriptable\n\n"
     }
    ],
    "execution": {
     "iopub.execute_input": "2023-10-04T22:54:54.126061Z",
     "iopub.status.busy": "2023-10-04T22:54:54.125887Z",
     "iopub.status.idle": "2023-10-04T22:54:54.150079Z",
     "shell.execute_reply": "2023-10-04T22:54:54.149269Z"
    },
    "id": "0EHRrn2L3krc",
    "outputId": "085a631a-15b0-41a8-b36b-60b97d5f9ac9"
   },
   "outputs": [
    {
     "name": "stderr",
     "output_type": "stream",
     "text": [
      "/opt/conda/envs/testenv/lib/python3.9/site-packages/scipy/stats/_stats_py.py:1806: UserWarning: kurtosistest only valid for n>=20 ... continuing anyway, n=17\n",
      "  warnings.warn(\"kurtosistest only valid for n>=20 ... continuing \"\n"
     ]
    },
    {
     "data": {
      "text/html": [
       "<table class=\"simpletable\">\n",
       "<caption>OLS Regression Results</caption>\n",
       "<tr>\n",
       "  <th>Dep. Variable:</th>       <td>Consumption</td>   <th>  R-squared:         </th> <td>   0.085</td>\n",
       "</tr>\n",
       "<tr>\n",
       "  <th>Model:</th>                   <td>OLS</td>       <th>  Adj. R-squared:    </th> <td>  -0.045</td>\n",
       "</tr>\n",
       "<tr>\n",
       "  <th>Method:</th>             <td>Least Squares</td>  <th>  F-statistic:       </th> <td>  0.6534</td>\n",
       "</tr>\n",
       "<tr>\n",
       "  <th>Date:</th>             <td>Wed, 04 Oct 2023</td> <th>  Prob (F-statistic):</th>  <td> 0.535</td> \n",
       "</tr>\n",
       "<tr>\n",
       "  <th>Time:</th>                 <td>22:54:54</td>     <th>  Log-Likelihood:    </th> <td> -55.202</td>\n",
       "</tr>\n",
       "<tr>\n",
       "  <th>No. Observations:</th>      <td>    17</td>      <th>  AIC:               </th> <td>   116.4</td>\n",
       "</tr>\n",
       "<tr>\n",
       "  <th>Df Residuals:</th>          <td>    14</td>      <th>  BIC:               </th> <td>   118.9</td>\n",
       "</tr>\n",
       "<tr>\n",
       "  <th>Df Model:</th>              <td>     2</td>      <th>                     </th>     <td> </td>   \n",
       "</tr>\n",
       "<tr>\n",
       "  <th>Covariance Type:</th>      <td>nonrobust</td>    <th>                     </th>     <td> </td>   \n",
       "</tr>\n",
       "</table>\n",
       "<table class=\"simpletable\">\n",
       "<tr>\n",
       "         <td></td>           <th>coef</th>     <th>std err</th>      <th>t</th>      <th>P>|t|</th>  <th>[0.025</th>    <th>0.975]</th>  \n",
       "</tr>\n",
       "<tr>\n",
       "  <th>Intercept</th>      <td>   48.7347</td> <td>   18.859</td> <td>    2.584</td> <td> 0.022</td> <td>    8.286</td> <td>   89.184</td>\n",
       "</tr>\n",
       "<tr>\n",
       "  <th>Gender[T.Male]</th> <td>   -2.8980</td> <td>    3.340</td> <td>   -0.868</td> <td> 0.400</td> <td>  -10.062</td> <td>    4.266</td>\n",
       "</tr>\n",
       "<tr>\n",
       "  <th>Income</th>         <td>    0.1418</td> <td>    0.208</td> <td>    0.683</td> <td> 0.506</td> <td>   -0.304</td> <td>    0.588</td>\n",
       "</tr>\n",
       "</table>\n",
       "<table class=\"simpletable\">\n",
       "<tr>\n",
       "  <th>Omnibus:</th>       <td> 3.855</td> <th>  Durbin-Watson:     </th> <td>   0.176</td>\n",
       "</tr>\n",
       "<tr>\n",
       "  <th>Prob(Omnibus):</th> <td> 0.145</td> <th>  Jarque-Bera (JB):  </th> <td>   2.930</td>\n",
       "</tr>\n",
       "<tr>\n",
       "  <th>Skew:</th>          <td> 0.995</td> <th>  Prob(JB):          </th> <td>   0.231</td>\n",
       "</tr>\n",
       "<tr>\n",
       "  <th>Kurtosis:</th>      <td> 2.575</td> <th>  Cond. No.          </th> <td>1.02e+03</td>\n",
       "</tr>\n",
       "</table><br/><br/>Notes:<br/>[1] Standard Errors assume that the covariance matrix of the errors is correctly specified.<br/>[2] The condition number is large, 1.02e+03. This might indicate that there are<br/>strong multicollinearity or other numerical problems."
      ],
      "text/latex": [
       "\\begin{center}\n",
       "\\begin{tabular}{lclc}\n",
       "\\toprule\n",
       "\\textbf{Dep. Variable:}    &   Consumption    & \\textbf{  R-squared:         } &     0.085   \\\\\n",
       "\\textbf{Model:}            &       OLS        & \\textbf{  Adj. R-squared:    } &    -0.045   \\\\\n",
       "\\textbf{Method:}           &  Least Squares   & \\textbf{  F-statistic:       } &    0.6534   \\\\\n",
       "\\textbf{Date:}             & Wed, 04 Oct 2023 & \\textbf{  Prob (F-statistic):} &    0.535    \\\\\n",
       "\\textbf{Time:}             &     22:54:54     & \\textbf{  Log-Likelihood:    } &   -55.202   \\\\\n",
       "\\textbf{No. Observations:} &          17      & \\textbf{  AIC:               } &     116.4   \\\\\n",
       "\\textbf{Df Residuals:}     &          14      & \\textbf{  BIC:               } &     118.9   \\\\\n",
       "\\textbf{Df Model:}         &           2      & \\textbf{                     } &             \\\\\n",
       "\\textbf{Covariance Type:}  &    nonrobust     & \\textbf{                     } &             \\\\\n",
       "\\bottomrule\n",
       "\\end{tabular}\n",
       "\\begin{tabular}{lcccccc}\n",
       "                        & \\textbf{coef} & \\textbf{std err} & \\textbf{t} & \\textbf{P$> |$t$|$} & \\textbf{[0.025} & \\textbf{0.975]}  \\\\\n",
       "\\midrule\n",
       "\\textbf{Intercept}      &      48.7347  &       18.859     &     2.584  &         0.022        &        8.286    &       89.184     \\\\\n",
       "\\textbf{Gender[T.Male]} &      -2.8980  &        3.340     &    -0.868  &         0.400        &      -10.062    &        4.266     \\\\\n",
       "\\textbf{Income}         &       0.1418  &        0.208     &     0.683  &         0.506        &       -0.304    &        0.588     \\\\\n",
       "\\bottomrule\n",
       "\\end{tabular}\n",
       "\\begin{tabular}{lclc}\n",
       "\\textbf{Omnibus:}       &  3.855 & \\textbf{  Durbin-Watson:     } &    0.176  \\\\\n",
       "\\textbf{Prob(Omnibus):} &  0.145 & \\textbf{  Jarque-Bera (JB):  } &    2.930  \\\\\n",
       "\\textbf{Skew:}          &  0.995 & \\textbf{  Prob(JB):          } &    0.231  \\\\\n",
       "\\textbf{Kurtosis:}      &  2.575 & \\textbf{  Cond. No.          } & 1.02e+03  \\\\\n",
       "\\bottomrule\n",
       "\\end{tabular}\n",
       "%\\caption{OLS Regression Results}\n",
       "\\end{center}\n",
       "\n",
       "Notes: \\newline\n",
       " [1] Standard Errors assume that the covariance matrix of the errors is correctly specified. \\newline\n",
       " [2] The condition number is large, 1.02e+03. This might indicate that there are \\newline\n",
       " strong multicollinearity or other numerical problems."
      ],
      "text/plain": [
       "<class 'statsmodels.iolib.summary.Summary'>\n",
       "\"\"\"\n",
       "                            OLS Regression Results                            \n",
       "==============================================================================\n",
       "Dep. Variable:            Consumption   R-squared:                       0.085\n",
       "Model:                            OLS   Adj. R-squared:                 -0.045\n",
       "Method:                 Least Squares   F-statistic:                    0.6534\n",
       "Date:                Wed, 04 Oct 2023   Prob (F-statistic):              0.535\n",
       "Time:                        22:54:54   Log-Likelihood:                -55.202\n",
       "No. Observations:                  17   AIC:                             116.4\n",
       "Df Residuals:                      14   BIC:                             118.9\n",
       "Df Model:                           2                                         \n",
       "Covariance Type:            nonrobust                                         \n",
       "==================================================================================\n",
       "                     coef    std err          t      P>|t|      [0.025      0.975]\n",
       "----------------------------------------------------------------------------------\n",
       "Intercept         48.7347     18.859      2.584      0.022       8.286      89.184\n",
       "Gender[T.Male]    -2.8980      3.340     -0.868      0.400     -10.062       4.266\n",
       "Income             0.1418      0.208      0.683      0.506      -0.304       0.588\n",
       "==============================================================================\n",
       "Omnibus:                        3.855   Durbin-Watson:                   0.176\n",
       "Prob(Omnibus):                  0.145   Jarque-Bera (JB):                2.930\n",
       "Skew:                           0.995   Prob(JB):                        0.231\n",
       "Kurtosis:                       2.575   Cond. No.                     1.02e+03\n",
       "==============================================================================\n",
       "\n",
       "Notes:\n",
       "[1] Standard Errors assume that the covariance matrix of the errors is correctly specified.\n",
       "[2] The condition number is large, 1.02e+03. This might indicate that there are\n",
       "strong multicollinearity or other numerical problems.\n",
       "\"\"\""
      ]
     },
     "execution_count": 41,
     "metadata": {},
     "output_type": "execute_result"
    }
   ],
   "source": [
    "Reg = ols(formula = \"Consumption ~ Gender + Income \", data = df)\n",
    "Fit = Reg.fit()\n",
    "Fit.summary()"
   ]
  },
  {
   "cell_type": "markdown",
   "metadata": {
    "id": "iGeeCc8ouqBR"
   },
   "source": []
  },
  {
   "cell_type": "markdown",
   "metadata": {
    "id": "edn5k1LDuxZa"
   },
   "source": []
  }
 ],
 "metadata": {
  "celltoolbar": "Slideshow",
  "colab": {
   "provenance": []
  },
  "kernelspec": {
   "display_name": "Python 3 (ipykernel)",
   "language": "python",
   "name": "python3"
  },
  "language_info": {
   "codemirror_mode": {
    "name": "ipython",
    "version": 3
   },
   "file_extension": ".py",
   "mimetype": "text/x-python",
   "name": "python",
   "nbconvert_exporter": "python",
   "pygments_lexer": "ipython3",
   "version": "3.9.18"
  },
  "latex_envs": {
   "LaTeX_envs_menu_present": true,
   "autoclose": false,
   "autocomplete": true,
   "bibliofile": "biblio.bib",
   "cite_by": "apalike",
   "current_citInitial": 1,
   "eqLabelWithNumbers": true,
   "eqNumInitial": 1,
   "hotkeys": {
    "equation": "Ctrl-E",
    "itemize": "Ctrl-I"
   },
   "labels_anchors": false,
   "latex_user_defs": false,
   "report_style_numbering": false,
   "user_envs_cfg": false
  },
  "toc": {
   "base_numbering": 1,
   "nav_menu": {},
   "number_sections": false,
   "sideBar": true,
   "skip_h1_title": false,
   "title_cell": "Table of Contents",
   "title_sidebar": "Contents",
   "toc_cell": false,
   "toc_position": {},
   "toc_section_display": true,
   "toc_window_display": false
  }
 },
 "nbformat": 4,
 "nbformat_minor": 0
}
