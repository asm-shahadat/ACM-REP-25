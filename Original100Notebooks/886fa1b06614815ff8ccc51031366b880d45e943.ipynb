{
 "cells": [
  {
   "cell_type": "markdown",
   "metadata": {},
   "source": [
    "Loading Bibs"
   ]
  },
  {
   "cell_type": "code",
   "execution_count": 11,
   "metadata": {},
   "outputs": [],
   "source": [
    "import numpy as np\n",
    "from sklearn import datasets\n",
    "import pandas as pd\n",
    "from sklearn.ensemble import RandomForestRegressor\n",
    "from sklearn.model_selection import train_test_split\n",
    "from sklearn.linear_model import LinearRegression\n",
    "from sklearn import metrics\n",
    "import statsmodels.api as sm\n",
    "from sklearn.feature_selection import RFE\n",
    "from sklearn.model_selection import RandomizedSearchCV\n"
   ]
  },
  {
   "cell_type": "markdown",
   "metadata": {},
   "source": [
    "Loading Dataset"
   ]
  },
  {
   "cell_type": "code",
   "execution_count": 12,
   "metadata": {},
   "outputs": [],
   "source": [
    "X, Y = datasets.load_diabetes(return_X_y=True)\n",
    "full_database = pd.DataFrame(X,columns=['age','sex','bmi','bp','s1_tc','s2_ldl','s3_hdl','s4_tch','s5_ltg','s6_glu'])\n",
    "full_database['disease_progression'] = Y\n",
    "\n",
    "x = full_database.drop('disease_progression',axis=1)\n",
    "y = full_database['disease_progression']\n",
    "\n",
    "X_train,X_test,Y_train,Y_test = train_test_split(x,y,test_size=0.05,random_state=100)\n"
   ]
  },
  {
   "cell_type": "code",
   "execution_count": 13,
   "metadata": {},
   "outputs": [],
   "source": [
    "def score_model(model,X_test,Y_test):\n",
    "    Y_predict = model.predict(X_test)\n",
    "    R2_score = metrics.r2_score(Y_test,Y_predict)\n",
    "    print(\"R2_score:\",R2_score)\n",
    "    MSE = metrics.mean_squared_error(Y_test,Y_predict)\n",
    "    MSE_sqrt = np.sqrt(MSE)\n",
    "    print(\"MSE:\",MSE_sqrt)\n",
    "    return R2_score, MSE_sqrt\n",
    "\n",
    "def train_model(model,X_train,Y_train):\n",
    "    model.fit(X_train,Y_train)\n",
    "    return model"
   ]
  },
  {
   "cell_type": "markdown",
   "metadata": {},
   "source": [
    "LINEAR REGRESSION"
   ]
  },
  {
   "cell_type": "code",
   "execution_count": 14,
   "metadata": {},
   "outputs": [
    {
     "name": "stdout",
     "output_type": "stream",
     "text": [
      "R2_score: 0.6492090372248281\n",
      "MSE: 50.05151444853559\n"
     ]
    }
   ],
   "source": [
    "model_LR = LinearRegression()\n",
    "model_LR = train_model(model_LR,X_train,Y_train)\n",
    "R2_LR,MSE_LR = score_model(model_LR,X_test,Y_test)"
   ]
  },
  {
   "cell_type": "code",
   "execution_count": 15,
   "metadata": {},
   "outputs": [
    {
     "name": "stdout",
     "output_type": "stream",
     "text": [
      "[False  True  True  True  True  True False  True  True False]\n"
     ]
    }
   ],
   "source": [
    "select = RFE(estimator = LinearRegression(), n_features_to_select=7,step=1)\n",
    "select.fit(X_train,Y_train)\n",
    "X_train_transform = select.transform(X_train)\n",
    "X_test_transform = select.transform(X_test)\n",
    "\n",
    "print(select.support_)"
   ]
  },
  {
   "cell_type": "code",
   "execution_count": 16,
   "metadata": {},
   "outputs": [
    {
     "name": "stdout",
     "output_type": "stream",
     "text": [
      "R2_score: 0.6459901212794985\n",
      "MSE: 50.280630538118494\n"
     ]
    }
   ],
   "source": [
    "model_LR_2 = LinearRegression()\n",
    "model_LR_2 = train_model(model_LR_2,X_train_transform,Y_train)\n",
    "R2_LR_2,MSE_LR_2 = score_model(model_LR_2,X_test_transform,Y_test)"
   ]
  },
  {
   "cell_type": "markdown",
   "metadata": {},
   "source": [
    "Ordinary Least Squares (OLS)"
   ]
  },
  {
   "cell_type": "code",
   "execution_count": 17,
   "metadata": {},
   "outputs": [
    {
     "name": "stdout",
     "output_type": "stream",
     "text": [
      "R2_score: 0.6492090372248278\n",
      "MSE: 50.05151444853562\n"
     ]
    }
   ],
   "source": [
    "X_train_plus_constant = sm.add_constant(X_train)\n",
    "X_test_plus_constant = sm.add_constant(X_test)\n",
    "model_OLS = sm.OLS(Y_train,X_train_plus_constant,hasconst=True).fit()\n",
    "\n",
    "R2_OLS, MSE_OLS = score_model(model_OLS,X_test_plus_constant,Y_test)\n",
    "# Y_pred = model_OLS.predict(X_train_plus_constant)"
   ]
  },
  {
   "cell_type": "code",
   "execution_count": 18,
   "metadata": {},
   "outputs": [
    {
     "name": "stdout",
     "output_type": "stream",
     "text": [
      "R2_score: 0.6459901212795229\n",
      "MSE: 50.28063053811676\n"
     ]
    }
   ],
   "source": [
    "X_train_plus_constant = sm.add_constant(X_train_transform)\n",
    "X_test_plus_constant = sm.add_constant(X_test_transform)\n",
    "model_OLS_2 = sm.OLS(Y_train,X_train_plus_constant,hasconst=True).fit()\n",
    "\n",
    "R2_OLS_2, MSE_OLS_2 = score_model(model_OLS_2,X_test_plus_constant,Y_test)\n",
    "# Y_pred = model_OLS.predict(X_train_plus_constant)"
   ]
  },
  {
   "cell_type": "markdown",
   "metadata": {},
   "source": [
    "Random Forest Regressor"
   ]
  },
  {
   "cell_type": "code",
   "execution_count": 19,
   "metadata": {},
   "outputs": [
    {
     "name": "stdout",
     "output_type": "stream",
     "text": [
      "R2_score: 0.5370678942692937\n",
      "MSE: 57.497859241812684\n"
     ]
    }
   ],
   "source": [
    "model_forest = RandomForestRegressor(random_state=100)\n",
    "model_forest = train_model(model_forest,X_train,Y_train)\n",
    "R2_forest,MSE_forest = score_model(model_forest,X_test,Y_test)"
   ]
  },
  {
   "cell_type": "code",
   "execution_count": 20,
   "metadata": {},
   "outputs": [],
   "source": [
    "n_estimators = np.arange(20, 500, step=10)\n",
    "criterion = [\"squared_error\", \"absolute_error\", \"poisson\"]\n",
    "max_features = [\"auto\", \"sqrt\", \"log2\"]\n",
    "max_depth = list(np.arange(2, 10, step=1))\n",
    "min_samples_split = np.arange(2, 10, step=2)\n",
    "min_samples_leaf = [1, 2, 4]\n",
    "bootstrap = [True,False]\n",
    "\n",
    "param_grid = {\n",
    "    \"n_estimators\": n_estimators,\n",
    "    \"criterion\": criterion,\n",
    "    \"max_features\": max_features,\n",
    "    \"max_depth\": max_depth,\n",
    "    \"min_samples_split\": min_samples_split,\n",
    "    \"min_samples_leaf\": min_samples_leaf,\n",
    "    \"bootstrap\": bootstrap,\n",
    "}\n",
    "\n",
    "model_forest = RandomForestRegressor(random_state=100)\n",
    "random_cv = RandomizedSearchCV(model_forest, param_grid, n_iter=100, cv=5,scoring=\"neg_root_mean_squared_error\", n_jobs=-1, random_state = 100)\n",
    "rcv = random_cv.fit(X_train, Y_train)"
   ]
  },
  {
   "cell_type": "code",
   "execution_count": 21,
   "metadata": {},
   "outputs": [
    {
     "data": {
      "text/plain": [
       "{'n_estimators': 190,\n",
       " 'min_samples_split': 4,\n",
       " 'min_samples_leaf': 1,\n",
       " 'max_features': 'sqrt',\n",
       " 'max_depth': 6,\n",
       " 'criterion': 'absolute_error',\n",
       " 'bootstrap': True}"
      ]
     },
     "execution_count": 21,
     "metadata": {},
     "output_type": "execute_result"
    }
   ],
   "source": [
    "rcv.best_params_"
   ]
  },
  {
   "cell_type": "code",
   "execution_count": 22,
   "metadata": {},
   "outputs": [
    {
     "name": "stdout",
     "output_type": "stream",
     "text": [
      "R2_score: 0.5451140714338609\n",
      "MSE: 56.995986629502326\n"
     ]
    }
   ],
   "source": [
    "rfn = RandomForestRegressor(**rcv.best_params_, random_state = 100)\n",
    "model_forest = train_model(rfn,X_train,Y_train)\n",
    "R2_forest,MSE_forest = score_model(model_forest,X_test,Y_test)"
   ]
  },
  {
   "cell_type": "code",
   "execution_count": 23,
   "metadata": {},
   "outputs": [
    {
     "name": "stdout",
     "output_type": "stream",
     "text": [
      "                     Model        R2        MSE\n",
      "0        Linear Regression  0.649209  50.051514\n",
      "1      Linear Regression 2  0.645990  50.280631\n",
      "2                      OLS  0.649209  50.051514\n",
      "3                    OLS_2  0.645990  50.280631\n",
      "4  Random Forest Regressor  0.545114  56.995987\n"
     ]
    }
   ],
   "source": [
    "data = [['Linear Regression',R2_LR,MSE_LR],['Linear Regression 2',R2_LR_2,MSE_LR_2],['OLS',R2_OLS, MSE_OLS],['OLS_2',R2_OLS_2, MSE_OLS_2],['Random Forest Regressor',R2_forest,MSE_forest]]\n",
    "\n",
    "print(pd.DataFrame(data,columns=['Model','R2','MSE']))"
   ]
  }
 ],
 "metadata": {
  "interpreter": {
   "hash": "051f523ea69bc1770ecd2306c10409abac68aa2062faba780e671356775dd235"
  },
  "kernelspec": {
   "display_name": "Python 3.8.8 ('base')",
   "language": "python",
   "name": "python3"
  },
  "language_info": {
   "codemirror_mode": {
    "name": "ipython",
    "version": 3
   },
   "file_extension": ".py",
   "mimetype": "text/x-python",
   "name": "python",
   "nbconvert_exporter": "python",
   "pygments_lexer": "ipython3",
   "version": "3.8.8"
  },
  "orig_nbformat": 4
 },
 "nbformat": 4,
 "nbformat_minor": 2
}
