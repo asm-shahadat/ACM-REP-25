{
 "cells": [
  {
   "cell_type": "code",
   "execution_count": 2,
   "id": "3124b1b8",
   "metadata": {},
   "outputs": [],
   "source": [
    "import numpy as np"
   ]
  },
  {
   "cell_type": "markdown",
   "id": "d219b1a2",
   "metadata": {},
   "source": [
    "## Non Graded Challenge 3"
   ]
  },
  {
   "cell_type": "code",
   "execution_count": 5,
   "id": "7faa8dba",
   "metadata": {},
   "outputs": [
    {
     "data": {
      "text/plain": [
       "array([17, 22, 19])"
      ]
     },
     "execution_count": 5,
     "metadata": {},
     "output_type": "execute_result"
    }
   ],
   "source": [
    "A = np.array ([17,22,19])\n",
    "A"
   ]
  },
  {
   "cell_type": "code",
   "execution_count": 9,
   "id": "6471e90d",
   "metadata": {},
   "outputs": [],
   "source": [
    "B = np.array ([10,20,11])\n",
    "C = np.array ([5,12,9])"
   ]
  },
  {
   "cell_type": "code",
   "execution_count": 7,
   "id": "c0237904",
   "metadata": {},
   "outputs": [
    {
     "data": {
      "text/plain": [
       "array([27, 42, 30])"
      ]
     },
     "execution_count": 7,
     "metadata": {},
     "output_type": "execute_result"
    }
   ],
   "source": [
    "A+B"
   ]
  },
  {
   "cell_type": "code",
   "execution_count": 10,
   "id": "4429517f",
   "metadata": {},
   "outputs": [
    {
     "data": {
      "text/plain": [
       "array([5, 8, 2])"
      ]
     },
     "execution_count": 10,
     "metadata": {},
     "output_type": "execute_result"
    }
   ],
   "source": [
    "B-C"
   ]
  },
  {
   "cell_type": "code",
   "execution_count": 11,
   "id": "d6fdd26a",
   "metadata": {},
   "outputs": [
    {
     "data": {
      "text/plain": [
       "819"
      ]
     },
     "execution_count": 11,
     "metadata": {},
     "output_type": "execute_result"
    }
   ],
   "source": [
    "#A . B\n",
    "A @ B"
   ]
  },
  {
   "cell_type": "code",
   "execution_count": 12,
   "id": "07e7c35c",
   "metadata": {},
   "outputs": [
    {
     "data": {
      "text/plain": [
       "819"
      ]
     },
     "execution_count": 12,
     "metadata": {},
     "output_type": "execute_result"
    }
   ],
   "source": [
    "A.dot(B)"
   ]
  },
  {
   "cell_type": "code",
   "execution_count": 14,
   "id": "c7885e5c",
   "metadata": {},
   "outputs": [
    {
     "data": {
      "text/plain": [
       "array([170, 440, 209])"
      ]
     },
     "execution_count": 14,
     "metadata": {},
     "output_type": "execute_result"
    }
   ],
   "source": [
    "#A X B\n",
    "A * B"
   ]
  },
  {
   "cell_type": "code",
   "execution_count": 15,
   "id": "886a6aa6",
   "metadata": {},
   "outputs": [
    {
     "data": {
      "text/plain": [
       "33.67491648096547"
      ]
     },
     "execution_count": 15,
     "metadata": {},
     "output_type": "execute_result"
    }
   ],
   "source": [
    "#norm A\n",
    "v_norm = np.linalg.norm(A)\n",
    "v_norm"
   ]
  },
  {
   "cell_type": "code",
   "execution_count": 16,
   "id": "32d670bc",
   "metadata": {},
   "outputs": [
    {
     "data": {
      "text/plain": [
       "0.9759590023331435"
      ]
     },
     "execution_count": 16,
     "metadata": {},
     "output_type": "execute_result"
    }
   ],
   "source": [
    "cos_AB = A @ B / (np.linalg.norm(A)*np.linalg.norm(B))\n",
    "cos_AB"
   ]
  },
  {
   "cell_type": "code",
   "execution_count": 19,
   "id": "f3f3d1c7",
   "metadata": {},
   "outputs": [
    {
     "data": {
      "text/plain": [
       "12.588900662180242"
      ]
     },
     "execution_count": 19,
     "metadata": {},
     "output_type": "execute_result"
    }
   ],
   "source": [
    "#SudutantaravektorA dan B\n",
    "deg_AB = np.degrees(np.arccos(cos_AB))\n",
    "deg_AB"
   ]
  },
  {
   "cell_type": "code",
   "execution_count": 22,
   "id": "0b2c4cc3",
   "metadata": {},
   "outputs": [
    {
     "data": {
      "image/png": "[encoded data removed]",
      "text/plain": [
       "<Figure size 432x288 with 1 Axes>"
      ]
     },
     "metadata": {
      "needs_background": "light"
     },
     "output_type": "display_data"
    }
   ],
   "source": [
    "#3. Plot 2D\n",
    "u = np.array([2,5])\n",
    "v = np.array([3,1])\n",
    "\n",
    "import matplotlib.pyplot as plt\n",
    "\n",
    "def plot_vector2d(vector2d, origin=[0, 0], **options):\n",
    "    return plt.arrow(origin[0], origin[1], vector2d[0], vector2d[1],\n",
    "              head_width=0.2, head_length=0.3, length_includes_head=True,\n",
    "              **options)\n",
    "\n",
    "plot_vector2d(u, color='r')\n",
    "plot_vector2d(v, color='g')\n",
    "\n",
    "plt.axis([0,5,0,5]) # rentang axis sumbu x dan y\n",
    "plt.axvline(0)\n",
    "plt.axhline(0)\n",
    "plt.grid()\n",
    "plt.show()"
   ]
  },
  {
   "cell_type": "markdown",
   "id": "07c7cc8e",
   "metadata": {},
   "source": [
    "## Non Graded Challenge 4"
   ]
  },
  {
   "cell_type": "code",
   "execution_count": 28,
   "id": "5b1fe3bd",
   "metadata": {},
   "outputs": [
    {
     "data": {
      "text/plain": [
       "array([[[23, 50],\n",
       "        [ 7, 12]],\n",
       "\n",
       "       [[57, 67],\n",
       "        [99, 43]],\n",
       "\n",
       "       [[75, 21],\n",
       "        [57, 12]],\n",
       "\n",
       "       [[87, 26],\n",
       "        [18, 84]]])"
      ]
     },
     "execution_count": 28,
     "metadata": {},
     "output_type": "execute_result"
    }
   ],
   "source": [
    "# 1. Buatlah Tensor di bawah ini dengan Python:\n",
    "\n",
    "M1 = np.array([[23,50],[7,12]])\n",
    "M2 = np.array([[57,67],[99,43]])\n",
    "M3 = np.array([[75,21],[57,12]])\n",
    "M4 = np.array([[87,26],[18,84]])\n",
    "\n",
    "T = np.array([M1,M2,M3,M4])\n",
    "T"
   ]
  },
  {
   "cell_type": "code",
   "execution_count": 41,
   "id": "0e02f18d",
   "metadata": {},
   "outputs": [
    {
     "name": "stdout",
     "output_type": "stream",
     "text": [
      "[[ 23  50  19]\n",
      " [  7  12 109]\n",
      " [ 57  67  98]]\n",
      "[17 22 19]\n"
     ]
    }
   ],
   "source": [
    "A = np.array([[23,50,19],[7,12,109],[57,67,98]])\n",
    "B = np.array([17,22,19])\n",
    "\n",
    "print(A)\n",
    "print(B)"
   ]
  },
  {
   "cell_type": "code",
   "execution_count": 34,
   "id": "3f5ec9c1",
   "metadata": {},
   "outputs": [
    {
     "data": {
      "text/plain": [
       "array([1852, 2454, 4305])"
      ]
     },
     "execution_count": 34,
     "metadata": {},
     "output_type": "execute_result"
    }
   ],
   "source": [
    "#Perkalian Matrix\n",
    "A @ B"
   ]
  },
  {
   "cell_type": "code",
   "execution_count": 33,
   "id": "49daaa09",
   "metadata": {},
   "outputs": [
    {
     "data": {
      "text/plain": [
       "array([[ 23,   7,  57],\n",
       "       [ 50,  12,  67],\n",
       "       [ 19, 109,  98]])"
      ]
     },
     "execution_count": 33,
     "metadata": {},
     "output_type": "execute_result"
    }
   ],
   "source": [
    "#Transpose\n",
    "A.T"
   ]
  },
  {
   "cell_type": "code",
   "execution_count": 43,
   "id": "94ccb58f",
   "metadata": {},
   "outputs": [
    {
     "data": {
      "text/plain": [
       "131344.0000000002"
      ]
     },
     "execution_count": 43,
     "metadata": {},
     "output_type": "execute_result"
    }
   ],
   "source": [
    "#determinan\n",
    "np.linalg.det(A)"
   ]
  },
  {
   "cell_type": "code",
   "execution_count": 44,
   "id": "1242ebcc",
   "metadata": {
    "scrolled": true
   },
   "outputs": [
    {
     "data": {
      "text/plain": [
       "array([[-0.0466485 , -0.02761451,  0.03975819],\n",
       "       [ 0.04208034,  0.00891552, -0.01807467],\n",
       "       [-0.00163692,  0.0099662 , -0.00056341]])"
      ]
     },
     "execution_count": 44,
     "metadata": {},
     "output_type": "execute_result"
    }
   ],
   "source": [
    "#Inverse\n",
    "np.linalg.inv(A)"
   ]
  },
  {
   "cell_type": "markdown",
   "id": "288b6aa5",
   "metadata": {},
   "source": [
    "## Non Graded Challenge 5"
   ]
  },
  {
   "cell_type": "code",
   "execution_count": 103,
   "id": "7a23a562",
   "metadata": {},
   "outputs": [
    {
     "data": {
      "text/plain": [
       "array([[ 1, -1],\n",
       "       [ 6,  4]])"
      ]
     },
     "execution_count": 103,
     "metadata": {},
     "output_type": "execute_result"
    }
   ],
   "source": [
    "#Eigenvector\n",
    "A = np.array([[1,-1],[6,4]])\n",
    "Ev = np.array([1,3])\n",
    "A"
   ]
  },
  {
   "cell_type": "code",
   "execution_count": 104,
   "id": "c8fe7962",
   "metadata": {},
   "outputs": [
    {
     "name": "stdout",
     "output_type": "stream",
     "text": [
      "[2.5+1.93649167j 2.5-1.93649167j] \n",
      "\n",
      "[[-0.23145502+0.29880715j -0.23145502-0.29880715j]\n",
      " [ 0.9258201 +0.j          0.9258201 -0.j        ]]\n"
     ]
    }
   ],
   "source": [
    "values, vector = np.linalg.eig(A)\n",
    "print(values, '\\n')\n",
    "print(vector)"
   ]
  },
  {
   "cell_type": "code",
   "execution_count": 106,
   "id": "99a7c61f",
   "metadata": {},
   "outputs": [
    {
     "data": {
      "text/plain": [
       "[(0.5320844700362038-0.18197220379275678j),\n",
       " (1.0641689400724077+0.36394440758551355j)]"
      ]
     },
     "execution_count": 106,
     "metadata": {},
     "output_type": "execute_result"
    }
   ],
   "source": [
    "[1/np.sqrt(2.5+1.93649167j), 2/np.sqrt(2.5-1.93649167j)]"
   ]
  },
  {
   "cell_type": "code",
   "execution_count": 96,
   "id": "5706bf0b",
   "metadata": {},
   "outputs": [
    {
     "data": {
      "text/plain": [
       "array([ 0, 50])"
      ]
     },
     "execution_count": 96,
     "metadata": {},
     "output_type": "execute_result"
    }
   ],
   "source": [
    "Ev2 = np.array([-0.23145502+0.29880715j , 0.9258201 +0.j])\n",
    "A @ Ev2"
   ]
  },
  {
   "cell_type": "markdown",
   "id": "04b62656",
   "metadata": {},
   "source": [
    "## Non Graded Challenge 6"
   ]
  },
  {
   "cell_type": "code",
   "execution_count": 69,
   "id": "bc0f85c6",
   "metadata": {},
   "outputs": [],
   "source": [
    "import sympy as sy\n",
    "x = sy.Symbol('x')\n",
    "#y = sy.Symbol('y')"
   ]
  },
  {
   "cell_type": "code",
   "execution_count": 67,
   "id": "01d40ca7",
   "metadata": {},
   "outputs": [
    {
     "data": {
      "text/latex": [
       "$\\displaystyle 2 x + 2$"
      ],
      "text/plain": [
       "2*x + 2"
      ]
     },
     "execution_count": 67,
     "metadata": {},
     "output_type": "execute_result"
    }
   ],
   "source": [
    "y = x**2 + 2*x + 1\n",
    "y.diff()"
   ]
  },
  {
   "cell_type": "code",
   "execution_count": 68,
   "id": "a14bf6e6",
   "metadata": {},
   "outputs": [
    {
     "data": {
      "text/latex": [
       "$\\displaystyle 12 x^{2} - 6 x + 2$"
      ],
      "text/plain": [
       "12*x**2 - 6*x + 2"
      ]
     },
     "execution_count": 68,
     "metadata": {},
     "output_type": "execute_result"
    }
   ],
   "source": [
    "g = 4*x**3 - 3*x**2 + 2*x -1\n",
    "g.diff()"
   ]
  },
  {
   "cell_type": "markdown",
   "id": "3e598dba",
   "metadata": {},
   "source": [
    "## Non Graded Challenge 7"
   ]
  },
  {
   "cell_type": "code",
   "execution_count": 107,
   "id": "0f8a0d1f",
   "metadata": {},
   "outputs": [],
   "source": [
    "f = 3*x + 4*y -5"
   ]
  },
  {
   "cell_type": "code",
   "execution_count": 108,
   "id": "beac95fe",
   "metadata": {},
   "outputs": [
    {
     "data": {
      "text/latex": [
       "$\\displaystyle 3 x + 4 y - 5$"
      ],
      "text/plain": [
       "3*x + 4*y - 5"
      ]
     },
     "execution_count": 108,
     "metadata": {},
     "output_type": "execute_result"
    }
   ],
   "source": [
    "x,y,z = sy.symbols('x y z')\n",
    "f = 3*x + 4*y -5\n",
    "f"
   ]
  },
  {
   "cell_type": "code",
   "execution_count": 111,
   "id": "bf1ad1de",
   "metadata": {},
   "outputs": [
    {
     "data": {
      "text/latex": [
       "$\\displaystyle 3$"
      ],
      "text/plain": [
       "3"
      ]
     },
     "execution_count": 111,
     "metadata": {},
     "output_type": "execute_result"
    }
   ],
   "source": [
    "f.diff(x)"
   ]
  },
  {
   "cell_type": "code",
   "execution_count": 112,
   "id": "de8a1b19",
   "metadata": {},
   "outputs": [
    {
     "data": {
      "text/latex": [
       "$\\displaystyle 4$"
      ],
      "text/plain": [
       "4"
      ]
     },
     "execution_count": 112,
     "metadata": {},
     "output_type": "execute_result"
    }
   ],
   "source": [
    "f.diff(y)"
   ]
  },
  {
   "cell_type": "markdown",
   "id": "bec6d209",
   "metadata": {},
   "source": [
    "## Non Graded Challenge 8"
   ]
  },
  {
   "cell_type": "code",
   "execution_count": 114,
   "id": "559092cb",
   "metadata": {},
   "outputs": [
    {
     "data": {
      "text/latex": [
       "$\\displaystyle 3 x^{3} - 6 x + 3$"
      ],
      "text/plain": [
       "3*x**3 - 6*x + 3"
      ]
     },
     "execution_count": 114,
     "metadata": {},
     "output_type": "execute_result"
    }
   ],
   "source": [
    "x = sy.Symbol('x')\n",
    "f = 3*x**3-6*x+3\n",
    "f"
   ]
  },
  {
   "cell_type": "code",
   "execution_count": 115,
   "id": "a605cfe4",
   "metadata": {},
   "outputs": [
    {
     "data": {
      "text/latex": [
       "$\\displaystyle \\frac{3 x^{4}}{4} - 3 x^{2} + 3 x$"
      ],
      "text/plain": [
       "3*x**4/4 - 3*x**2 + 3*x"
      ]
     },
     "execution_count": 115,
     "metadata": {},
     "output_type": "execute_result"
    }
   ],
   "source": [
    "sy.integrate(f)"
   ]
  },
  {
   "cell_type": "code",
   "execution_count": 116,
   "id": "a0a88437",
   "metadata": {
    "scrolled": true
   },
   "outputs": [
    {
     "data": {
      "text/latex": [
       "$\\displaystyle 2 x^{4} - \\frac{x^{3}}{3} + \\frac{5 x^{2}}{2} - x$"
      ],
      "text/plain": [
       "2*x**4 - x**3/3 + 5*x**2/2 - x"
      ]
     },
     "execution_count": 116,
     "metadata": {},
     "output_type": "execute_result"
    }
   ],
   "source": [
    "g = 8*x**3 - x**2 +5*x - 1\n",
    "sy.integrate(g)"
   ]
  },
  {
   "cell_type": "markdown",
   "id": "3600b6ff",
   "metadata": {},
   "source": [
    "## Non Graded Challenge 8"
   ]
  },
  {
   "cell_type": "code",
   "execution_count": null,
   "id": "eb9c0816",
   "metadata": {},
   "outputs": [],
   "source": []
  },
  {
   "cell_type": "markdown",
   "id": "4ce960d2",
   "metadata": {},
   "source": [
    "## Non Graded Challenge 9"
   ]
  },
  {
   "cell_type": "code",
   "execution_count": null,
   "id": "e938da94",
   "metadata": {},
   "outputs": [],
   "source": []
  }
 ],
 "metadata": {
  "kernelspec": {
   "display_name": "Python 3 (ipykernel)",
   "language": "python",
   "name": "python3"
  },
  "language_info": {
   "codemirror_mode": {
    "name": "ipython",
    "version": 3
   },
   "file_extension": ".py",
   "mimetype": "text/x-python",
   "name": "python",
   "nbconvert_exporter": "python",
   "pygments_lexer": "ipython3",
   "version": "3.8.12"
  }
 },
 "nbformat": 4,
 "nbformat_minor": 5
}
