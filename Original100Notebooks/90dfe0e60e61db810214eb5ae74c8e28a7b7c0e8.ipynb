{
 "cells": [
  {
   "cell_type": "markdown",
   "id": "4c8f5d33",
   "metadata": {},
   "source": [
    "# My Jupyter Notebook on IBM Watson Studio"
   ]
  },
  {
   "cell_type": "markdown",
   "id": "714ff268",
   "metadata": {},
   "source": [
    "# Satish T\n",
    "## Data Science\n"
   ]
  },
  {
   "cell_type": "markdown",
   "id": "7eb055fb",
   "metadata": {},
   "source": [
    "\n",
    "#Data science is one of the broadest fields available for individuals with a mathematical or statistical background. There are # plenty of open positions that require data science skills."
   ]
  },
  {
   "cell_type": "markdown",
   "id": "04b138d2",
   "metadata": {},
   "source": [
    "# The following code sets a numeric variable to 1 adds 1 to the variable. The value is printed in a sentence.\n"
   ]
  },
  {
   "cell_type": "code",
   "execution_count": 1,
   "id": "f622f560",
   "metadata": {},
   "outputs": [
    {
     "name": "stdout",
     "output_type": "stream",
     "text": [
      "The value of a is 2\n"
     ]
    }
   ],
   "source": [
    "\n",
    "a= 1 + 1\n",
    "print(\"The value of a is\", a)"
   ]
  },
  {
   "cell_type": "markdown",
   "id": "55574811",
   "metadata": {},
   "source": [
    "# Horizontal lines: Use three asterisks: ***"
   ]
  },
  {
   "cell_type": "markdown",
   "id": "0c162210",
   "metadata": {},
   "source": [
    "# Bullets: Use the dash sign (-) with a space after it or a space, a dash, and a space (-), to create a circular bullet. To create a sub bullet, use a tab followed a dash and a space. You can also use an asterisk instead of a dash, and it works the same."
   ]
  },
  {
   "cell_type": "code",
   "execution_count": null,
   "id": "d734846c",
   "metadata": {},
   "outputs": [],
   "source": []
  }
 ],
 "metadata": {
  "kernelspec": {
   "display_name": "Python 3 (ipykernel)",
   "language": "python",
   "name": "python3"
  },
  "language_info": {
   "codemirror_mode": {
    "name": "ipython",
    "version": 3
   },
   "file_extension": ".py",
   "mimetype": "text/x-python",
   "name": "python",
   "nbconvert_exporter": "python",
   "pygments_lexer": "ipython3",
   "version": "3.9.12"
  }
 },
 "nbformat": 4,
 "nbformat_minor": 5
}
