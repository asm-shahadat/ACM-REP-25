{
 "cells": [
  {
   "cell_type": "markdown",
   "id": "6e7c2a73",
   "metadata": {},
   "source": [
    "# Subsets\n",
    "\n",
    "## Introduction\n",
    "\n",
    "A huge number of coding interview problems involve dealing with [Permutations](https://en.wikipedia.org/wiki/Permutation) and [Combinations](https://en.wikipedia.org/wiki/Combination) of a given set of elements. This pattern describes an efficient **Breadth First Search (BFS)** approach to handle all these problems.\n",
    "\n",
    "Let’s jump onto our first problem to develop an understanding of this pattern."
   ]
  },
  {
   "cell_type": "markdown",
   "id": "32b48b1f",
   "metadata": {},
   "source": [
    "## Problem 1: Subsets\n",
    "\n",
    "Given a set with distinct elements, find all of its distinct subsets.\n",
    "\n",
    "<img src='img/1.png' width=\"600\" height=\"300\" align=\"center\"/>\n",
    "\n",
    "## Solution\n",
    "\n",
    "To generate all subsets of the given set, we can use the **Breadth First Search (BFS)** approach. We can start with an empty set, iterate through all numbers one-by-one, and add them to existing sets to create new subsets.\n",
    "\n",
    "Let’s take the example-2 mentioned above to go through each step of our algorithm:\n",
    "\n",
    "Given set: `[1, 5, 3]`\n",
    "\n",
    "1. Start with an empty set: `[[]]`\n",
    "2. Add the first number (1) to all the existing subsets to create new subsets: `[[], [1]]`;\n",
    "3. Add the second number (5) to all the existing subsets: `[[], [1], [5], [1,5]]`;\n",
    "4. Add the third number (3) to all the existing subsets: `[[], [1], [5], [1,5], [3], [1,3], [5,3], [1,5,3]]`.\n",
    "\n",
    "Here is the visual representation of the above steps:\n",
    "\n",
    "<img src='img/2.png' width=\"600\" height=\"300\" align=\"center\"/>\n",
    "\n",
    "Since the input set has distinct elements, the above steps will ensure that we will not have any duplicate subsets."
   ]
  },
  {
   "cell_type": "code",
   "execution_count": 1,
   "id": "5c75db28",
   "metadata": {},
   "outputs": [
    {
     "name": "stdout",
     "output_type": "stream",
     "text": [
      "Here is the list of subsets: [[], [1], [3], [1, 3]]\n",
      "Here is the list of subsets: [[], [1], [5], [1, 5], [3], [1, 3], [5, 3], [1, 5, 3]]\n"
     ]
    }
   ],
   "source": [
    "def find_subsets(nums):\n",
    "    subsets = []\n",
    "    # start by adding the empty subset\n",
    "    subsets.append([])\n",
    "    for currentNumber in nums:\n",
    "        # we will take all existing subsets and insert the current number in them to create new subsets\n",
    "        n = len(subsets)\n",
    "        for i in range(n):\n",
    "            # create a new subset from the existing subset and insert the current element to it\n",
    "            set1 = list(subsets[i])\n",
    "            set1.append(currentNumber)\n",
    "            subsets.append(set1)\n",
    "\n",
    "    return subsets\n",
    "\n",
    "\n",
    "def main():\n",
    "\n",
    "    print(\"Here is the list of subsets: \" + str(find_subsets([1, 3])))\n",
    "    print(\"Here is the list of subsets: \" + str(find_subsets([1, 5, 3])))\n",
    "\n",
    "\n",
    "main()\n"
   ]
  },
  {
   "cell_type": "markdown",
   "id": "e8401e4d",
   "metadata": {},
   "source": [
    "### Time complexity\n",
    "Since, in each step, the number of subsets doubles as we add each element to all the existing subsets, therefore, we will have a total of $O(2^N)$ subsets, where $N$ is the total number of elements in the input set. And since we construct a new subset from an existing set, therefore, the time complexity of the above algorithm will be $O(N*2^N)$.\n",
    "\n",
    "### Space complexity\n",
    "All the additional space used by our algorithm is for the output list. Since we will have a total of $O(2^N)$ subsets, and each subset can take up to $O(N)$ space, therefore, the space complexity of our algorithm will be $O(N*2^N)$.\n"
   ]
  },
  {
   "cell_type": "markdown",
   "id": "c8428c61",
   "metadata": {},
   "source": [
    "## Problem 2: Subsets with duplicates\n",
    "Given a set of numbers that might contain duplicates, find all of its distinct subsets.\n",
    "\n",
    "<img src='img/3.png' width=\"600\" height=\"300\" align=\"center\"/>\n",
    "\n",
    "## Solution\n",
    "This problem follows the **Subsets** pattern and we can follow a similar **Breadth First Search (BFS)** approach. The only additional thing we need to do is handle duplicates. Since the given set can have duplicate numbers, if we follow the same approach discussed in **Subsets**, we will end up with duplicate subsets, which is not acceptable. To handle this, we will do two extra things:\n",
    "\n",
    "1. Sort all numbers of the given set. This will ensure that all duplicate numbers are next to each other.\n",
    "2. Follow the same BFS approach but whenever we are about to process a duplicate (i.e., when the current and the previous numbers are same), instead of adding the current number (which is a duplicate) to all the existing subsets, only add it to the subsets which were created in the previous step.\n",
    "\n",
    "Let’s take Example-2 mentioned above to go through each step of our algorithm:\n",
    "\n",
    "<img src='img/4.png' width=\"600\" height=\"300\" align=\"center\"/>\n",
    "\n",
    "1. Start with an empty set: `[[]]`\n",
    "2. Add the first number (1) to all the existing subsets to create new subsets: `[[], [1]]`;\n",
    "3. Add the second number (3) to all the existing subsets: `[[], [1], [3], [1,3]]`.\n",
    "4. The next number (3) is a duplicate. If we add it to all existing subsets we will get:\n",
    "\n",
    "<img src='img/5.png' width=\"600\" height=\"300\" align=\"center\"/>\n",
    "\n",
    "To handle this instead of adding (3) to all the existing subsets, we only add it to the new subsets which were created in the previous (3rd) step:\n",
    "\n",
    "<img src='img/6.png' width=\"600\" height=\"300\" align=\"center\"/>\n",
    "\n",
    "5. Finally, add the fourth number (5) to all the existing subsets: `[[], [1], [3], [1,3], [3,3], [1,3,3], [5], [1,5], [3,5], [1,3,5], [3,3,5], [1,3,3,5]]`\n",
    "\n",
    "Here is the visual representation of the above steps:\n",
    "\n",
    "<img src='img/7.png' width=\"800\" height=\"400\" align=\"center\"/>"
   ]
  },
  {
   "cell_type": "code",
   "execution_count": 2,
   "id": "6e84e168",
   "metadata": {},
   "outputs": [
    {
     "name": "stdout",
     "output_type": "stream",
     "text": [
      "Here is the list of subsets: [[], [1], [3], [1, 3], [3, 3], [1, 3, 3]]\n",
      "Here is the list of subsets: [[], [1], [3], [1, 3], [3, 3], [1, 3, 3], [5], [1, 5], [3, 5], [1, 3, 5], [3, 3, 5], [1, 3, 3, 5]]\n"
     ]
    }
   ],
   "source": [
    "def find_subsets(nums):\n",
    "    # sort the numbers to handle duplicates\n",
    "    list.sort(nums)\n",
    "    subsets = []\n",
    "    subsets.append([])\n",
    "    startIndex, endIndex = 0, 0\n",
    "    for i in range(len(nums)):\n",
    "        startIndex = 0\n",
    "        # if current and the previous elements are same, create new subsets only from the subsets\n",
    "        # added in the previous step\n",
    "        if i > 0 and nums[i] == nums[i - 1]:\n",
    "            startIndex = endIndex + 1\n",
    "        endIndex = len(subsets) - 1\n",
    "        for j in range(startIndex, endIndex+1):\n",
    "            # create a new subset from the existing subset and add the current element to it\n",
    "            set1 = list(subsets[j])\n",
    "            set1.append(nums[i])\n",
    "            subsets.append(set1)\n",
    "    return subsets\n",
    "\n",
    "\n",
    "def main():\n",
    "\n",
    "    print(\"Here is the list of subsets: \" + str(find_subsets([1, 3, 3])))\n",
    "    print(\"Here is the list of subsets: \" + str(find_subsets([1, 5, 3, 3])))\n",
    "\n",
    "\n",
    "main()"
   ]
  },
  {
   "cell_type": "markdown",
   "id": "4c33346c",
   "metadata": {},
   "source": [
    "### Time complexity\n",
    "Since, in each step, the number of subsets doubles (if not duplicate) as we add each element to all the existing subsets, therefore, we will have a total of $O(2^N)$ subsets, where ‘N’ is the total number of elements in the input set. And since we construct a new subset from an existing set, therefore, the time complexity of the above algorithm will be $O(N*2^N)$.\n",
    "\n",
    "### Space complexity\n",
    "All the additional space used by our algorithm is for the output list. Since, at most, we will have a total of $O(2^N)$ subsets, and each subset can take up to O(N)space, therefore, the space complexity of our algorithm will be $O(N*2^N)$.\n",
    "\n"
   ]
  },
  {
   "cell_type": "markdown",
   "id": "586b118f",
   "metadata": {},
   "source": [
    "## Problem 3a: Permutations\n",
    "Given a set of distinct numbers, find all of its permutations.\n",
    "\n",
    "A **[permutation](https://en.wikipedia.org/wiki/Permutation)** is defined as the re-arranging of the elements of the set. For example, {1, 2, 3} has the following six permutations:\n",
    "\n",
    "1. {1, 2, 3}\n",
    "2. {1, 3, 2}\n",
    "3. {2, 1, 3}\n",
    "4. {2, 3, 1}\n",
    "5. {3, 1, 2}\n",
    "6. {3, 2, 1}\n",
    "\n",
    "If a set has `n` distinct elements it will have $n!$ permutations.\n",
    "\n",
    "<img src='img/9.png' width=\"600\" height=\"300\" align=\"center\"/>\n",
    "\n",
    "## Solution\n",
    "\n",
    "This problem follows the **Subsets** pattern and we can follow a similar **Breadth First Search (BFS)** approach. However, unlike **Subsets**, every permutation must contain all the numbers.\n",
    "\n",
    "Let’s take the example-1 mentioned above to generate all the permutations. Following a BFS approach, we will consider one number at a time:\n",
    "\n",
    "1. If the given set is empty then we have only an empty permutation set: `[]`\n",
    "2. Let’s add the first element (1), the permutations will be: `[1]`\n",
    "3. Let’s add the second element (3), the permutations will be: `[3,1], [1,3]`\n",
    "4. Let’s add the third element (5), the permutations will be: `[5,3,1], [3,5,1], [3,1,5], [5,1,3], [1,5,3], [1,3,5]`\n",
    "\n",
    "Let’s analyze the permutations in the 3rd and 4th step. How can we generate permutations in the 4th step from the permutations of the 3rd step?\n",
    "\n",
    "If we look closely, we will realize that when we add a new number (5), we take each permutation of the previous step and insert the new number in every position to generate the new permutations. For example, inserting ‘5’ in different positions of `[3,1]` will give us the following permutations:\n",
    "\n",
    "1. Inserting ‘5’ before ‘3’: `[5,3,1]`\n",
    "2. Inserting ‘5’ between ‘3’ and ‘1’: `[3,5,1]`\n",
    "3. Inserting ‘5’ after ‘1’: `[3,1,5]`\n",
    "\n",
    "Here is the visual representation of this algorithm:\n",
    "\n",
    "<img src='img/8.png' width=\"800\" height=\"400\" align=\"center\"/>"
   ]
  },
  {
   "cell_type": "code",
   "execution_count": 4,
   "id": "edc3ffeb",
   "metadata": {},
   "outputs": [
    {
     "name": "stdout",
     "output_type": "stream",
     "text": [
      "Here are all the permutations: [[5, 3, 1], [3, 5, 1], [3, 1, 5], [5, 1, 3], [1, 5, 3], [1, 3, 5]]\n"
     ]
    }
   ],
   "source": [
    "from collections import deque\n",
    "\n",
    "def find_permutations(nums):\n",
    "    numsLength = len(nums)\n",
    "    result = []\n",
    "    permutations = deque()\n",
    "    permutations.append([])\n",
    "    for currentNumber in nums:\n",
    "        # we will take all existing permutations and add the current number to create new permutations\n",
    "        n = len(permutations)\n",
    "        for _ in range(n):\n",
    "            oldPermutation = permutations.popleft()\n",
    "            # create a new permutation by adding the current number at every position\n",
    "            for j in range(len(oldPermutation)+1):\n",
    "                newPermutation = list(oldPermutation)\n",
    "                newPermutation.insert(j, currentNumber)\n",
    "                if len(newPermutation) == numsLength:\n",
    "                    result.append(newPermutation)\n",
    "                else:\n",
    "                    permutations.append(newPermutation)\n",
    "    \n",
    "    return result\n",
    "\n",
    "def main():\n",
    "    print(\"Here are all the permutations: \" + str(find_permutations([1, 3, 5])))\n",
    "\n",
    "main()"
   ]
  },
  {
   "cell_type": "markdown",
   "id": "f4fcaada",
   "metadata": {},
   "source": [
    "### Time complexity\n",
    "We know that there are a total of $N!$ permutations of a set with $N$ numbers. In the algorithm above, we are iterating through all of these permutations with the help of the two ‘for’ loops. In each iteration, we go through all the current permutations to insert a new number in them on line 17 (line 23 for C++ solution). To insert a number into a permutation of size $N$ will take $O(N)$, which makes the overall time complexity of our algorithm $O(N*N!)$.\n",
    "\n",
    "### Space complexity\n",
    "All the additional space used by our algorithm is for the result list and the queue to store the intermediate permutations. If you see closely, at any time, we don’t have more than $N!$ permutations between the result list and the queue. Therefore the overall space complexity to store $N!$ permutations each containing $N$ elements will be $O(N*N!)$.\n",
    "\n",
    "## Problem 3b: Recursive Solution\n",
    "Here is the recursive algorithm following a similar approach:"
   ]
  },
  {
   "cell_type": "code",
   "execution_count": 3,
   "id": "80536f82",
   "metadata": {},
   "outputs": [
    {
     "name": "stdout",
     "output_type": "stream",
     "text": [
      "Here are all the permutations: [[5, 3, 1], [3, 5, 1], [3, 1, 5], [5, 1, 3], [1, 5, 3], [1, 3, 5]]\n"
     ]
    }
   ],
   "source": [
    "def generate_permutations(nums):\n",
    "    result = []\n",
    "    generate_permutations_recursive(nums, 0, [], result)\n",
    "    return result\n",
    "\n",
    "\n",
    "def generate_permutations_recursive(nums, index, currentPermutation, result):\n",
    "    if index == len(nums):\n",
    "        result.append(currentPermutation)\n",
    "    else:\n",
    "        # create a new permutation by adding the current number at every position\n",
    "        for i in range(len(currentPermutation)+1):\n",
    "            newPermutation = list(currentPermutation)\n",
    "            newPermutation.insert(i, nums[index])\n",
    "            generate_permutations_recursive(nums, index + 1, newPermutation, result)\n",
    "\n",
    "def main():\n",
    "    print(\"Here are all the permutations: \" + str(generate_permutations([1, 3, 5])))\n",
    "\n",
    "\n",
    "main()"
   ]
  },
  {
   "cell_type": "markdown",
   "id": "6d65aa8d",
   "metadata": {},
   "source": [
    "## Problem 4: String permutations by changing case \n",
    "\n",
    "Given a string, find all of its permutations preserving the character sequence but changing case.\n",
    "\n",
    "<img src='img/10.png' width=\"600\" height=\"300\" align=\"center\"/>\n",
    "\n",
    "### Solution\n",
    "\n",
    "This problem follows the Subsets pattern and can be mapped to Permutations.\n",
    "\n",
    "Let’s take Example-2 mentioned above to generate all the permutations. Following a **BFS** approach, we will consider one character at a time. Since we need to preserve the character sequence, we can start with the actual string and process each character (i.e., make it upper-case or lower-case) one by one:\n",
    "\n",
    "1. Starting with the actual string: `\"ab7c\"`\n",
    "2. Processing the first character (`‘a’`), we will get two permutations: `\"ab7c\"`, `\"Ab7c\"`\n",
    "3. Processing the second character (`‘b’`), we will get four permutations: `\"ab7c\"`, `\"Ab7c\"`, `\"aB7c\"`, `\"AB7c\"`\n",
    "4. Since the third character is a digit, we can skip it.\n",
    "5. Processing the fourth character (`‘c’`), we will get a total of eight permutations: `\"ab7c\"`, `\"Ab7c\"`, `\"aB7c\"`, `\"AB7c\"`, `\"ab7C\"`, `\"Ab7C\"`, `\"aB7C\"`, `\"AB7C\"`\n",
    "\n",
    "Let’s analyze the permutations in the 3rd and the 5th step. How can we generate the permutations in the 5th step from the permutations in the 3rd step?\n",
    "\n",
    "If we look closely, we will realize that in the 5th step, when we processed the new character (`‘c’`), we took all the permutations of the previous step (3rd) and changed the case of the letter (`‘c’`) in them to create four new permutations.\n",
    "\n",
    "Here is the visual representation of this algorithm:\n",
    "\n",
    "<img src='img/11.png' width=\"800\" height=\"400\" align=\"center\"/>"
   ]
  },
  {
   "cell_type": "code",
   "execution_count": 1,
   "id": "661bd7b8",
   "metadata": {},
   "outputs": [
    {
     "name": "stdout",
     "output_type": "stream",
     "text": [
      "String permutations are: ['ad52', 'Ad52', 'aD52', 'AD52']\n",
      "String permutations are: ['ab7c', 'Ab7c', 'aB7c', 'AB7c', 'ab7C', 'Ab7C', 'aB7C', 'AB7C']\n"
     ]
    }
   ],
   "source": [
    "def find_letter_case_string_permutations(str):\n",
    "    permutations = []\n",
    "    permutations.append(str)\n",
    "    # process every character of the string one by one\n",
    "    for i in range(len(str)):\n",
    "        if str[i].isalpha():  # only process characters, skip digits\n",
    "            # we will take all existing permutations and change the letter case appropriately\n",
    "            n = len(permutations)\n",
    "            for j in range(n):\n",
    "                chs = list(permutations[j])\n",
    "                # if the current character is in upper case, change it to lower case or vice versa\n",
    "                chs[i] = chs[i].swapcase()\n",
    "                permutations.append(''.join(chs))\n",
    "\n",
    "    return permutations\n",
    "\n",
    "\n",
    "def main():\n",
    "    print(\"String permutations are: \" + str(find_letter_case_string_permutations(\"ad52\")))\n",
    "    print(\"String permutations are: \" + str(find_letter_case_string_permutations(\"ab7c\")))\n",
    "\n",
    "\n",
    "main()"
   ]
  },
  {
   "cell_type": "markdown",
   "id": "5e84f9d5",
   "metadata": {},
   "source": [
    "### Time complexity\n",
    "Since we can have $2^N$ permutations at the most and while processing each permutation we convert it into a character array, the overall time complexity of the algorithm will be $O(N*2^N)$.\n",
    "\n",
    "### Space complexity\n",
    "All the additional space used by our algorithm is for the output list. Since we can have a total of $O(2^N)$ permutations, the space complexity of our algorithm is $O(N*2^N)$."
   ]
  },
  {
   "cell_type": "markdown",
   "id": "c0855261",
   "metadata": {},
   "source": [
    "## Problem 5a: Balanced Parentheses\n",
    "For a given number $N$, write a function to generate all combination of $N$ pairs of balanced parentheses.\n",
    "\n",
    "<img src='img/12.png' width=\"600\" height=\"300\" align=\"center\"/>\n",
    "\n",
    "### Solution\n",
    "\n",
    "This problem follows the **Subsets** pattern and can be mapped to **Permutations**. We can follow a similar **BFS** approach.\n",
    "\n",
    "Let’s take Example-2 mentioned above to generate all the combinations of balanced parentheses. Following a BFS approach, we will keep adding open parentheses `(` or close parentheses `)`. At each step we need to keep two things in mind:\n",
    "\n",
    "- We can’t add more than $N$ open parenthesis.\n",
    "- To keep the parentheses balanced, we can add a close parenthesis `)` only when we have already added enough open parenthesis `(`. For this, we can keep a count of open and close parenthesis with every combination.\n",
    "\n",
    "Following this guideline, let’s generate parentheses for $N=3$:\n",
    "\n",
    "1. Start with an empty combination: `“”`\n",
    "2. At every step, let’s take all combinations of the previous step and add `(` or `)` keeping the above-mentioned two rules in mind.\n",
    "3. For the empty combination, we can add ( since the count of open parenthesis will be less than $N$. We can’t add `)` as we don’t have an equivalent open parenthesis, so our list of combinations will now be: `“(”`\n",
    "4. For the next iteration, let’s take all combinations of the previous set. For `“(”` we can add another `(` to it since the count of open parenthesis will be less than $N$. We can also add `)` as we do have an equivalent open parenthesis, so our list of combinations will be: `“((”`, `“()”`\n",
    "5. In the next iteration, for the first combination `“((”`, we can add another `(` to it as the count of open parenthesis will be less than $N$, we can also add `)` as we do have an equivalent open parenthesis. This gives us two new combinations: `“(((”` and `“(()”`. For the second combination `“()”`, we can add another `(` to it since the count of open parenthesis will be less than $N$. We can’t add `)` as we don’t have an equivalent open parenthesis, so our list of combinations will be: `“(((”`, `“(()”`, `\"()(\"`\n",
    "6. Following the same approach, next we will get the following list of combinations: `“((()”`, `“(()(”`, `“(())”`, `“()((”`, `“()()”`\n",
    "7. Next we will get: `“((())”`, `“(()()”`, `“(())(”`, `“()(()”`, `“()()(”`\n",
    "8. Finally, we will have the following combinations of balanced parentheses: `“((()))”`, `“(()())”`, `“(())()”`, `“()(())”`, `“()()()”`\n",
    "9. We can’t add more parentheses to any of the combinations, so we stop here.\n",
    "\n",
    "\n",
    "Here is the visual representation of this algorithm:\n",
    "\n",
    "<img src='img/13.png' width=\"800\" height=\"400\" align=\"center\"/>"
   ]
  },
  {
   "cell_type": "code",
   "execution_count": 11,
   "id": "871f8f7e",
   "metadata": {},
   "outputs": [
    {
     "name": "stdout",
     "output_type": "stream",
     "text": [
      "All combinations of balanced parentheses are: ['(())', '()()']\n",
      "All combinations of balanced parentheses are: ['((()))', '(()())', '(())()', '()(())', '()()()']\n"
     ]
    }
   ],
   "source": [
    "from collections import deque\n",
    "\n",
    "\n",
    "class ParenthesesString:\n",
    "    def __init__(self, str, openCount, closeCount):\n",
    "        self.str = str\n",
    "        self.openCount = openCount\n",
    "        self.closeCount = closeCount\n",
    "\n",
    "\n",
    "def generate_valid_parentheses(num):\n",
    "    result = []\n",
    "    queue = deque()\n",
    "    queue.append(ParenthesesString(\"\", 0, 0))\n",
    "    while queue:\n",
    "        ps = queue.popleft()\n",
    "        # if we've reached the maximum number of open and close parentheses, add to the result\n",
    "        if ps.openCount == num and ps.closeCount == num:\n",
    "            result.append(ps.str)\n",
    "        else:\n",
    "            if ps.openCount < num:  # if we can add an open parentheses, add it\n",
    "                queue.append(ParenthesesString(ps.str + \"(\", ps.openCount + 1, ps.closeCount))\n",
    "\n",
    "            if ps.openCount > ps.closeCount:  # if we can add a close parentheses, add it\n",
    "                queue.append(ParenthesesString(ps.str + \")\", ps.openCount, ps.closeCount + 1))\n",
    "\n",
    "    return result\n",
    "\n",
    "\n",
    "def main():\n",
    "    print(\"All combinations of balanced parentheses are: \" + str(generate_valid_parentheses(2)))\n",
    "    print(\"All combinations of balanced parentheses are: \" + str(generate_valid_parentheses(3)))\n",
    "\n",
    "\n",
    "main()"
   ]
  },
  {
   "cell_type": "markdown",
   "id": "a5284701",
   "metadata": {},
   "source": [
    "#### Time complexity\n",
    "Let’s try to estimate how many combinations we can have for $N$ pairs of balanced parentheses. If we don’t care for the ordering - *that `)` can only come after `(`* - then we have two options for every position, i.e., either put open parentheses or close parentheses. This means we can have a maximum of $2^N$ combinations. Because of the ordering, the actual number will be less than $2^N$.\n",
    "\n",
    "If you see the visual representation of Example-2 closely you will realize that, in the worst case, it is equivalent to a binary tree, where each node will have two children. This means that we will have $2^N$ leaf nodes and $2^N-1$ intermediate nodes. So the total number of elements pushed to the queue will be 2$^N + 2^N-1$, which is asymptotically equivalent to $O(2^N)$. While processing each element, we do need to concatenate the current string with `(` or `)`. This operation will take $O(N)$, so the overall time complexity of our algorithm will be $O(N*2^N)$. This is not completely accurate but reasonable enough to be presented in the interview. The actual time complexity ( $O(4^n/\\sqrt{n})$  ) is bounded by the **[Catalan number](https://en.wikipedia.org/wiki/Catalan_number)** and is beyond the scope of a coding interview. See more details **[here](https://en.wikipedia.org/wiki/Central_binomial_coefficient)**.\n",
    "\n",
    "#### Space complexity\n",
    "All the additional space used by our algorithm is for the output list. Since we can’t have more than $O(2^N)$ combinations, the space complexity of our algorithm is $O(N*2^N)$.\n",
    "\n",
    "## Problem 5b: Recursive Solution\n",
    "\n",
    "Here is the recursive algorithm following a similar approach:"
   ]
  },
  {
   "cell_type": "code",
   "execution_count": 10,
   "id": "01f9a887",
   "metadata": {},
   "outputs": [
    {
     "name": "stdout",
     "output_type": "stream",
     "text": [
      "All combinations of balanced parentheses are: ['(())', '()()']\n",
      "All combinations of balanced parentheses are: ['((()))', '(()())', '(())()', '()(())', '()()()']\n"
     ]
    }
   ],
   "source": [
    "def generate_valid_parentheses(num):\n",
    "    result = []\n",
    "    parenthesesString = [0 for x in range(2*num)]\n",
    "    generate_valid_parentheses_rec(num, 0, 0, parenthesesString, 0, result)\n",
    "    return result\n",
    "\n",
    "\n",
    "def generate_valid_parentheses_rec(num, openCount, closeCount, parenthesesString, index, result):\n",
    "\n",
    "    # if we've reached the maximum number of open and close parentheses, add to the result\n",
    "    if openCount == num and closeCount == num:\n",
    "        result.append(''.join(parenthesesString))\n",
    "    else:\n",
    "        if openCount < num:  # if we can add an open parentheses, add it\n",
    "            parenthesesString[index] = '('\n",
    "            generate_valid_parentheses_rec(num, \n",
    "                                           openCount + 1, \n",
    "                                           closeCount, \n",
    "                                           parenthesesString, \n",
    "                                           index + 1, \n",
    "                                           result)\n",
    "\n",
    "        if openCount > closeCount:  # if we can add a close parentheses, add it\n",
    "            parenthesesString[index] = ')'\n",
    "            generate_valid_parentheses_rec(num, \n",
    "                                           openCount, \n",
    "                                           closeCount + 1, \n",
    "                                           parenthesesString, \n",
    "                                           index + 1, \n",
    "                                           result)\n",
    "\n",
    "\n",
    "def main():\n",
    "    print(\"All combinations of balanced parentheses are: \" + str(generate_valid_parentheses(2)))\n",
    "    print(\"All combinations of balanced parentheses are: \" + str(generate_valid_parentheses(3)))\n",
    "\n",
    "\n",
    "main()"
   ]
  },
  {
   "cell_type": "code",
   "execution_count": null,
   "id": "49d3f92f",
   "metadata": {},
   "outputs": [],
   "source": []
  },
  {
   "cell_type": "code",
   "execution_count": null,
   "id": "69d1d563",
   "metadata": {},
   "outputs": [],
   "source": []
  },
  {
   "cell_type": "code",
   "execution_count": null,
   "id": "dd6be1b8",
   "metadata": {},
   "outputs": [],
   "source": []
  },
  {
   "cell_type": "code",
   "execution_count": null,
   "id": "b7b7859d",
   "metadata": {},
   "outputs": [],
   "source": []
  },
  {
   "cell_type": "code",
   "execution_count": null,
   "id": "8ad7ae11",
   "metadata": {},
   "outputs": [],
   "source": []
  },
  {
   "cell_type": "code",
   "execution_count": null,
   "id": "8c8549d9",
   "metadata": {},
   "outputs": [],
   "source": []
  },
  {
   "cell_type": "code",
   "execution_count": null,
   "id": "eb4d9c84",
   "metadata": {},
   "outputs": [],
   "source": []
  },
  {
   "cell_type": "markdown",
   "id": "0702e648",
   "metadata": {},
   "source": [
    "<img src='img/x.png' width=\"600\" height=\"300\" align=\"center\"/>"
   ]
  }
 ],
 "metadata": {
  "kernelspec": {
   "display_name": "Python 3",
   "language": "python",
   "name": "python3"
  },
  "language_info": {
   "codemirror_mode": {
    "name": "ipython",
    "version": 3
   },
   "file_extension": ".py",
   "mimetype": "text/x-python",
   "name": "python",
   "nbconvert_exporter": "python",
   "pygments_lexer": "ipython3",
   "version": "3.8.8"
  }
 },
 "nbformat": 4,
 "nbformat_minor": 5
}
