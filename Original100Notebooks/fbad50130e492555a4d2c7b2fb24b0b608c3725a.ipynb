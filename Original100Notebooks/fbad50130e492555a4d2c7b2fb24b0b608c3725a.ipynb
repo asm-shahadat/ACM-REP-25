{
 "cells": [
  {
   "cell_type": "markdown",
   "id": "collective-statistics",
   "metadata": {},
   "source": [
    "### Question:  \n",
    "Initialize two variables list of elements with using tf.constant, subtract them and print the result"
   ]
  },
  {
   "cell_type": "markdown",
   "id": "electric-kitty",
   "metadata": {},
   "source": [
    "### Level :\n",
    "Medium"
   ]
  },
  {
   "cell_type": "markdown",
   "id": "under-twelve",
   "metadata": {},
   "source": [
    "### Explanation :\n",
    "Library : [tensorflow]\n",
    "    \n",
    "Category : Tensorflow"
   ]
  },
  {
   "cell_type": "markdown",
   "id": "super-small",
   "metadata": {},
   "source": [
    "### Input format : \n",
    "List\n",
    "### Output format :  \n",
    "Shape, tensor values and datatype"
   ]
  },
  {
   "cell_type": "markdown",
   "id": "latest-ensemble",
   "metadata": {},
   "source": [
    "### Sample input : \n",
    "List of elements\n",
    "### Sample output :  \n",
    "tensor values"
   ]
  },
  {
   "cell_type": "markdown",
   "id": "physical-organizer",
   "metadata": {},
   "source": [
    "### Hints\n",
    "Hint01 : import tensorflow\n",
    "\n",
    "Hint02 : use tf.constant for inserting the values\n",
    "\n",
    "Hint03 : add both lists with using tf.math.subtract\n"
   ]
  },
  {
   "cell_type": "code",
   "execution_count": 1,
   "id": "prostate-funds",
   "metadata": {},
   "outputs": [
    {
     "name": "stdout",
     "output_type": "stream",
     "text": [
      "tf.Tensor([-2 -2], shape=(2,), dtype=int32)\n"
     ]
    }
   ],
   "source": [
    "import tensorflow as tf\n",
    "\n",
    "\n",
    "x1 = tf.constant([3,4])\n",
    "x2 = tf.constant([5,6])\n",
    "\n",
    "\n",
    "result = tf.subtract(x1, x2)\n",
    "\n",
    "print(result)"
   ]
  }
 ],
 "metadata": {
  "kernelspec": {
   "display_name": "Python 3",
   "language": "python",
   "name": "python3"
  },
  "language_info": {
   "codemirror_mode": {
    "name": "ipython",
    "version": 3
   },
   "file_extension": ".py",
   "mimetype": "text/x-python",
   "name": "python",
   "nbconvert_exporter": "python",
   "pygments_lexer": "ipython3",
   "version": "3.8.5"
  }
 },
 "nbformat": 4,
 "nbformat_minor": 5
}
