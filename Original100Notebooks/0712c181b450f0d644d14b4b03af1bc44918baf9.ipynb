{
 "cells": [
  {
   "cell_type": "markdown",
   "id": "39a779c1-7fbc-4031-b08d-c68448761942",
   "metadata": {},
   "source": [
    "# Assignment 4 - Feb 3 ' 23 - Functions"
   ]
  },
  {
   "cell_type": "markdown",
   "id": "9cbd1848-463a-4492-98bd-30253588961a",
   "metadata": {},
   "source": [
    "### 1. Which keyword is used to create a function? Create a function to return a list of odd numbers in the range of 1 to 25."
   ]
  },
  {
   "cell_type": "markdown",
   "id": "464e766d-ea05-4359-87b1-3c5ef044cec0",
   "metadata": {},
   "source": [
    "> * *def* is used to create a function."
   ]
  },
  {
   "cell_type": "code",
   "execution_count": 1,
   "id": "15d3e025-f712-444f-91db-de889f50601f",
   "metadata": {},
   "outputs": [
    {
     "data": {
      "text/plain": [
       "[1, 3, 5, 7, 9, 11, 13, 15, 17, 19, 21, 23]"
      ]
     },
     "execution_count": 1,
     "metadata": {},
     "output_type": "execute_result"
    }
   ],
   "source": [
    "# fn to return list of odd nos. in range 1 to 25\n",
    "\n",
    "def odd_nos(range_start, range_end):\n",
    "    l = []\n",
    "    for i in range(range_start, range_end):\n",
    "        if i%2 != 0:\n",
    "            l.append(i)\n",
    "    return l\n",
    "\n",
    "odd_nos(1,25)"
   ]
  },
  {
   "cell_type": "markdown",
   "id": "59bc3b68-0138-49a2-ba65-91338ce885cf",
   "metadata": {},
   "source": [
    "### 2.  Why *args and **kwargs is used in some functions? Create a function each for *args and **kwargs to demonstrate their use."
   ]
  },
  {
   "cell_type": "markdown",
   "id": "ef373192-d734-40d4-8c51-3052ce5133ff",
   "metadata": {},
   "source": [
    "* Special Symbols Used for passing arguments:-\n",
    "\n",
    "> * *args (Non-Keyword Arguments)\n",
    "> * **kwargs (Keyword Arguments)\n",
    "\n",
    "* The special syntax *args in function definitions in python is used to pass a variable number of arguments to a function. It is used to pass a non-key worded, variable-length argument list. It returns all those passed variables into a tuple.\n",
    "\n",
    "> * The syntax is to use the symbol * to take in a variable number of arguments; by convention, it is often used with the word args.\n",
    "> * What *args allows you to do is take in more arguments than the number of formal arguments that you previously defined. With *args, any number of extra arguments can be tacked on to your current formal parameters (including zero extra arguments).\n",
    "> * For example, we want to make a multiply function that takes any number of arguments and is able to multiply them all together. It can be done using *args.\n",
    "> * Using the *, the variable that we associate with the * becomes an iterable meaning you can do things like iterate over it, run some higher-order functions such as map and filter, etc.\n",
    "\n",
    "* The special syntax **kwargs in function definitions in python is used to pass a keyworded, variable-length argument list. We use the name kwargs with the double star. The reason is that the double star allows us to pass through keyword arguments (and any number of them).\n",
    "\n",
    "> * A keyword argument is where you provide a name to the variable as you pass it into the function.\n",
    "> * One can think of the kwargs as being a *dictionary* that maps each keyword to the value that we pass alongside it. That is why when we iterate over the kwargs there doesn’t seem to be any order in which they were printed out."
   ]
  },
  {
   "cell_type": "code",
   "execution_count": 5,
   "id": "f1603b71-f4ac-4d4c-945c-3feb42450d13",
   "metadata": {},
   "outputs": [
    {
     "data": {
      "text/plain": [
       "('Hello', ('Welcome', 'to'), ['Data', 'Science', 'Masters'], 2023)"
      ]
     },
     "execution_count": 5,
     "metadata": {},
     "output_type": "execute_result"
    }
   ],
   "source": [
    "# program to illustrate *args for a variable number of arguments\n",
    "\n",
    "def pwskills(*args):\n",
    "    for arg in args:\n",
    "        return args\n",
    " \n",
    " \n",
    "pwskills('Hello', ('Welcome', 'to'), ['Data', 'Science', 'Masters'], 2023)"
   ]
  },
  {
   "cell_type": "code",
   "execution_count": 9,
   "id": "29fcb146-a3b0-46ae-adb8-fbbd4db75ae0",
   "metadata": {},
   "outputs": [
    {
     "name": "stdout",
     "output_type": "stream",
     "text": [
      "name == PWskills\n",
      "course_name == ['Data', 'Science', 'Masters']\n",
      "batch == Impact\n",
      "year == 2023\n"
     ]
    }
   ],
   "source": [
    "# Python program to illustrate *kwargs for a variable number of keyword\n",
    "\n",
    "def course(**kwargs):\n",
    "    for key, value in kwargs.items():\n",
    "        print(\"%s == %s\" % (key, value))\n",
    " \n",
    " \n",
    "# Driver code\n",
    "course(name='PWskills', course_name=['Data', 'Science', 'Masters'], batch='Impact', year=2023)"
   ]
  },
  {
   "cell_type": "markdown",
   "id": "380e7e30-e6d3-4cb9-ad8f-64f38440f1cc",
   "metadata": {},
   "source": [
    "### 3.  What is an iterator in python? Name the method used to initialise the iterator object and the method used for iteration. Use these methods to print the first five elements of the given list [2, 4, 6, 8, 10, 12, 14, 16, 18, 20]."
   ]
  },
  {
   "cell_type": "markdown",
   "id": "3e8b803b-b1d2-4954-963f-39311d09eafd",
   "metadata": {},
   "source": [
    "* Iterator in Python is an object that is used to iterate over iterable objects like lists, tuples, dicts, and sets.\n",
    "* The iterator object is initialized using the iter() method. It uses the next() method for iteration.\n",
    "* Purpose of iterator - To allow for efficient access to elements in a sequence one at a time.\n",
    "> * __iter__(): The iter() method is called for the initialization of an iterator. This returns an iterator object\n",
    "> * __next__(): The next method returns the next value for the iterable. When we use a for loop to traverse any iterable object, internally it uses the iter() method to get an iterator object, which further uses the next() method to iterate over. This method raises a StopIteration to signal the end of the iteration."
   ]
  },
  {
   "cell_type": "code",
   "execution_count": 13,
   "id": "654a386d-c706-452d-ad32-c0d006584837",
   "metadata": {},
   "outputs": [
    {
     "name": "stdout",
     "output_type": "stream",
     "text": [
      "2\n",
      "4\n",
      "6\n",
      "8\n",
      "10\n"
     ]
    }
   ],
   "source": [
    "# iterator method to print first five elements of given list\n",
    "l = [2, 4, 6, 8, 10, 12, 14, 16, 18, 20]\n",
    "i = iter(l)\n",
    "\n",
    "print(next(i))\n",
    "print(next(i))\n",
    "print(next(i))\n",
    "print(next(i))\n",
    "print(next(i))"
   ]
  },
  {
   "cell_type": "markdown",
   "id": "e2673c79-e55f-4a97-ac10-9a65c7b63d86",
   "metadata": {},
   "source": [
    "### 4. What is a generator function in python? Why yield keyword is used? Give an example of a generator function."
   ]
  },
  {
   "cell_type": "markdown",
   "id": "8b8d84d9-4be5-4414-ad67-00dd9718eb7d",
   "metadata": {},
   "source": [
    "* **Generator-Function:** A generator-function is defined like a normal function, but whenever it needs to generate a value, it does so with the yield keyword rather than return. If the body of a def contains yield, the function automatically becomes a generator function. \n",
    "\n",
    "* **Generator-Object:** Generator functions return a generator object. Generator objects are used either by calling the next method on the generator object or using the generator object in a “for in” loop.\n",
    "\n",
    "* So a generator function returns an generator object that is iterable, i.e., can be used as an Iterators.\n",
    "\n",
    "* *yield* keyword is used to create a generator function. A type of function that is memory efficient and can be used like an iterator object.\n",
    "\n",
    "* Advantages of yield:\n",
    "\n",
    "> * Using yield keyword is highly memory efficient, since the execution happens only when the caller iterates over the object.\n",
    "> * As the variables states are saved, we can pause and resume from the same point, thus saving time."
   ]
  },
  {
   "cell_type": "code",
   "execution_count": 15,
   "id": "7261e6e9-7f9d-49e5-a64a-d9b0de37c6bc",
   "metadata": {},
   "outputs": [
    {
     "name": "stdout",
     "output_type": "stream",
     "text": [
      "0\n",
      "1\n",
      "1\n",
      "2\n",
      "3\n",
      "5\n",
      "8\n",
      "13\n",
      "21\n",
      "34\n"
     ]
    }
   ],
   "source": [
    "# generator fn to create fibonacci series\n",
    "\n",
    "def test_fib(n):\n",
    "    a,b = 0,1\n",
    "    for i in range(n):\n",
    "        yield a\n",
    "        a,b = b, a+b\n",
    "\n",
    "for i in test_fib(10):\n",
    "    print(i)"
   ]
  },
  {
   "cell_type": "markdown",
   "id": "38c89cb3-eb63-488e-9452-cfc4cf8ff9b8",
   "metadata": {},
   "source": [
    "### 5.  Create a generator function for prime numbers less than 1000. Use the next() method to print the first 20 prime numbers"
   ]
  },
  {
   "cell_type": "code",
   "execution_count": 23,
   "id": "0ae98558-d5c1-4d0a-815e-13049cd04d76",
   "metadata": {},
   "outputs": [
    {
     "name": "stdout",
     "output_type": "stream",
     "text": [
      "2\n",
      "3\n",
      "5\n",
      "7\n",
      "11\n",
      "13\n",
      "17\n",
      "19\n",
      "23\n",
      "29\n",
      "31\n",
      "37\n",
      "41\n",
      "43\n",
      "47\n",
      "53\n",
      "59\n",
      "61\n",
      "67\n",
      "71\n"
     ]
    }
   ],
   "source": [
    "# generator function for prime numbers less than 1000 and \n",
    "# using the next() method to print the first 20 prime numbers\n",
    "# to make this function dynamic, pass argument \"n\" in genprime() i.e def genprime(n), and \n",
    "# use while i < n\n",
    "\n",
    "def genprime():\n",
    "    i = 2\n",
    "    while i < 1000:\n",
    "        prime = True\n",
    "        for a in range(2, i):\n",
    "            if i % a == 0:\n",
    "                prime = False\n",
    "                break\n",
    "        if prime == True:\n",
    "            yield i\n",
    "        i = i+1\n",
    "\n",
    "prime_list = [x for x in genprime()]\n",
    "itr = iter(prime_list)\n",
    "\n",
    "for j in range(1,21):\n",
    "   print(next(itr))\n",
    "                "
   ]
  },
  {
   "cell_type": "code",
   "execution_count": null,
   "id": "e8e82895-b9c3-430e-93d2-a11dc6ee95aa",
   "metadata": {},
   "outputs": [],
   "source": []
  }
 ],
 "metadata": {
  "kernelspec": {
   "display_name": "Python 3 (ipykernel)",
   "language": "python",
   "name": "python3"
  },
  "language_info": {
   "codemirror_mode": {
    "name": "ipython",
    "version": 3
   },
   "file_extension": ".py",
   "mimetype": "text/x-python",
   "name": "python",
   "nbconvert_exporter": "python",
   "pygments_lexer": "ipython3",
   "version": "3.10.8"
  }
 },
 "nbformat": 4,
 "nbformat_minor": 5
}
