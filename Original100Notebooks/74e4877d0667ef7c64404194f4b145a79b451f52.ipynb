{
 "cells": [
  {
   "cell_type": "markdown",
   "id": "bbba9506",
   "metadata": {},
   "source": [
    "|Y \\ X|0|1|2|3|Pyi|\n",
    "|:-:|:-:|:-:|:-:|:-:|:-:|\n",
    "|0|0|0|0|C0|Py0|\n",
    "|1|0|0|C1|0|Py1|\n",
    "|2|0|C2|0|0|Py2|\n",
    "|3|C3|0|0|0|Py3|\n",
    "|Pxj|Px0|Px1|Px2|Px3|1|"
   ]
  },
  {
   "cell_type": "code",
   "execution_count": 71,
   "id": "0e5ea049",
   "metadata": {},
   "outputs": [],
   "source": [
    "A = {f\"Probability of standart detail\"}\n",
    "A = 0.6\n",
    "B = {f\"Probability of broken detail\"}\n",
    "B = 1 - A\n",
    "n = 3    # number of details inspected"
   ]
  },
  {
   "cell_type": "code",
   "execution_count": 72,
   "id": "9dbc9378",
   "metadata": {},
   "outputs": [
    {
     "name": "stdout",
     "output_type": "stream",
     "text": [
      "0.216 0.432 0.288 0.064\n"
     ]
    }
   ],
   "source": [
    "# C = B**Y * A**X * c\n",
    "# c (m, n) = n! / (m! * (n - m)!)\n",
    "C0 = B**0 * A**3 * 1    # (3! / (0! * 3!)) = 1\n",
    "C1 = B**1 * A**2 * 3    # (3! / (1! * 2!)) = 3\n",
    "C2 = B**2 * A**1 * 3    # (3! / (2! * 1!)) = 3\n",
    "C3 = B**3 * A**0 * 1    # (3! / (3! * 0!))  =1\n",
    "print(round(C0, 3), round(C1, 3), round(C2, 3), round(C3, 3))"
   ]
  },
  {
   "cell_type": "markdown",
   "id": "d6b09e42",
   "metadata": {},
   "source": [
    "|Y \\ X|0|1|2|3|Pyi|\n",
    "|:-:|:-:|:-:|:-:|:-:|:-:|\n",
    "|0|0|0|0|0.216|0.216|\n",
    "|1|0|0|0.432|0|0.432|\n",
    "|2|0|0.288|0|0|0.288|\n",
    "|3|0.064|0|0|0|0.064|\n",
    "|Pxj|0.064|0.288|0.432|0.216|1|"
   ]
  },
  {
   "cell_type": "markdown",
   "id": "8ee2c287",
   "metadata": {},
   "source": [
    "|X|0|1|2|3|\n",
    "|---|---|---|---|---|\n",
    "|P|0.064|0.288|0.432|0.216|\n",
    "\n",
    "|Y|0|1|2|3|\n",
    "|---|---|---|---|---|\n",
    "|P|0.216|0.432|0.288|0.064|"
   ]
  },
  {
   "cell_type": "code",
   "execution_count": 73,
   "id": "594c9e3c",
   "metadata": {
    "scrolled": false
   },
   "outputs": [
    {
     "name": "stdout",
     "output_type": "stream",
     "text": [
      "M_X = 1.8\n"
     ]
    }
   ],
   "source": [
    "X = [0, 1, 2, 3]\n",
    "P_X = [C3, C2, C1, C0]\n",
    "x = []\n",
    "for i1, i2 in zip(X, P_X):\n",
    "    x.append(i1*i2)\n",
    "M_X = sum(x)\n",
    "print(f\"M_X = {round(M_X, 3)}\")"
   ]
  },
  {
   "cell_type": "code",
   "execution_count": 74,
   "id": "b812e648",
   "metadata": {},
   "outputs": [
    {
     "name": "stdout",
     "output_type": "stream",
     "text": [
      "M_Y = 1.2\n"
     ]
    }
   ],
   "source": [
    "Y = [0, 1, 2, 3]\n",
    "P_Y = [C0, C1, C2, C3]\n",
    "y = []\n",
    "for i1, i2 in zip(Y, P_Y):\n",
    "    y.append(i1*i2)\n",
    "M_Y = sum(y)\n",
    "print(f\"M_Y = {round(M_Y, 3)}\")"
   ]
  },
  {
   "cell_type": "code",
   "execution_count": 75,
   "id": "949614dd",
   "metadata": {},
   "outputs": [
    {
     "name": "stdout",
     "output_type": "stream",
     "text": [
      "D_X = 0.72\n"
     ]
    }
   ],
   "source": [
    "x_2 = []\n",
    "for i1, i2 in zip(X, P_X):\n",
    "    x_2.append((i1**2)*i2)\n",
    "M_X_2 = sum(x_2)\n",
    "# D_X = M * (X - M * X)**2\n",
    "D_X = M_X_2 - M_X**2\n",
    "print(f\"D_X = {round(D_X, 3)}\")"
   ]
  },
  {
   "cell_type": "code",
   "execution_count": 76,
   "id": "6659d498",
   "metadata": {},
   "outputs": [
    {
     "name": "stdout",
     "output_type": "stream",
     "text": [
      "D_Y = 0.72\n"
     ]
    }
   ],
   "source": [
    "y_2 = []\n",
    "for i1, i2 in zip(Y, P_Y):\n",
    "    y_2.append((i1**2)*i2)\n",
    "M_Y_2 = sum(y_2)\n",
    "# D_Y = M * (Y - M * Y)**2\n",
    "D_Y = M_Y_2 - M_Y**2\n",
    "print(f\"D_Y = {round(D_Y, 3)}\")"
   ]
  },
  {
   "cell_type": "code",
   "execution_count": 77,
   "id": "f749fc01",
   "metadata": {},
   "outputs": [
    {
     "name": "stdout",
     "output_type": "stream",
     "text": [
      "d_X = 0.849\n",
      "d_Y = 0.849\n"
     ]
    }
   ],
   "source": [
    "# dispersion\n",
    "d_X = round(D_X**(1/2), 3)\n",
    "d_Y = round(D_Y**(1/2), 3)\n",
    "print(f\"d_X = {d_X}\")\n",
    "print(f\"d_Y = {d_Y}\")"
   ]
  },
  {
   "cell_type": "code",
   "execution_count": 78,
   "id": "dc063397",
   "metadata": {},
   "outputs": [
    {
     "name": "stdout",
     "output_type": "stream",
     "text": [
      "M_XY = 1.44\n",
      "cov_XY = -0.72\n"
     ]
    }
   ],
   "source": [
    "# covariance\n",
    "xy = []\n",
    "counter = 3\n",
    "for i1, i2 in zip(X, P_X):\n",
    "    xy.append(i1*i2*counter)\n",
    "    counter -=1\n",
    "M_XY = sum(xy)\n",
    "cov_XY = M_XY - M_X * M_Y\n",
    "print(f\"M_XY = {M_XY}\")\n",
    "print(f\"cov_XY = {round(cov_XY, 3)}\")"
   ]
  },
  {
   "cell_type": "code",
   "execution_count": 79,
   "id": "5ff46304",
   "metadata": {},
   "outputs": [
    {
     "name": "stdout",
     "output_type": "stream",
     "text": [
      "r_XY = -0.999\n"
     ]
    }
   ],
   "source": [
    "# Correlation coefficient\n",
    "r_XY = cov_XY / (d_X * d_Y)\n",
    "print(f\"r_XY = {round(r_XY, 3)}\")"
   ]
  }
 ],
 "metadata": {
  "kernelspec": {
   "display_name": "Python 3 (ipykernel)",
   "language": "python",
   "name": "python3"
  },
  "language_info": {
   "codemirror_mode": {
    "name": "ipython",
    "version": 3
   },
   "file_extension": ".py",
   "mimetype": "text/x-python",
   "name": "python",
   "nbconvert_exporter": "python",
   "pygments_lexer": "ipython3",
   "version": "3.10.6"
  }
 },
 "nbformat": 4,
 "nbformat_minor": 5
}
